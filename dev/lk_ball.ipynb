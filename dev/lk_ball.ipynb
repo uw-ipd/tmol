{
 "cells": [
  {
   "cell_type": "code",
   "execution_count": 106,
   "metadata": {},
   "outputs": [],
   "source": [
    "import sympy\n",
    "\n",
    "def get_M(a, b, b0):\n",
    "    X = a-b\n",
    "    X = X / sympy.sqrt( X.dot(X) )\n",
    "    Z = X.cross(b0-b)\n",
    "    Z = Z / sympy.sqrt( Z.dot(Z) )\n",
    "    Y = Z.cross(X)\n",
    "    M=sympy.Matrix([[X[0],Y[0],Z[0]],[X[1],Y[1],Z[1]],[X[2],Y[2],Z[2]]])\n",
    "    return sympy.simplify(M)\n",
    "\n",
    "def get_W(dist, ca,ct,sa,st):\n",
    "    W = sympy.Matrix([\n",
    "         dist * ca,\n",
    "         dist * sa * ct,\n",
    "         dist * sa * st\n",
    "    ])\n",
    "    return W\n",
    "\n",
    "def build_acc_water( a, b, b0, dist, ca,ct,sa,st ):\n",
    "    M=get_M(a, b, b0)\n",
    "    wat_loc = get_W(dist, ca,ct,sa,st)\n",
    "    water = M*wat_loc + a\n",
    "    return water\n",
    "\n",
    "ax,ay,az = sympy.symbols('A[0],A[1],A[2]')\n",
    "A = sympy.Matrix([ax,ay,az])\n",
    "bx,by,bz = sympy.symbols('B[0],B[1],B[2]')\n",
    "B = sympy.Matrix([bx,by,bz])\n",
    "b0x,b0y,b0z = sympy.symbols('B0[0],B0[1],B0[2]')\n",
    "B0 = sympy.Matrix([b0x,b0y,b0z])\n",
    "d,ca,ct,sa,st = sympy.symbols('dist,cos_a,cos_t,sin_a,sin_t') # cos_a=cos(pi-a)\n",
    "sympy.init_printing(False)\n",
    "\n",
    "acc_wat = build_acc_water(A,B,B0,d,ca,ct,sa,st)"
   ]
  },
  {
   "cell_type": "code",
   "execution_count": 151,
   "metadata": {},
   "outputs": [],
   "source": [
    "a_m_b,a_m_b2,b0_m_b = sympy.symbols('a_m_b,a_m_b2,b0_m_b')\n",
    "ab_x,ab_y,ab_z = sympy.symbols('AB[0],AB[1],AB[2]')\n",
    "bb0_x,bb0_y,bb0_z = sympy.symbols('BB0[0],BB0[1],BB0[2]')\n",
    "axb_x,axb_y,axb_z = sympy.symbols('AXB[0],AXB[1],AXB[2]')\n",
    "\n",
    "Derivs={}\n",
    "for s in (ax,ay,az,bx,by,bz,b0x,b0y,b0z):\n",
    "    Derivs[s] = sympy.diff(acc_wat,s)\n",
    "    Derivs[s] = Derivs[s].subs(sympy.sqrt((ax-bx)**2+(ay-by)**2+(az-bz)**2), a_m_b)\n",
    "    Derivs[s] = Derivs[s].subs(a_m_b**2, a_m_b2)\n",
    "    Derivs[s] = Derivs[s].subs(sympy.sqrt((b0x-bx)**2+(b0y-by)**2+(b0z-bz)**2), b0_m_b)\n",
    "    Derivs[s] = Derivs[s].subs((ax - bx), ab_x)\n",
    "    Derivs[s] = Derivs[s].subs((ay - by), ab_y)\n",
    "    Derivs[s] = Derivs[s].subs((az - bz), ab_z)\n",
    "    Derivs[s] = Derivs[s].subs((b0x - bx), bb0_x)\n",
    "    Derivs[s] = Derivs[s].subs((b0y - by), bb0_y)\n",
    "    Derivs[s] = Derivs[s].subs((b0z - bz), bb0_z)\n",
    "    Derivs[s] = Derivs[s].subs(ab_x*bb0_y - ab_y*bb0_x, axb_z)\n",
    "    Derivs[s] = Derivs[s].subs(ab_x*bb0_z - ab_z*bb0_x, axb_y)\n",
    "    Derivs[s] = Derivs[s].subs(ab_y*bb0_z - ab_z*bb0_y, axb_x)\n",
    "    Derivs[s] = Derivs[s].subs(axb_x**2 +axb_y**2+axb_z**2, 'axb2')"
   ]
  },
  {
   "cell_type": "code",
   "execution_count": 154,
   "metadata": {},
   "outputs": [
    {
     "data": {
      "text/plain": [
       "{A[0]: Matrix([\n",
       "[                                  -AB[0]**2*cos_a*dist/a_m_b**3 - AB[0]*AXB[0]*dist*sin_a*sin_t/(a_m_b**3*sqrt(axb2/a_m_b2)) + AXB[0]*a_m_b*dist*sin_a*sin_t*(-(AXB[1]*(2*B0[2] - 2*B[2]) + AXB[2]*(2*B0[1] - 2*B[1]))/(2*a_m_b2) - axb2*(-2*A[0] + 2*B[0])/(2*a_m_b2**2))/(axb2*sqrt(axb2/a_m_b2)) + 1 - cos_t*dist*sin_a*(AB[1]*AXB[2] + AB[2]*AXB[1])*(-(AXB[1]*(2*B0[2] - 2*B[2]) + AXB[2]*(2*B0[1] - 2*B[1]))/(2*a_m_b2) - axb2*(-2*A[0] + 2*B[0])/(2*a_m_b2**2))/(axb2*sqrt(axb2/a_m_b2)) - cos_t*dist*sin_a*(AB[1]*BB0[1] + AB[2]*BB0[2])/(a_m_b2*sqrt(axb2/a_m_b2)) - cos_t*dist*sin_a*(-2*A[0] + 2*B[0])*(AB[1]*AXB[2] + AB[2]*AXB[1])/(a_m_b2**2*sqrt(axb2/a_m_b2)) + cos_a*dist/a_m_b],\n",
       "[-AB[0]*AB[1]*cos_a*dist/a_m_b**3 + AB[0]*AXB[1]*dist*sin_a*sin_t/(a_m_b**3*sqrt(axb2/a_m_b2)) - AXB[1]*a_m_b*dist*sin_a*sin_t*(-(AXB[1]*(2*B0[2] - 2*B[2]) + AXB[2]*(2*B0[1] - 2*B[1]))/(2*a_m_b2) - axb2*(-2*A[0] + 2*B[0])/(2*a_m_b2**2))/(axb2*sqrt(axb2/a_m_b2)) - BB0[2]*dist*sin_a*sin_t/(a_m_b*sqrt(axb2/a_m_b2)) + cos_t*dist*sin_a*(AB[0]*AXB[2] - AB[2]*AXB[0])*(-(AXB[1]*(2*B0[2] - 2*B[2]) + AXB[2]*(2*B0[1] - 2*B[1]))/(2*a_m_b2) - axb2*(-2*A[0] + 2*B[0])/(2*a_m_b2**2))/(axb2*sqrt(axb2/a_m_b2)) + cos_t*dist*sin_a*(2*AB[0]*BB0[1] - AB[1]*BB0[0])/(a_m_b2*sqrt(axb2/a_m_b2)) + cos_t*dist*sin_a*(-2*A[0] + 2*B[0])*(AB[0]*AXB[2] - AB[2]*AXB[0])/(a_m_b2**2*sqrt(axb2/a_m_b2))],\n",
       "[-AB[0]*AB[2]*cos_a*dist/a_m_b**3 - AB[0]*AXB[2]*dist*sin_a*sin_t/(a_m_b**3*sqrt(axb2/a_m_b2)) + AXB[2]*a_m_b*dist*sin_a*sin_t*(-(AXB[1]*(2*B0[2] - 2*B[2]) + AXB[2]*(2*B0[1] - 2*B[1]))/(2*a_m_b2) - axb2*(-2*A[0] + 2*B[0])/(2*a_m_b2**2))/(axb2*sqrt(axb2/a_m_b2)) + BB0[1]*dist*sin_a*sin_t/(a_m_b*sqrt(axb2/a_m_b2)) + cos_t*dist*sin_a*(AB[0]*AXB[1] + AB[1]*AXB[0])*(-(AXB[1]*(2*B0[2] - 2*B[2]) + AXB[2]*(2*B0[1] - 2*B[1]))/(2*a_m_b2) - axb2*(-2*A[0] + 2*B[0])/(2*a_m_b2**2))/(axb2*sqrt(axb2/a_m_b2)) + cos_t*dist*sin_a*(2*AB[0]*BB0[2] - AB[2]*BB0[0])/(a_m_b2*sqrt(axb2/a_m_b2)) + cos_t*dist*sin_a*(-2*A[0] + 2*B[0])*(AB[0]*AXB[1] + AB[1]*AXB[0])/(a_m_b2**2*sqrt(axb2/a_m_b2))]]), A[1]: Matrix([\n",
       "[-AB[0]*AB[1]*cos_a*dist/a_m_b**3 - AB[1]*AXB[0]*dist*sin_a*sin_t/(a_m_b**3*sqrt(axb2/a_m_b2)) + AXB[0]*a_m_b*dist*sin_a*sin_t*(-(AXB[0]*(2*B0[2] - 2*B[2]) + AXB[2]*(-2*B0[0] + 2*B[0]))/(2*a_m_b2) - axb2*(-2*A[1] + 2*B[1])/(2*a_m_b2**2))/(axb2*sqrt(axb2/a_m_b2)) + BB0[2]*dist*sin_a*sin_t/(a_m_b*sqrt(axb2/a_m_b2)) - cos_t*dist*sin_a*(AB[1]*AXB[2] + AB[2]*AXB[1])*(-(AXB[0]*(2*B0[2] - 2*B[2]) + AXB[2]*(-2*B0[0] + 2*B[0]))/(2*a_m_b2) - axb2*(-2*A[1] + 2*B[1])/(2*a_m_b2**2))/(axb2*sqrt(axb2/a_m_b2)) - cos_t*dist*sin_a*(AB[0]*BB0[1] - 2*AB[1]*BB0[0])/(a_m_b2*sqrt(axb2/a_m_b2)) - cos_t*dist*sin_a*(-2*A[1] + 2*B[1])*(AB[1]*AXB[2] + AB[2]*AXB[1])/(a_m_b2**2*sqrt(axb2/a_m_b2))],\n",
       "[                                 -AB[1]**2*cos_a*dist/a_m_b**3 + AB[1]*AXB[1]*dist*sin_a*sin_t/(a_m_b**3*sqrt(axb2/a_m_b2)) - AXB[1]*a_m_b*dist*sin_a*sin_t*(-(AXB[0]*(2*B0[2] - 2*B[2]) + AXB[2]*(-2*B0[0] + 2*B[0]))/(2*a_m_b2) - axb2*(-2*A[1] + 2*B[1])/(2*a_m_b2**2))/(axb2*sqrt(axb2/a_m_b2)) + 1 + cos_t*dist*sin_a*(AB[0]*AXB[2] - AB[2]*AXB[0])*(-(AXB[0]*(2*B0[2] - 2*B[2]) + AXB[2]*(-2*B0[0] + 2*B[0]))/(2*a_m_b2) - axb2*(-2*A[1] + 2*B[1])/(2*a_m_b2**2))/(axb2*sqrt(axb2/a_m_b2)) + cos_t*dist*sin_a*(-AB[0]*BB0[0] - AB[2]*BB0[2])/(a_m_b2*sqrt(axb2/a_m_b2)) + cos_t*dist*sin_a*(-2*A[1] + 2*B[1])*(AB[0]*AXB[2] - AB[2]*AXB[0])/(a_m_b2**2*sqrt(axb2/a_m_b2)) + cos_a*dist/a_m_b],\n",
       "[-AB[1]*AB[2]*cos_a*dist/a_m_b**3 - AB[1]*AXB[2]*dist*sin_a*sin_t/(a_m_b**3*sqrt(axb2/a_m_b2)) + AXB[2]*a_m_b*dist*sin_a*sin_t*(-(AXB[0]*(2*B0[2] - 2*B[2]) + AXB[2]*(-2*B0[0] + 2*B[0]))/(2*a_m_b2) - axb2*(-2*A[1] + 2*B[1])/(2*a_m_b2**2))/(axb2*sqrt(axb2/a_m_b2)) - BB0[0]*dist*sin_a*sin_t/(a_m_b*sqrt(axb2/a_m_b2)) + cos_t*dist*sin_a*(AB[0]*AXB[1] + AB[1]*AXB[0])*(-(AXB[0]*(2*B0[2] - 2*B[2]) + AXB[2]*(-2*B0[0] + 2*B[0]))/(2*a_m_b2) - axb2*(-2*A[1] + 2*B[1])/(2*a_m_b2**2))/(axb2*sqrt(axb2/a_m_b2)) + cos_t*dist*sin_a*(2*AB[1]*BB0[2] - AB[2]*BB0[1])/(a_m_b2*sqrt(axb2/a_m_b2)) + cos_t*dist*sin_a*(-2*A[1] + 2*B[1])*(AB[0]*AXB[1] + AB[1]*AXB[0])/(a_m_b2**2*sqrt(axb2/a_m_b2))]]), A[2]: Matrix([\n",
       "[ -AB[0]*AB[2]*cos_a*dist/a_m_b**3 - AB[2]*AXB[0]*dist*sin_a*sin_t/(a_m_b**3*sqrt(axb2/a_m_b2)) + AXB[0]*a_m_b*dist*sin_a*sin_t*(-(AXB[0]*(-2*B0[1] + 2*B[1]) + AXB[1]*(-2*B0[0] + 2*B[0]))/(2*a_m_b2) - axb2*(-2*A[2] + 2*B[2])/(2*a_m_b2**2))/(axb2*sqrt(axb2/a_m_b2)) - BB0[1]*dist*sin_a*sin_t/(a_m_b*sqrt(axb2/a_m_b2)) - cos_t*dist*sin_a*(AB[1]*AXB[2] + AB[2]*AXB[1])*(-(AXB[0]*(-2*B0[1] + 2*B[1]) + AXB[1]*(-2*B0[0] + 2*B[0]))/(2*a_m_b2) - axb2*(-2*A[2] + 2*B[2])/(2*a_m_b2**2))/(axb2*sqrt(axb2/a_m_b2)) - cos_t*dist*sin_a*(AB[0]*BB0[2] - 2*AB[2]*BB0[0])/(a_m_b2*sqrt(axb2/a_m_b2)) - cos_t*dist*sin_a*(-2*A[2] + 2*B[2])*(AB[1]*AXB[2] + AB[2]*AXB[1])/(a_m_b2**2*sqrt(axb2/a_m_b2))],\n",
       "[-AB[1]*AB[2]*cos_a*dist/a_m_b**3 + AB[2]*AXB[1]*dist*sin_a*sin_t/(a_m_b**3*sqrt(axb2/a_m_b2)) - AXB[1]*a_m_b*dist*sin_a*sin_t*(-(AXB[0]*(-2*B0[1] + 2*B[1]) + AXB[1]*(-2*B0[0] + 2*B[0]))/(2*a_m_b2) - axb2*(-2*A[2] + 2*B[2])/(2*a_m_b2**2))/(axb2*sqrt(axb2/a_m_b2)) + BB0[0]*dist*sin_a*sin_t/(a_m_b*sqrt(axb2/a_m_b2)) + cos_t*dist*sin_a*(AB[0]*AXB[2] - AB[2]*AXB[0])*(-(AXB[0]*(-2*B0[1] + 2*B[1]) + AXB[1]*(-2*B0[0] + 2*B[0]))/(2*a_m_b2) - axb2*(-2*A[2] + 2*B[2])/(2*a_m_b2**2))/(axb2*sqrt(axb2/a_m_b2)) + cos_t*dist*sin_a*(-AB[1]*BB0[2] + 2*AB[2]*BB0[1])/(a_m_b2*sqrt(axb2/a_m_b2)) + cos_t*dist*sin_a*(-2*A[2] + 2*B[2])*(AB[0]*AXB[2] - AB[2]*AXB[0])/(a_m_b2**2*sqrt(axb2/a_m_b2))],\n",
       "[                                  -AB[2]**2*cos_a*dist/a_m_b**3 - AB[2]*AXB[2]*dist*sin_a*sin_t/(a_m_b**3*sqrt(axb2/a_m_b2)) + AXB[2]*a_m_b*dist*sin_a*sin_t*(-(AXB[0]*(-2*B0[1] + 2*B[1]) + AXB[1]*(-2*B0[0] + 2*B[0]))/(2*a_m_b2) - axb2*(-2*A[2] + 2*B[2])/(2*a_m_b2**2))/(axb2*sqrt(axb2/a_m_b2)) + 1 + cos_t*dist*sin_a*(AB[0]*AXB[1] + AB[1]*AXB[0])*(-(AXB[0]*(-2*B0[1] + 2*B[1]) + AXB[1]*(-2*B0[0] + 2*B[0]))/(2*a_m_b2) - axb2*(-2*A[2] + 2*B[2])/(2*a_m_b2**2))/(axb2*sqrt(axb2/a_m_b2)) + cos_t*dist*sin_a*(-AB[0]*BB0[0] - AB[1]*BB0[1])/(a_m_b2*sqrt(axb2/a_m_b2)) + cos_t*dist*sin_a*(-2*A[2] + 2*B[2])*(AB[0]*AXB[1] + AB[1]*AXB[0])/(a_m_b2**2*sqrt(axb2/a_m_b2)) + cos_a*dist/a_m_b]]), B0[0]: Matrix([\n",
       "[                                        -AXB[0]*dist*sin_a*sin_t*(AXB[1]*(-2*A[2] + 2*B[2]) + AXB[2]*(-2*A[1] + 2*B[1]))/(2*a_m_b*axb2*sqrt(axb2/a_m_b2)) - cos_t*dist*sin_a*(-AB[1]**2 - AB[2]**2)/(a_m_b2*sqrt(axb2/a_m_b2)) + cos_t*dist*sin_a*(AB[1]*AXB[2] + AB[2]*AXB[1])*(AXB[1]*(-2*A[2] + 2*B[2]) + AXB[2]*(-2*A[1] + 2*B[1]))/(2*a_m_b2*axb2*sqrt(axb2/a_m_b2))],\n",
       "[-AB[0]*AB[1]*cos_t*dist*sin_a/(a_m_b2*sqrt(axb2/a_m_b2)) + AB[2]*dist*sin_a*sin_t/(a_m_b*sqrt(axb2/a_m_b2)) + AXB[1]*dist*sin_a*sin_t*(AXB[1]*(-2*A[2] + 2*B[2]) + AXB[2]*(-2*A[1] + 2*B[1]))/(2*a_m_b*axb2*sqrt(axb2/a_m_b2)) - cos_t*dist*sin_a*(AB[0]*AXB[2] - AB[2]*AXB[0])*(AXB[1]*(-2*A[2] + 2*B[2]) + AXB[2]*(-2*A[1] + 2*B[1]))/(2*a_m_b2*axb2*sqrt(axb2/a_m_b2))],\n",
       "[-AB[0]*AB[2]*cos_t*dist*sin_a/(a_m_b2*sqrt(axb2/a_m_b2)) - AB[1]*dist*sin_a*sin_t/(a_m_b*sqrt(axb2/a_m_b2)) - AXB[2]*dist*sin_a*sin_t*(AXB[1]*(-2*A[2] + 2*B[2]) + AXB[2]*(-2*A[1] + 2*B[1]))/(2*a_m_b*axb2*sqrt(axb2/a_m_b2)) - cos_t*dist*sin_a*(AB[0]*AXB[1] + AB[1]*AXB[0])*(AXB[1]*(-2*A[2] + 2*B[2]) + AXB[2]*(-2*A[1] + 2*B[1]))/(2*a_m_b2*axb2*sqrt(axb2/a_m_b2))]]), B0[1]: Matrix([\n",
       "[-AB[0]*AB[1]*cos_t*dist*sin_a/(a_m_b2*sqrt(axb2/a_m_b2)) - AB[2]*dist*sin_a*sin_t/(a_m_b*sqrt(axb2/a_m_b2)) - AXB[0]*dist*sin_a*sin_t*(AXB[0]*(-2*A[2] + 2*B[2]) + AXB[2]*(2*A[0] - 2*B[0]))/(2*a_m_b*axb2*sqrt(axb2/a_m_b2)) + cos_t*dist*sin_a*(AB[1]*AXB[2] + AB[2]*AXB[1])*(AXB[0]*(-2*A[2] + 2*B[2]) + AXB[2]*(2*A[0] - 2*B[0]))/(2*a_m_b2*axb2*sqrt(axb2/a_m_b2))],\n",
       "[                                          AXB[1]*dist*sin_a*sin_t*(AXB[0]*(-2*A[2] + 2*B[2]) + AXB[2]*(2*A[0] - 2*B[0]))/(2*a_m_b*axb2*sqrt(axb2/a_m_b2)) + cos_t*dist*sin_a*(AB[0]**2 + AB[2]**2)/(a_m_b2*sqrt(axb2/a_m_b2)) - cos_t*dist*sin_a*(AB[0]*AXB[2] - AB[2]*AXB[0])*(AXB[0]*(-2*A[2] + 2*B[2]) + AXB[2]*(2*A[0] - 2*B[0]))/(2*a_m_b2*axb2*sqrt(axb2/a_m_b2))],\n",
       "[ AB[0]*dist*sin_a*sin_t/(a_m_b*sqrt(axb2/a_m_b2)) - AB[1]*AB[2]*cos_t*dist*sin_a/(a_m_b2*sqrt(axb2/a_m_b2)) - AXB[2]*dist*sin_a*sin_t*(AXB[0]*(-2*A[2] + 2*B[2]) + AXB[2]*(2*A[0] - 2*B[0]))/(2*a_m_b*axb2*sqrt(axb2/a_m_b2)) - cos_t*dist*sin_a*(AB[0]*AXB[1] + AB[1]*AXB[0])*(AXB[0]*(-2*A[2] + 2*B[2]) + AXB[2]*(2*A[0] - 2*B[0]))/(2*a_m_b2*axb2*sqrt(axb2/a_m_b2))]]), B0[2]: Matrix([\n",
       "[-AB[0]*AB[2]*cos_t*dist*sin_a/(a_m_b2*sqrt(axb2/a_m_b2)) + AB[1]*dist*sin_a*sin_t/(a_m_b*sqrt(axb2/a_m_b2)) - AXB[0]*dist*sin_a*sin_t*(AXB[0]*(2*A[1] - 2*B[1]) + AXB[1]*(2*A[0] - 2*B[0]))/(2*a_m_b*axb2*sqrt(axb2/a_m_b2)) + cos_t*dist*sin_a*(AB[1]*AXB[2] + AB[2]*AXB[1])*(AXB[0]*(2*A[1] - 2*B[1]) + AXB[1]*(2*A[0] - 2*B[0]))/(2*a_m_b2*axb2*sqrt(axb2/a_m_b2))],\n",
       "[-AB[0]*dist*sin_a*sin_t/(a_m_b*sqrt(axb2/a_m_b2)) - AB[1]*AB[2]*cos_t*dist*sin_a/(a_m_b2*sqrt(axb2/a_m_b2)) + AXB[1]*dist*sin_a*sin_t*(AXB[0]*(2*A[1] - 2*B[1]) + AXB[1]*(2*A[0] - 2*B[0]))/(2*a_m_b*axb2*sqrt(axb2/a_m_b2)) - cos_t*dist*sin_a*(AB[0]*AXB[2] - AB[2]*AXB[0])*(AXB[0]*(2*A[1] - 2*B[1]) + AXB[1]*(2*A[0] - 2*B[0]))/(2*a_m_b2*axb2*sqrt(axb2/a_m_b2))],\n",
       "[                                         -AXB[2]*dist*sin_a*sin_t*(AXB[0]*(2*A[1] - 2*B[1]) + AXB[1]*(2*A[0] - 2*B[0]))/(2*a_m_b*axb2*sqrt(axb2/a_m_b2)) + cos_t*dist*sin_a*(AB[0]**2 + AB[1]**2)/(a_m_b2*sqrt(axb2/a_m_b2)) - cos_t*dist*sin_a*(AB[0]*AXB[1] + AB[1]*AXB[0])*(AXB[0]*(2*A[1] - 2*B[1]) + AXB[1]*(2*A[0] - 2*B[0]))/(2*a_m_b2*axb2*sqrt(axb2/a_m_b2))]]), B[0]: Matrix([\n",
       "[                               AB[0]**2*cos_a*dist/a_m_b**3 + AB[0]*AXB[0]*dist*sin_a*sin_t/(a_m_b**3*sqrt(axb2/a_m_b2)) + AXB[0]*a_m_b*dist*sin_a*sin_t*(-(AXB[1]*(2*A[2] - 2*B0[2]) + AXB[2]*(2*A[1] - 2*B0[1]))/(2*a_m_b2) - axb2*(2*A[0] - 2*B[0])/(2*a_m_b2**2))/(axb2*sqrt(axb2/a_m_b2)) - cos_t*dist*sin_a*(AB[1]*AXB[2] + AB[2]*AXB[1])*(-(AXB[1]*(2*A[2] - 2*B0[2]) + AXB[2]*(2*A[1] - 2*B0[1]))/(2*a_m_b2) - axb2*(2*A[0] - 2*B[0])/(2*a_m_b2**2))/(axb2*sqrt(axb2/a_m_b2)) - cos_t*dist*sin_a*(AB[1]*(A[1] - B0[1]) + AB[2]*(A[2] - B0[2]))/(a_m_b2*sqrt(axb2/a_m_b2)) - cos_t*dist*sin_a*(2*A[0] - 2*B[0])*(AB[1]*AXB[2] + AB[2]*AXB[1])/(a_m_b2**2*sqrt(axb2/a_m_b2)) - cos_a*dist/a_m_b],\n",
       "[AB[0]*AB[1]*cos_a*dist/a_m_b**3 - AB[0]*AXB[1]*dist*sin_a*sin_t/(a_m_b**3*sqrt(axb2/a_m_b2)) - AXB[1]*a_m_b*dist*sin_a*sin_t*(-(AXB[1]*(2*A[2] - 2*B0[2]) + AXB[2]*(2*A[1] - 2*B0[1]))/(2*a_m_b2) - axb2*(2*A[0] - 2*B[0])/(2*a_m_b2**2))/(axb2*sqrt(axb2/a_m_b2)) + cos_t*dist*sin_a*(AB[0]*AXB[2] - AB[2]*AXB[0])*(-(AXB[1]*(2*A[2] - 2*B0[2]) + AXB[2]*(2*A[1] - 2*B0[1]))/(2*a_m_b2) - axb2*(2*A[0] - 2*B[0])/(2*a_m_b2**2))/(axb2*sqrt(axb2/a_m_b2)) + cos_t*dist*sin_a*(AB[0]*(A[1] - B0[1]) - AXB[2])/(a_m_b2*sqrt(axb2/a_m_b2)) + cos_t*dist*sin_a*(2*A[0] - 2*B[0])*(AB[0]*AXB[2] - AB[2]*AXB[0])/(a_m_b2**2*sqrt(axb2/a_m_b2)) + dist*sin_a*sin_t*(-A[2] + B0[2])/(a_m_b*sqrt(axb2/a_m_b2))],\n",
       "[ AB[0]*AB[2]*cos_a*dist/a_m_b**3 + AB[0]*AXB[2]*dist*sin_a*sin_t/(a_m_b**3*sqrt(axb2/a_m_b2)) + AXB[2]*a_m_b*dist*sin_a*sin_t*(-(AXB[1]*(2*A[2] - 2*B0[2]) + AXB[2]*(2*A[1] - 2*B0[1]))/(2*a_m_b2) - axb2*(2*A[0] - 2*B[0])/(2*a_m_b2**2))/(axb2*sqrt(axb2/a_m_b2)) + cos_t*dist*sin_a*(AB[0]*AXB[1] + AB[1]*AXB[0])*(-(AXB[1]*(2*A[2] - 2*B0[2]) + AXB[2]*(2*A[1] - 2*B0[1]))/(2*a_m_b2) - axb2*(2*A[0] - 2*B[0])/(2*a_m_b2**2))/(axb2*sqrt(axb2/a_m_b2)) + cos_t*dist*sin_a*(AB[0]*(A[2] - B0[2]) - AXB[1])/(a_m_b2*sqrt(axb2/a_m_b2)) + cos_t*dist*sin_a*(2*A[0] - 2*B[0])*(AB[0]*AXB[1] + AB[1]*AXB[0])/(a_m_b2**2*sqrt(axb2/a_m_b2)) + dist*sin_a*sin_t*(A[1] - B0[1])/(a_m_b*sqrt(axb2/a_m_b2))]]), B[1]: Matrix([\n",
       "[AB[0]*AB[1]*cos_a*dist/a_m_b**3 + AB[1]*AXB[0]*dist*sin_a*sin_t/(a_m_b**3*sqrt(axb2/a_m_b2)) + AXB[0]*a_m_b*dist*sin_a*sin_t*(-(AXB[0]*(2*A[2] - 2*B0[2]) + AXB[2]*(-2*A[0] + 2*B0[0]))/(2*a_m_b2) - axb2*(2*A[1] - 2*B[1])/(2*a_m_b2**2))/(axb2*sqrt(axb2/a_m_b2)) - cos_t*dist*sin_a*(AB[1]*AXB[2] + AB[2]*AXB[1])*(-(AXB[0]*(2*A[2] - 2*B0[2]) + AXB[2]*(-2*A[0] + 2*B0[0]))/(2*a_m_b2) - axb2*(2*A[1] - 2*B[1])/(2*a_m_b2**2))/(axb2*sqrt(axb2/a_m_b2)) - cos_t*dist*sin_a*(AB[1]*(-A[0] + B0[0]) - AXB[2])/(a_m_b2*sqrt(axb2/a_m_b2)) - cos_t*dist*sin_a*(2*A[1] - 2*B[1])*(AB[1]*AXB[2] + AB[2]*AXB[1])/(a_m_b2**2*sqrt(axb2/a_m_b2)) + dist*sin_a*sin_t*(A[2] - B0[2])/(a_m_b*sqrt(axb2/a_m_b2))],\n",
       "[                              AB[1]**2*cos_a*dist/a_m_b**3 - AB[1]*AXB[1]*dist*sin_a*sin_t/(a_m_b**3*sqrt(axb2/a_m_b2)) - AXB[1]*a_m_b*dist*sin_a*sin_t*(-(AXB[0]*(2*A[2] - 2*B0[2]) + AXB[2]*(-2*A[0] + 2*B0[0]))/(2*a_m_b2) - axb2*(2*A[1] - 2*B[1])/(2*a_m_b2**2))/(axb2*sqrt(axb2/a_m_b2)) + cos_t*dist*sin_a*(AB[0]*AXB[2] - AB[2]*AXB[0])*(-(AXB[0]*(2*A[2] - 2*B0[2]) + AXB[2]*(-2*A[0] + 2*B0[0]))/(2*a_m_b2) - axb2*(2*A[1] - 2*B[1])/(2*a_m_b2**2))/(axb2*sqrt(axb2/a_m_b2)) + cos_t*dist*sin_a*(AB[0]*(-A[0] + B0[0]) - AB[2]*(A[2] - B0[2]))/(a_m_b2*sqrt(axb2/a_m_b2)) + cos_t*dist*sin_a*(2*A[1] - 2*B[1])*(AB[0]*AXB[2] - AB[2]*AXB[0])/(a_m_b2**2*sqrt(axb2/a_m_b2)) - cos_a*dist/a_m_b],\n",
       "[AB[1]*AB[2]*cos_a*dist/a_m_b**3 + AB[1]*AXB[2]*dist*sin_a*sin_t/(a_m_b**3*sqrt(axb2/a_m_b2)) + AXB[2]*a_m_b*dist*sin_a*sin_t*(-(AXB[0]*(2*A[2] - 2*B0[2]) + AXB[2]*(-2*A[0] + 2*B0[0]))/(2*a_m_b2) - axb2*(2*A[1] - 2*B[1])/(2*a_m_b2**2))/(axb2*sqrt(axb2/a_m_b2)) + cos_t*dist*sin_a*(AB[0]*AXB[1] + AB[1]*AXB[0])*(-(AXB[0]*(2*A[2] - 2*B0[2]) + AXB[2]*(-2*A[0] + 2*B0[0]))/(2*a_m_b2) - axb2*(2*A[1] - 2*B[1])/(2*a_m_b2**2))/(axb2*sqrt(axb2/a_m_b2)) + cos_t*dist*sin_a*(AB[1]*(A[2] - B0[2]) - AXB[0])/(a_m_b2*sqrt(axb2/a_m_b2)) + cos_t*dist*sin_a*(2*A[1] - 2*B[1])*(AB[0]*AXB[1] + AB[1]*AXB[0])/(a_m_b2**2*sqrt(axb2/a_m_b2)) + dist*sin_a*sin_t*(-A[0] + B0[0])/(a_m_b*sqrt(axb2/a_m_b2))]]), B[2]: Matrix([\n",
       "[AB[0]*AB[2]*cos_a*dist/a_m_b**3 + AB[2]*AXB[0]*dist*sin_a*sin_t/(a_m_b**3*sqrt(axb2/a_m_b2)) + AXB[0]*a_m_b*dist*sin_a*sin_t*(-(AXB[0]*(-2*A[1] + 2*B0[1]) + AXB[1]*(-2*A[0] + 2*B0[0]))/(2*a_m_b2) - axb2*(2*A[2] - 2*B[2])/(2*a_m_b2**2))/(axb2*sqrt(axb2/a_m_b2)) - cos_t*dist*sin_a*(AB[1]*AXB[2] + AB[2]*AXB[1])*(-(AXB[0]*(-2*A[1] + 2*B0[1]) + AXB[1]*(-2*A[0] + 2*B0[0]))/(2*a_m_b2) - axb2*(2*A[2] - 2*B[2])/(2*a_m_b2**2))/(axb2*sqrt(axb2/a_m_b2)) - cos_t*dist*sin_a*(AB[2]*(-A[0] + B0[0]) - AXB[1])/(a_m_b2*sqrt(axb2/a_m_b2)) - cos_t*dist*sin_a*(2*A[2] - 2*B[2])*(AB[1]*AXB[2] + AB[2]*AXB[1])/(a_m_b2**2*sqrt(axb2/a_m_b2)) + dist*sin_a*sin_t*(-A[1] + B0[1])/(a_m_b*sqrt(axb2/a_m_b2))],\n",
       "[AB[1]*AB[2]*cos_a*dist/a_m_b**3 - AB[2]*AXB[1]*dist*sin_a*sin_t/(a_m_b**3*sqrt(axb2/a_m_b2)) - AXB[1]*a_m_b*dist*sin_a*sin_t*(-(AXB[0]*(-2*A[1] + 2*B0[1]) + AXB[1]*(-2*A[0] + 2*B0[0]))/(2*a_m_b2) - axb2*(2*A[2] - 2*B[2])/(2*a_m_b2**2))/(axb2*sqrt(axb2/a_m_b2)) + cos_t*dist*sin_a*(AB[0]*AXB[2] - AB[2]*AXB[0])*(-(AXB[0]*(-2*A[1] + 2*B0[1]) + AXB[1]*(-2*A[0] + 2*B0[0]))/(2*a_m_b2) - axb2*(2*A[2] - 2*B[2])/(2*a_m_b2**2))/(axb2*sqrt(axb2/a_m_b2)) + cos_t*dist*sin_a*(-AB[2]*(-A[1] + B0[1]) + AXB[0])/(a_m_b2*sqrt(axb2/a_m_b2)) + cos_t*dist*sin_a*(2*A[2] - 2*B[2])*(AB[0]*AXB[2] - AB[2]*AXB[0])/(a_m_b2**2*sqrt(axb2/a_m_b2)) + dist*sin_a*sin_t*(A[0] - B0[0])/(a_m_b*sqrt(axb2/a_m_b2))],\n",
       "[                              AB[2]**2*cos_a*dist/a_m_b**3 + AB[2]*AXB[2]*dist*sin_a*sin_t/(a_m_b**3*sqrt(axb2/a_m_b2)) + AXB[2]*a_m_b*dist*sin_a*sin_t*(-(AXB[0]*(-2*A[1] + 2*B0[1]) + AXB[1]*(-2*A[0] + 2*B0[0]))/(2*a_m_b2) - axb2*(2*A[2] - 2*B[2])/(2*a_m_b2**2))/(axb2*sqrt(axb2/a_m_b2)) + cos_t*dist*sin_a*(AB[0]*AXB[1] + AB[1]*AXB[0])*(-(AXB[0]*(-2*A[1] + 2*B0[1]) + AXB[1]*(-2*A[0] + 2*B0[0]))/(2*a_m_b2) - axb2*(2*A[2] - 2*B[2])/(2*a_m_b2**2))/(axb2*sqrt(axb2/a_m_b2)) + cos_t*dist*sin_a*(AB[0]*(-A[0] + B0[0]) + AB[1]*(-A[1] + B0[1]))/(a_m_b2*sqrt(axb2/a_m_b2)) + cos_t*dist*sin_a*(2*A[2] - 2*B[2])*(AB[0]*AXB[1] + AB[1]*AXB[0])/(a_m_b2**2*sqrt(axb2/a_m_b2)) - cos_a*dist/a_m_b]])}"
      ]
     },
     "execution_count": 154,
     "metadata": {},
     "output_type": "execute_result"
    }
   ],
   "source": [
    "Derivs"
   ]
  },
  {
   "cell_type": "code",
   "execution_count": 156,
   "metadata": {},
   "outputs": [
    {
     "name": "stdout",
     "output_type": "stream",
     "text": [
      "x101 = 2*A[0]\n",
      "x102 = -x101\n",
      "x103 = 2*B[0]\n",
      "x104 = x102 + x103\n",
      "x105 = 1/axb2\n",
      "x106 = axb2/2\n",
      "x107 = 2*B0[2]\n",
      "x108 = 2*B[2]\n",
      "x109 = -x108\n",
      "x110 = x107 + x109\n",
      "x111 = 2*B0[1]\n",
      "x112 = 2*B[1]\n",
      "x113 = -x112\n",
      "x114 = x111 + x113\n",
      "x115 = 2*A[1]\n",
      "x116 = -x115\n",
      "x117 = x112 + x116\n",
      "x118 = 2*B0[0]\n",
      "x119 = x103 - x118\n",
      "x120 = 2*A[2]\n",
      "x121 = x108 - x120\n",
      "x122 = -x111\n",
      "x123 = x112 + x122\n",
      "x124 = x101 - x103\n",
      "x125 = A[1] - B0[1]\n",
      "x126 = A[2] - B0[2]\n",
      "x127 = -x107 + x120\n",
      "x128 = x115 + x122\n",
      "x129 = -A[0] + B0[0]\n",
      "x130 = x113 + x115\n",
      "x131 = x102 + x118\n",
      "x132 = -A[1] + B0[1]\n",
      "x133 = x109 + x120\n",
      "x134 = x111 + x116\n",
      "dwda[0,0,0] = -AB[0]**2*cos_a*dist/a_m_b**3 - AB[0]*AXB[0]*dist*sin_a*sin_t/(a_m_b**3*sqrt(axb2/a_m_b2)) + AXB[0]*a_m_b*dist*sin_a*sin_t*x105*(-(AXB[1]*x110 + AXB[2]*x114)/(2*a_m_b2) - x104*x106/a_m_b2**2)/sqrt(axb2/a_m_b2) - cos_t*dist*sin_a*x105*(AB[1]*AXB[2] + AB[2]*AXB[1])*(-(AXB[1]*x110 + AXB[2]*x114)/(2*a_m_b2) - x104*x106/a_m_b2**2)/sqrt(axb2/a_m_b2) + 1 - cos_t*dist*sin_a*(AB[1]*BB0[1] + AB[2]*BB0[2])/(a_m_b2*sqrt(axb2/a_m_b2)) - cos_t*dist*sin_a*x104*(AB[1]*AXB[2] + AB[2]*AXB[1])/(a_m_b2**2*sqrt(axb2/a_m_b2)) + cos_a*dist/a_m_b\n",
      "dwda[0,0,1] = -AB[0]*AB[1]*cos_a*dist/a_m_b**3 + AB[0]*AXB[1]*dist*sin_a*sin_t/(a_m_b**3*sqrt(axb2/a_m_b2)) - AXB[1]*a_m_b*dist*sin_a*sin_t*x105*(-(AXB[1]*x110 + AXB[2]*x114)/(2*a_m_b2) - x104*x106/a_m_b2**2)/sqrt(axb2/a_m_b2) - BB0[2]*dist*sin_a*sin_t/(a_m_b*sqrt(axb2/a_m_b2)) + cos_t*dist*sin_a*x105*(AB[0]*AXB[2] - AB[2]*AXB[0])*(-(AXB[1]*x110 + AXB[2]*x114)/(2*a_m_b2) - x104*x106/a_m_b2**2)/sqrt(axb2/a_m_b2) + cos_t*dist*sin_a*(2*AB[0]*BB0[1] - AB[1]*BB0[0])/(a_m_b2*sqrt(axb2/a_m_b2)) + cos_t*dist*sin_a*x104*(AB[0]*AXB[2] - AB[2]*AXB[0])/(a_m_b2**2*sqrt(axb2/a_m_b2))\n",
      "dwda[0,0,2] = -AB[0]*AB[2]*cos_a*dist/a_m_b**3 - AB[0]*AXB[2]*dist*sin_a*sin_t/(a_m_b**3*sqrt(axb2/a_m_b2)) + AXB[2]*a_m_b*dist*sin_a*sin_t*x105*(-(AXB[1]*x110 + AXB[2]*x114)/(2*a_m_b2) - x104*x106/a_m_b2**2)/sqrt(axb2/a_m_b2) + BB0[1]*dist*sin_a*sin_t/(a_m_b*sqrt(axb2/a_m_b2)) + cos_t*dist*sin_a*x105*(AB[0]*AXB[1] + AB[1]*AXB[0])*(-(AXB[1]*x110 + AXB[2]*x114)/(2*a_m_b2) - x104*x106/a_m_b2**2)/sqrt(axb2/a_m_b2) + cos_t*dist*sin_a*(2*AB[0]*BB0[2] - AB[2]*BB0[0])/(a_m_b2*sqrt(axb2/a_m_b2)) + cos_t*dist*sin_a*x104*(AB[0]*AXB[1] + AB[1]*AXB[0])/(a_m_b2**2*sqrt(axb2/a_m_b2))\n",
      "dwda[0,1,0] = -AB[0]*AB[1]*cos_a*dist/a_m_b**3 - AB[1]*AXB[0]*dist*sin_a*sin_t/(a_m_b**3*sqrt(axb2/a_m_b2)) + AXB[0]*a_m_b*dist*sin_a*sin_t*x105*(-(AXB[0]*x110 + AXB[2]*x119)/(2*a_m_b2) - x106*x117/a_m_b2**2)/sqrt(axb2/a_m_b2) + BB0[2]*dist*sin_a*sin_t/(a_m_b*sqrt(axb2/a_m_b2)) - cos_t*dist*sin_a*x105*(AB[1]*AXB[2] + AB[2]*AXB[1])*(-(AXB[0]*x110 + AXB[2]*x119)/(2*a_m_b2) - x106*x117/a_m_b2**2)/sqrt(axb2/a_m_b2) - cos_t*dist*sin_a*(AB[0]*BB0[1] - 2*AB[1]*BB0[0])/(a_m_b2*sqrt(axb2/a_m_b2)) - cos_t*dist*sin_a*x117*(AB[1]*AXB[2] + AB[2]*AXB[1])/(a_m_b2**2*sqrt(axb2/a_m_b2))\n",
      "dwda[0,1,1] = -AB[1]**2*cos_a*dist/a_m_b**3 + AB[1]*AXB[1]*dist*sin_a*sin_t/(a_m_b**3*sqrt(axb2/a_m_b2)) - AXB[1]*a_m_b*dist*sin_a*sin_t*x105*(-(AXB[0]*x110 + AXB[2]*x119)/(2*a_m_b2) - x106*x117/a_m_b2**2)/sqrt(axb2/a_m_b2) + cos_t*dist*sin_a*x105*(AB[0]*AXB[2] - AB[2]*AXB[0])*(-(AXB[0]*x110 + AXB[2]*x119)/(2*a_m_b2) - x106*x117/a_m_b2**2)/sqrt(axb2/a_m_b2) + 1 + cos_t*dist*sin_a*(-AB[0]*BB0[0] - AB[2]*BB0[2])/(a_m_b2*sqrt(axb2/a_m_b2)) + cos_t*dist*sin_a*x117*(AB[0]*AXB[2] - AB[2]*AXB[0])/(a_m_b2**2*sqrt(axb2/a_m_b2)) + cos_a*dist/a_m_b\n",
      "dwda[0,1,2] = -AB[1]*AB[2]*cos_a*dist/a_m_b**3 - AB[1]*AXB[2]*dist*sin_a*sin_t/(a_m_b**3*sqrt(axb2/a_m_b2)) + AXB[2]*a_m_b*dist*sin_a*sin_t*x105*(-(AXB[0]*x110 + AXB[2]*x119)/(2*a_m_b2) - x106*x117/a_m_b2**2)/sqrt(axb2/a_m_b2) - BB0[0]*dist*sin_a*sin_t/(a_m_b*sqrt(axb2/a_m_b2)) + cos_t*dist*sin_a*x105*(AB[0]*AXB[1] + AB[1]*AXB[0])*(-(AXB[0]*x110 + AXB[2]*x119)/(2*a_m_b2) - x106*x117/a_m_b2**2)/sqrt(axb2/a_m_b2) + cos_t*dist*sin_a*(2*AB[1]*BB0[2] - AB[2]*BB0[1])/(a_m_b2*sqrt(axb2/a_m_b2)) + cos_t*dist*sin_a*x117*(AB[0]*AXB[1] + AB[1]*AXB[0])/(a_m_b2**2*sqrt(axb2/a_m_b2))\n",
      "dwda[0,2,0] = -AB[0]*AB[2]*cos_a*dist/a_m_b**3 - AB[2]*AXB[0]*dist*sin_a*sin_t/(a_m_b**3*sqrt(axb2/a_m_b2)) + AXB[0]*a_m_b*dist*sin_a*sin_t*x105*(-(AXB[0]*x123 + AXB[1]*x119)/(2*a_m_b2) - x106*x121/a_m_b2**2)/sqrt(axb2/a_m_b2) - BB0[1]*dist*sin_a*sin_t/(a_m_b*sqrt(axb2/a_m_b2)) - cos_t*dist*sin_a*x105*(AB[1]*AXB[2] + AB[2]*AXB[1])*(-(AXB[0]*x123 + AXB[1]*x119)/(2*a_m_b2) - x106*x121/a_m_b2**2)/sqrt(axb2/a_m_b2) - cos_t*dist*sin_a*(AB[0]*BB0[2] - 2*AB[2]*BB0[0])/(a_m_b2*sqrt(axb2/a_m_b2)) - cos_t*dist*sin_a*x121*(AB[1]*AXB[2] + AB[2]*AXB[1])/(a_m_b2**2*sqrt(axb2/a_m_b2))\n",
      "dwda[0,2,1] = -AB[1]*AB[2]*cos_a*dist/a_m_b**3 + AB[2]*AXB[1]*dist*sin_a*sin_t/(a_m_b**3*sqrt(axb2/a_m_b2)) - AXB[1]*a_m_b*dist*sin_a*sin_t*x105*(-(AXB[0]*x123 + AXB[1]*x119)/(2*a_m_b2) - x106*x121/a_m_b2**2)/sqrt(axb2/a_m_b2) + BB0[0]*dist*sin_a*sin_t/(a_m_b*sqrt(axb2/a_m_b2)) + cos_t*dist*sin_a*x105*(AB[0]*AXB[2] - AB[2]*AXB[0])*(-(AXB[0]*x123 + AXB[1]*x119)/(2*a_m_b2) - x106*x121/a_m_b2**2)/sqrt(axb2/a_m_b2) + cos_t*dist*sin_a*(-AB[1]*BB0[2] + 2*AB[2]*BB0[1])/(a_m_b2*sqrt(axb2/a_m_b2)) + cos_t*dist*sin_a*x121*(AB[0]*AXB[2] - AB[2]*AXB[0])/(a_m_b2**2*sqrt(axb2/a_m_b2))\n",
      "dwda[0,2,2] = -AB[2]**2*cos_a*dist/a_m_b**3 - AB[2]*AXB[2]*dist*sin_a*sin_t/(a_m_b**3*sqrt(axb2/a_m_b2)) + AXB[2]*a_m_b*dist*sin_a*sin_t*x105*(-(AXB[0]*x123 + AXB[1]*x119)/(2*a_m_b2) - x106*x121/a_m_b2**2)/sqrt(axb2/a_m_b2) + cos_t*dist*sin_a*x105*(AB[0]*AXB[1] + AB[1]*AXB[0])*(-(AXB[0]*x123 + AXB[1]*x119)/(2*a_m_b2) - x106*x121/a_m_b2**2)/sqrt(axb2/a_m_b2) + 1 + cos_t*dist*sin_a*(-AB[0]*BB0[0] - AB[1]*BB0[1])/(a_m_b2*sqrt(axb2/a_m_b2)) + cos_t*dist*sin_a*x121*(AB[0]*AXB[1] + AB[1]*AXB[0])/(a_m_b2**2*sqrt(axb2/a_m_b2)) + cos_a*dist/a_m_b\n",
      "dwda[1,0,0] = AB[0]**2*cos_a*dist/a_m_b**3 + AB[0]*AXB[0]*dist*sin_a*sin_t/(a_m_b**3*sqrt(axb2/a_m_b2)) + AXB[0]*a_m_b*dist*sin_a*sin_t*x105*(-(AXB[1]*x127 + AXB[2]*x128)/(2*a_m_b2) - x106*x124/a_m_b2**2)/sqrt(axb2/a_m_b2) - cos_t*dist*sin_a*x105*(AB[1]*AXB[2] + AB[2]*AXB[1])*(-(AXB[1]*x127 + AXB[2]*x128)/(2*a_m_b2) - x106*x124/a_m_b2**2)/sqrt(axb2/a_m_b2) - cos_t*dist*sin_a*(AB[1]*x125 + AB[2]*x126)/(a_m_b2*sqrt(axb2/a_m_b2)) - cos_t*dist*sin_a*x124*(AB[1]*AXB[2] + AB[2]*AXB[1])/(a_m_b2**2*sqrt(axb2/a_m_b2)) - cos_a*dist/a_m_b\n",
      "dwda[1,0,1] = AB[0]*AB[1]*cos_a*dist/a_m_b**3 - AB[0]*AXB[1]*dist*sin_a*sin_t/(a_m_b**3*sqrt(axb2/a_m_b2)) - AXB[1]*a_m_b*dist*sin_a*sin_t*x105*(-(AXB[1]*x127 + AXB[2]*x128)/(2*a_m_b2) - x106*x124/a_m_b2**2)/sqrt(axb2/a_m_b2) + cos_t*dist*sin_a*x105*(AB[0]*AXB[2] - AB[2]*AXB[0])*(-(AXB[1]*x127 + AXB[2]*x128)/(2*a_m_b2) - x106*x124/a_m_b2**2)/sqrt(axb2/a_m_b2) + cos_t*dist*sin_a*(AB[0]*x125 - AXB[2])/(a_m_b2*sqrt(axb2/a_m_b2)) + cos_t*dist*sin_a*x124*(AB[0]*AXB[2] - AB[2]*AXB[0])/(a_m_b2**2*sqrt(axb2/a_m_b2)) + dist*sin_a*sin_t*(-A[2] + B0[2])/(a_m_b*sqrt(axb2/a_m_b2))\n",
      "dwda[1,0,2] = AB[0]*AB[2]*cos_a*dist/a_m_b**3 + AB[0]*AXB[2]*dist*sin_a*sin_t/(a_m_b**3*sqrt(axb2/a_m_b2)) + AXB[2]*a_m_b*dist*sin_a*sin_t*x105*(-(AXB[1]*x127 + AXB[2]*x128)/(2*a_m_b2) - x106*x124/a_m_b2**2)/sqrt(axb2/a_m_b2) + cos_t*dist*sin_a*x105*(AB[0]*AXB[1] + AB[1]*AXB[0])*(-(AXB[1]*x127 + AXB[2]*x128)/(2*a_m_b2) - x106*x124/a_m_b2**2)/sqrt(axb2/a_m_b2) + cos_t*dist*sin_a*(AB[0]*x126 - AXB[1])/(a_m_b2*sqrt(axb2/a_m_b2)) + cos_t*dist*sin_a*x124*(AB[0]*AXB[1] + AB[1]*AXB[0])/(a_m_b2**2*sqrt(axb2/a_m_b2)) + dist*sin_a*sin_t*x125/(a_m_b*sqrt(axb2/a_m_b2))\n",
      "dwda[1,1,0] = AB[0]*AB[1]*cos_a*dist/a_m_b**3 + AB[1]*AXB[0]*dist*sin_a*sin_t/(a_m_b**3*sqrt(axb2/a_m_b2)) + AXB[0]*a_m_b*dist*sin_a*sin_t*x105*(-(AXB[0]*x127 + AXB[2]*x131)/(2*a_m_b2) - x106*x130/a_m_b2**2)/sqrt(axb2/a_m_b2) - cos_t*dist*sin_a*x105*(AB[1]*AXB[2] + AB[2]*AXB[1])*(-(AXB[0]*x127 + AXB[2]*x131)/(2*a_m_b2) - x106*x130/a_m_b2**2)/sqrt(axb2/a_m_b2) - cos_t*dist*sin_a*(AB[1]*x129 - AXB[2])/(a_m_b2*sqrt(axb2/a_m_b2)) - cos_t*dist*sin_a*x130*(AB[1]*AXB[2] + AB[2]*AXB[1])/(a_m_b2**2*sqrt(axb2/a_m_b2)) + dist*sin_a*sin_t*x126/(a_m_b*sqrt(axb2/a_m_b2))\n",
      "dwda[1,1,1] = AB[1]**2*cos_a*dist/a_m_b**3 - AB[1]*AXB[1]*dist*sin_a*sin_t/(a_m_b**3*sqrt(axb2/a_m_b2)) - AXB[1]*a_m_b*dist*sin_a*sin_t*x105*(-(AXB[0]*x127 + AXB[2]*x131)/(2*a_m_b2) - x106*x130/a_m_b2**2)/sqrt(axb2/a_m_b2) + cos_t*dist*sin_a*x105*(AB[0]*AXB[2] - AB[2]*AXB[0])*(-(AXB[0]*x127 + AXB[2]*x131)/(2*a_m_b2) - x106*x130/a_m_b2**2)/sqrt(axb2/a_m_b2) + cos_t*dist*sin_a*(AB[0]*x129 - AB[2]*x126)/(a_m_b2*sqrt(axb2/a_m_b2)) + cos_t*dist*sin_a*x130*(AB[0]*AXB[2] - AB[2]*AXB[0])/(a_m_b2**2*sqrt(axb2/a_m_b2)) - cos_a*dist/a_m_b\n",
      "dwda[1,1,2] = AB[1]*AB[2]*cos_a*dist/a_m_b**3 + AB[1]*AXB[2]*dist*sin_a*sin_t/(a_m_b**3*sqrt(axb2/a_m_b2)) + AXB[2]*a_m_b*dist*sin_a*sin_t*x105*(-(AXB[0]*x127 + AXB[2]*x131)/(2*a_m_b2) - x106*x130/a_m_b2**2)/sqrt(axb2/a_m_b2) + cos_t*dist*sin_a*x105*(AB[0]*AXB[1] + AB[1]*AXB[0])*(-(AXB[0]*x127 + AXB[2]*x131)/(2*a_m_b2) - x106*x130/a_m_b2**2)/sqrt(axb2/a_m_b2) + cos_t*dist*sin_a*(AB[1]*x126 - AXB[0])/(a_m_b2*sqrt(axb2/a_m_b2)) + cos_t*dist*sin_a*x130*(AB[0]*AXB[1] + AB[1]*AXB[0])/(a_m_b2**2*sqrt(axb2/a_m_b2)) + dist*sin_a*sin_t*x129/(a_m_b*sqrt(axb2/a_m_b2))\n",
      "dwda[1,2,0] = AB[0]*AB[2]*cos_a*dist/a_m_b**3 + AB[2]*AXB[0]*dist*sin_a*sin_t/(a_m_b**3*sqrt(axb2/a_m_b2)) + AXB[0]*a_m_b*dist*sin_a*sin_t*x105*(-(AXB[0]*x134 + AXB[1]*x131)/(2*a_m_b2) - x106*x133/a_m_b2**2)/sqrt(axb2/a_m_b2) - cos_t*dist*sin_a*x105*(AB[1]*AXB[2] + AB[2]*AXB[1])*(-(AXB[0]*x134 + AXB[1]*x131)/(2*a_m_b2) - x106*x133/a_m_b2**2)/sqrt(axb2/a_m_b2) - cos_t*dist*sin_a*(AB[2]*x129 - AXB[1])/(a_m_b2*sqrt(axb2/a_m_b2)) - cos_t*dist*sin_a*x133*(AB[1]*AXB[2] + AB[2]*AXB[1])/(a_m_b2**2*sqrt(axb2/a_m_b2)) + dist*sin_a*sin_t*x132/(a_m_b*sqrt(axb2/a_m_b2))\n",
      "dwda[1,2,1] = AB[1]*AB[2]*cos_a*dist/a_m_b**3 - AB[2]*AXB[1]*dist*sin_a*sin_t/(a_m_b**3*sqrt(axb2/a_m_b2)) - AXB[1]*a_m_b*dist*sin_a*sin_t*x105*(-(AXB[0]*x134 + AXB[1]*x131)/(2*a_m_b2) - x106*x133/a_m_b2**2)/sqrt(axb2/a_m_b2) + cos_t*dist*sin_a*x105*(AB[0]*AXB[2] - AB[2]*AXB[0])*(-(AXB[0]*x134 + AXB[1]*x131)/(2*a_m_b2) - x106*x133/a_m_b2**2)/sqrt(axb2/a_m_b2) + cos_t*dist*sin_a*(-AB[2]*x132 + AXB[0])/(a_m_b2*sqrt(axb2/a_m_b2)) + cos_t*dist*sin_a*x133*(AB[0]*AXB[2] - AB[2]*AXB[0])/(a_m_b2**2*sqrt(axb2/a_m_b2)) + dist*sin_a*sin_t*(A[0] - B0[0])/(a_m_b*sqrt(axb2/a_m_b2))\n",
      "dwda[1,2,2] = AB[2]**2*cos_a*dist/a_m_b**3 + AB[2]*AXB[2]*dist*sin_a*sin_t/(a_m_b**3*sqrt(axb2/a_m_b2)) + AXB[2]*a_m_b*dist*sin_a*sin_t*x105*(-(AXB[0]*x134 + AXB[1]*x131)/(2*a_m_b2) - x106*x133/a_m_b2**2)/sqrt(axb2/a_m_b2) + cos_t*dist*sin_a*x105*(AB[0]*AXB[1] + AB[1]*AXB[0])*(-(AXB[0]*x134 + AXB[1]*x131)/(2*a_m_b2) - x106*x133/a_m_b2**2)/sqrt(axb2/a_m_b2) + cos_t*dist*sin_a*(AB[0]*x129 + AB[1]*x132)/(a_m_b2*sqrt(axb2/a_m_b2)) + cos_t*dist*sin_a*x133*(AB[0]*AXB[1] + AB[1]*AXB[0])/(a_m_b2**2*sqrt(axb2/a_m_b2)) - cos_a*dist/a_m_b\n",
      "dwda[2,0,0] = -AXB[0]*dist*sin_a*sin_t*x105*(AXB[1]*x121 + AXB[2]*x117)/(2*a_m_b*sqrt(axb2/a_m_b2)) + cos_t*dist*sin_a*x105*(AB[1]*AXB[2] + AB[2]*AXB[1])*(AXB[1]*x121 + AXB[2]*x117)/(2*a_m_b2*sqrt(axb2/a_m_b2)) - cos_t*dist*sin_a*(-AB[1]**2 - AB[2]**2)/(a_m_b2*sqrt(axb2/a_m_b2))\n",
      "dwda[2,0,1] = -AB[0]*AB[1]*cos_t*dist*sin_a/(a_m_b2*sqrt(axb2/a_m_b2)) + AB[2]*dist*sin_a*sin_t/(a_m_b*sqrt(axb2/a_m_b2)) + AXB[1]*dist*sin_a*sin_t*x105*(AXB[1]*x121 + AXB[2]*x117)/(2*a_m_b*sqrt(axb2/a_m_b2)) - cos_t*dist*sin_a*x105*(AB[0]*AXB[2] - AB[2]*AXB[0])*(AXB[1]*x121 + AXB[2]*x117)/(2*a_m_b2*sqrt(axb2/a_m_b2))\n",
      "dwda[2,0,2] = -AB[0]*AB[2]*cos_t*dist*sin_a/(a_m_b2*sqrt(axb2/a_m_b2)) - AB[1]*dist*sin_a*sin_t/(a_m_b*sqrt(axb2/a_m_b2)) - AXB[2]*dist*sin_a*sin_t*x105*(AXB[1]*x121 + AXB[2]*x117)/(2*a_m_b*sqrt(axb2/a_m_b2)) - cos_t*dist*sin_a*x105*(AB[0]*AXB[1] + AB[1]*AXB[0])*(AXB[1]*x121 + AXB[2]*x117)/(2*a_m_b2*sqrt(axb2/a_m_b2))\n",
      "dwda[2,1,0] = -AB[0]*AB[1]*cos_t*dist*sin_a/(a_m_b2*sqrt(axb2/a_m_b2)) - AB[2]*dist*sin_a*sin_t/(a_m_b*sqrt(axb2/a_m_b2)) - AXB[0]*dist*sin_a*sin_t*x105*(AXB[0]*x121 + AXB[2]*x124)/(2*a_m_b*sqrt(axb2/a_m_b2)) + cos_t*dist*sin_a*x105*(AB[1]*AXB[2] + AB[2]*AXB[1])*(AXB[0]*x121 + AXB[2]*x124)/(2*a_m_b2*sqrt(axb2/a_m_b2))\n",
      "dwda[2,1,1] = AXB[1]*dist*sin_a*sin_t*x105*(AXB[0]*x121 + AXB[2]*x124)/(2*a_m_b*sqrt(axb2/a_m_b2)) - cos_t*dist*sin_a*x105*(AB[0]*AXB[2] - AB[2]*AXB[0])*(AXB[0]*x121 + AXB[2]*x124)/(2*a_m_b2*sqrt(axb2/a_m_b2)) + cos_t*dist*sin_a*(AB[0]**2 + AB[2]**2)/(a_m_b2*sqrt(axb2/a_m_b2))\n",
      "dwda[2,1,2] = AB[0]*dist*sin_a*sin_t/(a_m_b*sqrt(axb2/a_m_b2)) - AB[1]*AB[2]*cos_t*dist*sin_a/(a_m_b2*sqrt(axb2/a_m_b2)) - AXB[2]*dist*sin_a*sin_t*x105*(AXB[0]*x121 + AXB[2]*x124)/(2*a_m_b*sqrt(axb2/a_m_b2)) - cos_t*dist*sin_a*x105*(AB[0]*AXB[1] + AB[1]*AXB[0])*(AXB[0]*x121 + AXB[2]*x124)/(2*a_m_b2*sqrt(axb2/a_m_b2))\n",
      "dwda[2,2,0] = -AB[0]*AB[2]*cos_t*dist*sin_a/(a_m_b2*sqrt(axb2/a_m_b2)) + AB[1]*dist*sin_a*sin_t/(a_m_b*sqrt(axb2/a_m_b2)) - AXB[0]*dist*sin_a*sin_t*x105*(AXB[0]*x130 + AXB[1]*x124)/(2*a_m_b*sqrt(axb2/a_m_b2)) + cos_t*dist*sin_a*x105*(AB[1]*AXB[2] + AB[2]*AXB[1])*(AXB[0]*x130 + AXB[1]*x124)/(2*a_m_b2*sqrt(axb2/a_m_b2))\n",
      "dwda[2,2,1] = -AB[0]*dist*sin_a*sin_t/(a_m_b*sqrt(axb2/a_m_b2)) - AB[1]*AB[2]*cos_t*dist*sin_a/(a_m_b2*sqrt(axb2/a_m_b2)) + AXB[1]*dist*sin_a*sin_t*x105*(AXB[0]*x130 + AXB[1]*x124)/(2*a_m_b*sqrt(axb2/a_m_b2)) - cos_t*dist*sin_a*x105*(AB[0]*AXB[2] - AB[2]*AXB[0])*(AXB[0]*x130 + AXB[1]*x124)/(2*a_m_b2*sqrt(axb2/a_m_b2))\n",
      "dwda[2,2,2] = -AXB[2]*dist*sin_a*sin_t*x105*(AXB[0]*x130 + AXB[1]*x124)/(2*a_m_b*sqrt(axb2/a_m_b2)) - cos_t*dist*sin_a*x105*(AB[0]*AXB[1] + AB[1]*AXB[0])*(AXB[0]*x130 + AXB[1]*x124)/(2*a_m_b2*sqrt(axb2/a_m_b2)) + cos_t*dist*sin_a*(AB[0]**2 + AB[1]**2)/(a_m_b2*sqrt(axb2/a_m_b2))\n"
     ]
    }
   ],
   "source": [
    "ds = [Derivs[s] for s in (ax,ay,az,bx,by,bz,b0x,b0y,b0z)]\n",
    "repl,red = sympy.cse(ds, symbols=sympy.utilities.iterables.numbered_symbols(start=101), \n",
    "                     ignore=(d,ca,ct,sa,st, a_m_b,a_m_b2,b0_m_b,ab_x,ab_y,ab_z,bb0_x,bb0_y,bb0_z,\n",
    "                             axb_x,axb_y,axb_z))\n",
    "keysS = []\n",
    "valsS = []\n",
    "for key, val in repl:\n",
    "    keysS.append(str(key))\n",
    "    valsS.append(str(val))\n",
    "\n",
    "lhsS = []\n",
    "rhsS = []\n",
    "for i in range(3):\n",
    "    for j in range(3):\n",
    "        for k in range(3):\n",
    "            if (red[3*i+j][k]!=0):\n",
    "                lhsS.append('dwda['+str(i)+','+str(j)+','+str(k)+']')\n",
    "                rhsS.append(str(red[3*i+j][k]))\n",
    "\n",
    "for i in range(len(keysS)):\n",
    "    print (keysS[i],'=',valsS[i])\n",
    "for i in range(len(lhsS)):\n",
    "    print (lhsS[i],'=',rhsS[i])"
   ]
  },
  {
   "cell_type": "code",
   "execution_count": 61,
   "metadata": {},
   "outputs": [
    {
     "data": {
      "text/plain": [
       "ab**2"
      ]
     },
     "execution_count": 61,
     "metadata": {},
     "output_type": "execute_result"
    }
   ],
   "source": [
    "temp = ((ax - bx)**2).subs(ax - bx,'ab')\n",
    "temp"
   ]
  },
  {
   "cell_type": "code",
   "execution_count": 62,
   "metadata": {},
   "outputs": [
    {
     "data": {
      "text/plain": [
       "(0,)"
      ]
     },
     "execution_count": 62,
     "metadata": {},
     "output_type": "execute_result"
    }
   ],
   "source": [
    "sympy.diff(temp,'a0'),"
   ]
  },
  {
   "cell_type": "code",
   "execution_count": null,
   "metadata": {},
   "outputs": [],
   "source": []
  }
 ],
 "metadata": {
  "kernelspec": {
   "display_name": "Python 3",
   "language": "python",
   "name": "python3"
  },
  "language_info": {
   "codemirror_mode": {
    "name": "ipython",
    "version": 3
   },
   "file_extension": ".py",
   "mimetype": "text/x-python",
   "name": "python",
   "nbconvert_exporter": "python",
   "pygments_lexer": "ipython3",
   "version": "3.7.3"
  }
 },
 "nbformat": 4,
 "nbformat_minor": 2
}
