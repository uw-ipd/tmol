{
 "cells": [
  {
   "cell_type": "markdown",
   "metadata": {},
   "source": [
    "\n",
    "# Base Imports"
   ]
  },
  {
   "cell_type": "code",
   "execution_count": 1,
   "metadata": {},
   "outputs": [],
   "source": [
    "import importlib\n",
    "import logging\n",
    "importlib.reload(logging)\n",
    "logging.basicConfig(level=logging.INFO)\n",
    "\n",
    "logging.getLogger(\"rosetta\").setLevel(logging.WARNING)"
   ]
  },
  {
   "cell_type": "code",
   "execution_count": 2,
   "metadata": {},
   "outputs": [],
   "source": [
    "import toolz\n",
    "from toolz import first"
   ]
  },
  {
   "cell_type": "code",
   "execution_count": 3,
   "metadata": {},
   "outputs": [],
   "source": [
    "import pyrosetta.distributed"
   ]
  },
  {
   "cell_type": "code",
   "execution_count": 4,
   "metadata": {},
   "outputs": [],
   "source": [
    "import tmol.tests.data"
   ]
  },
  {
   "cell_type": "code",
   "execution_count": 5,
   "metadata": {},
   "outputs": [],
   "source": [
    "import tmol.system.io\n",
    "import tmol.score\n",
    "import torch\n",
    "import tmol.score.ljlk.jit_score_graph\n",
    "import tmol.score.ljlk.cpp_potential"
   ]
  },
  {
   "cell_type": "code",
   "execution_count": 6,
   "metadata": {},
   "outputs": [],
   "source": [
    "from tmol.utility.reactive import reactive_attrs, reactive_property"
   ]
  },
  {
   "cell_type": "markdown",
   "metadata": {},
   "source": [
    "# Rosetta Scoring\n",
    "\n",
    "Benchmark rosetta scoring performance by structure size."
   ]
  },
  {
   "cell_type": "code",
   "execution_count": 7,
   "metadata": {},
   "outputs": [],
   "source": [
    "import toolz"
   ]
  },
  {
   "cell_type": "code",
   "execution_count": 8,
   "metadata": {},
   "outputs": [],
   "source": [
    "decoys = toolz.keyfilter(lambda k: k>200 and k<500, tmol.tests.data.structures_bysize())"
   ]
  },
  {
   "cell_type": "code",
   "execution_count": 9,
   "metadata": {},
   "outputs": [
    {
     "name": "stderr",
     "output_type": "stream",
     "text": [
      "INFO:pyrosetta.distributed:maybe_init performing pyrosetta initialization: {'extra_options': '-out:levels all:warning'}\n",
      "INFO:root:400\n",
      "INFO:root:Rosetta\n",
      "INFO:root:tmol_lj_cpu_cpp\n",
      "INFO:root:rosetta: -1653.4115141856676 score.tmol_lj_cpu_cpp.blocked: tensor([710.3551]) score.tmol_lj_cpu_cpp.naive: tensor([710.3551])\n",
      "INFO:root:250\n",
      "INFO:root:Rosetta\n",
      "INFO:root:tmol_lj_cpu_cpp\n",
      "INFO:root:rosetta: -1119.8932213914081 score.tmol_lj_cpu_cpp.blocked: tensor([-716.1954]) score.tmol_lj_cpu_cpp.naive: tensor([-716.1954])\n",
      "INFO:root:300\n",
      "INFO:tmol.system.io.ResidueReader:missing atoms in input: {'HG'}\n",
      "INFO:tmol.system.io.ResidueReader:missing atoms in input: {'HG'}\n",
      "INFO:tmol.system.io.ResidueReader:missing atoms in input: {'HG'}\n",
      "INFO:tmol.system.io.ResidueReader:missing atoms in input: {'HG'}\n",
      "INFO:root:Rosetta\n",
      "INFO:root:tmol_lj_cpu_cpp\n",
      "INFO:root:rosetta: -1595.3013226696185 score.tmol_lj_cpu_cpp.blocked: tensor([nan]) score.tmol_lj_cpu_cpp.naive: tensor([nan])\n"
     ]
    }
   ],
   "source": [
    "from tmol.tests.benchmark import subfixture, make_subfixture, make_fixture, stat_frame, stat_profile\n",
    "\n",
    "torch.set_num_threads(1)\n",
    "\n",
    "rosetta_score_results = []\n",
    "scores = {}\n",
    "profiles = {}\n",
    "\n",
    "for dsize, d in decoys.items():\n",
    "    model_name = f\"BYSIZE_{dsize}\"\n",
    "\n",
    "    work_pose = d.stripped_pose.pose\n",
    "\n",
    "    logging.info(dsize)\n",
    "\n",
    "    fixture = make_fixture(\n",
    "        \"score\",\n",
    "        rosetta_score_results.append,\n",
    "        nres=len(work_pose.residues),\n",
    "        natoms=len(d.tmol_coords),\n",
    "        model=model_name,\n",
    "        max_time=.25,\n",
    "        use_cprofile=True,\n",
    "        \n",
    "    )\n",
    "\n",
    "    logging.info(\"Rosetta\")\n",
    "    atr_rep_sf = pyrosetta.get_score_function()\n",
    "    for k, v in pyrosetta.rosetta.core.scoring.ScoreType.__members__.items():\n",
    "        if k not in (\"fa_atr\", \"fa_rep\"):\n",
    "            atr_rep_sf.set_weight(v, 0)\n",
    "\n",
    "    @subfixture(fixture, impl=\"rosetta\", device=\"cpu\")\n",
    "    def rosetta_atr_rep():\n",
    "        work_pose.energies().clear()\n",
    "        return atr_rep_sf(work_pose)\n",
    "    \n",
    "    @reactive_attrs\n",
    "    class TMolJitLJLK(\n",
    "        tmol.score.ljlk.jit_score_graph.JitLJLKScoreGraph,\n",
    "        tmol.score.coordinates.CartesianAtomicCoordinateProvider,\n",
    "        tmol.score.bonded_atom.BondedAtomScoreGraph,\n",
    "        tmol.score.device.TorchDevice,\n",
    "    ):\n",
    "        pass\n",
    "\n",
    "    score_graphs = dict(\n",
    "        tmol_lj_cpu_cpp=TMolJitLJLK.build_for(\n",
    "            d.tmol_system, requires_grad=False, lj_jit_type=\"cpp\"\n",
    "        )\n",
    "    )\n",
    "\n",
    "    for n, sg in score_graphs.items():\n",
    "        logging.info(f\"{n}\")\n",
    "        # Setup graph\n",
    "        sg.intra_score().total_lj\n",
    "\n",
    "        for ptype in tmol.score.ljlk.cpp_potential.potentials:\n",
    "            tmol.score.ljlk.cpp_potential.POTENTIAL_SET = ptype\n",
    "\n",
    "            gfix = make_subfixture(\n",
    "                fixture, f\".{n}.{ptype}\", impl=ptype, device=sg.device.type\n",
    "            )\n",
    "\n",
    "            @gfix\n",
    "            def benchmark_score_graph():\n",
    "                sg.coords = sg.coords\n",
    "                return sg.intra_score().total_lj\n",
    "\n",
    "            scores.setdefault(model_name, {})[gfix.name] = benchmark_score_graph\n",
    "\n",
    "    del score_graphs\n",
    "    torch.cuda.empty_cache()\n",
    "\n",
    "    tmol_scores = \" \".join(f\"{n}: {v}\" for n, v in scores[model_name].items())\n",
    "\n",
    "    logging.info(f\"rosetta: {rosetta_atr_rep} {tmol_scores}\")\n"
   ]
  },
  {
   "cell_type": "code",
   "execution_count": 10,
   "metadata": {},
   "outputs": [],
   "source": [
    "import operator\n",
    "def sum(v):\n",
    "    return toolz.reduce(operator.add, v)"
   ]
  },
  {
   "cell_type": "code",
   "execution_count": 11,
   "metadata": {},
   "outputs": [],
   "source": [
    "import pandas"
   ]
  },
  {
   "cell_type": "code",
   "execution_count": 12,
   "metadata": {},
   "outputs": [],
   "source": [
    "import altair\n",
    "altair.themes.register(\"vis\", lambda: dict(config={\n",
    "        \"view\": {\"height\": 500, \"width\": 800},\n",
    "        \"axis\": {\"labelFontSize\": 16, \"titleFontSize\": 16},\n",
    "        \"legend\": {\"labelFontSize\": 16, \"titleFontSize\": 16},\n",
    "        \"header\": {\"labelFontSize\": 16, \"titleFontSize\": 16},\n",
    "        \"title\": {\"fontSize\": 16},\n",
    "    }))\n",
    "altair.themes.enable(\"vis\")\n",
    "altair.data_transformers.enable('default', max_rows=20e3)\n",
    "\n",
    "pass"
   ]
  },
  {
   "cell_type": "code",
   "execution_count": 13,
   "metadata": {},
   "outputs": [
    {
     "data": {
      "application/vnd.vegalite.v2+json": {
       "$schema": "https://vega.github.io/schema/vega-lite/v2.6.0.json",
       "config": {
        "axis": {
         "labelFontSize": 16,
         "titleFontSize": 16
        },
        "bar": {
         "continuousBandSize": 25
        },
        "header": {
         "labelFontSize": 16,
         "titleFontSize": 16
        },
        "legend": {
         "labelFontSize": 16,
         "titleFontSize": 16
        },
        "title": {
         "fontSize": 16
        },
        "view": {
         "height": 500,
         "width": 800
        }
       },
       "data": {
        "name": "data-62bde758b611308f14e9f1f962e442bf"
       },
       "datasets": {
        "data-62bde758b611308f14e9f1f962e442bf": [
         {
          "cumtime": 0.033568,
          "cumtime_per": 0.033568,
          "device": "cpu",
          "fractime": 0.5413844268111735,
          "function_name": "~:0(<built-in method tmol_score_ljlk_cpp_potential_cpu.lj_intra_block>)",
          "impl": "blocked",
          "model": "BYSIZE_400",
          "name": "score.tmol_lj_cpu_cpp.blocked",
          "natoms": 7176,
          "ncalls": 1,
          "ncalls_recursion": "1",
          "nres": 370,
          "tottime": 0.033568,
          "tottime_per": 0.033568
         },
         {
          "cumtime": 0.022813999999999997,
          "cumtime_per": 0.022813999999999997,
          "device": "cpu",
          "fractime": 0.36794400361267016,
          "function_name": "~:0(<method 'sum' of 'torch._C._TensorBase' objects>)",
          "impl": "blocked",
          "model": "BYSIZE_400",
          "name": "score.tmol_lj_cpu_cpp.blocked",
          "natoms": 7176,
          "ncalls": 1,
          "ncalls_recursion": "1",
          "nres": 370,
          "tottime": 0.022813999999999997,
          "tottime_per": 0.022813999999999997
         },
         {
          "cumtime": 0.062004,
          "cumtime_per": 0.062004,
          "device": "cpu",
          "fractime": 0.060850912844332625,
          "function_name": "<ipython-input-9-0579b6653eaf>:65(benchmark_score_graph)",
          "impl": "blocked",
          "model": "BYSIZE_400",
          "name": "score.tmol_lj_cpu_cpp.blocked",
          "natoms": 7176,
          "ncalls": 1,
          "ncalls_recursion": "1",
          "nres": 370,
          "tottime": 0.003773,
          "tottime_per": 0.003773
         },
         {
          "cumtime": 0.0014559999999999998,
          "cumtime_per": 0.0014559999999999998,
          "device": "cpu",
          "fractime": 0.02348235597703374,
          "function_name": "~:0(<built-in method tmol_score_ljlk_cpp_potential_cpu.block_interaction_table>)",
          "impl": "blocked",
          "model": "BYSIZE_400",
          "name": "score.tmol_lj_cpu_cpp.blocked",
          "natoms": 7176,
          "ncalls": 1,
          "ncalls_recursion": "1",
          "nres": 370,
          "tottime": 0.0014559999999999998,
          "tottime_per": 0.0014559999999999998
         },
         {
          "cumtime": 0.189214,
          "cumtime_per": 0.189214,
          "device": "cpu",
          "fractime": 0.8636674852338392,
          "function_name": "~:0(<built-in method tmol_score_ljlk_cpp_potential_cpu.lj_intra_naive>)",
          "impl": "naive",
          "model": "BYSIZE_400",
          "name": "score.tmol_lj_cpu_cpp.naive",
          "natoms": 7176,
          "ncalls": 1,
          "ncalls_recursion": "1",
          "nres": 370,
          "tottime": 0.189214,
          "tottime_per": 0.189214
         },
         {
          "cumtime": 0.01619,
          "cumtime_per": 0.01619,
          "device": "cpu",
          "fractime": 0.07389927059274608,
          "function_name": "~:0(<method 'sum' of 'torch._C._TensorBase' objects>)",
          "impl": "naive",
          "model": "BYSIZE_400",
          "name": "score.tmol_lj_cpu_cpp.naive",
          "natoms": 7176,
          "ncalls": 1,
          "ncalls_recursion": "1",
          "nres": 370,
          "tottime": 0.01619,
          "tottime_per": 0.01619
         },
         {
          "cumtime": 0.219081,
          "cumtime_per": 0.219081,
          "device": "cpu",
          "fractime": 0.05927460950694259,
          "function_name": "<ipython-input-9-0579b6653eaf>:65(benchmark_score_graph)",
          "impl": "naive",
          "model": "BYSIZE_400",
          "name": "score.tmol_lj_cpu_cpp.naive",
          "natoms": 7176,
          "ncalls": 1,
          "ncalls_recursion": "1",
          "nres": 370,
          "tottime": 0.012986,
          "tottime_per": 0.012986
         },
         {
          "cumtime": 0.016094,
          "cumtime_per": 0.016094,
          "device": "cpu",
          "fractime": 0.6392596123292025,
          "function_name": "~:0(<built-in method tmol_score_ljlk_cpp_potential_cpu.lj_intra_block>)",
          "impl": "blocked",
          "model": "BYSIZE_250",
          "name": "score.tmol_lj_cpu_cpp.blocked",
          "natoms": 4128,
          "ncalls": 1,
          "ncalls_recursion": "1",
          "nres": 233,
          "tottime": 0.016094,
          "tottime_per": 0.016094
         },
         {
          "cumtime": 0.006813,
          "cumtime_per": 0.006813,
          "device": "cpu",
          "fractime": 0.2706148713060057,
          "function_name": "~:0(<method 'sum' of 'torch._C._TensorBase' objects>)",
          "impl": "blocked",
          "model": "BYSIZE_250",
          "name": "score.tmol_lj_cpu_cpp.blocked",
          "natoms": 4128,
          "ncalls": 1,
          "ncalls_recursion": "1",
          "nres": 233,
          "tottime": 0.006813,
          "tottime_per": 0.006813
         },
         {
          "cumtime": 0.025176,
          "cumtime_per": 0.025176,
          "device": "cpu",
          "fractime": 0.05739593263425484,
          "function_name": "<ipython-input-9-0579b6653eaf>:65(benchmark_score_graph)",
          "impl": "blocked",
          "model": "BYSIZE_250",
          "name": "score.tmol_lj_cpu_cpp.blocked",
          "natoms": 4128,
          "ncalls": 1,
          "ncalls_recursion": "1",
          "nres": 233,
          "tottime": 0.0014449999999999999,
          "tottime_per": 0.0014449999999999999
         },
         {
          "cumtime": 0.0004919999999999999,
          "cumtime_per": 0.0004919999999999999,
          "device": "cpu",
          "fractime": 0.01954242135367016,
          "function_name": "~:0(<built-in method tmol_score_ljlk_cpp_potential_cpu.block_interaction_table>)",
          "impl": "blocked",
          "model": "BYSIZE_250",
          "name": "score.tmol_lj_cpu_cpp.blocked",
          "natoms": 4128,
          "ncalls": 1,
          "ncalls_recursion": "1",
          "nres": 233,
          "tottime": 0.0004919999999999999,
          "tottime_per": 0.0004919999999999999
         },
         {
          "cumtime": 0.050158,
          "cumtime_per": 0.050158,
          "device": "cpu",
          "fractime": 0.8444249903197024,
          "function_name": "~:0(<built-in method tmol_score_ljlk_cpp_potential_cpu.lj_intra_naive>)",
          "impl": "naive",
          "model": "BYSIZE_250",
          "name": "score.tmol_lj_cpu_cpp.naive",
          "natoms": 4128,
          "ncalls": 1,
          "ncalls_recursion": "1",
          "nres": 233,
          "tottime": 0.050158,
          "tottime_per": 0.050158
         },
         {
          "cumtime": 0.004925,
          "cumtime_per": 0.004925,
          "device": "cpu",
          "fractime": 0.08291385376858197,
          "function_name": "~:0(<method 'sum' of 'torch._C._TensorBase' objects>)",
          "impl": "naive",
          "model": "BYSIZE_250",
          "name": "score.tmol_lj_cpu_cpp.naive",
          "natoms": 4128,
          "ncalls": 1,
          "ncalls_recursion": "1",
          "nres": 233,
          "tottime": 0.004925,
          "tottime_per": 0.004925
         },
         {
          "cumtime": 0.059399,
          "cumtime_per": 0.059399,
          "device": "cpu",
          "fractime": 0.06747588343238102,
          "function_name": "<ipython-input-9-0579b6653eaf>:65(benchmark_score_graph)",
          "impl": "naive",
          "model": "BYSIZE_250",
          "name": "score.tmol_lj_cpu_cpp.naive",
          "natoms": 4128,
          "ncalls": 1,
          "ncalls_recursion": "1",
          "nres": 233,
          "tottime": 0.004007999999999999,
          "tottime_per": 0.004007999999999999
         },
         {
          "cumtime": 0.022844,
          "cumtime_per": 0.022844,
          "device": "cpu",
          "fractime": 0.5895530091875709,
          "function_name": "~:0(<built-in method tmol_score_ljlk_cpp_potential_cpu.lj_intra_block>)",
          "impl": "blocked",
          "model": "BYSIZE_300",
          "name": "score.tmol_lj_cpu_cpp.blocked",
          "natoms": 5408,
          "ncalls": 1,
          "ncalls_recursion": "1",
          "nres": 298,
          "tottime": 0.022844,
          "tottime_per": 0.022844
         },
         {
          "cumtime": 0.012421999999999999,
          "cumtime_per": 0.012421999999999999,
          "device": "cpu",
          "fractime": 0.3205842882213275,
          "function_name": "~:0(<method 'sum' of 'torch._C._TensorBase' objects>)",
          "impl": "blocked",
          "model": "BYSIZE_300",
          "name": "score.tmol_lj_cpu_cpp.blocked",
          "natoms": 5408,
          "ncalls": 1,
          "ncalls_recursion": "1",
          "nres": 298,
          "tottime": 0.012421999999999999,
          "tottime_per": 0.012421999999999999
         },
         {
          "cumtime": 0.038748,
          "cumtime_per": 0.038748,
          "device": "cpu",
          "fractime": 0.05866109218540311,
          "function_name": "<ipython-input-9-0579b6653eaf>:65(benchmark_score_graph)",
          "impl": "blocked",
          "model": "BYSIZE_300",
          "name": "score.tmol_lj_cpu_cpp.blocked",
          "natoms": 5408,
          "ncalls": 1,
          "ncalls_recursion": "1",
          "nres": 298,
          "tottime": 0.002273,
          "tottime_per": 0.002273
         },
         {
          "cumtime": 0.0008449999999999999,
          "cumtime_per": 0.0008449999999999999,
          "device": "cpu",
          "fractime": 0.021807577165273043,
          "function_name": "~:0(<built-in method tmol_score_ljlk_cpp_potential_cpu.block_interaction_table>)",
          "impl": "blocked",
          "model": "BYSIZE_300",
          "name": "score.tmol_lj_cpu_cpp.blocked",
          "natoms": 5408,
          "ncalls": 1,
          "ncalls_recursion": "1",
          "nres": 298,
          "tottime": 0.0008449999999999999,
          "tottime_per": 0.0008449999999999999
         },
         {
          "cumtime": 0.121185,
          "cumtime_per": 0.121185,
          "device": "cpu",
          "fractime": 0.8739912157337889,
          "function_name": "~:0(<built-in method tmol_score_ljlk_cpp_potential_cpu.lj_intra_naive>)",
          "impl": "naive",
          "model": "BYSIZE_300",
          "name": "score.tmol_lj_cpu_cpp.naive",
          "natoms": 5408,
          "ncalls": 1,
          "ncalls_recursion": "1",
          "nres": 298,
          "tottime": 0.121185,
          "tottime_per": 0.121185
         },
         {
          "cumtime": 0.010497,
          "cumtime_per": 0.010497,
          "device": "cpu",
          "fractime": 0.07570479672861807,
          "function_name": "~:0(<method 'sum' of 'torch._C._TensorBase' objects>)",
          "impl": "naive",
          "model": "BYSIZE_300",
          "name": "score.tmol_lj_cpu_cpp.naive",
          "natoms": 5408,
          "ncalls": 1,
          "ncalls_recursion": "1",
          "nres": 298,
          "tottime": 0.010497,
          "tottime_per": 0.010497
         },
         {
          "cumtime": 0.138657,
          "cumtime_per": 0.138657,
          "device": "cpu",
          "fractime": 0.04724608205860503,
          "function_name": "<ipython-input-9-0579b6653eaf>:65(benchmark_score_graph)",
          "impl": "naive",
          "model": "BYSIZE_300",
          "name": "score.tmol_lj_cpu_cpp.naive",
          "natoms": 5408,
          "ncalls": 1,
          "ncalls_recursion": "1",
          "nres": 298,
          "tottime": 0.0065509999999999995,
          "tottime_per": 0.0065509999999999995
         }
        ]
       },
       "encoding": {
        "color": {
         "field": "function_name",
         "type": "nominal"
        },
        "row": {
         "field": "impl",
         "type": "nominal"
        },
        "x": {
         "field": "nres",
         "type": "quantitative"
        },
        "y": {
         "aggregate": "sum",
         "axis": {
          "format": "s"
         },
         "field": "tottime",
         "type": "quantitative"
        }
       },
       "mark": "bar",
       "title": "Blocked Potential Runtime Profile."
      },
      "image/png": "[encoded data removed]",
      "text/plain": [
       "<VegaLite 2 object>\n",
       "\n",
       "If you see this message, it means the renderer has not been properly enabled\n",
       "for the frontend that you are using. For more information, see\n",
       "https://altair-viz.github.io/user_guide/troubleshooting.html\n"
      ]
     },
     "execution_count": 13,
     "metadata": {},
     "output_type": "execute_result"
    }
   ],
   "source": [
    "pdat = stat_profile(rosetta_score_results)\n",
    "pdat = pdat.query(\"impl != 'rosetta'\")\n",
    "rdat = pdat.query(\"tottime > 100e-6 and fractime > 1e-3\")\n",
    "\n",
    "encoding = dict(\n",
    "    x=\"nres\",\n",
    "    y=altair.Y(\"sum(tottime)\", axis=altair.Axis(format=\"s\")),\n",
    "    color=\"function_name\",\n",
    "    row=\"impl\"\n",
    ")\n",
    "\n",
    "c = (\n",
    "    altair.Chart(rdat).mark_bar().encode(**encoding)\n",
    "#    + altair.Chart(pdat).mark_line().encode(x=\"nres\", y=\"sum(tottime)\")\n",
    ").configure(bar={\"continuousBandSize\": 25})\n",
    "c.title=\"Blocked Potential Runtime Profile.\"\n",
    "c"
   ]
  },
  {
   "cell_type": "code",
   "execution_count": 14,
   "metadata": {},
   "outputs": [
    {
     "data": {
      "application/vnd.vegalite.v2+json": {
       "$schema": "https://vega.github.io/schema/vega-lite/v2.6.0.json",
       "config": {
        "axis": {
         "labelFontSize": 16,
         "titleFontSize": 16
        },
        "header": {
         "labelFontSize": 16,
         "titleFontSize": 16
        },
        "legend": {
         "labelFontSize": 16,
         "titleFontSize": 16
        },
        "title": {
         "fontSize": 16
        },
        "view": {
         "height": 500,
         "width": 800
        }
       },
       "datasets": {
        "data-d6d3afee4e307aa2b13f042dd7275ffb": [
         {
          "bit_frac": 0.03530534729361534,
          "dsize": 400
         },
         {
          "bit_frac": 0.059525419026613235,
          "dsize": 250
         },
         {
          "bit_frac": 0.04792811721563339,
          "dsize": 300
         }
        ]
       },
       "layer": [
        {
         "data": {
          "name": "data-d6d3afee4e307aa2b13f042dd7275ffb"
         },
         "encoding": {
          "x": {
           "field": "dsize",
           "type": "quantitative"
          },
          "y": {
           "field": "bit_frac",
           "type": "quantitative"
          }
         },
         "mark": "line"
        },
        {
         "data": {
          "name": "data-d6d3afee4e307aa2b13f042dd7275ffb"
         },
         "encoding": {
          "x": {
           "field": "dsize",
           "type": "quantitative"
          },
          "y": {
           "field": "bit_frac",
           "type": "quantitative"
          }
         },
         "mark": "point"
        }
       ]
      },
      "image/png": "[encoded data removed]",
      "text/plain": [
       "<VegaLite 2 object>\n",
       "\n",
       "If you see this message, it means the renderer has not been properly enabled\n",
       "for the frontend that you are using. For more information, see\n",
       "https://altair-viz.github.io/user_guide/troubleshooting.html\n"
      ]
     },
     "execution_count": 14,
     "metadata": {},
     "output_type": "execute_result"
    }
   ],
   "source": [
    "rec = []\n",
    "for dsize, d in decoys.items():\n",
    "    bit = tmol.score.ljlk.cpp_potential.cpu.block_interaction_table(d.tmol_coords, 6.0)\n",
    "    bit_frac = float(bit.sum() / (bit.shape[0] * bit.shape[1]))\n",
    "    rec.append(dict(dsize=dsize, bit_frac=bit_frac))\n",
    "\n",
    "c = altair.Chart(pandas.DataFrame.from_records(rec))\n",
    "\n",
    "sum([c.mark_line().encode(x=\"dsize\", y=\"bit_frac\"), c.mark_point().encode(x=\"dsize\", y=\"bit_frac\")])"
   ]
  },
  {
   "cell_type": "code",
   "execution_count": 15,
   "metadata": {},
   "outputs": [
    {
     "data": {
      "application/vnd.vegalite.v2+json": {
       "$schema": "https://vega.github.io/schema/vega-lite/v2.6.0.json",
       "config": {
        "axis": {
         "labelFontSize": 16,
         "titleFontSize": 16
        },
        "header": {
         "labelFontSize": 16,
         "titleFontSize": 16
        },
        "legend": {
         "labelFontSize": 16,
         "titleFontSize": 16
        },
        "title": {
         "fontSize": 16
        },
        "view": {
         "height": 500,
         "width": 800
        }
       },
       "datasets": {
        "data-4acc46d1e158f46d16619207a584e356": [
         {
          "device": "cpu",
          "impl": "rosetta",
          "model": "BYSIZE_400",
          "name": "score.rosetta_atr_rep",
          "natoms": 7176,
          "nres": 370,
          "rosetta_relative": 1.0032557231832686,
          "time": 0.03975853230804205
         },
         {
          "device": "cpu",
          "impl": "rosetta",
          "model": "BYSIZE_400",
          "name": "score.rosetta_atr_rep",
          "natoms": 7176,
          "nres": 370,
          "rosetta_relative": 1.0006272953081492,
          "time": 0.03965436900034547
         },
         {
          "device": "cpu",
          "impl": "rosetta",
          "model": "BYSIZE_400",
          "name": "score.rosetta_atr_rep",
          "natoms": 7176,
          "nres": 370,
          "rosetta_relative": 0.9990205853565637,
          "time": 0.03959069587290287
         },
         {
          "device": "cpu",
          "impl": "rosetta",
          "model": "BYSIZE_400",
          "name": "score.rosetta_atr_rep",
          "natoms": 7176,
          "nres": 370,
          "rosetta_relative": 0.9991534702585468,
          "time": 0.03959596203640103
         },
         {
          "device": "cpu",
          "impl": "rosetta",
          "model": "BYSIZE_400",
          "name": "score.rosetta_atr_rep",
          "natoms": 7176,
          "nres": 370,
          "rosetta_relative": 0.9985291027502101,
          "time": 0.03957121865823865
         },
         {
          "device": "cpu",
          "impl": "rosetta",
          "model": "BYSIZE_400",
          "name": "score.rosetta_atr_rep",
          "natoms": 7176,
          "nres": 370,
          "rosetta_relative": 0.9994138231432619,
          "time": 0.03960627969354391
         },
         {
          "device": "cpu",
          "impl": "blocked",
          "model": "BYSIZE_400",
          "name": "score.tmol_lj_cpu_cpp.blocked",
          "natoms": 7176,
          "nres": 370,
          "rosetta_relative": 1.5595773606796521,
          "time": 0.06180528597906232
         },
         {
          "device": "cpu",
          "impl": "blocked",
          "model": "BYSIZE_400",
          "name": "score.tmol_lj_cpu_cpp.blocked",
          "natoms": 7176,
          "nres": 370,
          "rosetta_relative": 1.5597977975671935,
          "time": 0.06181402178481221
         },
         {
          "device": "cpu",
          "impl": "blocked",
          "model": "BYSIZE_400",
          "name": "score.tmol_lj_cpu_cpp.blocked",
          "natoms": 7176,
          "nres": 370,
          "rosetta_relative": 1.566816362361958,
          "time": 0.06209216406568885
         },
         {
          "device": "cpu",
          "impl": "blocked",
          "model": "BYSIZE_400",
          "name": "score.tmol_lj_cpu_cpp.blocked",
          "natoms": 7176,
          "nres": 370,
          "rosetta_relative": 1.5700351051814434,
          "time": 0.062219721265137196
         },
         {
          "device": "cpu",
          "impl": "naive",
          "model": "BYSIZE_400",
          "name": "score.tmol_lj_cpu_cpp.naive",
          "natoms": 7176,
          "nres": 370,
          "rosetta_relative": 4.868327898452341,
          "time": 0.1929294471628964
         },
         {
          "device": "cpu",
          "impl": "naive",
          "model": "BYSIZE_400",
          "name": "score.tmol_lj_cpu_cpp.naive",
          "natoms": 7176,
          "nres": 370,
          "rosetta_relative": 5.097507999175038,
          "time": 0.20201174216344953
         },
         {
          "device": "cpu",
          "impl": "naive",
          "model": "BYSIZE_400",
          "name": "score.tmol_lj_cpu_cpp.naive",
          "natoms": 7176,
          "nres": 370,
          "rosetta_relative": 4.596625392868875,
          "time": 0.1821620101109147
         },
         {
          "device": "cpu",
          "impl": "rosetta",
          "model": "BYSIZE_250",
          "name": "score.rosetta_atr_rep",
          "natoms": 4128,
          "nres": 233,
          "rosetta_relative": 1.0040965899508592,
          "time": 0.022890203166753054
         },
         {
          "device": "cpu",
          "impl": "rosetta",
          "model": "BYSIZE_250",
          "name": "score.rosetta_atr_rep",
          "natoms": 4128,
          "nres": 233,
          "rosetta_relative": 1.0026326567369461,
          "time": 0.022856830153614283
         },
         {
          "device": "cpu",
          "impl": "rosetta",
          "model": "BYSIZE_250",
          "name": "score.rosetta_atr_rep",
          "natoms": 4128,
          "nres": 233,
          "rosetta_relative": 1.0000282045885183,
          "time": 0.022797456942498684
         },
         {
          "device": "cpu",
          "impl": "rosetta",
          "model": "BYSIZE_250",
          "name": "score.rosetta_atr_rep",
          "natoms": 4128,
          "nres": 233,
          "rosetta_relative": 0.9954256024858821,
          "time": 0.022692532278597355
         },
         {
          "device": "cpu",
          "impl": "rosetta",
          "model": "BYSIZE_250",
          "name": "score.rosetta_atr_rep",
          "natoms": 4128,
          "nres": 233,
          "rosetta_relative": 1.0092558984749382,
          "time": 0.023007818963378668
         },
         {
          "device": "cpu",
          "impl": "rosetta",
          "model": "BYSIZE_250",
          "name": "score.rosetta_atr_rep",
          "natoms": 4128,
          "nres": 233,
          "rosetta_relative": 0.9954751165522788,
          "time": 0.02269366104155779
         },
         {
          "device": "cpu",
          "impl": "rosetta",
          "model": "BYSIZE_250",
          "name": "score.rosetta_atr_rep",
          "natoms": 4128,
          "nres": 233,
          "rosetta_relative": 1.003513471942019,
          "time": 0.02287690993398428
         },
         {
          "device": "cpu",
          "impl": "rosetta",
          "model": "BYSIZE_250",
          "name": "score.rosetta_atr_rep",
          "natoms": 4128,
          "nres": 233,
          "rosetta_relative": 0.9953211408788057,
          "time": 0.022690150886774063
         },
         {
          "device": "cpu",
          "impl": "rosetta",
          "model": "BYSIZE_250",
          "name": "score.rosetta_atr_rep",
          "natoms": 4128,
          "nres": 233,
          "rosetta_relative": 0.9942513183897523,
          "time": 0.022665762342512608
         },
         {
          "device": "cpu",
          "impl": "blocked",
          "model": "BYSIZE_250",
          "name": "score.tmol_lj_cpu_cpp.blocked",
          "natoms": 4128,
          "nres": 233,
          "rosetta_relative": 1.1102673719413123,
          "time": 0.02531055873259902
         },
         {
          "device": "cpu",
          "impl": "blocked",
          "model": "BYSIZE_250",
          "name": "score.tmol_lj_cpu_cpp.blocked",
          "natoms": 4128,
          "nres": 233,
          "rosetta_relative": 1.0949855008283471,
          "time": 0.024962180759757757
         },
         {
          "device": "cpu",
          "impl": "blocked",
          "model": "BYSIZE_250",
          "name": "score.tmol_lj_cpu_cpp.blocked",
          "natoms": 4128,
          "nres": 233,
          "rosetta_relative": 1.10611149947238,
          "time": 0.02521581808105111
         },
         {
          "device": "cpu",
          "impl": "blocked",
          "model": "BYSIZE_250",
          "name": "score.tmol_lj_cpu_cpp.blocked",
          "natoms": 4128,
          "nres": 233,
          "rosetta_relative": 1.1167603532826822,
          "time": 0.025458578020334244
         },
         {
          "device": "cpu",
          "impl": "blocked",
          "model": "BYSIZE_250",
          "name": "score.tmol_lj_cpu_cpp.blocked",
          "natoms": 4128,
          "nres": 233,
          "rosetta_relative": 1.0863130222219315,
          "time": 0.024764475878328085
         },
         {
          "device": "cpu",
          "impl": "blocked",
          "model": "BYSIZE_250",
          "name": "score.tmol_lj_cpu_cpp.blocked",
          "natoms": 4128,
          "nres": 233,
          "rosetta_relative": 1.1259801012236286,
          "time": 0.025668758898973465
         },
         {
          "device": "cpu",
          "impl": "blocked",
          "model": "BYSIZE_250",
          "name": "score.tmol_lj_cpu_cpp.blocked",
          "natoms": 4128,
          "nres": 233,
          "rosetta_relative": 1.1195979750135852,
          "time": 0.02552326675504446
         },
         {
          "device": "cpu",
          "impl": "blocked",
          "model": "BYSIZE_250",
          "name": "score.tmol_lj_cpu_cpp.blocked",
          "natoms": 4128,
          "nres": 233,
          "rosetta_relative": 1.1035144213247643,
          "time": 0.02515661297366023
         },
         {
          "device": "cpu",
          "impl": "blocked",
          "model": "BYSIZE_250",
          "name": "score.tmol_lj_cpu_cpp.blocked",
          "natoms": 4128,
          "nres": 233,
          "rosetta_relative": 1.128408333136576,
          "time": 0.02572411485016346
         },
         {
          "device": "cpu",
          "impl": "blocked",
          "model": "BYSIZE_250",
          "name": "score.tmol_lj_cpu_cpp.blocked",
          "natoms": 4128,
          "nres": 233,
          "rosetta_relative": 1.1432489080901203,
          "time": 0.026062432676553726
         },
         {
          "device": "cpu",
          "impl": "naive",
          "model": "BYSIZE_250",
          "name": "score.tmol_lj_cpu_cpp.naive",
          "natoms": 4128,
          "nres": 233,
          "rosetta_relative": 2.6056159536809433,
          "time": 0.05939974216744304
         },
         {
          "device": "cpu",
          "impl": "naive",
          "model": "BYSIZE_250",
          "name": "score.tmol_lj_cpu_cpp.naive",
          "natoms": 4128,
          "nres": 233,
          "rosetta_relative": 2.592674745667954,
          "time": 0.05910472385585308
         },
         {
          "device": "cpu",
          "impl": "naive",
          "model": "BYSIZE_250",
          "name": "score.tmol_lj_cpu_cpp.naive",
          "natoms": 4128,
          "nres": 233,
          "rosetta_relative": 2.5790781912060345,
          "time": 0.05879476573318243
         },
         {
          "device": "cpu",
          "impl": "naive",
          "model": "BYSIZE_250",
          "name": "score.tmol_lj_cpu_cpp.naive",
          "natoms": 4128,
          "nres": 233,
          "rosetta_relative": 2.6207124942970363,
          "time": 0.05974389519542456
         },
         {
          "device": "cpu",
          "impl": "naive",
          "model": "BYSIZE_250",
          "name": "score.tmol_lj_cpu_cpp.naive",
          "natoms": 4128,
          "nres": 233,
          "rosetta_relative": 2.602670520381376,
          "time": 0.05933259567245841
         },
         {
          "device": "cpu",
          "impl": "rosetta",
          "model": "BYSIZE_300",
          "name": "score.rosetta_atr_rep",
          "natoms": 5408,
          "nres": 298,
          "rosetta_relative": 1.0279335966766598,
          "time": 0.03486206196248531
         },
         {
          "device": "cpu",
          "impl": "rosetta",
          "model": "BYSIZE_300",
          "name": "score.rosetta_atr_rep",
          "natoms": 5408,
          "nres": 298,
          "rosetta_relative": 1.006468159816937,
          "time": 0.03413406806066632
         },
         {
          "device": "cpu",
          "impl": "rosetta",
          "model": "BYSIZE_300",
          "name": "score.rosetta_atr_rep",
          "natoms": 5408,
          "nres": 298,
          "rosetta_relative": 0.9992474562745745,
          "time": 0.033889180049300194
         },
         {
          "device": "cpu",
          "impl": "rosetta",
          "model": "BYSIZE_300",
          "name": "score.rosetta_atr_rep",
          "natoms": 5408,
          "nres": 298,
          "rosetta_relative": 0.9979718640510687,
          "time": 0.03384591871872544
         },
         {
          "device": "cpu",
          "impl": "rosetta",
          "model": "BYSIZE_300",
          "name": "score.rosetta_atr_rep",
          "natoms": 5408,
          "nres": 298,
          "rosetta_relative": 0.9912697289843998,
          "time": 0.03361861780285835
         },
         {
          "device": "cpu",
          "impl": "rosetta",
          "model": "BYSIZE_300",
          "name": "score.rosetta_atr_rep",
          "natoms": 5408,
          "nres": 298,
          "rosetta_relative": 0.9892894394391799,
          "time": 0.03355145687237382
         },
         {
          "device": "cpu",
          "impl": "rosetta",
          "model": "BYSIZE_300",
          "name": "score.rosetta_atr_rep",
          "natoms": 5408,
          "nres": 298,
          "rosetta_relative": 0.9878197547571801,
          "time": 0.033501612953841686
         },
         {
          "device": "cpu",
          "impl": "blocked",
          "model": "BYSIZE_300",
          "name": "score.tmol_lj_cpu_cpp.blocked",
          "natoms": 5408,
          "nres": 298,
          "rosetta_relative": 1.1457045919019229,
          "time": 0.038856230210512877
         },
         {
          "device": "cpu",
          "impl": "blocked",
          "model": "BYSIZE_300",
          "name": "score.tmol_lj_cpu_cpp.blocked",
          "natoms": 5408,
          "nres": 298,
          "rosetta_relative": 1.1429628574309314,
          "time": 0.03876324510201812
         },
         {
          "device": "cpu",
          "impl": "blocked",
          "model": "BYSIZE_300",
          "name": "score.tmol_lj_cpu_cpp.blocked",
          "natoms": 5408,
          "nres": 298,
          "rosetta_relative": 1.1418410178496312,
          "time": 0.03872519824653864
         },
         {
          "device": "cpu",
          "impl": "blocked",
          "model": "BYSIZE_300",
          "name": "score.tmol_lj_cpu_cpp.blocked",
          "natoms": 5408,
          "nres": 298,
          "rosetta_relative": 1.1390830540856332,
          "time": 0.03863166272640228
         },
         {
          "device": "cpu",
          "impl": "blocked",
          "model": "BYSIZE_300",
          "name": "score.tmol_lj_cpu_cpp.blocked",
          "natoms": 5408,
          "nres": 298,
          "rosetta_relative": 1.1534802356603973,
          "time": 0.03911993885412812
         },
         {
          "device": "cpu",
          "impl": "blocked",
          "model": "BYSIZE_300",
          "name": "score.tmol_lj_cpu_cpp.blocked",
          "natoms": 5408,
          "nres": 298,
          "rosetta_relative": 1.1397908956612377,
          "time": 0.03865566896274686
         },
         {
          "device": "cpu",
          "impl": "blocked",
          "model": "BYSIZE_300",
          "name": "score.tmol_lj_cpu_cpp.blocked",
          "natoms": 5408,
          "nres": 298,
          "rosetta_relative": 1.1371756315945465,
          "time": 0.03856697306036949
         },
         {
          "device": "cpu",
          "impl": "naive",
          "model": "BYSIZE_300",
          "name": "score.tmol_lj_cpu_cpp.naive",
          "natoms": 5408,
          "nres": 298,
          "rosetta_relative": 3.306211154231457,
          "time": 0.11212916718795896
         },
         {
          "device": "cpu",
          "impl": "naive",
          "model": "BYSIZE_300",
          "name": "score.tmol_lj_cpu_cpp.naive",
          "natoms": 5408,
          "nres": 298,
          "rosetta_relative": 4.579527967698003,
          "time": 0.15531332790851593
         },
         {
          "device": "cpu",
          "impl": "naive",
          "model": "BYSIZE_300",
          "name": "score.tmol_lj_cpu_cpp.naive",
          "natoms": 5408,
          "nres": 298,
          "rosetta_relative": 4.688482104294604,
          "time": 0.15900847502052784
         }
        ]
       },
       "layer": [
        {
         "data": {
          "name": "data-4acc46d1e158f46d16619207a584e356"
         },
         "encoding": {
          "color": {
           "field": "impl",
           "type": "nominal"
          },
          "shape": {
           "field": "device",
           "type": "nominal"
          },
          "x": {
           "field": "nres",
           "type": "quantitative"
          },
          "y": {
           "aggregate": "mean",
           "axis": {
            "format": "s"
           },
           "field": "time",
           "scale": {
            "base": 10,
            "type": "log"
           },
           "type": "quantitative"
          }
         },
         "mark": "line"
        },
        {
         "data": {
          "name": "data-4acc46d1e158f46d16619207a584e356"
         },
         "encoding": {
          "color": {
           "field": "impl",
           "type": "nominal"
          },
          "shape": {
           "field": "device",
           "type": "nominal"
          },
          "x": {
           "field": "nres",
           "type": "quantitative"
          },
          "y": {
           "aggregate": "mean",
           "axis": {
            "format": "s"
           },
           "field": "time",
           "scale": {
            "base": 10,
            "type": "log"
           },
           "type": "quantitative"
          }
         },
         "mark": {
          "size": 100,
          "type": "point"
         }
        }
       ]
      },
      "image/png": "[encoded data removed]",
      "text/plain": [
       "<VegaLite 2 object>\n",
       "\n",
       "If you see this message, it means the renderer has not been properly enabled\n",
       "for the frontend that you are using. For more information, see\n",
       "https://altair-viz.github.io/user_guide/troubleshooting.html\n"
      ]
     },
     "execution_count": 15,
     "metadata": {},
     "output_type": "execute_result"
    }
   ],
   "source": [
    "dat = stat_frame(rosetta_score_results)\n",
    "dat = pandas.concat(\n",
    "    (\n",
    "        dat,\n",
    "        pandas.merge(\n",
    "            dat,\n",
    "            dat.query(\"name == 'score.rosetta_atr_rep'\").groupby(\"model\").time.mean().rename(\"rosetta_mean\").to_frame(),\n",
    "            left_on=\"model\",\n",
    "            right_index=True\n",
    "        ).eval(\"time / rosetta_mean\").rename(\"rosetta_relative\")\n",
    "    ),\n",
    "    axis=1\n",
    ")\n",
    "\n",
    "encoding = dict(\n",
    "        x=\"nres\",\n",
    "        y=altair.Y(\n",
    "            \"mean(time)\",\n",
    "            scale=altair.Scale(type=\"log\", base=10),\n",
    "            axis=altair.Axis(format=\"s\"),\n",
    "        ),\n",
    "        color=\"impl\",\n",
    "        shape=\"device\",\n",
    ")\n",
    "\n",
    "c = (\n",
    "    altair.Chart(dat)\n",
    "    .mark_line()\n",
    "    .encode(**encoding)\n",
    "     +\n",
    "    altair.Chart(dat)\n",
    "    .mark_point(size=100)\n",
    "    .encode(**encoding)\n",
    ")\n",
    "c"
   ]
  },
  {
   "cell_type": "code",
   "execution_count": 16,
   "metadata": {},
   "outputs": [
    {
     "data": {
      "text/html": [
       "<div>\n",
       "<style scoped>\n",
       "    .dataframe tbody tr th:only-of-type {\n",
       "        vertical-align: middle;\n",
       "    }\n",
       "\n",
       "    .dataframe tbody tr th {\n",
       "        vertical-align: top;\n",
       "    }\n",
       "\n",
       "    .dataframe thead tr th {\n",
       "        text-align: left;\n",
       "    }\n",
       "\n",
       "    .dataframe thead tr:last-of-type th {\n",
       "        text-align: right;\n",
       "    }\n",
       "</style>\n",
       "<table border=\"1\" class=\"dataframe\">\n",
       "  <thead>\n",
       "    <tr>\n",
       "      <th></th>\n",
       "      <th>mean</th>\n",
       "      <th>max</th>\n",
       "      <th>std</th>\n",
       "    </tr>\n",
       "    <tr>\n",
       "      <th></th>\n",
       "      <th>time</th>\n",
       "      <th>time</th>\n",
       "      <th>time</th>\n",
       "    </tr>\n",
       "    <tr>\n",
       "      <th>natoms</th>\n",
       "      <th></th>\n",
       "      <th></th>\n",
       "      <th></th>\n",
       "    </tr>\n",
       "  </thead>\n",
       "  <tbody>\n",
       "    <tr>\n",
       "      <th>4128</th>\n",
       "      <td>0.022797</td>\n",
       "      <td>0.023008</td>\n",
       "      <td>0.000119</td>\n",
       "    </tr>\n",
       "    <tr>\n",
       "      <th>5408</th>\n",
       "      <td>0.033915</td>\n",
       "      <td>0.034862</td>\n",
       "      <td>0.000473</td>\n",
       "    </tr>\n",
       "    <tr>\n",
       "      <th>7176</th>\n",
       "      <td>0.039630</td>\n",
       "      <td>0.039759</td>\n",
       "      <td>0.000069</td>\n",
       "    </tr>\n",
       "  </tbody>\n",
       "</table>\n",
       "</div>"
      ],
      "text/plain": [
       "            mean       max       std\n",
       "            time      time      time\n",
       "natoms                              \n",
       "4128    0.022797  0.023008  0.000119\n",
       "5408    0.033915  0.034862  0.000473\n",
       "7176    0.039630  0.039759  0.000069"
      ]
     },
     "metadata": {},
     "output_type": "display_data"
    },
    {
     "data": {
      "text/html": [
       "<div>\n",
       "<style scoped>\n",
       "    .dataframe tbody tr th:only-of-type {\n",
       "        vertical-align: middle;\n",
       "    }\n",
       "\n",
       "    .dataframe tbody tr th {\n",
       "        vertical-align: top;\n",
       "    }\n",
       "\n",
       "    .dataframe thead th {\n",
       "        text-align: right;\n",
       "    }\n",
       "</style>\n",
       "<table border=\"1\" class=\"dataframe\">\n",
       "  <thead>\n",
       "    <tr style=\"text-align: right;\">\n",
       "      <th></th>\n",
       "      <th>rosetta_relative</th>\n",
       "      <th>time</th>\n",
       "      <th>fold_acceleration</th>\n",
       "    </tr>\n",
       "    <tr>\n",
       "      <th>natoms</th>\n",
       "      <th></th>\n",
       "      <th></th>\n",
       "      <th></th>\n",
       "    </tr>\n",
       "  </thead>\n",
       "  <tbody>\n",
       "    <tr>\n",
       "      <th>4128</th>\n",
       "      <td>1.113519</td>\n",
       "      <td>0.025385</td>\n",
       "      <td>0.898054</td>\n",
       "    </tr>\n",
       "    <tr>\n",
       "      <th>5408</th>\n",
       "      <td>1.142863</td>\n",
       "      <td>0.038760</td>\n",
       "      <td>0.874996</td>\n",
       "    </tr>\n",
       "    <tr>\n",
       "      <th>7176</th>\n",
       "      <td>1.564057</td>\n",
       "      <td>0.061983</td>\n",
       "      <td>0.639363</td>\n",
       "    </tr>\n",
       "  </tbody>\n",
       "</table>\n",
       "</div>"
      ],
      "text/plain": [
       "        rosetta_relative      time  fold_acceleration\n",
       "natoms                                               \n",
       "4128            1.113519  0.025385           0.898054\n",
       "5408            1.142863  0.038760           0.874996\n",
       "7176            1.564057  0.061983           0.639363"
      ]
     },
     "metadata": {},
     "output_type": "display_data"
    }
   ],
   "source": [
    "display((\n",
    "    dat.query(\"name=='score.rosetta_atr_rep'\")\n",
    "    .groupby(\"natoms\")[[\"time\"]]\n",
    "    .describe().reorder_levels((1, 0), axis=1)[[\"mean\", \"max\", \"std\"]]\n",
    "))\n",
    "\n",
    "display((dat\n",
    "    .groupby((\"natoms\", \"name\"))[[\"rosetta_relative\", \"time\"]]\n",
    "    .describe()\n",
    "    .reorder_levels((1, 0), axis=1)[\"mean\"]\n",
    "    .xs(\"score.tmol_lj_cpu_cpp.blocked\", level=1)\n",
    "    .eval(\"fold_acceleration = rosetta_relative ** -1\")\n",
    "))"
   ]
  }
 ],
 "metadata": {
  "kernelspec": {
   "display_name": "Python [conda env:tmol]",
   "language": "python",
   "name": "conda-env-tmol-py"
  },
  "language_info": {
   "codemirror_mode": {
    "name": "ipython",
    "version": 3
   },
   "file_extension": ".py",
   "mimetype": "text/x-python",
   "name": "python",
   "nbconvert_exporter": "python",
   "pygments_lexer": "ipython3",
   "version": "3.6.6"
  },
  "toc-autonumbering": true,
  "toc-showcode": false,
  "toc-showmarkdowntxt": false,
  "toc-showtags": false
 },
 "nbformat": 4,
 "nbformat_minor": 2
}
