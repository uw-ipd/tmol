{
 "cells": [
  {
   "cell_type": "markdown",
   "metadata": {},
   "source": [
    "\n",
    "# Base Imports"
   ]
  },
  {
   "cell_type": "code",
   "execution_count": 1,
   "metadata": {},
   "outputs": [],
   "source": [
    "import importlib\n",
    "import logging\n",
    "importlib.reload(logging)\n",
    "logging.basicConfig(level=logging.INFO)\n",
    "\n",
    "logging.getLogger(\"rosetta\").setLevel(logging.WARNING)"
   ]
  },
  {
   "cell_type": "code",
   "execution_count": 2,
   "metadata": {},
   "outputs": [],
   "source": [
    "import toolz\n",
    "from toolz import first"
   ]
  },
  {
   "cell_type": "code",
   "execution_count": 3,
   "metadata": {},
   "outputs": [],
   "source": [
    "import pyrosetta.distributed"
   ]
  },
  {
   "cell_type": "code",
   "execution_count": 4,
   "metadata": {},
   "outputs": [],
   "source": [
    "import tmol.tests.data"
   ]
  },
  {
   "cell_type": "code",
   "execution_count": 5,
   "metadata": {},
   "outputs": [],
   "source": [
    "import tmol.system.io\n",
    "import tmol.score\n",
    "import torch\n",
    "import tmol.score.ljlk.jit_score_graph\n",
    "import tmol.score.ljlk.cpp_potential"
   ]
  },
  {
   "cell_type": "code",
   "execution_count": 6,
   "metadata": {},
   "outputs": [],
   "source": [
    "from tmol.utility.reactive import reactive_attrs, reactive_property"
   ]
  },
  {
   "cell_type": "markdown",
   "metadata": {},
   "source": [
    "# Rosetta Scoring\n",
    "\n",
    "Benchmark rosetta scoring performance by structure size."
   ]
  },
  {
   "cell_type": "code",
   "execution_count": 7,
   "metadata": {},
   "outputs": [],
   "source": [
    "import toolz"
   ]
  },
  {
   "cell_type": "code",
   "execution_count": 8,
   "metadata": {},
   "outputs": [],
   "source": [
    "decoys = tmol.tests.data.structures_bysize()"
   ]
  },
  {
   "cell_type": "code",
   "execution_count": 28,
   "metadata": {},
   "outputs": [
    {
     "name": "stderr",
     "output_type": "stream",
     "text": [
      "INFO:root:100\n",
      "INFO:root:Rosetta\n",
      "INFO:root:tmol_lj_cpu_cpp\n",
      "INFO:root:rosetta: -440.40303847870354 score.tmol_lj_cpu_cpp.blocked: tensor([-370.7063]) score.tmol_lj_cpu_cpp.naive: tensor([-370.7062])\n",
      "INFO:root:150\n",
      "INFO:root:Rosetta\n",
      "INFO:root:tmol_lj_cpu_cpp\n",
      "INFO:root:rosetta: -752.441272221159 score.tmol_lj_cpu_cpp.blocked: tensor([-353.4838]) score.tmol_lj_cpu_cpp.naive: tensor([-353.4837])\n",
      "INFO:root:40\n",
      "INFO:root:Rosetta\n",
      "INFO:root:tmol_lj_cpu_cpp\n",
      "INFO:root:rosetta: -174.25545026564072 score.tmol_lj_cpu_cpp.blocked: tensor([-152.2725]) score.tmol_lj_cpu_cpp.naive: tensor([-152.2725])\n",
      "INFO:root:75\n",
      "INFO:root:Rosetta\n",
      "INFO:root:tmol_lj_cpu_cpp\n",
      "INFO:root:rosetta: -291.7034003587354 score.tmol_lj_cpu_cpp.blocked: tensor([430.5978]) score.tmol_lj_cpu_cpp.naive: tensor([430.5983])\n",
      "INFO:root:55\n",
      "INFO:root:Rosetta\n",
      "INFO:root:tmol_lj_cpu_cpp\n",
      "INFO:root:rosetta: -159.61986092225598 score.tmol_lj_cpu_cpp.blocked: tensor([-32.8630]) score.tmol_lj_cpu_cpp.naive: tensor([-32.8630])\n",
      "INFO:root:15\n",
      "INFO:root:Rosetta\n",
      "INFO:root:tmol_lj_cpu_cpp\n",
      "INFO:root:rosetta: -29.96811007053806 score.tmol_lj_cpu_cpp.blocked: tensor([nan]) score.tmol_lj_cpu_cpp.naive: tensor([nan])\n",
      "INFO:root:800\n",
      "INFO:root:Rosetta\n",
      "INFO:root:tmol_lj_cpu_cpp\n",
      "INFO:root:rosetta: -3726.4366832276155 score.tmol_lj_cpu_cpp.blocked: tensor([-1662.2559]) score.tmol_lj_cpu_cpp.naive: tensor([-1662.2570])\n",
      "INFO:root:400\n",
      "INFO:root:Rosetta\n",
      "INFO:root:tmol_lj_cpu_cpp\n",
      "INFO:root:rosetta: -1653.4115141856676 score.tmol_lj_cpu_cpp.blocked: tensor([710.3572]) score.tmol_lj_cpu_cpp.naive: tensor([710.3551])\n",
      "INFO:root:250\n",
      "INFO:root:Rosetta\n",
      "INFO:root:tmol_lj_cpu_cpp\n",
      "INFO:root:rosetta: -1119.8932213914081 score.tmol_lj_cpu_cpp.blocked: tensor([-716.1951]) score.tmol_lj_cpu_cpp.naive: tensor([-716.1954])\n",
      "INFO:root:200\n",
      "INFO:root:Rosetta\n",
      "INFO:root:tmol_lj_cpu_cpp\n",
      "INFO:root:rosetta: -954.3679023401932 score.tmol_lj_cpu_cpp.blocked: tensor([-690.8176]) score.tmol_lj_cpu_cpp.naive: tensor([-690.8175])\n",
      "INFO:root:950\n",
      "INFO:root:Rosetta\n",
      "INFO:root:tmol_lj_cpu_cpp\n",
      "INFO:root:rosetta: -4624.078937729789 score.tmol_lj_cpu_cpp.blocked: tensor([nan]) score.tmol_lj_cpu_cpp.naive: tensor([nan])\n",
      "INFO:root:600\n",
      "INFO:root:Rosetta\n",
      "INFO:root:tmol_lj_cpu_cpp\n",
      "INFO:root:rosetta: -2396.1323064549806 score.tmol_lj_cpu_cpp.blocked: tensor([-96.8915]) score.tmol_lj_cpu_cpp.naive: tensor([-96.8940])\n",
      "INFO:root:500\n",
      "INFO:root:Rosetta\n",
      "INFO:root:tmol_lj_cpu_cpp\n",
      "INFO:root:rosetta: -2404.5069278403616 score.tmol_lj_cpu_cpp.blocked: tensor([-810.1870]) score.tmol_lj_cpu_cpp.naive: tensor([-810.1866])\n",
      "INFO:root:300\n",
      "INFO:root:Rosetta\n",
      "INFO:root:tmol_lj_cpu_cpp\n",
      "INFO:root:rosetta: -1595.3013226696185 score.tmol_lj_cpu_cpp.blocked: tensor([nan]) score.tmol_lj_cpu_cpp.naive: tensor([nan])\n"
     ]
    }
   ],
   "source": [
    "from tmol.tests.benchmark import subfixture, make_subfixture, make_fixture, stat_frame, stat_profile\n",
    "\n",
    "torch.set_num_threads(1)\n",
    "\n",
    "rosetta_score_results = []\n",
    "scores = {}\n",
    "profiles = {}\n",
    "\n",
    "for dsize, d in decoys.items():\n",
    "    model_name = f\"BYSIZE_{dsize}\"\n",
    "\n",
    "    work_pose = d.stripped_pose.pose\n",
    "\n",
    "    logging.info(dsize)\n",
    "\n",
    "    fixture = make_fixture(\n",
    "        \"score\",\n",
    "        rosetta_score_results.append,\n",
    "        nres=len(work_pose.residues),\n",
    "        natoms=len(d.tmol_coords),\n",
    "        model=model_name,\n",
    "        max_time=.25,\n",
    "        use_cprofile=True,\n",
    "        \n",
    "    )\n",
    "\n",
    "    logging.info(\"Rosetta\")\n",
    "    atr_rep_sf = pyrosetta.get_score_function()\n",
    "    for k, v in pyrosetta.rosetta.core.scoring.ScoreType.__members__.items():\n",
    "        if k not in (\"fa_atr\", \"fa_rep\"):\n",
    "            atr_rep_sf.set_weight(v, 0)\n",
    "\n",
    "    @subfixture(fixture, impl=\"rosetta\", device=\"cpu\")\n",
    "    def rosetta_atr_rep():\n",
    "        work_pose.energies().clear()\n",
    "        return atr_rep_sf(work_pose)\n",
    "    \n",
    "    @reactive_attrs\n",
    "    class TMolJitLJLK(\n",
    "        tmol.score.ljlk.jit_score_graph.JitLJLKScoreGraph,\n",
    "        tmol.score.coordinates.CartesianAtomicCoordinateProvider,\n",
    "        tmol.score.bonded_atom.BondedAtomScoreGraph,\n",
    "        tmol.score.device.TorchDevice,\n",
    "    ):\n",
    "        pass\n",
    "\n",
    "    score_graphs = dict(\n",
    "        tmol_lj_cpu_cpp=TMolJitLJLK.build_for(\n",
    "            d.tmol_system, requires_grad=False, lj_jit_type=\"cpp\"\n",
    "        )\n",
    "    )\n",
    "\n",
    "    for n, sg in score_graphs.items():\n",
    "        logging.info(f\"{n}\")\n",
    "        # Setup graph\n",
    "        sg.intra_score().total_lj\n",
    "\n",
    "        for ptype in tmol.score.ljlk.cpp_potential.potentials:\n",
    "            tmol.score.ljlk.cpp_potential.POTENTIAL_SET = ptype\n",
    "\n",
    "            gfix = make_subfixture(\n",
    "                fixture, f\".{n}.{ptype}\", impl=ptype, device=sg.device.type\n",
    "            )\n",
    "\n",
    "            @gfix\n",
    "            def benchmark_score_graph():\n",
    "                sg.coords = sg.coords\n",
    "                return sg.intra_score().total_lj\n",
    "\n",
    "            scores.setdefault(model_name, {})[gfix.name] = benchmark_score_graph\n",
    "\n",
    "    del score_graphs\n",
    "    torch.cuda.empty_cache()\n",
    "\n",
    "    tmol_scores = \" \".join(f\"{n}: {v}\" for n, v in scores[model_name].items())\n",
    "\n",
    "    logging.info(f\"rosetta: {rosetta_atr_rep} {tmol_scores}\")\n"
   ]
  },
  {
   "cell_type": "code",
   "execution_count": 43,
   "metadata": {},
   "outputs": [],
   "source": [
    "import operator\n",
    "def sum(v):\n",
    "    return toolz.reduce(operator.add, v)"
   ]
  },
  {
   "cell_type": "code",
   "execution_count": 34,
   "metadata": {},
   "outputs": [],
   "source": [
    "import pandas"
   ]
  },
  {
   "cell_type": "code",
   "execution_count": 35,
   "metadata": {},
   "outputs": [],
   "source": [
    "import altair\n",
    "altair.themes.register(\"vis\", lambda: dict(config={\n",
    "        \"view\": {\"height\": 500, \"width\": 800},\n",
    "        \"axis\": {\"labelFontSize\": 16, \"titleFontSize\": 16},\n",
    "        \"legend\": {\"labelFontSize\": 16, \"titleFontSize\": 16},\n",
    "        \"header\": {\"labelFontSize\": 16, \"titleFontSize\": 16},\n",
    "        \"title\": {\"fontSize\": 16},\n",
    "    }))\n",
    "altair.themes.enable(\"vis\")\n",
    "altair.data_transformers.enable('default', max_rows=20e3)\n",
    "\n",
    "pass"
   ]
  },
  {
   "cell_type": "code",
   "execution_count": 36,
   "metadata": {},
   "outputs": [
    {
     "name": "stderr",
     "output_type": "stream",
     "text": [
      "/scratch/USERS/fordas/envs/tmol/lib/python3.6/site-packages/ipykernel/__main__.py:5: FutureWarning: currently extract(expand=None) means expand=False (return Index/Series/DataFrame) but in a future version of pandas this will be changed to expand=True (return DataFrame)\n",
      "/scratch/USERS/fordas/envs/tmol/lib/python3.6/site-packages/ipykernel/__main__.py:7: SettingWithCopyWarning: \n",
      "A value is trying to be set on a copy of a slice from a DataFrame.\n",
      "Try using .loc[row_indexer,col_indexer] = value instead\n",
      "\n",
      "See the caveats in the documentation: http://pandas.pydata.org/pandas-docs/stable/indexing.html#indexing-view-versus-copy\n"
     ]
    },
    {
     "data": {
      "application/vnd.vegalite.v2+json": {
       "$schema": "https://vega.github.io/schema/vega-lite/v2.6.0.json",
       "config": {
        "axis": {
         "labelFontSize": 16,
         "titleFontSize": 16
        },
        "bar": {
         "continuousBandSize": 25
        },
        "header": {
         "labelFontSize": 16,
         "titleFontSize": 16
        },
        "legend": {
         "labelFontSize": 16,
         "titleFontSize": 16
        },
        "title": {
         "fontSize": 16
        },
        "view": {
         "height": 500,
         "width": 800
        }
       },
       "data": {
        "name": "data-2ff38ebd2d230d812482c570a7b56130"
       },
       "datasets": {
        "data-2ff38ebd2d230d812482c570a7b56130": [
         {
          "cumtime": 0.0036019999999999997,
          "cumtime_per": 0.0036019999999999997,
          "device": "cpu",
          "fractime": 0.8615163836402774,
          "function": "lj_intra_block",
          "function_name": "~:0(<built-in method tmol_score_ljlk_cpp_potential_cpu.lj_intra_block>)",
          "impl": "blocked",
          "model": "BYSIZE_100",
          "name": "score.tmol_lj_cpu_cpp.blocked",
          "natoms": 1864,
          "ncalls": 1,
          "ncalls_recursion": "1",
          "nres": 97,
          "tottime": 0.0036019999999999997,
          "tottime_per": 0.0036019999999999997
         },
         {
          "cumtime": 0.00592,
          "cumtime_per": 0.00592,
          "device": "cpu",
          "fractime": 0.8554913294797687,
          "function": "lj_intra_block",
          "function_name": "~:0(<built-in method tmol_score_ljlk_cpp_potential_cpu.lj_intra_block>)",
          "impl": "blocked",
          "model": "BYSIZE_150",
          "name": "score.tmol_lj_cpu_cpp.blocked",
          "natoms": 3016,
          "ncalls": 1,
          "ncalls_recursion": "1",
          "nres": 154,
          "tottime": 0.00592,
          "tottime_per": 0.00592
         },
         {
          "cumtime": 0.000589,
          "cumtime_per": 0.000589,
          "device": "cpu",
          "fractime": 0.08511560693641618,
          "function": "block_interaction_lists",
          "function_name": "~:0(<built-in method tmol_score_ljlk_cpp_potential_cpu.block_interaction_lists>)",
          "impl": "blocked",
          "model": "BYSIZE_150",
          "name": "score.tmol_lj_cpu_cpp.blocked",
          "natoms": 3016,
          "ncalls": 1,
          "ncalls_recursion": "1",
          "nres": 154,
          "tottime": 0.000589,
          "tottime_per": 0.000589
         },
         {
          "cumtime": 0.001354,
          "cumtime_per": 0.001354,
          "device": "cpu",
          "fractime": 0.8226002430133657,
          "function": "lj_intra_block",
          "function_name": "~:0(<built-in method tmol_score_ljlk_cpp_potential_cpu.lj_intra_block>)",
          "impl": "blocked",
          "model": "BYSIZE_40",
          "name": "score.tmol_lj_cpu_cpp.blocked",
          "natoms": 816,
          "ncalls": 1,
          "ncalls_recursion": "1",
          "nres": 43,
          "tottime": 0.001354,
          "tottime_per": 0.001354
         },
         {
          "cumtime": 0.002277,
          "cumtime_per": 0.002277,
          "device": "cpu",
          "fractime": 0.8474134722739115,
          "function": "lj_intra_block",
          "function_name": "~:0(<built-in method tmol_score_ljlk_cpp_potential_cpu.lj_intra_block>)",
          "impl": "blocked",
          "model": "BYSIZE_75",
          "name": "score.tmol_lj_cpu_cpp.blocked",
          "natoms": 1368,
          "ncalls": 1,
          "ncalls_recursion": "1",
          "nres": 73,
          "tottime": 0.002277,
          "tottime_per": 0.002277
         },
         {
          "cumtime": 0.0028669999999999998,
          "cumtime_per": 0.0028669999999999998,
          "device": "cpu",
          "fractime": 0.7773861171366595,
          "function": "lj_intra_block",
          "function_name": "~:0(<built-in method tmol_score_ljlk_cpp_potential_cpu.lj_intra_block>)",
          "impl": "blocked",
          "model": "BYSIZE_55",
          "name": "score.tmol_lj_cpu_cpp.blocked",
          "natoms": 1080,
          "ncalls": 1,
          "ncalls_recursion": "1",
          "nres": 56,
          "tottime": 0.0028669999999999998,
          "tottime_per": 0.0028669999999999998
         },
         {
          "cumtime": 0.033581,
          "cumtime_per": 0.033581,
          "device": "cpu",
          "fractime": 0.7739519232985318,
          "function": "lj_intra_block",
          "function_name": "~:0(<built-in method tmol_score_ljlk_cpp_potential_cpu.lj_intra_block>)",
          "impl": "blocked",
          "model": "BYSIZE_800",
          "name": "score.tmol_lj_cpu_cpp.blocked",
          "natoms": 14464,
          "ncalls": 1,
          "ncalls_recursion": "1",
          "nres": 753,
          "tottime": 0.033581,
          "tottime_per": 0.033581
         },
         {
          "cumtime": 0.007457999999999999,
          "cumtime_per": 0.007457999999999999,
          "device": "cpu",
          "fractime": 0.17188688377238467,
          "function": "block_interaction_lists",
          "function_name": "~:0(<built-in method tmol_score_ljlk_cpp_potential_cpu.block_interaction_lists>)",
          "impl": "blocked",
          "model": "BYSIZE_800",
          "name": "score.tmol_lj_cpu_cpp.blocked",
          "natoms": 14464,
          "ncalls": 1,
          "ncalls_recursion": "1",
          "nres": 753,
          "tottime": 0.007457999999999999,
          "tottime_per": 0.007457999999999999
         },
         {
          "cumtime": 0.0020659999999999997,
          "cumtime_per": 0.0020659999999999997,
          "device": "cpu",
          "fractime": 0.04761575514531332,
          "function": "'sum'",
          "function_name": "~:0(<method 'sum' of 'torch._C._TensorBase' objects>)",
          "impl": "blocked",
          "model": "BYSIZE_800",
          "name": "score.tmol_lj_cpu_cpp.blocked",
          "natoms": 14464,
          "ncalls": 1,
          "ncalls_recursion": "1",
          "nres": 753,
          "tottime": 0.0020659999999999997,
          "tottime_per": 0.0020659999999999997
         },
         {
          "cumtime": 0.015871,
          "cumtime_per": 0.015871,
          "device": "cpu",
          "fractime": 0.8246388860022861,
          "function": "lj_intra_block",
          "function_name": "~:0(<built-in method tmol_score_ljlk_cpp_potential_cpu.lj_intra_block>)",
          "impl": "blocked",
          "model": "BYSIZE_400",
          "name": "score.tmol_lj_cpu_cpp.blocked",
          "natoms": 7176,
          "ncalls": 1,
          "ncalls_recursion": "1",
          "nres": 370,
          "tottime": 0.015871,
          "tottime_per": 0.015871
         },
         {
          "cumtime": 0.0024259999999999998,
          "cumtime_per": 0.0024259999999999998,
          "device": "cpu",
          "fractime": 0.12605216668398625,
          "function": "block_interaction_lists",
          "function_name": "~:0(<built-in method tmol_score_ljlk_cpp_potential_cpu.block_interaction_lists>)",
          "impl": "blocked",
          "model": "BYSIZE_400",
          "name": "score.tmol_lj_cpu_cpp.blocked",
          "natoms": 7176,
          "ncalls": 1,
          "ncalls_recursion": "1",
          "nres": 370,
          "tottime": 0.0024259999999999998,
          "tottime_per": 0.0024259999999999998
         },
         {
          "cumtime": 0.000721,
          "cumtime_per": 0.000721,
          "device": "cpu",
          "fractime": 0.03746232983477085,
          "function": "'sum'",
          "function_name": "~:0(<method 'sum' of 'torch._C._TensorBase' objects>)",
          "impl": "blocked",
          "model": "BYSIZE_400",
          "name": "score.tmol_lj_cpu_cpp.blocked",
          "natoms": 7176,
          "ncalls": 1,
          "ncalls_recursion": "1",
          "nres": 370,
          "tottime": 0.000721,
          "tottime_per": 0.000721
         },
         {
          "cumtime": 0.008842,
          "cumtime_per": 0.008842,
          "device": "cpu",
          "fractime": 0.8548776950594608,
          "function": "lj_intra_block",
          "function_name": "~:0(<built-in method tmol_score_ljlk_cpp_potential_cpu.lj_intra_block>)",
          "impl": "blocked",
          "model": "BYSIZE_250",
          "name": "score.tmol_lj_cpu_cpp.blocked",
          "natoms": 4128,
          "ncalls": 1,
          "ncalls_recursion": "1",
          "nres": 233,
          "tottime": 0.008842,
          "tottime_per": 0.008842
         },
         {
          "cumtime": 0.0009729999999999999,
          "cumtime_per": 0.0009729999999999999,
          "device": "cpu",
          "fractime": 0.09407328628057626,
          "function": "block_interaction_lists",
          "function_name": "~:0(<built-in method tmol_score_ljlk_cpp_potential_cpu.block_interaction_lists>)",
          "impl": "blocked",
          "model": "BYSIZE_250",
          "name": "score.tmol_lj_cpu_cpp.blocked",
          "natoms": 4128,
          "ncalls": 1,
          "ncalls_recursion": "1",
          "nres": 233,
          "tottime": 0.0009729999999999999,
          "tottime_per": 0.0009729999999999999
         },
         {
          "cumtime": 0.007483999999999999,
          "cumtime_per": 0.007483999999999999,
          "device": "cpu",
          "fractime": 0.8566849816849815,
          "function": "lj_intra_block",
          "function_name": "~:0(<built-in method tmol_score_ljlk_cpp_potential_cpu.lj_intra_block>)",
          "impl": "blocked",
          "model": "BYSIZE_200",
          "name": "score.tmol_lj_cpu_cpp.blocked",
          "natoms": 3600,
          "ncalls": 1,
          "ncalls_recursion": "1",
          "nres": 197,
          "tottime": 0.007483999999999999,
          "tottime_per": 0.007483999999999999
         },
         {
          "cumtime": 0.000783,
          "cumtime_per": 0.000783,
          "device": "cpu",
          "fractime": 0.08962912087912087,
          "function": "block_interaction_lists",
          "function_name": "~:0(<built-in method tmol_score_ljlk_cpp_potential_cpu.block_interaction_lists>)",
          "impl": "blocked",
          "model": "BYSIZE_200",
          "name": "score.tmol_lj_cpu_cpp.blocked",
          "natoms": 3600,
          "ncalls": 1,
          "ncalls_recursion": "1",
          "nres": 197,
          "tottime": 0.000783,
          "tottime_per": 0.000783
         },
         {
          "cumtime": 0.042744,
          "cumtime_per": 0.042744,
          "device": "cpu",
          "fractime": 0.7607182900567728,
          "function": "lj_intra_block",
          "function_name": "~:0(<built-in method tmol_score_ljlk_cpp_potential_cpu.lj_intra_block>)",
          "impl": "blocked",
          "model": "BYSIZE_950",
          "name": "score.tmol_lj_cpu_cpp.blocked",
          "natoms": 17504,
          "ncalls": 1,
          "ncalls_recursion": "1",
          "nres": 956,
          "tottime": 0.042744,
          "tottime_per": 0.042744
         },
         {
          "cumtime": 0.010425,
          "cumtime_per": 0.010425,
          "device": "cpu",
          "fractime": 0.1855345352293154,
          "function": "block_interaction_lists",
          "function_name": "~:0(<built-in method tmol_score_ljlk_cpp_potential_cpu.block_interaction_lists>)",
          "impl": "blocked",
          "model": "BYSIZE_950",
          "name": "score.tmol_lj_cpu_cpp.blocked",
          "natoms": 17504,
          "ncalls": 1,
          "ncalls_recursion": "1",
          "nres": 956,
          "tottime": 0.010425,
          "tottime_per": 0.010425
         },
         {
          "cumtime": 0.002721,
          "cumtime_per": 0.002721,
          "device": "cpu",
          "fractime": 0.0484258484756803,
          "function": "'sum'",
          "function_name": "~:0(<method 'sum' of 'torch._C._TensorBase' objects>)",
          "impl": "blocked",
          "model": "BYSIZE_950",
          "name": "score.tmol_lj_cpu_cpp.blocked",
          "natoms": 17504,
          "ncalls": 1,
          "ncalls_recursion": "1",
          "nres": 956,
          "tottime": 0.002721,
          "tottime_per": 0.002721
         },
         {
          "cumtime": 0.024472999999999998,
          "cumtime_per": 0.024472999999999998,
          "device": "cpu",
          "fractime": 0.8050064142626887,
          "function": "lj_intra_block",
          "function_name": "~:0(<built-in method tmol_score_ljlk_cpp_potential_cpu.lj_intra_block>)",
          "impl": "blocked",
          "model": "BYSIZE_600",
          "name": "score.tmol_lj_cpu_cpp.blocked",
          "natoms": 10536,
          "ncalls": 1,
          "ncalls_recursion": "1",
          "nres": 548,
          "tottime": 0.024472999999999998,
          "tottime_per": 0.024472999999999998
         },
         {
          "cumtime": 0.004399,
          "cumtime_per": 0.004399,
          "device": "cpu",
          "fractime": 0.14469918752672611,
          "function": "block_interaction_lists",
          "function_name": "~:0(<built-in method tmol_score_ljlk_cpp_potential_cpu.block_interaction_lists>)",
          "impl": "blocked",
          "model": "BYSIZE_600",
          "name": "score.tmol_lj_cpu_cpp.blocked",
          "natoms": 10536,
          "ncalls": 1,
          "ncalls_recursion": "1",
          "nres": 548,
          "tottime": 0.004399,
          "tottime_per": 0.004399
         },
         {
          "cumtime": 0.001272,
          "cumtime_per": 0.001272,
          "device": "cpu",
          "fractime": 0.04184072892339068,
          "function": "'sum'",
          "function_name": "~:0(<method 'sum' of 'torch._C._TensorBase' objects>)",
          "impl": "blocked",
          "model": "BYSIZE_600",
          "name": "score.tmol_lj_cpu_cpp.blocked",
          "natoms": 10536,
          "ncalls": 1,
          "ncalls_recursion": "1",
          "nres": 548,
          "tottime": 0.001272,
          "tottime_per": 0.001272
         },
         {
          "cumtime": 0.022701,
          "cumtime_per": 0.022701,
          "device": "cpu",
          "fractime": 0.8192349332370986,
          "function": "lj_intra_block",
          "function_name": "~:0(<built-in method tmol_score_ljlk_cpp_potential_cpu.lj_intra_block>)",
          "impl": "blocked",
          "model": "BYSIZE_500",
          "name": "score.tmol_lj_cpu_cpp.blocked",
          "natoms": 9136,
          "ncalls": 1,
          "ncalls_recursion": "1",
          "nres": 488,
          "tottime": 0.022701,
          "tottime_per": 0.022701
         },
         {
          "cumtime": 0.003656,
          "cumtime_per": 0.003656,
          "device": "cpu",
          "fractime": 0.13193792854565142,
          "function": "block_interaction_lists",
          "function_name": "~:0(<built-in method tmol_score_ljlk_cpp_potential_cpu.block_interaction_lists>)",
          "impl": "blocked",
          "model": "BYSIZE_500",
          "name": "score.tmol_lj_cpu_cpp.blocked",
          "natoms": 9136,
          "ncalls": 1,
          "ncalls_recursion": "1",
          "nres": 488,
          "tottime": 0.003656,
          "tottime_per": 0.003656
         },
         {
          "cumtime": 0.001095,
          "cumtime_per": 0.001095,
          "device": "cpu",
          "fractime": 0.03951642006495851,
          "function": "'sum'",
          "function_name": "~:0(<method 'sum' of 'torch._C._TensorBase' objects>)",
          "impl": "blocked",
          "model": "BYSIZE_500",
          "name": "score.tmol_lj_cpu_cpp.blocked",
          "natoms": 9136,
          "ncalls": 1,
          "ncalls_recursion": "1",
          "nres": 488,
          "tottime": 0.001095,
          "tottime_per": 0.001095
         },
         {
          "cumtime": 0.012178999999999999,
          "cumtime_per": 0.012178999999999999,
          "device": "cpu",
          "fractime": 0.8376779695990096,
          "function": "lj_intra_block",
          "function_name": "~:0(<built-in method tmol_score_ljlk_cpp_potential_cpu.lj_intra_block>)",
          "impl": "blocked",
          "model": "BYSIZE_300",
          "name": "score.tmol_lj_cpu_cpp.blocked",
          "natoms": 5408,
          "ncalls": 1,
          "ncalls_recursion": "1",
          "nres": 298,
          "tottime": 0.012178999999999999,
          "tottime_per": 0.012178999999999999
         },
         {
          "cumtime": 0.001455,
          "cumtime_per": 0.001455,
          "device": "cpu",
          "fractime": 0.10007565857349199,
          "function": "block_interaction_lists",
          "function_name": "~:0(<built-in method tmol_score_ljlk_cpp_potential_cpu.block_interaction_lists>)",
          "impl": "blocked",
          "model": "BYSIZE_300",
          "name": "score.tmol_lj_cpu_cpp.blocked",
          "natoms": 5408,
          "ncalls": 1,
          "ncalls_recursion": "1",
          "nres": 298,
          "tottime": 0.001455,
          "tottime_per": 0.001455
         },
         {
          "cumtime": 0.000712,
          "cumtime_per": 0.000712,
          "device": "cpu",
          "fractime": 0.04897173120572254,
          "function": "'sum'",
          "function_name": "~:0(<method 'sum' of 'torch._C._TensorBase' objects>)",
          "impl": "blocked",
          "model": "BYSIZE_300",
          "name": "score.tmol_lj_cpu_cpp.blocked",
          "natoms": 5408,
          "ncalls": 1,
          "ncalls_recursion": "1",
          "nres": 298,
          "tottime": 0.000712,
          "tottime_per": 0.000712
         }
        ]
       },
       "encoding": {
        "color": {
         "field": "function",
         "type": "nominal"
        },
        "x": {
         "axis": {
          "format": "s"
         },
         "field": "nres",
         "scale": {
          "base": 2,
          "type": "log"
         },
         "type": "quantitative"
        },
        "y": {
         "aggregate": "sum",
         "axis": {
          "format": "s"
         },
         "field": "tottime",
         "type": "quantitative"
        }
       },
       "mark": "bar",
       "title": "Blocked Potential Runtime Profile."
      },
      "image/png": "[encoded data removed]",
      "text/plain": [
       "<VegaLite 2 object>\n",
       "\n",
       "If you see this message, it means the renderer has not been properly enabled\n",
       "for the frontend that you are using. For more information, see\n",
       "https://altair-viz.github.io/user_guide/troubleshooting.html\n"
      ]
     },
     "execution_count": 36,
     "metadata": {},
     "output_type": "execute_result"
    }
   ],
   "source": [
    "pdat = stat_profile(rosetta_score_results)\n",
    "pdat = pdat.query(\"impl != 'rosetta'\").query(\"impl == 'blocked'\")\n",
    "rdat = pdat.query(\"tottime > 500e-6 and fractime > 1e-3\")\n",
    "rdat[\"function\"] = (\n",
    "    rdat.function_name.str.extract(\"method (['\\.\\w]*)\")\n",
    "    .where(lambda v: ~pandas.isna(v), rdat.function_name)\n",
    "    .map(lambda v: v.split(\".\")[-1])\n",
    ")\n",
    "\n",
    "encoding = dict(\n",
    "    x=altair.X(\n",
    "        \"nres\", axis=altair.Axis(format=\"s\"), scale=altair.Scale(type=\"log\", base=2)\n",
    "    ),\n",
    "    y=altair.Y(\"sum(tottime)\", axis=altair.Axis(format=\"s\")),\n",
    "    color=\"function\",\n",
    ")\n",
    "\n",
    "c = (altair.Chart(rdat).mark_bar().encode(**encoding)).configure(\n",
    "    bar={\"continuousBandSize\": 25}\n",
    ")\n",
    "c.title = \"Blocked Potential Runtime Profile.\"\n",
    "c\n"
   ]
  },
  {
   "cell_type": "code",
   "execution_count": 47,
   "metadata": {},
   "outputs": [
    {
     "data": {
      "application/vnd.vegalite.v2+json": {
       "$schema": "https://vega.github.io/schema/vega-lite/v2.6.0.json",
       "config": {
        "axis": {
         "labelFontSize": 16,
         "titleFontSize": 16
        },
        "header": {
         "labelFontSize": 16,
         "titleFontSize": 16
        },
        "legend": {
         "labelFontSize": 16,
         "titleFontSize": 16
        },
        "title": {
         "fontSize": 16
        },
        "view": {
         "height": 500,
         "width": 800
        }
       },
       "datasets": {
        "data-3cd728a985d592e13518c45ffb43b71f": [
         {
          "device": "cpu",
          "impl": "rosetta",
          "model": "BYSIZE_100",
          "name": "score.rosetta_atr_rep",
          "natoms": 1864,
          "nres": 97,
          "rosetta_relative": 1.1082648822549648,
          "time": 0.01280457666143775
         },
         {
          "device": "cpu",
          "impl": "rosetta",
          "model": "BYSIZE_100",
          "name": "score.rosetta_atr_rep",
          "natoms": 1864,
          "nres": 97,
          "rosetta_relative": 1.0737136070136,
          "time": 0.012405381072312593
         },
         {
          "device": "cpu",
          "impl": "rosetta",
          "model": "BYSIZE_100",
          "name": "score.rosetta_atr_rep",
          "natoms": 1864,
          "nres": 97,
          "rosetta_relative": 1.0698738823062517,
          "time": 0.012361017987132072
         },
         {
          "device": "cpu",
          "impl": "rosetta",
          "model": "BYSIZE_100",
          "name": "score.rosetta_atr_rep",
          "natoms": 1864,
          "nres": 97,
          "rosetta_relative": 1.0716033685705877,
          "time": 0.012380999978631735
         },
         {
          "device": "cpu",
          "impl": "rosetta",
          "model": "BYSIZE_100",
          "name": "score.rosetta_atr_rep",
          "natoms": 1864,
          "nres": 97,
          "rosetta_relative": 1.069824912908867,
          "time": 0.012360452208667994
         },
         {
          "device": "cpu",
          "impl": "rosetta",
          "model": "BYSIZE_100",
          "name": "score.rosetta_atr_rep",
          "natoms": 1864,
          "nres": 97,
          "rosetta_relative": 1.0699500569244054,
          "time": 0.012361898086965084
         },
         {
          "device": "cpu",
          "impl": "rosetta",
          "model": "BYSIZE_100",
          "name": "score.rosetta_atr_rep",
          "natoms": 1864,
          "nres": 97,
          "rosetta_relative": 1.0702136855896665,
          "time": 0.012364943977445364
         },
         {
          "device": "cpu",
          "impl": "rosetta",
          "model": "BYSIZE_100",
          "name": "score.rosetta_atr_rep",
          "natoms": 1864,
          "nres": 97,
          "rosetta_relative": 1.0701688675074512,
          "time": 0.012364426162093878
         },
         {
          "device": "cpu",
          "impl": "rosetta",
          "model": "BYSIZE_100",
          "name": "score.rosetta_atr_rep",
          "natoms": 1864,
          "nres": 97,
          "rosetta_relative": 1.0690477302835453,
          "time": 0.012351472862064838
         },
         {
          "device": "cpu",
          "impl": "rosetta",
          "model": "BYSIZE_100",
          "name": "score.rosetta_atr_rep",
          "natoms": 1864,
          "nres": 97,
          "rosetta_relative": 1.0694747917935754,
          "time": 0.012356407009065151
         },
         {
          "device": "cpu",
          "impl": "rosetta",
          "model": "BYSIZE_100",
          "name": "score.rosetta_atr_rep",
          "natoms": 1864,
          "nres": 97,
          "rosetta_relative": 1.0705807747019123,
          "time": 0.012369185220450163
         },
         {
          "device": "cpu",
          "impl": "rosetta",
          "model": "BYSIZE_100",
          "name": "score.rosetta_atr_rep",
          "natoms": 1864,
          "nres": 97,
          "rosetta_relative": 1.070528621286097,
          "time": 0.012368582654744387
         },
         {
          "device": "cpu",
          "impl": "rosetta",
          "model": "BYSIZE_100",
          "name": "score.rosetta_atr_rep",
          "natoms": 1864,
          "nres": 97,
          "rosetta_relative": 1.0690032749376068,
          "time": 0.012350959237664938
         },
         {
          "device": "cpu",
          "impl": "rosetta",
          "model": "BYSIZE_100",
          "name": "score.rosetta_atr_rep",
          "natoms": 1864,
          "nres": 97,
          "rosetta_relative": 0.9642990052595752,
          "time": 0.011141235940158367
         },
         {
          "device": "cpu",
          "impl": "rosetta",
          "model": "BYSIZE_100",
          "name": "score.rosetta_atr_rep",
          "natoms": 1864,
          "nres": 97,
          "rosetta_relative": 0.7967680466419739,
          "time": 0.009205630980432034
         },
         {
          "device": "cpu",
          "impl": "rosetta",
          "model": "BYSIZE_100",
          "name": "score.rosetta_atr_rep",
          "natoms": 1864,
          "nres": 97,
          "rosetta_relative": 0.7841911335364231,
          "time": 0.009060320910066366
         },
         {
          "device": "cpu",
          "impl": "rosetta",
          "model": "BYSIZE_100",
          "name": "score.rosetta_atr_rep",
          "natoms": 1864,
          "nres": 97,
          "rosetta_relative": 0.7520545533865008,
          "time": 0.008689024019986391
         },
         {
          "device": "cpu",
          "impl": "rosetta",
          "model": "BYSIZE_100",
          "name": "score.rosetta_atr_rep",
          "natoms": 1864,
          "nres": 97,
          "rosetta_relative": 0.7504388050969955,
          "time": 0.008670356124639511
         },
         {
          "device": "cpu",
          "impl": "blocked",
          "model": "BYSIZE_100",
          "name": "score.tmol_lj_cpu_cpp.blocked",
          "natoms": 1864,
          "nres": 97,
          "rosetta_relative": 0.5022969636588966,
          "time": 0.005803395994007587
         },
         {
          "device": "cpu",
          "impl": "blocked",
          "model": "BYSIZE_100",
          "name": "score.tmol_lj_cpu_cpp.blocked",
          "natoms": 1864,
          "nres": 97,
          "rosetta_relative": 0.3894036404011232,
          "time": 0.0044990587048232555
         },
         {
          "device": "cpu",
          "impl": "blocked",
          "model": "BYSIZE_100",
          "name": "score.tmol_lj_cpu_cpp.blocked",
          "natoms": 1864,
          "nres": 97,
          "rosetta_relative": 0.38404743623205406,
          "time": 0.0044371746480464935
         },
         {
          "device": "cpu",
          "impl": "blocked",
          "model": "BYSIZE_100",
          "name": "score.tmol_lj_cpu_cpp.blocked",
          "natoms": 1864,
          "nres": 97,
          "rosetta_relative": 0.40350215158030256,
          "time": 0.004661948885768652
         },
         {
          "device": "cpu",
          "impl": "blocked",
          "model": "BYSIZE_100",
          "name": "score.tmol_lj_cpu_cpp.blocked",
          "natoms": 1864,
          "nres": 97,
          "rosetta_relative": 0.380736218280182,
          "time": 0.004398917779326439
         },
         {
          "device": "cpu",
          "impl": "blocked",
          "model": "BYSIZE_100",
          "name": "score.tmol_lj_cpu_cpp.blocked",
          "natoms": 1864,
          "nres": 97,
          "rosetta_relative": 0.3810795280142738,
          "time": 0.004402884282171726
         },
         {
          "device": "cpu",
          "impl": "blocked",
          "model": "BYSIZE_100",
          "name": "score.tmol_lj_cpu_cpp.blocked",
          "natoms": 1864,
          "nres": 97,
          "rosetta_relative": 0.38078047210596655,
          "time": 0.004399429075419903
         },
         {
          "device": "cpu",
          "impl": "blocked",
          "model": "BYSIZE_100",
          "name": "score.tmol_lj_cpu_cpp.blocked",
          "natoms": 1864,
          "nres": 97,
          "rosetta_relative": 0.38111060242199685,
          "time": 0.0044032433070242405
         },
         {
          "device": "cpu",
          "impl": "blocked",
          "model": "BYSIZE_100",
          "name": "score.tmol_lj_cpu_cpp.blocked",
          "natoms": 1864,
          "nres": 97,
          "rosetta_relative": 0.38049612716889003,
          "time": 0.004396143835037947
         },
         {
          "device": "cpu",
          "impl": "blocked",
          "model": "BYSIZE_100",
          "name": "score.tmol_lj_cpu_cpp.blocked",
          "natoms": 1864,
          "nres": 97,
          "rosetta_relative": 0.3799009172424909,
          "time": 0.004389266949146986
         },
         {
          "device": "cpu",
          "impl": "blocked",
          "model": "BYSIZE_100",
          "name": "score.tmol_lj_cpu_cpp.blocked",
          "natoms": 1864,
          "nres": 97,
          "rosetta_relative": 0.38116001516371983,
          "time": 0.00440381420776248
         },
         {
          "device": "cpu",
          "impl": "blocked",
          "model": "BYSIZE_100",
          "name": "score.tmol_lj_cpu_cpp.blocked",
          "natoms": 1864,
          "nres": 97,
          "rosetta_relative": 0.3818695676254111,
          "time": 0.0044120121747255325
         },
         {
          "device": "cpu",
          "impl": "blocked",
          "model": "BYSIZE_100",
          "name": "score.tmol_lj_cpu_cpp.blocked",
          "natoms": 1864,
          "nres": 97,
          "rosetta_relative": 0.38127480104335043,
          "time": 0.004405140411108732
         },
         {
          "device": "cpu",
          "impl": "blocked",
          "model": "BYSIZE_100",
          "name": "score.tmol_lj_cpu_cpp.blocked",
          "natoms": 1864,
          "nres": 97,
          "rosetta_relative": 0.38082295255439724,
          "time": 0.004399919882416725
         },
         {
          "device": "cpu",
          "impl": "blocked",
          "model": "BYSIZE_100",
          "name": "score.tmol_lj_cpu_cpp.blocked",
          "natoms": 1864,
          "nres": 97,
          "rosetta_relative": 0.3785095011882468,
          "time": 0.004373190924525261
         },
         {
          "device": "cpu",
          "impl": "blocked",
          "model": "BYSIZE_100",
          "name": "score.tmol_lj_cpu_cpp.blocked",
          "natoms": 1864,
          "nres": 97,
          "rosetta_relative": 0.3801178335360906,
          "time": 0.004391773138195276
         },
         {
          "device": "cpu",
          "impl": "blocked",
          "model": "BYSIZE_100",
          "name": "score.tmol_lj_cpu_cpp.blocked",
          "natoms": 1864,
          "nres": 97,
          "rosetta_relative": 0.37992526087707545,
          "time": 0.00438954820856452
         },
         {
          "device": "cpu",
          "impl": "blocked",
          "model": "BYSIZE_100",
          "name": "score.tmol_lj_cpu_cpp.blocked",
          "natoms": 1864,
          "nres": 97,
          "rosetta_relative": 0.3785564956881236,
          "time": 0.004373733885586262
         },
         {
          "device": "cpu",
          "impl": "blocked",
          "model": "BYSIZE_100",
          "name": "score.tmol_lj_cpu_cpp.blocked",
          "natoms": 1864,
          "nres": 97,
          "rosetta_relative": 0.38850574720364756,
          "time": 0.004488684702664614
         },
         {
          "device": "cpu",
          "impl": "blocked",
          "model": "BYSIZE_100",
          "name": "score.tmol_lj_cpu_cpp.blocked",
          "natoms": 1864,
          "nres": 97,
          "rosetta_relative": 0.3801883655899366,
          "time": 0.004392588045448065
         },
         {
          "device": "cpu",
          "impl": "blocked",
          "model": "BYSIZE_100",
          "name": "score.tmol_lj_cpu_cpp.blocked",
          "natoms": 1864,
          "nres": 97,
          "rosetta_relative": 0.3793064730926764,
          "time": 0.004382398910820484
         },
         {
          "device": "cpu",
          "impl": "blocked",
          "model": "BYSIZE_100",
          "name": "score.tmol_lj_cpu_cpp.blocked",
          "natoms": 1864,
          "nres": 97,
          "rosetta_relative": 0.3827358221587329,
          "time": 0.004422020632773638
         },
         {
          "device": "cpu",
          "impl": "blocked",
          "model": "BYSIZE_100",
          "name": "score.tmol_lj_cpu_cpp.blocked",
          "natoms": 1864,
          "nres": 97,
          "rosetta_relative": 0.3810681622775969,
          "time": 0.0044027529656887054
         },
         {
          "device": "cpu",
          "impl": "blocked",
          "model": "BYSIZE_100",
          "name": "score.tmol_lj_cpu_cpp.blocked",
          "natoms": 1864,
          "nres": 97,
          "rosetta_relative": 0.36455261837319025,
          "time": 0.004211937077343464
         },
         {
          "device": "cpu",
          "impl": "blocked",
          "model": "BYSIZE_100",
          "name": "score.tmol_lj_cpu_cpp.blocked",
          "natoms": 1864,
          "nres": 97,
          "rosetta_relative": 0.36229712420328586,
          "time": 0.004185877740383148
         },
         {
          "device": "cpu",
          "impl": "blocked",
          "model": "BYSIZE_100",
          "name": "score.tmol_lj_cpu_cpp.blocked",
          "natoms": 1864,
          "nres": 97,
          "rosetta_relative": 0.36093654073258014,
          "time": 0.0041701579466462135
         },
         {
          "device": "cpu",
          "impl": "blocked",
          "model": "BYSIZE_100",
          "name": "score.tmol_lj_cpu_cpp.blocked",
          "natoms": 1864,
          "nres": 97,
          "rosetta_relative": 0.36072764494110354,
          "time": 0.0041677444241940975
         },
         {
          "device": "cpu",
          "impl": "blocked",
          "model": "BYSIZE_100",
          "name": "score.tmol_lj_cpu_cpp.blocked",
          "natoms": 1864,
          "nres": 97,
          "rosetta_relative": 0.37374185678049987,
          "time": 0.004318106919527054
         },
         {
          "device": "cpu",
          "impl": "blocked",
          "model": "BYSIZE_100",
          "name": "score.tmol_lj_cpu_cpp.blocked",
          "natoms": 1864,
          "nres": 97,
          "rosetta_relative": 0.36054107758267306,
          "time": 0.00416558887809515
         },
         {
          "device": "cpu",
          "impl": "blocked",
          "model": "BYSIZE_100",
          "name": "score.tmol_lj_cpu_cpp.blocked",
          "natoms": 1864,
          "nres": 97,
          "rosetta_relative": 0.3566121600552326,
          "time": 0.004120195284485817
         },
         {
          "device": "cpu",
          "impl": "blocked",
          "model": "BYSIZE_100",
          "name": "score.tmol_lj_cpu_cpp.blocked",
          "natoms": 1864,
          "nres": 97,
          "rosetta_relative": 0.35723522006689323,
          "time": 0.004127393942326307
         },
         {
          "device": "cpu",
          "impl": "blocked",
          "model": "BYSIZE_100",
          "name": "score.tmol_lj_cpu_cpp.blocked",
          "natoms": 1864,
          "nres": 97,
          "rosetta_relative": 0.3553863935674498,
          "time": 0.004106033127754927
         },
         {
          "device": "cpu",
          "impl": "blocked",
          "model": "BYSIZE_100",
          "name": "score.tmol_lj_cpu_cpp.blocked",
          "natoms": 1864,
          "nres": 97,
          "rosetta_relative": 0.3729103846257319,
          "time": 0.004308500327169895
         },
         {
          "device": "cpu",
          "impl": "blocked",
          "model": "BYSIZE_100",
          "name": "score.tmol_lj_cpu_cpp.blocked",
          "natoms": 1864,
          "nres": 97,
          "rosetta_relative": 0.3570536907123089,
          "time": 0.004125296603888273
         },
         {
          "device": "cpu",
          "impl": "blocked",
          "model": "BYSIZE_100",
          "name": "score.tmol_lj_cpu_cpp.blocked",
          "natoms": 1864,
          "nres": 97,
          "rosetta_relative": 0.3572107152161856,
          "time": 0.004127110820263624
         },
         {
          "device": "cpu",
          "impl": "blocked",
          "model": "BYSIZE_100",
          "name": "score.tmol_lj_cpu_cpp.blocked",
          "natoms": 1864,
          "nres": 97,
          "rosetta_relative": 0.35655109944861735,
          "time": 0.004119489807635546
         },
         {
          "device": "cpu",
          "impl": "blocked",
          "model": "BYSIZE_100",
          "name": "score.tmol_lj_cpu_cpp.blocked",
          "natoms": 1864,
          "nres": 97,
          "rosetta_relative": 0.357049136356832,
          "time": 0.0041252439841628075
         },
         {
          "device": "cpu",
          "impl": "blocked",
          "model": "BYSIZE_100",
          "name": "score.tmol_lj_cpu_cpp.blocked",
          "natoms": 1864,
          "nres": 97,
          "rosetta_relative": 0.3647813034437745,
          "time": 0.004214579239487648
         },
         {
          "device": "cpu",
          "impl": "blocked",
          "model": "BYSIZE_100",
          "name": "score.tmol_lj_cpu_cpp.blocked",
          "natoms": 1864,
          "nres": 97,
          "rosetta_relative": 0.35690456579846297,
          "time": 0.004123573657125235
         },
         {
          "device": "cpu",
          "impl": "blocked",
          "model": "BYSIZE_100",
          "name": "score.tmol_lj_cpu_cpp.blocked",
          "natoms": 1864,
          "nres": 97,
          "rosetta_relative": 0.3572843506804009,
          "time": 0.004127961583435535
         },
         {
          "device": "cpu",
          "impl": "blocked",
          "model": "BYSIZE_100",
          "name": "score.tmol_lj_cpu_cpp.blocked",
          "natoms": 1864,
          "nres": 97,
          "rosetta_relative": 0.3556739225229571,
          "time": 0.00410935515537858
         },
         {
          "device": "cpu",
          "impl": "blocked",
          "model": "BYSIZE_100",
          "name": "score.tmol_lj_cpu_cpp.blocked",
          "natoms": 1864,
          "nres": 97,
          "rosetta_relative": 0.3576223805864619,
          "time": 0.0041318670846521854
         },
         {
          "device": "cpu",
          "impl": "blocked",
          "model": "BYSIZE_100",
          "name": "score.tmol_lj_cpu_cpp.blocked",
          "natoms": 1864,
          "nres": 97,
          "rosetta_relative": 0.358155441697415,
          "time": 0.004138025920838118
         },
         {
          "device": "cpu",
          "impl": "naive",
          "model": "BYSIZE_100",
          "name": "score.tmol_lj_cpu_cpp.naive",
          "natoms": 1864,
          "nres": 97,
          "rosetta_relative": 0.7528186372018227,
          "time": 0.008697852026671171
         },
         {
          "device": "cpu",
          "impl": "naive",
          "model": "BYSIZE_100",
          "name": "score.tmol_lj_cpu_cpp.naive",
          "natoms": 1864,
          "nres": 97,
          "rosetta_relative": 0.7286370651249658,
          "time": 0.008418465033173561
         },
         {
          "device": "cpu",
          "impl": "naive",
          "model": "BYSIZE_100",
          "name": "score.tmol_lj_cpu_cpp.naive",
          "natoms": 1864,
          "nres": 97,
          "rosetta_relative": 0.728812508570904,
          "time": 0.008420492056757212
         },
         {
          "device": "cpu",
          "impl": "naive",
          "model": "BYSIZE_100",
          "name": "score.tmol_lj_cpu_cpp.naive",
          "natoms": 1864,
          "nres": 97,
          "rosetta_relative": 0.7157656101625538,
          "time": 0.008269751910120249
         },
         {
          "device": "cpu",
          "impl": "naive",
          "model": "BYSIZE_100",
          "name": "score.tmol_lj_cpu_cpp.naive",
          "natoms": 1864,
          "nres": 97,
          "rosetta_relative": 0.7161285076555994,
          "time": 0.008273944724351168
         },
         {
          "device": "cpu",
          "impl": "naive",
          "model": "BYSIZE_100",
          "name": "score.tmol_lj_cpu_cpp.naive",
          "natoms": 1864,
          "nres": 97,
          "rosetta_relative": 0.7134686028409573,
          "time": 0.008243212942034006
         },
         {
          "device": "cpu",
          "impl": "naive",
          "model": "BYSIZE_100",
          "name": "score.tmol_lj_cpu_cpp.naive",
          "natoms": 1864,
          "nres": 97,
          "rosetta_relative": 0.7105892828828075,
          "time": 0.008209946099668741
         },
         {
          "device": "cpu",
          "impl": "naive",
          "model": "BYSIZE_100",
          "name": "score.tmol_lj_cpu_cpp.naive",
          "natoms": 1864,
          "nres": 97,
          "rosetta_relative": 0.7174410487216283,
          "time": 0.008289109449833632
         },
         {
          "device": "cpu",
          "impl": "naive",
          "model": "BYSIZE_100",
          "name": "score.tmol_lj_cpu_cpp.naive",
          "natoms": 1864,
          "nres": 97,
          "rosetta_relative": 0.7164688348914143,
          "time": 0.008277876768261194
         },
         {
          "device": "cpu",
          "impl": "naive",
          "model": "BYSIZE_100",
          "name": "score.tmol_lj_cpu_cpp.naive",
          "natoms": 1864,
          "nres": 97,
          "rosetta_relative": 0.7165870063096296,
          "time": 0.00827924208715558
         },
         {
          "device": "cpu",
          "impl": "naive",
          "model": "BYSIZE_100",
          "name": "score.tmol_lj_cpu_cpp.naive",
          "natoms": 1864,
          "nres": 97,
          "rosetta_relative": 0.7123923240032972,
          "time": 0.00823077792301774
         },
         {
          "device": "cpu",
          "impl": "naive",
          "model": "BYSIZE_100",
          "name": "score.tmol_lj_cpu_cpp.naive",
          "natoms": 1864,
          "nres": 97,
          "rosetta_relative": 0.7113170930704372,
          "time": 0.008218355011194944
         },
         {
          "device": "cpu",
          "impl": "naive",
          "model": "BYSIZE_100",
          "name": "score.tmol_lj_cpu_cpp.naive",
          "natoms": 1864,
          "nres": 97,
          "rosetta_relative": 0.7283229355091508,
          "time": 0.008414835669100285
         },
         {
          "device": "cpu",
          "impl": "naive",
          "model": "BYSIZE_100",
          "name": "score.tmol_lj_cpu_cpp.naive",
          "natoms": 1864,
          "nres": 97,
          "rosetta_relative": 0.7222662069812829,
          "time": 0.008344857953488827
         },
         {
          "device": "cpu",
          "impl": "naive",
          "model": "BYSIZE_100",
          "name": "score.tmol_lj_cpu_cpp.naive",
          "natoms": 1864,
          "nres": 97,
          "rosetta_relative": 1.238248726720098,
          "time": 0.014306372962892056
         },
         {
          "device": "cpu",
          "impl": "naive",
          "model": "BYSIZE_100",
          "name": "score.tmol_lj_cpu_cpp.naive",
          "natoms": 1864,
          "nres": 97,
          "rosetta_relative": 0.9264087022851075,
          "time": 0.010703462176024914
         },
         {
          "device": "cpu",
          "impl": "naive",
          "model": "BYSIZE_100",
          "name": "score.tmol_lj_cpu_cpp.naive",
          "natoms": 1864,
          "nres": 97,
          "rosetta_relative": 0.7363550048890468,
          "time": 0.008507635910063982
         },
         {
          "device": "cpu",
          "impl": "naive",
          "model": "BYSIZE_100",
          "name": "score.tmol_lj_cpu_cpp.naive",
          "natoms": 1864,
          "nres": 97,
          "rosetta_relative": 0.7165118795962758,
          "time": 0.008278374094516039
         },
         {
          "device": "cpu",
          "impl": "naive",
          "model": "BYSIZE_100",
          "name": "score.tmol_lj_cpu_cpp.naive",
          "natoms": 1864,
          "nres": 97,
          "rosetta_relative": 0.7246559941817101,
          "time": 0.008372468873858452
         },
         {
          "device": "cpu",
          "impl": "naive",
          "model": "BYSIZE_100",
          "name": "score.tmol_lj_cpu_cpp.naive",
          "natoms": 1864,
          "nres": 97,
          "rosetta_relative": 0.7293914356688724,
          "time": 0.0084271808154881
         },
         {
          "device": "cpu",
          "impl": "naive",
          "model": "BYSIZE_100",
          "name": "score.tmol_lj_cpu_cpp.naive",
          "natoms": 1864,
          "nres": 97,
          "rosetta_relative": 0.7114588826506832,
          "time": 0.008219993207603693
         },
         {
          "device": "cpu",
          "impl": "naive",
          "model": "BYSIZE_100",
          "name": "score.tmol_lj_cpu_cpp.naive",
          "natoms": 1864,
          "nres": 97,
          "rosetta_relative": 0.7206770996561159,
          "time": 0.008326497860252857
         },
         {
          "device": "cpu",
          "impl": "naive",
          "model": "BYSIZE_100",
          "name": "score.tmol_lj_cpu_cpp.naive",
          "natoms": 1864,
          "nres": 97,
          "rosetta_relative": 0.7228618602520204,
          "time": 0.008351739961653948
         },
         {
          "device": "cpu",
          "impl": "naive",
          "model": "BYSIZE_100",
          "name": "score.tmol_lj_cpu_cpp.naive",
          "natoms": 1864,
          "nres": 97,
          "rosetta_relative": 0.7451371322815571,
          "time": 0.008609102107584476
         },
         {
          "device": "cpu",
          "impl": "naive",
          "model": "BYSIZE_100",
          "name": "score.tmol_lj_cpu_cpp.naive",
          "natoms": 1864,
          "nres": 97,
          "rosetta_relative": 0.7189887638071953,
          "time": 0.008306991308927536
         },
         {
          "device": "cpu",
          "impl": "naive",
          "model": "BYSIZE_100",
          "name": "score.tmol_lj_cpu_cpp.naive",
          "natoms": 1864,
          "nres": 97,
          "rosetta_relative": 0.737398073205353,
          "time": 0.008519687224179506
         },
         {
          "device": "cpu",
          "impl": "naive",
          "model": "BYSIZE_100",
          "name": "score.tmol_lj_cpu_cpp.naive",
          "natoms": 1864,
          "nres": 97,
          "rosetta_relative": 0.7123730586765896,
          "time": 0.008230555336922407
         },
         {
          "device": "cpu",
          "impl": "naive",
          "model": "BYSIZE_100",
          "name": "score.tmol_lj_cpu_cpp.naive",
          "natoms": 1864,
          "nres": 97,
          "rosetta_relative": 0.7133488192615112,
          "time": 0.008241828996688128
         },
         {
          "device": "cpu",
          "impl": "naive",
          "model": "BYSIZE_100",
          "name": "score.tmol_lj_cpu_cpp.naive",
          "natoms": 1864,
          "nres": 97,
          "rosetta_relative": 0.7546984575009277,
          "time": 0.008719570934772491
         },
         {
          "device": "cpu",
          "impl": "naive",
          "model": "BYSIZE_100",
          "name": "score.tmol_lj_cpu_cpp.naive",
          "natoms": 1864,
          "nres": 97,
          "rosetta_relative": 0.7503325233678572,
          "time": 0.00866912817582488
         },
         {
          "device": "cpu",
          "impl": "rosetta",
          "model": "BYSIZE_150",
          "name": "score.rosetta_atr_rep",
          "natoms": 3016,
          "nres": 154,
          "rosetta_relative": 0.9728854009779762,
          "time": 0.014173293951898813
         },
         {
          "device": "cpu",
          "impl": "rosetta",
          "model": "BYSIZE_150",
          "name": "score.rosetta_atr_rep",
          "natoms": 3016,
          "nres": 154,
          "rosetta_relative": 1.0035567061430697,
          "time": 0.014620122965425253
         },
         {
          "device": "cpu",
          "impl": "rosetta",
          "model": "BYSIZE_150",
          "name": "score.rosetta_atr_rep",
          "natoms": 3016,
          "nres": 154,
          "rosetta_relative": 1.0064816352476598,
          "time": 0.014662734232842922
         },
         {
          "device": "cpu",
          "impl": "rosetta",
          "model": "BYSIZE_150",
          "name": "score.rosetta_atr_rep",
          "natoms": 3016,
          "nres": 154,
          "rosetta_relative": 1.001279783067935,
          "time": 0.014586952049285173
         },
         {
          "device": "cpu",
          "impl": "rosetta",
          "model": "BYSIZE_150",
          "name": "score.rosetta_atr_rep",
          "natoms": 3016,
          "nres": 154,
          "rosetta_relative": 0.9998551159373253,
          "time": 0.01456619706004858
         },
         {
          "device": "cpu",
          "impl": "rosetta",
          "model": "BYSIZE_150",
          "name": "score.rosetta_atr_rep",
          "natoms": 3016,
          "nres": 154,
          "rosetta_relative": 1.0133887344882737,
          "time": 0.014763358980417252
         },
         {
          "device": "cpu",
          "impl": "rosetta",
          "model": "BYSIZE_150",
          "name": "score.rosetta_atr_rep",
          "natoms": 3016,
          "nres": 154,
          "rosetta_relative": 0.9955424381140047,
          "time": 0.014503368642181158
         },
         {
          "device": "cpu",
          "impl": "rosetta",
          "model": "BYSIZE_150",
          "name": "score.rosetta_atr_rep",
          "natoms": 3016,
          "nres": 154,
          "rosetta_relative": 0.9961485713126709,
          "time": 0.014512198977172375
         },
         {
          "device": "cpu",
          "impl": "rosetta",
          "model": "BYSIZE_150",
          "name": "score.rosetta_atr_rep",
          "natoms": 3016,
          "nres": 154,
          "rosetta_relative": 1.000956722991,
          "time": 0.014582245610654354
         },
         {
          "device": "cpu",
          "impl": "rosetta",
          "model": "BYSIZE_150",
          "name": "score.rosetta_atr_rep",
          "natoms": 3016,
          "nres": 154,
          "rosetta_relative": 1.0018201343690714,
          "time": 0.01459482405334711
         },
         {
          "device": "cpu",
          "impl": "rosetta",
          "model": "BYSIZE_150",
          "name": "score.rosetta_atr_rep",
          "natoms": 3016,
          "nres": 154,
          "rosetta_relative": 1.0080847573510137,
          "time": 0.014686089009046555
         },
         {
          "device": "cpu",
          "impl": "blocked",
          "model": "BYSIZE_150",
          "name": "score.tmol_lj_cpu_cpp.blocked",
          "natoms": 3016,
          "nres": 154,
          "rosetta_relative": 0.519668999486048,
          "time": 0.0075706979259848595
         },
         {
          "device": "cpu",
          "impl": "blocked",
          "model": "BYSIZE_150",
          "name": "score.tmol_lj_cpu_cpp.blocked",
          "natoms": 3016,
          "nres": 154,
          "rosetta_relative": 0.4736329225408132,
          "time": 0.006900030188262463
         },
         {
          "device": "cpu",
          "impl": "blocked",
          "model": "BYSIZE_150",
          "name": "score.tmol_lj_cpu_cpp.blocked",
          "natoms": 3016,
          "nres": 154,
          "rosetta_relative": 0.4727095467119323,
          "time": 0.006886578164994717
         },
         {
          "device": "cpu",
          "impl": "blocked",
          "model": "BYSIZE_150",
          "name": "score.tmol_lj_cpu_cpp.blocked",
          "natoms": 3016,
          "nres": 154,
          "rosetta_relative": 0.4808912741001606,
          "time": 0.007005772087723017
         },
         {
          "device": "cpu",
          "impl": "blocked",
          "model": "BYSIZE_150",
          "name": "score.tmol_lj_cpu_cpp.blocked",
          "natoms": 3016,
          "nres": 154,
          "rosetta_relative": 0.4874075495987458,
          "time": 0.007100703194737434
         },
         {
          "device": "cpu",
          "impl": "blocked",
          "model": "BYSIZE_150",
          "name": "score.tmol_lj_cpu_cpp.blocked",
          "natoms": 3016,
          "nres": 154,
          "rosetta_relative": 0.48409323513181063,
          "time": 0.007052419241517782
         },
         {
          "device": "cpu",
          "impl": "blocked",
          "model": "BYSIZE_150",
          "name": "score.tmol_lj_cpu_cpp.blocked",
          "natoms": 3016,
          "nres": 154,
          "rosetta_relative": 0.48335585777801493,
          "time": 0.00704167690128088
         },
         {
          "device": "cpu",
          "impl": "blocked",
          "model": "BYSIZE_150",
          "name": "score.tmol_lj_cpu_cpp.blocked",
          "natoms": 3016,
          "nres": 154,
          "rosetta_relative": 0.4703336311505733,
          "time": 0.006851965095847845
         },
         {
          "device": "cpu",
          "impl": "blocked",
          "model": "BYSIZE_150",
          "name": "score.tmol_lj_cpu_cpp.blocked",
          "natoms": 3016,
          "nres": 154,
          "rosetta_relative": 0.47015034961489055,
          "time": 0.0068492949940264225
         },
         {
          "device": "cpu",
          "impl": "blocked",
          "model": "BYSIZE_150",
          "name": "score.tmol_lj_cpu_cpp.blocked",
          "natoms": 3016,
          "nres": 154,
          "rosetta_relative": 0.48261365386128086,
          "time": 0.007030864246189594
         },
         {
          "device": "cpu",
          "impl": "blocked",
          "model": "BYSIZE_150",
          "name": "score.tmol_lj_cpu_cpp.blocked",
          "natoms": 3016,
          "nres": 154,
          "rosetta_relative": 0.46995405873406954,
          "time": 0.006846435368061066
         },
         {
          "device": "cpu",
          "impl": "blocked",
          "model": "BYSIZE_150",
          "name": "score.tmol_lj_cpu_cpp.blocked",
          "natoms": 3016,
          "nres": 154,
          "rosetta_relative": 0.47801489830089006,
          "time": 0.006963868159800768
         },
         {
          "device": "cpu",
          "impl": "blocked",
          "model": "BYSIZE_150",
          "name": "score.tmol_lj_cpu_cpp.blocked",
          "natoms": 3016,
          "nres": 154,
          "rosetta_relative": 0.48427114671667465,
          "time": 0.007055011112242937
         },
         {
          "device": "cpu",
          "impl": "blocked",
          "model": "BYSIZE_150",
          "name": "score.tmol_lj_cpu_cpp.blocked",
          "natoms": 3016,
          "nres": 154,
          "rosetta_relative": 0.47047344165581856,
          "time": 0.006854001898318529
         },
         {
          "device": "cpu",
          "impl": "blocked",
          "model": "BYSIZE_150",
          "name": "score.tmol_lj_cpu_cpp.blocked",
          "natoms": 3016,
          "nres": 154,
          "rosetta_relative": 0.47100094343178156,
          "time": 0.006861686706542969
         },
         {
          "device": "cpu",
          "impl": "blocked",
          "model": "BYSIZE_150",
          "name": "score.tmol_lj_cpu_cpp.blocked",
          "natoms": 3016,
          "nres": 154,
          "rosetta_relative": 0.48204124267519677,
          "time": 0.007022525183856487
         },
         {
          "device": "cpu",
          "impl": "blocked",
          "model": "BYSIZE_150",
          "name": "score.tmol_lj_cpu_cpp.blocked",
          "natoms": 3016,
          "nres": 154,
          "rosetta_relative": 0.4790038003153568,
          "time": 0.006978274788707495
         },
         {
          "device": "cpu",
          "impl": "blocked",
          "model": "BYSIZE_150",
          "name": "score.tmol_lj_cpu_cpp.blocked",
          "natoms": 3016,
          "nres": 154,
          "rosetta_relative": 0.4720489149052545,
          "time": 0.00687695387750864
         },
         {
          "device": "cpu",
          "impl": "blocked",
          "model": "BYSIZE_150",
          "name": "score.tmol_lj_cpu_cpp.blocked",
          "natoms": 3016,
          "nres": 154,
          "rosetta_relative": 0.48186071004290937,
          "time": 0.007019895128905773
         },
         {
          "device": "cpu",
          "impl": "blocked",
          "model": "BYSIZE_150",
          "name": "score.tmol_lj_cpu_cpp.blocked",
          "natoms": 3016,
          "nres": 154,
          "rosetta_relative": 0.4707068746964692,
          "time": 0.0068574026226997375
         },
         {
          "device": "cpu",
          "impl": "blocked",
          "model": "BYSIZE_150",
          "name": "score.tmol_lj_cpu_cpp.blocked",
          "natoms": 3016,
          "nres": 154,
          "rosetta_relative": 0.47671680858243676,
          "time": 0.006944957189261913
         },
         {
          "device": "cpu",
          "impl": "blocked",
          "model": "BYSIZE_150",
          "name": "score.tmol_lj_cpu_cpp.blocked",
          "natoms": 3016,
          "nres": 154,
          "rosetta_relative": 0.47801317224526974,
          "time": 0.006963843014091253
         },
         {
          "device": "cpu",
          "impl": "blocked",
          "model": "BYSIZE_150",
          "name": "score.tmol_lj_cpu_cpp.blocked",
          "natoms": 3016,
          "nres": 154,
          "rosetta_relative": 0.4706755819473528,
          "time": 0.006856946740299463
         },
         {
          "device": "cpu",
          "impl": "blocked",
          "model": "BYSIZE_150",
          "name": "score.tmol_lj_cpu_cpp.blocked",
          "natoms": 3016,
          "nres": 154,
          "rosetta_relative": 0.47750130086186837,
          "time": 0.006956385914236307
         },
         {
          "device": "cpu",
          "impl": "blocked",
          "model": "BYSIZE_150",
          "name": "score.tmol_lj_cpu_cpp.blocked",
          "natoms": 3016,
          "nres": 154,
          "rosetta_relative": 0.4758824524739738,
          "time": 0.006932802032679319
         },
         {
          "device": "cpu",
          "impl": "blocked",
          "model": "BYSIZE_150",
          "name": "score.tmol_lj_cpu_cpp.blocked",
          "natoms": 3016,
          "nres": 154,
          "rosetta_relative": 0.47000660753851015,
          "time": 0.0068472009152174
         },
         {
          "device": "cpu",
          "impl": "blocked",
          "model": "BYSIZE_150",
          "name": "score.tmol_lj_cpu_cpp.blocked",
          "natoms": 3016,
          "nres": 154,
          "rosetta_relative": 0.4818729202882234,
          "time": 0.007020073011517525
         },
         {
          "device": "cpu",
          "impl": "blocked",
          "model": "BYSIZE_150",
          "name": "score.tmol_lj_cpu_cpp.blocked",
          "natoms": 3016,
          "nres": 154,
          "rosetta_relative": 0.47104125002691516,
          "time": 0.006862273905426264
         },
         {
          "device": "cpu",
          "impl": "naive",
          "model": "BYSIZE_150",
          "name": "score.tmol_lj_cpu_cpp.naive",
          "natoms": 3016,
          "nres": 154,
          "rosetta_relative": 2.0821229629819475,
          "time": 0.030333008151501417
         },
         {
          "device": "cpu",
          "impl": "naive",
          "model": "BYSIZE_150",
          "name": "score.tmol_lj_cpu_cpp.naive",
          "natoms": 3016,
          "nres": 154,
          "rosetta_relative": 2.093283478802918,
          "time": 0.0304955979809165
         },
         {
          "device": "cpu",
          "impl": "naive",
          "model": "BYSIZE_150",
          "name": "score.tmol_lj_cpu_cpp.naive",
          "natoms": 3016,
          "nres": 154,
          "rosetta_relative": 2.0593820842923622,
          "time": 0.030001712031662464
         },
         {
          "device": "cpu",
          "impl": "naive",
          "model": "BYSIZE_150",
          "name": "score.tmol_lj_cpu_cpp.naive",
          "natoms": 3016,
          "nres": 154,
          "rosetta_relative": 2.1156509221626503,
          "time": 0.030821453779935837
         },
         {
          "device": "cpu",
          "impl": "naive",
          "model": "BYSIZE_150",
          "name": "score.tmol_lj_cpu_cpp.naive",
          "natoms": 3016,
          "nres": 154,
          "rosetta_relative": 2.077648451462226,
          "time": 0.030267822090536356
         },
         {
          "device": "cpu",
          "impl": "naive",
          "model": "BYSIZE_150",
          "name": "score.tmol_lj_cpu_cpp.naive",
          "natoms": 3016,
          "nres": 154,
          "rosetta_relative": 2.0885501867961223,
          "time": 0.030426641926169395
         },
         {
          "device": "cpu",
          "impl": "naive",
          "model": "BYSIZE_150",
          "name": "score.tmol_lj_cpu_cpp.naive",
          "natoms": 3016,
          "nres": 154,
          "rosetta_relative": 2.090448432446556,
          "time": 0.03045429615303874
         },
         {
          "device": "cpu",
          "impl": "naive",
          "model": "BYSIZE_150",
          "name": "score.tmol_lj_cpu_cpp.naive",
          "natoms": 3016,
          "nres": 154,
          "rosetta_relative": 2.1026687783823914,
          "time": 0.030632325913757086
         },
         {
          "device": "cpu",
          "impl": "rosetta",
          "model": "BYSIZE_40",
          "name": "score.rosetta_atr_rep",
          "natoms": 816,
          "nres": 43,
          "rosetta_relative": 1.7019627876552565,
          "time": 0.007295507937669754
         },
         {
          "device": "cpu",
          "impl": "rosetta",
          "model": "BYSIZE_40",
          "name": "score.rosetta_atr_rep",
          "natoms": 816,
          "nres": 43,
          "rosetta_relative": 0.9721271136219575,
          "time": 0.0041670482605695724
         },
         {
          "device": "cpu",
          "impl": "rosetta",
          "model": "BYSIZE_40",
          "name": "score.rosetta_atr_rep",
          "natoms": 816,
          "nres": 43,
          "rosetta_relative": 0.9741775751285877,
          "time": 0.004175837617367506
         },
         {
          "device": "cpu",
          "impl": "rosetta",
          "model": "BYSIZE_40",
          "name": "score.rosetta_atr_rep",
          "natoms": 816,
          "nres": 43,
          "rosetta_relative": 0.9714306628288975,
          "time": 0.0041640629060566425
         },
         {
          "device": "cpu",
          "impl": "rosetta",
          "model": "BYSIZE_40",
          "name": "score.rosetta_atr_rep",
          "natoms": 816,
          "nres": 43,
          "rosetta_relative": 0.9726495331920441,
          "time": 0.004169287625700235
         },
         {
          "device": "cpu",
          "impl": "rosetta",
          "model": "BYSIZE_40",
          "name": "score.rosetta_atr_rep",
          "natoms": 816,
          "nres": 43,
          "rosetta_relative": 0.969880025078135,
          "time": 0.004157416056841612
         },
         {
          "device": "cpu",
          "impl": "rosetta",
          "model": "BYSIZE_40",
          "name": "score.rosetta_atr_rep",
          "natoms": 816,
          "nres": 43,
          "rosetta_relative": 0.9719063698984357,
          "time": 0.004166102036833763
         },
         {
          "device": "cpu",
          "impl": "rosetta",
          "model": "BYSIZE_40",
          "name": "score.rosetta_atr_rep",
          "natoms": 816,
          "nres": 43,
          "rosetta_relative": 0.9705752809002507,
          "time": 0.004160396289080381
         },
         {
          "device": "cpu",
          "impl": "rosetta",
          "model": "BYSIZE_40",
          "name": "score.rosetta_atr_rep",
          "natoms": 816,
          "nres": 43,
          "rosetta_relative": 0.967848248571724,
          "time": 0.004148706793785095
         },
         {
          "device": "cpu",
          "impl": "rosetta",
          "model": "BYSIZE_40",
          "name": "score.rosetta_atr_rep",
          "natoms": 816,
          "nres": 43,
          "rosetta_relative": 0.974143898674704,
          "time": 0.004175693262368441
         },
         {
          "device": "cpu",
          "impl": "rosetta",
          "model": "BYSIZE_40",
          "name": "score.rosetta_atr_rep",
          "natoms": 816,
          "nres": 43,
          "rosetta_relative": 0.9677101751108008,
          "time": 0.004148114938288927
         },
         {
          "device": "cpu",
          "impl": "rosetta",
          "model": "BYSIZE_40",
          "name": "score.rosetta_atr_rep",
          "natoms": 816,
          "nres": 43,
          "rosetta_relative": 0.9696706878954449,
          "time": 0.00415651872754097
         },
         {
          "device": "cpu",
          "impl": "rosetta",
          "model": "BYSIZE_40",
          "name": "score.rosetta_atr_rep",
          "natoms": 816,
          "nres": 43,
          "rosetta_relative": 0.9738414623920837,
          "time": 0.004174396861344576
         },
         {
          "device": "cpu",
          "impl": "rosetta",
          "model": "BYSIZE_40",
          "name": "score.rosetta_atr_rep",
          "natoms": 816,
          "nres": 43,
          "rosetta_relative": 0.9687345911111994,
          "time": 0.004152506124228239
         },
         {
          "device": "cpu",
          "impl": "rosetta",
          "model": "BYSIZE_40",
          "name": "score.rosetta_atr_rep",
          "natoms": 816,
          "nres": 43,
          "rosetta_relative": 0.975938962300429,
          "time": 0.004183387849479914
         },
         {
          "device": "cpu",
          "impl": "rosetta",
          "model": "BYSIZE_40",
          "name": "score.rosetta_atr_rep",
          "natoms": 816,
          "nres": 43,
          "rosetta_relative": 0.9732622273852836,
          "time": 0.004171913955360651
         },
         {
          "device": "cpu",
          "impl": "rosetta",
          "model": "BYSIZE_40",
          "name": "score.rosetta_atr_rep",
          "natoms": 816,
          "nres": 43,
          "rosetta_relative": 0.976487453963845,
          "time": 0.0041857389733195305
         },
         {
          "device": "cpu",
          "impl": "rosetta",
          "model": "BYSIZE_40",
          "name": "score.rosetta_atr_rep",
          "natoms": 816,
          "nres": 43,
          "rosetta_relative": 0.9753567941831293,
          "time": 0.0041808923706412315
         },
         {
          "device": "cpu",
          "impl": "rosetta",
          "model": "BYSIZE_40",
          "name": "score.rosetta_atr_rep",
          "natoms": 816,
          "nres": 43,
          "rosetta_relative": 0.9701391165055954,
          "time": 0.004158526659011841
         },
         {
          "device": "cpu",
          "impl": "rosetta",
          "model": "BYSIZE_40",
          "name": "score.rosetta_atr_rep",
          "natoms": 816,
          "nres": 43,
          "rosetta_relative": 0.9747211782745044,
          "time": 0.004178167786449194
         },
         {
          "device": "cpu",
          "impl": "rosetta",
          "model": "BYSIZE_40",
          "name": "score.rosetta_atr_rep",
          "natoms": 816,
          "nres": 43,
          "rosetta_relative": 0.9766925544313692,
          "time": 0.0041866181418299675
         },
         {
          "device": "cpu",
          "impl": "rosetta",
          "model": "BYSIZE_40",
          "name": "score.rosetta_atr_rep",
          "natoms": 816,
          "nres": 43,
          "rosetta_relative": 0.974910635486031,
          "time": 0.004178979899734259
         },
         {
          "device": "cpu",
          "impl": "rosetta",
          "model": "BYSIZE_40",
          "name": "score.rosetta_atr_rep",
          "natoms": 816,
          "nres": 43,
          "rosetta_relative": 0.973957917742288,
          "time": 0.00417489605024457
         },
         {
          "device": "cpu",
          "impl": "rosetta",
          "model": "BYSIZE_40",
          "name": "score.rosetta_atr_rep",
          "natoms": 816,
          "nres": 43,
          "rosetta_relative": 0.9769520803937183,
          "time": 0.004187730606645346
         },
         {
          "device": "cpu",
          "impl": "rosetta",
          "model": "BYSIZE_40",
          "name": "score.rosetta_atr_rep",
          "natoms": 816,
          "nres": 43,
          "rosetta_relative": 0.9724736551957932,
          "time": 0.004168533720076084
         },
         {
          "device": "cpu",
          "impl": "rosetta",
          "model": "BYSIZE_40",
          "name": "score.rosetta_atr_rep",
          "natoms": 816,
          "nres": 43,
          "rosetta_relative": 0.9757220207571845,
          "time": 0.00418245792388916
         },
         {
          "device": "cpu",
          "impl": "rosetta",
          "model": "BYSIZE_40",
          "name": "score.rosetta_atr_rep",
          "natoms": 816,
          "nres": 43,
          "rosetta_relative": 0.9767269913213082,
          "time": 0.004186765756458044
         },
         {
          "device": "cpu",
          "impl": "blocked",
          "model": "BYSIZE_40",
          "name": "score.tmol_lj_cpu_cpp.blocked",
          "natoms": 816,
          "nres": 43,
          "rosetta_relative": 0.5505733028008735,
          "time": 0.0023600468412041664
         },
         {
          "device": "cpu",
          "impl": "blocked",
          "model": "BYSIZE_40",
          "name": "score.tmol_lj_cpu_cpp.blocked",
          "natoms": 816,
          "nres": 43,
          "rosetta_relative": 0.5349011502331634,
          "time": 0.002292867749929428
         },
         {
          "device": "cpu",
          "impl": "blocked",
          "model": "BYSIZE_40",
          "name": "score.tmol_lj_cpu_cpp.blocked",
          "natoms": 816,
          "nres": 43,
          "rosetta_relative": 0.5359739082399435,
          "time": 0.002297466155141592
         },
         {
          "device": "cpu",
          "impl": "blocked",
          "model": "BYSIZE_40",
          "name": "score.tmol_lj_cpu_cpp.blocked",
          "natoms": 816,
          "nres": 43,
          "rosetta_relative": 0.5323794356396052,
          "time": 0.0022820583544671535
         },
         {
          "device": "cpu",
          "impl": "blocked",
          "model": "BYSIZE_40",
          "name": "score.tmol_lj_cpu_cpp.blocked",
          "natoms": 816,
          "nres": 43,
          "rosetta_relative": 0.5349287431986036,
          "time": 0.0022929860278964043
         },
         {
          "device": "cpu",
          "impl": "blocked",
          "model": "BYSIZE_40",
          "name": "score.tmol_lj_cpu_cpp.blocked",
          "natoms": 816,
          "nres": 43,
          "rosetta_relative": 0.5316019440897799,
          "time": 0.002278725616633892
         },
         {
          "device": "cpu",
          "impl": "blocked",
          "model": "BYSIZE_40",
          "name": "score.tmol_lj_cpu_cpp.blocked",
          "natoms": 816,
          "nres": 43,
          "rosetta_relative": 0.5371286847069888,
          "time": 0.0023024161346256733
         },
         {
          "device": "cpu",
          "impl": "blocked",
          "model": "BYSIZE_40",
          "name": "score.tmol_lj_cpu_cpp.blocked",
          "natoms": 816,
          "nres": 43,
          "rosetta_relative": 0.5346876849690294,
          "time": 0.0022919527254998684
         },
         {
          "device": "cpu",
          "impl": "blocked",
          "model": "BYSIZE_40",
          "name": "score.tmol_lj_cpu_cpp.blocked",
          "natoms": 816,
          "nres": 43,
          "rosetta_relative": 0.5310757223394161,
          "time": 0.0022764699533581734
         },
         {
          "device": "cpu",
          "impl": "blocked",
          "model": "BYSIZE_40",
          "name": "score.tmol_lj_cpu_cpp.blocked",
          "natoms": 816,
          "nres": 43,
          "rosetta_relative": 0.5357767380341404,
          "time": 0.0022966209799051285
         },
         {
          "device": "cpu",
          "impl": "blocked",
          "model": "BYSIZE_40",
          "name": "score.tmol_lj_cpu_cpp.blocked",
          "natoms": 816,
          "nres": 43,
          "rosetta_relative": 0.5313391591157647,
          "time": 0.0022775991819798946
         },
         {
          "device": "cpu",
          "impl": "blocked",
          "model": "BYSIZE_40",
          "name": "score.tmol_lj_cpu_cpp.blocked",
          "natoms": 816,
          "nres": 43,
          "rosetta_relative": 0.5383489673085241,
          "time": 0.002307646907866001
         },
         {
          "device": "cpu",
          "impl": "blocked",
          "model": "BYSIZE_40",
          "name": "score.tmol_lj_cpu_cpp.blocked",
          "natoms": 816,
          "nres": 43,
          "rosetta_relative": 0.5573872443924962,
          "time": 0.002389254979789257
         },
         {
          "device": "cpu",
          "impl": "blocked",
          "model": "BYSIZE_40",
          "name": "score.tmol_lj_cpu_cpp.blocked",
          "natoms": 816,
          "nres": 43,
          "rosetta_relative": 0.5354492073616905,
          "time": 0.0022952170111238956
         },
         {
          "device": "cpu",
          "impl": "blocked",
          "model": "BYSIZE_40",
          "name": "score.tmol_lj_cpu_cpp.blocked",
          "natoms": 816,
          "nres": 43,
          "rosetta_relative": 0.5354380180883034,
          "time": 0.002295169048011303
         },
         {
          "device": "cpu",
          "impl": "blocked",
          "model": "BYSIZE_40",
          "name": "score.tmol_lj_cpu_cpp.blocked",
          "natoms": 816,
          "nres": 43,
          "rosetta_relative": 0.5319656497917242,
          "time": 0.0022802846506237984
         },
         {
          "device": "cpu",
          "impl": "blocked",
          "model": "BYSIZE_40",
          "name": "score.tmol_lj_cpu_cpp.blocked",
          "natoms": 816,
          "nres": 43,
          "rosetta_relative": 0.5392198838594462,
          "time": 0.0023113801144063473
         },
         {
          "device": "cpu",
          "impl": "blocked",
          "model": "BYSIZE_40",
          "name": "score.tmol_lj_cpu_cpp.blocked",
          "natoms": 816,
          "nres": 43,
          "rosetta_relative": 0.5337480032719512,
          "time": 0.0022879247553646564
         },
         {
          "device": "cpu",
          "impl": "blocked",
          "model": "BYSIZE_40",
          "name": "score.tmol_lj_cpu_cpp.blocked",
          "natoms": 816,
          "nres": 43,
          "rosetta_relative": 0.5367054477252758,
          "time": 0.0023006019182503223
         },
         {
          "device": "cpu",
          "impl": "blocked",
          "model": "BYSIZE_40",
          "name": "score.tmol_lj_cpu_cpp.blocked",
          "natoms": 816,
          "nres": 43,
          "rosetta_relative": 0.5343950257214076,
          "time": 0.0022906982339918613
         },
         {
          "device": "cpu",
          "impl": "blocked",
          "model": "BYSIZE_40",
          "name": "score.tmol_lj_cpu_cpp.blocked",
          "natoms": 816,
          "nres": 43,
          "rosetta_relative": 0.5321664049103602,
          "time": 0.002281145192682743
         },
         {
          "device": "cpu",
          "impl": "blocked",
          "model": "BYSIZE_40",
          "name": "score.tmol_lj_cpu_cpp.blocked",
          "natoms": 816,
          "nres": 43,
          "rosetta_relative": 0.5371604057538728,
          "time": 0.002302552107721567
         },
         {
          "device": "cpu",
          "impl": "blocked",
          "model": "BYSIZE_40",
          "name": "score.tmol_lj_cpu_cpp.blocked",
          "natoms": 816,
          "nres": 43,
          "rosetta_relative": 0.5321243636598666,
          "time": 0.002280964981764555
         },
         {
          "device": "cpu",
          "impl": "blocked",
          "model": "BYSIZE_40",
          "name": "score.tmol_lj_cpu_cpp.blocked",
          "natoms": 816,
          "nres": 43,
          "rosetta_relative": 0.5365426057756897,
          "time": 0.002299903891980648
         },
         {
          "device": "cpu",
          "impl": "blocked",
          "model": "BYSIZE_40",
          "name": "score.tmol_lj_cpu_cpp.blocked",
          "natoms": 816,
          "nres": 43,
          "rosetta_relative": 0.5313928241745342,
          "time": 0.0022778292186558247
         },
         {
          "device": "cpu",
          "impl": "blocked",
          "model": "BYSIZE_40",
          "name": "score.tmol_lj_cpu_cpp.blocked",
          "natoms": 816,
          "nres": 43,
          "rosetta_relative": 0.5339691815303617,
          "time": 0.002288872841745615
         },
         {
          "device": "cpu",
          "impl": "blocked",
          "model": "BYSIZE_40",
          "name": "score.tmol_lj_cpu_cpp.blocked",
          "natoms": 816,
          "nres": 43,
          "rosetta_relative": 0.5377860273600548,
          "time": 0.0023052338510751724
         },
         {
          "device": "cpu",
          "impl": "blocked",
          "model": "BYSIZE_40",
          "name": "score.tmol_lj_cpu_cpp.blocked",
          "natoms": 816,
          "nres": 43,
          "rosetta_relative": 0.5322599385451792,
          "time": 0.002281546127051115
         },
         {
          "device": "cpu",
          "impl": "blocked",
          "model": "BYSIZE_40",
          "name": "score.tmol_lj_cpu_cpp.blocked",
          "natoms": 816,
          "nres": 43,
          "rosetta_relative": 0.5364145266172093,
          "time": 0.002299354877322912
         },
         {
          "device": "cpu",
          "impl": "blocked",
          "model": "BYSIZE_40",
          "name": "score.tmol_lj_cpu_cpp.blocked",
          "natoms": 816,
          "nres": 43,
          "rosetta_relative": 0.5317287196435938,
          "time": 0.00227926904335618
         },
         {
          "device": "cpu",
          "impl": "blocked",
          "model": "BYSIZE_40",
          "name": "score.tmol_lj_cpu_cpp.blocked",
          "natoms": 816,
          "nres": 43,
          "rosetta_relative": 0.5348120705809548,
          "time": 0.0022924859076738358
         },
         {
          "device": "cpu",
          "impl": "blocked",
          "model": "BYSIZE_40",
          "name": "score.tmol_lj_cpu_cpp.blocked",
          "natoms": 816,
          "nres": 43,
          "rosetta_relative": 0.5324377719484297,
          "time": 0.002282308414578438
         },
         {
          "device": "cpu",
          "impl": "blocked",
          "model": "BYSIZE_40",
          "name": "score.tmol_lj_cpu_cpp.blocked",
          "natoms": 816,
          "nres": 43,
          "rosetta_relative": 0.536966060024847,
          "time": 0.0023017190396785736
         },
         {
          "device": "cpu",
          "impl": "blocked",
          "model": "BYSIZE_40",
          "name": "score.tmol_lj_cpu_cpp.blocked",
          "natoms": 816,
          "nres": 43,
          "rosetta_relative": 0.5363740062388266,
          "time": 0.0022991811856627464
         },
         {
          "device": "cpu",
          "impl": "blocked",
          "model": "BYSIZE_40",
          "name": "score.tmol_lj_cpu_cpp.blocked",
          "natoms": 816,
          "nres": 43,
          "rosetta_relative": 0.5334528454487186,
          "time": 0.0022866595536470413
         },
         {
          "device": "cpu",
          "impl": "blocked",
          "model": "BYSIZE_40",
          "name": "score.tmol_lj_cpu_cpp.blocked",
          "natoms": 816,
          "nres": 43,
          "rosetta_relative": 0.5358413750988527,
          "time": 0.0022968980483710766
         },
         {
          "device": "cpu",
          "impl": "blocked",
          "model": "BYSIZE_40",
          "name": "score.tmol_lj_cpu_cpp.blocked",
          "natoms": 816,
          "nres": 43,
          "rosetta_relative": 0.5314996111234622,
          "time": 0.002278286963701248
         },
         {
          "device": "cpu",
          "impl": "blocked",
          "model": "BYSIZE_40",
          "name": "score.tmol_lj_cpu_cpp.blocked",
          "natoms": 816,
          "nres": 43,
          "rosetta_relative": 0.5373848430239495,
          "time": 0.002303514163941145
         },
         {
          "device": "cpu",
          "impl": "blocked",
          "model": "BYSIZE_40",
          "name": "score.tmol_lj_cpu_cpp.blocked",
          "natoms": 816,
          "nres": 43,
          "rosetta_relative": 0.5326175607586799,
          "time": 0.002283079084008932
         },
         {
          "device": "cpu",
          "impl": "blocked",
          "model": "BYSIZE_40",
          "name": "score.tmol_lj_cpu_cpp.blocked",
          "natoms": 816,
          "nres": 43,
          "rosetta_relative": 0.5335245437053743,
          "time": 0.0022869668900966644
         },
         {
          "device": "cpu",
          "impl": "blocked",
          "model": "BYSIZE_40",
          "name": "score.tmol_lj_cpu_cpp.blocked",
          "natoms": 816,
          "nres": 43,
          "rosetta_relative": 0.5354914658796285,
          "time": 0.0022953981533646584
         },
         {
          "device": "cpu",
          "impl": "blocked",
          "model": "BYSIZE_40",
          "name": "score.tmol_lj_cpu_cpp.blocked",
          "natoms": 816,
          "nres": 43,
          "rosetta_relative": 0.5321442436310302,
          "time": 0.0022810501977801323
         },
         {
          "device": "cpu",
          "impl": "blocked",
          "model": "BYSIZE_40",
          "name": "score.tmol_lj_cpu_cpp.blocked",
          "natoms": 816,
          "nres": 43,
          "rosetta_relative": 0.5369016402275791,
          "time": 0.0023014429025352
         },
         {
          "device": "cpu",
          "impl": "blocked",
          "model": "BYSIZE_40",
          "name": "score.tmol_lj_cpu_cpp.blocked",
          "natoms": 816,
          "nres": 43,
          "rosetta_relative": 0.44240909554266666,
          "time": 0.0018963981419801712
         },
         {
          "device": "cpu",
          "impl": "blocked",
          "model": "BYSIZE_40",
          "name": "score.tmol_lj_cpu_cpp.blocked",
          "natoms": 816,
          "nres": 43,
          "rosetta_relative": 0.38810396688187515,
          "time": 0.0016636177897453308
         },
         {
          "device": "cpu",
          "impl": "blocked",
          "model": "BYSIZE_40",
          "name": "score.tmol_lj_cpu_cpp.blocked",
          "natoms": 816,
          "nres": 43,
          "rosetta_relative": 0.38511892946311027,
          "time": 0.0016508223488926888
         },
         {
          "device": "cpu",
          "impl": "blocked",
          "model": "BYSIZE_40",
          "name": "score.tmol_lj_cpu_cpp.blocked",
          "natoms": 816,
          "nres": 43,
          "rosetta_relative": 0.384599334369801,
          "time": 0.0016485950909554958
         },
         {
          "device": "cpu",
          "impl": "blocked",
          "model": "BYSIZE_40",
          "name": "score.tmol_lj_cpu_cpp.blocked",
          "natoms": 816,
          "nres": 43,
          "rosetta_relative": 0.38759751646895274,
          "time": 0.0016614468768239021
         },
         {
          "device": "cpu",
          "impl": "blocked",
          "model": "BYSIZE_40",
          "name": "score.tmol_lj_cpu_cpp.blocked",
          "natoms": 816,
          "nres": 43,
          "rosetta_relative": 0.38662339788193534,
          "time": 0.0016572712920606136
         },
         {
          "device": "cpu",
          "impl": "blocked",
          "model": "BYSIZE_40",
          "name": "score.tmol_lj_cpu_cpp.blocked",
          "natoms": 816,
          "nres": 43,
          "rosetta_relative": 0.3911036698531378,
          "time": 0.0016764760948717594
         },
         {
          "device": "cpu",
          "impl": "blocked",
          "model": "BYSIZE_40",
          "name": "score.tmol_lj_cpu_cpp.blocked",
          "natoms": 816,
          "nres": 43,
          "rosetta_relative": 0.3818033196276738,
          "time": 0.0016366099007427692
         },
         {
          "device": "cpu",
          "impl": "blocked",
          "model": "BYSIZE_40",
          "name": "score.tmol_lj_cpu_cpp.blocked",
          "natoms": 816,
          "nres": 43,
          "rosetta_relative": 0.3842290020108022,
          "time": 0.0016470076516270638
         },
         {
          "device": "cpu",
          "impl": "blocked",
          "model": "BYSIZE_40",
          "name": "score.tmol_lj_cpu_cpp.blocked",
          "natoms": 816,
          "nres": 43,
          "rosetta_relative": 0.3819686601528707,
          "time": 0.0016373186372220516
         },
         {
          "device": "cpu",
          "impl": "blocked",
          "model": "BYSIZE_40",
          "name": "score.tmol_lj_cpu_cpp.blocked",
          "natoms": 816,
          "nres": 43,
          "rosetta_relative": 0.40283947949672877,
          "time": 0.0017267819494009018
         },
         {
          "device": "cpu",
          "impl": "blocked",
          "model": "BYSIZE_40",
          "name": "score.tmol_lj_cpu_cpp.blocked",
          "natoms": 816,
          "nres": 43,
          "rosetta_relative": 0.39616600130791785,
          "time": 0.0016981759108603
         },
         {
          "device": "cpu",
          "impl": "blocked",
          "model": "BYSIZE_40",
          "name": "score.tmol_lj_cpu_cpp.blocked",
          "natoms": 816,
          "nres": 43,
          "rosetta_relative": 0.3792710675630617,
          "time": 0.0016257553361356258
         },
         {
          "device": "cpu",
          "impl": "blocked",
          "model": "BYSIZE_40",
          "name": "score.tmol_lj_cpu_cpp.blocked",
          "natoms": 816,
          "nres": 43,
          "rosetta_relative": 0.38465875701584745,
          "time": 0.0016488498076796532
         },
         {
          "device": "cpu",
          "impl": "blocked",
          "model": "BYSIZE_40",
          "name": "score.tmol_lj_cpu_cpp.blocked",
          "natoms": 816,
          "nres": 43,
          "rosetta_relative": 0.38284794150040263,
          "time": 0.0016410876996815205
         },
         {
          "device": "cpu",
          "impl": "blocked",
          "model": "BYSIZE_40",
          "name": "score.tmol_lj_cpu_cpp.blocked",
          "natoms": 816,
          "nres": 43,
          "rosetta_relative": 0.3798957114657438,
          "time": 0.0016284328885376453
         },
         {
          "device": "cpu",
          "impl": "blocked",
          "model": "BYSIZE_40",
          "name": "score.tmol_lj_cpu_cpp.blocked",
          "natoms": 816,
          "nres": 43,
          "rosetta_relative": 0.38280926789529746,
          "time": 0.001640921924263239
         },
         {
          "device": "cpu",
          "impl": "blocked",
          "model": "BYSIZE_40",
          "name": "score.tmol_lj_cpu_cpp.blocked",
          "natoms": 816,
          "nres": 43,
          "rosetta_relative": 0.3811364172070537,
          "time": 0.001633751206099987
         },
         {
          "device": "cpu",
          "impl": "blocked",
          "model": "BYSIZE_40",
          "name": "score.tmol_lj_cpu_cpp.blocked",
          "natoms": 816,
          "nres": 43,
          "rosetta_relative": 0.3794969170715271,
          "time": 0.0016267234459519386
         },
         {
          "device": "cpu",
          "impl": "blocked",
          "model": "BYSIZE_40",
          "name": "score.tmol_lj_cpu_cpp.blocked",
          "natoms": 816,
          "nres": 43,
          "rosetta_relative": 0.37765405460803164,
          "time": 0.0016188239678740501
         },
         {
          "device": "cpu",
          "impl": "blocked",
          "model": "BYSIZE_40",
          "name": "score.tmol_lj_cpu_cpp.blocked",
          "natoms": 816,
          "nres": 43,
          "rosetta_relative": 0.38221764864416585,
          "time": 0.001638385932892561
         },
         {
          "device": "cpu",
          "impl": "blocked",
          "model": "BYSIZE_40",
          "name": "score.tmol_lj_cpu_cpp.blocked",
          "natoms": 816,
          "nres": 43,
          "rosetta_relative": 0.3781806022595621,
          "time": 0.0016210810281336308
         },
         {
          "device": "cpu",
          "impl": "blocked",
          "model": "BYSIZE_40",
          "name": "score.tmol_lj_cpu_cpp.blocked",
          "natoms": 816,
          "nres": 43,
          "rosetta_relative": 0.40485072422964286,
          "time": 0.0017354032024741173
         },
         {
          "device": "cpu",
          "impl": "blocked",
          "model": "BYSIZE_40",
          "name": "score.tmol_lj_cpu_cpp.blocked",
          "natoms": 816,
          "nres": 43,
          "rosetta_relative": 0.4063736603812429,
          "time": 0.0017419313080608845
         },
         {
          "device": "cpu",
          "impl": "blocked",
          "model": "BYSIZE_40",
          "name": "score.tmol_lj_cpu_cpp.blocked",
          "natoms": 816,
          "nres": 43,
          "rosetta_relative": 0.37538415298254607,
          "time": 0.001609093975275755
         },
         {
          "device": "cpu",
          "impl": "blocked",
          "model": "BYSIZE_40",
          "name": "score.tmol_lj_cpu_cpp.blocked",
          "natoms": 816,
          "nres": 43,
          "rosetta_relative": 0.37785958961044463,
          "time": 0.0016197049990296364
         },
         {
          "device": "cpu",
          "impl": "blocked",
          "model": "BYSIZE_40",
          "name": "score.tmol_lj_cpu_cpp.blocked",
          "natoms": 816,
          "nres": 43,
          "rosetta_relative": 0.3783440960114815,
          "time": 0.001621781848371029
         },
         {
          "device": "cpu",
          "impl": "blocked",
          "model": "BYSIZE_40",
          "name": "score.tmol_lj_cpu_cpp.blocked",
          "natoms": 816,
          "nres": 43,
          "rosetta_relative": 0.37549289533847385,
          "time": 0.00160956010222435
         },
         {
          "device": "cpu",
          "impl": "blocked",
          "model": "BYSIZE_40",
          "name": "score.tmol_lj_cpu_cpp.blocked",
          "natoms": 816,
          "nres": 43,
          "rosetta_relative": 0.3818616559364982,
          "time": 0.0016368599608540535
         },
         {
          "device": "cpu",
          "impl": "blocked",
          "model": "BYSIZE_40",
          "name": "score.tmol_lj_cpu_cpp.blocked",
          "natoms": 816,
          "nres": 43,
          "rosetta_relative": 0.38219646506833577,
          "time": 0.001638295128941536
         },
         {
          "device": "cpu",
          "impl": "blocked",
          "model": "BYSIZE_40",
          "name": "score.tmol_lj_cpu_cpp.blocked",
          "natoms": 816,
          "nres": 43,
          "rosetta_relative": 0.37546725778003337,
          "time": 0.0016094502061605453
         },
         {
          "device": "cpu",
          "impl": "blocked",
          "model": "BYSIZE_40",
          "name": "score.tmol_lj_cpu_cpp.blocked",
          "natoms": 816,
          "nres": 43,
          "rosetta_relative": 0.3862965190118187,
          "time": 0.0016558701172471046
         },
         {
          "device": "cpu",
          "impl": "blocked",
          "model": "BYSIZE_40",
          "name": "score.tmol_lj_cpu_cpp.blocked",
          "natoms": 816,
          "nres": 43,
          "rosetta_relative": 0.37484239660990687,
          "time": 0.0016067717224359512
         },
         {
          "device": "cpu",
          "impl": "blocked",
          "model": "BYSIZE_40",
          "name": "score.tmol_lj_cpu_cpp.blocked",
          "natoms": 816,
          "nres": 43,
          "rosetta_relative": 0.37641291433183294,
          "time": 0.0016135037876665592
         },
         {
          "device": "cpu",
          "impl": "blocked",
          "model": "BYSIZE_40",
          "name": "score.tmol_lj_cpu_cpp.blocked",
          "natoms": 816,
          "nres": 43,
          "rosetta_relative": 0.39797725135825146,
          "time": 0.001705939881503582
         },
         {
          "device": "cpu",
          "impl": "blocked",
          "model": "BYSIZE_40",
          "name": "score.tmol_lj_cpu_cpp.blocked",
          "natoms": 816,
          "nres": 43,
          "rosetta_relative": 0.39746341385221906,
          "time": 0.0017037373036146164
         },
         {
          "device": "cpu",
          "impl": "blocked",
          "model": "BYSIZE_40",
          "name": "score.tmol_lj_cpu_cpp.blocked",
          "natoms": 816,
          "nres": 43,
          "rosetta_relative": 0.38557214935215195,
          "time": 0.0016527650877833366
         },
         {
          "device": "cpu",
          "impl": "blocked",
          "model": "BYSIZE_40",
          "name": "score.tmol_lj_cpu_cpp.blocked",
          "natoms": 816,
          "nres": 43,
          "rosetta_relative": 0.37542032801204056,
          "time": 0.0016092490404844284
         },
         {
          "device": "cpu",
          "impl": "blocked",
          "model": "BYSIZE_40",
          "name": "score.tmol_lj_cpu_cpp.blocked",
          "natoms": 816,
          "nres": 43,
          "rosetta_relative": 0.37543825257620445,
          "time": 0.0016093258745968342
         },
         {
          "device": "cpu",
          "impl": "blocked",
          "model": "BYSIZE_40",
          "name": "score.tmol_lj_cpu_cpp.blocked",
          "natoms": 816,
          "nres": 43,
          "rosetta_relative": 0.38577084043006593,
          "time": 0.0016536167822778225
         },
         {
          "device": "cpu",
          "impl": "blocked",
          "model": "BYSIZE_40",
          "name": "score.tmol_lj_cpu_cpp.blocked",
          "natoms": 816,
          "nres": 43,
          "rosetta_relative": 0.40092904685802144,
          "time": 0.001718592830002308
         },
         {
          "device": "cpu",
          "impl": "blocked",
          "model": "BYSIZE_40",
          "name": "score.tmol_lj_cpu_cpp.blocked",
          "natoms": 816,
          "nres": 43,
          "rosetta_relative": 0.375078131787093,
          "time": 0.001607782207429409
         },
         {
          "device": "cpu",
          "impl": "blocked",
          "model": "BYSIZE_40",
          "name": "score.tmol_lj_cpu_cpp.blocked",
          "natoms": 816,
          "nres": 43,
          "rosetta_relative": 0.3787190996205352,
          "time": 0.0016233893111348152
         },
         {
          "device": "cpu",
          "impl": "blocked",
          "model": "BYSIZE_40",
          "name": "score.tmol_lj_cpu_cpp.blocked",
          "natoms": 816,
          "nres": 43,
          "rosetta_relative": 0.37214914936898613,
          "time": 0.0015952270478010178
         },
         {
          "device": "cpu",
          "impl": "blocked",
          "model": "BYSIZE_40",
          "name": "score.tmol_lj_cpu_cpp.blocked",
          "natoms": 816,
          "nres": 43,
          "rosetta_relative": 0.3710501020014323,
          "time": 0.0015905159525573254
         },
         {
          "device": "cpu",
          "impl": "blocked",
          "model": "BYSIZE_40",
          "name": "score.tmol_lj_cpu_cpp.blocked",
          "natoms": 816,
          "nres": 43,
          "rosetta_relative": 0.3753731809766033,
          "time": 0.0016090469434857368
         },
         {
          "device": "cpu",
          "impl": "blocked",
          "model": "BYSIZE_40",
          "name": "score.tmol_lj_cpu_cpp.blocked",
          "natoms": 816,
          "nres": 43,
          "rosetta_relative": 0.3865645184044999,
          "time": 0.0016570189036428928
         },
         {
          "device": "cpu",
          "impl": "blocked",
          "model": "BYSIZE_40",
          "name": "score.tmol_lj_cpu_cpp.blocked",
          "natoms": 816,
          "nres": 43,
          "rosetta_relative": 0.3889714071536867,
          "time": 0.0016673360951244831
         },
         {
          "device": "cpu",
          "impl": "blocked",
          "model": "BYSIZE_40",
          "name": "score.tmol_lj_cpu_cpp.blocked",
          "natoms": 816,
          "nres": 43,
          "rosetta_relative": 0.3772285363181524,
          "time": 0.0016169999726116657
         },
         {
          "device": "cpu",
          "impl": "blocked",
          "model": "BYSIZE_40",
          "name": "score.tmol_lj_cpu_cpp.blocked",
          "natoms": 816,
          "nres": 43,
          "rosetta_relative": 0.36959842957159916,
          "time": 0.001584293320775032
         },
         {
          "device": "cpu",
          "impl": "blocked",
          "model": "BYSIZE_40",
          "name": "score.tmol_lj_cpu_cpp.blocked",
          "natoms": 816,
          "nres": 43,
          "rosetta_relative": 0.37363688819459157,
          "time": 0.0016016042791306973
         },
         {
          "device": "cpu",
          "impl": "naive",
          "model": "BYSIZE_40",
          "name": "score.tmol_lj_cpu_cpp.naive",
          "natoms": 816,
          "nres": 43,
          "rosetta_relative": 0.44355333453865803,
          "time": 0.0019013029523193836
         },
         {
          "device": "cpu",
          "impl": "naive",
          "model": "BYSIZE_40",
          "name": "score.tmol_lj_cpu_cpp.naive",
          "natoms": 816,
          "nres": 43,
          "rosetta_relative": 0.43452543768848556,
          "time": 0.0018626046366989613
         },
         {
          "device": "cpu",
          "impl": "naive",
          "model": "BYSIZE_40",
          "name": "score.tmol_lj_cpu_cpp.naive",
          "natoms": 816,
          "nres": 43,
          "rosetta_relative": 0.4347737743774475,
          "time": 0.0018636691384017467
         },
         {
          "device": "cpu",
          "impl": "naive",
          "model": "BYSIZE_40",
          "name": "score.tmol_lj_cpu_cpp.naive",
          "natoms": 816,
          "nres": 43,
          "rosetta_relative": 0.4403052948784334,
          "time": 0.0018873801454901695
         },
         {
          "device": "cpu",
          "impl": "naive",
          "model": "BYSIZE_40",
          "name": "score.tmol_lj_cpu_cpp.naive",
          "natoms": 816,
          "nres": 43,
          "rosetta_relative": 0.4474755550788905,
          "time": 0.0019181156530976295
         },
         {
          "device": "cpu",
          "impl": "naive",
          "model": "BYSIZE_40",
          "name": "score.tmol_lj_cpu_cpp.naive",
          "natoms": 816,
          "nres": 43,
          "rosetta_relative": 0.44654456407958865,
          "time": 0.0019141249358654022
         },
         {
          "device": "cpu",
          "impl": "naive",
          "model": "BYSIZE_40",
          "name": "score.tmol_lj_cpu_cpp.naive",
          "natoms": 816,
          "nres": 43,
          "rosetta_relative": 0.43580720697678915,
          "time": 0.0018680989742279053
         },
         {
          "device": "cpu",
          "impl": "naive",
          "model": "BYSIZE_40",
          "name": "score.tmol_lj_cpu_cpp.naive",
          "natoms": 816,
          "nres": 43,
          "rosetta_relative": 0.4362262072433361,
          "time": 0.0018698950298130512
         },
         {
          "device": "cpu",
          "impl": "naive",
          "model": "BYSIZE_40",
          "name": "score.tmol_lj_cpu_cpp.naive",
          "natoms": 816,
          "nres": 43,
          "rosetta_relative": 0.4362357670108902,
          "time": 0.0018699360080063343
         },
         {
          "device": "cpu",
          "impl": "naive",
          "model": "BYSIZE_40",
          "name": "score.tmol_lj_cpu_cpp.naive",
          "natoms": 816,
          "nres": 43,
          "rosetta_relative": 0.43891022061786933,
          "time": 0.0018814001232385635
         },
         {
          "device": "cpu",
          "impl": "naive",
          "model": "BYSIZE_40",
          "name": "score.tmol_lj_cpu_cpp.naive",
          "natoms": 816,
          "nres": 43,
          "rosetta_relative": 0.4361424506435156,
          "time": 0.001869536004960537
         },
         {
          "device": "cpu",
          "impl": "naive",
          "model": "BYSIZE_40",
          "name": "score.tmol_lj_cpu_cpp.naive",
          "natoms": 816,
          "nres": 43,
          "rosetta_relative": 0.4380143183108399,
          "time": 0.0018775598146021366
         },
         {
          "device": "cpu",
          "impl": "naive",
          "model": "BYSIZE_40",
          "name": "score.tmol_lj_cpu_cpp.naive",
          "natoms": 816,
          "nres": 43,
          "rosetta_relative": 0.4348376510061044,
          "time": 0.0018639429472386837
         },
         {
          "device": "cpu",
          "impl": "naive",
          "model": "BYSIZE_40",
          "name": "score.tmol_lj_cpu_cpp.naive",
          "natoms": 816,
          "nres": 43,
          "rosetta_relative": 0.43499842891496865,
          "time": 0.0018646321259438992
         },
         {
          "device": "cpu",
          "impl": "naive",
          "model": "BYSIZE_40",
          "name": "score.tmol_lj_cpu_cpp.naive",
          "natoms": 816,
          "nres": 43,
          "rosetta_relative": 0.4382189842434752,
          "time": 0.0018784371204674244
         },
         {
          "device": "cpu",
          "impl": "naive",
          "model": "BYSIZE_40",
          "name": "score.tmol_lj_cpu_cpp.naive",
          "natoms": 816,
          "nres": 43,
          "rosetta_relative": 0.4588704721022003,
          "time": 0.0019669602625072002
         },
         {
          "device": "cpu",
          "impl": "naive",
          "model": "BYSIZE_40",
          "name": "score.tmol_lj_cpu_cpp.naive",
          "natoms": 816,
          "nres": 43,
          "rosetta_relative": 0.4401804747316192,
          "time": 0.001886845100671053
         },
         {
          "device": "cpu",
          "impl": "naive",
          "model": "BYSIZE_40",
          "name": "score.tmol_lj_cpu_cpp.naive",
          "natoms": 816,
          "nres": 43,
          "rosetta_relative": 0.43688246355918,
          "time": 0.0018727080896496773
         },
         {
          "device": "cpu",
          "impl": "naive",
          "model": "BYSIZE_40",
          "name": "score.tmol_lj_cpu_cpp.naive",
          "natoms": 816,
          "nres": 43,
          "rosetta_relative": 0.44052777674151045,
          "time": 0.0018883338198065758
         },
         {
          "device": "cpu",
          "impl": "naive",
          "model": "BYSIZE_40",
          "name": "score.tmol_lj_cpu_cpp.naive",
          "natoms": 816,
          "nres": 43,
          "rosetta_relative": 0.43546870429839657,
          "time": 0.0018666479736566544
         },
         {
          "device": "cpu",
          "impl": "naive",
          "model": "BYSIZE_40",
          "name": "score.tmol_lj_cpu_cpp.naive",
          "natoms": 816,
          "nres": 43,
          "rosetta_relative": 0.4384389675309415,
          "time": 0.0018793800845742226
         },
         {
          "device": "cpu",
          "impl": "naive",
          "model": "BYSIZE_40",
          "name": "score.tmol_lj_cpu_cpp.naive",
          "natoms": 816,
          "nres": 43,
          "rosetta_relative": 0.4361668932310119,
          "time": 0.0018696407787501812
         },
         {
          "device": "cpu",
          "impl": "naive",
          "model": "BYSIZE_40",
          "name": "score.tmol_lj_cpu_cpp.naive",
          "natoms": 816,
          "nres": 43,
          "rosetta_relative": 0.4399798282467055,
          "time": 0.0018859850242733955
         },
         {
          "device": "cpu",
          "impl": "naive",
          "model": "BYSIZE_40",
          "name": "score.tmol_lj_cpu_cpp.naive",
          "natoms": 816,
          "nres": 43,
          "rosetta_relative": 0.43434467117473546,
          "time": 0.0018618297763168812
         },
         {
          "device": "cpu",
          "impl": "naive",
          "model": "BYSIZE_40",
          "name": "score.tmol_lj_cpu_cpp.naive",
          "natoms": 816,
          "nres": 43,
          "rosetta_relative": 0.4369447106820038,
          "time": 0.0018729749135673046
         },
         {
          "device": "cpu",
          "impl": "naive",
          "model": "BYSIZE_40",
          "name": "score.tmol_lj_cpu_cpp.naive",
          "natoms": 816,
          "nres": 43,
          "rosetta_relative": 0.436072925061304,
          "time": 0.00186923798173666
         },
         {
          "device": "cpu",
          "impl": "naive",
          "model": "BYSIZE_40",
          "name": "score.tmol_lj_cpu_cpp.naive",
          "natoms": 816,
          "nres": 43,
          "rosetta_relative": 0.45797391799283765,
          "time": 0.0019631171599030495
         },
         {
          "device": "cpu",
          "impl": "naive",
          "model": "BYSIZE_40",
          "name": "score.tmol_lj_cpu_cpp.naive",
          "natoms": 816,
          "nres": 43,
          "rosetta_relative": 0.4339483753561295,
          "time": 0.0018601310439407825
         },
         {
          "device": "cpu",
          "impl": "naive",
          "model": "BYSIZE_40",
          "name": "score.tmol_lj_cpu_cpp.naive",
          "natoms": 816,
          "nres": 43,
          "rosetta_relative": 0.4379600014497371,
          "time": 0.0018773269839584827
         },
         {
          "device": "cpu",
          "impl": "naive",
          "model": "BYSIZE_40",
          "name": "score.tmol_lj_cpu_cpp.naive",
          "natoms": 816,
          "nres": 43,
          "rosetta_relative": 0.4341622751551523,
          "time": 0.0018610479310154915
         },
         {
          "device": "cpu",
          "impl": "naive",
          "model": "BYSIZE_40",
          "name": "score.tmol_lj_cpu_cpp.naive",
          "natoms": 816,
          "nres": 43,
          "rosetta_relative": 0.43455140114809265,
          "time": 0.0018627159297466278
         },
         {
          "device": "cpu",
          "impl": "naive",
          "model": "BYSIZE_40",
          "name": "score.tmol_lj_cpu_cpp.naive",
          "natoms": 816,
          "nres": 43,
          "rosetta_relative": 0.43548413028694977,
          "time": 0.001866714097559452
         },
         {
          "device": "cpu",
          "impl": "naive",
          "model": "BYSIZE_40",
          "name": "score.tmol_lj_cpu_cpp.naive",
          "natoms": 816,
          "nres": 43,
          "rosetta_relative": 0.4375269874330257,
          "time": 0.001875470858067274
         },
         {
          "device": "cpu",
          "impl": "naive",
          "model": "BYSIZE_40",
          "name": "score.tmol_lj_cpu_cpp.naive",
          "natoms": 816,
          "nres": 43,
          "rosetta_relative": 0.4368029436745255,
          "time": 0.001872367225587368
         },
         {
          "device": "cpu",
          "impl": "naive",
          "model": "BYSIZE_40",
          "name": "score.tmol_lj_cpu_cpp.naive",
          "natoms": 816,
          "nres": 43,
          "rosetta_relative": 0.43610442884074363,
          "time": 0.0018693730235099792
         },
         {
          "device": "cpu",
          "impl": "naive",
          "model": "BYSIZE_40",
          "name": "score.tmol_lj_cpu_cpp.naive",
          "natoms": 816,
          "nres": 43,
          "rosetta_relative": 0.4407873027038596,
          "time": 0.001889446284621954
         },
         {
          "device": "cpu",
          "impl": "naive",
          "model": "BYSIZE_40",
          "name": "score.tmol_lj_cpu_cpp.naive",
          "natoms": 816,
          "nres": 43,
          "rosetta_relative": 0.45222121923344116,
          "time": 0.0019384580664336681
         },
         {
          "device": "cpu",
          "impl": "naive",
          "model": "BYSIZE_40",
          "name": "score.tmol_lj_cpu_cpp.naive",
          "natoms": 816,
          "nres": 43,
          "rosetta_relative": 0.440336255489262,
          "time": 0.0018875128589570522
         },
         {
          "device": "cpu",
          "impl": "naive",
          "model": "BYSIZE_40",
          "name": "score.tmol_lj_cpu_cpp.naive",
          "natoms": 816,
          "nres": 43,
          "rosetta_relative": 0.43393990192579746,
          "time": 0.0018600947223603725
         },
         {
          "device": "cpu",
          "impl": "naive",
          "model": "BYSIZE_40",
          "name": "score.tmol_lj_cpu_cpp.naive",
          "natoms": 816,
          "nres": 43,
          "rosetta_relative": 0.4365240809096238,
          "time": 0.001871171873062849
         },
         {
          "device": "cpu",
          "impl": "naive",
          "model": "BYSIZE_40",
          "name": "score.tmol_lj_cpu_cpp.naive",
          "natoms": 816,
          "nres": 43,
          "rosetta_relative": 0.4367933839069714,
          "time": 0.001872326247394085
         },
         {
          "device": "cpu",
          "impl": "naive",
          "model": "BYSIZE_40",
          "name": "score.tmol_lj_cpu_cpp.naive",
          "natoms": 816,
          "nres": 43,
          "rosetta_relative": 0.4376590860392277,
          "time": 0.0018760371021926403
         },
         {
          "device": "cpu",
          "impl": "naive",
          "model": "BYSIZE_40",
          "name": "score.tmol_lj_cpu_cpp.naive",
          "natoms": 816,
          "nres": 43,
          "rosetta_relative": 0.4356148166547631,
          "time": 0.0018672742880880833
         },
         {
          "device": "cpu",
          "impl": "naive",
          "model": "BYSIZE_40",
          "name": "score.tmol_lj_cpu_cpp.naive",
          "natoms": 816,
          "nres": 43,
          "rosetta_relative": 0.43444178972238723,
          "time": 0.0018622460775077343
         },
         {
          "device": "cpu",
          "impl": "naive",
          "model": "BYSIZE_40",
          "name": "score.tmol_lj_cpu_cpp.naive",
          "natoms": 816,
          "nres": 43,
          "rosetta_relative": 0.4354393731934011,
          "time": 0.0018665222451090813
         },
         {
          "device": "cpu",
          "impl": "naive",
          "model": "BYSIZE_40",
          "name": "score.tmol_lj_cpu_cpp.naive",
          "natoms": 816,
          "nres": 43,
          "rosetta_relative": 0.44067008691759973,
          "time": 0.001888943836092949
         },
         {
          "device": "cpu",
          "impl": "naive",
          "model": "BYSIZE_40",
          "name": "score.tmol_lj_cpu_cpp.naive",
          "natoms": 816,
          "nres": 43,
          "rosetta_relative": 0.4399625554848748,
          "time": 0.0018859109841287136
         },
         {
          "device": "cpu",
          "impl": "naive",
          "model": "BYSIZE_40",
          "name": "score.tmol_lj_cpu_cpp.naive",
          "natoms": 816,
          "nres": 43,
          "rosetta_relative": 0.45862061454112746,
          "time": 0.0019658892415463924
         },
         {
          "device": "cpu",
          "impl": "naive",
          "model": "BYSIZE_40",
          "name": "score.tmol_lj_cpu_cpp.naive",
          "natoms": 816,
          "nres": 43,
          "rosetta_relative": 0.4363329941922642,
          "time": 0.0018703527748584747
         },
         {
          "device": "cpu",
          "impl": "naive",
          "model": "BYSIZE_40",
          "name": "score.tmol_lj_cpu_cpp.naive",
          "natoms": 816,
          "nres": 43,
          "rosetta_relative": 0.43487773684959824,
          "time": 0.0018641147762537003
         },
         {
          "device": "cpu",
          "impl": "naive",
          "model": "BYSIZE_40",
          "name": "score.tmol_lj_cpu_cpp.naive",
          "natoms": 816,
          "nres": 43,
          "rosetta_relative": 0.43623783105161207,
          "time": 0.0018699448555707932
         },
         {
          "device": "cpu",
          "impl": "naive",
          "model": "BYSIZE_40",
          "name": "score.tmol_lj_cpu_cpp.naive",
          "natoms": 816,
          "nres": 43,
          "rosetta_relative": 0.4342480957956947,
          "time": 0.0018614158034324646
         },
         {
          "device": "cpu",
          "impl": "naive",
          "model": "BYSIZE_40",
          "name": "score.tmol_lj_cpu_cpp.naive",
          "natoms": 816,
          "nres": 43,
          "rosetta_relative": 0.45913988373327014,
          "time": 0.0019681151024997234
         },
         {
          "device": "cpu",
          "impl": "naive",
          "model": "BYSIZE_40",
          "name": "score.tmol_lj_cpu_cpp.naive",
          "natoms": 816,
          "nres": 43,
          "rosetta_relative": 0.4357486534005204,
          "time": 0.0018678479827940464
         },
         {
          "device": "cpu",
          "impl": "naive",
          "model": "BYSIZE_40",
          "name": "score.tmol_lj_cpu_cpp.naive",
          "natoms": 816,
          "nres": 43,
          "rosetta_relative": 0.44301049182879676,
          "time": 0.0018989760428667068
         },
         {
          "device": "cpu",
          "impl": "naive",
          "model": "BYSIZE_40",
          "name": "score.tmol_lj_cpu_cpp.naive",
          "natoms": 816,
          "nres": 43,
          "rosetta_relative": 0.4352293842083777,
          "time": 0.0018656221218407154
         },
         {
          "device": "cpu",
          "impl": "naive",
          "model": "BYSIZE_40",
          "name": "score.tmol_lj_cpu_cpp.naive",
          "natoms": 816,
          "nres": 43,
          "rosetta_relative": 0.4368849621347907,
          "time": 0.0018727187998592854
         },
         {
          "device": "cpu",
          "impl": "naive",
          "model": "BYSIZE_40",
          "name": "score.tmol_lj_cpu_cpp.naive",
          "natoms": 816,
          "nres": 43,
          "rosetta_relative": 0.44324470613387196,
          "time": 0.0018999800086021423
         },
         {
          "device": "cpu",
          "impl": "naive",
          "model": "BYSIZE_40",
          "name": "score.tmol_lj_cpu_cpp.naive",
          "natoms": 816,
          "nres": 43,
          "rosetta_relative": 0.44762753365625607,
          "time": 0.001918767113238573
         },
         {
          "device": "cpu",
          "impl": "naive",
          "model": "BYSIZE_40",
          "name": "score.tmol_lj_cpu_cpp.naive",
          "natoms": 816,
          "nres": 43,
          "rosetta_relative": 0.43707072579976225,
          "time": 0.0018735150806605816
         },
         {
          "device": "cpu",
          "impl": "naive",
          "model": "BYSIZE_40",
          "name": "score.tmol_lj_cpu_cpp.naive",
          "natoms": 816,
          "nres": 43,
          "rosetta_relative": 0.4380049758107303,
          "time": 0.0018775197677314281
         },
         {
          "device": "cpu",
          "impl": "naive",
          "model": "BYSIZE_40",
          "name": "score.tmol_lj_cpu_cpp.naive",
          "natoms": 816,
          "nres": 43,
          "rosetta_relative": 0.4411075549169216,
          "time": 0.0018908190540969372
         },
         {
          "device": "cpu",
          "impl": "naive",
          "model": "BYSIZE_40",
          "name": "score.tmol_lj_cpu_cpp.naive",
          "natoms": 816,
          "nres": 43,
          "rosetta_relative": 0.43635982672164897,
          "time": 0.0018704677931964397
         },
         {
          "device": "cpu",
          "impl": "naive",
          "model": "BYSIZE_40",
          "name": "score.tmol_lj_cpu_cpp.naive",
          "natoms": 816,
          "nres": 43,
          "rosetta_relative": 0.4355116146186678,
          "time": 0.001866831909865141
         },
         {
          "device": "cpu",
          "impl": "naive",
          "model": "BYSIZE_40",
          "name": "score.tmol_lj_cpu_cpp.naive",
          "natoms": 816,
          "nres": 43,
          "rosetta_relative": 0.43689191469301186,
          "time": 0.001872748602181673
         },
         {
          "device": "cpu",
          "impl": "naive",
          "model": "BYSIZE_40",
          "name": "score.tmol_lj_cpu_cpp.naive",
          "natoms": 816,
          "nres": 43,
          "rosetta_relative": 0.43116659163161125,
          "time": 0.0018482068553566933
         },
         {
          "device": "cpu",
          "impl": "naive",
          "model": "BYSIZE_40",
          "name": "score.tmol_lj_cpu_cpp.naive",
          "natoms": 816,
          "nres": 43,
          "rosetta_relative": 0.4352454619992641,
          "time": 0.001865691039711237
         },
         {
          "device": "cpu",
          "impl": "naive",
          "model": "BYSIZE_40",
          "name": "score.tmol_lj_cpu_cpp.naive",
          "natoms": 816,
          "nres": 43,
          "rosetta_relative": 0.4369977239384401,
          "time": 0.0018732021562755108
         },
         {
          "device": "cpu",
          "impl": "naive",
          "model": "BYSIZE_40",
          "name": "score.tmol_lj_cpu_cpp.naive",
          "natoms": 816,
          "nres": 43,
          "rosetta_relative": 0.46253729476152744,
          "time": 0.0019826781935989857
         },
         {
          "device": "cpu",
          "impl": "naive",
          "model": "BYSIZE_40",
          "name": "score.tmol_lj_cpu_cpp.naive",
          "natoms": 816,
          "nres": 43,
          "rosetta_relative": 0.4364868195429073,
          "time": 0.0018710121512413025
         },
         {
          "device": "cpu",
          "impl": "naive",
          "model": "BYSIZE_40",
          "name": "score.tmol_lj_cpu_cpp.naive",
          "natoms": 816,
          "nres": 43,
          "rosetta_relative": 0.43544632575162223,
          "time": 0.001866552047431469
         },
         {
          "device": "cpu",
          "impl": "naive",
          "model": "BYSIZE_40",
          "name": "score.tmol_lj_cpu_cpp.naive",
          "natoms": 816,
          "nres": 43,
          "rosetta_relative": 0.43879267893044294,
          "time": 0.0018808962777256966
         },
         {
          "device": "cpu",
          "impl": "naive",
          "model": "BYSIZE_40",
          "name": "score.tmol_lj_cpu_cpp.naive",
          "natoms": 816,
          "nres": 43,
          "rosetta_relative": 0.4339051391346917,
          "time": 0.001859945710748434
         },
         {
          "device": "cpu",
          "impl": "naive",
          "model": "BYSIZE_40",
          "name": "score.tmol_lj_cpu_cpp.naive",
          "natoms": 816,
          "nres": 43,
          "rosetta_relative": 0.43682651719224413,
          "time": 0.0018724682740867138
         },
         {
          "device": "cpu",
          "impl": "naive",
          "model": "BYSIZE_40",
          "name": "score.tmol_lj_cpu_cpp.naive",
          "natoms": 816,
          "nres": 43,
          "rosetta_relative": 0.43405690044461287,
          "time": 0.001860596239566803
         },
         {
          "device": "cpu",
          "impl": "naive",
          "model": "BYSIZE_40",
          "name": "score.tmol_lj_cpu_cpp.naive",
          "natoms": 816,
          "nres": 43,
          "rosetta_relative": 0.4372177072259064,
          "time": 0.001874145120382309
         },
         {
          "device": "cpu",
          "impl": "naive",
          "model": "BYSIZE_40",
          "name": "score.tmol_lj_cpu_cpp.naive",
          "natoms": 816,
          "nres": 43,
          "rosetta_relative": 0.4347638887087268,
          "time": 0.0018636267632246017
         },
         {
          "device": "cpu",
          "impl": "naive",
          "model": "BYSIZE_40",
          "name": "score.tmol_lj_cpu_cpp.naive",
          "natoms": 816,
          "nres": 43,
          "rosetta_relative": 0.437575763974296,
          "time": 0.0018756799399852753
         },
         {
          "device": "cpu",
          "impl": "naive",
          "model": "BYSIZE_40",
          "name": "score.tmol_lj_cpu_cpp.naive",
          "natoms": 816,
          "nres": 43,
          "rosetta_relative": 0.4378382230471447,
          "time": 0.0018768049776554108
         },
         {
          "device": "cpu",
          "impl": "naive",
          "model": "BYSIZE_40",
          "name": "score.tmol_lj_cpu_cpp.naive",
          "natoms": 816,
          "nres": 43,
          "rosetta_relative": 0.45777978953125625,
          "time": 0.0019622850231826305
         },
         {
          "device": "cpu",
          "impl": "naive",
          "model": "BYSIZE_40",
          "name": "score.tmol_lj_cpu_cpp.naive",
          "natoms": 816,
          "nres": 43,
          "rosetta_relative": 0.4341930184985365,
          "time": 0.0018611797131597996
         },
         {
          "device": "cpu",
          "impl": "naive",
          "model": "BYSIZE_40",
          "name": "score.tmol_lj_cpu_cpp.naive",
          "natoms": 816,
          "nres": 43,
          "rosetta_relative": 0.43530499327903277,
          "time": 0.0018659462220966816
         },
         {
          "device": "cpu",
          "impl": "naive",
          "model": "BYSIZE_40",
          "name": "score.tmol_lj_cpu_cpp.naive",
          "natoms": 816,
          "nres": 43,
          "rosetta_relative": 0.43393762061763114,
          "time": 0.001860084943473339
         },
         {
          "device": "cpu",
          "impl": "naive",
          "model": "BYSIZE_40",
          "name": "score.tmol_lj_cpu_cpp.naive",
          "natoms": 816,
          "nres": 43,
          "rosetta_relative": 0.432481711472632,
          "time": 0.0018538441509008408
         },
         {
          "device": "cpu",
          "impl": "naive",
          "model": "BYSIZE_40",
          "name": "score.tmol_lj_cpu_cpp.naive",
          "natoms": 816,
          "nres": 43,
          "rosetta_relative": 0.437053670305376,
          "time": 0.0018734419718384743
         },
         {
          "device": "cpu",
          "impl": "naive",
          "model": "BYSIZE_40",
          "name": "score.tmol_lj_cpu_cpp.naive",
          "natoms": 816,
          "nres": 43,
          "rosetta_relative": 0.4359310494201035,
          "time": 0.001868629828095436
         },
         {
          "device": "cpu",
          "impl": "naive",
          "model": "BYSIZE_40",
          "name": "score.tmol_lj_cpu_cpp.naive",
          "natoms": 816,
          "nres": 43,
          "rosetta_relative": 0.43993659202526764,
          "time": 0.001885799691081047
         },
         {
          "device": "cpu",
          "impl": "naive",
          "model": "BYSIZE_40",
          "name": "score.tmol_lj_cpu_cpp.naive",
          "natoms": 816,
          "nres": 43,
          "rosetta_relative": 0.43756685600907513,
          "time": 0.001875641755759716
         },
         {
          "device": "cpu",
          "impl": "naive",
          "model": "BYSIZE_40",
          "name": "score.tmol_lj_cpu_cpp.naive",
          "natoms": 816,
          "nres": 43,
          "rosetta_relative": 0.43954496745671656,
          "time": 0.0018841209821403027
         },
         {
          "device": "cpu",
          "impl": "naive",
          "model": "BYSIZE_40",
          "name": "score.tmol_lj_cpu_cpp.naive",
          "natoms": 816,
          "nres": 43,
          "rosetta_relative": 0.45304759595825905,
          "time": 0.0019420003518462181
         },
         {
          "device": "cpu",
          "impl": "naive",
          "model": "BYSIZE_40",
          "name": "score.tmol_lj_cpu_cpp.naive",
          "natoms": 816,
          "nres": 43,
          "rosetta_relative": 0.45958202298264683,
          "time": 0.001970010343939066
         },
         {
          "device": "cpu",
          "impl": "naive",
          "model": "BYSIZE_40",
          "name": "score.tmol_lj_cpu_cpp.naive",
          "natoms": 816,
          "nres": 43,
          "rosetta_relative": 0.4384436387809964,
          "time": 0.0018794001080095768
         },
         {
          "device": "cpu",
          "impl": "naive",
          "model": "BYSIZE_40",
          "name": "score.tmol_lj_cpu_cpp.naive",
          "natoms": 816,
          "nres": 43,
          "rosetta_relative": 0.4474880479569441,
          "time": 0.00191816920414567
         },
         {
          "device": "cpu",
          "impl": "naive",
          "model": "BYSIZE_40",
          "name": "score.tmol_lj_cpu_cpp.naive",
          "natoms": 816,
          "nres": 43,
          "rosetta_relative": 0.44131374172166776,
          "time": 0.0018917028792202473
         },
         {
          "device": "cpu",
          "impl": "naive",
          "model": "BYSIZE_40",
          "name": "score.tmol_lj_cpu_cpp.naive",
          "natoms": 816,
          "nres": 43,
          "rosetta_relative": 0.43589020314055427,
          "time": 0.0018684547394514084
         },
         {
          "device": "cpu",
          "impl": "naive",
          "model": "BYSIZE_40",
          "name": "score.tmol_lj_cpu_cpp.naive",
          "natoms": 816,
          "nres": 43,
          "rosetta_relative": 0.43418237239376034,
          "time": 0.0018611340783536434
         },
         {
          "device": "cpu",
          "impl": "naive",
          "model": "BYSIZE_40",
          "name": "score.tmol_lj_cpu_cpp.naive",
          "natoms": 816,
          "nres": 43,
          "rosetta_relative": 0.43595809921693274,
          "time": 0.0018687457777559757
         },
         {
          "device": "cpu",
          "impl": "naive",
          "model": "BYSIZE_40",
          "name": "score.tmol_lj_cpu_cpp.naive",
          "natoms": 816,
          "nres": 43,
          "rosetta_relative": 0.44007129784080257,
          "time": 0.0018863771110773087
         },
         {
          "device": "cpu",
          "impl": "naive",
          "model": "BYSIZE_40",
          "name": "score.tmol_lj_cpu_cpp.naive",
          "natoms": 816,
          "nres": 43,
          "rosetta_relative": 0.44073689665675614,
          "time": 0.0018892302177846432
         },
         {
          "device": "cpu",
          "impl": "naive",
          "model": "BYSIZE_40",
          "name": "score.tmol_lj_cpu_cpp.naive",
          "natoms": 816,
          "nres": 43,
          "rosetta_relative": 0.43653527018301097,
          "time": 0.0018712198361754417
         },
         {
          "device": "cpu",
          "impl": "naive",
          "model": "BYSIZE_40",
          "name": "score.tmol_lj_cpu_cpp.naive",
          "natoms": 816,
          "nres": 43,
          "rosetta_relative": 0.46406674893645977,
          "time": 0.0019892342388629913
         },
         {
          "device": "cpu",
          "impl": "naive",
          "model": "BYSIZE_40",
          "name": "score.tmol_lj_cpu_cpp.naive",
          "natoms": 816,
          "nres": 43,
          "rosetta_relative": 0.4433813673564066,
          "time": 0.0019005658105015755
         },
         {
          "device": "cpu",
          "impl": "naive",
          "model": "BYSIZE_40",
          "name": "score.tmol_lj_cpu_cpp.naive",
          "natoms": 816,
          "nres": 43,
          "rosetta_relative": 0.43364528727117596,
          "time": 0.001858831848949194
         },
         {
          "device": "cpu",
          "impl": "naive",
          "model": "BYSIZE_40",
          "name": "score.tmol_lj_cpu_cpp.naive",
          "natoms": 816,
          "nres": 43,
          "rosetta_relative": 0.4331074417125361,
          "time": 0.0018565263599157333
         },
         {
          "device": "cpu",
          "impl": "naive",
          "model": "BYSIZE_40",
          "name": "score.tmol_lj_cpu_cpp.naive",
          "natoms": 816,
          "nres": 43,
          "rosetta_relative": 0.4345076217580438,
          "time": 0.0018625282682478428
         },
         {
          "device": "cpu",
          "impl": "naive",
          "model": "BYSIZE_40",
          "name": "score.tmol_lj_cpu_cpp.naive",
          "natoms": 816,
          "nres": 43,
          "rosetta_relative": 0.43871022593528886,
          "time": 0.00188054284080863
         },
         {
          "device": "cpu",
          "impl": "naive",
          "model": "BYSIZE_40",
          "name": "score.tmol_lj_cpu_cpp.naive",
          "natoms": 816,
          "nres": 43,
          "rosetta_relative": 0.43502754275251976,
          "time": 0.0018647569231688976
         },
         {
          "device": "cpu",
          "impl": "naive",
          "model": "BYSIZE_40",
          "name": "score.tmol_lj_cpu_cpp.naive",
          "natoms": 816,
          "nres": 43,
          "rosetta_relative": 0.4391530169869988,
          "time": 0.0018824408762156963
         },
         {
          "device": "cpu",
          "impl": "naive",
          "model": "BYSIZE_40",
          "name": "score.tmol_lj_cpu_cpp.naive",
          "natoms": 816,
          "nres": 43,
          "rosetta_relative": 0.4336915652368355,
          "time": 0.001859030220657587
         },
         {
          "device": "cpu",
          "impl": "naive",
          "model": "BYSIZE_40",
          "name": "score.tmol_lj_cpu_cpp.naive",
          "natoms": 816,
          "nres": 43,
          "rosetta_relative": 0.4406577026732683,
          "time": 0.0018888907507061958
         },
         {
          "device": "cpu",
          "impl": "naive",
          "model": "BYSIZE_40",
          "name": "score.tmol_lj_cpu_cpp.naive",
          "natoms": 816,
          "nres": 43,
          "rosetta_relative": 0.44134198648944123,
          "time": 0.0018918239511549473
         },
         {
          "device": "cpu",
          "impl": "naive",
          "model": "BYSIZE_40",
          "name": "score.tmol_lj_cpu_cpp.naive",
          "natoms": 816,
          "nres": 43,
          "rosetta_relative": 0.46898231623254005,
          "time": 0.0020103049464523792
         },
         {
          "device": "cpu",
          "impl": "naive",
          "model": "BYSIZE_40",
          "name": "score.tmol_lj_cpu_cpp.naive",
          "natoms": 816,
          "nres": 43,
          "rosetta_relative": 0.4375582739450209,
          "time": 0.0018756049685180187
         },
         {
          "device": "cpu",
          "impl": "naive",
          "model": "BYSIZE_40",
          "name": "score.tmol_lj_cpu_cpp.naive",
          "natoms": 816,
          "nres": 43,
          "rosetta_relative": 0.4384072464840575,
          "time": 0.0018792441114783287
         },
         {
          "device": "cpu",
          "impl": "naive",
          "model": "BYSIZE_40",
          "name": "score.tmol_lj_cpu_cpp.naive",
          "natoms": 816,
          "nres": 43,
          "rosetta_relative": 0.43530445011042174,
          "time": 0.001865943893790245
         },
         {
          "device": "cpu",
          "impl": "naive",
          "model": "BYSIZE_40",
          "name": "score.tmol_lj_cpu_cpp.naive",
          "natoms": 816,
          "nres": 43,
          "rosetta_relative": 0.4376229110097332,
          "time": 0.0018758820369839668
         },
         {
          "device": "cpu",
          "impl": "naive",
          "model": "BYSIZE_40",
          "name": "score.tmol_lj_cpu_cpp.naive",
          "natoms": 816,
          "nres": 43,
          "rosetta_relative": 0.43773980089482645,
          "time": 0.00187638308852911
         },
         {
          "device": "cpu",
          "impl": "naive",
          "model": "BYSIZE_40",
          "name": "score.tmol_lj_cpu_cpp.naive",
          "natoms": 816,
          "nres": 43,
          "rosetta_relative": 0.43773882319132656,
          "time": 0.0018763788975775242
         },
         {
          "device": "cpu",
          "impl": "naive",
          "model": "BYSIZE_40",
          "name": "score.tmol_lj_cpu_cpp.naive",
          "natoms": 816,
          "nres": 43,
          "rosetta_relative": 0.4339488098910183,
          "time": 0.0018601329065859318
         },
         {
          "device": "cpu",
          "impl": "naive",
          "model": "BYSIZE_40",
          "name": "score.tmol_lj_cpu_cpp.naive",
          "natoms": 816,
          "nres": 43,
          "rosetta_relative": 0.43615287948084736,
          "time": 0.0018695807084441185
         },
         {
          "device": "cpu",
          "impl": "naive",
          "model": "BYSIZE_40",
          "name": "score.tmol_lj_cpu_cpp.naive",
          "natoms": 816,
          "nres": 43,
          "rosetta_relative": 0.4332806038657318,
          "time": 0.0018572686240077019
         },
         {
          "device": "cpu",
          "impl": "naive",
          "model": "BYSIZE_40",
          "name": "score.tmol_lj_cpu_cpp.naive",
          "natoms": 816,
          "nres": 43,
          "rosetta_relative": 0.4332504036909587,
          "time": 0.0018571391701698303
         },
         {
          "device": "cpu",
          "impl": "naive",
          "model": "BYSIZE_40",
          "name": "score.tmol_lj_cpu_cpp.naive",
          "natoms": 816,
          "nres": 43,
          "rosetta_relative": 0.4355282355781652,
          "time": 0.001866903156042099
         },
         {
          "device": "cpu",
          "impl": "naive",
          "model": "BYSIZE_40",
          "name": "score.tmol_lj_cpu_cpp.naive",
          "natoms": 816,
          "nres": 43,
          "rosetta_relative": 0.4344830705368254,
          "time": 0.0018624230287969112
         },
         {
          "device": "cpu",
          "impl": "naive",
          "model": "BYSIZE_40",
          "name": "score.tmol_lj_cpu_cpp.naive",
          "natoms": 816,
          "nres": 43,
          "rosetta_relative": 0.4399177983913261,
          "time": 0.0018857191316783428
         },
         {
          "device": "cpu",
          "impl": "naive",
          "model": "BYSIZE_40",
          "name": "score.tmol_lj_cpu_cpp.naive",
          "natoms": 816,
          "nres": 43,
          "rosetta_relative": 0.4332977679938403,
          "time": 0.0018573421984910965
         },
         {
          "device": "cpu",
          "impl": "naive",
          "model": "BYSIZE_40",
          "name": "score.tmol_lj_cpu_cpp.naive",
          "natoms": 816,
          "nres": 43,
          "rosetta_relative": 0.43896714468830506,
          "time": 0.0018816441297531128
         },
         {
          "device": "cpu",
          "impl": "naive",
          "model": "BYSIZE_40",
          "name": "score.tmol_lj_cpu_cpp.naive",
          "natoms": 816,
          "nres": 43,
          "rosetta_relative": 0.4351227058931718,
          "time": 0.0018651648424565792
         },
         {
          "device": "cpu",
          "impl": "naive",
          "model": "BYSIZE_40",
          "name": "score.tmol_lj_cpu_cpp.naive",
          "natoms": 816,
          "nres": 43,
          "rosetta_relative": 0.43758086975923965,
          "time": 0.0018757018260657787
         },
         {
          "device": "cpu",
          "impl": "naive",
          "model": "BYSIZE_40",
          "name": "score.tmol_lj_cpu_cpp.naive",
          "natoms": 816,
          "nres": 43,
          "rosetta_relative": 0.43451620382209805,
          "time": 0.00186256505548954
         },
         {
          "device": "cpu",
          "impl": "naive",
          "model": "BYSIZE_40",
          "name": "score.tmol_lj_cpu_cpp.naive",
          "natoms": 816,
          "nres": 43,
          "rosetta_relative": 0.4379294753737974,
          "time": 0.0018771961331367493
         },
         {
          "device": "cpu",
          "impl": "rosetta",
          "model": "BYSIZE_75",
          "name": "score.rosetta_atr_rep",
          "natoms": 1368,
          "nres": 73,
          "rosetta_relative": 1.2798856254704258,
          "time": 0.006473212968558073
         },
         {
          "device": "cpu",
          "impl": "rosetta",
          "model": "BYSIZE_75",
          "name": "score.rosetta_atr_rep",
          "natoms": 1368,
          "nres": 73,
          "rosetta_relative": 0.9874344016966509,
          "time": 0.004994097165763378
         },
         {
          "device": "cpu",
          "impl": "rosetta",
          "model": "BYSIZE_75",
          "name": "score.rosetta_atr_rep",
          "natoms": 1368,
          "nres": 73,
          "rosetta_relative": 0.9881046763237096,
          "time": 0.0049974871799349785
         },
         {
          "device": "cpu",
          "impl": "rosetta",
          "model": "BYSIZE_75",
          "name": "score.rosetta_atr_rep",
          "natoms": 1368,
          "nres": 73,
          "rosetta_relative": 0.9823654498295188,
          "time": 0.0049684601835906506
         },
         {
          "device": "cpu",
          "impl": "rosetta",
          "model": "BYSIZE_75",
          "name": "score.rosetta_atr_rep",
          "natoms": 1368,
          "nres": 73,
          "rosetta_relative": 1.0179837330265937,
          "time": 0.005148604977875948
         },
         {
          "device": "cpu",
          "impl": "rosetta",
          "model": "BYSIZE_75",
          "name": "score.rosetta_atr_rep",
          "natoms": 1368,
          "nres": 73,
          "rosetta_relative": 0.9842084288418589,
          "time": 0.00497778132557869
         },
         {
          "device": "cpu",
          "impl": "rosetta",
          "model": "BYSIZE_75",
          "name": "score.rosetta_atr_rep",
          "natoms": 1368,
          "nres": 73,
          "rosetta_relative": 0.9827371392071886,
          "time": 0.004970340058207512
         },
         {
          "device": "cpu",
          "impl": "rosetta",
          "model": "BYSIZE_75",
          "name": "score.rosetta_atr_rep",
          "natoms": 1368,
          "nres": 73,
          "rosetta_relative": 1.002957059766565,
          "time": 0.0050726053304970264
         },
         {
          "device": "cpu",
          "impl": "rosetta",
          "model": "BYSIZE_75",
          "name": "score.rosetta_atr_rep",
          "natoms": 1368,
          "nres": 73,
          "rosetta_relative": 1.0170091647673332,
          "time": 0.0051436759531497955
         },
         {
          "device": "cpu",
          "impl": "rosetta",
          "model": "BYSIZE_75",
          "name": "score.rosetta_atr_rep",
          "natoms": 1368,
          "nres": 73,
          "rosetta_relative": 0.984668414011747,
          "time": 0.004980107769370079
         },
         {
          "device": "cpu",
          "impl": "rosetta",
          "model": "BYSIZE_75",
          "name": "score.rosetta_atr_rep",
          "natoms": 1368,
          "nres": 73,
          "rosetta_relative": 0.9823963855815369,
          "time": 0.004968616645783186
         },
         {
          "device": "cpu",
          "impl": "rosetta",
          "model": "BYSIZE_75",
          "name": "score.rosetta_atr_rep",
          "natoms": 1368,
          "nres": 73,
          "rosetta_relative": 0.9815971199170456,
          "time": 0.0049645742401480675
         },
         {
          "device": "cpu",
          "impl": "rosetta",
          "model": "BYSIZE_75",
          "name": "score.rosetta_atr_rep",
          "natoms": 1368,
          "nres": 73,
          "rosetta_relative": 1.001157353978774,
          "time": 0.005063503049314022
         },
         {
          "device": "cpu",
          "impl": "rosetta",
          "model": "BYSIZE_75",
          "name": "score.rosetta_atr_rep",
          "natoms": 1368,
          "nres": 73,
          "rosetta_relative": 1.0102750223912744,
          "time": 0.00510961702093482
         },
         {
          "device": "cpu",
          "impl": "rosetta",
          "model": "BYSIZE_75",
          "name": "score.rosetta_atr_rep",
          "natoms": 1368,
          "nres": 73,
          "rosetta_relative": 0.9827242493105144,
          "time": 0.004970274865627289
         },
         {
          "device": "cpu",
          "impl": "rosetta",
          "model": "BYSIZE_75",
          "name": "score.rosetta_atr_rep",
          "natoms": 1368,
          "nres": 73,
          "rosetta_relative": 0.9818337415917078,
          "time": 0.004965770989656448
         },
         {
          "device": "cpu",
          "impl": "rosetta",
          "model": "BYSIZE_75",
          "name": "score.rosetta_atr_rep",
          "natoms": 1368,
          "nres": 73,
          "rosetta_relative": 0.9817413946891062,
          "time": 0.004965303931385279
         },
         {
          "device": "cpu",
          "impl": "rosetta",
          "model": "BYSIZE_75",
          "name": "score.rosetta_atr_rep",
          "natoms": 1368,
          "nres": 73,
          "rosetta_relative": 1.0024603383911552,
          "time": 0.005070093087852001
         },
         {
          "device": "cpu",
          "impl": "rosetta",
          "model": "BYSIZE_75",
          "name": "score.rosetta_atr_rep",
          "natoms": 1368,
          "nres": 73,
          "rosetta_relative": 0.9822748522700372,
          "time": 0.00496800197288394
         },
         {
          "device": "cpu",
          "impl": "rosetta",
          "model": "BYSIZE_75",
          "name": "score.rosetta_atr_rep",
          "natoms": 1368,
          "nres": 73,
          "rosetta_relative": 0.9830772483380067,
          "time": 0.004972060211002827
         },
         {
          "device": "cpu",
          "impl": "rosetta",
          "model": "BYSIZE_75",
          "name": "score.rosetta_atr_rep",
          "natoms": 1368,
          "nres": 73,
          "rosetta_relative": 1.0042249652458544,
          "time": 0.005079017952084541
         },
         {
          "device": "cpu",
          "impl": "rosetta",
          "model": "BYSIZE_75",
          "name": "score.rosetta_atr_rep",
          "natoms": 1368,
          "nres": 73,
          "rosetta_relative": 0.9845292951983561,
          "time": 0.004979404155164957
         },
         {
          "device": "cpu",
          "impl": "rosetta",
          "model": "BYSIZE_75",
          "name": "score.rosetta_atr_rep",
          "natoms": 1368,
          "nres": 73,
          "rosetta_relative": 0.9820172384779342,
          "time": 0.004966699052602053
         },
         {
          "device": "cpu",
          "impl": "rosetta",
          "model": "BYSIZE_75",
          "name": "score.rosetta_atr_rep",
          "natoms": 1368,
          "nres": 73,
          "rosetta_relative": 0.9822978699426698,
          "time": 0.004968118388205767
         },
         {
          "device": "cpu",
          "impl": "rosetta",
          "model": "BYSIZE_75",
          "name": "score.rosetta_atr_rep",
          "natoms": 1368,
          "nres": 73,
          "rosetta_relative": 0.982171456884572,
          "time": 0.004967479035258293
         },
         {
          "device": "cpu",
          "impl": "rosetta",
          "model": "BYSIZE_75",
          "name": "score.rosetta_atr_rep",
          "natoms": 1368,
          "nres": 73,
          "rosetta_relative": 0.9824140631541187,
          "time": 0.004968706052750349
         },
         {
          "device": "cpu",
          "impl": "rosetta",
          "model": "BYSIZE_75",
          "name": "score.rosetta_atr_rep",
          "natoms": 1368,
          "nres": 73,
          "rosetta_relative": 0.9829673159335137,
          "time": 0.004971504211425781
         },
         {
          "device": "cpu",
          "impl": "rosetta",
          "model": "BYSIZE_75",
          "name": "score.rosetta_atr_rep",
          "natoms": 1368,
          "nres": 73,
          "rosetta_relative": 0.9818974545095546,
          "time": 0.004966093227267265
         },
         {
          "device": "cpu",
          "impl": "rosetta",
          "model": "BYSIZE_75",
          "name": "score.rosetta_atr_rep",
          "natoms": 1368,
          "nres": 73,
          "rosetta_relative": 1.0005885412526794,
          "time": 0.005060626193881035
         },
         {
          "device": "cpu",
          "impl": "blocked",
          "model": "BYSIZE_75",
          "name": "score.tmol_lj_cpu_cpp.blocked",
          "natoms": 1368,
          "nres": 73,
          "rosetta_relative": 0.5258423220466901,
          "time": 0.002659526187926531
         },
         {
          "device": "cpu",
          "impl": "blocked",
          "model": "BYSIZE_75",
          "name": "score.tmol_lj_cpu_cpp.blocked",
          "natoms": 1368,
          "nres": 73,
          "rosetta_relative": 0.5227501279052383,
          "time": 0.0026438869535923004
         },
         {
          "device": "cpu",
          "impl": "blocked",
          "model": "BYSIZE_75",
          "name": "score.tmol_lj_cpu_cpp.blocked",
          "natoms": 1368,
          "nres": 73,
          "rosetta_relative": 0.5221199960992506,
          "time": 0.0026406999677419662
         },
         {
          "device": "cpu",
          "impl": "blocked",
          "model": "BYSIZE_75",
          "name": "score.tmol_lj_cpu_cpp.blocked",
          "natoms": 1368,
          "nres": 73,
          "rosetta_relative": 0.5188346376490668,
          "time": 0.002624083776026964
         },
         {
          "device": "cpu",
          "impl": "blocked",
          "model": "BYSIZE_75",
          "name": "score.tmol_lj_cpu_cpp.blocked",
          "natoms": 1368,
          "nres": 73,
          "rosetta_relative": 0.5206441950007444,
          "time": 0.0026332358829677105
         },
         {
          "device": "cpu",
          "impl": "blocked",
          "model": "BYSIZE_75",
          "name": "score.tmol_lj_cpu_cpp.blocked",
          "natoms": 1368,
          "nres": 73,
          "rosetta_relative": 0.5215448304955094,
          "time": 0.002637790981680155
         },
         {
          "device": "cpu",
          "impl": "blocked",
          "model": "BYSIZE_75",
          "name": "score.tmol_lj_cpu_cpp.blocked",
          "natoms": 1368,
          "nres": 73,
          "rosetta_relative": 0.5197512013732934,
          "time": 0.0026287194341421127
         },
         {
          "device": "cpu",
          "impl": "blocked",
          "model": "BYSIZE_75",
          "name": "score.tmol_lj_cpu_cpp.blocked",
          "natoms": 1368,
          "nres": 73,
          "rosetta_relative": 0.5211204766828563,
          "time": 0.0026356447488069534
         },
         {
          "device": "cpu",
          "impl": "blocked",
          "model": "BYSIZE_75",
          "name": "score.tmol_lj_cpu_cpp.blocked",
          "natoms": 1368,
          "nres": 73,
          "rosetta_relative": 0.5188311389628266,
          "time": 0.0026240660808980465
         },
         {
          "device": "cpu",
          "impl": "blocked",
          "model": "BYSIZE_75",
          "name": "score.tmol_lj_cpu_cpp.blocked",
          "natoms": 1368,
          "nres": 73,
          "rosetta_relative": 0.5184681042300666,
          "time": 0.002622229978442192
         },
         {
          "device": "cpu",
          "impl": "blocked",
          "model": "BYSIZE_75",
          "name": "score.tmol_lj_cpu_cpp.blocked",
          "natoms": 1368,
          "nres": 73,
          "rosetta_relative": 0.5202679941592386,
          "time": 0.002631333190947771
         },
         {
          "device": "cpu",
          "impl": "blocked",
          "model": "BYSIZE_75",
          "name": "score.tmol_lj_cpu_cpp.blocked",
          "natoms": 1368,
          "nres": 73,
          "rosetta_relative": 0.5228707405098326,
          "time": 0.0026444969698786736
         },
         {
          "device": "cpu",
          "impl": "blocked",
          "model": "BYSIZE_75",
          "name": "score.tmol_lj_cpu_cpp.blocked",
          "natoms": 1368,
          "nres": 73,
          "rosetta_relative": 0.5161154218749522,
          "time": 0.0026103309355676174
         },
         {
          "device": "cpu",
          "impl": "blocked",
          "model": "BYSIZE_75",
          "name": "score.tmol_lj_cpu_cpp.blocked",
          "natoms": 1368,
          "nres": 73,
          "rosetta_relative": 0.5215017414123413,
          "time": 0.0026375730521976948
         },
         {
          "device": "cpu",
          "impl": "blocked",
          "model": "BYSIZE_75",
          "name": "score.tmol_lj_cpu_cpp.blocked",
          "natoms": 1368,
          "nres": 73,
          "rosetta_relative": 0.5199533886096974,
          "time": 0.0026297420263290405
         },
         {
          "device": "cpu",
          "impl": "blocked",
          "model": "BYSIZE_75",
          "name": "score.tmol_lj_cpu_cpp.blocked",
          "natoms": 1368,
          "nres": 73,
          "rosetta_relative": 0.5170006815643987,
          "time": 0.0026148082688450813
         },
         {
          "device": "cpu",
          "impl": "blocked",
          "model": "BYSIZE_75",
          "name": "score.tmol_lj_cpu_cpp.blocked",
          "natoms": 1368,
          "nres": 73,
          "rosetta_relative": 0.5488252840288732,
          "time": 0.0027757659554481506
         },
         {
          "device": "cpu",
          "impl": "blocked",
          "model": "BYSIZE_75",
          "name": "score.tmol_lj_cpu_cpp.blocked",
          "natoms": 1368,
          "nres": 73,
          "rosetta_relative": 0.5171163223517045,
          "time": 0.00261539313942194
         },
         {
          "device": "cpu",
          "impl": "blocked",
          "model": "BYSIZE_75",
          "name": "score.tmol_lj_cpu_cpp.blocked",
          "natoms": 1368,
          "nres": 73,
          "rosetta_relative": 0.5172733028790581,
          "time": 0.0026161870919167995
         },
         {
          "device": "cpu",
          "impl": "blocked",
          "model": "BYSIZE_75",
          "name": "score.tmol_lj_cpu_cpp.blocked",
          "natoms": 1368,
          "nres": 73,
          "rosetta_relative": 0.5210319046785664,
          "time": 0.0026351967826485634
         },
         {
          "device": "cpu",
          "impl": "blocked",
          "model": "BYSIZE_75",
          "name": "score.tmol_lj_cpu_cpp.blocked",
          "natoms": 1368,
          "nres": 73,
          "rosetta_relative": 0.5213745917887194,
          "time": 0.002636929973959923
         },
         {
          "device": "cpu",
          "impl": "blocked",
          "model": "BYSIZE_75",
          "name": "score.tmol_lj_cpu_cpp.blocked",
          "natoms": 1368,
          "nres": 73,
          "rosetta_relative": 0.5196453200791838,
          "time": 0.002628183923661709
         },
         {
          "device": "cpu",
          "impl": "blocked",
          "model": "BYSIZE_75",
          "name": "score.tmol_lj_cpu_cpp.blocked",
          "natoms": 1368,
          "nres": 73,
          "rosetta_relative": 0.5217846746443402,
          "time": 0.0026390040293335915
         },
         {
          "device": "cpu",
          "impl": "blocked",
          "model": "BYSIZE_75",
          "name": "score.tmol_lj_cpu_cpp.blocked",
          "natoms": 1368,
          "nres": 73,
          "rosetta_relative": 0.5350540867049123,
          "time": 0.0027061160653829575
         },
         {
          "device": "cpu",
          "impl": "blocked",
          "model": "BYSIZE_75",
          "name": "score.tmol_lj_cpu_cpp.blocked",
          "natoms": 1368,
          "nres": 73,
          "rosetta_relative": 0.5321564379325505,
          "time": 0.0026914607733488083
         },
         {
          "device": "cpu",
          "impl": "blocked",
          "model": "BYSIZE_75",
          "name": "score.tmol_lj_cpu_cpp.blocked",
          "natoms": 1368,
          "nres": 73,
          "rosetta_relative": 0.5220177976327622,
          "time": 0.0026401830837130547
         },
         {
          "device": "cpu",
          "impl": "blocked",
          "model": "BYSIZE_75",
          "name": "score.tmol_lj_cpu_cpp.blocked",
          "natoms": 1368,
          "nres": 73,
          "rosetta_relative": 0.5202404650227701,
          "time": 0.002631193958222866
         },
         {
          "device": "cpu",
          "impl": "blocked",
          "model": "BYSIZE_75",
          "name": "score.tmol_lj_cpu_cpp.blocked",
          "natoms": 1368,
          "nres": 73,
          "rosetta_relative": 0.5294918200779203,
          "time": 0.002677984070032835
         },
         {
          "device": "cpu",
          "impl": "blocked",
          "model": "BYSIZE_75",
          "name": "score.tmol_lj_cpu_cpp.blocked",
          "natoms": 1368,
          "nres": 73,
          "rosetta_relative": 0.5215455670610336,
          "time": 0.0026377947069704533
         },
         {
          "device": "cpu",
          "impl": "blocked",
          "model": "BYSIZE_75",
          "name": "score.tmol_lj_cpu_cpp.blocked",
          "natoms": 1368,
          "nres": 73,
          "rosetta_relative": 0.5221245996337771,
          "time": 0.0026407232508063316
         },
         {
          "device": "cpu",
          "impl": "blocked",
          "model": "BYSIZE_75",
          "name": "score.tmol_lj_cpu_cpp.blocked",
          "natoms": 1368,
          "nres": 73,
          "rosetta_relative": 0.5191552277934924,
          "time": 0.0026257052086293697
         },
         {
          "device": "cpu",
          "impl": "blocked",
          "model": "BYSIZE_75",
          "name": "score.tmol_lj_cpu_cpp.blocked",
          "natoms": 1368,
          "nres": 73,
          "rosetta_relative": 0.5477578164428678,
          "time": 0.0027703670784831047
         },
         {
          "device": "cpu",
          "impl": "blocked",
          "model": "BYSIZE_75",
          "name": "score.tmol_lj_cpu_cpp.blocked",
          "natoms": 1368,
          "nres": 73,
          "rosetta_relative": 0.5162956042163195,
          "time": 0.0026112422347068787
         },
         {
          "device": "cpu",
          "impl": "blocked",
          "model": "BYSIZE_75",
          "name": "score.tmol_lj_cpu_cpp.blocked",
          "natoms": 1368,
          "nres": 73,
          "rosetta_relative": 0.5174821192051803,
          "time": 0.0026172432117164135
         },
         {
          "device": "cpu",
          "impl": "blocked",
          "model": "BYSIZE_75",
          "name": "score.tmol_lj_cpu_cpp.blocked",
          "natoms": 1368,
          "nres": 73,
          "rosetta_relative": 0.5226793255442207,
          "time": 0.0026435288600623608
         },
         {
          "device": "cpu",
          "impl": "blocked",
          "model": "BYSIZE_75",
          "name": "score.tmol_lj_cpu_cpp.blocked",
          "natoms": 1368,
          "nres": 73,
          "rosetta_relative": 0.5201106453491228,
          "time": 0.002630537375807762
         },
         {
          "device": "cpu",
          "impl": "blocked",
          "model": "BYSIZE_75",
          "name": "score.tmol_lj_cpu_cpp.blocked",
          "natoms": 1368,
          "nres": 73,
          "rosetta_relative": 0.5194929430863566,
          "time": 0.0026274132542312145
         },
         {
          "device": "cpu",
          "impl": "blocked",
          "model": "BYSIZE_75",
          "name": "score.tmol_lj_cpu_cpp.blocked",
          "natoms": 1368,
          "nres": 73,
          "rosetta_relative": 0.5227678975485106,
          "time": 0.002643976826220751
         },
         {
          "device": "cpu",
          "impl": "blocked",
          "model": "BYSIZE_75",
          "name": "score.tmol_lj_cpu_cpp.blocked",
          "natoms": 1368,
          "nres": 73,
          "rosetta_relative": 0.5356240963499839,
          "time": 0.0027089989744126797
         },
         {
          "device": "cpu",
          "impl": "blocked",
          "model": "BYSIZE_75",
          "name": "score.tmol_lj_cpu_cpp.blocked",
          "natoms": 1368,
          "nres": 73,
          "rosetta_relative": 0.5248398563681989,
          "time": 0.002654456067830324
         },
         {
          "device": "cpu",
          "impl": "blocked",
          "model": "BYSIZE_75",
          "name": "score.tmol_lj_cpu_cpp.blocked",
          "natoms": 1368,
          "nres": 73,
          "rosetta_relative": 0.5221396071563336,
          "time": 0.002640799153596163
         },
         {
          "device": "cpu",
          "impl": "blocked",
          "model": "BYSIZE_75",
          "name": "score.tmol_lj_cpu_cpp.blocked",
          "natoms": 1368,
          "nres": 73,
          "rosetta_relative": 0.519916652404176,
          "time": 0.0026295562274754047
         },
         {
          "device": "cpu",
          "impl": "blocked",
          "model": "BYSIZE_75",
          "name": "score.tmol_lj_cpu_cpp.blocked",
          "natoms": 1368,
          "nres": 73,
          "rosetta_relative": 0.5144273057640837,
          "time": 0.00260179303586483
         },
         {
          "device": "cpu",
          "impl": "blocked",
          "model": "BYSIZE_75",
          "name": "score.tmol_lj_cpu_cpp.blocked",
          "natoms": 1368,
          "nres": 73,
          "rosetta_relative": 0.5179746053288256,
          "time": 0.0026197340339422226
         },
         {
          "device": "cpu",
          "impl": "blocked",
          "model": "BYSIZE_75",
          "name": "score.tmol_lj_cpu_cpp.blocked",
          "natoms": 1368,
          "nres": 73,
          "rosetta_relative": 0.5200464720778233,
          "time": 0.0026302128098905087
         },
         {
          "device": "cpu",
          "impl": "blocked",
          "model": "BYSIZE_75",
          "name": "score.tmol_lj_cpu_cpp.blocked",
          "natoms": 1368,
          "nres": 73,
          "rosetta_relative": 0.5181543273167403,
          "time": 0.0026206430047750473
         },
         {
          "device": "cpu",
          "impl": "blocked",
          "model": "BYSIZE_75",
          "name": "score.tmol_lj_cpu_cpp.blocked",
          "natoms": 1368,
          "nres": 73,
          "rosetta_relative": 0.5437468488806166,
          "time": 0.0027500810101628304
         },
         {
          "device": "cpu",
          "impl": "blocked",
          "model": "BYSIZE_75",
          "name": "score.tmol_lj_cpu_cpp.blocked",
          "natoms": 1368,
          "nres": 73,
          "rosetta_relative": 0.5213601366903061,
          "time": 0.0026368568651378155
         },
         {
          "device": "cpu",
          "impl": "blocked",
          "model": "BYSIZE_75",
          "name": "score.tmol_lj_cpu_cpp.blocked",
          "natoms": 1368,
          "nres": 73,
          "rosetta_relative": 0.5190413363493067,
          "time": 0.00262512918561697
         },
         {
          "device": "cpu",
          "impl": "blocked",
          "model": "BYSIZE_75",
          "name": "score.tmol_lj_cpu_cpp.blocked",
          "natoms": 1368,
          "nres": 73,
          "rosetta_relative": 0.5188453178491682,
          "time": 0.002624137792736292
         },
         {
          "device": "cpu",
          "impl": "blocked",
          "model": "BYSIZE_75",
          "name": "score.tmol_lj_cpu_cpp.blocked",
          "natoms": 1368,
          "nres": 73,
          "rosetta_relative": 0.5178415631810096,
          "time": 0.002619061153382063
         },
         {
          "device": "cpu",
          "impl": "blocked",
          "model": "BYSIZE_75",
          "name": "score.tmol_lj_cpu_cpp.blocked",
          "natoms": 1368,
          "nres": 73,
          "rosetta_relative": 0.5168754654252778,
          "time": 0.002614174969494343
         },
         {
          "device": "cpu",
          "impl": "blocked",
          "model": "BYSIZE_75",
          "name": "score.tmol_lj_cpu_cpp.blocked",
          "natoms": 1368,
          "nres": 73,
          "rosetta_relative": 0.520048497633015,
          "time": 0.0026302230544388294
         },
         {
          "device": "cpu",
          "impl": "blocked",
          "model": "BYSIZE_75",
          "name": "score.tmol_lj_cpu_cpp.blocked",
          "natoms": 1368,
          "nres": 73,
          "rosetta_relative": 0.5249520905399551,
          "time": 0.0026550237089395523
         },
         {
          "device": "cpu",
          "impl": "blocked",
          "model": "BYSIZE_75",
          "name": "score.tmol_lj_cpu_cpp.blocked",
          "natoms": 1368,
          "nres": 73,
          "rosetta_relative": 0.533251710867096,
          "time": 0.002697000280022621
         },
         {
          "device": "cpu",
          "impl": "blocked",
          "model": "BYSIZE_75",
          "name": "score.tmol_lj_cpu_cpp.blocked",
          "natoms": 1368,
          "nres": 73,
          "rosetta_relative": 0.5185633973947652,
          "time": 0.0026227119378745556
         },
         {
          "device": "cpu",
          "impl": "blocked",
          "model": "BYSIZE_75",
          "name": "score.tmol_lj_cpu_cpp.blocked",
          "natoms": 1368,
          "nres": 73,
          "rosetta_relative": 0.5192763928222299,
          "time": 0.0026263180188834667
         },
         {
          "device": "cpu",
          "impl": "blocked",
          "model": "BYSIZE_75",
          "name": "score.tmol_lj_cpu_cpp.blocked",
          "natoms": 1368,
          "nres": 73,
          "rosetta_relative": 0.5168987593099819,
          "time": 0.0026142927818000317
         },
         {
          "device": "cpu",
          "impl": "blocked",
          "model": "BYSIZE_75",
          "name": "score.tmol_lj_cpu_cpp.blocked",
          "natoms": 1368,
          "nres": 73,
          "rosetta_relative": 0.5350062099458367,
          "time": 0.0027058739215135574
         },
         {
          "device": "cpu",
          "impl": "blocked",
          "model": "BYSIZE_75",
          "name": "score.tmol_lj_cpu_cpp.blocked",
          "natoms": 1368,
          "nres": 73,
          "rosetta_relative": 0.5208473029440537,
          "time": 0.0026342631317675114
         },
         {
          "device": "cpu",
          "impl": "blocked",
          "model": "BYSIZE_75",
          "name": "score.tmol_lj_cpu_cpp.blocked",
          "natoms": 1368,
          "nres": 73,
          "rosetta_relative": 0.515707364574523,
          "time": 0.0026082671247422695
         },
         {
          "device": "cpu",
          "impl": "blocked",
          "model": "BYSIZE_75",
          "name": "score.tmol_lj_cpu_cpp.blocked",
          "natoms": 1368,
          "nres": 73,
          "rosetta_relative": 0.5205102321460232,
          "time": 0.0026325583457946777
         },
         {
          "device": "cpu",
          "impl": "blocked",
          "model": "BYSIZE_75",
          "name": "score.tmol_lj_cpu_cpp.blocked",
          "natoms": 1368,
          "nres": 73,
          "rosetta_relative": 0.5200519963192551,
          "time": 0.002630240749567747
         },
         {
          "device": "cpu",
          "impl": "blocked",
          "model": "BYSIZE_75",
          "name": "score.tmol_lj_cpu_cpp.blocked",
          "natoms": 1368,
          "nres": 73,
          "rosetta_relative": 0.52896545194016,
          "time": 0.0026753218844532967
         },
         {
          "device": "cpu",
          "impl": "blocked",
          "model": "BYSIZE_75",
          "name": "score.tmol_lj_cpu_cpp.blocked",
          "natoms": 1368,
          "nres": 73,
          "rosetta_relative": 0.5179859300237608,
          "time": 0.0026197913102805614
         },
         {
          "device": "cpu",
          "impl": "blocked",
          "model": "BYSIZE_75",
          "name": "score.tmol_lj_cpu_cpp.blocked",
          "natoms": 1368,
          "nres": 73,
          "rosetta_relative": 0.5172058150628996,
          "time": 0.002615845762193203
         },
         {
          "device": "cpu",
          "impl": "blocked",
          "model": "BYSIZE_75",
          "name": "score.tmol_lj_cpu_cpp.blocked",
          "natoms": 1368,
          "nres": 73,
          "rosetta_relative": 0.5188355583559721,
          "time": 0.0026240884326398373
         },
         {
          "device": "cpu",
          "impl": "blocked",
          "model": "BYSIZE_75",
          "name": "score.tmol_lj_cpu_cpp.blocked",
          "natoms": 1368,
          "nres": 73,
          "rosetta_relative": 0.5170053771696157,
          "time": 0.002614832017570734
         },
         {
          "device": "cpu",
          "impl": "blocked",
          "model": "BYSIZE_75",
          "name": "score.tmol_lj_cpu_cpp.blocked",
          "natoms": 1368,
          "nres": 73,
          "rosetta_relative": 0.5164711830231603,
          "time": 0.0026121302507817745
         },
         {
          "device": "cpu",
          "impl": "blocked",
          "model": "BYSIZE_75",
          "name": "score.tmol_lj_cpu_cpp.blocked",
          "natoms": 1368,
          "nres": 73,
          "rosetta_relative": 0.535679707047064,
          "time": 0.0027092802338302135
         },
         {
          "device": "cpu",
          "impl": "blocked",
          "model": "BYSIZE_75",
          "name": "score.tmol_lj_cpu_cpp.blocked",
          "natoms": 1368,
          "nres": 73,
          "rosetta_relative": 0.5299200408595756,
          "time": 0.0026801498606801033
         },
         {
          "device": "cpu",
          "impl": "blocked",
          "model": "BYSIZE_75",
          "name": "score.tmol_lj_cpu_cpp.blocked",
          "natoms": 1368,
          "nres": 73,
          "rosetta_relative": 0.5196940254744743,
          "time": 0.0026284302584826946
         },
         {
          "device": "cpu",
          "impl": "blocked",
          "model": "BYSIZE_75",
          "name": "score.tmol_lj_cpu_cpp.blocked",
          "natoms": 1368,
          "nres": 73,
          "rosetta_relative": 0.5184305393883304,
          "time": 0.0026220399886369705
         },
         {
          "device": "cpu",
          "impl": "blocked",
          "model": "BYSIZE_75",
          "name": "score.tmol_lj_cpu_cpp.blocked",
          "natoms": 1368,
          "nres": 73,
          "rosetta_relative": 0.5176367058945802,
          "time": 0.002618025057017803
         },
         {
          "device": "cpu",
          "impl": "blocked",
          "model": "BYSIZE_75",
          "name": "score.tmol_lj_cpu_cpp.blocked",
          "natoms": 1368,
          "nres": 73,
          "rosetta_relative": 0.5163175170406656,
          "time": 0.002611353062093258
         },
         {
          "device": "cpu",
          "impl": "blocked",
          "model": "BYSIZE_75",
          "name": "score.tmol_lj_cpu_cpp.blocked",
          "natoms": 1368,
          "nres": 73,
          "rosetta_relative": 0.5197572780388684,
          "time": 0.002628750167787075
         },
         {
          "device": "cpu",
          "impl": "blocked",
          "model": "BYSIZE_75",
          "name": "score.tmol_lj_cpu_cpp.blocked",
          "natoms": 1368,
          "nres": 73,
          "rosetta_relative": 0.5339922354310292,
          "time": 0.0027007455937564373
         },
         {
          "device": "cpu",
          "impl": "blocked",
          "model": "BYSIZE_75",
          "name": "score.tmol_lj_cpu_cpp.blocked",
          "natoms": 1368,
          "nres": 73,
          "rosetta_relative": 0.519017766252531,
          "time": 0.0026250099763274193
         },
         {
          "device": "cpu",
          "impl": "blocked",
          "model": "BYSIZE_75",
          "name": "score.tmol_lj_cpu_cpp.blocked",
          "natoms": 1368,
          "nres": 73,
          "rosetta_relative": 0.5180175102706126,
          "time": 0.002619951032102108
         },
         {
          "device": "cpu",
          "impl": "blocked",
          "model": "BYSIZE_75",
          "name": "score.tmol_lj_cpu_cpp.blocked",
          "natoms": 1368,
          "nres": 73,
          "rosetta_relative": 0.5199533886096974,
          "time": 0.0026297420263290405
         },
         {
          "device": "cpu",
          "impl": "blocked",
          "model": "BYSIZE_75",
          "name": "score.tmol_lj_cpu_cpp.blocked",
          "natoms": 1368,
          "nres": 73,
          "rosetta_relative": 0.5186124710728177,
          "time": 0.0026229601353406906
         },
         {
          "device": "cpu",
          "impl": "blocked",
          "model": "BYSIZE_75",
          "name": "score.tmol_lj_cpu_cpp.blocked",
          "natoms": 1368,
          "nres": 73,
          "rosetta_relative": 0.5194521557704518,
          "time": 0.002627206966280937
         },
         {
          "device": "cpu",
          "impl": "blocked",
          "model": "BYSIZE_75",
          "name": "score.tmol_lj_cpu_cpp.blocked",
          "natoms": 1368,
          "nres": 73,
          "rosetta_relative": 0.5182922492111542,
          "time": 0.0026213405653834343
         },
         {
          "device": "cpu",
          "impl": "blocked",
          "model": "BYSIZE_75",
          "name": "score.tmol_lj_cpu_cpp.blocked",
          "natoms": 1368,
          "nres": 73,
          "rosetta_relative": 0.5172608733358366,
          "time": 0.002616124227643013
         },
         {
          "device": "cpu",
          "impl": "blocked",
          "model": "BYSIZE_75",
          "name": "score.tmol_lj_cpu_cpp.blocked",
          "natoms": 1368,
          "nres": 73,
          "rosetta_relative": 0.5425005800136019,
          "time": 0.002743777818977833
         },
         {
          "device": "cpu",
          "impl": "blocked",
          "model": "BYSIZE_75",
          "name": "score.tmol_lj_cpu_cpp.blocked",
          "natoms": 1368,
          "nres": 73,
          "rosetta_relative": 0.5169822674262926,
          "time": 0.0026147151365876198
         },
         {
          "device": "cpu",
          "impl": "blocked",
          "model": "BYSIZE_75",
          "name": "score.tmol_lj_cpu_cpp.blocked",
          "natoms": 1368,
          "nres": 73,
          "rosetta_relative": 0.5184552143333925,
          "time": 0.002622164785861969
         },
         {
          "device": "cpu",
          "impl": "blocked",
          "model": "BYSIZE_75",
          "name": "score.tmol_lj_cpu_cpp.blocked",
          "natoms": 1368,
          "nres": 73,
          "rosetta_relative": 0.5199512709838152,
          "time": 0.0026297313161194324
         },
         {
          "device": "cpu",
          "impl": "blocked",
          "model": "BYSIZE_75",
          "name": "score.tmol_lj_cpu_cpp.blocked",
          "natoms": 1368,
          "nres": 73,
          "rosetta_relative": 0.526382684929411,
          "time": 0.00266225915402174
         },
         {
          "device": "cpu",
          "impl": "blocked",
          "model": "BYSIZE_75",
          "name": "score.tmol_lj_cpu_cpp.blocked",
          "natoms": 1368,
          "nres": 73,
          "rosetta_relative": 0.5214741202051824,
          "time": 0.0026374333538115025
         },
         {
          "device": "cpu",
          "impl": "naive",
          "model": "BYSIZE_75",
          "name": "score.tmol_lj_cpu_cpp.naive",
          "natoms": 1368,
          "nres": 73,
          "rosetta_relative": 0.7873904788975057,
          "time": 0.00398234510794282
         },
         {
          "device": "cpu",
          "impl": "naive",
          "model": "BYSIZE_75",
          "name": "score.tmol_lj_cpu_cpp.naive",
          "natoms": 1368,
          "nres": 73,
          "rosetta_relative": 0.7808352298731471,
          "time": 0.003949190955609083
         },
         {
          "device": "cpu",
          "impl": "naive",
          "model": "BYSIZE_75",
          "name": "score.tmol_lj_cpu_cpp.naive",
          "natoms": 1368,
          "nres": 73,
          "rosetta_relative": 0.7845476121860093,
          "time": 0.0039679668843746185
         },
         {
          "device": "cpu",
          "impl": "naive",
          "model": "BYSIZE_75",
          "name": "score.tmol_lj_cpu_cpp.naive",
          "natoms": 1368,
          "nres": 73,
          "rosetta_relative": 0.7850700212840769,
          "time": 0.003970609046518803
         },
         {
          "device": "cpu",
          "impl": "naive",
          "model": "BYSIZE_75",
          "name": "score.tmol_lj_cpu_cpp.naive",
          "natoms": 1368,
          "nres": 73,
          "rosetta_relative": 0.7996676451262356,
          "time": 0.00404443871229887
         },
         {
          "device": "cpu",
          "impl": "naive",
          "model": "BYSIZE_75",
          "name": "score.tmol_lj_cpu_cpp.naive",
          "natoms": 1368,
          "nres": 73,
          "rosetta_relative": 0.7830732842185516,
          "time": 0.00396051025018096
         },
         {
          "device": "cpu",
          "impl": "naive",
          "model": "BYSIZE_75",
          "name": "score.tmol_lj_cpu_cpp.naive",
          "natoms": 1368,
          "nres": 73,
          "rosetta_relative": 0.7787819614036364,
          "time": 0.003938806243240833
         },
         {
          "device": "cpu",
          "impl": "naive",
          "model": "BYSIZE_75",
          "name": "score.tmol_lj_cpu_cpp.naive",
          "natoms": 1368,
          "nres": 73,
          "rosetta_relative": 0.7767037417769921,
          "time": 0.003928295336663723
         },
         {
          "device": "cpu",
          "impl": "naive",
          "model": "BYSIZE_75",
          "name": "score.tmol_lj_cpu_cpp.naive",
          "natoms": 1368,
          "nres": 73,
          "rosetta_relative": 0.7787198136875286,
          "time": 0.0039384919218719006
         },
         {
          "device": "cpu",
          "impl": "naive",
          "model": "BYSIZE_75",
          "name": "score.tmol_lj_cpu_cpp.naive",
          "natoms": 1368,
          "nres": 73,
          "rosetta_relative": 0.7852328943356245,
          "time": 0.00397143280133605
         },
         {
          "device": "cpu",
          "impl": "naive",
          "model": "BYSIZE_75",
          "name": "score.tmol_lj_cpu_cpp.naive",
          "natoms": 1368,
          "nres": 73,
          "rosetta_relative": 0.7821632575133526,
          "time": 0.00395590765401721
         },
         {
          "device": "cpu",
          "impl": "naive",
          "model": "BYSIZE_75",
          "name": "score.tmol_lj_cpu_cpp.naive",
          "natoms": 1368,
          "nres": 73,
          "rosetta_relative": 0.7780619686036914,
          "time": 0.003935164771974087
         },
         {
          "device": "cpu",
          "impl": "naive",
          "model": "BYSIZE_75",
          "name": "score.tmol_lj_cpu_cpp.naive",
          "natoms": 1368,
          "nres": 73,
          "rosetta_relative": 0.7837268940506245,
          "time": 0.003963815979659557
         },
         {
          "device": "cpu",
          "impl": "naive",
          "model": "BYSIZE_75",
          "name": "score.tmol_lj_cpu_cpp.naive",
          "natoms": 1368,
          "nres": 73,
          "rosetta_relative": 0.7833208623053869,
          "time": 0.00396176241338253
         },
         {
          "device": "cpu",
          "impl": "naive",
          "model": "BYSIZE_75",
          "name": "score.tmol_lj_cpu_cpp.naive",
          "natoms": 1368,
          "nres": 73,
          "rosetta_relative": 0.7996747345694063,
          "time": 0.004044474568217993
         },
         {
          "device": "cpu",
          "impl": "naive",
          "model": "BYSIZE_75",
          "name": "score.tmol_lj_cpu_cpp.naive",
          "natoms": 1368,
          "nres": 73,
          "rosetta_relative": 0.7845531364274412,
          "time": 0.003967994824051857
         },
         {
          "device": "cpu",
          "impl": "naive",
          "model": "BYSIZE_75",
          "name": "score.tmol_lj_cpu_cpp.naive",
          "natoms": 1368,
          "nres": 73,
          "rosetta_relative": 0.7866075097452382,
          "time": 0.003978385124355555
         },
         {
          "device": "cpu",
          "impl": "naive",
          "model": "BYSIZE_75",
          "name": "score.tmol_lj_cpu_cpp.naive",
          "natoms": 1368,
          "nres": 73,
          "rosetta_relative": 0.7854842473207715,
          "time": 0.0039727040566504
         },
         {
          "device": "cpu",
          "impl": "naive",
          "model": "BYSIZE_75",
          "name": "score.tmol_lj_cpu_cpp.naive",
          "natoms": 1368,
          "nres": 73,
          "rosetta_relative": 0.7867841013296748,
          "time": 0.003979278262704611
         },
         {
          "device": "cpu",
          "impl": "naive",
          "model": "BYSIZE_75",
          "name": "score.tmol_lj_cpu_cpp.naive",
          "natoms": 1368,
          "nres": 73,
          "rosetta_relative": 0.8039165233528164,
          "time": 0.004065928049385548
         },
         {
          "device": "cpu",
          "impl": "naive",
          "model": "BYSIZE_75",
          "name": "score.tmol_lj_cpu_cpp.naive",
          "natoms": 1368,
          "nres": 73,
          "rosetta_relative": 0.7838103100962447,
          "time": 0.003964237868785858
         },
         {
          "device": "cpu",
          "impl": "naive",
          "model": "BYSIZE_75",
          "name": "score.tmol_lj_cpu_cpp.naive",
          "natoms": 1368,
          "nres": 73,
          "rosetta_relative": 0.7857992211530749,
          "time": 0.00397429708391428
         },
         {
          "device": "cpu",
          "impl": "naive",
          "model": "BYSIZE_75",
          "name": "score.tmol_lj_cpu_cpp.naive",
          "natoms": 1368,
          "nres": 73,
          "rosetta_relative": 0.7841680047289539,
          "time": 0.003966046962887049
         },
         {
          "device": "cpu",
          "impl": "naive",
          "model": "BYSIZE_75",
          "name": "score.tmol_lj_cpu_cpp.naive",
          "natoms": 1368,
          "nres": 73,
          "rosetta_relative": 0.7866912940736205,
          "time": 0.003978808876127005
         },
         {
          "device": "cpu",
          "impl": "naive",
          "model": "BYSIZE_75",
          "name": "score.tmol_lj_cpu_cpp.naive",
          "natoms": 1368,
          "nres": 73,
          "rosetta_relative": 0.8024636478562521,
          "time": 0.0040585799142718315
         },
         {
          "device": "cpu",
          "impl": "naive",
          "model": "BYSIZE_75",
          "name": "score.tmol_lj_cpu_cpp.naive",
          "natoms": 1368,
          "nres": 73,
          "rosetta_relative": 0.7842431344124264,
          "time": 0.003966426942497492
         },
         {
          "device": "cpu",
          "impl": "naive",
          "model": "BYSIZE_75",
          "name": "score.tmol_lj_cpu_cpp.naive",
          "natoms": 1368,
          "nres": 73,
          "rosetta_relative": 0.7854094859200611,
          "time": 0.003972325939685106
         },
         {
          "device": "cpu",
          "impl": "naive",
          "model": "BYSIZE_75",
          "name": "score.tmol_lj_cpu_cpp.naive",
          "natoms": 1368,
          "nres": 73,
          "rosetta_relative": 0.7831088235050963,
          "time": 0.0039606899954378605
         },
         {
          "device": "cpu",
          "impl": "naive",
          "model": "BYSIZE_75",
          "name": "score.tmol_lj_cpu_cpp.naive",
          "natoms": 1368,
          "nres": 73,
          "rosetta_relative": 0.7779544300371523,
          "time": 0.003934620879590511
         },
         {
          "device": "cpu",
          "impl": "naive",
          "model": "BYSIZE_75",
          "name": "score.tmol_lj_cpu_cpp.naive",
          "natoms": 1368,
          "nres": 73,
          "rosetta_relative": 0.7981602637808775,
          "time": 0.004036814905703068
         },
         {
          "device": "cpu",
          "impl": "naive",
          "model": "BYSIZE_75",
          "name": "score.tmol_lj_cpu_cpp.naive",
          "natoms": 1368,
          "nres": 73,
          "rosetta_relative": 0.779823741266984,
          "time": 0.00394407520070672
         },
         {
          "device": "cpu",
          "impl": "naive",
          "model": "BYSIZE_75",
          "name": "score.tmol_lj_cpu_cpp.naive",
          "natoms": 1368,
          "nres": 73,
          "rosetta_relative": 0.7843693633291431,
          "time": 0.003967065364122391
         },
         {
          "device": "cpu",
          "impl": "naive",
          "model": "BYSIZE_75",
          "name": "score.tmol_lj_cpu_cpp.naive",
          "natoms": 1368,
          "nres": 73,
          "rosetta_relative": 0.7809307992499173,
          "time": 0.003949674312025309
         },
         {
          "device": "cpu",
          "impl": "naive",
          "model": "BYSIZE_75",
          "name": "score.tmol_lj_cpu_cpp.naive",
          "natoms": 1368,
          "nres": 73,
          "rosetta_relative": 0.785344852295309,
          "time": 0.003971999045461416
         },
         {
          "device": "cpu",
          "impl": "naive",
          "model": "BYSIZE_75",
          "name": "score.tmol_lj_cpu_cpp.naive",
          "natoms": 1368,
          "nres": 73,
          "rosetta_relative": 0.8019462105754732,
          "time": 0.004055962897837162
         },
         {
          "device": "cpu",
          "impl": "naive",
          "model": "BYSIZE_75",
          "name": "score.tmol_lj_cpu_cpp.naive",
          "natoms": 1368,
          "nres": 73,
          "rosetta_relative": 0.782017417539553,
          "time": 0.0039551700465381145
         },
         {
          "device": "cpu",
          "impl": "naive",
          "model": "BYSIZE_75",
          "name": "score.tmol_lj_cpu_cpp.naive",
          "natoms": 1368,
          "nres": 73,
          "rosetta_relative": 0.7841261125647627,
          "time": 0.003965835087001324
         },
         {
          "device": "cpu",
          "impl": "naive",
          "model": "BYSIZE_75",
          "name": "score.tmol_lj_cpu_cpp.naive",
          "natoms": 1368,
          "nres": 73,
          "rosetta_relative": 0.7846905979684025,
          "time": 0.0039686900563538074
         },
         {
          "device": "cpu",
          "impl": "naive",
          "model": "BYSIZE_75",
          "name": "score.tmol_lj_cpu_cpp.naive",
          "natoms": 1368,
          "nres": 73,
          "rosetta_relative": 0.7835550901420953,
          "time": 0.003962947055697441
         },
         {
          "device": "cpu",
          "impl": "naive",
          "model": "BYSIZE_75",
          "name": "score.tmol_lj_cpu_cpp.naive",
          "natoms": 1368,
          "nres": 73,
          "rosetta_relative": 0.8014620108139757,
          "time": 0.004053513985127211
         },
         {
          "device": "cpu",
          "impl": "naive",
          "model": "BYSIZE_75",
          "name": "score.tmol_lj_cpu_cpp.naive",
          "natoms": 1368,
          "nres": 73,
          "rosetta_relative": 0.7829393213638304,
          "time": 0.003959832713007927
         },
         {
          "device": "cpu",
          "impl": "naive",
          "model": "BYSIZE_75",
          "name": "score.tmol_lj_cpu_cpp.naive",
          "natoms": 1368,
          "nres": 73,
          "rosetta_relative": 0.7765745665981784,
          "time": 0.00392764201387763
         },
         {
          "device": "cpu",
          "impl": "naive",
          "model": "BYSIZE_75",
          "name": "score.tmol_lj_cpu_cpp.naive",
          "natoms": 1368,
          "nres": 73,
          "rosetta_relative": 0.7807658085724875,
          "time": 0.003948839846998453
         },
         {
          "device": "cpu",
          "impl": "naive",
          "model": "BYSIZE_75",
          "name": "score.tmol_lj_cpu_cpp.naive",
          "natoms": 1368,
          "nres": 73,
          "rosetta_relative": 0.784830177135246,
          "time": 0.003969395998865366
         },
         {
          "device": "cpu",
          "impl": "naive",
          "model": "BYSIZE_75",
          "name": "score.tmol_lj_cpu_cpp.naive",
          "natoms": 1368,
          "nres": 73,
          "rosetta_relative": 0.8043281714101762,
          "time": 0.0040680100210011005
         },
         {
          "device": "cpu",
          "impl": "naive",
          "model": "BYSIZE_75",
          "name": "score.tmol_lj_cpu_cpp.naive",
          "natoms": 1368,
          "nres": 73,
          "rosetta_relative": 0.7826934005494246,
          "time": 0.003958588931709528
         },
         {
          "device": "cpu",
          "impl": "naive",
          "model": "BYSIZE_75",
          "name": "score.tmol_lj_cpu_cpp.naive",
          "natoms": 1368,
          "nres": 73,
          "rosetta_relative": 0.7816168179650567,
          "time": 0.003953143954277039
         },
         {
          "device": "cpu",
          "impl": "naive",
          "model": "BYSIZE_75",
          "name": "score.tmol_lj_cpu_cpp.naive",
          "natoms": 1368,
          "nres": 73,
          "rosetta_relative": 0.7811276463862705,
          "time": 0.0039506698958575726
         },
         {
          "device": "cpu",
          "impl": "naive",
          "model": "BYSIZE_75",
          "name": "score.tmol_lj_cpu_cpp.naive",
          "natoms": 1368,
          "nres": 73,
          "rosetta_relative": 0.7767227083392413,
          "time": 0.003928391262888908
         },
         {
          "device": "cpu",
          "impl": "naive",
          "model": "BYSIZE_75",
          "name": "score.tmol_lj_cpu_cpp.naive",
          "natoms": 1368,
          "nres": 73,
          "rosetta_relative": 0.7793761856403174,
          "time": 0.003941811621189117
         },
         {
          "device": "cpu",
          "impl": "naive",
          "model": "BYSIZE_75",
          "name": "score.tmol_lj_cpu_cpp.naive",
          "natoms": 1368,
          "nres": 73,
          "rosetta_relative": 0.7811493750692357,
          "time": 0.003950779791921377
         },
         {
          "device": "cpu",
          "impl": "naive",
          "model": "BYSIZE_75",
          "name": "score.tmol_lj_cpu_cpp.naive",
          "natoms": 1368,
          "nres": 73,
          "rosetta_relative": 0.7830312999836699,
          "time": 0.003960297908633947
         },
         {
          "device": "cpu",
          "impl": "naive",
          "model": "BYSIZE_75",
          "name": "score.tmol_lj_cpu_cpp.naive",
          "natoms": 1368,
          "nres": 73,
          "rosetta_relative": 0.7846225577281007,
          "time": 0.003968345932662487
         },
         {
          "device": "cpu",
          "impl": "naive",
          "model": "BYSIZE_75",
          "name": "score.tmol_lj_cpu_cpp.naive",
          "natoms": 1368,
          "nres": 73,
          "rosetta_relative": 0.8024652130579911,
          "time": 0.004058587830513716
         },
         {
          "device": "cpu",
          "impl": "naive",
          "model": "BYSIZE_75",
          "name": "score.tmol_lj_cpu_cpp.naive",
          "natoms": 1368,
          "nres": 73,
          "rosetta_relative": 0.7990233344339062,
          "time": 0.0040411800146102905
         },
         {
          "device": "cpu",
          "impl": "naive",
          "model": "BYSIZE_75",
          "name": "score.tmol_lj_cpu_cpp.naive",
          "natoms": 1368,
          "nres": 73,
          "rosetta_relative": 0.7782776902316033,
          "time": 0.003936255816370249
         },
         {
          "device": "cpu",
          "impl": "naive",
          "model": "BYSIZE_75",
          "name": "score.tmol_lj_cpu_cpp.naive",
          "natoms": 1368,
          "nres": 73,
          "rosetta_relative": 0.7796044288821413,
          "time": 0.003942965995520353
         },
         {
          "device": "cpu",
          "impl": "naive",
          "model": "BYSIZE_75",
          "name": "score.tmol_lj_cpu_cpp.naive",
          "natoms": 1368,
          "nres": 73,
          "rosetta_relative": 0.7794586809790323,
          "time": 0.003942228853702545
         },
         {
          "device": "cpu",
          "impl": "naive",
          "model": "BYSIZE_75",
          "name": "score.tmol_lj_cpu_cpp.naive",
          "natoms": 1368,
          "nres": 73,
          "rosetta_relative": 0.7822017430619941,
          "time": 0.003956102300435305
         },
         {
          "device": "cpu",
          "impl": "naive",
          "model": "BYSIZE_75",
          "name": "score.tmol_lj_cpu_cpp.naive",
          "natoms": 1368,
          "nres": 73,
          "rosetta_relative": 0.7997254655198884,
          "time": 0.004044731147587299
         },
         {
          "device": "cpu",
          "impl": "naive",
          "model": "BYSIZE_75",
          "name": "score.tmol_lj_cpu_cpp.naive",
          "natoms": 1368,
          "nres": 73,
          "rosetta_relative": 0.8164527765046977,
          "time": 0.004129332024604082
         },
         {
          "device": "cpu",
          "impl": "rosetta",
          "model": "BYSIZE_55",
          "name": "score.rosetta_atr_rep",
          "natoms": 1080,
          "nres": 56,
          "rosetta_relative": 1.5152740786636483,
          "time": 0.006238855887204409
         },
         {
          "device": "cpu",
          "impl": "rosetta",
          "model": "BYSIZE_55",
          "name": "score.rosetta_atr_rep",
          "natoms": 1080,
          "nres": 56,
          "rosetta_relative": 1.5315810551203803,
          "time": 0.006305996794253588
         },
         {
          "device": "cpu",
          "impl": "rosetta",
          "model": "BYSIZE_55",
          "name": "score.rosetta_atr_rep",
          "natoms": 1080,
          "nres": 56,
          "rosetta_relative": 1.1855320269115441,
          "time": 0.004881205037236214
         },
         {
          "device": "cpu",
          "impl": "rosetta",
          "model": "BYSIZE_55",
          "name": "score.rosetta_atr_rep",
          "natoms": 1080,
          "nres": 56,
          "rosetta_relative": 0.9663834497625052,
          "time": 0.003978902008384466
         },
         {
          "device": "cpu",
          "impl": "rosetta",
          "model": "BYSIZE_55",
          "name": "score.rosetta_atr_rep",
          "natoms": 1080,
          "nres": 56,
          "rosetta_relative": 0.9679937444608834,
          "time": 0.003985532093793154
         },
         {
          "device": "cpu",
          "impl": "rosetta",
          "model": "BYSIZE_55",
          "name": "score.rosetta_atr_rep",
          "natoms": 1080,
          "nres": 56,
          "rosetta_relative": 0.9644882602512872,
          "time": 0.00397109892219305
         },
         {
          "device": "cpu",
          "impl": "rosetta",
          "model": "BYSIZE_55",
          "name": "score.rosetta_atr_rep",
          "natoms": 1080,
          "nres": 56,
          "rosetta_relative": 0.9629911770287538,
          "time": 0.003964934963732958
         },
         {
          "device": "cpu",
          "impl": "rosetta",
          "model": "BYSIZE_55",
          "name": "score.rosetta_atr_rep",
          "natoms": 1080,
          "nres": 56,
          "rosetta_relative": 0.9888177570152783,
          "time": 0.004071271046996117
         },
         {
          "device": "cpu",
          "impl": "rosetta",
          "model": "BYSIZE_55",
          "name": "score.rosetta_atr_rep",
          "natoms": 1080,
          "nres": 56,
          "rosetta_relative": 0.9667803119690377,
          "time": 0.003980536013841629
         },
         {
          "device": "cpu",
          "impl": "rosetta",
          "model": "BYSIZE_55",
          "name": "score.rosetta_atr_rep",
          "natoms": 1080,
          "nres": 56,
          "rosetta_relative": 0.9621430522961272,
          "time": 0.003961442969739437
         },
         {
          "device": "cpu",
          "impl": "rosetta",
          "model": "BYSIZE_55",
          "name": "score.rosetta_atr_rep",
          "natoms": 1080,
          "nres": 56,
          "rosetta_relative": 0.9616199723003414,
          "time": 0.003959289286285639
         },
         {
          "device": "cpu",
          "impl": "rosetta",
          "model": "BYSIZE_55",
          "name": "score.rosetta_atr_rep",
          "natoms": 1080,
          "nres": 56,
          "rosetta_relative": 0.9632838756296389,
          "time": 0.00396614009514451
         },
         {
          "device": "cpu",
          "impl": "rosetta",
          "model": "BYSIZE_55",
          "name": "score.rosetta_atr_rep",
          "natoms": 1080,
          "nres": 56,
          "rosetta_relative": 0.983848666702879,
          "time": 0.004050811752676964
         },
         {
          "device": "cpu",
          "impl": "rosetta",
          "model": "BYSIZE_55",
          "name": "score.rosetta_atr_rep",
          "natoms": 1080,
          "nres": 56,
          "rosetta_relative": 0.9622353405721404,
          "time": 0.00396182294934988
         },
         {
          "device": "cpu",
          "impl": "rosetta",
          "model": "BYSIZE_55",
          "name": "score.rosetta_atr_rep",
          "natoms": 1080,
          "nres": 56,
          "rosetta_relative": 0.9631270081800919,
          "time": 0.0039654942229390144
         },
         {
          "device": "cpu",
          "impl": "rosetta",
          "model": "BYSIZE_55",
          "name": "score.rosetta_atr_rep",
          "natoms": 1080,
          "nres": 56,
          "rosetta_relative": 0.9624830260187935,
          "time": 0.003962842747569084
         },
         {
          "device": "cpu",
          "impl": "rosetta",
          "model": "BYSIZE_55",
          "name": "score.rosetta_atr_rep",
          "natoms": 1080,
          "nres": 56,
          "rosetta_relative": 0.9621896488276437,
          "time": 0.003961634822189808
         },
         {
          "device": "cpu",
          "impl": "rosetta",
          "model": "BYSIZE_55",
          "name": "score.rosetta_atr_rep",
          "natoms": 1080,
          "nres": 56,
          "rosetta_relative": 0.9860003633341926,
          "time": 0.0040596709586679935
         },
         {
          "device": "cpu",
          "impl": "rosetta",
          "model": "BYSIZE_55",
          "name": "score.rosetta_atr_rep",
          "natoms": 1080,
          "nres": 56,
          "rosetta_relative": 0.9629873316839199,
          "time": 0.003964919131249189
         },
         {
          "device": "cpu",
          "impl": "rosetta",
          "model": "BYSIZE_55",
          "name": "score.rosetta_atr_rep",
          "natoms": 1080,
          "nres": 56,
          "rosetta_relative": 0.9624097382701948,
          "time": 0.003962540999054909
         },
         {
          "device": "cpu",
          "impl": "rosetta",
          "model": "BYSIZE_55",
          "name": "score.rosetta_atr_rep",
          "natoms": 1080,
          "nres": 56,
          "rosetta_relative": 0.9625483968809696,
          "time": 0.003963111899793148
         },
         {
          "device": "cpu",
          "impl": "rosetta",
          "model": "BYSIZE_55",
          "name": "score.rosetta_atr_rep",
          "natoms": 1080,
          "nres": 56,
          "rosetta_relative": 0.962873328519433,
          "time": 0.003964449744671583
         },
         {
          "device": "cpu",
          "impl": "rosetta",
          "model": "BYSIZE_55",
          "name": "score.rosetta_atr_rep",
          "natoms": 1080,
          "nres": 56,
          "rosetta_relative": 0.983517514653655,
          "time": 0.004049448296427727
         },
         {
          "device": "cpu",
          "impl": "rosetta",
          "model": "BYSIZE_55",
          "name": "score.rosetta_atr_rep",
          "natoms": 1080,
          "nres": 56,
          "rosetta_relative": 0.9647564165042619,
          "time": 0.003972203005105257
         },
         {
          "device": "cpu",
          "impl": "rosetta",
          "model": "BYSIZE_55",
          "name": "score.rosetta_atr_rep",
          "natoms": 1080,
          "nres": 56,
          "rosetta_relative": 0.9628743464048302,
          "time": 0.003964453935623169
         },
         {
          "device": "cpu",
          "impl": "rosetta",
          "model": "BYSIZE_55",
          "name": "score.rosetta_atr_rep",
          "natoms": 1080,
          "nres": 56,
          "rosetta_relative": 0.9615732626704474,
          "time": 0.003959096968173981
         },
         {
          "device": "cpu",
          "impl": "rosetta",
          "model": "BYSIZE_55",
          "name": "score.rosetta_atr_rep",
          "natoms": 1080,
          "nres": 56,
          "rosetta_relative": 0.962934854036775,
          "time": 0.003964703064411879
         },
         {
          "device": "cpu",
          "impl": "rosetta",
          "model": "BYSIZE_55",
          "name": "score.rosetta_atr_rep",
          "natoms": 1080,
          "nres": 56,
          "rosetta_relative": 0.9628812454058556,
          "time": 0.003964482340961695
         },
         {
          "device": "cpu",
          "impl": "rosetta",
          "model": "BYSIZE_55",
          "name": "score.rosetta_atr_rep",
          "natoms": 1080,
          "nres": 56,
          "rosetta_relative": 0.962640232763473,
          "time": 0.003963490016758442
         },
         {
          "device": "cpu",
          "impl": "rosetta",
          "model": "BYSIZE_55",
          "name": "score.rosetta_atr_rep",
          "natoms": 1080,
          "nres": 56,
          "rosetta_relative": 0.963447528981834,
          "time": 0.003966813907027245
         },
         {
          "device": "cpu",
          "impl": "rosetta",
          "model": "BYSIZE_55",
          "name": "score.rosetta_atr_rep",
          "natoms": 1080,
          "nres": 56,
          "rosetta_relative": 0.9620517819055111,
          "time": 0.00396106718108058
         },
         {
          "device": "cpu",
          "impl": "rosetta",
          "model": "BYSIZE_55",
          "name": "score.rosetta_atr_rep",
          "natoms": 1080,
          "nres": 56,
          "rosetta_relative": 0.9620366267229306,
          "time": 0.0039610047824680805
         },
         {
          "device": "cpu",
          "impl": "rosetta",
          "model": "BYSIZE_55",
          "name": "score.rosetta_atr_rep",
          "natoms": 1080,
          "nres": 56,
          "rosetta_relative": 0.9841957656233258,
          "time": 0.004052240867167711
         },
         {
          "device": "cpu",
          "impl": "rosetta",
          "model": "BYSIZE_55",
          "name": "score.rosetta_atr_rep",
          "natoms": 1080,
          "nres": 56,
          "rosetta_relative": 0.9618657350745775,
          "time": 0.0039603011682629585
         },
         {
          "device": "cpu",
          "impl": "rosetta",
          "model": "BYSIZE_55",
          "name": "score.rosetta_atr_rep",
          "natoms": 1080,
          "nres": 56,
          "rosetta_relative": 0.9620154773263442,
          "time": 0.003960917703807354
         },
         {
          "device": "cpu",
          "impl": "rosetta",
          "model": "BYSIZE_55",
          "name": "score.rosetta_atr_rep",
          "natoms": 1080,
          "nres": 56,
          "rosetta_relative": 0.9634142780588586,
          "time": 0.003966677002608776
         },
         {
          "device": "cpu",
          "impl": "rosetta",
          "model": "BYSIZE_55",
          "name": "score.rosetta_atr_rep",
          "natoms": 1080,
          "nres": 56,
          "rosetta_relative": 0.962586737230931,
          "time": 0.003963269758969545
         },
         {
          "device": "cpu",
          "impl": "rosetta",
          "model": "BYSIZE_55",
          "name": "score.rosetta_atr_rep",
          "natoms": 1080,
          "nres": 56,
          "rosetta_relative": 0.9834157261139345,
          "time": 0.00404902920126915
         },
         {
          "device": "cpu",
          "impl": "rosetta",
          "model": "BYSIZE_55",
          "name": "score.rosetta_atr_rep",
          "natoms": 1080,
          "nres": 56,
          "rosetta_relative": 0.9634843990528883,
          "time": 0.003966965712606907
         },
         {
          "device": "cpu",
          "impl": "rosetta",
          "model": "BYSIZE_55",
          "name": "score.rosetta_atr_rep",
          "natoms": 1080,
          "nres": 56,
          "rosetta_relative": 0.962716461069886,
          "time": 0.003963803872466087
         },
         {
          "device": "cpu",
          "impl": "blocked",
          "model": "BYSIZE_55",
          "name": "score.tmol_lj_cpu_cpp.blocked",
          "natoms": 1080,
          "nres": 56,
          "rosetta_relative": 0.5524755081717212,
          "time": 0.002274713944643736
         },
         {
          "device": "cpu",
          "impl": "blocked",
          "model": "BYSIZE_55",
          "name": "score.tmol_lj_cpu_cpp.blocked",
          "natoms": 1080,
          "nres": 56,
          "rosetta_relative": 0.5383600389751712,
          "time": 0.002216596156358719
         },
         {
          "device": "cpu",
          "impl": "blocked",
          "model": "BYSIZE_55",
          "name": "score.tmol_lj_cpu_cpp.blocked",
          "natoms": 1080,
          "nres": 56,
          "rosetta_relative": 0.5403627850433605,
          "time": 0.0022248420864343643
         },
         {
          "device": "cpu",
          "impl": "blocked",
          "model": "BYSIZE_55",
          "name": "score.tmol_lj_cpu_cpp.blocked",
          "natoms": 1080,
          "nres": 56,
          "rosetta_relative": 0.5524958658796653,
          "time": 0.0022747977636754513
         },
         {
          "device": "cpu",
          "impl": "blocked",
          "model": "BYSIZE_55",
          "name": "score.tmol_lj_cpu_cpp.blocked",
          "natoms": 1080,
          "nres": 56,
          "rosetta_relative": 0.5399606072130871,
          "time": 0.002223186194896698
         },
         {
          "device": "cpu",
          "impl": "blocked",
          "model": "BYSIZE_55",
          "name": "score.tmol_lj_cpu_cpp.blocked",
          "natoms": 1080,
          "nres": 56,
          "rosetta_relative": 0.5321121453087502,
          "time": 0.0021908716298639774
         },
         {
          "device": "cpu",
          "impl": "blocked",
          "model": "BYSIZE_55",
          "name": "score.tmol_lj_cpu_cpp.blocked",
          "natoms": 1080,
          "nres": 56,
          "rosetta_relative": 0.5341601307279263,
          "time": 0.002199303824454546
         },
         {
          "device": "cpu",
          "impl": "blocked",
          "model": "BYSIZE_55",
          "name": "score.tmol_lj_cpu_cpp.blocked",
          "natoms": 1080,
          "nres": 56,
          "rosetta_relative": 0.5337070586277928,
          "time": 0.002197438385337591
         },
         {
          "device": "cpu",
          "impl": "blocked",
          "model": "BYSIZE_55",
          "name": "score.tmol_lj_cpu_cpp.blocked",
          "natoms": 1080,
          "nres": 56,
          "rosetta_relative": 0.5360400519581864,
          "time": 0.002207044046372175
         },
         {
          "device": "cpu",
          "impl": "blocked",
          "model": "BYSIZE_55",
          "name": "score.tmol_lj_cpu_cpp.blocked",
          "natoms": 1080,
          "nres": 56,
          "rosetta_relative": 0.5368830872638269,
          "time": 0.002210515085607767
         },
         {
          "device": "cpu",
          "impl": "blocked",
          "model": "BYSIZE_55",
          "name": "score.tmol_lj_cpu_cpp.blocked",
          "natoms": 1080,
          "nres": 56,
          "rosetta_relative": 0.5357767589354426,
          "time": 0.002205959986895323
         },
         {
          "device": "cpu",
          "impl": "blocked",
          "model": "BYSIZE_55",
          "name": "score.tmol_lj_cpu_cpp.blocked",
          "natoms": 1080,
          "nres": 56,
          "rosetta_relative": 0.5381272825143437,
          "time": 0.0022156378254294395
         },
         {
          "device": "cpu",
          "impl": "blocked",
          "model": "BYSIZE_55",
          "name": "score.tmol_lj_cpu_cpp.blocked",
          "natoms": 1080,
          "nres": 56,
          "rosetta_relative": 0.5509754843913736,
          "time": 0.0022685378789901733
         },
         {
          "device": "cpu",
          "impl": "blocked",
          "model": "BYSIZE_55",
          "name": "score.tmol_lj_cpu_cpp.blocked",
          "natoms": 1080,
          "nres": 56,
          "rosetta_relative": 0.5370678900126084,
          "time": 0.002211275976151228
         },
         {
          "device": "cpu",
          "impl": "blocked",
          "model": "BYSIZE_55",
          "name": "score.tmol_lj_cpu_cpp.blocked",
          "natoms": 1080,
          "nres": 56,
          "rosetta_relative": 0.534704925612186,
          "time": 0.0022015469148755074
         },
         {
          "device": "cpu",
          "impl": "blocked",
          "model": "BYSIZE_55",
          "name": "score.tmol_lj_cpu_cpp.blocked",
          "natoms": 1080,
          "nres": 56,
          "rosetta_relative": 0.5359909672623656,
          "time": 0.0022068419493734837
         },
         {
          "device": "cpu",
          "impl": "blocked",
          "model": "BYSIZE_55",
          "name": "score.tmol_lj_cpu_cpp.blocked",
          "natoms": 1080,
          "nres": 56,
          "rosetta_relative": 0.5375767196128333,
          "time": 0.0022133709862828255
         },
         {
          "device": "cpu",
          "impl": "blocked",
          "model": "BYSIZE_55",
          "name": "score.tmol_lj_cpu_cpp.blocked",
          "natoms": 1080,
          "nres": 56,
          "rosetta_relative": 0.5321392889193423,
          "time": 0.0021909833885729313
         },
         {
          "device": "cpu",
          "impl": "blocked",
          "model": "BYSIZE_55",
          "name": "score.tmol_lj_cpu_cpp.blocked",
          "natoms": 1080,
          "nres": 56,
          "rosetta_relative": 0.5341086709661789,
          "time": 0.002199091948568821
         },
         {
          "device": "cpu",
          "impl": "blocked",
          "model": "BYSIZE_55",
          "name": "score.tmol_lj_cpu_cpp.blocked",
          "natoms": 1080,
          "nres": 56,
          "rosetta_relative": 0.5308233892975114,
          "time": 0.0021855654194951057
         },
         {
          "device": "cpu",
          "impl": "blocked",
          "model": "BYSIZE_55",
          "name": "score.tmol_lj_cpu_cpp.blocked",
          "natoms": 1080,
          "nres": 56,
          "rosetta_relative": 0.5356922744474747,
          "time": 0.002205612137913704
         },
         {
          "device": "cpu",
          "impl": "blocked",
          "model": "BYSIZE_55",
          "name": "score.tmol_lj_cpu_cpp.blocked",
          "natoms": 1080,
          "nres": 56,
          "rosetta_relative": 0.5558376967370663,
          "time": 0.0022885571233928204
         },
         {
          "device": "cpu",
          "impl": "blocked",
          "model": "BYSIZE_55",
          "name": "score.tmol_lj_cpu_cpp.blocked",
          "natoms": 1080,
          "nres": 56,
          "rosetta_relative": 0.5353443838383856,
          "time": 0.0022041797637939453
         },
         {
          "device": "cpu",
          "impl": "blocked",
          "model": "BYSIZE_55",
          "name": "score.tmol_lj_cpu_cpp.blocked",
          "natoms": 1080,
          "nres": 56,
          "rosetta_relative": 0.5343683448408435,
          "time": 0.0022001611068844795
         },
         {
          "device": "cpu",
          "impl": "blocked",
          "model": "BYSIZE_55",
          "name": "score.tmol_lj_cpu_cpp.blocked",
          "natoms": 1080,
          "nres": 56,
          "rosetta_relative": 0.5339251122995495,
          "time": 0.0021983361802995205
         },
         {
          "device": "cpu",
          "impl": "blocked",
          "model": "BYSIZE_55",
          "name": "score.tmol_lj_cpu_cpp.blocked",
          "natoms": 1080,
          "nres": 56,
          "rosetta_relative": 0.5373239447391941,
          "time": 0.0022123302333056927
         },
         {
          "device": "cpu",
          "impl": "blocked",
          "model": "BYSIZE_55",
          "name": "score.tmol_lj_cpu_cpp.blocked",
          "natoms": 1080,
          "nres": 56,
          "rosetta_relative": 0.5357033580884665,
          "time": 0.00220565777271986
         },
         {
          "device": "cpu",
          "impl": "blocked",
          "model": "BYSIZE_55",
          "name": "score.tmol_lj_cpu_cpp.blocked",
          "natoms": 1080,
          "nres": 56,
          "rosetta_relative": 0.5334805225777259,
          "time": 0.0021965056657791138
         },
         {
          "device": "cpu",
          "impl": "blocked",
          "model": "BYSIZE_55",
          "name": "score.tmol_lj_cpu_cpp.blocked",
          "natoms": 1080,
          "nres": 56,
          "rosetta_relative": 0.5327597466181274,
          "time": 0.0021935380063951015
         },
         {
          "device": "cpu",
          "impl": "blocked",
          "model": "BYSIZE_55",
          "name": "score.tmol_lj_cpu_cpp.blocked",
          "natoms": 1080,
          "nres": 56,
          "rosetta_relative": 0.5337190470558043,
          "time": 0.002197487745434046
         },
         {
          "device": "cpu",
          "impl": "blocked",
          "model": "BYSIZE_55",
          "name": "score.tmol_lj_cpu_cpp.blocked",
          "natoms": 1080,
          "nres": 56,
          "rosetta_relative": 0.5344443469505015,
          "time": 0.0022004740312695503
         },
         {
          "device": "cpu",
          "impl": "blocked",
          "model": "BYSIZE_55",
          "name": "score.tmol_lj_cpu_cpp.blocked",
          "natoms": 1080,
          "nres": 56,
          "rosetta_relative": 0.5396553546923032,
          "time": 0.0022219293750822544
         },
         {
          "device": "cpu",
          "impl": "blocked",
          "model": "BYSIZE_55",
          "name": "score.tmol_lj_cpu_cpp.blocked",
          "natoms": 1080,
          "nres": 56,
          "rosetta_relative": 0.5339585894192799,
          "time": 0.0021984740160405636
         },
         {
          "device": "cpu",
          "impl": "blocked",
          "model": "BYSIZE_55",
          "name": "score.tmol_lj_cpu_cpp.blocked",
          "natoms": 1080,
          "nres": 56,
          "rosetta_relative": 0.5350355121695226,
          "time": 0.002202908042818308
         },
         {
          "device": "cpu",
          "impl": "blocked",
          "model": "BYSIZE_55",
          "name": "score.tmol_lj_cpu_cpp.blocked",
          "natoms": 1080,
          "nres": 56,
          "rosetta_relative": 0.5334434263099167,
          "time": 0.002196352928876877
         },
         {
          "device": "cpu",
          "impl": "blocked",
          "model": "BYSIZE_55",
          "name": "score.tmol_lj_cpu_cpp.blocked",
          "natoms": 1080,
          "nres": 56,
          "rosetta_relative": 0.5306681052252489,
          "time": 0.0021849260665476322
         },
         {
          "device": "cpu",
          "impl": "blocked",
          "model": "BYSIZE_55",
          "name": "score.tmol_lj_cpu_cpp.blocked",
          "natoms": 1080,
          "nres": 56,
          "rosetta_relative": 0.5353826110899694,
          "time": 0.0022043371573090553
         },
         {
          "device": "cpu",
          "impl": "blocked",
          "model": "BYSIZE_55",
          "name": "score.tmol_lj_cpu_cpp.blocked",
          "natoms": 1080,
          "nres": 56,
          "rosetta_relative": 0.5316439180260359,
          "time": 0.0021889437921345234
         },
         {
          "device": "cpu",
          "impl": "blocked",
          "model": "BYSIZE_55",
          "name": "score.tmol_lj_cpu_cpp.blocked",
          "natoms": 1080,
          "nres": 56,
          "rosetta_relative": 0.5328287366283824,
          "time": 0.0021938220597803593
         },
         {
          "device": "cpu",
          "impl": "blocked",
          "model": "BYSIZE_55",
          "name": "score.tmol_lj_cpu_cpp.blocked",
          "natoms": 1080,
          "nres": 56,
          "rosetta_relative": 0.55282430356783,
          "time": 0.002276150044053793
         },
         {
          "device": "cpu",
          "impl": "blocked",
          "model": "BYSIZE_55",
          "name": "score.tmol_lj_cpu_cpp.blocked",
          "natoms": 1080,
          "nres": 56,
          "rosetta_relative": 0.5379424797655623,
          "time": 0.0022148769348859787
         },
         {
          "device": "cpu",
          "impl": "blocked",
          "model": "BYSIZE_55",
          "name": "score.tmol_lj_cpu_cpp.blocked",
          "natoms": 1080,
          "nres": 56,
          "rosetta_relative": 0.5312364245720216,
          "time": 0.0021872660145163536
         },
         {
          "device": "cpu",
          "impl": "blocked",
          "model": "BYSIZE_55",
          "name": "score.tmol_lj_cpu_cpp.blocked",
          "natoms": 1080,
          "nres": 56,
          "rosetta_relative": 0.5378902283151724,
          "time": 0.0022146617993712425
         },
         {
          "device": "cpu",
          "impl": "blocked",
          "model": "BYSIZE_55",
          "name": "score.tmol_lj_cpu_cpp.blocked",
          "natoms": 1080,
          "nres": 56,
          "rosetta_relative": 0.5363603465631734,
          "time": 0.0022083627991378307
         },
         {
          "device": "cpu",
          "impl": "blocked",
          "model": "BYSIZE_55",
          "name": "score.tmol_lj_cpu_cpp.blocked",
          "natoms": 1080,
          "nres": 56,
          "rosetta_relative": 0.5340227161993037,
          "time": 0.002198738045990467
         },
         {
          "device": "cpu",
          "impl": "blocked",
          "model": "BYSIZE_55",
          "name": "score.tmol_lj_cpu_cpp.blocked",
          "natoms": 1080,
          "nres": 56,
          "rosetta_relative": 0.5333860854325408,
          "time": 0.002196116838604212
         },
         {
          "device": "cpu",
          "impl": "blocked",
          "model": "BYSIZE_55",
          "name": "score.tmol_lj_cpu_cpp.blocked",
          "natoms": 1080,
          "nres": 56,
          "rosetta_relative": 0.5324651253448254,
          "time": 0.002192324958741665
         },
         {
          "device": "cpu",
          "impl": "blocked",
          "model": "BYSIZE_55",
          "name": "score.tmol_lj_cpu_cpp.blocked",
          "natoms": 1080,
          "nres": 56,
          "rosetta_relative": 0.5347807015250889,
          "time": 0.0022018589079380035
         },
         {
          "device": "cpu",
          "impl": "blocked",
          "model": "BYSIZE_55",
          "name": "score.tmol_lj_cpu_cpp.blocked",
          "natoms": 1080,
          "nres": 56,
          "rosetta_relative": 0.5569002559933708,
          "time": 0.0022929320111870766
         },
         {
          "device": "cpu",
          "impl": "blocked",
          "model": "BYSIZE_55",
          "name": "score.tmol_lj_cpu_cpp.blocked",
          "natoms": 1080,
          "nres": 56,
          "rosetta_relative": 0.5334191101587612,
          "time": 0.0021962528117001057
         },
         {
          "device": "cpu",
          "impl": "blocked",
          "model": "BYSIZE_55",
          "name": "score.tmol_lj_cpu_cpp.blocked",
          "natoms": 1080,
          "nres": 56,
          "rosetta_relative": 0.5321822663027799,
          "time": 0.0021911603398621082
         },
         {
          "device": "cpu",
          "impl": "blocked",
          "model": "BYSIZE_55",
          "name": "score.tmol_lj_cpu_cpp.blocked",
          "natoms": 1080,
          "nres": 56,
          "rosetta_relative": 0.5346682817378866,
          "time": 0.0022013960406184196
         },
         {
          "device": "cpu",
          "impl": "blocked",
          "model": "BYSIZE_55",
          "name": "score.tmol_lj_cpu_cpp.blocked",
          "natoms": 1080,
          "nres": 56,
          "rosetta_relative": 0.5320716560896169,
          "time": 0.0021907049231231213
         },
         {
          "device": "cpu",
          "impl": "blocked",
          "model": "BYSIZE_55",
          "name": "score.tmol_lj_cpu_cpp.blocked",
          "natoms": 1080,
          "nres": 56,
          "rosetta_relative": 0.5358270877134156,
          "time": 0.0022061672061681747
         },
         {
          "device": "cpu",
          "impl": "blocked",
          "model": "BYSIZE_55",
          "name": "score.tmol_lj_cpu_cpp.blocked",
          "natoms": 1080,
          "nres": 56,
          "rosetta_relative": 0.5338400623196942,
          "time": 0.002197986003011465
         },
         {
          "device": "cpu",
          "impl": "blocked",
          "model": "BYSIZE_55",
          "name": "score.tmol_lj_cpu_cpp.blocked",
          "natoms": 1080,
          "nres": 56,
          "rosetta_relative": 0.5315463141262817,
          "time": 0.002188541926443577
         },
         {
          "device": "cpu",
          "impl": "blocked",
          "model": "BYSIZE_55",
          "name": "score.tmol_lj_cpu_cpp.blocked",
          "natoms": 1080,
          "nres": 56,
          "rosetta_relative": 0.5335634236884094,
          "time": 0.0021968469955027103
         },
         {
          "device": "cpu",
          "impl": "blocked",
          "model": "BYSIZE_55",
          "name": "score.tmol_lj_cpu_cpp.blocked",
          "natoms": 1080,
          "nres": 56,
          "rosetta_relative": 0.5561759739840707,
          "time": 0.002289949916303158
         },
         {
          "device": "cpu",
          "impl": "blocked",
          "model": "BYSIZE_55",
          "name": "score.tmol_lj_cpu_cpp.blocked",
          "natoms": 1080,
          "nres": 56,
          "rosetta_relative": 0.5355195732250823,
          "time": 0.002204901073127985
         },
         {
          "device": "cpu",
          "impl": "blocked",
          "model": "BYSIZE_55",
          "name": "score.tmol_lj_cpu_cpp.blocked",
          "natoms": 1080,
          "nres": 56,
          "rosetta_relative": 0.5339213800530931,
          "time": 0.0021983208134770393
         },
         {
          "device": "cpu",
          "impl": "blocked",
          "model": "BYSIZE_55",
          "name": "score.tmol_lj_cpu_cpp.blocked",
          "natoms": 1080,
          "nres": 56,
          "rosetta_relative": 0.5352638577936288,
          "time": 0.002203848212957382
         },
         {
          "device": "cpu",
          "impl": "blocked",
          "model": "BYSIZE_55",
          "name": "score.tmol_lj_cpu_cpp.blocked",
          "natoms": 1080,
          "nres": 56,
          "rosetta_relative": 0.5310996886336637,
          "time": 0.0021867030300199986
         },
         {
          "device": "cpu",
          "impl": "blocked",
          "model": "BYSIZE_55",
          "name": "score.tmol_lj_cpu_cpp.blocked",
          "natoms": 1080,
          "nres": 56,
          "rosetta_relative": 0.532890375244102,
          "time": 0.002194075845181942
         },
         {
          "device": "cpu",
          "impl": "blocked",
          "model": "BYSIZE_55",
          "name": "score.tmol_lj_cpu_cpp.blocked",
          "natoms": 1080,
          "nres": 56,
          "rosetta_relative": 0.5370342997945006,
          "time": 0.0022111376747488976
         },
         {
          "device": "cpu",
          "impl": "blocked",
          "model": "BYSIZE_55",
          "name": "score.tmol_lj_cpu_cpp.blocked",
          "natoms": 1080,
          "nres": 56,
          "rosetta_relative": 0.5327430080582622,
          "time": 0.00219346908852458
         },
         {
          "device": "cpu",
          "impl": "blocked",
          "model": "BYSIZE_55",
          "name": "score.tmol_lj_cpu_cpp.blocked",
          "natoms": 1080,
          "nres": 56,
          "rosetta_relative": 0.5330291469532543,
          "time": 0.0021946472115814686
         },
         {
          "device": "cpu",
          "impl": "blocked",
          "model": "BYSIZE_55",
          "name": "score.tmol_lj_cpu_cpp.blocked",
          "natoms": 1080,
          "nres": 56,
          "rosetta_relative": 0.5341677083192167,
          "time": 0.0021993350237607956
         },
         {
          "device": "cpu",
          "impl": "blocked",
          "model": "BYSIZE_55",
          "name": "score.tmol_lj_cpu_cpp.blocked",
          "natoms": 1080,
          "nres": 56,
          "rosetta_relative": 0.5330670349097059,
          "time": 0.0021948032081127167
         },
         {
          "device": "cpu",
          "impl": "blocked",
          "model": "BYSIZE_55",
          "name": "score.tmol_lj_cpu_cpp.blocked",
          "natoms": 1080,
          "nres": 56,
          "rosetta_relative": 0.5315242599426756,
          "time": 0.002188451122492552
         },
         {
          "device": "cpu",
          "impl": "blocked",
          "model": "BYSIZE_55",
          "name": "score.tmol_lj_cpu_cpp.blocked",
          "natoms": 1080,
          "nres": 56,
          "rosetta_relative": 0.5380512804046858,
          "time": 0.0022153249010443687
         },
         {
          "device": "cpu",
          "impl": "blocked",
          "model": "BYSIZE_55",
          "name": "score.tmol_lj_cpu_cpp.blocked",
          "natoms": 1080,
          "nres": 56,
          "rosetta_relative": 0.5339367614324286,
          "time": 0.002198384143412113
         },
         {
          "device": "cpu",
          "impl": "blocked",
          "model": "BYSIZE_55",
          "name": "score.tmol_lj_cpu_cpp.blocked",
          "natoms": 1080,
          "nres": 56,
          "rosetta_relative": 0.5329732763547855,
          "time": 0.0021944171749055386
         },
         {
          "device": "cpu",
          "impl": "blocked",
          "model": "BYSIZE_55",
          "name": "score.tmol_lj_cpu_cpp.blocked",
          "natoms": 1080,
          "nres": 56,
          "rosetta_relative": 0.531952111104634,
          "time": 0.002190212719142437
         },
         {
          "device": "cpu",
          "impl": "blocked",
          "model": "BYSIZE_55",
          "name": "score.tmol_lj_cpu_cpp.blocked",
          "natoms": 1080,
          "nres": 56,
          "rosetta_relative": 0.5467796476857175,
          "time": 0.0022512623108923435
         },
         {
          "device": "cpu",
          "impl": "blocked",
          "model": "BYSIZE_55",
          "name": "score.tmol_lj_cpu_cpp.blocked",
          "natoms": 1080,
          "nres": 56,
          "rosetta_relative": 0.5361044049349651,
          "time": 0.0022073090076446533
         },
         {
          "device": "cpu",
          "impl": "blocked",
          "model": "BYSIZE_55",
          "name": "score.tmol_lj_cpu_cpp.blocked",
          "natoms": 1080,
          "nres": 56,
          "rosetta_relative": 0.5348272980566054,
          "time": 0.0022020507603883743
         },
         {
          "device": "cpu",
          "impl": "blocked",
          "model": "BYSIZE_55",
          "name": "score.tmol_lj_cpu_cpp.blocked",
          "natoms": 1080,
          "nres": 56,
          "rosetta_relative": 0.5333802043169126,
          "time": 0.002196092624217272
         },
         {
          "device": "cpu",
          "impl": "blocked",
          "model": "BYSIZE_55",
          "name": "score.tmol_lj_cpu_cpp.blocked",
          "natoms": 1080,
          "nres": 56,
          "rosetta_relative": 0.5313530289991902,
          "time": 0.002187746111303568
         },
         {
          "device": "cpu",
          "impl": "blocked",
          "model": "BYSIZE_55",
          "name": "score.tmol_lj_cpu_cpp.blocked",
          "natoms": 1080,
          "nres": 56,
          "rosetta_relative": 0.5378810673465976,
          "time": 0.0022146240808069706
         },
         {
          "device": "cpu",
          "impl": "blocked",
          "model": "BYSIZE_55",
          "name": "score.tmol_lj_cpu_cpp.blocked",
          "natoms": 1080,
          "nres": 56,
          "rosetta_relative": 0.5295782892599749,
          "time": 0.002180438954383135
         },
         {
          "device": "cpu",
          "impl": "blocked",
          "model": "BYSIZE_55",
          "name": "score.tmol_lj_cpu_cpp.blocked",
          "natoms": 1080,
          "nres": 56,
          "rosetta_relative": 0.5328830238495667,
          "time": 0.002194045577198267
         },
         {
          "device": "cpu",
          "impl": "blocked",
          "model": "BYSIZE_55",
          "name": "score.tmol_lj_cpu_cpp.blocked",
          "natoms": 1080,
          "nres": 56,
          "rosetta_relative": 0.5360043128709067,
          "time": 0.002206896897405386
         },
         {
          "device": "cpu",
          "impl": "blocked",
          "model": "BYSIZE_55",
          "name": "score.tmol_lj_cpu_cpp.blocked",
          "natoms": 1080,
          "nres": 56,
          "rosetta_relative": 0.5321495808716918,
          "time": 0.0021910257637500763
         },
         {
          "device": "cpu",
          "impl": "blocked",
          "model": "BYSIZE_55",
          "name": "score.tmol_lj_cpu_cpp.blocked",
          "natoms": 1080,
          "nres": 56,
          "rosetta_relative": 0.5337162195963676,
          "time": 0.002197476103901863
         },
         {
          "device": "cpu",
          "impl": "blocked",
          "model": "BYSIZE_55",
          "name": "score.tmol_lj_cpu_cpp.blocked",
          "natoms": 1080,
          "nres": 56,
          "rosetta_relative": 0.5527643614277724,
          "time": 0.00227590324357152
         },
         {
          "device": "cpu",
          "impl": "blocked",
          "model": "BYSIZE_55",
          "name": "score.tmol_lj_cpu_cpp.blocked",
          "natoms": 1080,
          "nres": 56,
          "rosetta_relative": 0.5343012775030055,
          "time": 0.002199884969741106
         },
         {
          "device": "cpu",
          "impl": "blocked",
          "model": "BYSIZE_55",
          "name": "score.tmol_lj_cpu_cpp.blocked",
          "natoms": 1080,
          "nres": 56,
          "rosetta_relative": 0.5311739942676597,
          "time": 0.0021870089694857597
         },
         {
          "device": "cpu",
          "impl": "blocked",
          "model": "BYSIZE_55",
          "name": "score.tmol_lj_cpu_cpp.blocked",
          "natoms": 1080,
          "nres": 56,
          "rosetta_relative": 0.5604493961766692,
          "time": 0.0023075449280440807
         },
         {
          "device": "cpu",
          "impl": "blocked",
          "model": "BYSIZE_55",
          "name": "score.tmol_lj_cpu_cpp.blocked",
          "natoms": 1080,
          "nres": 56,
          "rosetta_relative": 0.5345762196586282,
          "time": 0.002201016992330551
         },
         {
          "device": "cpu",
          "impl": "blocked",
          "model": "BYSIZE_55",
          "name": "score.tmol_lj_cpu_cpp.blocked",
          "natoms": 1080,
          "nres": 56,
          "rosetta_relative": 0.5338415325986012,
          "time": 0.0021979920566082
         },
         {
          "device": "cpu",
          "impl": "blocked",
          "model": "BYSIZE_55",
          "name": "score.tmol_lj_cpu_cpp.blocked",
          "natoms": 1080,
          "nres": 56,
          "rosetta_relative": 0.5730761514306183,
          "time": 0.002359533216804266
         },
         {
          "device": "cpu",
          "impl": "blocked",
          "model": "BYSIZE_55",
          "name": "score.tmol_lj_cpu_cpp.blocked",
          "natoms": 1080,
          "nres": 56,
          "rosetta_relative": 1.7200536200538556,
          "time": 0.007081997115164995
         },
         {
          "device": "cpu",
          "impl": "blocked",
          "model": "BYSIZE_55",
          "name": "score.tmol_lj_cpu_cpp.blocked",
          "natoms": 1080,
          "nres": 56,
          "rosetta_relative": 1.671336607058233,
          "time": 0.006881413981318474
         },
         {
          "device": "cpu",
          "impl": "blocked",
          "model": "BYSIZE_55",
          "name": "score.tmol_lj_cpu_cpp.blocked",
          "natoms": 1080,
          "nres": 56,
          "rosetta_relative": 1.0493024299896092,
          "time": 0.004320305306464434
         },
         {
          "device": "cpu",
          "impl": "blocked",
          "model": "BYSIZE_55",
          "name": "score.tmol_lj_cpu_cpp.blocked",
          "natoms": 1080,
          "nres": 56,
          "rosetta_relative": 0.7578048207747967,
          "time": 0.0031201187521219254
         },
         {
          "device": "cpu",
          "impl": "blocked",
          "model": "BYSIZE_55",
          "name": "score.tmol_lj_cpu_cpp.blocked",
          "natoms": 1080,
          "nres": 56,
          "rosetta_relative": 0.753778970930474,
          "time": 0.003103543072938919
         },
         {
          "device": "cpu",
          "impl": "blocked",
          "model": "BYSIZE_55",
          "name": "score.tmol_lj_cpu_cpp.blocked",
          "natoms": 1080,
          "nres": 56,
          "rosetta_relative": 0.7520802333009164,
          "time": 0.003096548840403557
         },
         {
          "device": "cpu",
          "impl": "blocked",
          "model": "BYSIZE_55",
          "name": "score.tmol_lj_cpu_cpp.blocked",
          "natoms": 1080,
          "nres": 56,
          "rosetta_relative": 0.7574542158046483,
          "time": 0.0031186752021312714
         },
         {
          "device": "cpu",
          "impl": "blocked",
          "model": "BYSIZE_55",
          "name": "score.tmol_lj_cpu_cpp.blocked",
          "natoms": 1080,
          "nres": 56,
          "rosetta_relative": 0.7549572298269274,
          "time": 0.003108394332230091
         },
         {
          "device": "cpu",
          "impl": "blocked",
          "model": "BYSIZE_55",
          "name": "score.tmol_lj_cpu_cpp.blocked",
          "natoms": 1080,
          "nres": 56,
          "rosetta_relative": 0.8455179281243582,
          "time": 0.0034812609665095806
         },
         {
          "device": "cpu",
          "impl": "blocked",
          "model": "BYSIZE_55",
          "name": "score.tmol_lj_cpu_cpp.blocked",
          "natoms": 1080,
          "nres": 56,
          "rosetta_relative": 1.6846115291134467,
          "time": 0.00693607097491622
         },
         {
          "device": "cpu",
          "impl": "blocked",
          "model": "BYSIZE_55",
          "name": "score.tmol_lj_cpu_cpp.blocked",
          "natoms": 1080,
          "nres": 56,
          "rosetta_relative": 1.6297686556006898,
          "time": 0.006710265763103962
         },
         {
          "device": "cpu",
          "impl": "naive",
          "model": "BYSIZE_55",
          "name": "score.tmol_lj_cpu_cpp.naive",
          "natoms": 1080,
          "nres": 56,
          "rosetta_relative": 1.0026747964193157,
          "time": 0.0041283247992396355
         },
         {
          "device": "cpu",
          "impl": "naive",
          "model": "BYSIZE_55",
          "name": "score.tmol_lj_cpu_cpp.naive",
          "natoms": 1080,
          "nres": 56,
          "rosetta_relative": 0.9972820395849242,
          "time": 0.004106121137738228
         },
         {
          "device": "cpu",
          "impl": "naive",
          "model": "BYSIZE_55",
          "name": "score.tmol_lj_cpu_cpp.naive",
          "natoms": 1080,
          "nres": 56,
          "rosetta_relative": 0.9888374361329576,
          "time": 0.004071352072060108
         },
         {
          "device": "cpu",
          "impl": "naive",
          "model": "BYSIZE_55",
          "name": "score.tmol_lj_cpu_cpp.naive",
          "natoms": 1080,
          "nres": 56,
          "rosetta_relative": 0.9863466705659972,
          "time": 0.00406109681352973
         },
         {
          "device": "cpu",
          "impl": "naive",
          "model": "BYSIZE_55",
          "name": "score.tmol_lj_cpu_cpp.naive",
          "natoms": 1080,
          "nres": 56,
          "rosetta_relative": 0.9763479823092537,
          "time": 0.0040199290961027145
         },
         {
          "device": "cpu",
          "impl": "naive",
          "model": "BYSIZE_55",
          "name": "score.tmol_lj_cpu_cpp.naive",
          "natoms": 1080,
          "nres": 56,
          "rosetta_relative": 0.9837663310840828,
          "time": 0.004050472751259804
         },
         {
          "device": "cpu",
          "impl": "naive",
          "model": "BYSIZE_55",
          "name": "score.tmol_lj_cpu_cpp.naive",
          "natoms": 1080,
          "nres": 56,
          "rosetta_relative": 0.9900415945578509,
          "time": 0.004076309967786074
         },
         {
          "device": "cpu",
          "impl": "naive",
          "model": "BYSIZE_55",
          "name": "score.tmol_lj_cpu_cpp.naive",
          "natoms": 1080,
          "nres": 56,
          "rosetta_relative": 0.9821049159190895,
          "time": 0.004043632186949253
         },
         {
          "device": "cpu",
          "impl": "naive",
          "model": "BYSIZE_55",
          "name": "score.tmol_lj_cpu_cpp.naive",
          "natoms": 1080,
          "nres": 56,
          "rosetta_relative": 0.9827435824566468,
          "time": 0.00404626177623868
         },
         {
          "device": "cpu",
          "impl": "naive",
          "model": "BYSIZE_55",
          "name": "score.tmol_lj_cpu_cpp.naive",
          "natoms": 1080,
          "nres": 56,
          "rosetta_relative": 0.9762690396417816,
          "time": 0.004019604064524174
         },
         {
          "device": "cpu",
          "impl": "naive",
          "model": "BYSIZE_55",
          "name": "score.tmol_lj_cpu_cpp.naive",
          "natoms": 1080,
          "nres": 56,
          "rosetta_relative": 0.9793331008841232,
          "time": 0.004032219760119915
         },
         {
          "device": "cpu",
          "impl": "naive",
          "model": "BYSIZE_55",
          "name": "score.tmol_lj_cpu_cpp.naive",
          "natoms": 1080,
          "nres": 56,
          "rosetta_relative": 0.9868061892736465,
          "time": 0.004062988795340061
         },
         {
          "device": "cpu",
          "impl": "naive",
          "model": "BYSIZE_55",
          "name": "score.tmol_lj_cpu_cpp.naive",
          "natoms": 1080,
          "nres": 56,
          "rosetta_relative": 0.9838251422403658,
          "time": 0.004050714895129204
         },
         {
          "device": "cpu",
          "impl": "naive",
          "model": "BYSIZE_55",
          "name": "score.tmol_lj_cpu_cpp.naive",
          "natoms": 1080,
          "nres": 56,
          "rosetta_relative": 0.9756368197117399,
          "time": 0.0040170010179281235
         },
         {
          "device": "cpu",
          "impl": "naive",
          "model": "BYSIZE_55",
          "name": "score.tmol_lj_cpu_cpp.naive",
          "natoms": 1080,
          "nres": 56,
          "rosetta_relative": 0.9826972121218853,
          "time": 0.004046070855110884
         },
         {
          "device": "cpu",
          "impl": "naive",
          "model": "BYSIZE_55",
          "name": "score.tmol_lj_cpu_cpp.naive",
          "natoms": 1080,
          "nres": 56,
          "rosetta_relative": 0.9815095660601022,
          "time": 0.004041180945932865
         },
         {
          "device": "cpu",
          "impl": "naive",
          "model": "BYSIZE_55",
          "name": "score.tmol_lj_cpu_cpp.naive",
          "natoms": 1080,
          "nres": 56,
          "rosetta_relative": 0.9877548584638415,
          "time": 0.0040668947622179985
         },
         {
          "device": "cpu",
          "impl": "naive",
          "model": "BYSIZE_55",
          "name": "score.tmol_lj_cpu_cpp.naive",
          "natoms": 1080,
          "nres": 56,
          "rosetta_relative": 0.9747484319567349,
          "time": 0.004013343248516321
         },
         {
          "device": "cpu",
          "impl": "naive",
          "model": "BYSIZE_55",
          "name": "score.tmol_lj_cpu_cpp.naive",
          "natoms": 1080,
          "nres": 56,
          "rosetta_relative": 0.9826595503621888,
          "time": 0.00404591578990221
         },
         {
          "device": "cpu",
          "impl": "naive",
          "model": "BYSIZE_55",
          "name": "score.tmol_lj_cpu_cpp.naive",
          "natoms": 1080,
          "nres": 56,
          "rosetta_relative": 0.9821345476939859,
          "time": 0.004043754190206528
         },
         {
          "device": "cpu",
          "impl": "naive",
          "model": "BYSIZE_55",
          "name": "score.tmol_lj_cpu_cpp.naive",
          "natoms": 1080,
          "nres": 56,
          "rosetta_relative": 0.9741110095013298,
          "time": 0.004010718781501055
         },
         {
          "device": "cpu",
          "impl": "naive",
          "model": "BYSIZE_55",
          "name": "score.tmol_lj_cpu_cpp.naive",
          "natoms": 1080,
          "nres": 56,
          "rosetta_relative": 0.9947548563404194,
          "time": 0.004095715936273336
         },
         {
          "device": "cpu",
          "impl": "naive",
          "model": "BYSIZE_55",
          "name": "score.tmol_lj_cpu_cpp.naive",
          "natoms": 1080,
          "nres": 56,
          "rosetta_relative": 0.9855727383689891,
          "time": 0.004057910293340683
         },
         {
          "device": "cpu",
          "impl": "naive",
          "model": "BYSIZE_55",
          "name": "score.tmol_lj_cpu_cpp.naive",
          "natoms": 1080,
          "nres": 56,
          "rosetta_relative": 0.9745800284726862,
          "time": 0.00401264987885952
         },
         {
          "device": "cpu",
          "impl": "naive",
          "model": "BYSIZE_55",
          "name": "score.tmol_lj_cpu_cpp.naive",
          "natoms": 1080,
          "nres": 56,
          "rosetta_relative": 0.983436649313766,
          "time": 0.004049115348607302
         },
         {
          "device": "cpu",
          "impl": "naive",
          "model": "BYSIZE_55",
          "name": "score.tmol_lj_cpu_cpp.naive",
          "natoms": 1080,
          "nres": 56,
          "rosetta_relative": 0.9824126566041778,
          "time": 0.0040448992513120174
         },
         {
          "device": "cpu",
          "impl": "naive",
          "model": "BYSIZE_55",
          "name": "score.tmol_lj_cpu_cpp.naive",
          "natoms": 1080,
          "nres": 56,
          "rosetta_relative": 0.986176457507909,
          "time": 0.004060395993292332
         },
         {
          "device": "cpu",
          "impl": "naive",
          "model": "BYSIZE_55",
          "name": "score.tmol_lj_cpu_cpp.naive",
          "natoms": 1080,
          "nres": 56,
          "rosetta_relative": 0.9846218072112448,
          "time": 0.0040539950132369995
         },
         {
          "device": "cpu",
          "impl": "naive",
          "model": "BYSIZE_55",
          "name": "score.tmol_lj_cpu_cpp.naive",
          "natoms": 1080,
          "nres": 56,
          "rosetta_relative": 0.9803553971180493,
          "time": 0.00403642887249589
         },
         {
          "device": "cpu",
          "impl": "naive",
          "model": "BYSIZE_55",
          "name": "score.tmol_lj_cpu_cpp.naive",
          "natoms": 1080,
          "nres": 56,
          "rosetta_relative": 0.9814202183419031,
          "time": 0.004040813073515892
         },
         {
          "device": "cpu",
          "impl": "naive",
          "model": "BYSIZE_55",
          "name": "score.tmol_lj_cpu_cpp.naive",
          "natoms": 1080,
          "nres": 56,
          "rosetta_relative": 0.9874965417697064,
          "time": 0.004065831191837788
         },
         {
          "device": "cpu",
          "impl": "naive",
          "model": "BYSIZE_55",
          "name": "score.tmol_lj_cpu_cpp.naive",
          "natoms": 1080,
          "nres": 56,
          "rosetta_relative": 0.9803102708654399,
          "time": 0.004036243073642254
         },
         {
          "device": "cpu",
          "impl": "naive",
          "model": "BYSIZE_55",
          "name": "score.tmol_lj_cpu_cpp.naive",
          "natoms": 1080,
          "nres": 56,
          "rosetta_relative": 0.9804645370523052,
          "time": 0.004036878235638142
         },
         {
          "device": "cpu",
          "impl": "naive",
          "model": "BYSIZE_55",
          "name": "score.tmol_lj_cpu_cpp.naive",
          "natoms": 1080,
          "nres": 56,
          "rosetta_relative": 0.9817828117400629,
          "time": 0.004042305983603001
         },
         {
          "device": "cpu",
          "impl": "naive",
          "model": "BYSIZE_55",
          "name": "score.tmol_lj_cpu_cpp.naive",
          "natoms": 1080,
          "nres": 56,
          "rosetta_relative": 0.9814033666836605,
          "time": 0.004040743689984083
         },
         {
          "device": "cpu",
          "impl": "naive",
          "model": "BYSIZE_55",
          "name": "score.tmol_lj_cpu_cpp.naive",
          "natoms": 1080,
          "nres": 56,
          "rosetta_relative": 0.7752727520762297,
          "time": 0.0031920396722853184
         },
         {
          "device": "cpu",
          "impl": "naive",
          "model": "BYSIZE_55",
          "name": "score.tmol_lj_cpu_cpp.naive",
          "natoms": 1080,
          "nres": 56,
          "rosetta_relative": 0.7452109771486906,
          "time": 0.0030682659707963467
         },
         {
          "device": "cpu",
          "impl": "naive",
          "model": "BYSIZE_55",
          "name": "score.tmol_lj_cpu_cpp.naive",
          "natoms": 1080,
          "nres": 56,
          "rosetta_relative": 0.7192501493881125,
          "time": 0.0029613771475851536
         },
         {
          "device": "cpu",
          "impl": "naive",
          "model": "BYSIZE_55",
          "name": "score.tmol_lj_cpu_cpp.naive",
          "natoms": 1080,
          "nres": 56,
          "rosetta_relative": 0.7120896649139086,
          "time": 0.002931895200163126
         },
         {
          "device": "cpu",
          "impl": "naive",
          "model": "BYSIZE_55",
          "name": "score.tmol_lj_cpu_cpp.naive",
          "natoms": 1080,
          "nres": 56,
          "rosetta_relative": 0.7071188781258473,
          "time": 0.0029114289209246635
         },
         {
          "device": "cpu",
          "impl": "naive",
          "model": "BYSIZE_55",
          "name": "score.tmol_lj_cpu_cpp.naive",
          "natoms": 1080,
          "nres": 56,
          "rosetta_relative": 0.7063803457209864,
          "time": 0.002908388152718544
         },
         {
          "device": "cpu",
          "impl": "naive",
          "model": "BYSIZE_55",
          "name": "score.tmol_lj_cpu_cpp.naive",
          "natoms": 1080,
          "nres": 56,
          "rosetta_relative": 0.71130012514081,
          "time": 0.0029286444187164307
         },
         {
          "device": "cpu",
          "impl": "naive",
          "model": "BYSIZE_55",
          "name": "score.tmol_lj_cpu_cpp.naive",
          "natoms": 1080,
          "nres": 56,
          "rosetta_relative": 0.7047073945214914,
          "time": 0.002901500090956688
         },
         {
          "device": "cpu",
          "impl": "naive",
          "model": "BYSIZE_55",
          "name": "score.tmol_lj_cpu_cpp.naive",
          "natoms": 1080,
          "nres": 56,
          "rosetta_relative": 0.7093948698739974,
          "time": 0.0029207998886704445
         },
         {
          "device": "cpu",
          "impl": "naive",
          "model": "BYSIZE_55",
          "name": "score.tmol_lj_cpu_cpp.naive",
          "natoms": 1080,
          "nres": 56,
          "rosetta_relative": 0.7099748383536493,
          "time": 0.0029231877997517586
         },
         {
          "device": "cpu",
          "impl": "naive",
          "model": "BYSIZE_55",
          "name": "score.tmol_lj_cpu_cpp.naive",
          "natoms": 1080,
          "nres": 56,
          "rosetta_relative": 0.7369305925408064,
          "time": 0.003034173045307398
         },
         {
          "device": "cpu",
          "impl": "naive",
          "model": "BYSIZE_55",
          "name": "score.tmol_lj_cpu_cpp.naive",
          "natoms": 1080,
          "nres": 56,
          "rosetta_relative": 0.7303316415107272,
          "time": 0.003007003106176853
         },
         {
          "device": "cpu",
          "impl": "naive",
          "model": "BYSIZE_55",
          "name": "score.tmol_lj_cpu_cpp.naive",
          "natoms": 1080,
          "nres": 56,
          "rosetta_relative": 0.7146456882446676,
          "time": 0.002942419145256281
         },
         {
          "device": "cpu",
          "impl": "naive",
          "model": "BYSIZE_55",
          "name": "score.tmol_lj_cpu_cpp.naive",
          "natoms": 1080,
          "nres": 56,
          "rosetta_relative": 0.7208676823826485,
          "time": 0.002968037035316229
         },
         {
          "device": "cpu",
          "impl": "naive",
          "model": "BYSIZE_55",
          "name": "score.tmol_lj_cpu_cpp.naive",
          "natoms": 1080,
          "nres": 56,
          "rosetta_relative": 0.7310774122117459,
          "time": 0.0030100736767053604
         },
         {
          "device": "cpu",
          "impl": "naive",
          "model": "BYSIZE_55",
          "name": "score.tmol_lj_cpu_cpp.naive",
          "natoms": 1080,
          "nres": 56,
          "rosetta_relative": 0.7696029042170436,
          "time": 0.003168695140630007
         },
         {
          "device": "cpu",
          "impl": "naive",
          "model": "BYSIZE_55",
          "name": "score.tmol_lj_cpu_cpp.naive",
          "natoms": 1080,
          "nres": 56,
          "rosetta_relative": 0.7067683862540765,
          "time": 0.002909985836595297
         },
         {
          "device": "cpu",
          "impl": "naive",
          "model": "BYSIZE_55",
          "name": "score.tmol_lj_cpu_cpp.naive",
          "natoms": 1080,
          "nres": 56,
          "rosetta_relative": 0.7056093540817925,
          "time": 0.002905213739722967
         },
         {
          "device": "cpu",
          "impl": "naive",
          "model": "BYSIZE_55",
          "name": "score.tmol_lj_cpu_cpp.naive",
          "natoms": 1080,
          "nres": 56,
          "rosetta_relative": 0.7149465299287303,
          "time": 0.0029436578042805195
         },
         {
          "device": "cpu",
          "impl": "naive",
          "model": "BYSIZE_55",
          "name": "score.tmol_lj_cpu_cpp.naive",
          "natoms": 1080,
          "nres": 56,
          "rosetta_relative": 0.7084583022101915,
          "time": 0.002916943747550249
         },
         {
          "device": "cpu",
          "impl": "naive",
          "model": "BYSIZE_55",
          "name": "score.tmol_lj_cpu_cpp.naive",
          "natoms": 1080,
          "nres": 56,
          "rosetta_relative": 0.7109412639891065,
          "time": 0.002927166875451803
         },
         {
          "device": "cpu",
          "impl": "naive",
          "model": "BYSIZE_55",
          "name": "score.tmol_lj_cpu_cpp.naive",
          "natoms": 1080,
          "nres": 56,
          "rosetta_relative": 0.7382962554487229,
          "time": 0.003039795905351639
         },
         {
          "device": "cpu",
          "impl": "naive",
          "model": "BYSIZE_55",
          "name": "score.tmol_lj_cpu_cpp.naive",
          "natoms": 1080,
          "nres": 56,
          "rosetta_relative": 0.7366631148780964,
          "time": 0.003033071756362915
         },
         {
          "device": "cpu",
          "impl": "naive",
          "model": "BYSIZE_55",
          "name": "score.tmol_lj_cpu_cpp.naive",
          "natoms": 1080,
          "nres": 56,
          "rosetta_relative": 0.7092335915877291,
          "time": 0.0029201358556747437
         },
         {
          "device": "cpu",
          "impl": "naive",
          "model": "BYSIZE_55",
          "name": "score.tmol_lj_cpu_cpp.naive",
          "natoms": 1080,
          "nres": 56,
          "rosetta_relative": 0.7087740728800799,
          "time": 0.0029182438738644123
         },
         {
          "device": "cpu",
          "impl": "naive",
          "model": "BYSIZE_55",
          "name": "score.tmol_lj_cpu_cpp.naive",
          "natoms": 1080,
          "nres": 56,
          "rosetta_relative": 0.7087507746143217,
          "time": 0.002918147947639227
         },
         {
          "device": "cpu",
          "impl": "naive",
          "model": "BYSIZE_55",
          "name": "score.tmol_lj_cpu_cpp.naive",
          "natoms": 1080,
          "nres": 56,
          "rosetta_relative": 0.7097682076180166,
          "time": 0.0029223370365798473
         },
         {
          "device": "cpu",
          "impl": "rosetta",
          "model": "BYSIZE_15",
          "name": "score.rosetta_atr_rep",
          "natoms": 264,
          "nres": 14,
          "rosetta_relative": 1.5736739887664304,
          "time": 0.000653028953820467
         },
         {
          "device": "cpu",
          "impl": "rosetta",
          "model": "BYSIZE_15",
          "name": "score.rosetta_atr_rep",
          "natoms": 264,
          "nres": 14,
          "rosetta_relative": 1.519983408279755,
          "time": 0.0006307489238679409
         },
         {
          "device": "cpu",
          "impl": "rosetta",
          "model": "BYSIZE_15",
          "name": "score.rosetta_atr_rep",
          "natoms": 264,
          "nres": 14,
          "rosetta_relative": 1.5102184241348933,
          "time": 0.000626696739345789
         },
         {
          "device": "cpu",
          "impl": "rosetta",
          "model": "BYSIZE_15",
          "name": "score.rosetta_atr_rep",
          "natoms": 264,
          "nres": 14,
          "rosetta_relative": 1.5078405797999173,
          "time": 0.0006257100030779839
         },
         {
          "device": "cpu",
          "impl": "rosetta",
          "model": "BYSIZE_15",
          "name": "score.rosetta_atr_rep",
          "natoms": 264,
          "nres": 14,
          "rosetta_relative": 1.5350011953184453,
          "time": 0.0006369808688759804
         },
         {
          "device": "cpu",
          "impl": "rosetta",
          "model": "BYSIZE_15",
          "name": "score.rosetta_atr_rep",
          "natoms": 264,
          "nres": 14,
          "rosetta_relative": 1.5071773867834137,
          "time": 0.000625434797257185
         },
         {
          "device": "cpu",
          "impl": "rosetta",
          "model": "BYSIZE_15",
          "name": "score.rosetta_atr_rep",
          "natoms": 264,
          "nres": 14,
          "rosetta_relative": 1.5000326322384432,
          "time": 0.0006224699318408966
         },
         {
          "device": "cpu",
          "impl": "rosetta",
          "model": "BYSIZE_15",
          "name": "score.rosetta_atr_rep",
          "natoms": 264,
          "nres": 14,
          "rosetta_relative": 1.4987803083697158,
          "time": 0.0006219502538442612
         },
         {
          "device": "cpu",
          "impl": "rosetta",
          "model": "BYSIZE_15",
          "name": "score.rosetta_atr_rep",
          "natoms": 264,
          "nres": 14,
          "rosetta_relative": 1.5002009553390785,
          "time": 0.0006225397810339928
         },
         {
          "device": "cpu",
          "impl": "rosetta",
          "model": "BYSIZE_15",
          "name": "score.rosetta_atr_rep",
          "natoms": 264,
          "nres": 14,
          "rosetta_relative": 1.4970858558233193,
          "time": 0.0006212471053004265
         },
         {
          "device": "cpu",
          "impl": "rosetta",
          "model": "BYSIZE_15",
          "name": "score.rosetta_atr_rep",
          "natoms": 264,
          "nres": 14,
          "rosetta_relative": 1.4975897029712213,
          "time": 0.0006214561872184277
         },
         {
          "device": "cpu",
          "impl": "rosetta",
          "model": "BYSIZE_15",
          "name": "score.rosetta_atr_rep",
          "natoms": 264,
          "nres": 14,
          "rosetta_relative": 1.5164531117824285,
          "time": 0.0006292839534580708
         },
         {
          "device": "cpu",
          "impl": "rosetta",
          "model": "BYSIZE_15",
          "name": "score.rosetta_atr_rep",
          "natoms": 264,
          "nres": 14,
          "rosetta_relative": 1.4990586025627664,
          "time": 0.0006220657378435135
         },
         {
          "device": "cpu",
          "impl": "rosetta",
          "model": "BYSIZE_15",
          "name": "score.rosetta_atr_rep",
          "natoms": 264,
          "nres": 14,
          "rosetta_relative": 1.495671941777982,
          "time": 0.0006206603720784187
         },
         {
          "device": "cpu",
          "impl": "rosetta",
          "model": "BYSIZE_15",
          "name": "score.rosetta_atr_rep",
          "natoms": 264,
          "nres": 14,
          "rosetta_relative": 1.4992830333636136,
          "time": 0.000622158870100975
         },
         {
          "device": "cpu",
          "impl": "rosetta",
          "model": "BYSIZE_15",
          "name": "score.rosetta_atr_rep",
          "natoms": 264,
          "nres": 14,
          "rosetta_relative": 1.496547221901286,
          "time": 0.0006210235878825188
         },
         {
          "device": "cpu",
          "impl": "rosetta",
          "model": "BYSIZE_15",
          "name": "score.rosetta_atr_rep",
          "natoms": 264,
          "nres": 14,
          "rosetta_relative": 1.49516809463008,
          "time": 0.0006204512901604176
         },
         {
          "device": "cpu",
          "impl": "rosetta",
          "model": "BYSIZE_15",
          "name": "score.rosetta_atr_rep",
          "natoms": 264,
          "nres": 14,
          "rosetta_relative": 1.5450624281204253,
          "time": 0.0006411559879779816
         },
         {
          "device": "cpu",
          "impl": "rosetta",
          "model": "BYSIZE_15",
          "name": "score.rosetta_atr_rep",
          "natoms": 264,
          "nres": 14,
          "rosetta_relative": 1.1218633663488995,
          "time": 0.00046554068103432655
         },
         {
          "device": "cpu",
          "impl": "rosetta",
          "model": "BYSIZE_15",
          "name": "score.rosetta_atr_rep",
          "natoms": 264,
          "nres": 14,
          "rosetta_relative": 0.9687959494010884,
          "time": 0.0004020221531391144
         },
         {
          "device": "cpu",
          "impl": "rosetta",
          "model": "BYSIZE_15",
          "name": "score.rosetta_atr_rep",
          "natoms": 264,
          "nres": 14,
          "rosetta_relative": 0.9682719034811103,
          "time": 0.00040180468931794167
         },
         {
          "device": "cpu",
          "impl": "rosetta",
          "model": "BYSIZE_15",
          "name": "score.rosetta_atr_rep",
          "natoms": 264,
          "nres": 14,
          "rosetta_relative": 0.9674314101319375,
          "time": 0.00040145590901374817
         },
         {
          "device": "cpu",
          "impl": "rosetta",
          "model": "BYSIZE_15",
          "name": "score.rosetta_atr_rep",
          "natoms": 264,
          "nres": 14,
          "rosetta_relative": 1.0163988444147836,
          "time": 0.000421775970607996
         },
         {
          "device": "cpu",
          "impl": "rosetta",
          "model": "BYSIZE_15",
          "name": "score.rosetta_atr_rep",
          "natoms": 264,
          "nres": 14,
          "rosetta_relative": 0.9791354763961189,
          "time": 0.0004063127562403679
         },
         {
          "device": "cpu",
          "impl": "rosetta",
          "model": "BYSIZE_15",
          "name": "score.rosetta_atr_rep",
          "natoms": 264,
          "nres": 14,
          "rosetta_relative": 0.9706250604279931,
          "time": 0.000402781181037426
         },
         {
          "device": "cpu",
          "impl": "rosetta",
          "model": "BYSIZE_15",
          "name": "score.rosetta_atr_rep",
          "natoms": 264,
          "nres": 14,
          "rosetta_relative": 0.9713836365348566,
          "time": 0.000403095968067646
         },
         {
          "device": "cpu",
          "impl": "rosetta",
          "model": "BYSIZE_15",
          "name": "score.rosetta_atr_rep",
          "natoms": 264,
          "nres": 14,
          "rosetta_relative": 0.9790827351579198,
          "time": 0.0004062908701598644
         },
         {
          "device": "cpu",
          "impl": "rosetta",
          "model": "BYSIZE_15",
          "name": "score.rosetta_atr_rep",
          "natoms": 264,
          "nres": 14,
          "rosetta_relative": 0.9722095418819743,
          "time": 0.0004034386947751045
         },
         {
          "device": "cpu",
          "impl": "rosetta",
          "model": "BYSIZE_15",
          "name": "score.rosetta_atr_rep",
          "natoms": 264,
          "nres": 14,
          "rosetta_relative": 0.970125701896108,
          "time": 0.00040257396176457405
         },
         {
          "device": "cpu",
          "impl": "rosetta",
          "model": "BYSIZE_15",
          "name": "score.rosetta_atr_rep",
          "natoms": 264,
          "nres": 14,
          "rosetta_relative": 0.9688374690992452,
          "time": 0.00040203938260674477
         },
         {
          "device": "cpu",
          "impl": "rosetta",
          "model": "BYSIZE_15",
          "name": "score.rosetta_atr_rep",
          "natoms": 264,
          "nres": 14,
          "rosetta_relative": 0.9674358987479544,
          "time": 0.0004014577716588974
         },
         {
          "device": "cpu",
          "impl": "rosetta",
          "model": "BYSIZE_15",
          "name": "score.rosetta_atr_rep",
          "natoms": 264,
          "nres": 14,
          "rosetta_relative": 0.9688599121793299,
          "time": 0.0004020486958324909
         },
         {
          "device": "cpu",
          "impl": "rosetta",
          "model": "BYSIZE_15",
          "name": "score.rosetta_atr_rep",
          "natoms": 264,
          "nres": 14,
          "rosetta_relative": 0.9689665168097323,
          "time": 0.00040209293365478516
         },
         {
          "device": "cpu",
          "impl": "rosetta",
          "model": "BYSIZE_15",
          "name": "score.rosetta_atr_rep",
          "natoms": 264,
          "nres": 14,
          "rosetta_relative": 0.9715957236416572,
          "time": 0.0004031839780509472
         },
         {
          "device": "cpu",
          "impl": "rosetta",
          "model": "BYSIZE_15",
          "name": "score.rosetta_atr_rep",
          "natoms": 264,
          "nres": 14,
          "rosetta_relative": 0.9742417627836457,
          "time": 0.00040428200736641884
         },
         {
          "device": "cpu",
          "impl": "rosetta",
          "model": "BYSIZE_15",
          "name": "score.rosetta_atr_rep",
          "natoms": 264,
          "nres": 14,
          "rosetta_relative": 0.9698844387851974,
          "time": 0.0004024738445878029
         },
         {
          "device": "cpu",
          "impl": "rosetta",
          "model": "BYSIZE_15",
          "name": "score.rosetta_atr_rep",
          "natoms": 264,
          "nres": 14,
          "rosetta_relative": 0.9799243506610968,
          "time": 0.00040664011612534523
         },
         {
          "device": "cpu",
          "impl": "rosetta",
          "model": "BYSIZE_15",
          "name": "score.rosetta_atr_rep",
          "natoms": 264,
          "nres": 14,
          "rosetta_relative": 0.9739118495064003,
          "time": 0.00040414510294795036
         },
         {
          "device": "cpu",
          "impl": "rosetta",
          "model": "BYSIZE_15",
          "name": "score.rosetta_atr_rep",
          "natoms": 264,
          "nres": 14,
          "rosetta_relative": 0.9663305770537819,
          "time": 0.0004009990952908993
         },
         {
          "device": "cpu",
          "impl": "rosetta",
          "model": "BYSIZE_15",
          "name": "score.rosetta_atr_rep",
          "natoms": 264,
          "nres": 14,
          "rosetta_relative": 0.9668703331298194,
          "time": 0.0004012230783700943
         },
         {
          "device": "cpu",
          "impl": "rosetta",
          "model": "BYSIZE_15",
          "name": "score.rosetta_atr_rep",
          "natoms": 264,
          "nres": 14,
          "rosetta_relative": 0.9727089004138594,
          "time": 0.00040364591404795647
         },
         {
          "device": "cpu",
          "impl": "rosetta",
          "model": "BYSIZE_15",
          "name": "score.rosetta_atr_rep",
          "natoms": 264,
          "nres": 14,
          "rosetta_relative": 0.9665561300086334,
          "time": 0.00040109269320964813
         },
         {
          "device": "cpu",
          "impl": "rosetta",
          "model": "BYSIZE_15",
          "name": "score.rosetta_atr_rep",
          "natoms": 264,
          "nres": 14,
          "rosetta_relative": 0.9669612276041626,
          "time": 0.0004012607969343662
         },
         {
          "device": "cpu",
          "impl": "rosetta",
          "model": "BYSIZE_15",
          "name": "score.rosetta_atr_rep",
          "natoms": 264,
          "nres": 14,
          "rosetta_relative": 0.967462830444056,
          "time": 0.0004014689475297928
         },
         {
          "device": "cpu",
          "impl": "rosetta",
          "model": "BYSIZE_15",
          "name": "score.rosetta_atr_rep",
          "natoms": 264,
          "nres": 14,
          "rosetta_relative": 0.9665830617047351,
          "time": 0.0004011038690805435
         },
         {
          "device": "cpu",
          "impl": "rosetta",
          "model": "BYSIZE_15",
          "name": "score.rosetta_atr_rep",
          "natoms": 264,
          "nres": 14,
          "rosetta_relative": 0.966872577437828,
          "time": 0.0004012240096926689
         },
         {
          "device": "cpu",
          "impl": "rosetta",
          "model": "BYSIZE_15",
          "name": "score.rosetta_atr_rep",
          "natoms": 264,
          "nres": 14,
          "rosetta_relative": 0.9890081873253872,
          "time": 0.0004104096442461014
         },
         {
          "device": "cpu",
          "impl": "rosetta",
          "model": "BYSIZE_15",
          "name": "score.rosetta_atr_rep",
          "natoms": 264,
          "nres": 14,
          "rosetta_relative": 0.9720120427772287,
          "time": 0.00040335673838853836
         },
         {
          "device": "cpu",
          "impl": "rosetta",
          "model": "BYSIZE_15",
          "name": "score.rosetta_atr_rep",
          "natoms": 264,
          "nres": 14,
          "rosetta_relative": 0.9689362186516179,
          "time": 0.00040208036080002785
         },
         {
          "device": "cpu",
          "impl": "rosetta",
          "model": "BYSIZE_15",
          "name": "score.rosetta_atr_rep",
          "natoms": 264,
          "nres": 14,
          "rosetta_relative": 0.964970526400648,
          "time": 0.0004004347138106823
         },
         {
          "device": "cpu",
          "impl": "rosetta",
          "model": "BYSIZE_15",
          "name": "score.rosetta_atr_rep",
          "natoms": 264,
          "nres": 14,
          "rosetta_relative": 0.9670958860846709,
          "time": 0.00040131667628884315
         },
         {
          "device": "cpu",
          "impl": "rosetta",
          "model": "BYSIZE_15",
          "name": "score.rosetta_atr_rep",
          "natoms": 264,
          "nres": 14,
          "rosetta_relative": 0.9680126859061317,
          "time": 0.0004016971215605736
         },
         {
          "device": "cpu",
          "impl": "rosetta",
          "model": "BYSIZE_15",
          "name": "score.rosetta_atr_rep",
          "natoms": 264,
          "nres": 14,
          "rosetta_relative": 0.9630460322833831,
          "time": 0.0003996361047029495
         },
         {
          "device": "cpu",
          "impl": "rosetta",
          "model": "BYSIZE_15",
          "name": "score.rosetta_atr_rep",
          "natoms": 264,
          "nres": 14,
          "rosetta_relative": 0.9647472177538049,
          "time": 0.00040034204721450806
         },
         {
          "device": "cpu",
          "impl": "rosetta",
          "model": "BYSIZE_15",
          "name": "score.rosetta_atr_rep",
          "natoms": 264,
          "nres": 14,
          "rosetta_relative": 0.9628990301088283,
          "time": 0.0003995751030743122
         },
         {
          "device": "cpu",
          "impl": "rosetta",
          "model": "BYSIZE_15",
          "name": "score.rosetta_atr_rep",
          "natoms": 264,
          "nres": 14,
          "rosetta_relative": 0.9629461605770062,
          "time": 0.00039959466084837914
         },
         {
          "device": "cpu",
          "impl": "rosetta",
          "model": "BYSIZE_15",
          "name": "score.rosetta_atr_rep",
          "natoms": 264,
          "nres": 14,
          "rosetta_relative": 0.974514446206675,
          "time": 0.0004043951630592346
         },
         {
          "device": "cpu",
          "impl": "rosetta",
          "model": "BYSIZE_15",
          "name": "score.rosetta_atr_rep",
          "natoms": 264,
          "nres": 14,
          "rosetta_relative": 0.9694075233333971,
          "time": 0.0004022759385406971
         },
         {
          "device": "cpu",
          "impl": "rosetta",
          "model": "BYSIZE_15",
          "name": "score.rosetta_atr_rep",
          "natoms": 264,
          "nres": 14,
          "rosetta_relative": 0.9687690177049868,
          "time": 0.000402010977268219
         },
         {
          "device": "cpu",
          "impl": "rosetta",
          "model": "BYSIZE_15",
          "name": "score.rosetta_atr_rep",
          "natoms": 264,
          "nres": 14,
          "rosetta_relative": 0.9645923605012203,
          "time": 0.0004002777859568596
         },
         {
          "device": "cpu",
          "impl": "rosetta",
          "model": "BYSIZE_15",
          "name": "score.rosetta_atr_rep",
          "natoms": 264,
          "nres": 14,
          "rosetta_relative": 0.9665707180106884,
          "time": 0.00040109874680638313
         },
         {
          "device": "cpu",
          "impl": "rosetta",
          "model": "BYSIZE_15",
          "name": "score.rosetta_atr_rep",
          "natoms": 264,
          "nres": 14,
          "rosetta_relative": 0.9673012402674461,
          "time": 0.00040140189230442047
         },
         {
          "device": "cpu",
          "impl": "rosetta",
          "model": "BYSIZE_15",
          "name": "score.rosetta_atr_rep",
          "natoms": 264,
          "nres": 14,
          "rosetta_relative": 0.9654317316963889,
          "time": 0.0004006261005997658
         },
         {
          "device": "cpu",
          "impl": "rosetta",
          "model": "BYSIZE_15",
          "name": "score.rosetta_atr_rep",
          "natoms": 264,
          "nres": 14,
          "rosetta_relative": 0.966168986877172,
          "time": 0.00040093204006552696
         },
         {
          "device": "cpu",
          "impl": "rosetta",
          "model": "BYSIZE_15",
          "name": "score.rosetta_atr_rep",
          "natoms": 264,
          "nres": 14,
          "rosetta_relative": 0.9665707180106884,
          "time": 0.00040109874680638313
         },
         {
          "device": "cpu",
          "impl": "rosetta",
          "model": "BYSIZE_15",
          "name": "score.rosetta_atr_rep",
          "natoms": 264,
          "nres": 14,
          "rosetta_relative": 0.9673831575097553,
          "time": 0.00040143588557839394
         },
         {
          "device": "cpu",
          "impl": "rosetta",
          "model": "BYSIZE_15",
          "name": "score.rosetta_atr_rep",
          "natoms": 264,
          "nres": 14,
          "rosetta_relative": 0.9760877061206139,
          "time": 0.00040504802018404007
         },
         {
          "device": "cpu",
          "impl": "rosetta",
          "model": "BYSIZE_15",
          "name": "score.rosetta_atr_rep",
          "natoms": 264,
          "nres": 14,
          "rosetta_relative": 0.967424677207912,
          "time": 0.0004014531150460243
         },
         {
          "device": "cpu",
          "impl": "rosetta",
          "model": "BYSIZE_15",
          "name": "score.rosetta_atr_rep",
          "natoms": 264,
          "nres": 14,
          "rosetta_relative": 0.9632154775380228,
          "time": 0.000399706419557333
         },
         {
          "device": "cpu",
          "impl": "rosetta",
          "model": "BYSIZE_15",
          "name": "score.rosetta_atr_rep",
          "natoms": 264,
          "nres": 14,
          "rosetta_relative": 0.9607804033488307,
          "time": 0.0003986959345638752
         },
         {
          "device": "cpu",
          "impl": "rosetta",
          "model": "BYSIZE_15",
          "name": "score.rosetta_atr_rep",
          "natoms": 264,
          "nres": 14,
          "rosetta_relative": 0.963363601866582,
          "time": 0.0003997678868472576
         },
         {
          "device": "cpu",
          "impl": "rosetta",
          "model": "BYSIZE_15",
          "name": "score.rosetta_atr_rep",
          "natoms": 264,
          "nres": 14,
          "rosetta_relative": 1.0051066086701568,
          "time": 0.0004170900210738182
         },
         {
          "device": "cpu",
          "impl": "rosetta",
          "model": "BYSIZE_15",
          "name": "score.rosetta_atr_rep",
          "natoms": 264,
          "nres": 14,
          "rosetta_relative": 0.9667356746493111,
          "time": 0.00040116719901561737
         },
         {
          "device": "cpu",
          "impl": "rosetta",
          "model": "BYSIZE_15",
          "name": "score.rosetta_atr_rep",
          "natoms": 264,
          "nres": 14,
          "rosetta_relative": 0.9643039669221317,
          "time": 0.0004001581110060215
         },
         {
          "device": "cpu",
          "impl": "rosetta",
          "model": "BYSIZE_15",
          "name": "score.rosetta_atr_rep",
          "natoms": 264,
          "nres": 14,
          "rosetta_relative": 0.9659131357642061,
          "time": 0.0004008258692920208
         },
         {
          "device": "cpu",
          "impl": "rosetta",
          "model": "BYSIZE_15",
          "name": "score.rosetta_atr_rep",
          "natoms": 264,
          "nres": 14,
          "rosetta_relative": 0.9666358029429342,
          "time": 0.000401125755161047
         },
         {
          "device": "cpu",
          "impl": "rosetta",
          "model": "BYSIZE_15",
          "name": "score.rosetta_atr_rep",
          "natoms": 264,
          "nres": 14,
          "rosetta_relative": 0.9858044376432934,
          "time": 0.0004090801812708378
         },
         {
          "device": "cpu",
          "impl": "rosetta",
          "model": "BYSIZE_15",
          "name": "score.rosetta_atr_rep",
          "natoms": 264,
          "nres": 14,
          "rosetta_relative": 0.9717045725800681,
          "time": 0.00040322914719581604
         },
         {
          "device": "cpu",
          "impl": "rosetta",
          "model": "BYSIZE_15",
          "name": "score.rosetta_atr_rep",
          "natoms": 264,
          "nres": 14,
          "rosetta_relative": 0.9661330779490364,
          "time": 0.0004009171389043331
         },
         {
          "device": "cpu",
          "impl": "rosetta",
          "model": "BYSIZE_15",
          "name": "score.rosetta_atr_rep",
          "natoms": 264,
          "nres": 14,
          "rosetta_relative": 0.967548114148378,
          "time": 0.0004015043377876282
         },
         {
          "device": "cpu",
          "impl": "rosetta",
          "model": "BYSIZE_15",
          "name": "score.rosetta_atr_rep",
          "natoms": 264,
          "nres": 14,
          "rosetta_relative": 0.9654081664623,
          "time": 0.0004006163217127323
         },
         {
          "device": "cpu",
          "impl": "rosetta",
          "model": "BYSIZE_15",
          "name": "score.rosetta_atr_rep",
          "natoms": 264,
          "nres": 14,
          "rosetta_relative": 0.9654317316963889,
          "time": 0.0004006261005997658
         },
         {
          "device": "cpu",
          "impl": "rosetta",
          "model": "BYSIZE_15",
          "name": "score.rosetta_atr_rep",
          "natoms": 264,
          "nres": 14,
          "rosetta_relative": 0.9652073008955417,
          "time": 0.00040053296834230423
         },
         {
          "device": "cpu",
          "impl": "rosetta",
          "model": "BYSIZE_15",
          "name": "score.rosetta_atr_rep",
          "natoms": 264,
          "nres": 14,
          "rosetta_relative": 0.9664506475322352,
          "time": 0.0004010489210486412
         },
         {
          "device": "cpu",
          "impl": "rosetta",
          "model": "BYSIZE_15",
          "name": "score.rosetta_atr_rep",
          "natoms": 264,
          "nres": 14,
          "rosetta_relative": 0.9668366685096924,
          "time": 0.00040120910853147507
         },
         {
          "device": "cpu",
          "impl": "rosetta",
          "model": "BYSIZE_15",
          "name": "score.rosetta_atr_rep",
          "natoms": 264,
          "nres": 14,
          "rosetta_relative": 0.9635296806592089,
          "time": 0.00039983680471777916
         },
         {
          "device": "cpu",
          "impl": "rosetta",
          "model": "BYSIZE_15",
          "name": "score.rosetta_atr_rep",
          "natoms": 264,
          "nres": 14,
          "rosetta_relative": 0.9776059804883452,
          "time": 0.00040567805990576744
         },
         {
          "device": "cpu",
          "impl": "rosetta",
          "model": "BYSIZE_15",
          "name": "score.rosetta_atr_rep",
          "natoms": 264,
          "nres": 14,
          "rosetta_relative": 0.9680194188301571,
          "time": 0.0004016999155282974
         },
         {
          "device": "cpu",
          "impl": "rosetta",
          "model": "BYSIZE_15",
          "name": "score.rosetta_atr_rep",
          "natoms": 264,
          "nres": 14,
          "rosetta_relative": 0.9662610035055194,
          "time": 0.0004009702242910862
         },
         {
          "device": "cpu",
          "impl": "rosetta",
          "model": "BYSIZE_15",
          "name": "score.rosetta_atr_rep",
          "natoms": 264,
          "nres": 14,
          "rosetta_relative": 0.968370653033483,
          "time": 0.00040184566751122475
         },
         {
          "device": "cpu",
          "impl": "rosetta",
          "model": "BYSIZE_15",
          "name": "score.rosetta_atr_rep",
          "natoms": 264,
          "nres": 14,
          "rosetta_relative": 0.9668243248156457,
          "time": 0.0004012039862573147
         },
         {
          "device": "cpu",
          "impl": "rosetta",
          "model": "BYSIZE_15",
          "name": "score.rosetta_atr_rep",
          "natoms": 264,
          "nres": 14,
          "rosetta_relative": 0.9664674798422987,
          "time": 0.0004010559059679508
         },
         {
          "device": "cpu",
          "impl": "rosetta",
          "model": "BYSIZE_15",
          "name": "score.rosetta_atr_rep",
          "natoms": 264,
          "nres": 14,
          "rosetta_relative": 0.9631515147597813,
          "time": 0.00039967987686395645
         },
         {
          "device": "cpu",
          "impl": "rosetta",
          "model": "BYSIZE_15",
          "name": "score.rosetta_atr_rep",
          "natoms": 264,
          "nres": 14,
          "rosetta_relative": 0.9637541114600561,
          "time": 0.0003999299369752407
         },
         {
          "device": "cpu",
          "impl": "rosetta",
          "model": "BYSIZE_15",
          "name": "score.rosetta_atr_rep",
          "natoms": 264,
          "nres": 14,
          "rosetta_relative": 0.9644217930925765,
          "time": 0.0004002070054411888
         },
         {
          "device": "cpu",
          "impl": "rosetta",
          "model": "BYSIZE_15",
          "name": "score.rosetta_atr_rep",
          "natoms": 264,
          "nres": 14,
          "rosetta_relative": 0.9644599463287206,
          "time": 0.0004002228379249573
         },
         {
          "device": "cpu",
          "impl": "rosetta",
          "model": "BYSIZE_15",
          "name": "score.rosetta_atr_rep",
          "natoms": 264,
          "nres": 14,
          "rosetta_relative": 0.9757409605333051,
          "time": 0.000404904130846262
         },
         {
          "device": "cpu",
          "impl": "rosetta",
          "model": "BYSIZE_15",
          "name": "score.rosetta_atr_rep",
          "natoms": 264,
          "nres": 14,
          "rosetta_relative": 0.9666896663351374,
          "time": 0.00040114810690283775
         },
         {
          "device": "cpu",
          "impl": "rosetta",
          "model": "BYSIZE_15",
          "name": "score.rosetta_atr_rep",
          "natoms": 264,
          "nres": 14,
          "rosetta_relative": 0.9645564515730848,
          "time": 0.00040026288479566574
         },
         {
          "device": "cpu",
          "impl": "rosetta",
          "model": "BYSIZE_15",
          "name": "score.rosetta_atr_rep",
          "natoms": 264,
          "nres": 14,
          "rosetta_relative": 0.963886525632556,
          "time": 0.000399984885007143
         },
         {
          "device": "cpu",
          "impl": "rosetta",
          "model": "BYSIZE_15",
          "name": "score.rosetta_atr_rep",
          "natoms": 264,
          "nres": 14,
          "rosetta_relative": 0.9629237174969214,
          "time": 0.000399585347622633
         },
         {
          "device": "cpu",
          "impl": "rosetta",
          "model": "BYSIZE_15",
          "name": "score.rosetta_atr_rep",
          "natoms": 264,
          "nres": 14,
          "rosetta_relative": 0.9614076874371986,
          "time": 0.0003989562392234802
         },
         {
          "device": "cpu",
          "impl": "rosetta",
          "model": "BYSIZE_15",
          "name": "score.rosetta_atr_rep",
          "natoms": 264,
          "nres": 14,
          "rosetta_relative": 0.9604168254514582,
          "time": 0.0003985450603067875
         },
         {
          "device": "cpu",
          "impl": "rosetta",
          "model": "BYSIZE_15",
          "name": "score.rosetta_atr_rep",
          "natoms": 264,
          "nres": 14,
          "rosetta_relative": 0.9612124326404615,
          "time": 0.0003988752141594887
         },
         {
          "device": "cpu",
          "impl": "rosetta",
          "model": "BYSIZE_15",
          "name": "score.rosetta_atr_rep",
          "natoms": 264,
          "nres": 14,
          "rosetta_relative": 0.9662677364295448,
          "time": 0.00040097301825881004
         },
         {
          "device": "cpu",
          "impl": "rosetta",
          "model": "BYSIZE_15",
          "name": "score.rosetta_atr_rep",
          "natoms": 264,
          "nres": 14,
          "rosetta_relative": 0.9643567081603308,
          "time": 0.00040017999708652496
         },
         {
          "device": "cpu",
          "impl": "rosetta",
          "model": "BYSIZE_15",
          "name": "score.rosetta_atr_rep",
          "natoms": 264,
          "nres": 14,
          "rosetta_relative": 0.9892763821323995,
          "time": 0.00041052093729376793
         },
         {
          "device": "cpu",
          "impl": "rosetta",
          "model": "BYSIZE_15",
          "name": "score.rosetta_atr_rep",
          "natoms": 264,
          "nres": 14,
          "rosetta_relative": 0.9678365077274667,
          "time": 0.00040162401273846626
         },
         {
          "device": "cpu",
          "impl": "rosetta",
          "model": "BYSIZE_15",
          "name": "score.rosetta_atr_rep",
          "natoms": 264,
          "nres": 14,
          "rosetta_relative": 0.9657369575855411,
          "time": 0.0004007527604699135
         },
         {
          "device": "cpu",
          "impl": "rosetta",
          "model": "BYSIZE_15",
          "name": "score.rosetta_atr_rep",
          "natoms": 264,
          "nres": 14,
          "rosetta_relative": 0.9625197420553965,
          "time": 0.0003994177095592022
         },
         {
          "device": "cpu",
          "impl": "rosetta",
          "model": "BYSIZE_15",
          "name": "score.rosetta_atr_rep",
          "natoms": 264,
          "nres": 14,
          "rosetta_relative": 0.96460021557925,
          "time": 0.00040028104558587074
         },
         {
          "device": "cpu",
          "impl": "rosetta",
          "model": "BYSIZE_15",
          "name": "score.rosetta_atr_rep",
          "natoms": 264,
          "nres": 14,
          "rosetta_relative": 0.9649828700946945,
          "time": 0.0004004398360848427
         },
         {
          "device": "cpu",
          "impl": "rosetta",
          "model": "BYSIZE_15",
          "name": "score.rosetta_atr_rep",
          "natoms": 264,
          "nres": 14,
          "rosetta_relative": 0.9650546879509656,
          "time": 0.0004004696384072304
         },
         {
          "device": "cpu",
          "impl": "rosetta",
          "model": "BYSIZE_15",
          "name": "score.rosetta_atr_rep",
          "natoms": 264,
          "nres": 14,
          "rosetta_relative": 0.9664607469182733,
          "time": 0.000401053112000227
         },
         {
          "device": "cpu",
          "impl": "rosetta",
          "model": "BYSIZE_15",
          "name": "score.rosetta_atr_rep",
          "natoms": 264,
          "nres": 14,
          "rosetta_relative": 0.9653644024561348,
          "time": 0.0004005981609225273
         },
         {
          "device": "cpu",
          "impl": "rosetta",
          "model": "BYSIZE_15",
          "name": "score.rosetta_atr_rep",
          "natoms": 264,
          "nres": 14,
          "rosetta_relative": 0.9764580169420118,
          "time": 0.0004052016884088516
         },
         {
          "device": "cpu",
          "impl": "rosetta",
          "model": "BYSIZE_15",
          "name": "score.rosetta_atr_rep",
          "natoms": 264,
          "nres": 14,
          "rosetta_relative": 0.9661353222570449,
          "time": 0.00040091807022690773
         },
         {
          "device": "cpu",
          "impl": "rosetta",
          "model": "BYSIZE_15",
          "name": "score.rosetta_atr_rep",
          "natoms": 264,
          "nres": 14,
          "rosetta_relative": 0.9626835765400149,
          "time": 0.0003994856961071491
         },
         {
          "device": "cpu",
          "impl": "rosetta",
          "model": "BYSIZE_15",
          "name": "score.rosetta_atr_rep",
          "natoms": 264,
          "nres": 14,
          "rosetta_relative": 0.9631750799938703,
          "time": 0.0003996896557509899
         },
         {
          "device": "cpu",
          "impl": "rosetta",
          "model": "BYSIZE_15",
          "name": "score.rosetta_atr_rep",
          "natoms": 264,
          "nres": 14,
          "rosetta_relative": 0.9642097059857759,
          "time": 0.00040011899545788765
         },
         {
          "device": "cpu",
          "impl": "rosetta",
          "model": "BYSIZE_15",
          "name": "score.rosetta_atr_rep",
          "natoms": 264,
          "nres": 14,
          "rosetta_relative": 0.9631043842916035,
          "time": 0.0003996603190898895
         },
         {
          "device": "cpu",
          "impl": "rosetta",
          "model": "BYSIZE_15",
          "name": "score.rosetta_atr_rep",
          "natoms": 264,
          "nres": 14,
          "rosetta_relative": 0.9621954395481723,
          "time": 0.00039928313344717026
         },
         {
          "device": "cpu",
          "impl": "rosetta",
          "model": "BYSIZE_15",
          "name": "score.rosetta_atr_rep",
          "natoms": 264,
          "nres": 14,
          "rosetta_relative": 1.004218984852806,
          "time": 0.0004167216829955578
         },
         {
          "device": "cpu",
          "impl": "rosetta",
          "model": "BYSIZE_15",
          "name": "score.rosetta_atr_rep",
          "natoms": 264,
          "nres": 14,
          "rosetta_relative": 0.9688845995674231,
          "time": 0.0004020589403808117
         },
         {
          "device": "cpu",
          "impl": "rosetta",
          "model": "BYSIZE_15",
          "name": "score.rosetta_atr_rep",
          "natoms": 264,
          "nres": 14,
          "rosetta_relative": 0.9632435313881287,
          "time": 0.0003997180610895157
         },
         {
          "device": "cpu",
          "impl": "rosetta",
          "model": "BYSIZE_15",
          "name": "score.rosetta_atr_rep",
          "natoms": 264,
          "nres": 14,
          "rosetta_relative": 0.972193831725915,
          "time": 0.0004034321755170822
         },
         {
          "device": "cpu",
          "impl": "rosetta",
          "model": "BYSIZE_15",
          "name": "score.rosetta_atr_rep",
          "natoms": 264,
          "nres": 14,
          "rosetta_relative": 0.9639471219487847,
          "time": 0.00040001003071665764
         },
         {
          "device": "cpu",
          "impl": "rosetta",
          "model": "BYSIZE_15",
          "name": "score.rosetta_atr_rep",
          "natoms": 264,
          "nres": 14,
          "rosetta_relative": 0.965303806139906,
          "time": 0.0004005730152130127
         },
         {
          "device": "cpu",
          "impl": "rosetta",
          "model": "BYSIZE_15",
          "name": "score.rosetta_atr_rep",
          "natoms": 264,
          "nres": 14,
          "rosetta_relative": 0.962897907954824,
          "time": 0.0003995746374130249
         },
         {
          "device": "cpu",
          "impl": "rosetta",
          "model": "BYSIZE_15",
          "name": "score.rosetta_atr_rep",
          "natoms": 264,
          "nres": 14,
          "rosetta_relative": 0.9629349390369638,
          "time": 0.00039959000423550606
         },
         {
          "device": "cpu",
          "impl": "rosetta",
          "model": "BYSIZE_15",
          "name": "score.rosetta_atr_rep",
          "natoms": 264,
          "nres": 14,
          "rosetta_relative": 0.9623256094126637,
          "time": 0.00039933715015649796
         },
         {
          "device": "cpu",
          "impl": "rosetta",
          "model": "BYSIZE_15",
          "name": "score.rosetta_atr_rep",
          "natoms": 264,
          "nres": 14,
          "rosetta_relative": 0.9657066594274267,
          "time": 0.0004007401876151562
         },
         {
          "device": "cpu",
          "impl": "rosetta",
          "model": "BYSIZE_15",
          "name": "score.rosetta_atr_rep",
          "natoms": 264,
          "nres": 14,
          "rosetta_relative": 0.9668030038895653,
          "time": 0.00040119513869285583
         },
         {
          "device": "cpu",
          "impl": "rosetta",
          "model": "BYSIZE_15",
          "name": "score.rosetta_atr_rep",
          "natoms": 264,
          "nres": 14,
          "rosetta_relative": 0.9644745343307756,
          "time": 0.0004002288915216923
         },
         {
          "device": "cpu",
          "impl": "rosetta",
          "model": "BYSIZE_15",
          "name": "score.rosetta_atr_rep",
          "natoms": 264,
          "nres": 14,
          "rosetta_relative": 0.9619092902770922,
          "time": 0.0003991643898189068
         },
         {
          "device": "cpu",
          "impl": "rosetta",
          "model": "BYSIZE_15",
          "name": "score.rosetta_atr_rep",
          "natoms": 264,
          "nres": 14,
          "rosetta_relative": 0.9868446744052202,
          "time": 0.00040951184928417206
         },
         {
          "device": "cpu",
          "impl": "rosetta",
          "model": "BYSIZE_15",
          "name": "score.rosetta_atr_rep",
          "natoms": 264,
          "nres": 14,
          "rosetta_relative": 0.9689115312635247,
          "time": 0.0004020701162517071
         },
         {
          "device": "cpu",
          "impl": "rosetta",
          "model": "BYSIZE_15",
          "name": "score.rosetta_atr_rep",
          "natoms": 264,
          "nres": 14,
          "rosetta_relative": 0.9629540156550358,
          "time": 0.0003995979204773903
         },
         {
          "device": "cpu",
          "impl": "rosetta",
          "model": "BYSIZE_15",
          "name": "score.rosetta_atr_rep",
          "natoms": 264,
          "nres": 14,
          "rosetta_relative": 0.9642299047578522,
          "time": 0.0004001273773610592
         },
         {
          "device": "cpu",
          "impl": "rosetta",
          "model": "BYSIZE_15",
          "name": "score.rosetta_atr_rep",
          "natoms": 264,
          "nres": 14,
          "rosetta_relative": 0.964296111844102,
          "time": 0.00040015485137701035
         },
         {
          "device": "cpu",
          "impl": "rosetta",
          "model": "BYSIZE_15",
          "name": "score.rosetta_atr_rep",
          "natoms": 264,
          "nres": 14,
          "rosetta_relative": 0.9652432098236773,
          "time": 0.0004005478695034981
         },
         {
          "device": "cpu",
          "impl": "rosetta",
          "model": "BYSIZE_15",
          "name": "score.rosetta_atr_rep",
          "natoms": 264,
          "nres": 14,
          "rosetta_relative": 0.962260524480418,
          "time": 0.0003993101418018341
         },
         {
          "device": "cpu",
          "impl": "rosetta",
          "model": "BYSIZE_15",
          "name": "score.rosetta_atr_rep",
          "natoms": 264,
          "nres": 14,
          "rosetta_relative": 0.9633546246345481,
          "time": 0.00039976416155695915
         },
         {
          "device": "cpu",
          "impl": "rosetta",
          "model": "BYSIZE_15",
          "name": "score.rosetta_atr_rep",
          "natoms": 264,
          "nres": 14,
          "rosetta_relative": 0.9645979712712416,
          "time": 0.00040028011426329613
         },
         {
          "device": "cpu",
          "impl": "rosetta",
          "model": "BYSIZE_15",
          "name": "score.rosetta_atr_rep",
          "natoms": 264,
          "nres": 14,
          "rosetta_relative": 0.9630112455092519,
          "time": 0.000399621669203043
         },
         {
          "device": "cpu",
          "impl": "rosetta",
          "model": "BYSIZE_15",
          "name": "score.rosetta_atr_rep",
          "natoms": 264,
          "nres": 14,
          "rosetta_relative": 0.9752135481513141,
          "time": 0.00040468527004122734
         },
         {
          "device": "cpu",
          "impl": "rosetta",
          "model": "BYSIZE_15",
          "name": "score.rosetta_atr_rep",
          "natoms": 264,
          "nres": 14,
          "rosetta_relative": 0.964961549168614,
          "time": 0.00040043098852038383
         },
         {
          "device": "cpu",
          "impl": "rosetta",
          "model": "BYSIZE_15",
          "name": "score.rosetta_atr_rep",
          "natoms": 264,
          "nres": 14,
          "rosetta_relative": 0.9635734446653741,
          "time": 0.00039985496550798416
         },
         {
          "device": "cpu",
          "impl": "rosetta",
          "model": "BYSIZE_15",
          "name": "score.rosetta_atr_rep",
          "natoms": 264,
          "nres": 14,
          "rosetta_relative": 0.9627666159363284,
          "time": 0.0003995201550424099
         },
         {
          "device": "cpu",
          "impl": "rosetta",
          "model": "BYSIZE_15",
          "name": "score.rosetta_atr_rep",
          "natoms": 264,
          "nres": 14,
          "rosetta_relative": 0.961357190507008,
          "time": 0.0003989352844655514
         },
         {
          "device": "cpu",
          "impl": "rosetta",
          "model": "BYSIZE_15",
          "name": "score.rosetta_atr_rep",
          "natoms": 264,
          "nres": 14,
          "rosetta_relative": 0.9611204160121142,
          "time": 0.00039883702993392944
         },
         {
          "device": "cpu",
          "impl": "rosetta",
          "model": "BYSIZE_15",
          "name": "score.rosetta_atr_rep",
          "natoms": 264,
          "nres": 14,
          "rosetta_relative": 0.9613033271148047,
          "time": 0.0003989129327237606
         },
         {
          "device": "cpu",
          "impl": "rosetta",
          "model": "BYSIZE_15",
          "name": "score.rosetta_atr_rep",
          "natoms": 264,
          "nres": 14,
          "rosetta_relative": 0.963173957839866,
          "time": 0.0003996891900897026
         },
         {
          "device": "cpu",
          "impl": "rosetta",
          "model": "BYSIZE_15",
          "name": "score.rosetta_atr_rep",
          "natoms": 264,
          "nres": 14,
          "rosetta_relative": 0.9626241023777904,
          "time": 0.0003994610160589218
         },
         {
          "device": "cpu",
          "impl": "rosetta",
          "model": "BYSIZE_15",
          "name": "score.rosetta_atr_rep",
          "natoms": 264,
          "nres": 14,
          "rosetta_relative": 0.9617634102565414,
          "time": 0.0003991038538515568
         },
         {
          "device": "cpu",
          "impl": "rosetta",
          "model": "BYSIZE_15",
          "name": "score.rosetta_atr_rep",
          "natoms": 264,
          "nres": 14,
          "rosetta_relative": 0.9754110472560596,
          "time": 0.0004047672264277935
         },
         {
          "device": "cpu",
          "impl": "rosetta",
          "model": "BYSIZE_15",
          "name": "score.rosetta_atr_rep",
          "natoms": 264,
          "nres": 14,
          "rosetta_relative": 0.9625859491416464,
          "time": 0.00039944518357515335
         },
         {
          "device": "cpu",
          "impl": "rosetta",
          "model": "BYSIZE_15",
          "name": "score.rosetta_atr_rep",
          "natoms": 264,
          "nres": 14,
          "rosetta_relative": 0.9668748217458364,
          "time": 0.00040122494101524353
         },
         {
          "device": "cpu",
          "impl": "rosetta",
          "model": "BYSIZE_15",
          "name": "score.rosetta_atr_rep",
          "natoms": 264,
          "nres": 14,
          "rosetta_relative": 0.9615468345337239,
          "time": 0.0003990139812231064
         },
         {
          "device": "cpu",
          "impl": "rosetta",
          "model": "BYSIZE_15",
          "name": "score.rosetta_atr_rep",
          "natoms": 264,
          "nres": 14,
          "rosetta_relative": 0.9625208642094008,
          "time": 0.0003994181752204895
         },
         {
          "device": "cpu",
          "impl": "rosetta",
          "model": "BYSIZE_15",
          "name": "score.rosetta_atr_rep",
          "natoms": 264,
          "nres": 14,
          "rosetta_relative": 0.9602473801968185,
          "time": 0.000398474745452404
         },
         {
          "device": "cpu",
          "impl": "rosetta",
          "model": "BYSIZE_15",
          "name": "score.rosetta_atr_rep",
          "natoms": 264,
          "nres": 14,
          "rosetta_relative": 0.9650389777949063,
          "time": 0.00040046311914920807
         },
         {
          "device": "cpu",
          "impl": "rosetta",
          "model": "BYSIZE_15",
          "name": "score.rosetta_atr_rep",
          "natoms": 264,
          "nres": 14,
          "rosetta_relative": 0.9649447168585504,
          "time": 0.0004004240036010742
         },
         {
          "device": "cpu",
          "impl": "rosetta",
          "model": "BYSIZE_15",
          "name": "score.rosetta_atr_rep",
          "natoms": 264,
          "nres": 14,
          "rosetta_relative": 0.9640267948830854,
          "time": 0.0004000430926680565
         },
         {
          "device": "cpu",
          "impl": "rosetta",
          "model": "BYSIZE_15",
          "name": "score.rosetta_atr_rep",
          "natoms": 264,
          "nres": 14,
          "rosetta_relative": 0.9648381122281481,
          "time": 0.00040037976577878
         },
         {
          "device": "cpu",
          "impl": "rosetta",
          "model": "BYSIZE_15",
          "name": "score.rosetta_atr_rep",
          "natoms": 264,
          "nres": 14,
          "rosetta_relative": 0.9816345133635525,
          "time": 0.0004073497839272022
         },
         {
          "device": "cpu",
          "impl": "rosetta",
          "model": "BYSIZE_15",
          "name": "score.rosetta_atr_rep",
          "natoms": 264,
          "nres": 14,
          "rosetta_relative": 0.9665830617047351,
          "time": 0.0004011038690805435
         },
         {
          "device": "cpu",
          "impl": "rosetta",
          "model": "BYSIZE_15",
          "name": "score.rosetta_atr_rep",
          "natoms": 264,
          "nres": 14,
          "rosetta_relative": 0.967086908852637,
          "time": 0.0004013129509985447
         },
         {
          "device": "cpu",
          "impl": "rosetta",
          "model": "BYSIZE_15",
          "name": "score.rosetta_atr_rep",
          "natoms": 264,
          "nres": 14,
          "rosetta_relative": 0.9625590174455447,
          "time": 0.00039943400770425797
         },
         {
          "device": "cpu",
          "impl": "rosetta",
          "model": "BYSIZE_15",
          "name": "score.rosetta_atr_rep",
          "natoms": 264,
          "nres": 14,
          "rosetta_relative": 0.9622167604742528,
          "time": 0.0003992919810116291
         },
         {
          "device": "cpu",
          "impl": "rosetta",
          "model": "BYSIZE_15",
          "name": "score.rosetta_atr_rep",
          "natoms": 264,
          "nres": 14,
          "rosetta_relative": 0.963548757277281,
          "time": 0.0003998447209596634
         },
         {
          "device": "cpu",
          "impl": "rosetta",
          "model": "BYSIZE_15",
          "name": "score.rosetta_atr_rep",
          "natoms": 264,
          "nres": 14,
          "rosetta_relative": 0.9995160374210531,
          "time": 0.00041477009654045105
         },
         {
          "device": "cpu",
          "impl": "rosetta",
          "model": "BYSIZE_15",
          "name": "score.rosetta_atr_rep",
          "natoms": 264,
          "nres": 14,
          "rosetta_relative": 0.9677893772592887,
          "time": 0.00040160445496439934
         },
         {
          "device": "cpu",
          "impl": "rosetta",
          "model": "BYSIZE_15",
          "name": "score.rosetta_atr_rep",
          "natoms": 264,
          "nres": 14,
          "rosetta_relative": 0.9636194529795478,
          "time": 0.0003998740576207638
         },
         {
          "device": "cpu",
          "impl": "rosetta",
          "model": "BYSIZE_15",
          "name": "score.rosetta_atr_rep",
          "natoms": 264,
          "nres": 14,
          "rosetta_relative": 0.9631750799938703,
          "time": 0.0003996896557509899
         },
         {
          "device": "cpu",
          "impl": "rosetta",
          "model": "BYSIZE_15",
          "name": "score.rosetta_atr_rep",
          "natoms": 264,
          "nres": 14,
          "rosetta_relative": 0.9755816146647035,
          "time": 0.0004048380069434643
         },
         {
          "device": "cpu",
          "impl": "rosetta",
          "model": "BYSIZE_15",
          "name": "score.rosetta_atr_rep",
          "natoms": 264,
          "nres": 14,
          "rosetta_relative": 0.9639347782547381,
          "time": 0.00040000490844249725
         },
         {
          "device": "cpu",
          "impl": "rosetta",
          "model": "BYSIZE_15",
          "name": "score.rosetta_atr_rep",
          "natoms": 264,
          "nres": 14,
          "rosetta_relative": 0.9646888657455847,
          "time": 0.00040031783282756805
         },
         {
          "device": "cpu",
          "impl": "rosetta",
          "model": "BYSIZE_15",
          "name": "score.rosetta_atr_rep",
          "natoms": 264,
          "nres": 14,
          "rosetta_relative": 0.9626835765400149,
          "time": 0.0003994856961071491
         },
         {
          "device": "cpu",
          "impl": "rosetta",
          "model": "BYSIZE_15",
          "name": "score.rosetta_atr_rep",
          "natoms": 264,
          "nres": 14,
          "rosetta_relative": 0.9641547204395683,
          "time": 0.00040009617805480957
         },
         {
          "device": "cpu",
          "impl": "rosetta",
          "model": "BYSIZE_15",
          "name": "score.rosetta_atr_rep",
          "natoms": 264,
          "nres": 14,
          "rosetta_relative": 0.9642209275258182,
          "time": 0.0004001236520707607
         },
         {
          "device": "cpu",
          "impl": "rosetta",
          "model": "BYSIZE_15",
          "name": "score.rosetta_atr_rep",
          "natoms": 264,
          "nres": 14,
          "rosetta_relative": 0.9632457756961372,
          "time": 0.0003997189924120903
         },
         {
          "device": "cpu",
          "impl": "rosetta",
          "model": "BYSIZE_15",
          "name": "score.rosetta_atr_rep",
          "natoms": 264,
          "nres": 14,
          "rosetta_relative": 0.961200088946415,
          "time": 0.0003988700918853283
         },
         {
          "device": "cpu",
          "impl": "rosetta",
          "model": "BYSIZE_15",
          "name": "score.rosetta_atr_rep",
          "natoms": 264,
          "nres": 14,
          "rosetta_relative": 0.9611855009443598,
          "time": 0.0003988640382885933
         },
         {
          "device": "cpu",
          "impl": "rosetta",
          "model": "BYSIZE_15",
          "name": "score.rosetta_atr_rep",
          "natoms": 264,
          "nres": 14,
          "rosetta_relative": 0.9651309944232537,
          "time": 0.0004005013033747673
         },
         {
          "device": "cpu",
          "impl": "rosetta",
          "model": "BYSIZE_15",
          "name": "score.rosetta_atr_rep",
          "natoms": 264,
          "nres": 14,
          "rosetta_relative": 0.9710458681795816,
          "time": 0.0004029558040201664
         },
         {
          "device": "cpu",
          "impl": "rosetta",
          "model": "BYSIZE_15",
          "name": "score.rosetta_atr_rep",
          "natoms": 264,
          "nres": 14,
          "rosetta_relative": 0.9650524436429572,
          "time": 0.00040046870708465576
         },
         {
          "device": "cpu",
          "impl": "rosetta",
          "model": "BYSIZE_15",
          "name": "score.rosetta_atr_rep",
          "natoms": 264,
          "nres": 14,
          "rosetta_relative": 0.9615176585296138,
          "time": 0.0003990018740296364
         },
         {
          "device": "cpu",
          "impl": "rosetta",
          "model": "BYSIZE_15",
          "name": "score.rosetta_atr_rep",
          "natoms": 264,
          "nres": 14,
          "rosetta_relative": 0.9620652696836809,
          "time": 0.00039922911673784256
         },
         {
          "device": "cpu",
          "impl": "rosetta",
          "model": "BYSIZE_15",
          "name": "score.rosetta_atr_rep",
          "natoms": 264,
          "nres": 14,
          "rosetta_relative": 0.9620428266035962,
          "time": 0.0003992198035120964
         },
         {
          "device": "cpu",
          "impl": "rosetta",
          "model": "BYSIZE_15",
          "name": "score.rosetta_atr_rep",
          "natoms": 264,
          "nres": 14,
          "rosetta_relative": 0.9619945739814141,
          "time": 0.00039919978007674217
         },
         {
          "device": "cpu",
          "impl": "rosetta",
          "model": "BYSIZE_15",
          "name": "score.rosetta_atr_rep",
          "natoms": 264,
          "nres": 14,
          "rosetta_relative": 0.9619317333571769,
          "time": 0.00039917370304465294
         },
         {
          "device": "cpu",
          "impl": "rosetta",
          "model": "BYSIZE_15",
          "name": "score.rosetta_atr_rep",
          "natoms": 264,
          "nres": 14,
          "rosetta_relative": 0.9626465454578752,
          "time": 0.00039947032928466797
         },
         {
          "device": "cpu",
          "impl": "rosetta",
          "model": "BYSIZE_15",
          "name": "score.rosetta_atr_rep",
          "natoms": 264,
          "nres": 14,
          "rosetta_relative": 0.9609880018396143,
          "time": 0.00039878208190202713
         },
         {
          "device": "cpu",
          "impl": "rosetta",
          "model": "BYSIZE_15",
          "name": "score.rosetta_atr_rep",
          "natoms": 264,
          "nres": 14,
          "rosetta_relative": 0.9627666159363284,
          "time": 0.0003995201550424099
         },
         {
          "device": "cpu",
          "impl": "rosetta",
          "model": "BYSIZE_15",
          "name": "score.rosetta_atr_rep",
          "natoms": 264,
          "nres": 14,
          "rosetta_relative": 1.002378652285859,
          "time": 0.0004159579984843731
         },
         {
          "device": "cpu",
          "impl": "rosetta",
          "model": "BYSIZE_15",
          "name": "score.rosetta_atr_rep",
          "natoms": 264,
          "nres": 14,
          "rosetta_relative": 0.9737188390176718,
          "time": 0.00040406500920653343
         },
         {
          "device": "cpu",
          "impl": "rosetta",
          "model": "BYSIZE_15",
          "name": "score.rosetta_atr_rep",
          "natoms": 264,
          "nres": 14,
          "rosetta_relative": 0.9642478592219199,
          "time": 0.0004001348279416561
         },
         {
          "device": "cpu",
          "impl": "rosetta",
          "model": "BYSIZE_15",
          "name": "score.rosetta_atr_rep",
          "natoms": 264,
          "nres": 14,
          "rosetta_relative": 0.962265013096435,
          "time": 0.00039931200444698334
         },
         {
          "device": "cpu",
          "impl": "rosetta",
          "model": "BYSIZE_15",
          "name": "score.rosetta_atr_rep",
          "natoms": 264,
          "nres": 14,
          "rosetta_relative": 0.9616298739300373,
          "time": 0.00039904844015836716
         },
         {
          "device": "cpu",
          "impl": "rosetta",
          "model": "BYSIZE_15",
          "name": "score.rosetta_atr_rep",
          "natoms": 264,
          "nres": 14,
          "rosetta_relative": 0.964443114018657,
          "time": 0.00040021585300564766
         },
         {
          "device": "cpu",
          "impl": "rosetta",
          "model": "BYSIZE_15",
          "name": "score.rosetta_atr_rep",
          "natoms": 264,
          "nres": 14,
          "rosetta_relative": 0.9641019792013692,
          "time": 0.0004000742919743061
         },
         {
          "device": "cpu",
          "impl": "rosetta",
          "model": "BYSIZE_15",
          "name": "score.rosetta_atr_rep",
          "natoms": 264,
          "nres": 14,
          "rosetta_relative": 0.9647012094396312,
          "time": 0.00040032295510172844
         },
         {
          "device": "cpu",
          "impl": "rosetta",
          "model": "BYSIZE_15",
          "name": "score.rosetta_atr_rep",
          "natoms": 264,
          "nres": 14,
          "rosetta_relative": 0.9631728356858619,
          "time": 0.0003996887244284153
         },
         {
          "device": "cpu",
          "impl": "rosetta",
          "model": "BYSIZE_15",
          "name": "score.rosetta_atr_rep",
          "natoms": 264,
          "nres": 14,
          "rosetta_relative": 0.9618442053448464,
          "time": 0.00039913738146424294
         },
         {
          "device": "cpu",
          "impl": "rosetta",
          "model": "BYSIZE_15",
          "name": "score.rosetta_atr_rep",
          "natoms": 264,
          "nres": 14,
          "rosetta_relative": 0.9765511557243634,
          "time": 0.00040524033829569817
         },
         {
          "device": "cpu",
          "impl": "rosetta",
          "model": "BYSIZE_15",
          "name": "score.rosetta_atr_rep",
          "natoms": 264,
          "nres": 14,
          "rosetta_relative": 0.9629012744168367,
          "time": 0.0003995760343968868
         },
         {
          "device": "cpu",
          "impl": "rosetta",
          "model": "BYSIZE_15",
          "name": "score.rosetta_atr_rep",
          "natoms": 264,
          "nres": 14,
          "rosetta_relative": 0.9629686036570909,
          "time": 0.0003996039740741253
         },
         {
          "device": "cpu",
          "impl": "rosetta",
          "model": "BYSIZE_15",
          "name": "score.rosetta_atr_rep",
          "natoms": 264,
          "nres": 14,
          "rosetta_relative": 0.9646529568174491,
          "time": 0.0004003029316663742
         },
         {
          "device": "cpu",
          "impl": "rosetta",
          "model": "BYSIZE_15",
          "name": "score.rosetta_atr_rep",
          "natoms": 264,
          "nres": 14,
          "rosetta_relative": 0.9628485331786376,
          "time": 0.00039955414831638336
         },
         {
          "device": "cpu",
          "impl": "rosetta",
          "model": "BYSIZE_15",
          "name": "score.rosetta_atr_rep",
          "natoms": 264,
          "nres": 14,
          "rosetta_relative": 0.9612988384987877,
          "time": 0.0003989110700786114
         },
         {
          "device": "cpu",
          "impl": "rosetta",
          "model": "BYSIZE_15",
          "name": "score.rosetta_atr_rep",
          "natoms": 264,
          "nres": 14,
          "rosetta_relative": 0.9619586650532785,
          "time": 0.0003991848789155483
         },
         {
          "device": "cpu",
          "impl": "rosetta",
          "model": "BYSIZE_15",
          "name": "score.rosetta_atr_rep",
          "natoms": 264,
          "nres": 14,
          "rosetta_relative": 0.9628126242505021,
          "time": 0.0003995392471551895
         },
         {
          "device": "cpu",
          "impl": "rosetta",
          "model": "BYSIZE_15",
          "name": "score.rosetta_atr_rep",
          "natoms": 264,
          "nres": 14,
          "rosetta_relative": 0.9621685078520706,
          "time": 0.00039927195757627487
         },
         {
          "device": "cpu",
          "impl": "rosetta",
          "model": "BYSIZE_15",
          "name": "score.rosetta_atr_rep",
          "natoms": 264,
          "nres": 14,
          "rosetta_relative": 0.9619900853653971,
          "time": 0.00039919791743159294
         },
         {
          "device": "cpu",
          "impl": "rosetta",
          "model": "BYSIZE_15",
          "name": "score.rosetta_atr_rep",
          "natoms": 264,
          "nres": 14,
          "rosetta_relative": 1.008080316781382,
          "time": 0.0004183240234851837
         },
         {
          "device": "cpu",
          "impl": "rosetta",
          "model": "BYSIZE_15",
          "name": "score.rosetta_atr_rep",
          "natoms": 264,
          "nres": 14,
          "rosetta_relative": 0.9690203802019356,
          "time": 0.00040211528539657593
         },
         {
          "device": "cpu",
          "impl": "rosetta",
          "model": "BYSIZE_15",
          "name": "score.rosetta_atr_rep",
          "natoms": 264,
          "nres": 14,
          "rosetta_relative": 0.9652925845998637,
          "time": 0.0004005683586001396
         },
         {
          "device": "cpu",
          "impl": "rosetta",
          "model": "BYSIZE_15",
          "name": "score.rosetta_atr_rep",
          "natoms": 264,
          "nres": 14,
          "rosetta_relative": 0.9632985169343363,
          "time": 0.00039974087849259377
         },
         {
          "device": "cpu",
          "impl": "rosetta",
          "model": "BYSIZE_15",
          "name": "score.rosetta_atr_rep",
          "natoms": 264,
          "nres": 14,
          "rosetta_relative": 0.9616601720881517,
          "time": 0.00039906101301312447
         },
         {
          "device": "cpu",
          "impl": "rosetta",
          "model": "BYSIZE_15",
          "name": "score.rosetta_atr_rep",
          "natoms": 264,
          "nres": 14,
          "rosetta_relative": 0.9898161382084371,
          "time": 0.00041074492037296295
         },
         {
          "device": "cpu",
          "impl": "rosetta",
          "model": "BYSIZE_15",
          "name": "score.rosetta_atr_rep",
          "natoms": 264,
          "nres": 14,
          "rosetta_relative": 0.9668501343577433,
          "time": 0.00040121469646692276
         },
         {
          "device": "cpu",
          "impl": "rosetta",
          "model": "BYSIZE_15",
          "name": "score.rosetta_atr_rep",
          "natoms": 264,
          "nres": 14,
          "rosetta_relative": 0.9641973622917293,
          "time": 0.00040011387318372726
         },
         {
          "device": "cpu",
          "impl": "rosetta",
          "model": "BYSIZE_15",
          "name": "score.rosetta_atr_rep",
          "natoms": 264,
          "nres": 14,
          "rosetta_relative": 0.9607568381147418,
          "time": 0.00039868615567684174
         },
         {
          "device": "cpu",
          "impl": "rosetta",
          "model": "BYSIZE_15",
          "name": "score.rosetta_atr_rep",
          "natoms": 264,
          "nres": 14,
          "rosetta_relative": 0.9634387861848658,
          "time": 0.00039979908615350723
         },
         {
          "device": "cpu",
          "impl": "rosetta",
          "model": "BYSIZE_15",
          "name": "score.rosetta_atr_rep",
          "natoms": 264,
          "nres": 14,
          "rosetta_relative": 0.9838159807477872,
          "time": 0.00040825502946972847
         },
         {
          "device": "cpu",
          "impl": "rosetta",
          "model": "BYSIZE_15",
          "name": "score.rosetta_atr_rep",
          "natoms": 264,
          "nres": 14,
          "rosetta_relative": 0.9646271472753517,
          "time": 0.00040029222145676613
         },
         {
          "device": "cpu",
          "impl": "rosetta",
          "model": "BYSIZE_15",
          "name": "score.rosetta_atr_rep",
          "natoms": 264,
          "nres": 14,
          "rosetta_relative": 0.9641737970576404,
          "time": 0.0004001040942966938
         },
         {
          "device": "cpu",
          "impl": "rosetta",
          "model": "BYSIZE_15",
          "name": "score.rosetta_atr_rep",
          "natoms": 264,
          "nres": 14,
          "rosetta_relative": 0.9662913016636336,
          "time": 0.0004009827971458435
         },
         {
          "device": "cpu",
          "impl": "rosetta",
          "model": "BYSIZE_15",
          "name": "score.rosetta_atr_rep",
          "natoms": 264,
          "nres": 14,
          "rosetta_relative": 0.9637125917618994,
          "time": 0.0003999127075076103
         },
         {
          "device": "cpu",
          "impl": "rosetta",
          "model": "BYSIZE_15",
          "name": "score.rosetta_atr_rep",
          "natoms": 264,
          "nres": 14,
          "rosetta_relative": 0.9631537590677899,
          "time": 0.00039968080818653107
         },
         {
          "device": "cpu",
          "impl": "rosetta",
          "model": "BYSIZE_15",
          "name": "score.rosetta_atr_rep",
          "natoms": 264,
          "nres": 14,
          "rosetta_relative": 0.9606367676362885,
          "time": 0.0003986363299190998
         },
         {
          "device": "cpu",
          "impl": "rosetta",
          "model": "BYSIZE_15",
          "name": "score.rosetta_atr_rep",
          "natoms": 264,
          "nres": 14,
          "rosetta_relative": 0.9649682820926394,
          "time": 0.0004004337824881077
         },
         {
          "device": "cpu",
          "impl": "rosetta",
          "model": "BYSIZE_15",
          "name": "score.rosetta_atr_rep",
          "natoms": 264,
          "nres": 14,
          "rosetta_relative": 0.962840678100608,
          "time": 0.0003995508886873722
         },
         {
          "device": "cpu",
          "impl": "rosetta",
          "model": "BYSIZE_15",
          "name": "score.rosetta_atr_rep",
          "natoms": 264,
          "nres": 14,
          "rosetta_relative": 0.961323525886881,
          "time": 0.00039892131462693214
         },
         {
          "device": "cpu",
          "impl": "rosetta",
          "model": "BYSIZE_15",
          "name": "score.rosetta_atr_rep",
          "natoms": 264,
          "nres": 14,
          "rosetta_relative": 0.9773534958373922,
          "time": 0.0004055732861161232
         },
         {
          "device": "cpu",
          "impl": "rosetta",
          "model": "BYSIZE_15",
          "name": "score.rosetta_atr_rep",
          "natoms": 264,
          "nres": 14,
          "rosetta_relative": 0.96508498610908,
          "time": 0.0004004822112619877
         },
         {
          "device": "cpu",
          "impl": "rosetta",
          "model": "BYSIZE_15",
          "name": "score.rosetta_atr_rep",
          "natoms": 264,
          "nres": 14,
          "rosetta_relative": 0.9612887391127496,
          "time": 0.0003989068791270256
         },
         {
          "device": "cpu",
          "impl": "rosetta",
          "model": "BYSIZE_15",
          "name": "score.rosetta_atr_rep",
          "natoms": 264,
          "nres": 14,
          "rosetta_relative": 0.9613313809649106,
          "time": 0.0003989245742559433
         },
         {
          "device": "cpu",
          "impl": "rosetta",
          "model": "BYSIZE_15",
          "name": "score.rosetta_atr_rep",
          "natoms": 264,
          "nres": 14,
          "rosetta_relative": 0.9618004413386813,
          "time": 0.00039911922067403793
         },
         {
          "device": "cpu",
          "impl": "rosetta",
          "model": "BYSIZE_15",
          "name": "score.rosetta_atr_rep",
          "natoms": 264,
          "nres": 14,
          "rosetta_relative": 0.9620787355317317,
          "time": 0.00039923470467329025
         },
         {
          "device": "cpu",
          "impl": "rosetta",
          "model": "BYSIZE_15",
          "name": "score.rosetta_atr_rep",
          "natoms": 264,
          "nres": 14,
          "rosetta_relative": 0.9618509382688718,
          "time": 0.0003991401754319668
         },
         {
          "device": "cpu",
          "impl": "rosetta",
          "model": "BYSIZE_15",
          "name": "score.rosetta_atr_rep",
          "natoms": 264,
          "nres": 14,
          "rosetta_relative": 0.9626532783819006,
          "time": 0.0003994731232523918
         },
         {
          "device": "cpu",
          "impl": "rosetta",
          "model": "BYSIZE_15",
          "name": "score.rosetta_atr_rep",
          "natoms": 264,
          "nres": 14,
          "rosetta_relative": 0.9613369917349317,
          "time": 0.00039892690256237984
         },
         {
          "device": "cpu",
          "impl": "rosetta",
          "model": "BYSIZE_15",
          "name": "score.rosetta_atr_rep",
          "natoms": 264,
          "nres": 14,
          "rosetta_relative": 0.9614357412873045,
          "time": 0.0003989678807556629
         },
         {
          "device": "cpu",
          "impl": "rosetta",
          "model": "BYSIZE_15",
          "name": "score.rosetta_atr_rep",
          "natoms": 264,
          "nres": 14,
          "rosetta_relative": 0.9728132607362533,
          "time": 0.0004036892205476761
         },
         {
          "device": "cpu",
          "impl": "rosetta",
          "model": "BYSIZE_15",
          "name": "score.rosetta_atr_rep",
          "natoms": 264,
          "nres": 14,
          "rosetta_relative": 0.9662486598114727,
          "time": 0.0004009651020169258
         },
         {
          "device": "cpu",
          "impl": "rosetta",
          "model": "BYSIZE_15",
          "name": "score.rosetta_atr_rep",
          "natoms": 264,
          "nres": 14,
          "rosetta_relative": 0.9632816846242728,
          "time": 0.00039973389357328415
         },
         {
          "device": "cpu",
          "impl": "rosetta",
          "model": "BYSIZE_15",
          "name": "score.rosetta_atr_rep",
          "natoms": 264,
          "nres": 14,
          "rosetta_relative": 0.9649323731645039,
          "time": 0.00040041888132691383
         },
         {
          "device": "cpu",
          "impl": "rosetta",
          "model": "BYSIZE_15",
          "name": "score.rosetta_atr_rep",
          "natoms": 264,
          "nres": 14,
          "rosetta_relative": 0.9610699190819236,
          "time": 0.0003988160751760006
         },
         {
          "device": "cpu",
          "impl": "rosetta",
          "model": "BYSIZE_15",
          "name": "score.rosetta_atr_rep",
          "natoms": 264,
          "nres": 14,
          "rosetta_relative": 0.9621460647719859,
          "time": 0.0003992626443505287
         },
         {
          "device": "cpu",
          "impl": "rosetta",
          "model": "BYSIZE_15",
          "name": "score.rosetta_atr_rep",
          "natoms": 264,
          "nres": 14,
          "rosetta_relative": 0.9648145469940591,
          "time": 0.0004003699868917465
         },
         {
          "device": "cpu",
          "impl": "rosetta",
          "model": "BYSIZE_15",
          "name": "score.rosetta_atr_rep",
          "natoms": 264,
          "nres": 14,
          "rosetta_relative": 0.9627284627001844,
          "time": 0.00039950432255864143
         },
         {
          "device": "cpu",
          "impl": "rosetta",
          "model": "BYSIZE_15",
          "name": "score.rosetta_atr_rep",
          "natoms": 264,
          "nres": 14,
          "rosetta_relative": 0.9626196137617735,
          "time": 0.0003994591534137726
         },
         {
          "device": "cpu",
          "impl": "rosetta",
          "model": "BYSIZE_15",
          "name": "score.rosetta_atr_rep",
          "natoms": 264,
          "nres": 14,
          "rosetta_relative": 0.9631324381417093,
          "time": 0.0003996719606220722
         },
         {
          "device": "cpu",
          "impl": "rosetta",
          "model": "BYSIZE_15",
          "name": "score.rosetta_atr_rep",
          "natoms": 264,
          "nres": 14,
          "rosetta_relative": 0.9830035412487204,
          "time": 0.00040791789069771767
         },
         {
          "device": "cpu",
          "impl": "rosetta",
          "model": "BYSIZE_15",
          "name": "score.rosetta_atr_rep",
          "natoms": 264,
          "nres": 14,
          "rosetta_relative": 0.9653060504479145,
          "time": 0.0004005739465355873
         },
         {
          "device": "cpu",
          "impl": "rosetta",
          "model": "BYSIZE_15",
          "name": "score.rosetta_atr_rep",
          "natoms": 264,
          "nres": 14,
          "rosetta_relative": 0.9634657178809675,
          "time": 0.0003998102620244026
         },
         {
          "device": "cpu",
          "impl": "rosetta",
          "model": "BYSIZE_15",
          "name": "score.rosetta_atr_rep",
          "natoms": 264,
          "nres": 14,
          "rosetta_relative": 0.9647887374519617,
          "time": 0.00040035927668213844
         },
         {
          "device": "cpu",
          "impl": "rosetta",
          "model": "BYSIZE_15",
          "name": "score.rosetta_atr_rep",
          "natoms": 264,
          "nres": 14,
          "rosetta_relative": 0.9625152534393796,
          "time": 0.00039941584691405296
         },
         {
          "device": "cpu",
          "impl": "rosetta",
          "model": "BYSIZE_15",
          "name": "score.rosetta_atr_rep",
          "natoms": 264,
          "nres": 14,
          "rosetta_relative": 0.9635970098994631,
          "time": 0.0003998647443950176
         },
         {
          "device": "cpu",
          "impl": "rosetta",
          "model": "BYSIZE_15",
          "name": "score.rosetta_atr_rep",
          "natoms": 264,
          "nres": 14,
          "rosetta_relative": 0.9625062762073456,
          "time": 0.0003994121216237545
         },
         {
          "device": "cpu",
          "impl": "rosetta",
          "model": "BYSIZE_15",
          "name": "score.rosetta_atr_rep",
          "natoms": 264,
          "nres": 14,
          "rosetta_relative": 0.9622167604742528,
          "time": 0.0003992919810116291
         },
         {
          "device": "cpu",
          "impl": "rosetta",
          "model": "BYSIZE_15",
          "name": "score.rosetta_atr_rep",
          "natoms": 264,
          "nres": 14,
          "rosetta_relative": 0.9611091944720719,
          "time": 0.00039883237332105637
         },
         {
          "device": "cpu",
          "impl": "rosetta",
          "model": "BYSIZE_15",
          "name": "score.rosetta_atr_rep",
          "natoms": 264,
          "nres": 14,
          "rosetta_relative": 0.9698900495552185,
          "time": 0.0004024761728942394
         },
         {
          "device": "cpu",
          "impl": "rosetta",
          "model": "BYSIZE_15",
          "name": "score.rosetta_atr_rep",
          "natoms": 264,
          "nres": 14,
          "rosetta_relative": 0.9634455191088912,
          "time": 0.0003998018801212311
         },
         {
          "device": "cpu",
          "impl": "rosetta",
          "model": "BYSIZE_15",
          "name": "score.rosetta_atr_rep",
          "natoms": 264,
          "nres": 14,
          "rosetta_relative": 0.9607321507266485,
          "time": 0.00039867591112852097
         },
         {
          "device": "cpu",
          "impl": "rosetta",
          "model": "BYSIZE_15",
          "name": "score.rosetta_atr_rep",
          "natoms": 264,
          "nres": 14,
          "rosetta_relative": 0.9610283993837668,
          "time": 0.0003987988457083702
         },
         {
          "device": "cpu",
          "impl": "rosetta",
          "model": "BYSIZE_15",
          "name": "score.rosetta_atr_rep",
          "natoms": 264,
          "nres": 14,
          "rosetta_relative": 0.9625848269876421,
          "time": 0.00039944471791386604
         },
         {
          "device": "cpu",
          "impl": "rosetta",
          "model": "BYSIZE_15",
          "name": "score.rosetta_atr_rep",
          "natoms": 264,
          "nres": 14,
          "rosetta_relative": 0.9635330471212216,
          "time": 0.0003998382017016411
         },
         {
          "device": "cpu",
          "impl": "rosetta",
          "model": "BYSIZE_15",
          "name": "score.rosetta_atr_rep",
          "natoms": 264,
          "nres": 14,
          "rosetta_relative": 0.9987305296180878,
          "time": 0.00041444413363933563
         },
         {
          "device": "cpu",
          "impl": "rosetta",
          "model": "BYSIZE_15",
          "name": "score.rosetta_atr_rep",
          "natoms": 264,
          "nres": 14,
          "rosetta_relative": 0.9653127833719399,
          "time": 0.00040057674050331116
         },
         {
          "device": "cpu",
          "impl": "rosetta",
          "model": "BYSIZE_15",
          "name": "score.rosetta_atr_rep",
          "natoms": 264,
          "nres": 14,
          "rosetta_relative": 0.9655327255567702,
          "time": 0.0004006680101156235
         },
         {
          "device": "cpu",
          "impl": "rosetta",
          "model": "BYSIZE_15",
          "name": "score.rosetta_atr_rep",
          "natoms": 264,
          "nres": 14,
          "rosetta_relative": 0.9638506167044204,
          "time": 0.0003999699838459492
         },
         {
          "device": "cpu",
          "impl": "rosetta",
          "model": "BYSIZE_15",
          "name": "score.rosetta_atr_rep",
          "natoms": 264,
          "nres": 14,
          "rosetta_relative": 0.9718291316745383,
          "time": 0.0004032808355987072
         },
         {
          "device": "cpu",
          "impl": "rosetta",
          "model": "BYSIZE_15",
          "name": "score.rosetta_atr_rep",
          "natoms": 264,
          "nres": 14,
          "rosetta_relative": 0.9645609401891018,
          "time": 0.00040026474744081497
         },
         {
          "device": "cpu",
          "impl": "rosetta",
          "model": "BYSIZE_15",
          "name": "score.rosetta_atr_rep",
          "natoms": 264,
          "nres": 14,
          "rosetta_relative": 0.9634410304928742,
          "time": 0.00039980001747608185
         },
         {
          "device": "cpu",
          "impl": "rosetta",
          "model": "BYSIZE_15",
          "name": "score.rosetta_atr_rep",
          "natoms": 264,
          "nres": 14,
          "rosetta_relative": 0.9634320532608404,
          "time": 0.0003997962921857834
         },
         {
          "device": "cpu",
          "impl": "rosetta",
          "model": "BYSIZE_15",
          "name": "score.rosetta_atr_rep",
          "natoms": 264,
          "nres": 14,
          "rosetta_relative": 0.9606625771783859,
          "time": 0.0003986470401287079
         },
         {
          "device": "cpu",
          "impl": "rosetta",
          "model": "BYSIZE_15",
          "name": "score.rosetta_atr_rep",
          "natoms": 264,
          "nres": 14,
          "rosetta_relative": 0.9605133306958226,
          "time": 0.00039858510717749596
         },
         {
          "device": "cpu",
          "impl": "rosetta",
          "model": "BYSIZE_15",
          "name": "score.rosetta_atr_rep",
          "natoms": 264,
          "nres": 14,
          "rosetta_relative": 0.962103422919825,
          "time": 0.000399244949221611
         },
         {
          "device": "cpu",
          "impl": "rosetta",
          "model": "BYSIZE_15",
          "name": "score.rosetta_atr_rep",
          "natoms": 264,
          "nres": 14,
          "rosetta_relative": 0.9618071742627067,
          "time": 0.0003991220146417618
         },
         {
          "device": "cpu",
          "impl": "rosetta",
          "model": "BYSIZE_15",
          "name": "score.rosetta_atr_rep",
          "natoms": 264,
          "nres": 14,
          "rosetta_relative": 0.9629831916591459,
          "time": 0.0003996100276708603
         },
         {
          "device": "cpu",
          "impl": "rosetta",
          "model": "BYSIZE_15",
          "name": "score.rosetta_atr_rep",
          "natoms": 264,
          "nres": 14,
          "rosetta_relative": 0.9608039685829196,
          "time": 0.00039870571345090866
         },
         {
          "device": "cpu",
          "impl": "rosetta",
          "model": "BYSIZE_15",
          "name": "score.rosetta_atr_rep",
          "natoms": 264,
          "nres": 14,
          "rosetta_relative": 0.9815357638111797,
          "time": 0.00040730880573391914
         },
         {
          "device": "cpu",
          "impl": "rosetta",
          "model": "BYSIZE_15",
          "name": "score.rosetta_atr_rep",
          "natoms": 264,
          "nres": 14,
          "rosetta_relative": 0.967034167614438,
          "time": 0.00040129106491804123
         },
         {
          "device": "cpu",
          "impl": "rosetta",
          "model": "BYSIZE_15",
          "name": "score.rosetta_atr_rep",
          "natoms": 264,
          "nres": 14,
          "rosetta_relative": 0.9622504250943799,
          "time": 0.00039930595085024834
         },
         {
          "device": "cpu",
          "impl": "rosetta",
          "model": "BYSIZE_15",
          "name": "score.rosetta_atr_rep",
          "natoms": 264,
          "nres": 14,
          "rosetta_relative": 0.9633725790986158,
          "time": 0.0003997716121375561
         },
         {
          "device": "cpu",
          "impl": "rosetta",
          "model": "BYSIZE_15",
          "name": "score.rosetta_atr_rep",
          "natoms": 264,
          "nres": 14,
          "rosetta_relative": 0.9631526369137856,
          "time": 0.00039968034252524376
         },
         {
          "device": "cpu",
          "impl": "rosetta",
          "model": "BYSIZE_15",
          "name": "score.rosetta_atr_rep",
          "natoms": 264,
          "nres": 14,
          "rosetta_relative": 0.9618868471970073,
          "time": 0.00039915507659316063
         },
         {
          "device": "cpu",
          "impl": "rosetta",
          "model": "BYSIZE_15",
          "name": "score.rosetta_atr_rep",
          "natoms": 264,
          "nres": 14,
          "rosetta_relative": 0.9616119194659696,
          "time": 0.00039904098957777023
         },
         {
          "device": "cpu",
          "impl": "rosetta",
          "model": "BYSIZE_15",
          "name": "score.rosetta_atr_rep",
          "natoms": 264,
          "nres": 14,
          "rosetta_relative": 0.9609857575316059,
          "time": 0.0003987811505794525
         },
         {
          "device": "cpu",
          "impl": "rosetta",
          "model": "BYSIZE_15",
          "name": "score.rosetta_atr_rep",
          "natoms": 264,
          "nres": 14,
          "rosetta_relative": 0.961571521921817,
          "time": 0.00039902422577142715
         },
         {
          "device": "cpu",
          "impl": "rosetta",
          "model": "BYSIZE_15",
          "name": "score.rosetta_atr_rep",
          "natoms": 264,
          "nres": 14,
          "rosetta_relative": 0.9609509707574746,
          "time": 0.000398766715079546
         },
         {
          "device": "cpu",
          "impl": "rosetta",
          "model": "BYSIZE_15",
          "name": "score.rosetta_atr_rep",
          "natoms": 264,
          "nres": 14,
          "rosetta_relative": 0.9719256369189027,
          "time": 0.00040332088246941566
         },
         {
          "device": "cpu",
          "impl": "rosetta",
          "model": "BYSIZE_15",
          "name": "score.rosetta_atr_rep",
          "natoms": 264,
          "nres": 14,
          "rosetta_relative": 0.9649671599386352,
          "time": 0.0004004333168268204
         },
         {
          "device": "cpu",
          "impl": "rosetta",
          "model": "BYSIZE_15",
          "name": "score.rosetta_atr_rep",
          "natoms": 264,
          "nres": 14,
          "rosetta_relative": 0.9622313484763079,
          "time": 0.0003992980346083641
         },
         {
          "device": "cpu",
          "impl": "rosetta",
          "model": "BYSIZE_15",
          "name": "score.rosetta_atr_rep",
          "natoms": 264,
          "nres": 14,
          "rosetta_relative": 0.9622964334085535,
          "time": 0.00039932504296302795
         },
         {
          "device": "cpu",
          "impl": "rosetta",
          "model": "BYSIZE_15",
          "name": "score.rosetta_atr_rep",
          "natoms": 264,
          "nres": 14,
          "rosetta_relative": 0.9610822627759702,
          "time": 0.000398821197450161
         },
         {
          "device": "cpu",
          "impl": "rosetta",
          "model": "BYSIZE_15",
          "name": "score.rosetta_atr_rep",
          "natoms": 264,
          "nres": 14,
          "rosetta_relative": 0.9602485023508228,
          "time": 0.00039847521111369133
         },
         {
          "device": "cpu",
          "impl": "blocked",
          "model": "BYSIZE_15",
          "name": "score.tmol_lj_cpu_cpp.blocked",
          "natoms": 264,
          "nres": 14,
          "rosetta_relative": 1.3428244670150011,
          "time": 0.0005572331137955189
         },
         {
          "device": "cpu",
          "impl": "blocked",
          "model": "BYSIZE_15",
          "name": "score.tmol_lj_cpu_cpp.blocked",
          "natoms": 264,
          "nres": 14,
          "rosetta_relative": 1.263031462235792,
          "time": 0.0005241213366389275
         },
         {
          "device": "cpu",
          "impl": "blocked",
          "model": "BYSIZE_15",
          "name": "score.tmol_lj_cpu_cpp.blocked",
          "natoms": 264,
          "nres": 14,
          "rosetta_relative": 1.2303352610143679,
          "time": 0.0005105533637106419
         },
         {
          "device": "cpu",
          "impl": "blocked",
          "model": "BYSIZE_15",
          "name": "score.tmol_lj_cpu_cpp.blocked",
          "natoms": 264,
          "nres": 14,
          "rosetta_relative": 1.2619295070036325,
          "time": 0.0005236640572547913
         },
         {
          "device": "cpu",
          "impl": "blocked",
          "model": "BYSIZE_15",
          "name": "score.tmol_lj_cpu_cpp.blocked",
          "natoms": 264,
          "nres": 14,
          "rosetta_relative": 1.231482102406697,
          "time": 0.0005110292695462704
         },
         {
          "device": "cpu",
          "impl": "blocked",
          "model": "BYSIZE_15",
          "name": "score.tmol_lj_cpu_cpp.blocked",
          "natoms": 264,
          "nres": 14,
          "rosetta_relative": 1.2224880380627456,
          "time": 0.0005072969943284988
         },
         {
          "device": "cpu",
          "impl": "blocked",
          "model": "BYSIZE_15",
          "name": "score.tmol_lj_cpu_cpp.blocked",
          "natoms": 264,
          "nres": 14,
          "rosetta_relative": 1.2236573225351595,
          "time": 0.0005077822133898735
         },
         {
          "device": "cpu",
          "impl": "blocked",
          "model": "BYSIZE_15",
          "name": "score.tmol_lj_cpu_cpp.blocked",
          "natoms": 264,
          "nres": 14,
          "rosetta_relative": 1.2243755010978705,
          "time": 0.0005080802366137505
         },
         {
          "device": "cpu",
          "impl": "blocked",
          "model": "BYSIZE_15",
          "name": "score.tmol_lj_cpu_cpp.blocked",
          "natoms": 264,
          "nres": 14,
          "rosetta_relative": 1.2470003701312766,
          "time": 0.0005174688994884491
         },
         {
          "device": "cpu",
          "impl": "blocked",
          "model": "BYSIZE_15",
          "name": "score.tmol_lj_cpu_cpp.blocked",
          "natoms": 264,
          "nres": 14,
          "rosetta_relative": 1.2293197116405343,
          "time": 0.0005101319402456284
         },
         {
          "device": "cpu",
          "impl": "blocked",
          "model": "BYSIZE_15",
          "name": "score.tmol_lj_cpu_cpp.blocked",
          "natoms": 264,
          "nres": 14,
          "rosetta_relative": 1.2229548541285078,
          "time": 0.0005074907094240189
         },
         {
          "device": "cpu",
          "impl": "blocked",
          "model": "BYSIZE_15",
          "name": "score.tmol_lj_cpu_cpp.blocked",
          "natoms": 264,
          "nres": 14,
          "rosetta_relative": 1.2153780702919064,
          "time": 0.000504346564412117
         },
         {
          "device": "cpu",
          "impl": "blocked",
          "model": "BYSIZE_15",
          "name": "score.tmol_lj_cpu_cpp.blocked",
          "natoms": 264,
          "nres": 14,
          "rosetta_relative": 1.218899389557199,
          "time": 0.0005058078095316887
         },
         {
          "device": "cpu",
          "impl": "blocked",
          "model": "BYSIZE_15",
          "name": "score.tmol_lj_cpu_cpp.blocked",
          "natoms": 264,
          "nres": 14,
          "rosetta_relative": 1.2157966337354864,
          "time": 0.0005045202560722828
         },
         {
          "device": "cpu",
          "impl": "blocked",
          "model": "BYSIZE_15",
          "name": "score.tmol_lj_cpu_cpp.blocked",
          "natoms": 264,
          "nres": 14,
          "rosetta_relative": 1.2152658548914828,
          "time": 0.0005042999982833862
         },
         {
          "device": "cpu",
          "impl": "blocked",
          "model": "BYSIZE_15",
          "name": "score.tmol_lj_cpu_cpp.blocked",
          "natoms": 264,
          "nres": 14,
          "rosetta_relative": 1.218890412325165,
          "time": 0.0005058040842413902
         },
         {
          "device": "cpu",
          "impl": "blocked",
          "model": "BYSIZE_15",
          "name": "score.tmol_lj_cpu_cpp.blocked",
          "natoms": 264,
          "nres": 14,
          "rosetta_relative": 1.2435463801062383,
          "time": 0.0005160355940461159
         },
         {
          "device": "cpu",
          "impl": "blocked",
          "model": "BYSIZE_15",
          "name": "score.tmol_lj_cpu_cpp.blocked",
          "natoms": 264,
          "nres": 14,
          "rosetta_relative": 1.2220301992290172,
          "time": 0.0005071070045232773
         },
         {
          "device": "cpu",
          "impl": "blocked",
          "model": "BYSIZE_15",
          "name": "score.tmol_lj_cpu_cpp.blocked",
          "natoms": 264,
          "nres": 14,
          "rosetta_relative": 1.2223702118923008,
          "time": 0.0005072480998933315
         },
         {
          "device": "cpu",
          "impl": "blocked",
          "model": "BYSIZE_15",
          "name": "score.tmol_lj_cpu_cpp.blocked",
          "natoms": 264,
          "nres": 14,
          "rosetta_relative": 1.2216037807074076,
          "time": 0.0005069300532341003
         },
         {
          "device": "cpu",
          "impl": "blocked",
          "model": "BYSIZE_15",
          "name": "score.tmol_lj_cpu_cpp.blocked",
          "natoms": 264,
          "nres": 14,
          "rosetta_relative": 1.2811351727861315,
          "time": 0.0005316338501870632
         },
         {
          "device": "cpu",
          "impl": "blocked",
          "model": "BYSIZE_15",
          "name": "score.tmol_lj_cpu_cpp.blocked",
          "natoms": 264,
          "nres": 14,
          "rosetta_relative": 1.241195467467364,
          "time": 0.0005150600336492062
         },
         {
          "device": "cpu",
          "impl": "blocked",
          "model": "BYSIZE_15",
          "name": "score.tmol_lj_cpu_cpp.blocked",
          "natoms": 264,
          "nres": 14,
          "rosetta_relative": 1.2812687091126356,
          "time": 0.0005316892638802528
         },
         {
          "device": "cpu",
          "impl": "blocked",
          "model": "BYSIZE_15",
          "name": "score.tmol_lj_cpu_cpp.blocked",
          "natoms": 264,
          "nres": 14,
          "rosetta_relative": 1.2598131245516433,
          "time": 0.0005227858200669289
         },
         {
          "device": "cpu",
          "impl": "blocked",
          "model": "BYSIZE_15",
          "name": "score.tmol_lj_cpu_cpp.blocked",
          "natoms": 264,
          "nres": 14,
          "rosetta_relative": 0.9151154683004511,
          "time": 0.00037974631413817406
         },
         {
          "device": "cpu",
          "impl": "blocked",
          "model": "BYSIZE_15",
          "name": "score.tmol_lj_cpu_cpp.blocked",
          "natoms": 264,
          "nres": 14,
          "rosetta_relative": 0.8731592522360714,
          "time": 0.000362335704267025
         },
         {
          "device": "cpu",
          "impl": "blocked",
          "model": "BYSIZE_15",
          "name": "score.tmol_lj_cpu_cpp.blocked",
          "natoms": 264,
          "nres": 14,
          "rosetta_relative": 0.8489375580546373,
          "time": 0.00035228440538048744
         },
         {
          "device": "cpu",
          "impl": "blocked",
          "model": "BYSIZE_15",
          "name": "score.tmol_lj_cpu_cpp.blocked",
          "natoms": 264,
          "nres": 14,
          "rosetta_relative": 0.8396281684354956,
          "time": 0.00034842127934098244
         },
         {
          "device": "cpu",
          "impl": "blocked",
          "model": "BYSIZE_15",
          "name": "score.tmol_lj_cpu_cpp.blocked",
          "natoms": 264,
          "nres": 14,
          "rosetta_relative": 0.8390491369693098,
          "time": 0.00034818099811673164
         },
         {
          "device": "cpu",
          "impl": "blocked",
          "model": "BYSIZE_15",
          "name": "score.tmol_lj_cpu_cpp.blocked",
          "natoms": 264,
          "nres": 14,
          "rosetta_relative": 0.8385340682813655,
          "time": 0.0003479672595858574
         },
         {
          "device": "cpu",
          "impl": "blocked",
          "model": "BYSIZE_15",
          "name": "score.tmol_lj_cpu_cpp.blocked",
          "natoms": 264,
          "nres": 14,
          "rosetta_relative": 0.8414404471523367,
          "time": 0.00034917332231998444
         },
         {
          "device": "cpu",
          "impl": "blocked",
          "model": "BYSIZE_15",
          "name": "score.tmol_lj_cpu_cpp.blocked",
          "natoms": 264,
          "nres": 14,
          "rosetta_relative": 0.838223231622192,
          "time": 0.00034783827140927315
         },
         {
          "device": "cpu",
          "impl": "blocked",
          "model": "BYSIZE_15",
          "name": "score.tmol_lj_cpu_cpp.blocked",
          "natoms": 264,
          "nres": 14,
          "rosetta_relative": 0.8360776731660928,
          "time": 0.00034694792702794075
         },
         {
          "device": "cpu",
          "impl": "blocked",
          "model": "BYSIZE_15",
          "name": "score.tmol_lj_cpu_cpp.blocked",
          "natoms": 264,
          "nres": 14,
          "rosetta_relative": 0.8341015599646333,
          "time": 0.0003461278975009918
         },
         {
          "device": "cpu",
          "impl": "blocked",
          "model": "BYSIZE_15",
          "name": "score.tmol_lj_cpu_cpp.blocked",
          "natoms": 264,
          "nres": 14,
          "rosetta_relative": 0.8533689442173653,
          "time": 0.0003541233018040657
         },
         {
          "device": "cpu",
          "impl": "blocked",
          "model": "BYSIZE_15",
          "name": "score.tmol_lj_cpu_cpp.blocked",
          "natoms": 264,
          "nres": 14,
          "rosetta_relative": 0.8454521477174803,
          "time": 0.0003508380614221096
         },
         {
          "device": "cpu",
          "impl": "blocked",
          "model": "BYSIZE_15",
          "name": "score.tmol_lj_cpu_cpp.blocked",
          "natoms": 264,
          "nres": 14,
          "rosetta_relative": 0.8399939906408765,
          "time": 0.00034857308492064476
         },
         {
          "device": "cpu",
          "impl": "blocked",
          "model": "BYSIZE_15",
          "name": "score.tmol_lj_cpu_cpp.blocked",
          "natoms": 264,
          "nres": 14,
          "rosetta_relative": 0.8410589147908965,
          "time": 0.0003490149974822998
         },
         {
          "device": "cpu",
          "impl": "blocked",
          "model": "BYSIZE_15",
          "name": "score.tmol_lj_cpu_cpp.blocked",
          "natoms": 264,
          "nres": 14,
          "rosetta_relative": 0.8383219811745648,
          "time": 0.00034787924960255623
         },
         {
          "device": "cpu",
          "impl": "blocked",
          "model": "BYSIZE_15",
          "name": "score.tmol_lj_cpu_cpp.blocked",
          "natoms": 264,
          "nres": 14,
          "rosetta_relative": 0.8378439435687604,
          "time": 0.00034768087789416313
         },
         {
          "device": "cpu",
          "impl": "blocked",
          "model": "BYSIZE_15",
          "name": "score.tmol_lj_cpu_cpp.blocked",
          "natoms": 264,
          "nres": 14,
          "rosetta_relative": 0.8342227525970908,
          "time": 0.00034617818892002106
         },
         {
          "device": "cpu",
          "impl": "blocked",
          "model": "BYSIZE_15",
          "name": "score.tmol_lj_cpu_cpp.blocked",
          "natoms": 264,
          "nres": 14,
          "rosetta_relative": 0.8386563830678272,
          "time": 0.00034801801666617393
         },
         {
          "device": "cpu",
          "impl": "blocked",
          "model": "BYSIZE_15",
          "name": "score.tmol_lj_cpu_cpp.blocked",
          "natoms": 264,
          "nres": 14,
          "rosetta_relative": 0.8339904667182139,
          "time": 0.00034608179703354836
         },
         {
          "device": "cpu",
          "impl": "blocked",
          "model": "BYSIZE_15",
          "name": "score.tmol_lj_cpu_cpp.blocked",
          "natoms": 264,
          "nres": 14,
          "rosetta_relative": 0.8361438802523428,
          "time": 0.0003469754010438919
         },
         {
          "device": "cpu",
          "impl": "blocked",
          "model": "BYSIZE_15",
          "name": "score.tmol_lj_cpu_cpp.blocked",
          "natoms": 264,
          "nres": 14,
          "rosetta_relative": 0.8356445217204578,
          "time": 0.00034676818177103996
         },
         {
          "device": "cpu",
          "impl": "blocked",
          "model": "BYSIZE_15",
          "name": "score.tmol_lj_cpu_cpp.blocked",
          "natoms": 264,
          "nres": 14,
          "rosetta_relative": 0.8481924477958247,
          "time": 0.0003519752062857151
         },
         {
          "device": "cpu",
          "impl": "blocked",
          "model": "BYSIZE_15",
          "name": "score.tmol_lj_cpu_cpp.blocked",
          "natoms": 264,
          "nres": 14,
          "rosetta_relative": 0.8581212664253047,
          "time": 0.000356095377355814
         },
         {
          "device": "cpu",
          "impl": "blocked",
          "model": "BYSIZE_15",
          "name": "score.tmol_lj_cpu_cpp.blocked",
          "natoms": 264,
          "nres": 14,
          "rosetta_relative": 0.8394822884149449,
          "time": 0.00034836074337363243
         },
         {
          "device": "cpu",
          "impl": "blocked",
          "model": "BYSIZE_15",
          "name": "score.tmol_lj_cpu_cpp.blocked",
          "natoms": 264,
          "nres": 14,
          "rosetta_relative": 0.8348376929914121,
          "time": 0.0003464333713054657
         },
         {
          "device": "cpu",
          "impl": "blocked",
          "model": "BYSIZE_15",
          "name": "score.tmol_lj_cpu_cpp.blocked",
          "natoms": 264,
          "nres": 14,
          "rosetta_relative": 0.8361427580983386,
          "time": 0.0003469749353826046
         },
         {
          "device": "cpu",
          "impl": "blocked",
          "model": "BYSIZE_15",
          "name": "score.tmol_lj_cpu_cpp.blocked",
          "natoms": 264,
          "nres": 14,
          "rosetta_relative": 0.8350441693281915,
          "time": 0.0003465190529823303
         },
         {
          "device": "cpu",
          "impl": "blocked",
          "model": "BYSIZE_15",
          "name": "score.tmol_lj_cpu_cpp.blocked",
          "natoms": 264,
          "nres": 14,
          "rosetta_relative": 0.873870697874757,
          "time": 0.0003626309335231781
         },
         {
          "device": "cpu",
          "impl": "blocked",
          "model": "BYSIZE_15",
          "name": "score.tmol_lj_cpu_cpp.blocked",
          "natoms": 264,
          "nres": 14,
          "rosetta_relative": 0.8345066575601625,
          "time": 0.0003462960012257099
         },
         {
          "device": "cpu",
          "impl": "blocked",
          "model": "BYSIZE_15",
          "name": "score.tmol_lj_cpu_cpp.blocked",
          "natoms": 264,
          "nres": 14,
          "rosetta_relative": 0.8324699480424741,
          "time": 0.00034545082598924637
         },
         {
          "device": "cpu",
          "impl": "blocked",
          "model": "BYSIZE_15",
          "name": "score.tmol_lj_cpu_cpp.blocked",
          "natoms": 264,
          "nres": 14,
          "rosetta_relative": 0.8332173026092953,
          "time": 0.0003457609564065933
         },
         {
          "device": "cpu",
          "impl": "blocked",
          "model": "BYSIZE_15",
          "name": "score.tmol_lj_cpu_cpp.blocked",
          "natoms": 264,
          "nres": 14,
          "rosetta_relative": 0.8341879658229594,
          "time": 0.0003461637534201145
         },
         {
          "device": "cpu",
          "impl": "blocked",
          "model": "BYSIZE_15",
          "name": "score.tmol_lj_cpu_cpp.blocked",
          "natoms": 264,
          "nres": 14,
          "rosetta_relative": 0.8327123333073891,
          "time": 0.00034555140882730484
         },
         {
          "device": "cpu",
          "impl": "blocked",
          "model": "BYSIZE_15",
          "name": "score.tmol_lj_cpu_cpp.blocked",
          "natoms": 264,
          "nres": 14,
          "rosetta_relative": 0.8730638691457113,
          "time": 0.00036229612305760384
         },
         {
          "device": "cpu",
          "impl": "blocked",
          "model": "BYSIZE_15",
          "name": "score.tmol_lj_cpu_cpp.blocked",
          "natoms": 264,
          "nres": 14,
          "rosetta_relative": 0.8511347355949315,
          "time": 0.000353196170181036
         },
         {
          "device": "cpu",
          "impl": "blocked",
          "model": "BYSIZE_15",
          "name": "score.tmol_lj_cpu_cpp.blocked",
          "natoms": 264,
          "nres": 14,
          "rosetta_relative": 0.8368777689711131,
          "time": 0.00034727994352579117
         },
         {
          "device": "cpu",
          "impl": "blocked",
          "model": "BYSIZE_15",
          "name": "score.tmol_lj_cpu_cpp.blocked",
          "natoms": 264,
          "nres": 14,
          "rosetta_relative": 0.8374511896672777,
          "time": 0.0003475178964436054
         },
         {
          "device": "cpu",
          "impl": "blocked",
          "model": "BYSIZE_15",
          "name": "score.tmol_lj_cpu_cpp.blocked",
          "natoms": 264,
          "nres": 14,
          "rosetta_relative": 0.8362516070367494,
          "time": 0.00034702010452747345
         },
         {
          "device": "cpu",
          "impl": "blocked",
          "model": "BYSIZE_15",
          "name": "score.tmol_lj_cpu_cpp.blocked",
          "natoms": 264,
          "nres": 14,
          "rosetta_relative": 0.8328279151698255,
          "time": 0.00034559937193989754
         },
         {
          "device": "cpu",
          "impl": "blocked",
          "model": "BYSIZE_15",
          "name": "score.tmol_lj_cpu_cpp.blocked",
          "natoms": 264,
          "nres": 14,
          "rosetta_relative": 0.8346929351248656,
          "time": 0.000346373300999403
         },
         {
          "device": "cpu",
          "impl": "blocked",
          "model": "BYSIZE_15",
          "name": "score.tmol_lj_cpu_cpp.blocked",
          "natoms": 264,
          "nres": 14,
          "rosetta_relative": 0.8346054071125353,
          "time": 0.000346336979418993
         },
         {
          "device": "cpu",
          "impl": "blocked",
          "model": "BYSIZE_15",
          "name": "score.tmol_lj_cpu_cpp.blocked",
          "natoms": 264,
          "nres": 14,
          "rosetta_relative": 0.8333508389357994,
          "time": 0.00034581637009978294
         },
         {
          "device": "cpu",
          "impl": "blocked",
          "model": "BYSIZE_15",
          "name": "score.tmol_lj_cpu_cpp.blocked",
          "natoms": 264,
          "nres": 14,
          "rosetta_relative": 0.8353190970592294,
          "time": 0.0003466331399977207
         },
         {
          "device": "cpu",
          "impl": "blocked",
          "model": "BYSIZE_15",
          "name": "score.tmol_lj_cpu_cpp.blocked",
          "natoms": 264,
          "nres": 14,
          "rosetta_relative": 0.832878412100016,
          "time": 0.0003456203266978264
         },
         {
          "device": "cpu",
          "impl": "blocked",
          "model": "BYSIZE_15",
          "name": "score.tmol_lj_cpu_cpp.blocked",
          "natoms": 264,
          "nres": 14,
          "rosetta_relative": 0.8543104314269193,
          "time": 0.0003545139916241169
         },
         {
          "device": "cpu",
          "impl": "blocked",
          "model": "BYSIZE_15",
          "name": "score.tmol_lj_cpu_cpp.blocked",
          "natoms": 264,
          "nres": 14,
          "rosetta_relative": 0.8416884431872729,
          "time": 0.00034927623346447945
         },
         {
          "device": "cpu",
          "impl": "blocked",
          "model": "BYSIZE_15",
          "name": "score.tmol_lj_cpu_cpp.blocked",
          "natoms": 264,
          "nres": 14,
          "rosetta_relative": 0.832597873598957,
          "time": 0.00034550391137599945
         },
         {
          "device": "cpu",
          "impl": "blocked",
          "model": "BYSIZE_15",
          "name": "score.tmol_lj_cpu_cpp.blocked",
          "natoms": 264,
          "nres": 14,
          "rosetta_relative": 0.8367644314166853,
          "time": 0.0003472329117357731
         },
         {
          "device": "cpu",
          "impl": "blocked",
          "model": "BYSIZE_15",
          "name": "score.tmol_lj_cpu_cpp.blocked",
          "natoms": 264,
          "nres": 14,
          "rosetta_relative": 0.8351474074965812,
          "time": 0.00034656189382076263
         },
         {
          "device": "cpu",
          "impl": "blocked",
          "model": "BYSIZE_15",
          "name": "score.tmol_lj_cpu_cpp.blocked",
          "natoms": 264,
          "nres": 14,
          "rosetta_relative": 0.8332049589152487,
          "time": 0.00034575583413243294
         },
         {
          "device": "cpu",
          "impl": "blocked",
          "model": "BYSIZE_15",
          "name": "score.tmol_lj_cpu_cpp.blocked",
          "natoms": 264,
          "nres": 14,
          "rosetta_relative": 0.8349959167060094,
          "time": 0.0003464990295469761
         },
         {
          "device": "cpu",
          "impl": "blocked",
          "model": "BYSIZE_15",
          "name": "score.tmol_lj_cpu_cpp.blocked",
          "natoms": 264,
          "nres": 14,
          "rosetta_relative": 0.9319836872921266,
          "time": 0.000386746134608984
         },
         {
          "device": "cpu",
          "impl": "blocked",
          "model": "BYSIZE_15",
          "name": "score.tmol_lj_cpu_cpp.blocked",
          "natoms": 264,
          "nres": 14,
          "rosetta_relative": 0.9068855908333843,
          "time": 0.0003763311542570591
         },
         {
          "device": "cpu",
          "impl": "blocked",
          "model": "BYSIZE_15",
          "name": "score.tmol_lj_cpu_cpp.blocked",
          "natoms": 264,
          "nres": 14,
          "rosetta_relative": 0.8903831940470897,
          "time": 0.0003694831393659115
         },
         {
          "device": "cpu",
          "impl": "blocked",
          "model": "BYSIZE_15",
          "name": "score.tmol_lj_cpu_cpp.blocked",
          "natoms": 264,
          "nres": 14,
          "rosetta_relative": 0.8925612949693118,
          "time": 0.0003703869879245758
         },
         {
          "device": "cpu",
          "impl": "blocked",
          "model": "BYSIZE_15",
          "name": "score.tmol_lj_cpu_cpp.blocked",
          "natoms": 264,
          "nres": 14,
          "rosetta_relative": 0.9615008262195502,
          "time": 0.00039899488911032677
         },
         {
          "device": "cpu",
          "impl": "blocked",
          "model": "BYSIZE_15",
          "name": "score.tmol_lj_cpu_cpp.blocked",
          "natoms": 264,
          "nres": 14,
          "rosetta_relative": 0.8980441394340088,
          "time": 0.0003726622089743614
         },
         {
          "device": "cpu",
          "impl": "blocked",
          "model": "BYSIZE_15",
          "name": "score.tmol_lj_cpu_cpp.blocked",
          "natoms": 264,
          "nres": 14,
          "rosetta_relative": 0.8900095167636791,
          "time": 0.000369328074157238
         },
         {
          "device": "cpu",
          "impl": "blocked",
          "model": "BYSIZE_15",
          "name": "score.tmol_lj_cpu_cpp.blocked",
          "natoms": 264,
          "nres": 14,
          "rosetta_relative": 0.898510955499771,
          "time": 0.00037285592406988144
         },
         {
          "device": "cpu",
          "impl": "blocked",
          "model": "BYSIZE_15",
          "name": "score.tmol_lj_cpu_cpp.blocked",
          "natoms": 264,
          "nres": 14,
          "rosetta_relative": 0.8317158605516275,
          "time": 0.00034513790160417557
         },
         {
          "device": "cpu",
          "impl": "blocked",
          "model": "BYSIZE_15",
          "name": "score.tmol_lj_cpu_cpp.blocked",
          "natoms": 264,
          "nres": 14,
          "rosetta_relative": 0.83381989930957,
          "time": 0.0003460110165178776
         },
         {
          "device": "cpu",
          "impl": "blocked",
          "model": "BYSIZE_15",
          "name": "score.tmol_lj_cpu_cpp.blocked",
          "natoms": 264,
          "nres": 14,
          "rosetta_relative": 0.8358027454350551,
          "time": 0.00034683384001255035
         },
         {
          "device": "cpu",
          "impl": "blocked",
          "model": "BYSIZE_15",
          "name": "score.tmol_lj_cpu_cpp.blocked",
          "natoms": 264,
          "nres": 14,
          "rosetta_relative": 0.8348657468415179,
          "time": 0.0003464450128376484
         },
         {
          "device": "cpu",
          "impl": "blocked",
          "model": "BYSIZE_15",
          "name": "score.tmol_lj_cpu_cpp.blocked",
          "natoms": 264,
          "nres": 14,
          "rosetta_relative": 0.8329356419542321,
          "time": 0.0003456440754234791
         },
         {
          "device": "cpu",
          "impl": "blocked",
          "model": "BYSIZE_15",
          "name": "score.tmol_lj_cpu_cpp.blocked",
          "natoms": 264,
          "nres": 14,
          "rosetta_relative": 0.8318370531840851,
          "time": 0.0003451881930232048
         },
         {
          "device": "cpu",
          "impl": "blocked",
          "model": "BYSIZE_15",
          "name": "score.tmol_lj_cpu_cpp.blocked",
          "natoms": 264,
          "nres": 14,
          "rosetta_relative": 0.8359744349977032,
          "time": 0.00034690508618950844
         },
         {
          "device": "cpu",
          "impl": "blocked",
          "model": "BYSIZE_15",
          "name": "score.tmol_lj_cpu_cpp.blocked",
          "natoms": 264,
          "nres": 14,
          "rosetta_relative": 0.8752329928358995,
          "time": 0.0003631962463259697
         },
         {
          "device": "cpu",
          "impl": "blocked",
          "model": "BYSIZE_15",
          "name": "score.tmol_lj_cpu_cpp.blocked",
          "natoms": 264,
          "nres": 14,
          "rosetta_relative": 0.8477031886499777,
          "time": 0.00035177217796444893
         },
         {
          "device": "cpu",
          "impl": "blocked",
          "model": "BYSIZE_15",
          "name": "score.tmol_lj_cpu_cpp.blocked",
          "natoms": 264,
          "nres": 14,
          "rosetta_relative": 0.836106849170203,
          "time": 0.00034696003422141075
         },
         {
          "device": "cpu",
          "impl": "blocked",
          "model": "BYSIZE_15",
          "name": "score.tmol_lj_cpu_cpp.blocked",
          "natoms": 264,
          "nres": 14,
          "rosetta_relative": 0.8330557124326853,
          "time": 0.000345693901181221
         },
         {
          "device": "cpu",
          "impl": "blocked",
          "model": "BYSIZE_15",
          "name": "score.tmol_lj_cpu_cpp.blocked",
          "natoms": 264,
          "nres": 14,
          "rosetta_relative": 0.8346435603486793,
          "time": 0.00034635281190276146
         },
         {
          "device": "cpu",
          "impl": "blocked",
          "model": "BYSIZE_15",
          "name": "score.tmol_lj_cpu_cpp.blocked",
          "natoms": 264,
          "nres": 14,
          "rosetta_relative": 0.8342182639810738,
          "time": 0.0003461763262748718
         },
         {
          "device": "cpu",
          "impl": "blocked",
          "model": "BYSIZE_15",
          "name": "score.tmol_lj_cpu_cpp.blocked",
          "natoms": 264,
          "nres": 14,
          "rosetta_relative": 0.8298598178286212,
          "time": 0.00034436769783496857
         },
         {
          "device": "cpu",
          "impl": "blocked",
          "model": "BYSIZE_15",
          "name": "score.tmol_lj_cpu_cpp.blocked",
          "natoms": 264,
          "nres": 14,
          "rosetta_relative": 0.8288532456868215,
          "time": 0.0003439499996602535
         },
         {
          "device": "cpu",
          "impl": "blocked",
          "model": "BYSIZE_15",
          "name": "score.tmol_lj_cpu_cpp.blocked",
          "natoms": 264,
          "nres": 14,
          "rosetta_relative": 0.8324048631102284,
          "time": 0.0003454238176345825
         },
         {
          "device": "cpu",
          "impl": "blocked",
          "model": "BYSIZE_15",
          "name": "score.tmol_lj_cpu_cpp.blocked",
          "natoms": 264,
          "nres": 14,
          "rosetta_relative": 0.8328312816318382,
          "time": 0.00034560076892375946
         },
         {
          "device": "cpu",
          "impl": "blocked",
          "model": "BYSIZE_15",
          "name": "score.tmol_lj_cpu_cpp.blocked",
          "natoms": 264,
          "nres": 14,
          "rosetta_relative": 0.8339545577900783,
          "time": 0.0003460668958723545
         },
         {
          "device": "cpu",
          "impl": "blocked",
          "model": "BYSIZE_15",
          "name": "score.tmol_lj_cpu_cpp.blocked",
          "natoms": 264,
          "nres": 14,
          "rosetta_relative": 0.8316350654633226,
          "time": 0.0003451043739914894
         },
         {
          "device": "cpu",
          "impl": "blocked",
          "model": "BYSIZE_15",
          "name": "score.tmol_lj_cpu_cpp.blocked",
          "natoms": 264,
          "nres": 14,
          "rosetta_relative": 0.8573391250843523,
          "time": 0.0003557708114385605
         },
         {
          "device": "cpu",
          "impl": "blocked",
          "model": "BYSIZE_15",
          "name": "score.tmol_lj_cpu_cpp.blocked",
          "natoms": 264,
          "nres": 14,
          "rosetta_relative": 0.8399401272486732,
          "time": 0.000348550733178854
         },
         {
          "device": "cpu",
          "impl": "blocked",
          "model": "BYSIZE_15",
          "name": "score.tmol_lj_cpu_cpp.blocked",
          "natoms": 264,
          "nres": 14,
          "rosetta_relative": 0.8343215021494635,
          "time": 0.00034621916711330414
         },
         {
          "device": "cpu",
          "impl": "blocked",
          "model": "BYSIZE_15",
          "name": "score.tmol_lj_cpu_cpp.blocked",
          "natoms": 264,
          "nres": 14,
          "rosetta_relative": 0.8342148975190611,
          "time": 0.0003461749292910099
         },
         {
          "device": "cpu",
          "impl": "blocked",
          "model": "BYSIZE_15",
          "name": "score.tmol_lj_cpu_cpp.blocked",
          "natoms": 264,
          "nres": 14,
          "rosetta_relative": 0.8324699480424741,
          "time": 0.00034545082598924637
         },
         {
          "device": "cpu",
          "impl": "blocked",
          "model": "BYSIZE_15",
          "name": "score.tmol_lj_cpu_cpp.blocked",
          "natoms": 264,
          "nres": 14,
          "rosetta_relative": 0.8323857864921564,
          "time": 0.0003454159013926983
         },
         {
          "device": "cpu",
          "impl": "blocked",
          "model": "BYSIZE_15",
          "name": "score.tmol_lj_cpu_cpp.blocked",
          "natoms": 264,
          "nres": 14,
          "rosetta_relative": 0.8303928409806333,
          "time": 0.00034458888694643974
         },
         {
          "device": "cpu",
          "impl": "blocked",
          "model": "BYSIZE_15",
          "name": "score.tmol_lj_cpu_cpp.blocked",
          "natoms": 264,
          "nres": 14,
          "rosetta_relative": 0.8331735386031301,
          "time": 0.0003457427956163883
         },
         {
          "device": "cpu",
          "impl": "blocked",
          "model": "BYSIZE_15",
          "name": "score.tmol_lj_cpu_cpp.blocked",
          "natoms": 264,
          "nres": 14,
          "rosetta_relative": 0.8350105047080645,
          "time": 0.0003465050831437111
         },
         {
          "device": "cpu",
          "impl": "blocked",
          "model": "BYSIZE_15",
          "name": "score.tmol_lj_cpu_cpp.blocked",
          "natoms": 264,
          "nres": 14,
          "rosetta_relative": 0.8354638549257758,
          "time": 0.0003466932103037834
         },
         {
          "device": "cpu",
          "impl": "blocked",
          "model": "BYSIZE_15",
          "name": "score.tmol_lj_cpu_cpp.blocked",
          "natoms": 264,
          "nres": 14,
          "rosetta_relative": 0.8304265056007604,
          "time": 0.000344602856785059
         },
         {
          "device": "cpu",
          "impl": "blocked",
          "model": "BYSIZE_15",
          "name": "score.tmol_lj_cpu_cpp.blocked",
          "natoms": 264,
          "nres": 14,
          "rosetta_relative": 0.8751521977475945,
          "time": 0.00036316271871328354
         },
         {
          "device": "cpu",
          "impl": "blocked",
          "model": "BYSIZE_15",
          "name": "score.tmol_lj_cpu_cpp.blocked",
          "natoms": 264,
          "nres": 14,
          "rosetta_relative": 0.8584534240105587,
          "time": 0.00035623321309685707
         },
         {
          "device": "cpu",
          "impl": "blocked",
          "model": "BYSIZE_15",
          "name": "score.tmol_lj_cpu_cpp.blocked",
          "natoms": 264,
          "nres": 14,
          "rosetta_relative": 0.8388033852423821,
          "time": 0.00034807901829481125
         },
         {
          "device": "cpu",
          "impl": "blocked",
          "model": "BYSIZE_15",
          "name": "score.tmol_lj_cpu_cpp.blocked",
          "natoms": 264,
          "nres": 14,
          "rosetta_relative": 0.8314005352764372,
          "time": 0.0003450070507824421
         },
         {
          "device": "cpu",
          "impl": "blocked",
          "model": "BYSIZE_15",
          "name": "score.tmol_lj_cpu_cpp.blocked",
          "natoms": 264,
          "nres": 14,
          "rosetta_relative": 0.8306991890237897,
          "time": 0.00034471601247787476
         },
         {
          "device": "cpu",
          "impl": "blocked",
          "model": "BYSIZE_15",
          "name": "score.tmol_lj_cpu_cpp.blocked",
          "natoms": 264,
          "nres": 14,
          "rosetta_relative": 0.8347209889749715,
          "time": 0.0003463849425315857
         },
         {
          "device": "cpu",
          "impl": "blocked",
          "model": "BYSIZE_15",
          "name": "score.tmol_lj_cpu_cpp.blocked",
          "natoms": 264,
          "nres": 14,
          "rosetta_relative": 0.8323274344839362,
          "time": 0.0003453916870057583
         },
         {
          "device": "cpu",
          "impl": "blocked",
          "model": "BYSIZE_15",
          "name": "score.tmol_lj_cpu_cpp.blocked",
          "natoms": 264,
          "nres": 14,
          "rosetta_relative": 0.8333328844717316,
          "time": 0.000345808919519186
         },
         {
          "device": "cpu",
          "impl": "blocked",
          "model": "BYSIZE_15",
          "name": "score.tmol_lj_cpu_cpp.blocked",
          "natoms": 264,
          "nres": 14,
          "rosetta_relative": 0.8331836379891683,
          "time": 0.0003457469865679741
         },
         {
          "device": "cpu",
          "impl": "blocked",
          "model": "BYSIZE_15",
          "name": "score.tmol_lj_cpu_cpp.blocked",
          "natoms": 264,
          "nres": 14,
          "rosetta_relative": 0.8310874543092553,
          "time": 0.00034487713128328323
         },
         {
          "device": "cpu",
          "impl": "blocked",
          "model": "BYSIZE_15",
          "name": "score.tmol_lj_cpu_cpp.blocked",
          "natoms": 264,
          "nres": 14,
          "rosetta_relative": 0.8327067225373679,
          "time": 0.0003455490805208683
         },
         {
          "device": "cpu",
          "impl": "blocked",
          "model": "BYSIZE_15",
          "name": "score.tmol_lj_cpu_cpp.blocked",
          "natoms": 264,
          "nres": 14,
          "rosetta_relative": 0.8468088319086017,
          "time": 0.00035140104591846466
         },
         {
          "device": "cpu",
          "impl": "blocked",
          "model": "BYSIZE_15",
          "name": "score.tmol_lj_cpu_cpp.blocked",
          "natoms": 264,
          "nres": 14,
          "rosetta_relative": 0.8756223802753694,
          "time": 0.0003633578307926655
         },
         {
          "device": "cpu",
          "impl": "blocked",
          "model": "BYSIZE_15",
          "name": "score.tmol_lj_cpu_cpp.blocked",
          "natoms": 264,
          "nres": 14,
          "rosetta_relative": 0.8431124566186483,
          "time": 0.00034986715763807297
         },
         {
          "device": "cpu",
          "impl": "blocked",
          "model": "BYSIZE_15",
          "name": "score.tmol_lj_cpu_cpp.blocked",
          "natoms": 264,
          "nres": 14,
          "rosetta_relative": 0.8349667407018992,
          "time": 0.0003464869223535061
         },
         {
          "device": "cpu",
          "impl": "blocked",
          "model": "BYSIZE_15",
          "name": "score.tmol_lj_cpu_cpp.blocked",
          "natoms": 264,
          "nres": 14,
          "rosetta_relative": 0.8402588189858762,
          "time": 0.0003486829809844494
         },
         {
          "device": "cpu",
          "impl": "blocked",
          "model": "BYSIZE_15",
          "name": "score.tmol_lj_cpu_cpp.blocked",
          "natoms": 264,
          "nres": 14,
          "rosetta_relative": 0.8325238114346775,
          "time": 0.00034547317773103714
         },
         {
          "device": "cpu",
          "impl": "blocked",
          "model": "BYSIZE_15",
          "name": "score.tmol_lj_cpu_cpp.blocked",
          "natoms": 264,
          "nres": 14,
          "rosetta_relative": 0.8319907882826654,
          "time": 0.00034525198861956596
         },
         {
          "device": "cpu",
          "impl": "blocked",
          "model": "BYSIZE_15",
          "name": "score.tmol_lj_cpu_cpp.blocked",
          "natoms": 264,
          "nres": 14,
          "rosetta_relative": 0.83198405535864,
          "time": 0.0003452491946518421
         },
         {
          "device": "cpu",
          "impl": "blocked",
          "model": "BYSIZE_15",
          "name": "score.tmol_lj_cpu_cpp.blocked",
          "natoms": 264,
          "nres": 14,
          "rosetta_relative": 0.8305454539252094,
          "time": 0.0003446522168815136
         },
         {
          "device": "cpu",
          "impl": "blocked",
          "model": "BYSIZE_15",
          "name": "score.tmol_lj_cpu_cpp.blocked",
          "natoms": 264,
          "nres": 14,
          "rosetta_relative": 0.9771021333404433,
          "time": 0.00040546897798776627
         },
         {
          "device": "cpu",
          "impl": "blocked",
          "model": "BYSIZE_15",
          "name": "score.tmol_lj_cpu_cpp.blocked",
          "natoms": 264,
          "nres": 14,
          "rosetta_relative": 0.8619466894257453,
          "time": 0.00035768281668424606
         },
         {
          "device": "cpu",
          "impl": "blocked",
          "model": "BYSIZE_15",
          "name": "score.tmol_lj_cpu_cpp.blocked",
          "natoms": 264,
          "nres": 14,
          "rosetta_relative": 0.8393364083943942,
          "time": 0.0003483002074062824
         },
         {
          "device": "cpu",
          "impl": "blocked",
          "model": "BYSIZE_15",
          "name": "score.tmol_lj_cpu_cpp.blocked",
          "natoms": 264,
          "nres": 14,
          "rosetta_relative": 0.8640125749475438,
          "time": 0.0003585400991141796
         },
         {
          "device": "cpu",
          "impl": "blocked",
          "model": "BYSIZE_15",
          "name": "score.tmol_lj_cpu_cpp.blocked",
          "natoms": 264,
          "nres": 14,
          "rosetta_relative": 0.8465316598695554,
          "time": 0.00035128602758049965
         },
         {
          "device": "cpu",
          "impl": "blocked",
          "model": "BYSIZE_15",
          "name": "score.tmol_lj_cpu_cpp.blocked",
          "natoms": 264,
          "nres": 14,
          "rosetta_relative": 0.8352338133549074,
          "time": 0.00034659774973988533
         },
         {
          "device": "cpu",
          "impl": "blocked",
          "model": "BYSIZE_15",
          "name": "score.tmol_lj_cpu_cpp.blocked",
          "natoms": 264,
          "nres": 14,
          "rosetta_relative": 0.9575328896605717,
          "time": 0.0003973483107984066
         },
         {
          "device": "cpu",
          "impl": "blocked",
          "model": "BYSIZE_15",
          "name": "score.tmol_lj_cpu_cpp.blocked",
          "natoms": 264,
          "nres": 14,
          "rosetta_relative": 0.8540983443201188,
          "time": 0.00035442598164081573
         },
         {
          "device": "cpu",
          "impl": "blocked",
          "model": "BYSIZE_15",
          "name": "score.tmol_lj_cpu_cpp.blocked",
          "natoms": 264,
          "nres": 14,
          "rosetta_relative": 0.8362392633427028,
          "time": 0.00034701498225331306
         },
         {
          "device": "cpu",
          "impl": "blocked",
          "model": "BYSIZE_15",
          "name": "score.tmol_lj_cpu_cpp.blocked",
          "natoms": 264,
          "nres": 14,
          "rosetta_relative": 0.9379546687486663,
          "time": 0.0003892239183187485
         },
         {
          "device": "cpu",
          "impl": "blocked",
          "model": "BYSIZE_15",
          "name": "score.tmol_lj_cpu_cpp.blocked",
          "natoms": 264,
          "nres": 14,
          "rosetta_relative": 0.8562091160020866,
          "time": 0.0003553018905222416
         },
         {
          "device": "cpu",
          "impl": "blocked",
          "model": "BYSIZE_15",
          "name": "score.tmol_lj_cpu_cpp.blocked",
          "natoms": 264,
          "nres": 14,
          "rosetta_relative": 0.8378798524968959,
          "time": 0.000347695779055357
         },
         {
          "device": "cpu",
          "impl": "blocked",
          "model": "BYSIZE_15",
          "name": "score.tmol_lj_cpu_cpp.blocked",
          "natoms": 264,
          "nres": 14,
          "rosetta_relative": 0.8354369232296741,
          "time": 0.00034668203443288803
         },
         {
          "device": "cpu",
          "impl": "blocked",
          "model": "BYSIZE_15",
          "name": "score.tmol_lj_cpu_cpp.blocked",
          "natoms": 264,
          "nres": 14,
          "rosetta_relative": 0.8355020081619198,
          "time": 0.0003467090427875519
         },
         {
          "device": "cpu",
          "impl": "blocked",
          "model": "BYSIZE_15",
          "name": "score.tmol_lj_cpu_cpp.blocked",
          "natoms": 264,
          "nres": 14,
          "rosetta_relative": 0.856192283692023,
          "time": 0.000355294905602932
         },
         {
          "device": "cpu",
          "impl": "blocked",
          "model": "BYSIZE_15",
          "name": "score.tmol_lj_cpu_cpp.blocked",
          "natoms": 264,
          "nres": 14,
          "rosetta_relative": 0.8391288099036105,
          "time": 0.0003482140600681305
         },
         {
          "device": "cpu",
          "impl": "blocked",
          "model": "BYSIZE_15",
          "name": "score.tmol_lj_cpu_cpp.blocked",
          "natoms": 264,
          "nres": 14,
          "rosetta_relative": 0.8354414118456911,
          "time": 0.00034668389707803726
         },
         {
          "device": "cpu",
          "impl": "blocked",
          "model": "BYSIZE_15",
          "name": "score.tmol_lj_cpu_cpp.blocked",
          "natoms": 264,
          "nres": 14,
          "rosetta_relative": 0.8337402263752692,
          "time": 0.00034597795456647873
         },
         {
          "device": "cpu",
          "impl": "blocked",
          "model": "BYSIZE_15",
          "name": "score.tmol_lj_cpu_cpp.blocked",
          "natoms": 264,
          "nres": 14,
          "rosetta_relative": 0.8634054896312521,
          "time": 0.0003582881763577461
         },
         {
          "device": "cpu",
          "impl": "blocked",
          "model": "BYSIZE_15",
          "name": "score.tmol_lj_cpu_cpp.blocked",
          "natoms": 264,
          "nres": 14,
          "rosetta_relative": 0.8354425339996953,
          "time": 0.00034668436273932457
         },
         {
          "device": "cpu",
          "impl": "blocked",
          "model": "BYSIZE_15",
          "name": "score.tmol_lj_cpu_cpp.blocked",
          "natoms": 264,
          "nres": 14,
          "rosetta_relative": 0.8365355119998211,
          "time": 0.0003471379168331623
         },
         {
          "device": "cpu",
          "impl": "blocked",
          "model": "BYSIZE_15",
          "name": "score.tmol_lj_cpu_cpp.blocked",
          "natoms": 264,
          "nres": 14,
          "rosetta_relative": 0.8329502299562871,
          "time": 0.0003456501290202141
         },
         {
          "device": "cpu",
          "impl": "blocked",
          "model": "BYSIZE_15",
          "name": "score.tmol_lj_cpu_cpp.blocked",
          "natoms": 264,
          "nres": 14,
          "rosetta_relative": 0.8307429530299549,
          "time": 0.00034473417326807976
         },
         {
          "device": "cpu",
          "impl": "blocked",
          "model": "BYSIZE_15",
          "name": "score.tmol_lj_cpu_cpp.blocked",
          "natoms": 264,
          "nres": 14,
          "rosetta_relative": 0.8318269537980469,
          "time": 0.00034518400207161903
         },
         {
          "device": "cpu",
          "impl": "blocked",
          "model": "BYSIZE_15",
          "name": "score.tmol_lj_cpu_cpp.blocked",
          "natoms": 264,
          "nres": 14,
          "rosetta_relative": 0.8358352879011779,
          "time": 0.0003468473441898823
         },
         {
          "device": "cpu",
          "impl": "blocked",
          "model": "BYSIZE_15",
          "name": "score.tmol_lj_cpu_cpp.blocked",
          "natoms": 264,
          "nres": 14,
          "rosetta_relative": 0.880817953314982,
          "time": 0.0003655138425529003
         },
         {
          "device": "cpu",
          "impl": "blocked",
          "model": "BYSIZE_15",
          "name": "score.tmol_lj_cpu_cpp.blocked",
          "natoms": 264,
          "nres": 14,
          "rosetta_relative": 0.847980360689024,
          "time": 0.00035188719630241394
         },
         {
          "device": "cpu",
          "impl": "blocked",
          "model": "BYSIZE_15",
          "name": "score.tmol_lj_cpu_cpp.blocked",
          "natoms": 264,
          "nres": 14,
          "rosetta_relative": 0.832992871808448,
          "time": 0.0003456678241491318
         },
         {
          "device": "cpu",
          "impl": "blocked",
          "model": "BYSIZE_15",
          "name": "score.tmol_lj_cpu_cpp.blocked",
          "natoms": 264,
          "nres": 14,
          "rosetta_relative": 0.8311648829355477,
          "time": 0.00034490926191210747
         },
         {
          "device": "cpu",
          "impl": "blocked",
          "model": "BYSIZE_15",
          "name": "score.tmol_lj_cpu_cpp.blocked",
          "natoms": 264,
          "nres": 14,
          "rosetta_relative": 0.8325720640568596,
          "time": 0.00034549320116639137
         },
         {
          "device": "cpu",
          "impl": "blocked",
          "model": "BYSIZE_15",
          "name": "score.tmol_lj_cpu_cpp.blocked",
          "natoms": 264,
          "nres": 14,
          "rosetta_relative": 0.8312961749540433,
          "time": 0.0003449637442827225
         },
         {
          "device": "cpu",
          "impl": "blocked",
          "model": "BYSIZE_15",
          "name": "score.tmol_lj_cpu_cpp.blocked",
          "natoms": 264,
          "nres": 14,
          "rosetta_relative": 0.8302480831140868,
          "time": 0.00034452881664037704
         },
         {
          "device": "cpu",
          "impl": "blocked",
          "model": "BYSIZE_15",
          "name": "score.tmol_lj_cpu_cpp.blocked",
          "natoms": 264,
          "nres": 14,
          "rosetta_relative": 0.8299978427711422,
          "time": 0.0003444249741733074
         },
         {
          "device": "cpu",
          "impl": "blocked",
          "model": "BYSIZE_15",
          "name": "score.tmol_lj_cpu_cpp.blocked",
          "natoms": 264,
          "nres": 14,
          "rosetta_relative": 1.403206451828936,
          "time": 0.000582289882004261
         },
         {
          "device": "cpu",
          "impl": "blocked",
          "model": "BYSIZE_15",
          "name": "score.tmol_lj_cpu_cpp.blocked",
          "natoms": 264,
          "nres": 14,
          "rosetta_relative": 0.887997494634084,
          "time": 0.00036849314346909523
         },
         {
          "device": "cpu",
          "impl": "blocked",
          "model": "BYSIZE_15",
          "name": "score.tmol_lj_cpu_cpp.blocked",
          "natoms": 264,
          "nres": 14,
          "rosetta_relative": 0.845122234440235,
          "time": 0.00035070115700364113
         },
         {
          "device": "cpu",
          "impl": "blocked",
          "model": "BYSIZE_15",
          "name": "score.tmol_lj_cpu_cpp.blocked",
          "natoms": 264,
          "nres": 14,
          "rosetta_relative": 0.8569127065627427,
          "time": 0.00035559386014938354
         },
         {
          "device": "cpu",
          "impl": "blocked",
          "model": "BYSIZE_15",
          "name": "score.tmol_lj_cpu_cpp.blocked",
          "natoms": 264,
          "nres": 14,
          "rosetta_relative": 0.8436275253065927,
          "time": 0.0003500808961689472
         },
         {
          "device": "cpu",
          "impl": "blocked",
          "model": "BYSIZE_15",
          "name": "score.tmol_lj_cpu_cpp.blocked",
          "natoms": 264,
          "nres": 14,
          "rosetta_relative": 0.8387001470739924,
          "time": 0.00034803617745637894
         },
         {
          "device": "cpu",
          "impl": "blocked",
          "model": "BYSIZE_15",
          "name": "score.tmol_lj_cpu_cpp.blocked",
          "natoms": 264,
          "nres": 14,
          "rosetta_relative": 0.8327504865435331,
          "time": 0.0003455672413110733
         },
         {
          "device": "cpu",
          "impl": "blocked",
          "model": "BYSIZE_15",
          "name": "score.tmol_lj_cpu_cpp.blocked",
          "natoms": 264,
          "nres": 14,
          "rosetta_relative": 0.8317618688658012,
          "time": 0.0003451569937169552
         },
         {
          "device": "cpu",
          "impl": "blocked",
          "model": "BYSIZE_15",
          "name": "score.tmol_lj_cpu_cpp.blocked",
          "natoms": 264,
          "nres": 14,
          "rosetta_relative": 0.8352988982871531,
          "time": 0.0003466247580945492
         },
         {
          "device": "cpu",
          "impl": "blocked",
          "model": "BYSIZE_15",
          "name": "score.tmol_lj_cpu_cpp.blocked",
          "natoms": 264,
          "nres": 14,
          "rosetta_relative": 0.8364928701476602,
          "time": 0.0003471202217042446
         },
         {
          "device": "cpu",
          "impl": "blocked",
          "model": "BYSIZE_15",
          "name": "score.tmol_lj_cpu_cpp.blocked",
          "natoms": 264,
          "nres": 14,
          "rosetta_relative": 0.8314252226645304,
          "time": 0.00034501729533076286
         },
         {
          "device": "cpu",
          "impl": "blocked",
          "model": "BYSIZE_15",
          "name": "score.tmol_lj_cpu_cpp.blocked",
          "natoms": 264,
          "nres": 14,
          "rosetta_relative": 0.8276626402883271,
          "time": 0.00034345593303442
         },
         {
          "device": "cpu",
          "impl": "blocked",
          "model": "BYSIZE_15",
          "name": "score.tmol_lj_cpu_cpp.blocked",
          "natoms": 264,
          "nres": 14,
          "rosetta_relative": 0.8331600727550793,
          "time": 0.00034573720768094063
         },
         {
          "device": "cpu",
          "impl": "blocked",
          "model": "BYSIZE_15",
          "name": "score.tmol_lj_cpu_cpp.blocked",
          "natoms": 264,
          "nres": 14,
          "rosetta_relative": 0.8340993156566248,
          "time": 0.0003461269661784172
         },
         {
          "device": "cpu",
          "impl": "blocked",
          "model": "BYSIZE_15",
          "name": "score.tmol_lj_cpu_cpp.blocked",
          "natoms": 264,
          "nres": 14,
          "rosetta_relative": 0.855183467242215,
          "time": 0.0003548762761056423
         },
         {
          "device": "cpu",
          "impl": "blocked",
          "model": "BYSIZE_15",
          "name": "score.tmol_lj_cpu_cpp.blocked",
          "natoms": 264,
          "nres": 14,
          "rosetta_relative": 0.8373647838089515,
          "time": 0.0003474820405244827
         },
         {
          "device": "cpu",
          "impl": "blocked",
          "model": "BYSIZE_15",
          "name": "score.tmol_lj_cpu_cpp.blocked",
          "natoms": 264,
          "nres": 14,
          "rosetta_relative": 0.832759463775567,
          "time": 0.00034557096660137177
         },
         {
          "device": "cpu",
          "impl": "blocked",
          "model": "BYSIZE_15",
          "name": "score.tmol_lj_cpu_cpp.blocked",
          "natoms": 264,
          "nres": 14,
          "rosetta_relative": 0.833316052161668,
          "time": 0.0003458019345998764
         },
         {
          "device": "cpu",
          "impl": "blocked",
          "model": "BYSIZE_15",
          "name": "score.tmol_lj_cpu_cpp.blocked",
          "natoms": 264,
          "nres": 14,
          "rosetta_relative": 0.8311738601675815,
          "time": 0.00034491298720240593
         },
         {
          "device": "cpu",
          "impl": "blocked",
          "model": "BYSIZE_15",
          "name": "score.tmol_lj_cpu_cpp.blocked",
          "natoms": 264,
          "nres": 14,
          "rosetta_relative": 0.8348590139174926,
          "time": 0.00034644221886992455
         },
         {
          "device": "cpu",
          "impl": "blocked",
          "model": "BYSIZE_15",
          "name": "score.tmol_lj_cpu_cpp.blocked",
          "natoms": 264,
          "nres": 14,
          "rosetta_relative": 0.834323746457472,
          "time": 0.00034622009843587875
         },
         {
          "device": "cpu",
          "impl": "blocked",
          "model": "BYSIZE_15",
          "name": "score.tmol_lj_cpu_cpp.blocked",
          "natoms": 264,
          "nres": 14,
          "rosetta_relative": 0.83717626193624,
          "time": 0.000347403809428215
         },
         {
          "device": "cpu",
          "impl": "blocked",
          "model": "BYSIZE_15",
          "name": "score.tmol_lj_cpu_cpp.blocked",
          "natoms": 264,
          "nres": 14,
          "rosetta_relative": 0.9072850776588922,
          "time": 0.00037649692967534065
         },
         {
          "device": "cpu",
          "impl": "blocked",
          "model": "BYSIZE_15",
          "name": "score.tmol_lj_cpu_cpp.blocked",
          "natoms": 264,
          "nres": 14,
          "rosetta_relative": 0.8385037701232511,
          "time": 0.0003479546867311001
         },
         {
          "device": "cpu",
          "impl": "blocked",
          "model": "BYSIZE_15",
          "name": "score.tmol_lj_cpu_cpp.blocked",
          "natoms": 264,
          "nres": 14,
          "rosetta_relative": 0.8418848201380141,
          "time": 0.0003493577241897583
         },
         {
          "device": "cpu",
          "impl": "blocked",
          "model": "BYSIZE_15",
          "name": "score.tmol_lj_cpu_cpp.blocked",
          "natoms": 264,
          "nres": 14,
          "rosetta_relative": 0.869938670243914,
          "time": 0.0003609992563724518
         },
         {
          "device": "cpu",
          "impl": "blocked",
          "model": "BYSIZE_15",
          "name": "score.tmol_lj_cpu_cpp.blocked",
          "natoms": 264,
          "nres": 14,
          "rosetta_relative": 0.8543250194289744,
          "time": 0.0003545200452208519
         },
         {
          "device": "cpu",
          "impl": "blocked",
          "model": "BYSIZE_15",
          "name": "score.tmol_lj_cpu_cpp.blocked",
          "natoms": 264,
          "nres": 14,
          "rosetta_relative": 0.8363952427492917,
          "time": 0.00034707970917224884
         },
         {
          "device": "cpu",
          "impl": "blocked",
          "model": "BYSIZE_15",
          "name": "score.tmol_lj_cpu_cpp.blocked",
          "natoms": 264,
          "nres": 14,
          "rosetta_relative": 0.8324149624962666,
          "time": 0.0003454280085861683
         },
         {
          "device": "cpu",
          "impl": "blocked",
          "model": "BYSIZE_15",
          "name": "score.tmol_lj_cpu_cpp.blocked",
          "natoms": 264,
          "nres": 14,
          "rosetta_relative": 0.8341520568948239,
          "time": 0.00034614885225892067
         },
         {
          "device": "cpu",
          "impl": "blocked",
          "model": "BYSIZE_15",
          "name": "score.tmol_lj_cpu_cpp.blocked",
          "natoms": 264,
          "nres": 14,
          "rosetta_relative": 0.836644360938232,
          "time": 0.00034718308597803116
         },
         {
          "device": "cpu",
          "impl": "blocked",
          "model": "BYSIZE_15",
          "name": "score.tmol_lj_cpu_cpp.blocked",
          "natoms": 264,
          "nres": 14,
          "rosetta_relative": 0.8307306093359084,
          "time": 0.00034472905099391937
         },
         {
          "device": "cpu",
          "impl": "blocked",
          "model": "BYSIZE_15",
          "name": "score.tmol_lj_cpu_cpp.blocked",
          "natoms": 264,
          "nres": 14,
          "rosetta_relative": 0.8299765218450618,
          "time": 0.00034441612660884857
         },
         {
          "device": "cpu",
          "impl": "blocked",
          "model": "BYSIZE_15",
          "name": "score.tmol_lj_cpu_cpp.blocked",
          "natoms": 264,
          "nres": 14,
          "rosetta_relative": 0.8342710052192729,
          "time": 0.0003461982123553753
         },
         {
          "device": "cpu",
          "impl": "blocked",
          "model": "BYSIZE_15",
          "name": "score.tmol_lj_cpu_cpp.blocked",
          "natoms": 264,
          "nres": 14,
          "rosetta_relative": 0.8291259291098508,
          "time": 0.0003440631553530693
         },
         {
          "device": "cpu",
          "impl": "blocked",
          "model": "BYSIZE_15",
          "name": "score.tmol_lj_cpu_cpp.blocked",
          "natoms": 264,
          "nres": 14,
          "rosetta_relative": 0.8316709743914581,
          "time": 0.00034511927515268326
         },
         {
          "device": "cpu",
          "impl": "blocked",
          "model": "BYSIZE_15",
          "name": "score.tmol_lj_cpu_cpp.blocked",
          "natoms": 264,
          "nres": 14,
          "rosetta_relative": 0.8374321130492057,
          "time": 0.0003475099802017212
         },
         {
          "device": "cpu",
          "impl": "blocked",
          "model": "BYSIZE_15",
          "name": "score.tmol_lj_cpu_cpp.blocked",
          "natoms": 264,
          "nres": 14,
          "rosetta_relative": 0.8548210114988467,
          "time": 0.0003547258675098419
         },
         {
          "device": "cpu",
          "impl": "blocked",
          "model": "BYSIZE_15",
          "name": "score.tmol_lj_cpu_cpp.blocked",
          "natoms": 264,
          "nres": 14,
          "rosetta_relative": 0.8440180349000668,
          "time": 0.0003502429462969303
         },
         {
          "device": "cpu",
          "impl": "blocked",
          "model": "BYSIZE_15",
          "name": "score.tmol_lj_cpu_cpp.blocked",
          "natoms": 264,
          "nres": 14,
          "rosetta_relative": 0.839668565979648,
          "time": 0.0003484380431473255
         },
         {
          "device": "cpu",
          "impl": "blocked",
          "model": "BYSIZE_15",
          "name": "score.tmol_lj_cpu_cpp.blocked",
          "natoms": 264,
          "nres": 14,
          "rosetta_relative": 0.8388157289364286,
          "time": 0.00034808414056897163
         },
         {
          "device": "cpu",
          "impl": "blocked",
          "model": "BYSIZE_15",
          "name": "score.tmol_lj_cpu_cpp.blocked",
          "natoms": 264,
          "nres": 14,
          "rosetta_relative": 0.8342014316710102,
          "time": 0.0003461693413555622
         },
         {
          "device": "cpu",
          "impl": "blocked",
          "model": "BYSIZE_15",
          "name": "score.tmol_lj_cpu_cpp.blocked",
          "natoms": 264,
          "nres": 14,
          "rosetta_relative": 0.8303356111264173,
          "time": 0.00034456513822078705
         },
         {
          "device": "cpu",
          "impl": "blocked",
          "model": "BYSIZE_15",
          "name": "score.tmol_lj_cpu_cpp.blocked",
          "natoms": 264,
          "nres": 14,
          "rosetta_relative": 0.8396102139714278,
          "time": 0.0003484138287603855
         },
         {
          "device": "cpu",
          "impl": "blocked",
          "model": "BYSIZE_15",
          "name": "score.tmol_lj_cpu_cpp.blocked",
          "natoms": 264,
          "nres": 14,
          "rosetta_relative": 0.8333519610898036,
          "time": 0.00034581683576107025
         },
         {
          "device": "cpu",
          "impl": "blocked",
          "model": "BYSIZE_15",
          "name": "score.tmol_lj_cpu_cpp.blocked",
          "natoms": 264,
          "nres": 14,
          "rosetta_relative": 0.8295882565595961,
          "time": 0.0003442550078034401
         },
         {
          "device": "cpu",
          "impl": "blocked",
          "model": "BYSIZE_15",
          "name": "score.tmol_lj_cpu_cpp.blocked",
          "natoms": 264,
          "nres": 14,
          "rosetta_relative": 0.8350273370181279,
          "time": 0.0003465120680630207
         },
         {
          "device": "cpu",
          "impl": "blocked",
          "model": "BYSIZE_15",
          "name": "score.tmol_lj_cpu_cpp.blocked",
          "natoms": 264,
          "nres": 14,
          "rosetta_relative": 0.8352057595048015,
          "time": 0.00034658610820770264
         },
         {
          "device": "cpu",
          "impl": "blocked",
          "model": "BYSIZE_15",
          "name": "score.tmol_lj_cpu_cpp.blocked",
          "natoms": 264,
          "nres": 14,
          "rosetta_relative": 0.8551868337042277,
          "time": 0.00035487767308950424
         },
         {
          "device": "cpu",
          "impl": "blocked",
          "model": "BYSIZE_15",
          "name": "score.tmol_lj_cpu_cpp.blocked",
          "natoms": 264,
          "nres": 14,
          "rosetta_relative": 0.8408995689222949,
          "time": 0.0003489488735795021
         },
         {
          "device": "cpu",
          "impl": "blocked",
          "model": "BYSIZE_15",
          "name": "score.tmol_lj_cpu_cpp.blocked",
          "natoms": 264,
          "nres": 14,
          "rosetta_relative": 0.8368564480450327,
          "time": 0.0003472710959613323
         },
         {
          "device": "cpu",
          "impl": "blocked",
          "model": "BYSIZE_15",
          "name": "score.tmol_lj_cpu_cpp.blocked",
          "natoms": 264,
          "nres": 14,
          "rosetta_relative": 0.8345212455622175,
          "time": 0.0003463020548224449
         },
         {
          "device": "cpu",
          "impl": "blocked",
          "model": "BYSIZE_15",
          "name": "score.tmol_lj_cpu_cpp.blocked",
          "natoms": 264,
          "nres": 14,
          "rosetta_relative": 0.8297060827300409,
          "time": 0.0003443039022386074
         },
         {
          "device": "cpu",
          "impl": "blocked",
          "model": "BYSIZE_15",
          "name": "score.tmol_lj_cpu_cpp.blocked",
          "natoms": 264,
          "nres": 14,
          "rosetta_relative": 0.8315520260670091,
          "time": 0.00034506991505622864
         },
         {
          "device": "cpu",
          "impl": "blocked",
          "model": "BYSIZE_15",
          "name": "score.tmol_lj_cpu_cpp.blocked",
          "natoms": 264,
          "nres": 14,
          "rosetta_relative": 0.8328941222560753,
          "time": 0.0003456268459558487
         },
         {
          "device": "cpu",
          "impl": "blocked",
          "model": "BYSIZE_15",
          "name": "score.tmol_lj_cpu_cpp.blocked",
          "natoms": 264,
          "nres": 14,
          "rosetta_relative": 0.8292942522104862,
          "time": 0.00034413300454616547
         },
         {
          "device": "cpu",
          "impl": "blocked",
          "model": "BYSIZE_15",
          "name": "score.tmol_lj_cpu_cpp.blocked",
          "natoms": 264,
          "nres": 14,
          "rosetta_relative": 0.8288947653849782,
          "time": 0.0003439672291278839
         },
         {
          "device": "cpu",
          "impl": "blocked",
          "model": "BYSIZE_15",
          "name": "score.tmol_lj_cpu_cpp.blocked",
          "natoms": 264,
          "nres": 14,
          "rosetta_relative": 0.8306026837794255,
          "time": 0.0003446759656071663
         },
         {
          "device": "cpu",
          "impl": "blocked",
          "model": "BYSIZE_15",
          "name": "score.tmol_lj_cpu_cpp.blocked",
          "natoms": 264,
          "nres": 14,
          "rosetta_relative": 0.8304635366829002,
          "time": 0.00034461822360754013
         },
         {
          "device": "cpu",
          "impl": "blocked",
          "model": "BYSIZE_15",
          "name": "score.tmol_lj_cpu_cpp.blocked",
          "natoms": 264,
          "nres": 14,
          "rosetta_relative": 0.8309864604488741,
          "time": 0.00034483522176742554
         },
         {
          "device": "cpu",
          "impl": "blocked",
          "model": "BYSIZE_15",
          "name": "score.tmol_lj_cpu_cpp.blocked",
          "natoms": 264,
          "nres": 14,
          "rosetta_relative": 0.8692923095374742,
          "time": 0.0003607310354709625
         },
         {
          "device": "cpu",
          "impl": "blocked",
          "model": "BYSIZE_15",
          "name": "score.tmol_lj_cpu_cpp.blocked",
          "natoms": 264,
          "nres": 14,
          "rosetta_relative": 0.8432920012593261,
          "time": 0.0003499416634440422
         },
         {
          "device": "cpu",
          "impl": "blocked",
          "model": "BYSIZE_15",
          "name": "score.tmol_lj_cpu_cpp.blocked",
          "natoms": 264,
          "nres": 14,
          "rosetta_relative": 0.8347950511392511,
          "time": 0.000346415676176548
         },
         {
          "device": "cpu",
          "impl": "blocked",
          "model": "BYSIZE_15",
          "name": "score.tmol_lj_cpu_cpp.blocked",
          "natoms": 264,
          "nres": 14,
          "rosetta_relative": 0.8310436903030902,
          "time": 0.00034485897049307823
         },
         {
          "device": "cpu",
          "impl": "blocked",
          "model": "BYSIZE_15",
          "name": "score.tmol_lj_cpu_cpp.blocked",
          "natoms": 264,
          "nres": 14,
          "rosetta_relative": 0.8323958858781946,
          "time": 0.00034542009234428406
         },
         {
          "device": "cpu",
          "impl": "blocked",
          "model": "BYSIZE_15",
          "name": "score.tmol_lj_cpu_cpp.blocked",
          "natoms": 264,
          "nres": 14,
          "rosetta_relative": 0.83075754103201,
          "time": 0.00034474022686481476
         },
         {
          "device": "cpu",
          "impl": "blocked",
          "model": "BYSIZE_15",
          "name": "score.tmol_lj_cpu_cpp.blocked",
          "natoms": 264,
          "nres": 14,
          "rosetta_relative": 0.8288386576847665,
          "time": 0.0003439439460635185
         },
         {
          "device": "cpu",
          "impl": "blocked",
          "model": "BYSIZE_15",
          "name": "score.tmol_lj_cpu_cpp.blocked",
          "natoms": 264,
          "nres": 14,
          "rosetta_relative": 0.8341139036586799,
          "time": 0.0003461330197751522
         },
         {
          "device": "cpu",
          "impl": "blocked",
          "model": "BYSIZE_15",
          "name": "score.tmol_lj_cpu_cpp.blocked",
          "natoms": 264,
          "nres": 14,
          "rosetta_relative": 0.8299417350709304,
          "time": 0.00034440169110894203
         },
         {
          "device": "cpu",
          "impl": "blocked",
          "model": "BYSIZE_15",
          "name": "score.tmol_lj_cpu_cpp.blocked",
          "natoms": 264,
          "nres": 14,
          "rosetta_relative": 0.8302783812722012,
          "time": 0.00034454138949513435
         },
         {
          "device": "cpu",
          "impl": "blocked",
          "model": "BYSIZE_15",
          "name": "score.tmol_lj_cpu_cpp.blocked",
          "natoms": 264,
          "nres": 14,
          "rosetta_relative": 0.8319593679705467,
          "time": 0.00034523895010352135
         },
         {
          "device": "cpu",
          "impl": "blocked",
          "model": "BYSIZE_15",
          "name": "score.tmol_lj_cpu_cpp.blocked",
          "natoms": 264,
          "nres": 14,
          "rosetta_relative": 0.8505972238269024,
          "time": 0.0003529731184244156
         },
         {
          "device": "cpu",
          "impl": "blocked",
          "model": "BYSIZE_15",
          "name": "score.tmol_lj_cpu_cpp.blocked",
          "natoms": 264,
          "nres": 14,
          "rosetta_relative": 0.8426175867027802,
          "time": 0.00034966180101037025
         },
         {
          "device": "cpu",
          "impl": "blocked",
          "model": "BYSIZE_15",
          "name": "score.tmol_lj_cpu_cpp.blocked",
          "natoms": 264,
          "nres": 14,
          "rosetta_relative": 0.8319862996666484,
          "time": 0.00034525012597441673
         },
         {
          "device": "cpu",
          "impl": "blocked",
          "model": "BYSIZE_15",
          "name": "score.tmol_lj_cpu_cpp.blocked",
          "natoms": 264,
          "nres": 14,
          "rosetta_relative": 0.8332947312355876,
          "time": 0.00034579308703541756
         },
         {
          "device": "cpu",
          "impl": "blocked",
          "model": "BYSIZE_15",
          "name": "score.tmol_lj_cpu_cpp.blocked",
          "natoms": 264,
          "nres": 14,
          "rosetta_relative": 0.8320973929130678,
          "time": 0.0003452962264418602
         },
         {
          "device": "cpu",
          "impl": "blocked",
          "model": "BYSIZE_15",
          "name": "score.tmol_lj_cpu_cpp.blocked",
          "natoms": 264,
          "nres": 14,
          "rosetta_relative": 0.830258182500125,
          "time": 0.0003445330075919628
         },
         {
          "device": "cpu",
          "impl": "blocked",
          "model": "BYSIZE_15",
          "name": "score.tmol_lj_cpu_cpp.blocked",
          "natoms": 264,
          "nres": 14,
          "rosetta_relative": 0.8311323404694249,
          "time": 0.00034489575773477554
         },
         {
          "device": "cpu",
          "impl": "blocked",
          "model": "BYSIZE_15",
          "name": "score.tmol_lj_cpu_cpp.blocked",
          "natoms": 264,
          "nres": 14,
          "rosetta_relative": 0.8337088060631507,
          "time": 0.0003459649160504341
         },
         {
          "device": "cpu",
          "impl": "blocked",
          "model": "BYSIZE_15",
          "name": "score.tmol_lj_cpu_cpp.blocked",
          "natoms": 264,
          "nres": 14,
          "rosetta_relative": 0.8329446191862659,
          "time": 0.00034564780071377754
         },
         {
          "device": "cpu",
          "impl": "blocked",
          "model": "BYSIZE_15",
          "name": "score.tmol_lj_cpu_cpp.blocked",
          "natoms": 264,
          "nres": 14,
          "rosetta_relative": 0.8303849859026037,
          "time": 0.0003445856273174286
         },
         {
          "device": "cpu",
          "impl": "blocked",
          "model": "BYSIZE_15",
          "name": "score.tmol_lj_cpu_cpp.blocked",
          "natoms": 264,
          "nres": 14,
          "rosetta_relative": 0.834903900077662,
          "time": 0.00034646084532141685
         },
         {
          "device": "cpu",
          "impl": "blocked",
          "model": "BYSIZE_15",
          "name": "score.tmol_lj_cpu_cpp.blocked",
          "natoms": 264,
          "nres": 14,
          "rosetta_relative": 0.8278848267811658,
          "time": 0.00034354813396930695
         },
         {
          "device": "cpu",
          "impl": "blocked",
          "model": "BYSIZE_15",
          "name": "score.tmol_lj_cpu_cpp.blocked",
          "natoms": 264,
          "nres": 14,
          "rosetta_relative": 0.8549713801354143,
          "time": 0.00035478826612234116
         },
         {
          "device": "cpu",
          "impl": "blocked",
          "model": "BYSIZE_15",
          "name": "score.tmol_lj_cpu_cpp.blocked",
          "natoms": 264,
          "nres": 14,
          "rosetta_relative": 0.8328189379377915,
          "time": 0.0003455956466495991
         },
         {
          "device": "cpu",
          "impl": "blocked",
          "model": "BYSIZE_15",
          "name": "score.tmol_lj_cpu_cpp.blocked",
          "natoms": 264,
          "nres": 14,
          "rosetta_relative": 0.8315396823729625,
          "time": 0.00034506479278206825
         },
         {
          "device": "cpu",
          "impl": "blocked",
          "model": "BYSIZE_15",
          "name": "score.tmol_lj_cpu_cpp.blocked",
          "natoms": 264,
          "nres": 14,
          "rosetta_relative": 0.8299641781510152,
          "time": 0.0003444110043346882
         },
         {
          "device": "cpu",
          "impl": "blocked",
          "model": "BYSIZE_15",
          "name": "score.tmol_lj_cpu_cpp.blocked",
          "natoms": 264,
          "nres": 14,
          "rosetta_relative": 0.8305959508554001,
          "time": 0.00034467317163944244
         },
         {
          "device": "cpu",
          "impl": "blocked",
          "model": "BYSIZE_15",
          "name": "score.tmol_lj_cpu_cpp.blocked",
          "natoms": 264,
          "nres": 14,
          "rosetta_relative": 0.8298340082865238,
          "time": 0.0003443569876253605
         },
         {
          "device": "cpu",
          "impl": "blocked",
          "model": "BYSIZE_15",
          "name": "score.tmol_lj_cpu_cpp.blocked",
          "natoms": 264,
          "nres": 14,
          "rosetta_relative": 0.8267593063149171,
          "time": 0.0003430810756981373
         },
         {
          "device": "cpu",
          "impl": "blocked",
          "model": "BYSIZE_15",
          "name": "score.tmol_lj_cpu_cpp.blocked",
          "natoms": 264,
          "nres": 14,
          "rosetta_relative": 0.8319346805824536,
          "time": 0.0003452287055552006
         },
         {
          "device": "cpu",
          "impl": "blocked",
          "model": "BYSIZE_15",
          "name": "score.tmol_lj_cpu_cpp.blocked",
          "natoms": 264,
          "nres": 14,
          "rosetta_relative": 0.8313062743400814,
          "time": 0.00034496793523430824
         },
         {
          "device": "cpu",
          "impl": "blocked",
          "model": "BYSIZE_15",
          "name": "score.tmol_lj_cpu_cpp.blocked",
          "natoms": 264,
          "nres": 14,
          "rosetta_relative": 0.8321288132251864,
          "time": 0.0003453092649579048
         },
         {
          "device": "cpu",
          "impl": "blocked",
          "model": "BYSIZE_15",
          "name": "score.tmol_lj_cpu_cpp.blocked",
          "natoms": 264,
          "nres": 14,
          "rosetta_relative": 0.8348219828353528,
          "time": 0.0003464268520474434
         },
         {
          "device": "cpu",
          "impl": "blocked",
          "model": "BYSIZE_15",
          "name": "score.tmol_lj_cpu_cpp.blocked",
          "natoms": 264,
          "nres": 14,
          "rosetta_relative": 0.8661715992516938,
          "time": 0.0003594360314309597
         },
         {
          "device": "cpu",
          "impl": "blocked",
          "model": "BYSIZE_15",
          "name": "score.tmol_lj_cpu_cpp.blocked",
          "natoms": 264,
          "nres": 14,
          "rosetta_relative": 0.8447743666989218,
          "time": 0.00035055680200457573
         },
         {
          "device": "cpu",
          "impl": "blocked",
          "model": "BYSIZE_15",
          "name": "score.tmol_lj_cpu_cpp.blocked",
          "natoms": 264,
          "nres": 14,
          "rosetta_relative": 0.8315957900731743,
          "time": 0.00034508807584643364
         },
         {
          "device": "cpu",
          "impl": "blocked",
          "model": "BYSIZE_15",
          "name": "score.tmol_lj_cpu_cpp.blocked",
          "natoms": 264,
          "nres": 14,
          "rosetta_relative": 0.8293447491406769,
          "time": 0.0003441539593040943
         },
         {
          "device": "cpu",
          "impl": "blocked",
          "model": "BYSIZE_15",
          "name": "score.tmol_lj_cpu_cpp.blocked",
          "natoms": 264,
          "nres": 14,
          "rosetta_relative": 0.8288588564568427,
          "time": 0.00034395232796669006
         },
         {
          "device": "cpu",
          "impl": "blocked",
          "model": "BYSIZE_15",
          "name": "score.tmol_lj_cpu_cpp.blocked",
          "natoms": 264,
          "nres": 14,
          "rosetta_relative": 0.8280531498818012,
          "time": 0.0003436179831624031
         },
         {
          "device": "cpu",
          "impl": "blocked",
          "model": "BYSIZE_15",
          "name": "score.tmol_lj_cpu_cpp.blocked",
          "natoms": 264,
          "nres": 14,
          "rosetta_relative": 0.8295804014815664,
          "time": 0.00034425174817442894
         },
         {
          "device": "cpu",
          "impl": "blocked",
          "model": "BYSIZE_15",
          "name": "score.tmol_lj_cpu_cpp.blocked",
          "natoms": 264,
          "nres": 14,
          "rosetta_relative": 0.8307418308759507,
          "time": 0.00034473370760679245
         },
         {
          "device": "cpu",
          "impl": "blocked",
          "model": "BYSIZE_15",
          "name": "score.tmol_lj_cpu_cpp.blocked",
          "natoms": 264,
          "nres": 14,
          "rosetta_relative": 0.8342799824513067,
          "time": 0.00034620193764567375
         },
         {
          "device": "cpu",
          "impl": "blocked",
          "model": "BYSIZE_15",
          "name": "score.tmol_lj_cpu_cpp.blocked",
          "natoms": 264,
          "nres": 14,
          "rosetta_relative": 0.8341599119728536,
          "time": 0.0003461521118879318
         },
         {
          "device": "cpu",
          "impl": "blocked",
          "model": "BYSIZE_15",
          "name": "score.tmol_lj_cpu_cpp.blocked",
          "natoms": 264,
          "nres": 14,
          "rosetta_relative": 0.8398952410885038,
          "time": 0.0003485321067273617
         },
         {
          "device": "cpu",
          "impl": "blocked",
          "model": "BYSIZE_15",
          "name": "score.tmol_lj_cpu_cpp.blocked",
          "natoms": 264,
          "nres": 14,
          "rosetta_relative": 0.8572785287681235,
          "time": 0.00035574566572904587
         },
         {
          "device": "cpu",
          "impl": "blocked",
          "model": "BYSIZE_15",
          "name": "score.tmol_lj_cpu_cpp.blocked",
          "natoms": 264,
          "nres": 14,
          "rosetta_relative": 0.8405775107230792,
          "time": 0.0003488152287900448
         },
         {
          "device": "cpu",
          "impl": "blocked",
          "model": "BYSIZE_15",
          "name": "score.tmol_lj_cpu_cpp.blocked",
          "natoms": 264,
          "nres": 14,
          "rosetta_relative": 0.8347625086731283,
          "time": 0.0003464021719992161
         },
         {
          "device": "cpu",
          "impl": "blocked",
          "model": "BYSIZE_15",
          "name": "score.tmol_lj_cpu_cpp.blocked",
          "natoms": 264,
          "nres": 14,
          "rosetta_relative": 0.83349671895635,
          "time": 0.00034587690606713295
         },
         {
          "device": "cpu",
          "impl": "blocked",
          "model": "BYSIZE_15",
          "name": "score.tmol_lj_cpu_cpp.blocked",
          "natoms": 264,
          "nres": 14,
          "rosetta_relative": 0.8272968180829462,
          "time": 0.0003433041274547577
         },
         {
          "device": "cpu",
          "impl": "blocked",
          "model": "BYSIZE_15",
          "name": "score.tmol_lj_cpu_cpp.blocked",
          "natoms": 264,
          "nres": 14,
          "rosetta_relative": 0.8255316698342829,
          "time": 0.0003425716422498226
         },
         {
          "device": "cpu",
          "impl": "blocked",
          "model": "BYSIZE_15",
          "name": "score.tmol_lj_cpu_cpp.blocked",
          "natoms": 264,
          "nres": 14,
          "rosetta_relative": 0.830676745943705,
          "time": 0.0003447066992521286
         },
         {
          "device": "cpu",
          "impl": "blocked",
          "model": "BYSIZE_15",
          "name": "score.tmol_lj_cpu_cpp.blocked",
          "natoms": 264,
          "nres": 14,
          "rosetta_relative": 0.828090180963941,
          "time": 0.00034363334998488426
         },
         {
          "device": "cpu",
          "impl": "blocked",
          "model": "BYSIZE_15",
          "name": "score.tmol_lj_cpu_cpp.blocked",
          "natoms": 264,
          "nres": 14,
          "rosetta_relative": 0.833225157687325,
          "time": 0.0003457642160356045
         },
         {
          "device": "cpu",
          "impl": "blocked",
          "model": "BYSIZE_15",
          "name": "score.tmol_lj_cpu_cpp.blocked",
          "natoms": 264,
          "nres": 14,
          "rosetta_relative": 0.8325911406749317,
          "time": 0.0003455011174082756
         },
         {
          "device": "cpu",
          "impl": "blocked",
          "model": "BYSIZE_15",
          "name": "score.tmol_lj_cpu_cpp.blocked",
          "natoms": 264,
          "nres": 14,
          "rosetta_relative": 0.8301672880257819,
          "time": 0.0003444952890276909
         },
         {
          "device": "cpu",
          "impl": "blocked",
          "model": "BYSIZE_15",
          "name": "score.tmol_lj_cpu_cpp.blocked",
          "natoms": 264,
          "nres": 14,
          "rosetta_relative": 0.8305566754652518,
          "time": 0.0003446568734943867
         },
         {
          "device": "cpu",
          "impl": "blocked",
          "model": "BYSIZE_15",
          "name": "score.tmol_lj_cpu_cpp.blocked",
          "natoms": 264,
          "nres": 14,
          "rosetta_relative": 0.8495614756809926,
          "time": 0.00035254331305623055
         },
         {
          "device": "cpu",
          "impl": "blocked",
          "model": "BYSIZE_15",
          "name": "score.tmol_lj_cpu_cpp.blocked",
          "natoms": 264,
          "nres": 14,
          "rosetta_relative": 0.8394632117968729,
          "time": 0.0003483528271317482
         },
         {
          "device": "cpu",
          "impl": "blocked",
          "model": "BYSIZE_15",
          "name": "score.tmol_lj_cpu_cpp.blocked",
          "natoms": 264,
          "nres": 14,
          "rosetta_relative": 0.8337424706832778,
          "time": 0.00034597888588905334
         },
         {
          "device": "cpu",
          "impl": "blocked",
          "model": "BYSIZE_15",
          "name": "score.tmol_lj_cpu_cpp.blocked",
          "natoms": 264,
          "nres": 14,
          "rosetta_relative": 0.8367139344864947,
          "time": 0.00034721195697784424
         },
         {
          "device": "cpu",
          "impl": "blocked",
          "model": "BYSIZE_15",
          "name": "score.tmol_lj_cpu_cpp.blocked",
          "natoms": 264,
          "nres": 14,
          "rosetta_relative": 0.83143307774256,
          "time": 0.000345020554959774
         },
         {
          "device": "cpu",
          "impl": "blocked",
          "model": "BYSIZE_15",
          "name": "score.tmol_lj_cpu_cpp.blocked",
          "natoms": 264,
          "nres": 14,
          "rosetta_relative": 0.8303939631346375,
          "time": 0.00034458935260772705
         },
         {
          "device": "cpu",
          "impl": "blocked",
          "model": "BYSIZE_15",
          "name": "score.tmol_lj_cpu_cpp.blocked",
          "natoms": 264,
          "nres": 14,
          "rosetta_relative": 0.8291393949579017,
          "time": 0.000344068743288517
         },
         {
          "device": "cpu",
          "impl": "blocked",
          "model": "BYSIZE_15",
          "name": "score.tmol_lj_cpu_cpp.blocked",
          "natoms": 264,
          "nres": 14,
          "rosetta_relative": 0.8266717783025868,
          "time": 0.0003430447541177273
         },
         {
          "device": "cpu",
          "impl": "blocked",
          "model": "BYSIZE_15",
          "name": "score.tmol_lj_cpu_cpp.blocked",
          "natoms": 264,
          "nres": 14,
          "rosetta_relative": 0.8297520910442145,
          "time": 0.000344322994351387
         },
         {
          "device": "cpu",
          "impl": "blocked",
          "model": "BYSIZE_15",
          "name": "score.tmol_lj_cpu_cpp.blocked",
          "natoms": 264,
          "nres": 14,
          "rosetta_relative": 0.8290911423357196,
          "time": 0.00034404871985316277
         },
         {
          "device": "cpu",
          "impl": "blocked",
          "model": "BYSIZE_15",
          "name": "score.tmol_lj_cpu_cpp.blocked",
          "natoms": 264,
          "nres": 14,
          "rosetta_relative": 0.8268580558672899,
          "time": 0.00034312205389142036
         },
         {
          "device": "cpu",
          "impl": "blocked",
          "model": "BYSIZE_15",
          "name": "score.tmol_lj_cpu_cpp.blocked",
          "natoms": 264,
          "nres": 14,
          "rosetta_relative": 0.8693450507756733,
          "time": 0.000360752921551466
         },
         {
          "device": "cpu",
          "impl": "blocked",
          "model": "BYSIZE_15",
          "name": "score.tmol_lj_cpu_cpp.blocked",
          "natoms": 264,
          "nres": 14,
          "rosetta_relative": 0.8490284525289805,
          "time": 0.00035232212394475937
         },
         {
          "device": "cpu",
          "impl": "blocked",
          "model": "BYSIZE_15",
          "name": "score.tmol_lj_cpu_cpp.blocked",
          "natoms": 264,
          "nres": 14,
          "rosetta_relative": 0.832221952007538,
          "time": 0.00034534791484475136
         },
         {
          "device": "cpu",
          "impl": "blocked",
          "model": "BYSIZE_15",
          "name": "score.tmol_lj_cpu_cpp.blocked",
          "natoms": 264,
          "nres": 14,
          "rosetta_relative": 0.8350105047080645,
          "time": 0.0003465050831437111
         },
         {
          "device": "cpu",
          "impl": "blocked",
          "model": "BYSIZE_15",
          "name": "score.tmol_lj_cpu_cpp.blocked",
          "natoms": 264,
          "nres": 14,
          "rosetta_relative": 0.8269927143477982,
          "time": 0.0003431779332458973
         },
         {
          "device": "cpu",
          "impl": "blocked",
          "model": "BYSIZE_15",
          "name": "score.tmol_lj_cpu_cpp.blocked",
          "natoms": 264,
          "nres": 14,
          "rosetta_relative": 0.8337884789974515,
          "time": 0.00034599797800183296
         },
         {
          "device": "cpu",
          "impl": "blocked",
          "model": "BYSIZE_15",
          "name": "score.tmol_lj_cpu_cpp.blocked",
          "natoms": 264,
          "nres": 14,
          "rosetta_relative": 0.8362078430305843,
          "time": 0.00034700194373726845
         },
         {
          "device": "cpu",
          "impl": "blocked",
          "model": "BYSIZE_15",
          "name": "score.tmol_lj_cpu_cpp.blocked",
          "natoms": 264,
          "nres": 14,
          "rosetta_relative": 0.8305095449970739,
          "time": 0.00034463731572031975
         },
         {
          "device": "cpu",
          "impl": "blocked",
          "model": "BYSIZE_15",
          "name": "score.tmol_lj_cpu_cpp.blocked",
          "natoms": 264,
          "nres": 14,
          "rosetta_relative": 0.8341733778209044,
          "time": 0.0003461576998233795
         },
         {
          "device": "cpu",
          "impl": "blocked",
          "model": "BYSIZE_15",
          "name": "score.tmol_lj_cpu_cpp.blocked",
          "natoms": 264,
          "nres": 14,
          "rosetta_relative": 0.8327953727037025,
          "time": 0.0003455858677625656
         },
         {
          "device": "cpu",
          "impl": "blocked",
          "model": "BYSIZE_15",
          "name": "score.tmol_lj_cpu_cpp.blocked",
          "natoms": 264,
          "nres": 14,
          "rosetta_relative": 0.8331376296749945,
          "time": 0.0003457278944551945
         },
         {
          "device": "cpu",
          "impl": "blocked",
          "model": "BYSIZE_15",
          "name": "score.tmol_lj_cpu_cpp.blocked",
          "natoms": 264,
          "nres": 14,
          "rosetta_relative": 0.8308843444344887,
          "time": 0.00034479284659028053
         },
         {
          "device": "cpu",
          "impl": "blocked",
          "model": "BYSIZE_15",
          "name": "score.tmol_lj_cpu_cpp.blocked",
          "natoms": 264,
          "nres": 14,
          "rosetta_relative": 0.8619590331197919,
          "time": 0.00035768793895840645
         },
         {
          "device": "cpu",
          "impl": "blocked",
          "model": "BYSIZE_15",
          "name": "score.tmol_lj_cpu_cpp.blocked",
          "natoms": 264,
          "nres": 14,
          "rosetta_relative": 0.8380234882094381,
          "time": 0.00034775538370013237
         },
         {
          "device": "cpu",
          "impl": "blocked",
          "model": "BYSIZE_15",
          "name": "score.tmol_lj_cpu_cpp.blocked",
          "natoms": 264,
          "nres": 14,
          "rosetta_relative": 0.842155259253035,
          "time": 0.00034946994855999947
         },
         {
          "device": "cpu",
          "impl": "blocked",
          "model": "BYSIZE_15",
          "name": "score.tmol_lj_cpu_cpp.blocked",
          "natoms": 264,
          "nres": 14,
          "rosetta_relative": 0.8327504865435331,
          "time": 0.0003455672413110733
         },
         {
          "device": "cpu",
          "impl": "blocked",
          "model": "BYSIZE_15",
          "name": "score.tmol_lj_cpu_cpp.blocked",
          "natoms": 264,
          "nres": 14,
          "rosetta_relative": 0.8354088693795682,
          "time": 0.00034667039290070534
         },
         {
          "device": "cpu",
          "impl": "blocked",
          "model": "BYSIZE_15",
          "name": "score.tmol_lj_cpu_cpp.blocked",
          "natoms": 264,
          "nres": 14,
          "rosetta_relative": 0.8310156364529843,
          "time": 0.00034484732896089554
         },
         {
          "device": "cpu",
          "impl": "blocked",
          "model": "BYSIZE_15",
          "name": "score.tmol_lj_cpu_cpp.blocked",
          "natoms": 264,
          "nres": 14,
          "rosetta_relative": 0.8323476332560124,
          "time": 0.0003454000689089298
         },
         {
          "device": "cpu",
          "impl": "blocked",
          "model": "BYSIZE_15",
          "name": "score.tmol_lj_cpu_cpp.blocked",
          "natoms": 264,
          "nres": 14,
          "rosetta_relative": 0.8274123999453825,
          "time": 0.0003433520905673504
         },
         {
          "device": "cpu",
          "impl": "blocked",
          "model": "BYSIZE_15",
          "name": "score.tmol_lj_cpu_cpp.blocked",
          "natoms": 264,
          "nres": 14,
          "rosetta_relative": 0.8305690191592984,
          "time": 0.00034466199576854706
         },
         {
          "device": "cpu",
          "impl": "blocked",
          "model": "BYSIZE_15",
          "name": "score.tmol_lj_cpu_cpp.blocked",
          "natoms": 264,
          "nres": 14,
          "rosetta_relative": 0.8280845701939199,
          "time": 0.0003436310216784477
         },
         {
          "device": "cpu",
          "impl": "blocked",
          "model": "BYSIZE_15",
          "name": "score.tmol_lj_cpu_cpp.blocked",
          "natoms": 264,
          "nres": 14,
          "rosetta_relative": 0.8310392016870732,
          "time": 0.000344857107847929
         },
         {
          "device": "cpu",
          "impl": "blocked",
          "model": "BYSIZE_15",
          "name": "score.tmol_lj_cpu_cpp.blocked",
          "natoms": 264,
          "nres": 14,
          "rosetta_relative": 0.8515566655005242,
          "time": 0.0003533712588250637
         },
         {
          "device": "cpu",
          "impl": "blocked",
          "model": "BYSIZE_15",
          "name": "score.tmol_lj_cpu_cpp.blocked",
          "natoms": 264,
          "nres": 14,
          "rosetta_relative": 0.839872798008419,
          "time": 0.0003485227935016155
         },
         {
          "device": "cpu",
          "impl": "blocked",
          "model": "BYSIZE_15",
          "name": "score.tmol_lj_cpu_cpp.blocked",
          "natoms": 264,
          "nres": 14,
          "rosetta_relative": 0.8350363142501619,
          "time": 0.00034651579335331917
         },
         {
          "device": "cpu",
          "impl": "blocked",
          "model": "BYSIZE_15",
          "name": "score.tmol_lj_cpu_cpp.blocked",
          "natoms": 264,
          "nres": 14,
          "rosetta_relative": 0.8328469917878975,
          "time": 0.00034560728818178177
         },
         {
          "device": "cpu",
          "impl": "blocked",
          "model": "BYSIZE_15",
          "name": "score.tmol_lj_cpu_cpp.blocked",
          "natoms": 264,
          "nres": 14,
          "rosetta_relative": 0.8320727055249746,
          "time": 0.00034528598189353943
         },
         {
          "device": "cpu",
          "impl": "blocked",
          "model": "BYSIZE_15",
          "name": "score.tmol_lj_cpu_cpp.blocked",
          "natoms": 264,
          "nres": 14,
          "rosetta_relative": 0.8331892487591894,
          "time": 0.00034574931487441063
         },
         {
          "device": "cpu",
          "impl": "blocked",
          "model": "BYSIZE_15",
          "name": "score.tmol_lj_cpu_cpp.blocked",
          "natoms": 264,
          "nres": 14,
          "rosetta_relative": 0.829354848526715,
          "time": 0.0003441581502556801
         },
         {
          "device": "cpu",
          "impl": "blocked",
          "model": "BYSIZE_15",
          "name": "score.tmol_lj_cpu_cpp.blocked",
          "natoms": 264,
          "nres": 14,
          "rosetta_relative": 0.8423291931236916,
          "time": 0.00034954212605953217
         },
         {
          "device": "cpu",
          "impl": "blocked",
          "model": "BYSIZE_15",
          "name": "score.tmol_lj_cpu_cpp.blocked",
          "natoms": 264,
          "nres": 14,
          "rosetta_relative": 0.8315666140690642,
          "time": 0.00034507596865296364
         },
         {
          "device": "cpu",
          "impl": "blocked",
          "model": "BYSIZE_15",
          "name": "score.tmol_lj_cpu_cpp.blocked",
          "natoms": 264,
          "nres": 14,
          "rosetta_relative": 0.8284436594752754,
          "time": 0.0003437800332903862
         },
         {
          "device": "cpu",
          "impl": "blocked",
          "model": "BYSIZE_15",
          "name": "score.tmol_lj_cpu_cpp.blocked",
          "natoms": 264,
          "nres": 14,
          "rosetta_relative": 0.8304489486808451,
          "time": 0.00034461217001080513
         },
         {
          "device": "cpu",
          "impl": "blocked",
          "model": "BYSIZE_15",
          "name": "score.tmol_lj_cpu_cpp.blocked",
          "natoms": 264,
          "nres": 14,
          "rosetta_relative": 0.8672656994058239,
          "time": 0.00035989005118608475
         },
         {
          "device": "cpu",
          "impl": "blocked",
          "model": "BYSIZE_15",
          "name": "score.tmol_lj_cpu_cpp.blocked",
          "natoms": 264,
          "nres": 14,
          "rosetta_relative": 0.8470949811796818,
          "time": 0.00035151978954672813
         },
         {
          "device": "cpu",
          "impl": "blocked",
          "model": "BYSIZE_15",
          "name": "score.tmol_lj_cpu_cpp.blocked",
          "natoms": 264,
          "nres": 14,
          "rosetta_relative": 0.835545772168085,
          "time": 0.0003467272035777569
         },
         {
          "device": "cpu",
          "impl": "blocked",
          "model": "BYSIZE_15",
          "name": "score.tmol_lj_cpu_cpp.blocked",
          "natoms": 264,
          "nres": 14,
          "rosetta_relative": 0.8285042557915041,
          "time": 0.0003438051789999008
         },
         {
          "device": "cpu",
          "impl": "blocked",
          "model": "BYSIZE_15",
          "name": "score.tmol_lj_cpu_cpp.blocked",
          "natoms": 264,
          "nres": 14,
          "rosetta_relative": 0.8320143535167543,
          "time": 0.0003452617675065994
         },
         {
          "device": "cpu",
          "impl": "blocked",
          "model": "BYSIZE_15",
          "name": "score.tmol_lj_cpu_cpp.blocked",
          "natoms": 264,
          "nres": 14,
          "rosetta_relative": 0.8261208006865068,
          "time": 0.0003428161144256592
         },
         {
          "device": "cpu",
          "impl": "blocked",
          "model": "BYSIZE_15",
          "name": "score.tmol_lj_cpu_cpp.blocked",
          "natoms": 264,
          "nres": 14,
          "rosetta_relative": 0.843039516608373,
          "time": 0.00034983688965439796
         },
         {
          "device": "cpu",
          "impl": "blocked",
          "model": "BYSIZE_15",
          "name": "score.tmol_lj_cpu_cpp.blocked",
          "natoms": 264,
          "nres": 14,
          "rosetta_relative": 0.8286142268839193,
          "time": 0.000343850813806057
         },
         {
          "device": "cpu",
          "impl": "blocked",
          "model": "BYSIZE_15",
          "name": "score.tmol_lj_cpu_cpp.blocked",
          "natoms": 264,
          "nres": 14,
          "rosetta_relative": 0.8539591972235935,
          "time": 0.0003543682396411896
         },
         {
          "device": "cpu",
          "impl": "blocked",
          "model": "BYSIZE_15",
          "name": "score.tmol_lj_cpu_cpp.blocked",
          "natoms": 264,
          "nres": 14,
          "rosetta_relative": 0.837904539884989,
          "time": 0.00034770602360367775
         },
         {
          "device": "cpu",
          "impl": "blocked",
          "model": "BYSIZE_15",
          "name": "score.tmol_lj_cpu_cpp.blocked",
          "natoms": 264,
          "nres": 14,
          "rosetta_relative": 0.8326147059090205,
          "time": 0.00034551089629530907
         },
         {
          "device": "cpu",
          "impl": "blocked",
          "model": "BYSIZE_15",
          "name": "score.tmol_lj_cpu_cpp.blocked",
          "natoms": 264,
          "nres": 14,
          "rosetta_relative": 0.830876489356459,
          "time": 0.0003447895869612694
         },
         {
          "device": "cpu",
          "impl": "blocked",
          "model": "BYSIZE_15",
          "name": "score.tmol_lj_cpu_cpp.blocked",
          "natoms": 264,
          "nres": 14,
          "rosetta_relative": 0.8513715100898253,
          "time": 0.00035329442471265793
         },
         {
          "device": "cpu",
          "impl": "blocked",
          "model": "BYSIZE_15",
          "name": "score.tmol_lj_cpu_cpp.blocked",
          "natoms": 264,
          "nres": 14,
          "rosetta_relative": 0.8385183581253062,
          "time": 0.0003479607403278351
         },
         {
          "device": "cpu",
          "impl": "blocked",
          "model": "BYSIZE_15",
          "name": "score.tmol_lj_cpu_cpp.blocked",
          "natoms": 264,
          "nres": 14,
          "rosetta_relative": 0.8341744999749086,
          "time": 0.0003461581654846668
         },
         {
          "device": "cpu",
          "impl": "blocked",
          "model": "BYSIZE_15",
          "name": "score.tmol_lj_cpu_cpp.blocked",
          "natoms": 264,
          "nres": 14,
          "rosetta_relative": 0.8299742775370533,
          "time": 0.00034441519528627396
         },
         {
          "device": "cpu",
          "impl": "blocked",
          "model": "BYSIZE_15",
          "name": "score.tmol_lj_cpu_cpp.blocked",
          "natoms": 264,
          "nres": 14,
          "rosetta_relative": 0.8302896028122436,
          "time": 0.00034454604610800743
         },
         {
          "device": "cpu",
          "impl": "blocked",
          "model": "BYSIZE_15",
          "name": "score.tmol_lj_cpu_cpp.blocked",
          "natoms": 264,
          "nres": 14,
          "rosetta_relative": 0.8270499442020143,
          "time": 0.00034320168197155
         },
         {
          "device": "cpu",
          "impl": "blocked",
          "model": "BYSIZE_15",
          "name": "score.tmol_lj_cpu_cpp.blocked",
          "natoms": 264,
          "nres": 14,
          "rosetta_relative": 0.8309426964427089,
          "time": 0.00034481706097722054
         },
         {
          "device": "cpu",
          "impl": "blocked",
          "model": "BYSIZE_15",
          "name": "score.tmol_lj_cpu_cpp.blocked",
          "natoms": 264,
          "nres": 14,
          "rosetta_relative": 0.8337177832951845,
          "time": 0.0003459686413407326
         },
         {
          "device": "cpu",
          "impl": "blocked",
          "model": "BYSIZE_15",
          "name": "score.tmol_lj_cpu_cpp.blocked",
          "natoms": 264,
          "nres": 14,
          "rosetta_relative": 0.8348051505252893,
          "time": 0.0003464198671281338
         },
         {
          "device": "cpu",
          "impl": "blocked",
          "model": "BYSIZE_15",
          "name": "score.tmol_lj_cpu_cpp.blocked",
          "natoms": 264,
          "nres": 14,
          "rosetta_relative": 0.8340196427223241,
          "time": 0.00034609390422701836
         },
         {
          "device": "cpu",
          "impl": "blocked",
          "model": "BYSIZE_15",
          "name": "score.tmol_lj_cpu_cpp.blocked",
          "natoms": 264,
          "nres": 14,
          "rosetta_relative": 0.8287376638243852,
          "time": 0.00034390203654766083
         },
         {
          "device": "cpu",
          "impl": "blocked",
          "model": "BYSIZE_15",
          "name": "score.tmol_lj_cpu_cpp.blocked",
          "natoms": 264,
          "nres": 14,
          "rosetta_relative": 0.8516284833567953,
          "time": 0.0003534010611474514
         },
         {
          "device": "cpu",
          "impl": "blocked",
          "model": "BYSIZE_15",
          "name": "score.tmol_lj_cpu_cpp.blocked",
          "natoms": 264,
          "nres": 14,
          "rosetta_relative": 0.8358756854453304,
          "time": 0.00034686410799622536
         },
         {
          "device": "cpu",
          "impl": "blocked",
          "model": "BYSIZE_15",
          "name": "score.tmol_lj_cpu_cpp.blocked",
          "natoms": 264,
          "nres": 14,
          "rosetta_relative": 0.8318314424140638,
          "time": 0.00034518586471676826
         },
         {
          "device": "cpu",
          "impl": "blocked",
          "model": "BYSIZE_15",
          "name": "score.tmol_lj_cpu_cpp.blocked",
          "natoms": 264,
          "nres": 14,
          "rosetta_relative": 0.833962412868108,
          "time": 0.00034607015550136566
         },
         {
          "device": "cpu",
          "impl": "blocked",
          "model": "BYSIZE_15",
          "name": "score.tmol_lj_cpu_cpp.blocked",
          "natoms": 264,
          "nres": 14,
          "rosetta_relative": 0.8353336850612844,
          "time": 0.0003466391935944557
         },
         {
          "device": "cpu",
          "impl": "blocked",
          "model": "BYSIZE_15",
          "name": "score.tmol_lj_cpu_cpp.blocked",
          "natoms": 264,
          "nres": 14,
          "rosetta_relative": 0.8340914605785952,
          "time": 0.00034612370654940605
         },
         {
          "device": "cpu",
          "impl": "blocked",
          "model": "BYSIZE_15",
          "name": "score.tmol_lj_cpu_cpp.blocked",
          "natoms": 264,
          "nres": 14,
          "rosetta_relative": 0.833282387541541,
          "time": 0.00034578796476125717
         },
         {
          "device": "cpu",
          "impl": "blocked",
          "model": "BYSIZE_15",
          "name": "score.tmol_lj_cpu_cpp.blocked",
          "natoms": 264,
          "nres": 14,
          "rosetta_relative": 0.8333542053978121,
          "time": 0.00034581776708364487
         },
         {
          "device": "cpu",
          "impl": "blocked",
          "model": "BYSIZE_15",
          "name": "score.tmol_lj_cpu_cpp.blocked",
          "natoms": 264,
          "nres": 14,
          "rosetta_relative": 0.8918644373326812,
          "time": 0.0003700978122651577
         },
         {
          "device": "cpu",
          "impl": "blocked",
          "model": "BYSIZE_15",
          "name": "score.tmol_lj_cpu_cpp.blocked",
          "natoms": 264,
          "nres": 14,
          "rosetta_relative": 0.8479029320627318,
          "time": 0.0003518550656735897
         },
         {
          "device": "cpu",
          "impl": "blocked",
          "model": "BYSIZE_15",
          "name": "score.tmol_lj_cpu_cpp.blocked",
          "natoms": 264,
          "nres": 14,
          "rosetta_relative": 0.8321815544633855,
          "time": 0.0003453311510384083
         },
         {
          "device": "cpu",
          "impl": "blocked",
          "model": "BYSIZE_15",
          "name": "score.tmol_lj_cpu_cpp.blocked",
          "natoms": 264,
          "nres": 14,
          "rosetta_relative": 0.8353000204411574,
          "time": 0.0003466252237558365
         },
         {
          "device": "cpu",
          "impl": "blocked",
          "model": "BYSIZE_15",
          "name": "score.tmol_lj_cpu_cpp.blocked",
          "natoms": 264,
          "nres": 14,
          "rosetta_relative": 0.9643454866202884,
          "time": 0.0004001753404736519
         },
         {
          "device": "cpu",
          "impl": "blocked",
          "model": "BYSIZE_15",
          "name": "score.tmol_lj_cpu_cpp.blocked",
          "natoms": 264,
          "nres": 14,
          "rosetta_relative": 0.8979644664997081,
          "time": 0.00037262914702296257
         },
         {
          "device": "cpu",
          "impl": "blocked",
          "model": "BYSIZE_15",
          "name": "score.tmol_lj_cpu_cpp.blocked",
          "natoms": 264,
          "nres": 14,
          "rosetta_relative": 0.8899264773673656,
          "time": 0.00036929361522197723
         },
         {
          "device": "cpu",
          "impl": "blocked",
          "model": "BYSIZE_15",
          "name": "score.tmol_lj_cpu_cpp.blocked",
          "natoms": 264,
          "nres": 14,
          "rosetta_relative": 0.8585196310968085,
          "time": 0.00035626068711280823
         },
         {
          "device": "cpu",
          "impl": "blocked",
          "model": "BYSIZE_15",
          "name": "score.tmol_lj_cpu_cpp.blocked",
          "natoms": 264,
          "nres": 14,
          "rosetta_relative": 0.8275212488837934,
          "time": 0.00034339725971221924
         },
         {
          "device": "cpu",
          "impl": "blocked",
          "model": "BYSIZE_15",
          "name": "score.tmol_lj_cpu_cpp.blocked",
          "natoms": 264,
          "nres": 14,
          "rosetta_relative": 0.8263160554832439,
          "time": 0.0003428971394896507
         },
         {
          "device": "cpu",
          "impl": "blocked",
          "model": "BYSIZE_15",
          "name": "score.tmol_lj_cpu_cpp.blocked",
          "natoms": 264,
          "nres": 14,
          "rosetta_relative": 0.8288431463007834,
          "time": 0.00034394580870866776
         },
         {
          "device": "cpu",
          "impl": "blocked",
          "model": "BYSIZE_15",
          "name": "score.tmol_lj_cpu_cpp.blocked",
          "natoms": 264,
          "nres": 14,
          "rosetta_relative": 0.8283550093089407,
          "time": 0.0003437432460486889
         },
         {
          "device": "cpu",
          "impl": "blocked",
          "model": "BYSIZE_15",
          "name": "score.tmol_lj_cpu_cpp.blocked",
          "natoms": 264,
          "nres": 14,
          "rosetta_relative": 0.8262386268569516,
          "time": 0.0003428650088608265
         },
         {
          "device": "cpu",
          "impl": "blocked",
          "model": "BYSIZE_15",
          "name": "score.tmol_lj_cpu_cpp.blocked",
          "natoms": 264,
          "nres": 14,
          "rosetta_relative": 0.832212974775504,
          "time": 0.0003453441895544529
         },
         {
          "device": "cpu",
          "impl": "blocked",
          "model": "BYSIZE_15",
          "name": "score.tmol_lj_cpu_cpp.blocked",
          "natoms": 264,
          "nres": 14,
          "rosetta_relative": 0.8277838329207846,
          "time": 0.00034350622445344925
         },
         {
          "device": "cpu",
          "impl": "blocked",
          "model": "BYSIZE_15",
          "name": "score.tmol_lj_cpu_cpp.blocked",
          "natoms": 264,
          "nres": 14,
          "rosetta_relative": 0.8504928635045085,
          "time": 0.00035292981192469597
         },
         {
          "device": "cpu",
          "impl": "blocked",
          "model": "BYSIZE_15",
          "name": "score.tmol_lj_cpu_cpp.blocked",
          "natoms": 264,
          "nres": 14,
          "rosetta_relative": 0.8598269405117435,
          "time": 0.00035680318251252174
         },
         {
          "device": "cpu",
          "impl": "blocked",
          "model": "BYSIZE_15",
          "name": "score.tmol_lj_cpu_cpp.blocked",
          "natoms": 264,
          "nres": 14,
          "rosetta_relative": 0.841071258484943,
          "time": 0.0003490201197564602
         },
         {
          "device": "cpu",
          "impl": "blocked",
          "model": "BYSIZE_15",
          "name": "score.tmol_lj_cpu_cpp.blocked",
          "natoms": 264,
          "nres": 14,
          "rosetta_relative": 0.833263310923469,
          "time": 0.00034578004851937294
         },
         {
          "device": "cpu",
          "impl": "blocked",
          "model": "BYSIZE_15",
          "name": "score.tmol_lj_cpu_cpp.blocked",
          "natoms": 264,
          "nres": 14,
          "rosetta_relative": 0.8324620929644445,
          "time": 0.0003454475663602352
         },
         {
          "device": "cpu",
          "impl": "blocked",
          "model": "BYSIZE_15",
          "name": "score.tmol_lj_cpu_cpp.blocked",
          "natoms": 264,
          "nres": 14,
          "rosetta_relative": 0.8270869752841541,
          "time": 0.00034321704879403114
         },
         {
          "device": "cpu",
          "impl": "blocked",
          "model": "BYSIZE_15",
          "name": "score.tmol_lj_cpu_cpp.blocked",
          "natoms": 264,
          "nres": 14,
          "rosetta_relative": 0.8305712634673068,
          "time": 0.0003446629270911217
         },
         {
          "device": "cpu",
          "impl": "blocked",
          "model": "BYSIZE_15",
          "name": "score.tmol_lj_cpu_cpp.blocked",
          "natoms": 264,
          "nres": 14,
          "rosetta_relative": 0.8279611332534539,
          "time": 0.00034357979893684387
         },
         {
          "device": "cpu",
          "impl": "blocked",
          "model": "BYSIZE_15",
          "name": "score.tmol_lj_cpu_cpp.blocked",
          "natoms": 264,
          "nres": 14,
          "rosetta_relative": 0.8281036468119919,
          "time": 0.00034363893792033195
         },
         {
          "device": "cpu",
          "impl": "blocked",
          "model": "BYSIZE_15",
          "name": "score.tmol_lj_cpu_cpp.blocked",
          "natoms": 264,
          "nres": 14,
          "rosetta_relative": 0.8263283991772905,
          "time": 0.0003429022617638111
         },
         {
          "device": "cpu",
          "impl": "blocked",
          "model": "BYSIZE_15",
          "name": "score.tmol_lj_cpu_cpp.blocked",
          "natoms": 264,
          "nres": 14,
          "rosetta_relative": 0.8293570928347235,
          "time": 0.0003441590815782547
         },
         {
          "device": "cpu",
          "impl": "blocked",
          "model": "BYSIZE_15",
          "name": "score.tmol_lj_cpu_cpp.blocked",
          "natoms": 264,
          "nres": 14,
          "rosetta_relative": 0.846163593356166,
          "time": 0.0003511332906782627
         },
         {
          "device": "cpu",
          "impl": "blocked",
          "model": "BYSIZE_15",
          "name": "score.tmol_lj_cpu_cpp.blocked",
          "natoms": 264,
          "nres": 14,
          "rosetta_relative": 0.8535226793159457,
          "time": 0.00035418709740042686
         },
         {
          "device": "cpu",
          "impl": "blocked",
          "model": "BYSIZE_15",
          "name": "score.tmol_lj_cpu_cpp.blocked",
          "natoms": 264,
          "nres": 14,
          "rosetta_relative": 0.8325327886667113,
          "time": 0.0003454769030213356
         },
         {
          "device": "cpu",
          "impl": "blocked",
          "model": "BYSIZE_15",
          "name": "score.tmol_lj_cpu_cpp.blocked",
          "natoms": 264,
          "nres": 14,
          "rosetta_relative": 0.8285906616498303,
          "time": 0.0003438410349190235
         },
         {
          "device": "cpu",
          "impl": "blocked",
          "model": "BYSIZE_15",
          "name": "score.tmol_lj_cpu_cpp.blocked",
          "natoms": 264,
          "nres": 14,
          "rosetta_relative": 0.8303760086705697,
          "time": 0.0003445819020271301
         },
         {
          "device": "cpu",
          "impl": "blocked",
          "model": "BYSIZE_15",
          "name": "score.tmol_lj_cpu_cpp.blocked",
          "natoms": 264,
          "nres": 14,
          "rosetta_relative": 0.825450874745978,
          "time": 0.00034253811463713646
         },
         {
          "device": "cpu",
          "impl": "blocked",
          "model": "BYSIZE_15",
          "name": "score.tmol_lj_cpu_cpp.blocked",
          "natoms": 264,
          "nres": 14,
          "rosetta_relative": 0.8291427614199144,
          "time": 0.0003440701402723789
         },
         {
          "device": "cpu",
          "impl": "blocked",
          "model": "BYSIZE_15",
          "name": "score.tmol_lj_cpu_cpp.blocked",
          "natoms": 264,
          "nres": 14,
          "rosetta_relative": 0.8278343298509753,
          "time": 0.0003435271792113781
         },
         {
          "device": "cpu",
          "impl": "blocked",
          "model": "BYSIZE_15",
          "name": "score.tmol_lj_cpu_cpp.blocked",
          "natoms": 264,
          "nres": 14,
          "rosetta_relative": 0.8283886739290678,
          "time": 0.0003437572158873081
         },
         {
          "device": "cpu",
          "impl": "blocked",
          "model": "BYSIZE_15",
          "name": "score.tmol_lj_cpu_cpp.blocked",
          "natoms": 264,
          "nres": 14,
          "rosetta_relative": 0.8301953418758877,
          "time": 0.0003445069305598736
         },
         {
          "device": "cpu",
          "impl": "blocked",
          "model": "BYSIZE_15",
          "name": "score.tmol_lj_cpu_cpp.blocked",
          "natoms": 264,
          "nres": 14,
          "rosetta_relative": 0.831875206420229,
          "time": 0.00034520402550697327
         },
         {
          "device": "cpu",
          "impl": "blocked",
          "model": "BYSIZE_15",
          "name": "score.tmol_lj_cpu_cpp.blocked",
          "natoms": 264,
          "nres": 14,
          "rosetta_relative": 0.8294749190051682,
          "time": 0.000344207976013422
         },
         {
          "device": "cpu",
          "impl": "blocked",
          "model": "BYSIZE_15",
          "name": "score.tmol_lj_cpu_cpp.blocked",
          "natoms": 264,
          "nres": 14,
          "rosetta_relative": 0.8691262307448472,
          "time": 0.000360662117600441
         },
         {
          "device": "cpu",
          "impl": "blocked",
          "model": "BYSIZE_15",
          "name": "score.tmol_lj_cpu_cpp.blocked",
          "natoms": 264,
          "nres": 14,
          "rosetta_relative": 0.837771003558485,
          "time": 0.00034765060991048813
         },
         {
          "device": "cpu",
          "impl": "blocked",
          "model": "BYSIZE_15",
          "name": "score.tmol_lj_cpu_cpp.blocked",
          "natoms": 264,
          "nres": 14,
          "rosetta_relative": 0.8293638257587489,
          "time": 0.00034416187554597855
         },
         {
          "device": "cpu",
          "impl": "blocked",
          "model": "BYSIZE_15",
          "name": "score.tmol_lj_cpu_cpp.blocked",
          "natoms": 264,
          "nres": 14,
          "rosetta_relative": 0.8301066917095531,
          "time": 0.00034447014331817627
         },
         {
          "device": "cpu",
          "impl": "blocked",
          "model": "BYSIZE_15",
          "name": "score.tmol_lj_cpu_cpp.blocked",
          "natoms": 264,
          "nres": 14,
          "rosetta_relative": 0.8317450365557377,
          "time": 0.00034515000879764557
         },
         {
          "device": "cpu",
          "impl": "blocked",
          "model": "BYSIZE_15",
          "name": "score.tmol_lj_cpu_cpp.blocked",
          "natoms": 264,
          "nres": 14,
          "rosetta_relative": 0.8286456471960378,
          "time": 0.0003438638523221016
         },
         {
          "device": "cpu",
          "impl": "blocked",
          "model": "BYSIZE_15",
          "name": "score.tmol_lj_cpu_cpp.blocked",
          "natoms": 264,
          "nres": 14,
          "rosetta_relative": 0.831732692861691,
          "time": 0.0003451448865234852
         },
         {
          "device": "cpu",
          "impl": "blocked",
          "model": "BYSIZE_15",
          "name": "score.tmol_lj_cpu_cpp.blocked",
          "natoms": 264,
          "nres": 14,
          "rosetta_relative": 0.8325541095927919,
          "time": 0.00034548575058579445
         },
         {
          "device": "cpu",
          "impl": "blocked",
          "model": "BYSIZE_15",
          "name": "score.tmol_lj_cpu_cpp.blocked",
          "natoms": 264,
          "nres": 14,
          "rosetta_relative": 0.8313713592723271,
          "time": 0.0003449949435889721
         },
         {
          "device": "cpu",
          "impl": "blocked",
          "model": "BYSIZE_15",
          "name": "score.tmol_lj_cpu_cpp.blocked",
          "natoms": 264,
          "nres": 14,
          "rosetta_relative": 0.8339309925559893,
          "time": 0.00034605711698532104
         },
         {
          "device": "cpu",
          "impl": "blocked",
          "model": "BYSIZE_15",
          "name": "score.tmol_lj_cpu_cpp.blocked",
          "natoms": 264,
          "nres": 14,
          "rosetta_relative": 0.8318202208740215,
          "time": 0.0003451812081038952
         },
         {
          "device": "cpu",
          "impl": "blocked",
          "model": "BYSIZE_15",
          "name": "score.tmol_lj_cpu_cpp.blocked",
          "natoms": 264,
          "nres": 14,
          "rosetta_relative": 0.8826515529579037,
          "time": 0.00036627473309636116
         },
         {
          "device": "cpu",
          "impl": "blocked",
          "model": "BYSIZE_15",
          "name": "score.tmol_lj_cpu_cpp.blocked",
          "natoms": 264,
          "nres": 14,
          "rosetta_relative": 0.8577733986839916,
          "time": 0.0003559510223567486
         },
         {
          "device": "cpu",
          "impl": "blocked",
          "model": "BYSIZE_15",
          "name": "score.tmol_lj_cpu_cpp.blocked",
          "natoms": 264,
          "nres": 14,
          "rosetta_relative": 0.8382243537761963,
          "time": 0.00034783873707056046
         },
         {
          "device": "cpu",
          "impl": "blocked",
          "model": "BYSIZE_15",
          "name": "score.tmol_lj_cpu_cpp.blocked",
          "natoms": 264,
          "nres": 14,
          "rosetta_relative": 0.8321736993853558,
          "time": 0.0003453278914093971
         },
         {
          "device": "cpu",
          "impl": "blocked",
          "model": "BYSIZE_15",
          "name": "score.tmol_lj_cpu_cpp.blocked",
          "natoms": 264,
          "nres": 14,
          "rosetta_relative": 0.8288588564568427,
          "time": 0.00034395232796669006
         },
         {
          "device": "cpu",
          "impl": "blocked",
          "model": "BYSIZE_15",
          "name": "score.tmol_lj_cpu_cpp.blocked",
          "natoms": 264,
          "nres": 14,
          "rosetta_relative": 0.8317910448699114,
          "time": 0.0003451691009104252
         },
         {
          "device": "cpu",
          "impl": "blocked",
          "model": "BYSIZE_15",
          "name": "score.tmol_lj_cpu_cpp.blocked",
          "natoms": 264,
          "nres": 14,
          "rosetta_relative": 0.833662797748977,
          "time": 0.0003459458239376545
         },
         {
          "device": "cpu",
          "impl": "blocked",
          "model": "BYSIZE_15",
          "name": "score.tmol_lj_cpu_cpp.blocked",
          "natoms": 264,
          "nres": 14,
          "rosetta_relative": 0.8831363234877336,
          "time": 0.0003664758987724781
         },
         {
          "device": "cpu",
          "impl": "blocked",
          "model": "BYSIZE_15",
          "name": "score.tmol_lj_cpu_cpp.blocked",
          "natoms": 264,
          "nres": 14,
          "rosetta_relative": 0.852754003823044,
          "time": 0.00035386811941862106
         },
         {
          "device": "cpu",
          "impl": "blocked",
          "model": "BYSIZE_15",
          "name": "score.tmol_lj_cpu_cpp.blocked",
          "natoms": 264,
          "nres": 14,
          "rosetta_relative": 0.8405696556450496,
          "time": 0.00034881196916103363
         },
         {
          "device": "cpu",
          "impl": "blocked",
          "model": "BYSIZE_15",
          "name": "score.tmol_lj_cpu_cpp.blocked",
          "natoms": 264,
          "nres": 14,
          "rosetta_relative": 0.8349745957799288,
          "time": 0.00034649018198251724
         },
         {
          "device": "cpu",
          "impl": "blocked",
          "model": "BYSIZE_15",
          "name": "score.tmol_lj_cpu_cpp.blocked",
          "natoms": 264,
          "nres": 14,
          "rosetta_relative": 0.897108262994476,
          "time": 0.00037227384746074677
         },
         {
          "device": "cpu",
          "impl": "blocked",
          "model": "BYSIZE_15",
          "name": "score.tmol_lj_cpu_cpp.blocked",
          "natoms": 264,
          "nres": 14,
          "rosetta_relative": 0.8909543704352458,
          "time": 0.0003697201609611511
         },
         {
          "device": "cpu",
          "impl": "blocked",
          "model": "BYSIZE_15",
          "name": "score.tmol_lj_cpu_cpp.blocked",
          "natoms": 264,
          "nres": 14,
          "rosetta_relative": 0.8851079480731763,
          "time": 0.0003672940656542778
         },
         {
          "device": "cpu",
          "impl": "blocked",
          "model": "BYSIZE_15",
          "name": "score.tmol_lj_cpu_cpp.blocked",
          "natoms": 264,
          "nres": 14,
          "rosetta_relative": 0.9012131023419713,
          "time": 0.0003739772364497185
         },
         {
          "device": "cpu",
          "impl": "blocked",
          "model": "BYSIZE_15",
          "name": "score.tmol_lj_cpu_cpp.blocked",
          "natoms": 264,
          "nres": 14,
          "rosetta_relative": 0.8321377904572202,
          "time": 0.0003453129902482033
         },
         {
          "device": "cpu",
          "impl": "blocked",
          "model": "BYSIZE_15",
          "name": "score.tmol_lj_cpu_cpp.blocked",
          "natoms": 264,
          "nres": 14,
          "rosetta_relative": 0.8451211122862308,
          "time": 0.0003507006913423538
         },
         {
          "device": "cpu",
          "impl": "blocked",
          "model": "BYSIZE_15",
          "name": "score.tmol_lj_cpu_cpp.blocked",
          "natoms": 264,
          "nres": 14,
          "rosetta_relative": 0.843743107169029,
          "time": 0.0003501288592815399
         },
         {
          "device": "cpu",
          "impl": "naive",
          "model": "BYSIZE_15",
          "name": "score.tmol_lj_cpu_cpp.naive",
          "natoms": 264,
          "nres": 14,
          "rosetta_relative": 0.7677665481582265,
          "time": 0.0003186007961630821
         },
         {
          "device": "cpu",
          "impl": "naive",
          "model": "BYSIZE_15",
          "name": "score.tmol_lj_cpu_cpp.naive",
          "natoms": 264,
          "nres": 14,
          "rosetta_relative": 0.7708468608998543,
          "time": 0.00031987903639674187
         },
         {
          "device": "cpu",
          "impl": "naive",
          "model": "BYSIZE_15",
          "name": "score.tmol_lj_cpu_cpp.naive",
          "natoms": 264,
          "nres": 14,
          "rosetta_relative": 0.726923508866049,
          "time": 0.00030165212228894234
         },
         {
          "device": "cpu",
          "impl": "naive",
          "model": "BYSIZE_15",
          "name": "score.tmol_lj_cpu_cpp.naive",
          "natoms": 264,
          "nres": 14,
          "rosetta_relative": 0.7090240303444806,
          "time": 0.0002942243590950966
         },
         {
          "device": "cpu",
          "impl": "naive",
          "model": "BYSIZE_15",
          "name": "score.tmol_lj_cpu_cpp.naive",
          "natoms": 264,
          "nres": 14,
          "rosetta_relative": 0.7081554831452019,
          "time": 0.0002938639372587204
         },
         {
          "device": "cpu",
          "impl": "naive",
          "model": "BYSIZE_15",
          "name": "score.tmol_lj_cpu_cpp.naive",
          "natoms": 264,
          "nres": 14,
          "rosetta_relative": 0.7025985765162253,
          "time": 0.0002915579825639725
         },
         {
          "device": "cpu",
          "impl": "naive",
          "model": "BYSIZE_15",
          "name": "score.tmol_lj_cpu_cpp.naive",
          "natoms": 264,
          "nres": 14,
          "rosetta_relative": 0.7019331391917133,
          "time": 0.000291281845420599
         },
         {
          "device": "cpu",
          "impl": "naive",
          "model": "BYSIZE_15",
          "name": "score.tmol_lj_cpu_cpp.naive",
          "natoms": 264,
          "nres": 14,
          "rosetta_relative": 0.6981122048072897,
          "time": 0.00028969626873731613
         },
         {
          "device": "cpu",
          "impl": "naive",
          "model": "BYSIZE_15",
          "name": "score.tmol_lj_cpu_cpp.naive",
          "natoms": 264,
          "nres": 14,
          "rosetta_relative": 0.7005753328465878,
          "time": 0.0002907183952629566
         },
         {
          "device": "cpu",
          "impl": "naive",
          "model": "BYSIZE_15",
          "name": "score.tmol_lj_cpu_cpp.naive",
          "natoms": 264,
          "nres": 14,
          "rosetta_relative": 0.702355069097306,
          "time": 0.0002914569340646267
         },
         {
          "device": "cpu",
          "impl": "naive",
          "model": "BYSIZE_15",
          "name": "score.tmol_lj_cpu_cpp.naive",
          "natoms": 264,
          "nres": 14,
          "rosetta_relative": 0.6987305116636238,
          "time": 0.0002899528481066227
         },
         {
          "device": "cpu",
          "impl": "naive",
          "model": "BYSIZE_15",
          "name": "score.tmol_lj_cpu_cpp.naive",
          "natoms": 264,
          "nres": 14,
          "rosetta_relative": 0.697575815193265,
          "time": 0.00028947368264198303
         },
         {
          "device": "cpu",
          "impl": "naive",
          "model": "BYSIZE_15",
          "name": "score.tmol_lj_cpu_cpp.naive",
          "natoms": 264,
          "nres": 14,
          "rosetta_relative": 0.6952024594743058,
          "time": 0.00028848880901932716
         },
         {
          "device": "cpu",
          "impl": "naive",
          "model": "BYSIZE_15",
          "name": "score.tmol_lj_cpu_cpp.naive",
          "natoms": 264,
          "nres": 14,
          "rosetta_relative": 0.6972515126860408,
          "time": 0.0002893391065299511
         },
         {
          "device": "cpu",
          "impl": "naive",
          "model": "BYSIZE_15",
          "name": "score.tmol_lj_cpu_cpp.naive",
          "natoms": 264,
          "nres": 14,
          "rosetta_relative": 0.6953808819609794,
          "time": 0.0002885628491640091
         },
         {
          "device": "cpu",
          "impl": "naive",
          "model": "BYSIZE_15",
          "name": "score.tmol_lj_cpu_cpp.naive",
          "natoms": 264,
          "nres": 14,
          "rosetta_relative": 0.7216056210399746,
          "time": 0.00029944535344839096
         },
         {
          "device": "cpu",
          "impl": "naive",
          "model": "BYSIZE_15",
          "name": "score.tmol_lj_cpu_cpp.naive",
          "natoms": 264,
          "nres": 14,
          "rosetta_relative": 0.7030317279618604,
          "time": 0.00029173772782087326
         },
         {
          "device": "cpu",
          "impl": "naive",
          "model": "BYSIZE_15",
          "name": "score.tmol_lj_cpu_cpp.naive",
          "natoms": 264,
          "nres": 14,
          "rosetta_relative": 0.6959228823450253,
          "time": 0.00028878776356577873
         },
         {
          "device": "cpu",
          "impl": "naive",
          "model": "BYSIZE_15",
          "name": "score.tmol_lj_cpu_cpp.naive",
          "natoms": 264,
          "nres": 14,
          "rosetta_relative": 0.6963537894826519,
          "time": 0.0002889665775001049
         },
         {
          "device": "cpu",
          "impl": "naive",
          "model": "BYSIZE_15",
          "name": "score.tmol_lj_cpu_cpp.naive",
          "natoms": 264,
          "nres": 14,
          "rosetta_relative": 0.6972245809899391,
          "time": 0.0002893279306590557
         },
         {
          "device": "cpu",
          "impl": "naive",
          "model": "BYSIZE_15",
          "name": "score.tmol_lj_cpu_cpp.naive",
          "natoms": 264,
          "nres": 14,
          "rosetta_relative": 0.6939882888417225,
          "time": 0.0002879849635064602
         },
         {
          "device": "cpu",
          "impl": "naive",
          "model": "BYSIZE_15",
          "name": "score.tmol_lj_cpu_cpp.naive",
          "natoms": 264,
          "nres": 14,
          "rosetta_relative": 0.6994991871565255,
          "time": 0.0002902718260884285
         },
         {
          "device": "cpu",
          "impl": "naive",
          "model": "BYSIZE_15",
          "name": "score.tmol_lj_cpu_cpp.naive",
          "natoms": 264,
          "nres": 14,
          "rosetta_relative": 0.6920604282624451,
          "time": 0.0002871849574148655
         },
         {
          "device": "cpu",
          "impl": "naive",
          "model": "BYSIZE_15",
          "name": "score.tmol_lj_cpu_cpp.naive",
          "natoms": 264,
          "nres": 14,
          "rosetta_relative": 0.6947760409526962,
          "time": 0.0002883118577301502
         },
         {
          "device": "cpu",
          "impl": "naive",
          "model": "BYSIZE_15",
          "name": "score.tmol_lj_cpu_cpp.naive",
          "natoms": 264,
          "nres": 14,
          "rosetta_relative": 0.6925328550982284,
          "time": 0.00028738100081682205
         },
         {
          "device": "cpu",
          "impl": "naive",
          "model": "BYSIZE_15",
          "name": "score.tmol_lj_cpu_cpp.naive",
          "natoms": 264,
          "nres": 14,
          "rosetta_relative": 0.6965602658194314,
          "time": 0.00028905225917696953
         },
         {
          "device": "cpu",
          "impl": "naive",
          "model": "BYSIZE_15",
          "name": "score.tmol_lj_cpu_cpp.naive",
          "natoms": 264,
          "nres": 14,
          "rosetta_relative": 0.6970371812712317,
          "time": 0.0002892501652240753
         },
         {
          "device": "cpu",
          "impl": "naive",
          "model": "BYSIZE_15",
          "name": "score.tmol_lj_cpu_cpp.naive",
          "natoms": 264,
          "nres": 14,
          "rosetta_relative": 0.6955447164455978,
          "time": 0.000288630835711956
         },
         {
          "device": "cpu",
          "impl": "naive",
          "model": "BYSIZE_15",
          "name": "score.tmol_lj_cpu_cpp.naive",
          "natoms": 264,
          "nres": 14,
          "rosetta_relative": 0.7146886637578639,
          "time": 0.00029657501727342606
         },
         {
          "device": "cpu",
          "impl": "naive",
          "model": "BYSIZE_15",
          "name": "score.tmol_lj_cpu_cpp.naive",
          "natoms": 264,
          "nres": 14,
          "rosetta_relative": 0.7055655517034253,
          "time": 0.00029278919100761414
         },
         {
          "device": "cpu",
          "impl": "naive",
          "model": "BYSIZE_15",
          "name": "score.tmol_lj_cpu_cpp.naive",
          "natoms": 264,
          "nres": 14,
          "rosetta_relative": 0.6974366680967397,
          "time": 0.00028941594064235687
         },
         {
          "device": "cpu",
          "impl": "naive",
          "model": "BYSIZE_15",
          "name": "score.tmol_lj_cpu_cpp.naive",
          "natoms": 264,
          "nres": 14,
          "rosetta_relative": 0.6929525406958127,
          "time": 0.00028755515813827515
         },
         {
          "device": "cpu",
          "impl": "naive",
          "model": "BYSIZE_15",
          "name": "score.tmol_lj_cpu_cpp.naive",
          "natoms": 264,
          "nres": 14,
          "rosetta_relative": 0.6903166009398624,
          "time": 0.00028646131977438927
         },
         {
          "device": "cpu",
          "impl": "naive",
          "model": "BYSIZE_15",
          "name": "score.tmol_lj_cpu_cpp.naive",
          "natoms": 264,
          "nres": 14,
          "rosetta_relative": 0.6954874865913818,
          "time": 0.00028860708698630333
         },
         {
          "device": "cpu",
          "impl": "naive",
          "model": "BYSIZE_15",
          "name": "score.tmol_lj_cpu_cpp.naive",
          "natoms": 264,
          "nres": 14,
          "rosetta_relative": 0.6917866226854115,
          "time": 0.0002870713360607624
         },
         {
          "device": "cpu",
          "impl": "naive",
          "model": "BYSIZE_15",
          "name": "score.tmol_lj_cpu_cpp.naive",
          "natoms": 264,
          "nres": 14,
          "rosetta_relative": 0.6931332074904947,
          "time": 0.0002876301296055317
         },
         {
          "device": "cpu",
          "impl": "naive",
          "model": "BYSIZE_15",
          "name": "score.tmol_lj_cpu_cpp.naive",
          "natoms": 264,
          "nres": 14,
          "rosetta_relative": 0.6954605548952801,
          "time": 0.00028859591111540794
         },
         {
          "device": "cpu",
          "impl": "naive",
          "model": "BYSIZE_15",
          "name": "score.tmol_lj_cpu_cpp.naive",
          "natoms": 264,
          "nres": 14,
          "rosetta_relative": 0.6914454878681238,
          "time": 0.00028692977502942085
         },
         {
          "device": "cpu",
          "impl": "naive",
          "model": "BYSIZE_15",
          "name": "score.tmol_lj_cpu_cpp.naive",
          "natoms": 264,
          "nres": 14,
          "rosetta_relative": 0.6890339789130205,
          "time": 0.0002859290689229965
         },
         {
          "device": "cpu",
          "impl": "naive",
          "model": "BYSIZE_15",
          "name": "score.tmol_lj_cpu_cpp.naive",
          "natoms": 264,
          "nres": 14,
          "rosetta_relative": 0.6928313480633552,
          "time": 0.0002875048667192459
         },
         {
          "device": "cpu",
          "impl": "naive",
          "model": "BYSIZE_15",
          "name": "score.tmol_lj_cpu_cpp.naive",
          "natoms": 264,
          "nres": 14,
          "rosetta_relative": 0.6947154446364674,
          "time": 0.0002882867120206356
         },
         {
          "device": "cpu",
          "impl": "naive",
          "model": "BYSIZE_15",
          "name": "score.tmol_lj_cpu_cpp.naive",
          "natoms": 264,
          "nres": 14,
          "rosetta_relative": 0.6909180754861328,
          "time": 0.0002867109142243862
         },
         {
          "device": "cpu",
          "impl": "naive",
          "model": "BYSIZE_15",
          "name": "score.tmol_lj_cpu_cpp.naive",
          "natoms": 264,
          "nres": 14,
          "rosetta_relative": 0.7296335107862789,
          "time": 0.00030277669429779053
         },
         {
          "device": "cpu",
          "impl": "naive",
          "model": "BYSIZE_15",
          "name": "score.tmol_lj_cpu_cpp.naive",
          "natoms": 264,
          "nres": 14,
          "rosetta_relative": 0.7110450297061096,
          "time": 0.0002950630150735378
         },
         {
          "device": "cpu",
          "impl": "naive",
          "model": "BYSIZE_15",
          "name": "score.tmol_lj_cpu_cpp.naive",
          "natoms": 264,
          "nres": 14,
          "rosetta_relative": 0.6977430161398961,
          "time": 0.0002895430661737919
         },
         {
          "device": "cpu",
          "impl": "naive",
          "model": "BYSIZE_15",
          "name": "score.tmol_lj_cpu_cpp.naive",
          "natoms": 264,
          "nres": 14,
          "rosetta_relative": 0.6960743731355972,
          "time": 0.0002888506278395653
         },
         {
          "device": "cpu",
          "impl": "naive",
          "model": "BYSIZE_15",
          "name": "score.tmol_lj_cpu_cpp.naive",
          "natoms": 264,
          "nres": 14,
          "rosetta_relative": 0.6947670637206623,
          "time": 0.00028830813243985176
         },
         {
          "device": "cpu",
          "impl": "naive",
          "model": "BYSIZE_15",
          "name": "score.tmol_lj_cpu_cpp.naive",
          "natoms": 264,
          "nres": 14,
          "rosetta_relative": 0.6926989338908554,
          "time": 0.0002874499186873436
         },
         {
          "device": "cpu",
          "impl": "naive",
          "model": "BYSIZE_15",
          "name": "score.tmol_lj_cpu_cpp.naive",
          "natoms": 264,
          "nres": 14,
          "rosetta_relative": 0.6915958565046914,
          "time": 0.0002869921736419201
         },
         {
          "device": "cpu",
          "impl": "naive",
          "model": "BYSIZE_15",
          "name": "score.tmol_lj_cpu_cpp.naive",
          "natoms": 264,
          "nres": 14,
          "rosetta_relative": 0.6944865252196033,
          "time": 0.0002881917171180248
         },
         {
          "device": "cpu",
          "impl": "naive",
          "model": "BYSIZE_15",
          "name": "score.tmol_lj_cpu_cpp.naive",
          "natoms": 264,
          "nres": 14,
          "rosetta_relative": 0.6930512902481855,
          "time": 0.00028759613633155823
         },
         {
          "device": "cpu",
          "impl": "naive",
          "model": "BYSIZE_15",
          "name": "score.tmol_lj_cpu_cpp.naive",
          "natoms": 264,
          "nres": 14,
          "rosetta_relative": 0.6915543368065347,
          "time": 0.0002869749441742897
         },
         {
          "device": "cpu",
          "impl": "naive",
          "model": "BYSIZE_15",
          "name": "score.tmol_lj_cpu_cpp.naive",
          "natoms": 264,
          "nres": 14,
          "rosetta_relative": 0.7575156713295307,
          "time": 0.0003143469803035259
         },
         {
          "device": "cpu",
          "impl": "naive",
          "model": "BYSIZE_15",
          "name": "score.tmol_lj_cpu_cpp.naive",
          "natoms": 264,
          "nres": 14,
          "rosetta_relative": 0.7083260505538458,
          "time": 0.0002939347177743912
         },
         {
          "device": "cpu",
          "impl": "naive",
          "model": "BYSIZE_15",
          "name": "score.tmol_lj_cpu_cpp.naive",
          "natoms": 264,
          "nres": 14,
          "rosetta_relative": 0.7201412100644466,
          "time": 0.00029883766546845436
         },
         {
          "device": "cpu",
          "impl": "naive",
          "model": "BYSIZE_15",
          "name": "score.tmol_lj_cpu_cpp.naive",
          "natoms": 264,
          "nres": 14,
          "rosetta_relative": 0.7126620536262137,
          "time": 0.0002957340329885483
         },
         {
          "device": "cpu",
          "impl": "naive",
          "model": "BYSIZE_15",
          "name": "score.tmol_lj_cpu_cpp.naive",
          "natoms": 264,
          "nres": 14,
          "rosetta_relative": 0.8055169310147298,
          "time": 0.0003342661075294018
         },
         {
          "device": "cpu",
          "impl": "naive",
          "model": "BYSIZE_15",
          "name": "score.tmol_lj_cpu_cpp.naive",
          "natoms": 264,
          "nres": 14,
          "rosetta_relative": 0.745519845024248,
          "time": 0.0003093690611422062
         },
         {
          "device": "cpu",
          "impl": "naive",
          "model": "BYSIZE_15",
          "name": "score.tmol_lj_cpu_cpp.naive",
          "natoms": 264,
          "nres": 14,
          "rosetta_relative": 0.7457150998209849,
          "time": 0.00030945008620619774
         },
         {
          "device": "cpu",
          "impl": "naive",
          "model": "BYSIZE_15",
          "name": "score.tmol_lj_cpu_cpp.naive",
          "natoms": 264,
          "nres": 14,
          "rosetta_relative": 0.7582360942002503,
          "time": 0.0003146459348499775
         },
         {
          "device": "cpu",
          "impl": "naive",
          "model": "BYSIZE_15",
          "name": "score.tmol_lj_cpu_cpp.naive",
          "natoms": 264,
          "nres": 14,
          "rosetta_relative": 0.6924767473980166,
          "time": 0.00028735771775245667
         },
         {
          "device": "cpu",
          "impl": "naive",
          "model": "BYSIZE_15",
          "name": "score.tmol_lj_cpu_cpp.naive",
          "natoms": 264,
          "nres": 14,
          "rosetta_relative": 0.6918752728517461,
          "time": 0.0002871081233024597
         },
         {
          "device": "cpu",
          "impl": "naive",
          "model": "BYSIZE_15",
          "name": "score.tmol_lj_cpu_cpp.naive",
          "natoms": 264,
          "nres": 14,
          "rosetta_relative": 0.6952439791724626,
          "time": 0.00028850603848695755
         },
         {
          "device": "cpu",
          "impl": "naive",
          "model": "BYSIZE_15",
          "name": "score.tmol_lj_cpu_cpp.naive",
          "natoms": 264,
          "nres": 14,
          "rosetta_relative": 0.6933396838272741,
          "time": 0.0002877158112823963
         },
         {
          "device": "cpu",
          "impl": "naive",
          "model": "BYSIZE_15",
          "name": "score.tmol_lj_cpu_cpp.naive",
          "natoms": 264,
          "nres": 14,
          "rosetta_relative": 0.6944876473736075,
          "time": 0.00028819218277931213
         },
         {
          "device": "cpu",
          "impl": "naive",
          "model": "BYSIZE_15",
          "name": "score.tmol_lj_cpu_cpp.naive",
          "natoms": 264,
          "nres": 14,
          "rosetta_relative": 0.6938749512872947,
          "time": 0.0002879379317164421
         },
         {
          "device": "cpu",
          "impl": "naive",
          "model": "BYSIZE_15",
          "name": "score.tmol_lj_cpu_cpp.naive",
          "natoms": 264,
          "nres": 14,
          "rosetta_relative": 0.6895714906810496,
          "time": 0.00028615212067961693
         },
         {
          "device": "cpu",
          "impl": "naive",
          "model": "BYSIZE_15",
          "name": "score.tmol_lj_cpu_cpp.naive",
          "natoms": 264,
          "nres": 14,
          "rosetta_relative": 0.6925306107902199,
          "time": 0.00028738006949424744
         },
         {
          "device": "cpu",
          "impl": "naive",
          "model": "BYSIZE_15",
          "name": "score.tmol_lj_cpu_cpp.naive",
          "natoms": 264,
          "nres": 14,
          "rosetta_relative": 0.689559146987003,
          "time": 0.00028614699840545654
         },
         {
          "device": "cpu",
          "impl": "naive",
          "model": "BYSIZE_15",
          "name": "score.tmol_lj_cpu_cpp.naive",
          "natoms": 264,
          "nres": 14,
          "rosetta_relative": 0.7150253099591347,
          "time": 0.0002967147156596184
         },
         {
          "device": "cpu",
          "impl": "naive",
          "model": "BYSIZE_15",
          "name": "score.tmol_lj_cpu_cpp.naive",
          "natoms": 264,
          "nres": 14,
          "rosetta_relative": 0.7047093481981932,
          "time": 0.00029243389144539833
         },
         {
          "device": "cpu",
          "impl": "naive",
          "model": "BYSIZE_15",
          "name": "score.tmol_lj_cpu_cpp.naive",
          "natoms": 264,
          "nres": 14,
          "rosetta_relative": 0.6933834478334393,
          "time": 0.0002877339720726013
         },
         {
          "device": "cpu",
          "impl": "naive",
          "model": "BYSIZE_15",
          "name": "score.tmol_lj_cpu_cpp.naive",
          "natoms": 264,
          "nres": 14,
          "rosetta_relative": 0.6875662014754799,
          "time": 0.000285319983959198
         },
         {
          "device": "cpu",
          "impl": "naive",
          "model": "BYSIZE_15",
          "name": "score.tmol_lj_cpu_cpp.naive",
          "natoms": 264,
          "nres": 14,
          "rosetta_relative": 0.6931085201024014,
          "time": 0.0002876198850572109
         },
         {
          "device": "cpu",
          "impl": "naive",
          "model": "BYSIZE_15",
          "name": "score.tmol_lj_cpu_cpp.naive",
          "natoms": 264,
          "nres": 14,
          "rosetta_relative": 0.6933688598313842,
          "time": 0.0002877279184758663
         },
         {
          "device": "cpu",
          "impl": "naive",
          "model": "BYSIZE_15",
          "name": "score.tmol_lj_cpu_cpp.naive",
          "natoms": 264,
          "nres": 14,
          "rosetta_relative": 0.6906263154450314,
          "time": 0.0002865898422896862
         },
         {
          "device": "cpu",
          "impl": "naive",
          "model": "BYSIZE_15",
          "name": "score.tmol_lj_cpu_cpp.naive",
          "natoms": 264,
          "nres": 14,
          "rosetta_relative": 0.6910819099707513,
          "time": 0.00028677890077233315
         },
         {
          "device": "cpu",
          "impl": "naive",
          "model": "BYSIZE_15",
          "name": "score.tmol_lj_cpu_cpp.naive",
          "natoms": 264,
          "nres": 14,
          "rosetta_relative": 0.6976117241214005,
          "time": 0.0002894885838031769
         },
         {
          "device": "cpu",
          "impl": "naive",
          "model": "BYSIZE_15",
          "name": "score.tmol_lj_cpu_cpp.naive",
          "natoms": 264,
          "nres": 14,
          "rosetta_relative": 0.6980661964931161,
          "time": 0.0002896771766245365
         },
         {
          "device": "cpu",
          "impl": "naive",
          "model": "BYSIZE_15",
          "name": "score.tmol_lj_cpu_cpp.naive",
          "natoms": 264,
          "nres": 14,
          "rosetta_relative": 0.6942845374988408,
          "time": 0.00028810789808630943
         },
         {
          "device": "cpu",
          "impl": "naive",
          "model": "BYSIZE_15",
          "name": "score.tmol_lj_cpu_cpp.naive",
          "natoms": 264,
          "nres": 14,
          "rosetta_relative": 0.6914241669420432,
          "time": 0.000286920927464962
         },
         {
          "device": "cpu",
          "impl": "naive",
          "model": "BYSIZE_15",
          "name": "score.tmol_lj_cpu_cpp.naive",
          "natoms": 264,
          "nres": 14,
          "rosetta_relative": 0.6924419606238853,
          "time": 0.0002873432822525501
         },
         {
          "device": "cpu",
          "impl": "naive",
          "model": "BYSIZE_15",
          "name": "score.tmol_lj_cpu_cpp.naive",
          "natoms": 264,
          "nres": 14,
          "rosetta_relative": 0.6892236229397365,
          "time": 0.00028600776568055153
         },
         {
          "device": "cpu",
          "impl": "naive",
          "model": "BYSIZE_15",
          "name": "score.tmol_lj_cpu_cpp.naive",
          "natoms": 264,
          "nres": 14,
          "rosetta_relative": 0.740774255740334,
          "time": 0.00030739977955818176
         },
         {
          "device": "cpu",
          "impl": "naive",
          "model": "BYSIZE_15",
          "name": "score.tmol_lj_cpu_cpp.naive",
          "natoms": 264,
          "nres": 14,
          "rosetta_relative": 0.703776838220673,
          "time": 0.0002920469269156456
         },
         {
          "device": "cpu",
          "impl": "naive",
          "model": "BYSIZE_15",
          "name": "score.tmol_lj_cpu_cpp.naive",
          "natoms": 264,
          "nres": 14,
          "rosetta_relative": 0.6958903398789025,
          "time": 0.0002887742593884468
         },
         {
          "device": "cpu",
          "impl": "naive",
          "model": "BYSIZE_15",
          "name": "score.tmol_lj_cpu_cpp.naive",
          "natoms": 264,
          "nres": 14,
          "rosetta_relative": 0.6946391381641793,
          "time": 0.0002882550470530987
         },
         {
          "device": "cpu",
          "impl": "naive",
          "model": "BYSIZE_15",
          "name": "score.tmol_lj_cpu_cpp.naive",
          "natoms": 264,
          "nres": 14,
          "rosetta_relative": 0.6876526073338061,
          "time": 0.0002853558398783207
         },
         {
          "device": "cpu",
          "impl": "naive",
          "model": "BYSIZE_15",
          "name": "score.tmol_lj_cpu_cpp.naive",
          "natoms": 264,
          "nres": 14,
          "rosetta_relative": 0.6935158620059392,
          "time": 0.00028778892010450363
         },
         {
          "device": "cpu",
          "impl": "naive",
          "model": "BYSIZE_15",
          "name": "score.tmol_lj_cpu_cpp.naive",
          "natoms": 264,
          "nres": 14,
          "rosetta_relative": 0.6934821973858121,
          "time": 0.0002877749502658844
         },
         {
          "device": "cpu",
          "impl": "naive",
          "model": "BYSIZE_15",
          "name": "score.tmol_lj_cpu_cpp.naive",
          "natoms": 264,
          "nres": 14,
          "rosetta_relative": 0.6915857571186532,
          "time": 0.0002869879826903343
         },
         {
          "device": "cpu",
          "impl": "naive",
          "model": "BYSIZE_15",
          "name": "score.tmol_lj_cpu_cpp.naive",
          "natoms": 264,
          "nres": 14,
          "rosetta_relative": 0.6873395263666242,
          "time": 0.00028522592037916183
         },
         {
          "device": "cpu",
          "impl": "naive",
          "model": "BYSIZE_15",
          "name": "score.tmol_lj_cpu_cpp.naive",
          "natoms": 264,
          "nres": 14,
          "rosetta_relative": 0.6941061150121672,
          "time": 0.0002880338579416275
         },
         {
          "device": "cpu",
          "impl": "naive",
          "model": "BYSIZE_15",
          "name": "score.tmol_lj_cpu_cpp.naive",
          "natoms": 264,
          "nres": 14,
          "rosetta_relative": 0.6950049603695603,
          "time": 0.000288406852632761
         },
         {
          "device": "cpu",
          "impl": "naive",
          "model": "BYSIZE_15",
          "name": "score.tmol_lj_cpu_cpp.naive",
          "natoms": 264,
          "nres": 14,
          "rosetta_relative": 0.6970540135812953,
          "time": 0.00028925715014338493
         },
         {
          "device": "cpu",
          "impl": "naive",
          "model": "BYSIZE_15",
          "name": "score.tmol_lj_cpu_cpp.naive",
          "natoms": 264,
          "nres": 14,
          "rosetta_relative": 0.6948175606508529,
          "time": 0.0002883290871977806
         },
         {
          "device": "cpu",
          "impl": "naive",
          "model": "BYSIZE_15",
          "name": "score.tmol_lj_cpu_cpp.naive",
          "natoms": 264,
          "nres": 14,
          "rosetta_relative": 0.7127024511703662,
          "time": 0.00029575079679489136
         },
         {
          "device": "cpu",
          "impl": "naive",
          "model": "BYSIZE_15",
          "name": "score.tmol_lj_cpu_cpp.naive",
          "natoms": 264,
          "nres": 14,
          "rosetta_relative": 0.7102673769811741,
          "time": 0.00029474031180143356
         },
         {
          "device": "cpu",
          "impl": "naive",
          "model": "BYSIZE_15",
          "name": "score.tmol_lj_cpu_cpp.naive",
          "natoms": 264,
          "nres": 14,
          "rosetta_relative": 0.6980807844951712,
          "time": 0.0002896832302212715
         },
         {
          "device": "cpu",
          "impl": "naive",
          "model": "BYSIZE_15",
          "name": "score.tmol_lj_cpu_cpp.naive",
          "natoms": 264,
          "nres": 14,
          "rosetta_relative": 0.693839042359159,
          "time": 0.00028792303055524826
         },
         {
          "device": "cpu",
          "impl": "naive",
          "model": "BYSIZE_15",
          "name": "score.tmol_lj_cpu_cpp.naive",
          "natoms": 264,
          "nres": 14,
          "rosetta_relative": 0.6916744072849879,
          "time": 0.00028702476993203163
         },
         {
          "device": "cpu",
          "impl": "naive",
          "model": "BYSIZE_15",
          "name": "score.tmol_lj_cpu_cpp.naive",
          "natoms": 264,
          "nres": 14,
          "rosetta_relative": 0.6898531513361128,
          "time": 0.00028626900166273117
         },
         {
          "device": "cpu",
          "impl": "naive",
          "model": "BYSIZE_15",
          "name": "score.tmol_lj_cpu_cpp.naive",
          "natoms": 264,
          "nres": 14,
          "rosetta_relative": 0.9148180974893285,
          "time": 0.0003796229138970375
         },
         {
          "device": "cpu",
          "impl": "naive",
          "model": "BYSIZE_15",
          "name": "score.tmol_lj_cpu_cpp.naive",
          "natoms": 264,
          "nres": 14,
          "rosetta_relative": 0.7257115825414742,
          "time": 0.00030114920809865
         },
         {
          "device": "cpu",
          "impl": "naive",
          "model": "BYSIZE_15",
          "name": "score.tmol_lj_cpu_cpp.naive",
          "natoms": 264,
          "nres": 14,
          "rosetta_relative": 0.7014618345099343,
          "time": 0.00029108626767992973
         },
         {
          "device": "cpu",
          "impl": "naive",
          "model": "BYSIZE_15",
          "name": "score.tmol_lj_cpu_cpp.naive",
          "natoms": 264,
          "nres": 14,
          "rosetta_relative": 0.6967285889200668,
          "time": 0.0002891221083700657
         },
         {
          "device": "cpu",
          "impl": "naive",
          "model": "BYSIZE_15",
          "name": "score.tmol_lj_cpu_cpp.naive",
          "natoms": 264,
          "nres": 14,
          "rosetta_relative": 0.6951070763839458,
          "time": 0.000288449227809906
         },
         {
          "device": "cpu",
          "impl": "naive",
          "model": "BYSIZE_15",
          "name": "score.tmol_lj_cpu_cpp.naive",
          "natoms": 264,
          "nres": 14,
          "rosetta_relative": 0.7015594619083028,
          "time": 0.0002911267802119255
         },
         {
          "device": "cpu",
          "impl": "naive",
          "model": "BYSIZE_15",
          "name": "score.tmol_lj_cpu_cpp.naive",
          "natoms": 264,
          "nres": 14,
          "rosetta_relative": 0.6991546858772251,
          "time": 0.000290128868073225
         },
         {
          "device": "cpu",
          "impl": "naive",
          "model": "BYSIZE_15",
          "name": "score.tmol_lj_cpu_cpp.naive",
          "natoms": 264,
          "nres": 14,
          "rosetta_relative": 0.7008008858014392,
          "time": 0.0002908119931817055
         },
         {
          "device": "cpu",
          "impl": "naive",
          "model": "BYSIZE_15",
          "name": "score.tmol_lj_cpu_cpp.naive",
          "natoms": 264,
          "nres": 14,
          "rosetta_relative": 0.730508790909583,
          "time": 0.00030313991010189056
         },
         {
          "device": "cpu",
          "impl": "naive",
          "model": "BYSIZE_15",
          "name": "score.tmol_lj_cpu_cpp.naive",
          "natoms": 264,
          "nres": 14,
          "rosetta_relative": 0.6988191618299584,
          "time": 0.00028998963534832
         },
         {
          "device": "cpu",
          "impl": "naive",
          "model": "BYSIZE_15",
          "name": "score.tmol_lj_cpu_cpp.naive",
          "natoms": 264,
          "nres": 14,
          "rosetta_relative": 0.6980538527990695,
          "time": 0.00028967205435037613
         },
         {
          "device": "cpu",
          "impl": "naive",
          "model": "BYSIZE_15",
          "name": "score.tmol_lj_cpu_cpp.naive",
          "natoms": 264,
          "nres": 14,
          "rosetta_relative": 0.694727788330514,
          "time": 0.000288291834294796
         },
         {
          "device": "cpu",
          "impl": "naive",
          "model": "BYSIZE_15",
          "name": "score.tmol_lj_cpu_cpp.naive",
          "natoms": 264,
          "nres": 14,
          "rosetta_relative": 0.6911739265990986,
          "time": 0.0002868170849978924
         },
         {
          "device": "cpu",
          "impl": "naive",
          "model": "BYSIZE_15",
          "name": "score.tmol_lj_cpu_cpp.naive",
          "natoms": 264,
          "nres": 14,
          "rosetta_relative": 0.6938311872811295,
          "time": 0.0002879197709262371
         },
         {
          "device": "cpu",
          "impl": "naive",
          "model": "BYSIZE_15",
          "name": "score.tmol_lj_cpu_cpp.naive",
          "natoms": 264,
          "nres": 14,
          "rosetta_relative": 0.6938704626712777,
          "time": 0.0002879360690712929
         },
         {
          "device": "cpu",
          "impl": "naive",
          "model": "BYSIZE_15",
          "name": "score.tmol_lj_cpu_cpp.naive",
          "natoms": 264,
          "nres": 14,
          "rosetta_relative": 0.6952125588603439,
          "time": 0.00028849299997091293
         },
         {
          "device": "cpu",
          "impl": "naive",
          "model": "BYSIZE_15",
          "name": "score.tmol_lj_cpu_cpp.naive",
          "natoms": 264,
          "nres": 14,
          "rosetta_relative": 0.7024998269638525,
          "time": 0.0002915170043706894
         },
         {
          "device": "cpu",
          "impl": "naive",
          "model": "BYSIZE_15",
          "name": "score.tmol_lj_cpu_cpp.naive",
          "natoms": 264,
          "nres": 14,
          "rosetta_relative": 0.7023988331034713,
          "time": 0.0002914750948548317
         },
         {
          "device": "cpu",
          "impl": "naive",
          "model": "BYSIZE_15",
          "name": "score.tmol_lj_cpu_cpp.naive",
          "natoms": 264,
          "nres": 14,
          "rosetta_relative": 0.6931646278026132,
          "time": 0.0002876431681215763
         },
         {
          "device": "cpu",
          "impl": "naive",
          "model": "BYSIZE_15",
          "name": "score.tmol_lj_cpu_cpp.naive",
          "natoms": 264,
          "nres": 14,
          "rosetta_relative": 0.6961641454559361,
          "time": 0.0002888878807425499
         },
         {
          "device": "cpu",
          "impl": "naive",
          "model": "BYSIZE_15",
          "name": "score.tmol_lj_cpu_cpp.naive",
          "natoms": 264,
          "nres": 14,
          "rosetta_relative": 0.6935955349402398,
          "time": 0.0002878219820559025
         },
         {
          "device": "cpu",
          "impl": "naive",
          "model": "BYSIZE_15",
          "name": "score.tmol_lj_cpu_cpp.naive",
          "natoms": 264,
          "nres": 14,
          "rosetta_relative": 0.7348223509018662,
          "time": 0.0003049299120903015
         },
         {
          "device": "cpu",
          "impl": "naive",
          "model": "BYSIZE_15",
          "name": "score.tmol_lj_cpu_cpp.naive",
          "natoms": 264,
          "nres": 14,
          "rosetta_relative": 0.7092248959112388,
          "time": 0.0002943077124655247
         },
         {
          "device": "cpu",
          "impl": "naive",
          "model": "BYSIZE_15",
          "name": "score.tmol_lj_cpu_cpp.naive",
          "natoms": 264,
          "nres": 14,
          "rosetta_relative": 0.6968172390864015,
          "time": 0.000289158895611763
         },
         {
          "device": "cpu",
          "impl": "naive",
          "model": "BYSIZE_15",
          "name": "score.tmol_lj_cpu_cpp.naive",
          "natoms": 264,
          "nres": 14,
          "rosetta_relative": 0.6963313464025672,
          "time": 0.00028895726427435875
         },
         {
          "device": "cpu",
          "impl": "naive",
          "model": "BYSIZE_15",
          "name": "score.tmol_lj_cpu_cpp.naive",
          "natoms": 264,
          "nres": 14,
          "rosetta_relative": 0.6983254140680946,
          "time": 0.0002897847443819046
         },
         {
          "device": "cpu",
          "impl": "naive",
          "model": "BYSIZE_15",
          "name": "score.tmol_lj_cpu_cpp.naive",
          "natoms": 264,
          "nres": 14,
          "rosetta_relative": 0.6948366372689249,
          "time": 0.00028833700343966484
         },
         {
          "device": "cpu",
          "impl": "naive",
          "model": "BYSIZE_15",
          "name": "score.tmol_lj_cpu_cpp.naive",
          "natoms": 264,
          "nres": 14,
          "rosetta_relative": 0.6931040314863846,
          "time": 0.0002876180224120617
         },
         {
          "device": "cpu",
          "impl": "naive",
          "model": "BYSIZE_15",
          "name": "score.tmol_lj_cpu_cpp.naive",
          "natoms": 264,
          "nres": 14,
          "rosetta_relative": 0.6887713948760293,
          "time": 0.0002858201041817665
         },
         {
          "device": "cpu",
          "impl": "naive",
          "model": "BYSIZE_15",
          "name": "score.tmol_lj_cpu_cpp.naive",
          "natoms": 264,
          "nres": 14,
          "rosetta_relative": 0.6896174989952233,
          "time": 0.00028617121279239655
         },
         {
          "device": "cpu",
          "impl": "naive",
          "model": "BYSIZE_15",
          "name": "score.tmol_lj_cpu_cpp.naive",
          "natoms": 264,
          "nres": 14,
          "rosetta_relative": 0.6947681858746665,
          "time": 0.00028830859810113907
         },
         {
          "device": "cpu",
          "impl": "naive",
          "model": "BYSIZE_15",
          "name": "score.tmol_lj_cpu_cpp.naive",
          "natoms": 264,
          "nres": 14,
          "rosetta_relative": 0.6915835128106448,
          "time": 0.0002869870513677597
         },
         {
          "device": "cpu",
          "impl": "naive",
          "model": "BYSIZE_15",
          "name": "score.tmol_lj_cpu_cpp.naive",
          "natoms": 264,
          "nres": 14,
          "rosetta_relative": 0.6933351952112572,
          "time": 0.0002877139486372471
         },
         {
          "device": "cpu",
          "impl": "naive",
          "model": "BYSIZE_15",
          "name": "score.tmol_lj_cpu_cpp.naive",
          "natoms": 264,
          "nres": 14,
          "rosetta_relative": 0.6915981008126998,
          "time": 0.0002869931049644947
         },
         {
          "device": "cpu",
          "impl": "naive",
          "model": "BYSIZE_15",
          "name": "score.tmol_lj_cpu_cpp.naive",
          "natoms": 264,
          "nres": 14,
          "rosetta_relative": 0.6923903415396905,
          "time": 0.00028732186183333397
         },
         {
          "device": "cpu",
          "impl": "naive",
          "model": "BYSIZE_15",
          "name": "score.tmol_lj_cpu_cpp.naive",
          "natoms": 264,
          "nres": 14,
          "rosetta_relative": 0.7131894660082047,
          "time": 0.0002959528937935829
         },
         {
          "device": "cpu",
          "impl": "naive",
          "model": "BYSIZE_15",
          "name": "score.tmol_lj_cpu_cpp.naive",
          "natoms": 264,
          "nres": 14,
          "rosetta_relative": 0.7042324327463929,
          "time": 0.00029223598539829254
         },
         {
          "device": "cpu",
          "impl": "naive",
          "model": "BYSIZE_15",
          "name": "score.tmol_lj_cpu_cpp.naive",
          "natoms": 264,
          "nres": 14,
          "rosetta_relative": 0.6978125896881587,
          "time": 0.00028957193717360497
         },
         {
          "device": "cpu",
          "impl": "naive",
          "model": "BYSIZE_15",
          "name": "score.tmol_lj_cpu_cpp.naive",
          "natoms": 264,
          "nres": 14,
          "rosetta_relative": 0.6966264729056814,
          "time": 0.0002890797331929207
         },
         {
          "device": "cpu",
          "impl": "naive",
          "model": "BYSIZE_15",
          "name": "score.tmol_lj_cpu_cpp.naive",
          "natoms": 264,
          "nres": 14,
          "rosetta_relative": 0.6925620311023385,
          "time": 0.00028739310801029205
         },
         {
          "device": "cpu",
          "impl": "naive",
          "model": "BYSIZE_15",
          "name": "score.tmol_lj_cpu_cpp.naive",
          "natoms": 264,
          "nres": 14,
          "rosetta_relative": 0.6944652042935228,
          "time": 0.000288182869553566
         },
         {
          "device": "cpu",
          "impl": "naive",
          "model": "BYSIZE_15",
          "name": "score.tmol_lj_cpu_cpp.naive",
          "natoms": 264,
          "nres": 14,
          "rosetta_relative": 0.7029318562554834,
          "time": 0.00029169628396630287
         },
         {
          "device": "cpu",
          "impl": "naive",
          "model": "BYSIZE_15",
          "name": "score.tmol_lj_cpu_cpp.naive",
          "natoms": 264,
          "nres": 14,
          "rosetta_relative": 0.6932555222769564,
          "time": 0.00028768088668584824
         },
         {
          "device": "cpu",
          "impl": "naive",
          "model": "BYSIZE_15",
          "name": "score.tmol_lj_cpu_cpp.naive",
          "natoms": 264,
          "nres": 14,
          "rosetta_relative": 0.6958611638747924,
          "time": 0.0002887621521949768
         },
         {
          "device": "cpu",
          "impl": "naive",
          "model": "BYSIZE_15",
          "name": "score.tmol_lj_cpu_cpp.naive",
          "natoms": 264,
          "nres": 14,
          "rosetta_relative": 0.7062904631901618,
          "time": 0.00029309000819921494
         },
         {
          "device": "cpu",
          "impl": "naive",
          "model": "BYSIZE_15",
          "name": "score.tmol_lj_cpu_cpp.naive",
          "natoms": 264,
          "nres": 14,
          "rosetta_relative": 0.6983703002282641,
          "time": 0.0002898033708333969
         },
         {
          "device": "cpu",
          "impl": "naive",
          "model": "BYSIZE_15",
          "name": "score.tmol_lj_cpu_cpp.naive",
          "natoms": 264,
          "nres": 14,
          "rosetta_relative": 0.6948635689650265,
          "time": 0.0002883481793105602
         },
         {
          "device": "cpu",
          "impl": "naive",
          "model": "BYSIZE_15",
          "name": "score.tmol_lj_cpu_cpp.naive",
          "natoms": 264,
          "nres": 14,
          "rosetta_relative": 0.69559296906778,
          "time": 0.00028865085914731026
         },
         {
          "device": "cpu",
          "impl": "naive",
          "model": "BYSIZE_15",
          "name": "score.tmol_lj_cpu_cpp.naive",
          "natoms": 264,
          "nres": 14,
          "rosetta_relative": 0.6909158311781244,
          "time": 0.0002867099829018116
         },
         {
          "device": "cpu",
          "impl": "naive",
          "model": "BYSIZE_15",
          "name": "score.tmol_lj_cpu_cpp.naive",
          "natoms": 264,
          "nres": 14,
          "rosetta_relative": 0.709910532007827,
          "time": 0.0002945922315120697
         },
         {
          "device": "cpu",
          "impl": "naive",
          "model": "BYSIZE_15",
          "name": "score.tmol_lj_cpu_cpp.naive",
          "natoms": 264,
          "nres": 14,
          "rosetta_relative": 0.6980807844951712,
          "time": 0.0002896832302212715
         },
         {
          "device": "cpu",
          "impl": "naive",
          "model": "BYSIZE_15",
          "name": "score.tmol_lj_cpu_cpp.naive",
          "natoms": 264,
          "nres": 14,
          "rosetta_relative": 0.6987832529018229,
          "time": 0.00028997473418712616
         },
         {
          "device": "cpu",
          "impl": "naive",
          "model": "BYSIZE_15",
          "name": "score.tmol_lj_cpu_cpp.naive",
          "natoms": 264,
          "nres": 14,
          "rosetta_relative": 0.6946986123264038,
          "time": 0.000288279727101326
         },
         {
          "device": "cpu",
          "impl": "naive",
          "model": "BYSIZE_15",
          "name": "score.tmol_lj_cpu_cpp.naive",
          "natoms": 264,
          "nres": 14,
          "rosetta_relative": 0.6987282673556153,
          "time": 0.0002899519167840481
         },
         {
          "device": "cpu",
          "impl": "naive",
          "model": "BYSIZE_15",
          "name": "score.tmol_lj_cpu_cpp.naive",
          "natoms": 264,
          "nres": 14,
          "rosetta_relative": 0.6938222100490956,
          "time": 0.00028791604563593864
         },
         {
          "device": "cpu",
          "impl": "naive",
          "model": "BYSIZE_15",
          "name": "score.tmol_lj_cpu_cpp.naive",
          "natoms": 264,
          "nres": 14,
          "rosetta_relative": 0.6928773563775289,
          "time": 0.00028752395883202553
         },
         {
          "device": "cpu",
          "impl": "naive",
          "model": "BYSIZE_15",
          "name": "score.tmol_lj_cpu_cpp.naive",
          "natoms": 264,
          "nres": 14,
          "rosetta_relative": 0.6974781877948965,
          "time": 0.00028943317010998726
         },
         {
          "device": "cpu",
          "impl": "naive",
          "model": "BYSIZE_15",
          "name": "score.tmol_lj_cpu_cpp.naive",
          "natoms": 264,
          "nres": 14,
          "rosetta_relative": 0.6938031334310235,
          "time": 0.0002879081293940544
         },
         {
          "device": "cpu",
          "impl": "naive",
          "model": "BYSIZE_15",
          "name": "score.tmol_lj_cpu_cpp.naive",
          "natoms": 264,
          "nres": 14,
          "rosetta_relative": 0.6938962722133751,
          "time": 0.00028794677928090096
         },
         {
          "device": "cpu",
          "impl": "naive",
          "model": "BYSIZE_15",
          "name": "score.tmol_lj_cpu_cpp.naive",
          "natoms": 264,
          "nres": 14,
          "rosetta_relative": 0.695949814041127,
          "time": 0.0002887989394366741
         },
         {
          "device": "cpu",
          "impl": "naive",
          "model": "BYSIZE_15",
          "name": "score.tmol_lj_cpu_cpp.naive",
          "natoms": 264,
          "nres": 14,
          "rosetta_relative": 0.6953191634907464,
          "time": 0.00028853723779320717
         },
         {
          "device": "cpu",
          "impl": "naive",
          "model": "BYSIZE_15",
          "name": "score.tmol_lj_cpu_cpp.naive",
          "natoms": 264,
          "nres": 14,
          "rosetta_relative": 0.6939983882277606,
          "time": 0.00028798915445804596
         },
         {
          "device": "cpu",
          "impl": "naive",
          "model": "BYSIZE_15",
          "name": "score.tmol_lj_cpu_cpp.naive",
          "natoms": 264,
          "nres": 14,
          "rosetta_relative": 0.7282970253672338,
          "time": 0.000302222091704607
         },
         {
          "device": "cpu",
          "impl": "naive",
          "model": "BYSIZE_15",
          "name": "score.tmol_lj_cpu_cpp.naive",
          "natoms": 264,
          "nres": 14,
          "rosetta_relative": 0.7083193176298204,
          "time": 0.00029393192380666733
         },
         {
          "device": "cpu",
          "impl": "naive",
          "model": "BYSIZE_15",
          "name": "score.tmol_lj_cpu_cpp.naive",
          "natoms": 264,
          "nres": 14,
          "rosetta_relative": 0.6992107935774369,
          "time": 0.0002901521511375904
         },
         {
          "device": "cpu",
          "impl": "naive",
          "model": "BYSIZE_15",
          "name": "score.tmol_lj_cpu_cpp.naive",
          "natoms": 264,
          "nres": 14,
          "rosetta_relative": 0.6929906939319567,
          "time": 0.0002875709906220436
         },
         {
          "device": "cpu",
          "impl": "naive",
          "model": "BYSIZE_15",
          "name": "score.tmol_lj_cpu_cpp.naive",
          "natoms": 264,
          "nres": 14,
          "rosetta_relative": 0.6907721954655821,
          "time": 0.0002866503782570362
         },
         {
          "device": "cpu",
          "impl": "naive",
          "model": "BYSIZE_15",
          "name": "score.tmol_lj_cpu_cpp.naive",
          "natoms": 264,
          "nres": 14,
          "rosetta_relative": 0.6968217277024183,
          "time": 0.00028916075825691223
         },
         {
          "device": "cpu",
          "impl": "naive",
          "model": "BYSIZE_15",
          "name": "score.tmol_lj_cpu_cpp.naive",
          "natoms": 264,
          "nres": 14,
          "rosetta_relative": 0.695369660420937,
          "time": 0.000288558192551136
         },
         {
          "device": "cpu",
          "impl": "naive",
          "model": "BYSIZE_15",
          "name": "score.tmol_lj_cpu_cpp.naive",
          "natoms": 264,
          "nres": 14,
          "rosetta_relative": 0.6944461276754508,
          "time": 0.00028817495331168175
         },
         {
          "device": "cpu",
          "impl": "naive",
          "model": "BYSIZE_15",
          "name": "score.tmol_lj_cpu_cpp.naive",
          "natoms": 264,
          "nres": 14,
          "rosetta_relative": 0.693467609383757,
          "time": 0.0002877688966691494
         },
         {
          "device": "cpu",
          "impl": "naive",
          "model": "BYSIZE_15",
          "name": "score.tmol_lj_cpu_cpp.naive",
          "natoms": 264,
          "nres": 14,
          "rosetta_relative": 0.696572609513478,
          "time": 0.0002890573814511299
         },
         {
          "device": "cpu",
          "impl": "naive",
          "model": "BYSIZE_15",
          "name": "score.tmol_lj_cpu_cpp.naive",
          "natoms": 264,
          "nres": 14,
          "rosetta_relative": 0.6988157953679458,
          "time": 0.0002899882383644581
         },
         {
          "device": "cpu",
          "impl": "naive",
          "model": "BYSIZE_15",
          "name": "score.tmol_lj_cpu_cpp.naive",
          "natoms": 264,
          "nres": 14,
          "rosetta_relative": 0.6977980016861037,
          "time": 0.00028956588357686996
         },
         {
          "device": "cpu",
          "impl": "naive",
          "model": "BYSIZE_15",
          "name": "score.tmol_lj_cpu_cpp.naive",
          "natoms": 264,
          "nres": 14,
          "rosetta_relative": 0.6960407085154702,
          "time": 0.00028883665800094604
         },
         {
          "device": "cpu",
          "impl": "naive",
          "model": "BYSIZE_15",
          "name": "score.tmol_lj_cpu_cpp.naive",
          "natoms": 264,
          "nres": 14,
          "rosetta_relative": 0.6933452945972952,
          "time": 0.00028771813958883286
         },
         {
          "device": "cpu",
          "impl": "naive",
          "model": "BYSIZE_15",
          "name": "score.tmol_lj_cpu_cpp.naive",
          "natoms": 264,
          "nres": 14,
          "rosetta_relative": 0.7209637489495516,
          "time": 0.00029917899519205093
         },
         {
          "device": "cpu",
          "impl": "naive",
          "model": "BYSIZE_15",
          "name": "score.tmol_lj_cpu_cpp.naive",
          "natoms": 264,
          "nres": 14,
          "rosetta_relative": 0.7022765183170095,
          "time": 0.00029142433777451515
         },
         {
          "device": "cpu",
          "impl": "naive",
          "model": "BYSIZE_15",
          "name": "score.tmol_lj_cpu_cpp.naive",
          "natoms": 264,
          "nres": 14,
          "rosetta_relative": 0.6971190985135409,
          "time": 0.0002892841584980488
         },
         {
          "device": "cpu",
          "impl": "naive",
          "model": "BYSIZE_15",
          "name": "score.tmol_lj_cpu_cpp.naive",
          "natoms": 264,
          "nres": 14,
          "rosetta_relative": 0.7060559330032764,
          "time": 0.0002929926849901676
         },
         {
          "device": "cpu",
          "impl": "naive",
          "model": "BYSIZE_15",
          "name": "score.tmol_lj_cpu_cpp.naive",
          "natoms": 264,
          "nres": 14,
          "rosetta_relative": 0.7001264712448934,
          "time": 0.0002905321307480335
         },
         {
          "device": "cpu",
          "impl": "naive",
          "model": "BYSIZE_15",
          "name": "score.tmol_lj_cpu_cpp.naive",
          "natoms": 264,
          "nres": 14,
          "rosetta_relative": 0.6923275009154533,
          "time": 0.00028729578480124474
         },
         {
          "device": "cpu",
          "impl": "naive",
          "model": "BYSIZE_15",
          "name": "score.tmol_lj_cpu_cpp.naive",
          "natoms": 264,
          "nres": 14,
          "rosetta_relative": 0.6908339139358151,
          "time": 0.00028667598962783813
         },
         {
          "device": "cpu",
          "impl": "naive",
          "model": "BYSIZE_15",
          "name": "score.tmol_lj_cpu_cpp.naive",
          "natoms": 264,
          "nres": 14,
          "rosetta_relative": 0.6914241669420432,
          "time": 0.000286920927464962
         },
         {
          "device": "cpu",
          "impl": "naive",
          "model": "BYSIZE_15",
          "name": "score.tmol_lj_cpu_cpp.naive",
          "natoms": 264,
          "nres": 14,
          "rosetta_relative": 0.7397777829845723,
          "time": 0.0003069862723350525
         },
         {
          "device": "cpu",
          "impl": "naive",
          "model": "BYSIZE_15",
          "name": "score.tmol_lj_cpu_cpp.naive",
          "natoms": 264,
          "nres": 14,
          "rosetta_relative": 0.7206506679823698,
          "time": 0.0002990490756928921
         },
         {
          "device": "cpu",
          "impl": "naive",
          "model": "BYSIZE_15",
          "name": "score.tmol_lj_cpu_cpp.naive",
          "natoms": 264,
          "nres": 14,
          "rosetta_relative": 0.6996271127130084,
          "time": 0.0002903249114751816
         },
         {
          "device": "cpu",
          "impl": "naive",
          "model": "BYSIZE_15",
          "name": "score.tmol_lj_cpu_cpp.naive",
          "natoms": 264,
          "nres": 14,
          "rosetta_relative": 0.6945224341477388,
          "time": 0.0002882066182792187
         },
         {
          "device": "cpu",
          "impl": "naive",
          "model": "BYSIZE_15",
          "name": "score.tmol_lj_cpu_cpp.naive",
          "natoms": 264,
          "nres": 14,
          "rosetta_relative": 0.6930333357841176,
          "time": 0.0002875886857509613
         },
         {
          "device": "cpu",
          "impl": "naive",
          "model": "BYSIZE_15",
          "name": "score.tmol_lj_cpu_cpp.naive",
          "natoms": 264,
          "nres": 14,
          "rosetta_relative": 0.7175389349286233,
          "time": 0.0002977577969431877
         },
         {
          "device": "cpu",
          "impl": "naive",
          "model": "BYSIZE_15",
          "name": "score.tmol_lj_cpu_cpp.naive",
          "natoms": 264,
          "nres": 14,
          "rosetta_relative": 0.7045960106437653,
          "time": 0.00029238685965538025
         },
         {
          "device": "cpu",
          "impl": "naive",
          "model": "BYSIZE_15",
          "name": "score.tmol_lj_cpu_cpp.naive",
          "natoms": 264,
          "nres": 14,
          "rosetta_relative": 0.6965838310535204,
          "time": 0.000289062038064003
         },
         {
          "device": "cpu",
          "impl": "naive",
          "model": "BYSIZE_15",
          "name": "score.tmol_lj_cpu_cpp.naive",
          "natoms": 264,
          "nres": 14,
          "rosetta_relative": 0.6978148339961673,
          "time": 0.0002895728684961796
         },
         {
          "device": "cpu",
          "impl": "naive",
          "model": "BYSIZE_15",
          "name": "score.tmol_lj_cpu_cpp.naive",
          "natoms": 264,
          "nres": 14,
          "rosetta_relative": 0.6982782835999167,
          "time": 0.0002897651866078377
         },
         {
          "device": "cpu",
          "impl": "naive",
          "model": "BYSIZE_15",
          "name": "score.tmol_lj_cpu_cpp.naive",
          "natoms": 264,
          "nres": 14,
          "rosetta_relative": 0.6929469299257914,
          "time": 0.0002875528298318386
         },
         {
          "device": "cpu",
          "impl": "naive",
          "model": "BYSIZE_15",
          "name": "score.tmol_lj_cpu_cpp.naive",
          "natoms": 264,
          "nres": 14,
          "rosetta_relative": 0.690838402551832,
          "time": 0.00028667785227298737
         },
         {
          "device": "cpu",
          "impl": "naive",
          "model": "BYSIZE_15",
          "name": "score.tmol_lj_cpu_cpp.naive",
          "natoms": 264,
          "nres": 14,
          "rosetta_relative": 0.6908047379317049,
          "time": 0.00028666388243436813
         },
         {
          "device": "cpu",
          "impl": "naive",
          "model": "BYSIZE_15",
          "name": "score.tmol_lj_cpu_cpp.naive",
          "natoms": 264,
          "nres": 14,
          "rosetta_relative": 0.6978103453801503,
          "time": 0.00028957100585103035
         },
         {
          "device": "cpu",
          "impl": "naive",
          "model": "BYSIZE_15",
          "name": "score.tmol_lj_cpu_cpp.naive",
          "natoms": 264,
          "nres": 14,
          "rosetta_relative": 0.6918079436114919,
          "time": 0.00028708018362522125
         },
         {
          "device": "cpu",
          "impl": "naive",
          "model": "BYSIZE_15",
          "name": "score.tmol_lj_cpu_cpp.naive",
          "natoms": 264,
          "nres": 14,
          "rosetta_relative": 0.6990682800188989,
          "time": 0.0002900930121541023
         },
         {
          "device": "cpu",
          "impl": "naive",
          "model": "BYSIZE_15",
          "name": "score.tmol_lj_cpu_cpp.naive",
          "natoms": 264,
          "nres": 14,
          "rosetta_relative": 0.6936381767924008,
          "time": 0.0002878396771848202
         },
         {
          "device": "cpu",
          "impl": "naive",
          "model": "BYSIZE_15",
          "name": "score.tmol_lj_cpu_cpp.naive",
          "natoms": 264,
          "nres": 14,
          "rosetta_relative": 0.6954033250410641,
          "time": 0.00028857216238975525
         },
         {
          "device": "cpu",
          "impl": "naive",
          "model": "BYSIZE_15",
          "name": "score.tmol_lj_cpu_cpp.naive",
          "natoms": 264,
          "nres": 14,
          "rosetta_relative": 0.6950049603695603,
          "time": 0.000288406852632761
         },
         {
          "device": "cpu",
          "impl": "naive",
          "model": "BYSIZE_15",
          "name": "score.tmol_lj_cpu_cpp.naive",
          "natoms": 264,
          "nres": 14,
          "rosetta_relative": 0.7345990422550233,
          "time": 0.0003048372454941273
         },
         {
          "device": "cpu",
          "impl": "naive",
          "model": "BYSIZE_15",
          "name": "score.tmol_lj_cpu_cpp.naive",
          "natoms": 264,
          "nres": 14,
          "rosetta_relative": 0.7147728253081816,
          "time": 0.00029660994186997414
         },
         {
          "device": "cpu",
          "impl": "naive",
          "model": "BYSIZE_15",
          "name": "score.tmol_lj_cpu_cpp.naive",
          "natoms": 264,
          "nres": 14,
          "rosetta_relative": 0.7013933831156758,
          "time": 0.00029105786234140396
         },
         {
          "device": "cpu",
          "impl": "naive",
          "model": "BYSIZE_15",
          "name": "score.tmol_lj_cpu_cpp.naive",
          "natoms": 264,
          "nres": 14,
          "rosetta_relative": 0.6981256706553406,
          "time": 0.0002897018566727638
         },
         {
          "device": "cpu",
          "impl": "naive",
          "model": "BYSIZE_15",
          "name": "score.tmol_lj_cpu_cpp.naive",
          "natoms": 264,
          "nres": 14,
          "rosetta_relative": 0.6965501664333933,
          "time": 0.00028904806822538376
         },
         {
          "device": "cpu",
          "impl": "naive",
          "model": "BYSIZE_15",
          "name": "score.tmol_lj_cpu_cpp.naive",
          "natoms": 264,
          "nres": 14,
          "rosetta_relative": 0.6991378535671615,
          "time": 0.0002901218831539154
         },
         {
          "device": "cpu",
          "impl": "naive",
          "model": "BYSIZE_15",
          "name": "score.tmol_lj_cpu_cpp.naive",
          "natoms": 264,
          "nres": 14,
          "rosetta_relative": 0.6983501014561878,
          "time": 0.00028979498893022537
         },
         {
          "device": "cpu",
          "impl": "naive",
          "model": "BYSIZE_15",
          "name": "score.tmol_lj_cpu_cpp.naive",
          "natoms": 264,
          "nres": 14,
          "rosetta_relative": 0.6971280757455748,
          "time": 0.00028928788378834724
         },
         {
          "device": "cpu",
          "impl": "naive",
          "model": "BYSIZE_15",
          "name": "score.tmol_lj_cpu_cpp.naive",
          "natoms": 264,
          "nres": 14,
          "rosetta_relative": 0.6996607773331355,
          "time": 0.0002903388813138008
         },
         {
          "device": "cpu",
          "impl": "naive",
          "model": "BYSIZE_15",
          "name": "score.tmol_lj_cpu_cpp.naive",
          "natoms": 264,
          "nres": 14,
          "rosetta_relative": 0.6968800797106387,
          "time": 0.00028918497264385223
         },
         {
          "device": "cpu",
          "impl": "naive",
          "model": "BYSIZE_15",
          "name": "score.tmol_lj_cpu_cpp.naive",
          "natoms": 264,
          "nres": 14,
          "rosetta_relative": 0.6950453579137128,
          "time": 0.0002884236164391041
         },
         {
          "device": "cpu",
          "impl": "naive",
          "model": "BYSIZE_15",
          "name": "score.tmol_lj_cpu_cpp.naive",
          "natoms": 264,
          "nres": 14,
          "rosetta_relative": 0.6957960789425467,
          "time": 0.00028873514384031296
         },
         {
          "device": "cpu",
          "impl": "naive",
          "model": "BYSIZE_15",
          "name": "score.tmol_lj_cpu_cpp.naive",
          "natoms": 264,
          "nres": 14,
          "rosetta_relative": 0.6944248067493702,
          "time": 0.0002881661057472229
         },
         {
          "device": "cpu",
          "impl": "naive",
          "model": "BYSIZE_15",
          "name": "score.tmol_lj_cpu_cpp.naive",
          "natoms": 264,
          "nres": 14,
          "rosetta_relative": 0.694889378507124,
          "time": 0.0002883588895201683
         },
         {
          "device": "cpu",
          "impl": "naive",
          "model": "BYSIZE_15",
          "name": "score.tmol_lj_cpu_cpp.naive",
          "natoms": 264,
          "nres": 14,
          "rosetta_relative": 0.7174861936904242,
          "time": 0.00029773591086268425
         },
         {
          "device": "cpu",
          "impl": "naive",
          "model": "BYSIZE_15",
          "name": "score.tmol_lj_cpu_cpp.naive",
          "natoms": 264,
          "nres": 14,
          "rosetta_relative": 0.6930995428703676,
          "time": 0.00028761615976691246
         },
         {
          "device": "cpu",
          "impl": "naive",
          "model": "BYSIZE_15",
          "name": "score.tmol_lj_cpu_cpp.naive",
          "natoms": 264,
          "nres": 14,
          "rosetta_relative": 0.6973884154745575,
          "time": 0.00028939591720700264
         },
         {
          "device": "cpu",
          "impl": "naive",
          "model": "BYSIZE_15",
          "name": "score.tmol_lj_cpu_cpp.naive",
          "natoms": 264,
          "nres": 14,
          "rosetta_relative": 0.6982053435896414,
          "time": 0.0002897349186241627
         },
         {
          "device": "cpu",
          "impl": "naive",
          "model": "BYSIZE_15",
          "name": "score.tmol_lj_cpu_cpp.naive",
          "natoms": 264,
          "nres": 14,
          "rosetta_relative": 0.6977721921440063,
          "time": 0.0002895551733672619
         },
         {
          "device": "cpu",
          "impl": "naive",
          "model": "BYSIZE_15",
          "name": "score.tmol_lj_cpu_cpp.naive",
          "natoms": 264,
          "nres": 14,
          "rosetta_relative": 0.6933475389053038,
          "time": 0.00028771907091140747
         },
         {
          "device": "cpu",
          "impl": "naive",
          "model": "BYSIZE_15",
          "name": "score.tmol_lj_cpu_cpp.naive",
          "natoms": 264,
          "nres": 14,
          "rosetta_relative": 0.6947120781744547,
          "time": 0.0002882853150367737
         },
         {
          "device": "cpu",
          "impl": "naive",
          "model": "BYSIZE_15",
          "name": "score.tmol_lj_cpu_cpp.naive",
          "natoms": 264,
          "nres": 14,
          "rosetta_relative": 0.692725865586957,
          "time": 0.000287461094558239
         },
         {
          "device": "cpu",
          "impl": "naive",
          "model": "BYSIZE_15",
          "name": "score.tmol_lj_cpu_cpp.naive",
          "natoms": 264,
          "nres": 14,
          "rosetta_relative": 0.693444044149668,
          "time": 0.00028775911778211594
         },
         {
          "device": "cpu",
          "impl": "naive",
          "model": "BYSIZE_15",
          "name": "score.tmol_lj_cpu_cpp.naive",
          "natoms": 264,
          "nres": 14,
          "rosetta_relative": 0.6944652042935228,
          "time": 0.000288182869553566
         },
         {
          "device": "cpu",
          "impl": "naive",
          "model": "BYSIZE_15",
          "name": "score.tmol_lj_cpu_cpp.naive",
          "natoms": 264,
          "nres": 14,
          "rosetta_relative": 0.6927887062111943,
          "time": 0.0002874871715903282
         },
         {
          "device": "cpu",
          "impl": "naive",
          "model": "BYSIZE_15",
          "name": "score.tmol_lj_cpu_cpp.naive",
          "natoms": 264,
          "nres": 14,
          "rosetta_relative": 0.6913927466299247,
          "time": 0.0002869078889489174
         },
         {
          "device": "cpu",
          "impl": "naive",
          "model": "BYSIZE_15",
          "name": "score.tmol_lj_cpu_cpp.naive",
          "natoms": 264,
          "nres": 14,
          "rosetta_relative": 0.6886939662497371,
          "time": 0.0002857879735529423
         },
         {
          "device": "cpu",
          "impl": "naive",
          "model": "BYSIZE_15",
          "name": "score.tmol_lj_cpu_cpp.naive",
          "natoms": 264,
          "nres": 14,
          "rosetta_relative": 0.710642176418589,
          "time": 0.00029489584267139435
         },
         {
          "device": "cpu",
          "impl": "naive",
          "model": "BYSIZE_15",
          "name": "score.tmol_lj_cpu_cpp.naive",
          "natoms": 264,
          "nres": 14,
          "rosetta_relative": 0.7017109526988746,
          "time": 0.00029118964448571205
         },
         {
          "device": "cpu",
          "impl": "naive",
          "model": "BYSIZE_15",
          "name": "score.tmol_lj_cpu_cpp.naive",
          "natoms": 264,
          "nres": 14,
          "rosetta_relative": 0.6963358350185842,
          "time": 0.000288959126919508
         },
         {
          "device": "cpu",
          "impl": "naive",
          "model": "BYSIZE_15",
          "name": "score.tmol_lj_cpu_cpp.naive",
          "natoms": 264,
          "nres": 14,
          "rosetta_relative": 0.6944494941374635,
          "time": 0.00028817635029554367
         },
         {
          "device": "cpu",
          "impl": "naive",
          "model": "BYSIZE_15",
          "name": "score.tmol_lj_cpu_cpp.naive",
          "natoms": 264,
          "nres": 14,
          "rosetta_relative": 0.6988180396759542,
          "time": 0.0002899891696870327
         },
         {
          "device": "cpu",
          "impl": "naive",
          "model": "BYSIZE_15",
          "name": "score.tmol_lj_cpu_cpp.naive",
          "natoms": 264,
          "nres": 14,
          "rosetta_relative": 0.6929379526937576,
          "time": 0.00028754910454154015
         },
         {
          "device": "cpu",
          "impl": "naive",
          "model": "BYSIZE_15",
          "name": "score.tmol_lj_cpu_cpp.naive",
          "natoms": 264,
          "nres": 14,
          "rosetta_relative": 0.6939591128376124,
          "time": 0.0002879728563129902
         },
         {
          "device": "cpu",
          "impl": "naive",
          "model": "BYSIZE_15",
          "name": "score.tmol_lj_cpu_cpp.naive",
          "natoms": 264,
          "nres": 14,
          "rosetta_relative": 0.6936965288006212,
          "time": 0.0002878638915717602
         },
         {
          "device": "cpu",
          "impl": "naive",
          "model": "BYSIZE_15",
          "name": "score.tmol_lj_cpu_cpp.naive",
          "natoms": 264,
          "nres": 14,
          "rosetta_relative": 0.6957983232505551,
          "time": 0.0002887360751628876
         },
         {
          "device": "cpu",
          "impl": "naive",
          "model": "BYSIZE_15",
          "name": "score.tmol_lj_cpu_cpp.naive",
          "natoms": 264,
          "nres": 14,
          "rosetta_relative": 0.6946436267801963,
          "time": 0.0002882569096982479
         },
         {
          "device": "cpu",
          "impl": "naive",
          "model": "BYSIZE_15",
          "name": "score.tmol_lj_cpu_cpp.naive",
          "natoms": 264,
          "nres": 14,
          "rosetta_relative": 0.694351866739095,
          "time": 0.0002881358377635479
         },
         {
          "device": "cpu",
          "impl": "naive",
          "model": "BYSIZE_15",
          "name": "score.tmol_lj_cpu_cpp.naive",
          "natoms": 264,
          "nres": 14,
          "rosetta_relative": 0.6955626709096656,
          "time": 0.00028863828629255295
         },
         {
          "device": "cpu",
          "impl": "naive",
          "model": "BYSIZE_15",
          "name": "score.tmol_lj_cpu_cpp.naive",
          "natoms": 264,
          "nres": 14,
          "rosetta_relative": 0.7055049553871965,
          "time": 0.0002927640452980995
         },
         {
          "device": "cpu",
          "impl": "naive",
          "model": "BYSIZE_15",
          "name": "score.tmol_lj_cpu_cpp.naive",
          "natoms": 264,
          "nres": 14,
          "rosetta_relative": 0.7033751070871566,
          "time": 0.00029188022017478943
         },
         {
          "device": "cpu",
          "impl": "naive",
          "model": "BYSIZE_15",
          "name": "score.tmol_lj_cpu_cpp.naive",
          "natoms": 264,
          "nres": 14,
          "rosetta_relative": 0.7350176056986032,
          "time": 0.00030501093715429306
         },
         {
          "device": "cpu",
          "impl": "naive",
          "model": "BYSIZE_15",
          "name": "score.tmol_lj_cpu_cpp.naive",
          "natoms": 264,
          "nres": 14,
          "rosetta_relative": 0.7128494533449211,
          "time": 0.00029581179842352867
         },
         {
          "device": "cpu",
          "impl": "naive",
          "model": "BYSIZE_15",
          "name": "score.tmol_lj_cpu_cpp.naive",
          "natoms": 264,
          "nres": 14,
          "rosetta_relative": 0.7002465417233467,
          "time": 0.00029058195650577545
         },
         {
          "device": "cpu",
          "impl": "naive",
          "model": "BYSIZE_15",
          "name": "score.tmol_lj_cpu_cpp.naive",
          "natoms": 264,
          "nres": 14,
          "rosetta_relative": 0.7001253490908892,
          "time": 0.0002905316650867462
         },
         {
          "device": "cpu",
          "impl": "naive",
          "model": "BYSIZE_15",
          "name": "score.tmol_lj_cpu_cpp.naive",
          "natoms": 264,
          "nres": 14,
          "rosetta_relative": 0.6992680234316528,
          "time": 0.0002901758998632431
         },
         {
          "device": "cpu",
          "impl": "naive",
          "model": "BYSIZE_15",
          "name": "score.tmol_lj_cpu_cpp.naive",
          "natoms": 264,
          "nres": 14,
          "rosetta_relative": 0.6994082926821824,
          "time": 0.00029023410752415657
         },
         {
          "device": "cpu",
          "impl": "naive",
          "model": "BYSIZE_15",
          "name": "score.tmol_lj_cpu_cpp.naive",
          "natoms": 264,
          "nres": 14,
          "rosetta_relative": 0.6961091599097285,
          "time": 0.0002888650633394718
         },
         {
          "device": "cpu",
          "impl": "naive",
          "model": "BYSIZE_15",
          "name": "score.tmol_lj_cpu_cpp.naive",
          "natoms": 264,
          "nres": 14,
          "rosetta_relative": 0.6984780270126707,
          "time": 0.00028984807431697845
         },
         {
          "device": "cpu",
          "impl": "naive",
          "model": "BYSIZE_15",
          "name": "score.tmol_lj_cpu_cpp.naive",
          "natoms": 264,
          "nres": 14,
          "rosetta_relative": 0.6975948918113369,
          "time": 0.00028948159888386726
         },
         {
          "device": "cpu",
          "impl": "naive",
          "model": "BYSIZE_15",
          "name": "score.tmol_lj_cpu_cpp.naive",
          "natoms": 264,
          "nres": 14,
          "rosetta_relative": 0.7533053495056373,
          "time": 0.0003125998191535473
         },
         {
          "device": "cpu",
          "impl": "naive",
          "model": "BYSIZE_15",
          "name": "score.tmol_lj_cpu_cpp.naive",
          "natoms": 264,
          "nres": 14,
          "rosetta_relative": 0.7130065549055141,
          "time": 0.00029587699100375175
         },
         {
          "device": "cpu",
          "impl": "naive",
          "model": "BYSIZE_15",
          "name": "score.tmol_lj_cpu_cpp.naive",
          "natoms": 264,
          "nres": 14,
          "rosetta_relative": 0.6995362182386653,
          "time": 0.00029028719291090965
         },
         {
          "device": "cpu",
          "impl": "naive",
          "model": "BYSIZE_15",
          "name": "score.tmol_lj_cpu_cpp.naive",
          "natoms": 264,
          "nres": 14,
          "rosetta_relative": 0.6946200615461073,
          "time": 0.00028824713081121445
         },
         {
          "device": "cpu",
          "impl": "naive",
          "model": "BYSIZE_15",
          "name": "score.tmol_lj_cpu_cpp.naive",
          "natoms": 264,
          "nres": 14,
          "rosetta_relative": 0.7606004726871755,
          "time": 0.0003156270831823349
         },
         {
          "device": "cpu",
          "impl": "naive",
          "model": "BYSIZE_15",
          "name": "score.tmol_lj_cpu_cpp.naive",
          "natoms": 264,
          "nres": 14,
          "rosetta_relative": 0.7523492742940282,
          "time": 0.0003122030757367611
         },
         {
          "device": "cpu",
          "impl": "naive",
          "model": "BYSIZE_15",
          "name": "score.tmol_lj_cpu_cpp.naive",
          "natoms": 264,
          "nres": 14,
          "rosetta_relative": 0.7442428337674274,
          "time": 0.00030883913859725
         },
         {
          "device": "cpu",
          "impl": "naive",
          "model": "BYSIZE_15",
          "name": "score.tmol_lj_cpu_cpp.naive",
          "natoms": 264,
          "nres": 14,
          "rosetta_relative": 0.7451517785108586,
          "time": 0.00030921632423996925
         },
         {
          "device": "cpu",
          "impl": "naive",
          "model": "BYSIZE_15",
          "name": "score.tmol_lj_cpu_cpp.naive",
          "natoms": 264,
          "nres": 14,
          "rosetta_relative": 0.7446468092089523,
          "time": 0.00030900677666068077
         },
         {
          "device": "cpu",
          "impl": "naive",
          "model": "BYSIZE_15",
          "name": "score.tmol_lj_cpu_cpp.naive",
          "natoms": 264,
          "nres": 14,
          "rosetta_relative": 0.6945112126076964,
          "time": 0.0002882019616663456
         },
         {
          "device": "cpu",
          "impl": "naive",
          "model": "BYSIZE_15",
          "name": "score.tmol_lj_cpu_cpp.naive",
          "natoms": 264,
          "nres": 14,
          "rosetta_relative": 0.6959161494209999,
          "time": 0.0002887849695980549
         },
         {
          "device": "cpu",
          "impl": "naive",
          "model": "BYSIZE_15",
          "name": "score.tmol_lj_cpu_cpp.naive",
          "natoms": 264,
          "nres": 14,
          "rosetta_relative": 0.6978440100002774,
          "time": 0.0002895849756896496
         },
         {
          "device": "cpu",
          "impl": "naive",
          "model": "BYSIZE_15",
          "name": "score.tmol_lj_cpu_cpp.naive",
          "natoms": 264,
          "nres": 14,
          "rosetta_relative": 0.694732276946531,
          "time": 0.0002882936969399452
         },
         {
          "device": "cpu",
          "impl": "naive",
          "model": "BYSIZE_15",
          "name": "score.tmol_lj_cpu_cpp.naive",
          "natoms": 264,
          "nres": 14,
          "rosetta_relative": 0.6932364456588844,
          "time": 0.000287672970443964
         },
         {
          "device": "cpu",
          "impl": "naive",
          "model": "BYSIZE_15",
          "name": "score.tmol_lj_cpu_cpp.naive",
          "natoms": 264,
          "nres": 14,
          "rosetta_relative": 0.6962752387023554,
          "time": 0.00028893398120999336
         },
         {
          "device": "cpu",
          "impl": "naive",
          "model": "BYSIZE_15",
          "name": "score.tmol_lj_cpu_cpp.naive",
          "natoms": 264,
          "nres": 14,
          "rosetta_relative": 0.6993768723700637,
          "time": 0.00029022106900811195
         },
         {
          "device": "cpu",
          "impl": "naive",
          "model": "BYSIZE_15",
          "name": "score.tmol_lj_cpu_cpp.naive",
          "natoms": 264,
          "nres": 14,
          "rosetta_relative": 0.6973581173164431,
          "time": 0.00028938334435224533
         },
         {
          "device": "cpu",
          "impl": "naive",
          "model": "BYSIZE_15",
          "name": "score.tmol_lj_cpu_cpp.naive",
          "natoms": 264,
          "nres": 14,
          "rosetta_relative": 0.6944102187473152,
          "time": 0.0002881600521504879
         },
         {
          "device": "cpu",
          "impl": "naive",
          "model": "BYSIZE_15",
          "name": "score.tmol_lj_cpu_cpp.naive",
          "natoms": 264,
          "nres": 14,
          "rosetta_relative": 0.7235491917753113,
          "time": 0.00030025187879800797
         },
         {
          "device": "cpu",
          "impl": "naive",
          "model": "BYSIZE_15",
          "name": "score.tmol_lj_cpu_cpp.naive",
          "natoms": 264,
          "nres": 14,
          "rosetta_relative": 0.7063364715043354,
          "time": 0.00029310910031199455
         },
         {
          "device": "cpu",
          "impl": "naive",
          "model": "BYSIZE_15",
          "name": "score.tmol_lj_cpu_cpp.naive",
          "natoms": 264,
          "nres": 14,
          "rosetta_relative": 0.6957781244784789,
          "time": 0.00028872769325971603
         },
         {
          "device": "cpu",
          "impl": "naive",
          "model": "BYSIZE_15",
          "name": "score.tmol_lj_cpu_cpp.naive",
          "natoms": 264,
          "nres": 14,
          "rosetta_relative": 0.6944225624413618,
          "time": 0.0002881651744246483
         },
         {
          "device": "cpu",
          "impl": "naive",
          "model": "BYSIZE_15",
          "name": "score.tmol_lj_cpu_cpp.naive",
          "natoms": 264,
          "nres": 14,
          "rosetta_relative": 0.6923925858476989,
          "time": 0.0002873227931559086
         },
         {
          "device": "cpu",
          "impl": "naive",
          "model": "BYSIZE_15",
          "name": "score.tmol_lj_cpu_cpp.naive",
          "natoms": 264,
          "nres": 14,
          "rosetta_relative": 0.6948826455830985,
          "time": 0.00028835609555244446
         },
         {
          "device": "cpu",
          "impl": "naive",
          "model": "BYSIZE_15",
          "name": "score.tmol_lj_cpu_cpp.naive",
          "natoms": 264,
          "nres": 14,
          "rosetta_relative": 0.6950386249896874,
          "time": 0.00028842082247138023
         },
         {
          "device": "cpu",
          "impl": "naive",
          "model": "BYSIZE_15",
          "name": "score.tmol_lj_cpu_cpp.naive",
          "natoms": 264,
          "nres": 14,
          "rosetta_relative": 0.6895299709828929,
          "time": 0.00028613489121198654
         },
         {
          "device": "cpu",
          "impl": "naive",
          "model": "BYSIZE_15",
          "name": "score.tmol_lj_cpu_cpp.naive",
          "natoms": 264,
          "nres": 14,
          "rosetta_relative": 0.6918921051618097,
          "time": 0.00028711510822176933
         },
         {
          "device": "cpu",
          "impl": "naive",
          "model": "BYSIZE_15",
          "name": "score.tmol_lj_cpu_cpp.naive",
          "natoms": 264,
          "nres": 14,
          "rosetta_relative": 0.6946267944701328,
          "time": 0.0002882499247789383
         },
         {
          "device": "cpu",
          "impl": "naive",
          "model": "BYSIZE_15",
          "name": "score.tmol_lj_cpu_cpp.naive",
          "natoms": 264,
          "nres": 14,
          "rosetta_relative": 0.6914219226340348,
          "time": 0.0002869199961423874
         },
         {
          "device": "cpu",
          "impl": "naive",
          "model": "BYSIZE_15",
          "name": "score.tmol_lj_cpu_cpp.naive",
          "natoms": 264,
          "nres": 14,
          "rosetta_relative": 0.6914409992521068,
          "time": 0.0002869279123842716
         },
         {
          "device": "cpu",
          "impl": "naive",
          "model": "BYSIZE_15",
          "name": "score.tmol_lj_cpu_cpp.naive",
          "natoms": 264,
          "nres": 14,
          "rosetta_relative": 0.6925687640263639,
          "time": 0.0002873959019780159
         },
         {
          "device": "cpu",
          "impl": "naive",
          "model": "BYSIZE_15",
          "name": "score.tmol_lj_cpu_cpp.naive",
          "natoms": 264,
          "nres": 14,
          "rosetta_relative": 0.7335475839530541,
          "time": 0.0003044009208679199
         },
         {
          "device": "cpu",
          "impl": "naive",
          "model": "BYSIZE_15",
          "name": "score.tmol_lj_cpu_cpp.naive",
          "natoms": 264,
          "nres": 14,
          "rosetta_relative": 0.7105120065540975,
          "time": 0.00029484182596206665
         },
         {
          "device": "cpu",
          "impl": "naive",
          "model": "BYSIZE_15",
          "name": "score.tmol_lj_cpu_cpp.naive",
          "natoms": 264,
          "nres": 14,
          "rosetta_relative": 0.6985879981050859,
          "time": 0.0002898937091231346
         },
         {
          "device": "cpu",
          "impl": "naive",
          "model": "BYSIZE_15",
          "name": "score.tmol_lj_cpu_cpp.naive",
          "natoms": 264,
          "nres": 14,
          "rosetta_relative": 0.6943877756672305,
          "time": 0.00028815073892474174
         },
         {
          "device": "cpu",
          "impl": "naive",
          "model": "BYSIZE_15",
          "name": "score.tmol_lj_cpu_cpp.naive",
          "natoms": 264,
          "nres": 14,
          "rosetta_relative": 0.6912244235292893,
          "time": 0.00028683803975582123
         },
         {
          "device": "cpu",
          "impl": "naive",
          "model": "BYSIZE_15",
          "name": "score.tmol_lj_cpu_cpp.naive",
          "natoms": 264,
          "nres": 14,
          "rosetta_relative": 0.6883786409745467,
          "time": 0.0002856571227312088
         },
         {
          "device": "cpu",
          "impl": "naive",
          "model": "BYSIZE_15",
          "name": "score.tmol_lj_cpu_cpp.naive",
          "natoms": 264,
          "nres": 14,
          "rosetta_relative": 0.6919908547141824,
          "time": 0.0002871560864150524
         },
         {
          "device": "cpu",
          "impl": "naive",
          "model": "BYSIZE_15",
          "name": "score.tmol_lj_cpu_cpp.naive",
          "natoms": 264,
          "nres": 14,
          "rosetta_relative": 0.6952776437925896,
          "time": 0.0002885200083255768
         },
         {
          "device": "cpu",
          "impl": "naive",
          "model": "BYSIZE_15",
          "name": "score.tmol_lj_cpu_cpp.naive",
          "natoms": 264,
          "nres": 14,
          "rosetta_relative": 0.6940971377801334,
          "time": 0.00028803013265132904
         },
         {
          "device": "cpu",
          "impl": "naive",
          "model": "BYSIZE_15",
          "name": "score.tmol_lj_cpu_cpp.naive",
          "natoms": 264,
          "nres": 14,
          "rosetta_relative": 0.6947176889444759,
          "time": 0.0002882876433432102
         },
         {
          "device": "cpu",
          "impl": "naive",
          "model": "BYSIZE_15",
          "name": "score.tmol_lj_cpu_cpp.naive",
          "natoms": 264,
          "nres": 14,
          "rosetta_relative": 0.6941386574782901,
          "time": 0.0002880473621189594
         },
         {
          "device": "cpu",
          "impl": "naive",
          "model": "BYSIZE_15",
          "name": "score.tmol_lj_cpu_cpp.naive",
          "natoms": 264,
          "nres": 14,
          "rosetta_relative": 0.6969765849550029,
          "time": 0.0002892250195145607
         },
         {
          "device": "cpu",
          "impl": "naive",
          "model": "BYSIZE_15",
          "name": "score.tmol_lj_cpu_cpp.naive",
          "natoms": 264,
          "nres": 14,
          "rosetta_relative": 0.6969698520309775,
          "time": 0.00028922222554683685
         },
         {
          "device": "cpu",
          "impl": "naive",
          "model": "BYSIZE_15",
          "name": "score.tmol_lj_cpu_cpp.naive",
          "natoms": 264,
          "nres": 14,
          "rosetta_relative": 0.6949185545112341,
          "time": 0.0002883709967136383
         },
         {
          "device": "cpu",
          "impl": "naive",
          "model": "BYSIZE_15",
          "name": "score.tmol_lj_cpu_cpp.naive",
          "natoms": 264,
          "nres": 14,
          "rosetta_relative": 0.7173481687479032,
          "time": 0.0002976786345243454
         },
         {
          "device": "cpu",
          "impl": "naive",
          "model": "BYSIZE_15",
          "name": "score.tmol_lj_cpu_cpp.naive",
          "natoms": 264,
          "nres": 14,
          "rosetta_relative": 0.7025570568180686,
          "time": 0.0002915407530963421
         },
         {
          "device": "cpu",
          "impl": "naive",
          "model": "BYSIZE_15",
          "name": "score.tmol_lj_cpu_cpp.naive",
          "natoms": 264,
          "nres": 14,
          "rosetta_relative": 0.6958173998686271,
          "time": 0.0002887439914047718
         },
         {
          "device": "cpu",
          "impl": "naive",
          "model": "BYSIZE_15",
          "name": "score.tmol_lj_cpu_cpp.naive",
          "natoms": 264,
          "nres": 14,
          "rosetta_relative": 0.6954919752073987,
          "time": 0.00028860894963145256
         },
         {
          "device": "cpu",
          "impl": "naive",
          "model": "BYSIZE_15",
          "name": "score.tmol_lj_cpu_cpp.naive",
          "natoms": 264,
          "nres": 14,
          "rosetta_relative": 0.6968217277024183,
          "time": 0.00028916075825691223
         },
         {
          "device": "cpu",
          "impl": "naive",
          "model": "BYSIZE_15",
          "name": "score.tmol_lj_cpu_cpp.naive",
          "natoms": 264,
          "nres": 14,
          "rosetta_relative": 0.6989515760024583,
          "time": 0.0002900445833802223
         },
         {
          "device": "cpu",
          "impl": "naive",
          "model": "BYSIZE_15",
          "name": "score.tmol_lj_cpu_cpp.naive",
          "natoms": 264,
          "nres": 14,
          "rosetta_relative": 0.6962000543840716,
          "time": 0.00028890278190374374
         },
         {
          "device": "cpu",
          "impl": "naive",
          "model": "BYSIZE_15",
          "name": "score.tmol_lj_cpu_cpp.naive",
          "natoms": 264,
          "nres": 14,
          "rosetta_relative": 0.7196508287645955,
          "time": 0.0002986341714859009
         },
         {
          "device": "cpu",
          "impl": "naive",
          "model": "BYSIZE_15",
          "name": "score.tmol_lj_cpu_cpp.naive",
          "natoms": 264,
          "nres": 14,
          "rosetta_relative": 0.7063162727322592,
          "time": 0.000293100718408823
         },
         {
          "device": "cpu",
          "impl": "naive",
          "model": "BYSIZE_15",
          "name": "score.tmol_lj_cpu_cpp.naive",
          "natoms": 264,
          "nres": 14,
          "rosetta_relative": 0.7021586921465648,
          "time": 0.00029137544333934784
         },
         {
          "device": "cpu",
          "impl": "naive",
          "model": "BYSIZE_15",
          "name": "score.tmol_lj_cpu_cpp.naive",
          "natoms": 264,
          "nres": 14,
          "rosetta_relative": 0.6973502622384136,
          "time": 0.0002893800847232342
         },
         {
          "device": "cpu",
          "impl": "naive",
          "model": "BYSIZE_15",
          "name": "score.tmol_lj_cpu_cpp.naive",
          "natoms": 264,
          "nres": 14,
          "rosetta_relative": 0.6919212811659198,
          "time": 0.00028712721541523933
         },
         {
          "device": "cpu",
          "impl": "naive",
          "model": "BYSIZE_15",
          "name": "score.tmol_lj_cpu_cpp.naive",
          "natoms": 264,
          "nres": 14,
          "rosetta_relative": 0.6909595951842895,
          "time": 0.0002867281436920166
         },
         {
          "device": "cpu",
          "impl": "naive",
          "model": "BYSIZE_15",
          "name": "score.tmol_lj_cpu_cpp.naive",
          "natoms": 264,
          "nres": 14,
          "rosetta_relative": 0.6976173348914217,
          "time": 0.0002894909121096134
         },
         {
          "device": "cpu",
          "impl": "naive",
          "model": "BYSIZE_15",
          "name": "score.tmol_lj_cpu_cpp.naive",
          "natoms": 264,
          "nres": 14,
          "rosetta_relative": 0.7285708309442674,
          "time": 0.0003023357130587101
         },
         {
          "device": "cpu",
          "impl": "naive",
          "model": "BYSIZE_15",
          "name": "score.tmol_lj_cpu_cpp.naive",
          "natoms": 264,
          "nres": 14,
          "rosetta_relative": 0.7004821940642362,
          "time": 0.0002906797453761101
         },
         {
          "device": "cpu",
          "impl": "naive",
          "model": "BYSIZE_15",
          "name": "score.tmol_lj_cpu_cpp.naive",
          "natoms": 264,
          "nres": 14,
          "rosetta_relative": 0.6967218559960414,
          "time": 0.00028911931440234184
         },
         {
          "device": "cpu",
          "impl": "naive",
          "model": "BYSIZE_15",
          "name": "score.tmol_lj_cpu_cpp.naive",
          "natoms": 264,
          "nres": 14,
          "rosetta_relative": 0.6974321794807228,
          "time": 0.00028941407799720764
         },
         {
          "device": "cpu",
          "impl": "naive",
          "model": "BYSIZE_15",
          "name": "score.tmol_lj_cpu_cpp.naive",
          "natoms": 264,
          "nres": 14,
          "rosetta_relative": 0.6918999602398394,
          "time": 0.0002871183678507805
         },
         {
          "device": "cpu",
          "impl": "naive",
          "model": "BYSIZE_15",
          "name": "score.tmol_lj_cpu_cpp.naive",
          "natoms": 264,
          "nres": 14,
          "rosetta_relative": 0.6948119498808317,
          "time": 0.00028832675889134407
         },
         {
          "device": "cpu",
          "impl": "naive",
          "model": "BYSIZE_15",
          "name": "score.tmol_lj_cpu_cpp.naive",
          "natoms": 264,
          "nres": 14,
          "rosetta_relative": 0.6904894126565146,
          "time": 0.00028653303161263466
         },
         {
          "device": "cpu",
          "impl": "naive",
          "model": "BYSIZE_15",
          "name": "score.tmol_lj_cpu_cpp.naive",
          "natoms": 264,
          "nres": 14,
          "rosetta_relative": 0.6905017563505612,
          "time": 0.00028653815388679504
         },
         {
          "device": "cpu",
          "impl": "naive",
          "model": "BYSIZE_15",
          "name": "score.tmol_lj_cpu_cpp.naive",
          "natoms": 264,
          "nres": 14,
          "rosetta_relative": 0.6907418973074677,
          "time": 0.0002866378054022789
         },
         {
          "device": "cpu",
          "impl": "naive",
          "model": "BYSIZE_15",
          "name": "score.tmol_lj_cpu_cpp.naive",
          "natoms": 264,
          "nres": 14,
          "rosetta_relative": 0.7539259006699798,
          "time": 0.00031285732984542847
         },
         {
          "device": "cpu",
          "impl": "naive",
          "model": "BYSIZE_15",
          "name": "score.tmol_lj_cpu_cpp.naive",
          "natoms": 264,
          "nres": 14,
          "rosetta_relative": 0.7157490992918669,
          "time": 0.00029701506718993187
         },
         {
          "device": "cpu",
          "impl": "naive",
          "model": "BYSIZE_15",
          "name": "score.tmol_lj_cpu_cpp.naive",
          "natoms": 264,
          "nres": 14,
          "rosetta_relative": 0.702673760834509,
          "time": 0.0002915891818702221
         },
         {
          "device": "cpu",
          "impl": "naive",
          "model": "BYSIZE_15",
          "name": "score.tmol_lj_cpu_cpp.naive",
          "natoms": 264,
          "nres": 14,
          "rosetta_relative": 0.7007402894852105,
          "time": 0.00029078684747219086
         },
         {
          "device": "cpu",
          "impl": "naive",
          "model": "BYSIZE_15",
          "name": "score.tmol_lj_cpu_cpp.naive",
          "natoms": 264,
          "nres": 14,
          "rosetta_relative": 0.8092581924648525,
          "time": 0.0003358186222612858
         },
         {
          "device": "cpu",
          "impl": "naive",
          "model": "BYSIZE_15",
          "name": "score.tmol_lj_cpu_cpp.naive",
          "natoms": 264,
          "nres": 14,
          "rosetta_relative": 0.7704608399223972,
          "time": 0.000319718848913908
         },
         {
          "device": "cpu",
          "impl": "naive",
          "model": "BYSIZE_15",
          "name": "score.tmol_lj_cpu_cpp.naive",
          "natoms": 264,
          "nres": 14,
          "rosetta_relative": 0.7518285948360627,
          "time": 0.0003119870088994503
         },
         {
          "device": "cpu",
          "impl": "naive",
          "model": "BYSIZE_15",
          "name": "score.tmol_lj_cpu_cpp.naive",
          "natoms": 264,
          "nres": 14,
          "rosetta_relative": 0.7502452355360857,
          "time": 0.0003113299608230591
         },
         {
          "device": "cpu",
          "impl": "naive",
          "model": "BYSIZE_15",
          "name": "score.tmol_lj_cpu_cpp.naive",
          "natoms": 264,
          "nres": 14,
          "rosetta_relative": 0.7439768832684235,
          "time": 0.00030872877687215805
         },
         {
          "device": "cpu",
          "impl": "naive",
          "model": "BYSIZE_15",
          "name": "score.tmol_lj_cpu_cpp.naive",
          "natoms": 264,
          "nres": 14,
          "rosetta_relative": 0.7007649768733036,
          "time": 0.00029079709202051163
         },
         {
          "device": "cpu",
          "impl": "naive",
          "model": "BYSIZE_15",
          "name": "score.tmol_lj_cpu_cpp.naive",
          "natoms": 264,
          "nres": 14,
          "rosetta_relative": 0.7021306382964588,
          "time": 0.00029136380180716515
         },
         {
          "device": "cpu",
          "impl": "naive",
          "model": "BYSIZE_15",
          "name": "score.tmol_lj_cpu_cpp.naive",
          "natoms": 264,
          "nres": 14,
          "rosetta_relative": 0.697680175515659,
          "time": 0.00028951698914170265
         },
         {
          "device": "cpu",
          "impl": "naive",
          "model": "BYSIZE_15",
          "name": "score.tmol_lj_cpu_cpp.naive",
          "natoms": 264,
          "nres": 14,
          "rosetta_relative": 0.699924483524131,
          "time": 0.00029044831171631813
         },
         {
          "device": "cpu",
          "impl": "naive",
          "model": "BYSIZE_15",
          "name": "score.tmol_lj_cpu_cpp.naive",
          "natoms": 264,
          "nres": 14,
          "rosetta_relative": 0.6947614529506411,
          "time": 0.0002883058041334152
         },
         {
          "device": "cpu",
          "impl": "naive",
          "model": "BYSIZE_15",
          "name": "score.tmol_lj_cpu_cpp.naive",
          "natoms": 264,
          "nres": 14,
          "rosetta_relative": 0.6971785726757654,
          "time": 0.0002893088385462761
         },
         {
          "device": "cpu",
          "impl": "naive",
          "model": "BYSIZE_15",
          "name": "score.tmol_lj_cpu_cpp.naive",
          "natoms": 264,
          "nres": 14,
          "rosetta_relative": 0.6979595918627137,
          "time": 0.0002896329388022423
         },
         {
          "device": "cpu",
          "impl": "naive",
          "model": "BYSIZE_15",
          "name": "score.tmol_lj_cpu_cpp.naive",
          "natoms": 264,
          "nres": 14,
          "rosetta_relative": 0.6991501972612081,
          "time": 0.0002901270054280758
         },
         {
          "device": "cpu",
          "impl": "naive",
          "model": "BYSIZE_15",
          "name": "score.tmol_lj_cpu_cpp.naive",
          "natoms": 264,
          "nres": 14,
          "rosetta_relative": 0.7189663148220116,
          "time": 0.00029835011810064316
         },
         {
          "device": "cpu",
          "impl": "naive",
          "model": "BYSIZE_15",
          "name": "score.tmol_lj_cpu_cpp.naive",
          "natoms": 264,
          "nres": 14,
          "rosetta_relative": 0.7045645903316468,
          "time": 0.00029237382113933563
         },
         {
          "device": "cpu",
          "impl": "naive",
          "model": "BYSIZE_15",
          "name": "score.tmol_lj_cpu_cpp.naive",
          "natoms": 264,
          "nres": 14,
          "rosetta_relative": 0.6972537569940492,
          "time": 0.0002893400378525257
         },
         {
          "device": "cpu",
          "impl": "naive",
          "model": "BYSIZE_15",
          "name": "score.tmol_lj_cpu_cpp.naive",
          "natoms": 264,
          "nres": 14,
          "rosetta_relative": 0.6917641796053268,
          "time": 0.00028706202283501625
         },
         {
          "device": "cpu",
          "impl": "naive",
          "model": "BYSIZE_15",
          "name": "score.tmol_lj_cpu_cpp.naive",
          "natoms": 264,
          "nres": 14,
          "rosetta_relative": 0.6904602366524045,
          "time": 0.00028652092441916466
         },
         {
          "device": "cpu",
          "impl": "naive",
          "model": "BYSIZE_15",
          "name": "score.tmol_lj_cpu_cpp.naive",
          "natoms": 264,
          "nres": 14,
          "rosetta_relative": 0.6964603941130544,
          "time": 0.00028901081532239914
         },
         {
          "device": "cpu",
          "impl": "naive",
          "model": "BYSIZE_15",
          "name": "score.tmol_lj_cpu_cpp.naive",
          "natoms": 264,
          "nres": 14,
          "rosetta_relative": 0.6957960789425467,
          "time": 0.00028873514384031296
         },
         {
          "device": "cpu",
          "impl": "naive",
          "model": "BYSIZE_15",
          "name": "score.tmol_lj_cpu_cpp.naive",
          "natoms": 264,
          "nres": 14,
          "rosetta_relative": 0.6960945719076734,
          "time": 0.0002888590097427368
         },
         {
          "device": "cpu",
          "impl": "naive",
          "model": "BYSIZE_15",
          "name": "score.tmol_lj_cpu_cpp.naive",
          "natoms": 264,
          "nres": 14,
          "rosetta_relative": 0.6942149639505781,
          "time": 0.00028807902708649635
         },
         {
          "device": "cpu",
          "impl": "naive",
          "model": "BYSIZE_15",
          "name": "score.tmol_lj_cpu_cpp.naive",
          "natoms": 264,
          "nres": 14,
          "rosetta_relative": 0.6934720979997739,
          "time": 0.00028777075931429863
         },
         {
          "device": "cpu",
          "impl": "naive",
          "model": "BYSIZE_15",
          "name": "score.tmol_lj_cpu_cpp.naive",
          "natoms": 264,
          "nres": 14,
          "rosetta_relative": 0.6938323094351336,
          "time": 0.0002879202365875244
         },
         {
          "device": "cpu",
          "impl": "naive",
          "model": "BYSIZE_15",
          "name": "score.tmol_lj_cpu_cpp.naive",
          "natoms": 264,
          "nres": 14,
          "rosetta_relative": 0.69394789129757,
          "time": 0.0002879681997001171
         },
         {
          "device": "cpu",
          "impl": "naive",
          "model": "BYSIZE_15",
          "name": "score.tmol_lj_cpu_cpp.naive",
          "natoms": 264,
          "nres": 14,
          "rosetta_relative": 0.6955043189014454,
          "time": 0.00028861407190561295
         },
         {
          "device": "cpu",
          "impl": "naive",
          "model": "BYSIZE_15",
          "name": "score.tmol_lj_cpu_cpp.naive",
          "natoms": 264,
          "nres": 14,
          "rosetta_relative": 0.6914432435601152,
          "time": 0.00028692884370684624
         },
         {
          "device": "cpu",
          "impl": "naive",
          "model": "BYSIZE_15",
          "name": "score.tmol_lj_cpu_cpp.naive",
          "natoms": 264,
          "nres": 14,
          "rosetta_relative": 0.7127652917946035,
          "time": 0.0002957768738269806
         },
         {
          "device": "cpu",
          "impl": "naive",
          "model": "BYSIZE_15",
          "name": "score.tmol_lj_cpu_cpp.naive",
          "natoms": 264,
          "nres": 14,
          "rosetta_relative": 0.7027164026866701,
          "time": 0.0002916068769991398
         },
         {
          "device": "cpu",
          "impl": "naive",
          "model": "BYSIZE_15",
          "name": "score.tmol_lj_cpu_cpp.naive",
          "natoms": 264,
          "nres": 14,
          "rosetta_relative": 0.6943686990491585,
          "time": 0.0002881428226828575
         },
         {
          "device": "cpu",
          "impl": "naive",
          "model": "BYSIZE_15",
          "name": "score.tmol_lj_cpu_cpp.naive",
          "natoms": 264,
          "nres": 14,
          "rosetta_relative": 0.6931174973344354,
          "time": 0.0002876236103475094
         },
         {
          "device": "cpu",
          "impl": "naive",
          "model": "BYSIZE_15",
          "name": "score.tmol_lj_cpu_cpp.naive",
          "natoms": 264,
          "nres": 14,
          "rosetta_relative": 0.692768507439118,
          "time": 0.0002874787896871567
         },
         {
          "device": "cpu",
          "impl": "naive",
          "model": "BYSIZE_15",
          "name": "score.tmol_lj_cpu_cpp.naive",
          "natoms": 264,
          "nres": 14,
          "rosetta_relative": 0.6914634423321915,
          "time": 0.0002869372256100178
         },
         {
          "device": "cpu",
          "impl": "naive",
          "model": "BYSIZE_15",
          "name": "score.tmol_lj_cpu_cpp.naive",
          "natoms": 264,
          "nres": 14,
          "rosetta_relative": 0.6932083918087785,
          "time": 0.0002876613289117813
         },
         {
          "device": "cpu",
          "impl": "naive",
          "model": "BYSIZE_15",
          "name": "score.tmol_lj_cpu_cpp.naive",
          "natoms": 264,
          "nres": 14,
          "rosetta_relative": 0.6913994795539501,
          "time": 0.00028691068291664124
         },
         {
          "device": "cpu",
          "impl": "naive",
          "model": "BYSIZE_15",
          "name": "score.tmol_lj_cpu_cpp.naive",
          "natoms": 264,
          "nres": 14,
          "rosetta_relative": 0.6939838002257055,
          "time": 0.00028798310086131096
         },
         {
          "device": "cpu",
          "impl": "naive",
          "model": "BYSIZE_15",
          "name": "score.tmol_lj_cpu_cpp.naive",
          "natoms": 264,
          "nres": 14,
          "rosetta_relative": 0.6946649477062768,
          "time": 0.00028826575726270676
         },
         {
          "device": "cpu",
          "impl": "naive",
          "model": "BYSIZE_15",
          "name": "score.tmol_lj_cpu_cpp.naive",
          "natoms": 264,
          "nres": 14,
          "rosetta_relative": 0.6959745014292202,
          "time": 0.0002888091839849949
         },
         {
          "device": "cpu",
          "impl": "naive",
          "model": "BYSIZE_15",
          "name": "score.tmol_lj_cpu_cpp.naive",
          "natoms": 264,
          "nres": 14,
          "rosetta_relative": 0.6976296785854683,
          "time": 0.0002894960343837738
         },
         {
          "device": "cpu",
          "impl": "naive",
          "model": "BYSIZE_15",
          "name": "score.tmol_lj_cpu_cpp.naive",
          "natoms": 264,
          "nres": 14,
          "rosetta_relative": 0.6903828080261122,
          "time": 0.0002864887937903404
         },
         {
          "device": "cpu",
          "impl": "naive",
          "model": "BYSIZE_15",
          "name": "score.tmol_lj_cpu_cpp.naive",
          "natoms": 264,
          "nres": 14,
          "rosetta_relative": 0.6957332383183095,
          "time": 0.0002887090668082237
         },
         {
          "device": "cpu",
          "impl": "naive",
          "model": "BYSIZE_15",
          "name": "score.tmol_lj_cpu_cpp.naive",
          "natoms": 264,
          "nres": 14,
          "rosetta_relative": 0.7379767258077735,
          "time": 0.00030623888596892357
         },
         {
          "device": "cpu",
          "impl": "naive",
          "model": "BYSIZE_15",
          "name": "score.tmol_lj_cpu_cpp.naive",
          "natoms": 264,
          "nres": 14,
          "rosetta_relative": 0.7082665763916213,
          "time": 0.00029391003772616386
         },
         {
          "device": "cpu",
          "impl": "naive",
          "model": "BYSIZE_15",
          "name": "score.tmol_lj_cpu_cpp.naive",
          "natoms": 264,
          "nres": 14,
          "rosetta_relative": 0.70519860734404,
          "time": 0.0002926369197666645
         },
         {
          "device": "cpu",
          "impl": "naive",
          "model": "BYSIZE_15",
          "name": "score.tmol_lj_cpu_cpp.naive",
          "natoms": 264,
          "nres": 14,
          "rosetta_relative": 0.701456223739913,
          "time": 0.0002910839393734932
         },
         {
          "device": "cpu",
          "impl": "naive",
          "model": "BYSIZE_15",
          "name": "score.tmol_lj_cpu_cpp.naive",
          "natoms": 264,
          "nres": 14,
          "rosetta_relative": 0.6990660357108903,
          "time": 0.0002900920808315277
         },
         {
          "device": "cpu",
          "impl": "naive",
          "model": "BYSIZE_15",
          "name": "score.tmol_lj_cpu_cpp.naive",
          "natoms": 264,
          "nres": 14,
          "rosetta_relative": 0.699444201610318,
          "time": 0.0002902490086853504
         },
         {
          "device": "cpu",
          "impl": "naive",
          "model": "BYSIZE_15",
          "name": "score.tmol_lj_cpu_cpp.naive",
          "natoms": 264,
          "nres": 14,
          "rosetta_relative": 0.6946245501621243,
          "time": 0.0002882489934563637
         },
         {
          "device": "cpu",
          "impl": "naive",
          "model": "BYSIZE_15",
          "name": "score.tmol_lj_cpu_cpp.naive",
          "natoms": 264,
          "nres": 14,
          "rosetta_relative": 0.696834071396465,
          "time": 0.0002891658805310726
         },
         {
          "device": "cpu",
          "impl": "naive",
          "model": "BYSIZE_15",
          "name": "score.tmol_lj_cpu_cpp.naive",
          "natoms": 264,
          "nres": 14,
          "rosetta_relative": 0.6961091599097285,
          "time": 0.0002888650633394718
         },
         {
          "device": "cpu",
          "impl": "naive",
          "model": "BYSIZE_15",
          "name": "score.tmol_lj_cpu_cpp.naive",
          "natoms": 264,
          "nres": 14,
          "rosetta_relative": 0.6921401011967458,
          "time": 0.00028721801936626434
         },
         {
          "device": "cpu",
          "impl": "naive",
          "model": "BYSIZE_15",
          "name": "score.tmol_lj_cpu_cpp.naive",
          "natoms": 264,
          "nres": 14,
          "rosetta_relative": 0.6926125280325292,
          "time": 0.0002874140627682209
         },
         {
          "device": "cpu",
          "impl": "naive",
          "model": "BYSIZE_15",
          "name": "score.tmol_lj_cpu_cpp.naive",
          "natoms": 264,
          "nres": 14,
          "rosetta_relative": 0.694143146094307,
          "time": 0.00028804922476410866
         },
         {
          "device": "cpu",
          "impl": "naive",
          "model": "BYSIZE_15",
          "name": "score.tmol_lj_cpu_cpp.naive",
          "natoms": 264,
          "nres": 14,
          "rosetta_relative": 0.6950633123777806,
          "time": 0.000288431067019701
         },
         {
          "device": "cpu",
          "impl": "naive",
          "model": "BYSIZE_15",
          "name": "score.tmol_lj_cpu_cpp.naive",
          "natoms": 264,
          "nres": 14,
          "rosetta_relative": 0.7159948510187947,
          "time": 0.00029711704701185226
         },
         {
          "device": "cpu",
          "impl": "naive",
          "model": "BYSIZE_15",
          "name": "score.tmol_lj_cpu_cpp.naive",
          "natoms": 264,
          "nres": 14,
          "rosetta_relative": 0.7033549083150804,
          "time": 0.0002918718382716179
         },
         {
          "device": "cpu",
          "impl": "naive",
          "model": "BYSIZE_15",
          "name": "score.tmol_lj_cpu_cpp.naive",
          "natoms": 264,
          "nres": 14,
          "rosetta_relative": 0.6967813301582659,
          "time": 0.00028914399445056915
         },
         {
          "device": "cpu",
          "impl": "naive",
          "model": "BYSIZE_15",
          "name": "score.tmol_lj_cpu_cpp.naive",
          "natoms": 264,
          "nres": 14,
          "rosetta_relative": 0.6958678967988178,
          "time": 0.00028876494616270065
         },
         {
          "device": "cpu",
          "impl": "naive",
          "model": "BYSIZE_15",
          "name": "score.tmol_lj_cpu_cpp.naive",
          "natoms": 264,
          "nres": 14,
          "rosetta_relative": 0.6908866551740142,
          "time": 0.0002866978757083416
         },
         {
          "device": "cpu",
          "impl": "naive",
          "model": "BYSIZE_15",
          "name": "score.tmol_lj_cpu_cpp.naive",
          "natoms": 264,
          "nres": 14,
          "rosetta_relative": 0.6927426978970206,
          "time": 0.0002874680794775486
         },
         {
          "device": "cpu",
          "impl": "naive",
          "model": "BYSIZE_15",
          "name": "score.tmol_lj_cpu_cpp.naive",
          "natoms": 264,
          "nres": 14,
          "rosetta_relative": 0.6959789900452371,
          "time": 0.0002888110466301441
         },
         {
          "device": "cpu",
          "impl": "naive",
          "model": "BYSIZE_15",
          "name": "score.tmol_lj_cpu_cpp.naive",
          "natoms": 264,
          "nres": 14,
          "rosetta_relative": 0.691988610406174,
          "time": 0.0002871551550924778
         },
         {
          "device": "cpu",
          "impl": "naive",
          "model": "BYSIZE_15",
          "name": "score.tmol_lj_cpu_cpp.naive",
          "natoms": 264,
          "nres": 14,
          "rosetta_relative": 0.6928493025274229,
          "time": 0.00028751231729984283
         },
         {
          "device": "cpu",
          "impl": "naive",
          "model": "BYSIZE_15",
          "name": "score.tmol_lj_cpu_cpp.naive",
          "natoms": 264,
          "nres": 14,
          "rosetta_relative": 0.6882125621819198,
          "time": 0.00028558820486068726
         },
         {
          "device": "cpu",
          "impl": "naive",
          "model": "BYSIZE_15",
          "name": "score.tmol_lj_cpu_cpp.naive",
          "natoms": 264,
          "nres": 14,
          "rosetta_relative": 0.697014738191147,
          "time": 0.00028924085199832916
         },
         {
          "device": "cpu",
          "impl": "naive",
          "model": "BYSIZE_15",
          "name": "score.tmol_lj_cpu_cpp.naive",
          "natoms": 264,
          "nres": 14,
          "rosetta_relative": 0.6916295211248185,
          "time": 0.0002870061434805393
         },
         {
          "device": "cpu",
          "impl": "naive",
          "model": "BYSIZE_15",
          "name": "score.tmol_lj_cpu_cpp.naive",
          "natoms": 264,
          "nres": 14,
          "rosetta_relative": 0.6956894743121442,
          "time": 0.0002886909060180187
         },
         {
          "device": "cpu",
          "impl": "naive",
          "model": "BYSIZE_15",
          "name": "score.tmol_lj_cpu_cpp.naive",
          "natoms": 264,
          "nres": 14,
          "rosetta_relative": 0.6952484677884795,
          "time": 0.0002885079011321068
         },
         {
          "device": "cpu",
          "impl": "naive",
          "model": "BYSIZE_15",
          "name": "score.tmol_lj_cpu_cpp.naive",
          "natoms": 264,
          "nres": 14,
          "rosetta_relative": 0.7183895276638342,
          "time": 0.000298110768198967
         },
         {
          "device": "cpu",
          "impl": "naive",
          "model": "BYSIZE_15",
          "name": "score.tmol_lj_cpu_cpp.naive",
          "natoms": 264,
          "nres": 14,
          "rosetta_relative": 0.7017378843949763,
          "time": 0.00029120082035660744
         },
         {
          "device": "cpu",
          "impl": "naive",
          "model": "BYSIZE_15",
          "name": "score.tmol_lj_cpu_cpp.naive",
          "natoms": 264,
          "nres": 14,
          "rosetta_relative": 0.6936606198724856,
          "time": 0.00028784899041056633
         },
         {
          "device": "cpu",
          "impl": "naive",
          "model": "BYSIZE_15",
          "name": "score.tmol_lj_cpu_cpp.naive",
          "natoms": 264,
          "nres": 14,
          "rosetta_relative": 0.6949881280594967,
          "time": 0.0002883998677134514
         },
         {
          "device": "cpu",
          "impl": "naive",
          "model": "BYSIZE_15",
          "name": "score.tmol_lj_cpu_cpp.naive",
          "natoms": 264,
          "nres": 14,
          "rosetta_relative": 0.6949589520553866,
          "time": 0.0002883877605199814
         },
         {
          "device": "cpu",
          "impl": "naive",
          "model": "BYSIZE_15",
          "name": "score.tmol_lj_cpu_cpp.naive",
          "natoms": 264,
          "nres": 14,
          "rosetta_relative": 0.6934990296958756,
          "time": 0.000287781935185194
         },
         {
          "device": "cpu",
          "impl": "naive",
          "model": "BYSIZE_15",
          "name": "score.tmol_lj_cpu_cpp.naive",
          "natoms": 264,
          "nres": 14,
          "rosetta_relative": 0.6964682491910841,
          "time": 0.0002890140749514103
         },
         {
          "device": "cpu",
          "impl": "naive",
          "model": "BYSIZE_15",
          "name": "score.tmol_lj_cpu_cpp.naive",
          "natoms": 264,
          "nres": 14,
          "rosetta_relative": 0.6917810119153903,
          "time": 0.00028706900775432587
         },
         {
          "device": "cpu",
          "impl": "naive",
          "model": "BYSIZE_15",
          "name": "score.tmol_lj_cpu_cpp.naive",
          "natoms": 264,
          "nres": 14,
          "rosetta_relative": 0.6914219226340348,
          "time": 0.0002869199961423874
         },
         {
          "device": "cpu",
          "impl": "naive",
          "model": "BYSIZE_15",
          "name": "score.tmol_lj_cpu_cpp.naive",
          "natoms": 264,
          "nres": 14,
          "rosetta_relative": 0.6947928732627597,
          "time": 0.00028831884264945984
         },
         {
          "device": "cpu",
          "impl": "naive",
          "model": "BYSIZE_15",
          "name": "score.tmol_lj_cpu_cpp.naive",
          "natoms": 264,
          "nres": 14,
          "rosetta_relative": 0.6926226274185673,
          "time": 0.00028741825371980667
         },
         {
          "device": "cpu",
          "impl": "naive",
          "model": "BYSIZE_15",
          "name": "score.tmol_lj_cpu_cpp.naive",
          "natoms": 264,
          "nres": 14,
          "rosetta_relative": 0.6986351285732637,
          "time": 0.00028991326689720154
         },
         {
          "device": "cpu",
          "impl": "naive",
          "model": "BYSIZE_15",
          "name": "score.tmol_lj_cpu_cpp.naive",
          "natoms": 264,
          "nres": 14,
          "rosetta_relative": 0.690785661313633,
          "time": 0.0002866559661924839
         },
         {
          "device": "cpu",
          "impl": "naive",
          "model": "BYSIZE_15",
          "name": "score.tmol_lj_cpu_cpp.naive",
          "natoms": 264,
          "nres": 14,
          "rosetta_relative": 0.6927988055972323,
          "time": 0.000287491362541914
         },
         {
          "device": "cpu",
          "impl": "naive",
          "model": "BYSIZE_15",
          "name": "score.tmol_lj_cpu_cpp.naive",
          "natoms": 264,
          "nres": 14,
          "rosetta_relative": 0.738268485848875,
          "time": 0.0003063599579036236
         },
         {
          "device": "cpu",
          "impl": "naive",
          "model": "BYSIZE_15",
          "name": "score.tmol_lj_cpu_cpp.naive",
          "natoms": 264,
          "nres": 14,
          "rosetta_relative": 0.7095985731946495,
          "time": 0.00029446277767419815
         },
         {
          "device": "cpu",
          "impl": "naive",
          "model": "BYSIZE_15",
          "name": "score.tmol_lj_cpu_cpp.naive",
          "natoms": 264,
          "nres": 14,
          "rosetta_relative": 0.6974849207189219,
          "time": 0.0002894359640777111
         },
         {
          "device": "cpu",
          "impl": "naive",
          "model": "BYSIZE_15",
          "name": "score.tmol_lj_cpu_cpp.naive",
          "natoms": 264,
          "nres": 14,
          "rosetta_relative": 0.6953449730328438,
          "time": 0.00028854794800281525
         },
         {
          "device": "cpu",
          "impl": "naive",
          "model": "BYSIZE_15",
          "name": "score.tmol_lj_cpu_cpp.naive",
          "natoms": 264,
          "nres": 14,
          "rosetta_relative": 0.6970562578893037,
          "time": 0.00028925808146595955
         },
         {
          "device": "cpu",
          "impl": "naive",
          "model": "BYSIZE_15",
          "name": "score.tmol_lj_cpu_cpp.naive",
          "natoms": 264,
          "nres": 14,
          "rosetta_relative": 0.6944528605994762,
          "time": 0.0002881777472794056
         },
         {
          "device": "cpu",
          "impl": "naive",
          "model": "BYSIZE_15",
          "name": "score.tmol_lj_cpu_cpp.naive",
          "natoms": 264,
          "nres": 14,
          "rosetta_relative": 0.6902122406174683,
          "time": 0.00028641801327466965
         },
         {
          "device": "cpu",
          "impl": "naive",
          "model": "BYSIZE_15",
          "name": "score.tmol_lj_cpu_cpp.naive",
          "natoms": 264,
          "nres": 14,
          "rosetta_relative": 0.6933374395192656,
          "time": 0.0002877148799598217
         },
         {
          "device": "cpu",
          "impl": "naive",
          "model": "BYSIZE_15",
          "name": "score.tmol_lj_cpu_cpp.naive",
          "natoms": 264,
          "nres": 14,
          "rosetta_relative": 0.6944259289033745,
          "time": 0.0002881665714085102
         },
         {
          "device": "cpu",
          "impl": "naive",
          "model": "BYSIZE_15",
          "name": "score.tmol_lj_cpu_cpp.naive",
          "natoms": 264,
          "nres": 14,
          "rosetta_relative": 0.69204584026039,
          "time": 0.0002871789038181305
         },
         {
          "device": "cpu",
          "impl": "naive",
          "model": "BYSIZE_15",
          "name": "score.tmol_lj_cpu_cpp.naive",
          "natoms": 264,
          "nres": 14,
          "rosetta_relative": 0.6908967545600523,
          "time": 0.00028670206665992737
         },
         {
          "device": "cpu",
          "impl": "naive",
          "model": "BYSIZE_15",
          "name": "score.tmol_lj_cpu_cpp.naive",
          "natoms": 264,
          "nres": 14,
          "rosetta_relative": 0.6926349711126139,
          "time": 0.00028742337599396706
         },
         {
          "device": "cpu",
          "impl": "naive",
          "model": "BYSIZE_15",
          "name": "score.tmol_lj_cpu_cpp.naive",
          "natoms": 264,
          "nres": 14,
          "rosetta_relative": 0.6923061799893727,
          "time": 0.0002872869372367859
         },
         {
          "device": "cpu",
          "impl": "naive",
          "model": "BYSIZE_15",
          "name": "score.tmol_lj_cpu_cpp.naive",
          "natoms": 264,
          "nres": 14,
          "rosetta_relative": 0.7126912296303238,
          "time": 0.0002957461401820183
         },
         {
          "device": "cpu",
          "impl": "naive",
          "model": "BYSIZE_15",
          "name": "score.tmol_lj_cpu_cpp.naive",
          "natoms": 264,
          "nres": 14,
          "rosetta_relative": 0.7010578590684092,
          "time": 0.00029091862961649895
         },
         {
          "device": "cpu",
          "impl": "naive",
          "model": "BYSIZE_15",
          "name": "score.tmol_lj_cpu_cpp.naive",
          "natoms": 264,
          "nres": 14,
          "rosetta_relative": 0.6936247109443501,
          "time": 0.0002878340892493725
         },
         {
          "device": "cpu",
          "impl": "naive",
          "model": "BYSIZE_15",
          "name": "score.tmol_lj_cpu_cpp.naive",
          "natoms": 264,
          "nres": 14,
          "rosetta_relative": 0.6950610680697721,
          "time": 0.0002884301356971264
         },
         {
          "device": "cpu",
          "impl": "naive",
          "model": "BYSIZE_15",
          "name": "score.tmol_lj_cpu_cpp.naive",
          "natoms": 264,
          "nres": 14,
          "rosetta_relative": 0.6967499098461473,
          "time": 0.00028913095593452454
         },
         {
          "device": "cpu",
          "impl": "naive",
          "model": "BYSIZE_15",
          "name": "score.tmol_lj_cpu_cpp.naive",
          "natoms": 264,
          "nres": 14,
          "rosetta_relative": 0.6968969120207021,
          "time": 0.00028919195756316185
         },
         {
          "device": "cpu",
          "impl": "naive",
          "model": "BYSIZE_15",
          "name": "score.tmol_lj_cpu_cpp.naive",
          "natoms": 264,
          "nres": 14,
          "rosetta_relative": 0.6951912379342635,
          "time": 0.0002884841524064541
         },
         {
          "device": "cpu",
          "impl": "naive",
          "model": "BYSIZE_15",
          "name": "score.tmol_lj_cpu_cpp.naive",
          "natoms": 264,
          "nres": 14,
          "rosetta_relative": 0.6915296494184414,
          "time": 0.00028696469962596893
         },
         {
          "device": "cpu",
          "impl": "naive",
          "model": "BYSIZE_15",
          "name": "score.tmol_lj_cpu_cpp.naive",
          "natoms": 264,
          "nres": 14,
          "rosetta_relative": 0.6947188110984801,
          "time": 0.00028828810900449753
         },
         {
          "device": "cpu",
          "impl": "naive",
          "model": "BYSIZE_15",
          "name": "score.tmol_lj_cpu_cpp.naive",
          "natoms": 264,
          "nres": 14,
          "rosetta_relative": 0.6998616428998937,
          "time": 0.0002904222346842289
         },
         {
          "device": "cpu",
          "impl": "naive",
          "model": "BYSIZE_15",
          "name": "score.tmol_lj_cpu_cpp.naive",
          "natoms": 264,
          "nres": 14,
          "rosetta_relative": 0.6973738274725025,
          "time": 0.00028938986361026764
         },
         {
          "device": "cpu",
          "impl": "naive",
          "model": "BYSIZE_15",
          "name": "score.tmol_lj_cpu_cpp.naive",
          "natoms": 264,
          "nres": 14,
          "rosetta_relative": 0.704142660426054,
          "time": 0.0002921987324953079
         },
         {
          "device": "cpu",
          "impl": "naive",
          "model": "BYSIZE_15",
          "name": "score.tmol_lj_cpu_cpp.naive",
          "natoms": 264,
          "nres": 14,
          "rosetta_relative": 0.6998268561257623,
          "time": 0.00029040779918432236
         },
         {
          "device": "cpu",
          "impl": "naive",
          "model": "BYSIZE_15",
          "name": "score.tmol_lj_cpu_cpp.naive",
          "natoms": 264,
          "nres": 14,
          "rosetta_relative": 0.6987843750558271,
          "time": 0.00028997519984841347
         },
         {
          "device": "cpu",
          "impl": "naive",
          "model": "BYSIZE_15",
          "name": "score.tmol_lj_cpu_cpp.naive",
          "natoms": 264,
          "nres": 14,
          "rosetta_relative": 0.7139300876510004,
          "time": 0.000296260230243206
         },
         {
          "device": "cpu",
          "impl": "naive",
          "model": "BYSIZE_15",
          "name": "score.tmol_lj_cpu_cpp.naive",
          "natoms": 264,
          "nres": 14,
          "rosetta_relative": 0.7000299660005291,
          "time": 0.00029049208387732506
         },
         {
          "device": "cpu",
          "impl": "naive",
          "model": "BYSIZE_15",
          "name": "score.tmol_lj_cpu_cpp.naive",
          "natoms": 264,
          "nres": 14,
          "rosetta_relative": 0.6966601375258084,
          "time": 0.0002890937030315399
         },
         {
          "device": "cpu",
          "impl": "naive",
          "model": "BYSIZE_15",
          "name": "score.tmol_lj_cpu_cpp.naive",
          "natoms": 264,
          "nres": 14,
          "rosetta_relative": 0.6946728027843064,
          "time": 0.0002882690168917179
         },
         {
          "device": "cpu",
          "impl": "naive",
          "model": "BYSIZE_15",
          "name": "score.tmol_lj_cpu_cpp.naive",
          "natoms": 264,
          "nres": 14,
          "rosetta_relative": 0.6995788600908263,
          "time": 0.00029030488803982735
         },
         {
          "device": "cpu",
          "impl": "naive",
          "model": "BYSIZE_15",
          "name": "score.tmol_lj_cpu_cpp.naive",
          "natoms": 264,
          "nres": 14,
          "rosetta_relative": 0.6927617745150926,
          "time": 0.00028747599571943283
         },
         {
          "device": "cpu",
          "impl": "naive",
          "model": "BYSIZE_15",
          "name": "score.tmol_lj_cpu_cpp.naive",
          "natoms": 264,
          "nres": 14,
          "rosetta_relative": 0.6918775171597545,
          "time": 0.00028710905462503433
         },
         {
          "device": "cpu",
          "impl": "naive",
          "model": "BYSIZE_15",
          "name": "score.tmol_lj_cpu_cpp.naive",
          "natoms": 264,
          "nres": 14,
          "rosetta_relative": 0.6928178822153044,
          "time": 0.0002874992787837982
         },
         {
          "device": "cpu",
          "impl": "naive",
          "model": "BYSIZE_15",
          "name": "score.tmol_lj_cpu_cpp.naive",
          "natoms": 264,
          "nres": 14,
          "rosetta_relative": 0.6953393622628227,
          "time": 0.0002885456196963787
         },
         {
          "device": "cpu",
          "impl": "naive",
          "model": "BYSIZE_15",
          "name": "score.tmol_lj_cpu_cpp.naive",
          "natoms": 264,
          "nres": 14,
          "rosetta_relative": 0.6948781569670817,
          "time": 0.0002883542329072952
         },
         {
          "device": "cpu",
          "impl": "naive",
          "model": "BYSIZE_15",
          "name": "score.tmol_lj_cpu_cpp.naive",
          "natoms": 264,
          "nres": 14,
          "rosetta_relative": 0.6959049278809576,
          "time": 0.0002887803129851818
         },
         {
          "device": "cpu",
          "impl": "naive",
          "model": "BYSIZE_15",
          "name": "score.tmol_lj_cpu_cpp.naive",
          "natoms": 264,
          "nres": 14,
          "rosetta_relative": 0.6975163410310404,
          "time": 0.0002894490025937557
         },
         {
          "device": "cpu",
          "impl": "naive",
          "model": "BYSIZE_15",
          "name": "score.tmol_lj_cpu_cpp.naive",
          "natoms": 264,
          "nres": 14,
          "rosetta_relative": 0.6975208296470574,
          "time": 0.00028945086523890495
         },
         {
          "device": "cpu",
          "impl": "naive",
          "model": "BYSIZE_15",
          "name": "score.tmol_lj_cpu_cpp.naive",
          "natoms": 264,
          "nres": 14,
          "rosetta_relative": 0.693101787178376,
          "time": 0.0002876170910894871
         },
         {
          "device": "cpu",
          "impl": "naive",
          "model": "BYSIZE_15",
          "name": "score.tmol_lj_cpu_cpp.naive",
          "natoms": 264,
          "nres": 14,
          "rosetta_relative": 0.7352184712653614,
          "time": 0.00030509429052472115
         },
         {
          "device": "cpu",
          "impl": "naive",
          "model": "BYSIZE_15",
          "name": "score.tmol_lj_cpu_cpp.naive",
          "natoms": 264,
          "nres": 14,
          "rosetta_relative": 0.7057484628061157,
          "time": 0.0002928650937974453
         },
         {
          "device": "cpu",
          "impl": "naive",
          "model": "BYSIZE_15",
          "name": "score.tmol_lj_cpu_cpp.naive",
          "natoms": 264,
          "nres": 14,
          "rosetta_relative": 0.6983714223822683,
          "time": 0.0002898038364946842
         },
         {
          "device": "cpu",
          "impl": "naive",
          "model": "BYSIZE_15",
          "name": "score.tmol_lj_cpu_cpp.naive",
          "natoms": 264,
          "nres": 14,
          "rosetta_relative": 0.692725865586957,
          "time": 0.000287461094558239
         },
         {
          "device": "cpu",
          "impl": "naive",
          "model": "BYSIZE_15",
          "name": "score.tmol_lj_cpu_cpp.naive",
          "natoms": 264,
          "nres": 14,
          "rosetta_relative": 0.6940140983838199,
          "time": 0.00028799567371606827
         },
         {
          "device": "cpu",
          "impl": "naive",
          "model": "BYSIZE_15",
          "name": "score.tmol_lj_cpu_cpp.naive",
          "natoms": 264,
          "nres": 14,
          "rosetta_relative": 0.6932027810387573,
          "time": 0.00028765900060534477
         },
         {
          "device": "cpu",
          "impl": "naive",
          "model": "BYSIZE_15",
          "name": "score.tmol_lj_cpu_cpp.naive",
          "natoms": 264,
          "nres": 14,
          "rosetta_relative": 0.6954942195154072,
          "time": 0.0002886098809540272
         },
         {
          "device": "cpu",
          "impl": "naive",
          "model": "BYSIZE_15",
          "name": "score.tmol_lj_cpu_cpp.naive",
          "natoms": 264,
          "nres": 14,
          "rosetta_relative": 0.6928605240674653,
          "time": 0.0002875169739127159
         },
         {
          "device": "cpu",
          "impl": "naive",
          "model": "BYSIZE_15",
          "name": "score.tmol_lj_cpu_cpp.naive",
          "natoms": 264,
          "nres": 14,
          "rosetta_relative": 0.6947569643346242,
          "time": 0.000288303941488266
         },
         {
          "device": "cpu",
          "impl": "naive",
          "model": "BYSIZE_15",
          "name": "score.tmol_lj_cpu_cpp.naive",
          "natoms": 264,
          "nres": 14,
          "rosetta_relative": 0.750545972809221,
          "time": 0.00031145475804805756
         },
         {
          "device": "cpu",
          "impl": "naive",
          "model": "BYSIZE_15",
          "name": "score.tmol_lj_cpu_cpp.naive",
          "natoms": 264,
          "nres": 14,
          "rosetta_relative": 0.7139446756530554,
          "time": 0.000296266283839941
         },
         {
          "device": "cpu",
          "impl": "naive",
          "model": "BYSIZE_15",
          "name": "score.tmol_lj_cpu_cpp.naive",
          "natoms": 264,
          "nres": 14,
          "rosetta_relative": 0.7008682150416934,
          "time": 0.00029083993285894394
         },
         {
          "device": "cpu",
          "impl": "naive",
          "model": "BYSIZE_15",
          "name": "score.tmol_lj_cpu_cpp.naive",
          "natoms": 264,
          "nres": 14,
          "rosetta_relative": 0.6996080360949364,
          "time": 0.00029031699523329735
         },
         {
          "device": "cpu",
          "impl": "naive",
          "model": "BYSIZE_15",
          "name": "score.tmol_lj_cpu_cpp.naive",
          "natoms": 264,
          "nres": 14,
          "rosetta_relative": 0.7234403428369005,
          "time": 0.0003002067096531391
         },
         {
          "device": "cpu",
          "impl": "naive",
          "model": "BYSIZE_15",
          "name": "score.tmol_lj_cpu_cpp.naive",
          "natoms": 264,
          "nres": 14,
          "rosetta_relative": 0.7015920043744256,
          "time": 0.00029114028438925743
         },
         {
          "device": "cpu",
          "impl": "naive",
          "model": "BYSIZE_15",
          "name": "score.tmol_lj_cpu_cpp.naive",
          "natoms": 264,
          "nres": 14,
          "rosetta_relative": 0.6960362198994532,
          "time": 0.0002888347953557968
         },
         {
          "device": "cpu",
          "impl": "naive",
          "model": "BYSIZE_15",
          "name": "score.tmol_lj_cpu_cpp.naive",
          "natoms": 264,
          "nres": 14,
          "rosetta_relative": 0.6967409326141134,
          "time": 0.0002891272306442261
         },
         {
          "device": "cpu",
          "impl": "naive",
          "model": "BYSIZE_15",
          "name": "score.tmol_lj_cpu_cpp.naive",
          "natoms": 264,
          "nres": 14,
          "rosetta_relative": 0.7012441366331125,
          "time": 0.00029099592939019203
         },
         {
          "device": "cpu",
          "impl": "naive",
          "model": "BYSIZE_15",
          "name": "score.tmol_lj_cpu_cpp.naive",
          "natoms": 264,
          "nres": 14,
          "rosetta_relative": 0.6941768107144342,
          "time": 0.0002880631946027279
         },
         {
          "device": "cpu",
          "impl": "naive",
          "model": "BYSIZE_15",
          "name": "score.tmol_lj_cpu_cpp.naive",
          "natoms": 264,
          "nres": 14,
          "rosetta_relative": 0.6938491417451972,
          "time": 0.00028792722150683403
         },
         {
          "device": "cpu",
          "impl": "naive",
          "model": "BYSIZE_15",
          "name": "score.tmol_lj_cpu_cpp.naive",
          "natoms": 264,
          "nres": 14,
          "rosetta_relative": 0.6933374395192656,
          "time": 0.0002877148799598217
         },
         {
          "device": "cpu",
          "impl": "naive",
          "model": "BYSIZE_15",
          "name": "score.tmol_lj_cpu_cpp.naive",
          "natoms": 264,
          "nres": 14,
          "rosetta_relative": 0.7006561279348927,
          "time": 0.0002907519228756428
         },
         {
          "device": "cpu",
          "impl": "naive",
          "model": "BYSIZE_15",
          "name": "score.tmol_lj_cpu_cpp.naive",
          "natoms": 264,
          "nres": 14,
          "rosetta_relative": 0.6956333666119324,
          "time": 0.00028866762295365334
         },
         {
          "device": "cpu",
          "impl": "naive",
          "model": "BYSIZE_15",
          "name": "score.tmol_lj_cpu_cpp.naive",
          "natoms": 264,
          "nres": 14,
          "rosetta_relative": 0.6989268886143651,
          "time": 0.00029003433883190155
         },
         {
          "device": "cpu",
          "impl": "naive",
          "model": "BYSIZE_15",
          "name": "score.tmol_lj_cpu_cpp.naive",
          "natoms": 264,
          "nres": 14,
          "rosetta_relative": 0.6989291329223736,
          "time": 0.00029003527015447617
         },
         {
          "device": "cpu",
          "impl": "naive",
          "model": "BYSIZE_15",
          "name": "score.tmol_lj_cpu_cpp.naive",
          "natoms": 264,
          "nres": 14,
          "rosetta_relative": 0.6965288455073128,
          "time": 0.0002890392206609249
         },
         {
          "device": "cpu",
          "impl": "naive",
          "model": "BYSIZE_15",
          "name": "score.tmol_lj_cpu_cpp.naive",
          "natoms": 264,
          "nres": 14,
          "rosetta_relative": 0.6998896967499996,
          "time": 0.0002904338762164116
         },
         {
          "device": "cpu",
          "impl": "naive",
          "model": "BYSIZE_15",
          "name": "score.tmol_lj_cpu_cpp.naive",
          "natoms": 264,
          "nres": 14,
          "rosetta_relative": 0.7140860670575891,
          "time": 0.0002963249571621418
         },
         {
          "device": "cpu",
          "impl": "naive",
          "model": "BYSIZE_15",
          "name": "score.tmol_lj_cpu_cpp.naive",
          "natoms": 264,
          "nres": 14,
          "rosetta_relative": 0.7043098613726851,
          "time": 0.0002922681160271168
         },
         {
          "device": "cpu",
          "impl": "naive",
          "model": "BYSIZE_15",
          "name": "score.tmol_lj_cpu_cpp.naive",
          "natoms": 264,
          "nres": 14,
          "rosetta_relative": 0.698127914963349,
          "time": 0.00028970278799533844
         },
         {
          "device": "cpu",
          "impl": "naive",
          "model": "BYSIZE_15",
          "name": "score.tmol_lj_cpu_cpp.naive",
          "natoms": 264,
          "nres": 14,
          "rosetta_relative": 0.692759530207084,
          "time": 0.0002874750643968582
         },
         {
          "device": "cpu",
          "impl": "naive",
          "model": "BYSIZE_15",
          "name": "score.tmol_lj_cpu_cpp.naive",
          "natoms": 264,
          "nres": 14,
          "rosetta_relative": 0.6914634423321915,
          "time": 0.0002869372256100178
         },
         {
          "device": "cpu",
          "impl": "naive",
          "model": "BYSIZE_15",
          "name": "score.tmol_lj_cpu_cpp.naive",
          "natoms": 264,
          "nres": 14,
          "rosetta_relative": 0.6990727686349157,
          "time": 0.00029009487479925156
         },
         {
          "device": "cpu",
          "impl": "naive",
          "model": "BYSIZE_15",
          "name": "score.tmol_lj_cpu_cpp.naive",
          "natoms": 264,
          "nres": 14,
          "rosetta_relative": 0.6951957265502804,
          "time": 0.0002884860150516033
         },
         {
          "device": "cpu",
          "impl": "naive",
          "model": "BYSIZE_15",
          "name": "score.tmol_lj_cpu_cpp.naive",
          "natoms": 264,
          "nres": 14,
          "rosetta_relative": 0.6935012740038841,
          "time": 0.00028778286650776863
         },
         {
          "device": "cpu",
          "impl": "naive",
          "model": "BYSIZE_15",
          "name": "score.tmol_lj_cpu_cpp.naive",
          "natoms": 264,
          "nres": 14,
          "rosetta_relative": 0.6956804970801104,
          "time": 0.00028868718072772026
         },
         {
          "device": "cpu",
          "impl": "naive",
          "model": "BYSIZE_15",
          "name": "score.tmol_lj_cpu_cpp.naive",
          "natoms": 264,
          "nres": 14,
          "rosetta_relative": 0.6931163751804311,
          "time": 0.0002876231446862221
         },
         {
          "device": "cpu",
          "impl": "naive",
          "model": "BYSIZE_15",
          "name": "score.tmol_lj_cpu_cpp.naive",
          "natoms": 264,
          "nres": 14,
          "rosetta_relative": 0.695807300482589,
          "time": 0.00028873980045318604
         },
         {
          "device": "cpu",
          "impl": "naive",
          "model": "BYSIZE_15",
          "name": "score.tmol_lj_cpu_cpp.naive",
          "natoms": 264,
          "nres": 14,
          "rosetta_relative": 0.6883517092784451,
          "time": 0.0002856459468603134
         },
         {
          "device": "cpu",
          "impl": "naive",
          "model": "BYSIZE_15",
          "name": "score.tmol_lj_cpu_cpp.naive",
          "natoms": 264,
          "nres": 14,
          "rosetta_relative": 0.6899642445825322,
          "time": 0.00028631510213017464
         },
         {
          "device": "cpu",
          "impl": "naive",
          "model": "BYSIZE_15",
          "name": "score.tmol_lj_cpu_cpp.naive",
          "natoms": 264,
          "nres": 14,
          "rosetta_relative": 0.7259741665784654,
          "time": 0.00030125817283988
         },
         {
          "device": "cpu",
          "impl": "naive",
          "model": "BYSIZE_15",
          "name": "score.tmol_lj_cpu_cpp.naive",
          "natoms": 264,
          "nres": 14,
          "rosetta_relative": 0.7167612822036878,
          "time": 0.00029743509367108345
         },
         {
          "device": "cpu",
          "impl": "naive",
          "model": "BYSIZE_15",
          "name": "score.tmol_lj_cpu_cpp.naive",
          "natoms": 264,
          "nres": 14,
          "rosetta_relative": 0.7008367947295748,
          "time": 0.0002908268943428993
         },
         {
          "device": "cpu",
          "impl": "naive",
          "model": "BYSIZE_15",
          "name": "score.tmol_lj_cpu_cpp.naive",
          "natoms": 264,
          "nres": 14,
          "rosetta_relative": 0.6956748863100892,
          "time": 0.0002886848524212837
         },
         {
          "device": "cpu",
          "impl": "naive",
          "model": "BYSIZE_15",
          "name": "score.tmol_lj_cpu_cpp.naive",
          "natoms": 264,
          "nres": 14,
          "rosetta_relative": 0.6976869084396843,
          "time": 0.0002895197831094265
         },
         {
          "device": "cpu",
          "impl": "naive",
          "model": "BYSIZE_15",
          "name": "score.tmol_lj_cpu_cpp.naive",
          "natoms": 264,
          "nres": 14,
          "rosetta_relative": 0.6961910771520378,
          "time": 0.0002888990566134453
         },
         {
          "device": "cpu",
          "impl": "naive",
          "model": "BYSIZE_15",
          "name": "score.tmol_lj_cpu_cpp.naive",
          "natoms": 264,
          "nres": 14,
          "rosetta_relative": 0.7036926766703554,
          "time": 0.0002920120023190975
         },
         {
          "device": "cpu",
          "impl": "naive",
          "model": "BYSIZE_15",
          "name": "score.tmol_lj_cpu_cpp.naive",
          "natoms": 264,
          "nres": 14,
          "rosetta_relative": 0.7066641404735723,
          "time": 0.0002932450734078884
         },
         {
          "device": "cpu",
          "impl": "naive",
          "model": "BYSIZE_15",
          "name": "score.tmol_lj_cpu_cpp.naive",
          "natoms": 264,
          "nres": 14,
          "rosetta_relative": 0.7001433035549569,
          "time": 0.00029053911566734314
         },
         {
          "device": "cpu",
          "impl": "naive",
          "model": "BYSIZE_15",
          "name": "score.tmol_lj_cpu_cpp.naive",
          "natoms": 264,
          "nres": 14,
          "rosetta_relative": 0.6974849207189219,
          "time": 0.0002894359640777111
         },
         {
          "device": "cpu",
          "impl": "naive",
          "model": "BYSIZE_15",
          "name": "score.tmol_lj_cpu_cpp.naive",
          "natoms": 264,
          "nres": 14,
          "rosetta_relative": 0.6962415740822284,
          "time": 0.00028892001137137413
         },
         {
          "device": "cpu",
          "impl": "naive",
          "model": "BYSIZE_15",
          "name": "score.tmol_lj_cpu_cpp.naive",
          "natoms": 264,
          "nres": 14,
          "rosetta_relative": 0.6960025552793261,
          "time": 0.0002888208255171776
         },
         {
          "device": "cpu",
          "impl": "naive",
          "model": "BYSIZE_15",
          "name": "score.tmol_lj_cpu_cpp.naive",
          "natoms": 264,
          "nres": 14,
          "rosetta_relative": 0.6931904373447106,
          "time": 0.0002876538783311844
         },
         {
          "device": "cpu",
          "impl": "naive",
          "model": "BYSIZE_15",
          "name": "score.tmol_lj_cpu_cpp.naive",
          "natoms": 264,
          "nres": 14,
          "rosetta_relative": 0.6912872641535265,
          "time": 0.00028686411678791046
         },
         {
          "device": "cpu",
          "impl": "naive",
          "model": "BYSIZE_15",
          "name": "score.tmol_lj_cpu_cpp.naive",
          "natoms": 264,
          "nres": 14,
          "rosetta_relative": 0.7159465983966125,
          "time": 0.00029709702357649803
         },
         {
          "device": "cpu",
          "impl": "naive",
          "model": "BYSIZE_15",
          "name": "score.tmol_lj_cpu_cpp.naive",
          "natoms": 264,
          "nres": 14,
          "rosetta_relative": 0.7072499048637835,
          "time": 0.00029348814859986305
         },
         {
          "device": "cpu",
          "impl": "naive",
          "model": "BYSIZE_15",
          "name": "score.tmol_lj_cpu_cpp.naive",
          "natoms": 264,
          "nres": 14,
          "rosetta_relative": 0.7003834445118634,
          "time": 0.000290638767182827
         },
         {
          "device": "cpu",
          "impl": "naive",
          "model": "BYSIZE_15",
          "name": "score.tmol_lj_cpu_cpp.naive",
          "natoms": 264,
          "nres": 14,
          "rosetta_relative": 0.6961259922197921,
          "time": 0.00028887204825878143
         },
         {
          "device": "cpu",
          "impl": "naive",
          "model": "BYSIZE_15",
          "name": "score.tmol_lj_cpu_cpp.naive",
          "natoms": 264,
          "nres": 14,
          "rosetta_relative": 0.6979315380126078,
          "time": 0.0002896212972700596
         },
         {
          "device": "cpu",
          "impl": "naive",
          "model": "BYSIZE_15",
          "name": "score.tmol_lj_cpu_cpp.naive",
          "natoms": 264,
          "nres": 14,
          "rosetta_relative": 0.6932319570428674,
          "time": 0.0002876711077988148
         },
         {
          "device": "cpu",
          "impl": "naive",
          "model": "BYSIZE_15",
          "name": "score.tmol_lj_cpu_cpp.naive",
          "natoms": 264,
          "nres": 14,
          "rosetta_relative": 0.6950419914517001,
          "time": 0.00028842221945524216
         },
         {
          "device": "cpu",
          "impl": "naive",
          "model": "BYSIZE_15",
          "name": "score.tmol_lj_cpu_cpp.naive",
          "natoms": 264,
          "nres": 14,
          "rosetta_relative": 0.6937301934207483,
          "time": 0.0002878778614103794
         },
         {
          "device": "cpu",
          "impl": "naive",
          "model": "BYSIZE_15",
          "name": "score.tmol_lj_cpu_cpp.naive",
          "natoms": 264,
          "nres": 14,
          "rosetta_relative": 0.6946032292360438,
          "time": 0.00028824014589190483
         },
         {
          "device": "cpu",
          "impl": "naive",
          "model": "BYSIZE_15",
          "name": "score.tmol_lj_cpu_cpp.naive",
          "natoms": 264,
          "nres": 14,
          "rosetta_relative": 0.6948871341991155,
          "time": 0.0002883579581975937
         },
         {
          "device": "cpu",
          "impl": "naive",
          "model": "BYSIZE_15",
          "name": "score.tmol_lj_cpu_cpp.naive",
          "natoms": 264,
          "nres": 14,
          "rosetta_relative": 0.6957018180061909,
          "time": 0.0002886960282921791
         },
         {
          "device": "cpu",
          "impl": "naive",
          "model": "BYSIZE_15",
          "name": "score.tmol_lj_cpu_cpp.naive",
          "natoms": 264,
          "nres": 14,
          "rosetta_relative": 0.6926192609565546,
          "time": 0.00028741685673594475
         },
         {
          "device": "cpu",
          "impl": "naive",
          "model": "BYSIZE_15",
          "name": "score.tmol_lj_cpu_cpp.naive",
          "natoms": 264,
          "nres": 14,
          "rosetta_relative": 0.6914937404903059,
          "time": 0.0002869497984647751
         },
         {
          "device": "cpu",
          "impl": "naive",
          "model": "BYSIZE_15",
          "name": "score.tmol_lj_cpu_cpp.naive",
          "natoms": 264,
          "nres": 14,
          "rosetta_relative": 0.6917978442254539,
          "time": 0.0002870759926736355
         },
         {
          "device": "cpu",
          "impl": "naive",
          "model": "BYSIZE_15",
          "name": "score.tmol_lj_cpu_cpp.naive",
          "natoms": 264,
          "nres": 14,
          "rosetta_relative": 0.7198550607933665,
          "time": 0.0002987189218401909
         },
         {
          "device": "cpu",
          "impl": "naive",
          "model": "BYSIZE_15",
          "name": "score.tmol_lj_cpu_cpp.naive",
          "natoms": 264,
          "nres": 14,
          "rosetta_relative": 0.7076471473812831,
          "time": 0.00029365299269557
         },
         {
          "device": "cpu",
          "impl": "naive",
          "model": "BYSIZE_15",
          "name": "score.tmol_lj_cpu_cpp.naive",
          "natoms": 264,
          "nres": 14,
          "rosetta_relative": 0.6956221450718901,
          "time": 0.00028866296634078026
         },
         {
          "device": "cpu",
          "impl": "naive",
          "model": "BYSIZE_15",
          "name": "score.tmol_lj_cpu_cpp.naive",
          "natoms": 264,
          "nres": 14,
          "rosetta_relative": 0.6989212778443439,
          "time": 0.000290032010525465
         },
         {
          "device": "cpu",
          "impl": "naive",
          "model": "BYSIZE_15",
          "name": "score.tmol_lj_cpu_cpp.naive",
          "natoms": 264,
          "nres": 14,
          "rosetta_relative": 0.6996057917869279,
          "time": 0.00029031606391072273
         },
         {
          "device": "cpu",
          "impl": "naive",
          "model": "BYSIZE_15",
          "name": "score.tmol_lj_cpu_cpp.naive",
          "natoms": 264,
          "nres": 14,
          "rosetta_relative": 0.6934631207677401,
          "time": 0.00028776703402400017
         },
         {
          "device": "cpu",
          "impl": "naive",
          "model": "BYSIZE_15",
          "name": "score.tmol_lj_cpu_cpp.naive",
          "natoms": 264,
          "nres": 14,
          "rosetta_relative": 0.6924801138600293,
          "time": 0.0002873591147363186
         },
         {
          "device": "cpu",
          "impl": "naive",
          "model": "BYSIZE_15",
          "name": "score.tmol_lj_cpu_cpp.naive",
          "natoms": 264,
          "nres": 14,
          "rosetta_relative": 0.6920694054944789,
          "time": 0.00028718868270516396
         },
         {
          "device": "cpu",
          "impl": "naive",
          "model": "BYSIZE_15",
          "name": "score.tmol_lj_cpu_cpp.naive",
          "natoms": 264,
          "nres": 14,
          "rosetta_relative": 0.6921546891988009,
          "time": 0.00028722407296299934
         },
         {
          "device": "cpu",
          "impl": "naive",
          "model": "BYSIZE_15",
          "name": "score.tmol_lj_cpu_cpp.naive",
          "natoms": 264,
          "nres": 14,
          "rosetta_relative": 0.7526040032529898,
          "time": 0.00031230878084897995
         },
         {
          "device": "cpu",
          "impl": "naive",
          "model": "BYSIZE_15",
          "name": "score.tmol_lj_cpu_cpp.naive",
          "natoms": 264,
          "nres": 14,
          "rosetta_relative": 0.7118956224413205,
          "time": 0.0002954159863293171
         },
         {
          "device": "cpu",
          "impl": "naive",
          "model": "BYSIZE_15",
          "name": "score.tmol_lj_cpu_cpp.naive",
          "natoms": 264,
          "nres": 14,
          "rosetta_relative": 0.6954291345831615,
          "time": 0.0002885828725993633
         },
         {
          "device": "cpu",
          "impl": "naive",
          "model": "BYSIZE_15",
          "name": "score.tmol_lj_cpu_cpp.naive",
          "natoms": 264,
          "nres": 14,
          "rosetta_relative": 0.6948220492668699,
          "time": 0.00028833094984292984
         },
         {
          "device": "cpu",
          "impl": "naive",
          "model": "BYSIZE_15",
          "name": "score.tmol_lj_cpu_cpp.naive",
          "natoms": 264,
          "nres": 14,
          "rosetta_relative": 0.730974484821341,
          "time": 0.0003033331595361233
         },
         {
          "device": "cpu",
          "impl": "naive",
          "model": "BYSIZE_15",
          "name": "score.tmol_lj_cpu_cpp.naive",
          "natoms": 264,
          "nres": 14,
          "rosetta_relative": 0.7095222667223614,
          "time": 0.0002944311127066612
         },
         {
          "device": "cpu",
          "impl": "naive",
          "model": "BYSIZE_15",
          "name": "score.tmol_lj_cpu_cpp.naive",
          "natoms": 264,
          "nres": 14,
          "rosetta_relative": 0.6995474397787076,
          "time": 0.00029029184952378273
         },
         {
          "device": "cpu",
          "impl": "naive",
          "model": "BYSIZE_15",
          "name": "score.tmol_lj_cpu_cpp.naive",
          "natoms": 264,
          "nres": 14,
          "rosetta_relative": 0.6920435959523815,
          "time": 0.0002871779724955559
         },
         {
          "device": "cpu",
          "impl": "naive",
          "model": "BYSIZE_15",
          "name": "score.tmol_lj_cpu_cpp.naive",
          "natoms": 264,
          "nres": 14,
          "rosetta_relative": 0.6926821015807918,
          "time": 0.000287442933768034
         },
         {
          "device": "cpu",
          "impl": "naive",
          "model": "BYSIZE_15",
          "name": "score.tmol_lj_cpu_cpp.naive",
          "natoms": 264,
          "nres": 14,
          "rosetta_relative": 0.6904030067981884,
          "time": 0.00028649717569351196
         },
         {
          "device": "cpu",
          "impl": "naive",
          "model": "BYSIZE_15",
          "name": "score.tmol_lj_cpu_cpp.naive",
          "natoms": 264,
          "nres": 14,
          "rosetta_relative": 0.6947356434085437,
          "time": 0.00028829509392380714
         },
         {
          "device": "cpu",
          "impl": "naive",
          "model": "BYSIZE_15",
          "name": "score.tmol_lj_cpu_cpp.naive",
          "natoms": 264,
          "nres": 14,
          "rosetta_relative": 0.6907519966935058,
          "time": 0.00028664199635386467
         },
         {
          "device": "cpu",
          "impl": "naive",
          "model": "BYSIZE_15",
          "name": "score.tmol_lj_cpu_cpp.naive",
          "natoms": 264,
          "nres": 14,
          "rosetta_relative": 0.692260171675199,
          "time": 0.00028726784512400627
         },
         {
          "device": "cpu",
          "impl": "naive",
          "model": "BYSIZE_15",
          "name": "score.tmol_lj_cpu_cpp.naive",
          "natoms": 264,
          "nres": 14,
          "rosetta_relative": 0.6931186194884396,
          "time": 0.0002876240760087967
         },
         {
          "device": "cpu",
          "impl": "naive",
          "model": "BYSIZE_15",
          "name": "score.tmol_lj_cpu_cpp.naive",
          "natoms": 264,
          "nres": 14,
          "rosetta_relative": 0.6921535670447966,
          "time": 0.00028722360730171204
         },
         {
          "device": "cpu",
          "impl": "naive",
          "model": "BYSIZE_15",
          "name": "score.tmol_lj_cpu_cpp.naive",
          "natoms": 264,
          "nres": 14,
          "rosetta_relative": 0.6952271468623991,
          "time": 0.00028849905356764793
         },
         {
          "device": "cpu",
          "impl": "naive",
          "model": "BYSIZE_15",
          "name": "score.tmol_lj_cpu_cpp.naive",
          "natoms": 264,
          "nres": 14,
          "rosetta_relative": 0.6960126546653642,
          "time": 0.00028882501646876335
         },
         {
          "device": "cpu",
          "impl": "naive",
          "model": "BYSIZE_15",
          "name": "score.tmol_lj_cpu_cpp.naive",
          "natoms": 264,
          "nres": 14,
          "rosetta_relative": 0.6931152530264268,
          "time": 0.00028762267902493477
         },
         {
          "device": "cpu",
          "impl": "naive",
          "model": "BYSIZE_15",
          "name": "score.tmol_lj_cpu_cpp.naive",
          "natoms": 264,
          "nres": 14,
          "rosetta_relative": 0.7151947552137744,
          "time": 0.00029678503051400185
         },
         {
          "device": "cpu",
          "impl": "naive",
          "model": "BYSIZE_15",
          "name": "score.tmol_lj_cpu_cpp.naive",
          "natoms": 264,
          "nres": 14,
          "rosetta_relative": 0.7005966537726682,
          "time": 0.00029072724282741547
         },
         {
          "device": "cpu",
          "impl": "naive",
          "model": "BYSIZE_15",
          "name": "score.tmol_lj_cpu_cpp.naive",
          "natoms": 264,
          "nres": 14,
          "rosetta_relative": 0.690576940668845,
          "time": 0.00028656935319304466
         },
         {
          "device": "cpu",
          "impl": "naive",
          "model": "BYSIZE_15",
          "name": "score.tmol_lj_cpu_cpp.naive",
          "natoms": 264,
          "nres": 14,
          "rosetta_relative": 0.6920806270345213,
          "time": 0.00028719333931803703
         },
         {
          "device": "cpu",
          "impl": "naive",
          "model": "BYSIZE_15",
          "name": "score.tmol_lj_cpu_cpp.naive",
          "natoms": 264,
          "nres": 14,
          "rosetta_relative": 0.698022432486951,
          "time": 0.0002896590158343315
         },
         {
          "device": "cpu",
          "impl": "naive",
          "model": "BYSIZE_15",
          "name": "score.tmol_lj_cpu_cpp.naive",
          "natoms": 264,
          "nres": 14,
          "rosetta_relative": 0.695008326831573,
          "time": 0.0002884082496166229
         },
         {
          "device": "cpu",
          "impl": "naive",
          "model": "BYSIZE_15",
          "name": "score.tmol_lj_cpu_cpp.naive",
          "natoms": 264,
          "nres": 14,
          "rosetta_relative": 0.7001141275508468,
          "time": 0.00029052700847387314
         },
         {
          "device": "cpu",
          "impl": "naive",
          "model": "BYSIZE_15",
          "name": "score.tmol_lj_cpu_cpp.naive",
          "natoms": 264,
          "nres": 14,
          "rosetta_relative": 0.693129841028482,
          "time": 0.00028762873262166977
         },
         {
          "device": "cpu",
          "impl": "naive",
          "model": "BYSIZE_15",
          "name": "score.tmol_lj_cpu_cpp.naive",
          "natoms": 264,
          "nres": 14,
          "rosetta_relative": 0.6982535962118235,
          "time": 0.0002897549420595169
         },
         {
          "device": "cpu",
          "impl": "naive",
          "model": "BYSIZE_15",
          "name": "score.tmol_lj_cpu_cpp.naive",
          "natoms": 264,
          "nres": 14,
          "rosetta_relative": 0.6965400670473552,
          "time": 0.000289043877273798
         },
         {
          "device": "cpu",
          "impl": "naive",
          "model": "BYSIZE_15",
          "name": "score.tmol_lj_cpu_cpp.naive",
          "natoms": 264,
          "nres": 14,
          "rosetta_relative": 0.6999379493721818,
          "time": 0.0002904538996517658
         },
         {
          "device": "cpu",
          "impl": "naive",
          "model": "BYSIZE_15",
          "name": "score.tmol_lj_cpu_cpp.naive",
          "natoms": 264,
          "nres": 14,
          "rosetta_relative": 0.6948725461970604,
          "time": 0.0002883519046008587
         },
         {
          "device": "cpu",
          "impl": "naive",
          "model": "BYSIZE_15",
          "name": "score.tmol_lj_cpu_cpp.naive",
          "natoms": 264,
          "nres": 14,
          "rosetta_relative": 0.6971594960576935,
          "time": 0.00028930092230439186
         },
         {
          "device": "cpu",
          "impl": "naive",
          "model": "BYSIZE_15",
          "name": "score.tmol_lj_cpu_cpp.naive",
          "natoms": 264,
          "nres": 14,
          "rosetta_relative": 0.6981447472734126,
          "time": 0.00028970977291464806
         },
         {
          "device": "cpu",
          "impl": "naive",
          "model": "BYSIZE_15",
          "name": "score.tmol_lj_cpu_cpp.naive",
          "natoms": 264,
          "nres": 14,
          "rosetta_relative": 0.7260650610528084,
          "time": 0.0003012958914041519
         },
         {
          "device": "cpu",
          "impl": "naive",
          "model": "BYSIZE_15",
          "name": "score.tmol_lj_cpu_cpp.naive",
          "natoms": 264,
          "nres": 14,
          "rosetta_relative": 0.7024829946537889,
          "time": 0.0002915100194513798
         },
         {
          "device": "cpu",
          "impl": "naive",
          "model": "BYSIZE_15",
          "name": "score.tmol_lj_cpu_cpp.naive",
          "natoms": 264,
          "nres": 14,
          "rosetta_relative": 0.6944730593715525,
          "time": 0.00028818612918257713
         },
         {
          "device": "cpu",
          "impl": "naive",
          "model": "BYSIZE_15",
          "name": "score.tmol_lj_cpu_cpp.naive",
          "natoms": 264,
          "nres": 14,
          "rosetta_relative": 0.6916070780447338,
          "time": 0.00028699683025479317
         },
         {
          "device": "cpu",
          "impl": "naive",
          "model": "BYSIZE_15",
          "name": "score.tmol_lj_cpu_cpp.naive",
          "natoms": 264,
          "nres": 14,
          "rosetta_relative": 0.6928672569914908,
          "time": 0.00028751976788043976
         },
         {
          "device": "cpu",
          "impl": "naive",
          "model": "BYSIZE_15",
          "name": "score.tmol_lj_cpu_cpp.naive",
          "natoms": 264,
          "nres": 14,
          "rosetta_relative": 0.6943642104331416,
          "time": 0.0002881409600377083
         },
         {
          "device": "cpu",
          "impl": "naive",
          "model": "BYSIZE_15",
          "name": "score.tmol_lj_cpu_cpp.naive",
          "natoms": 264,
          "nres": 14,
          "rosetta_relative": 0.6968127504703845,
          "time": 0.00028915703296661377
         },
         {
          "device": "cpu",
          "impl": "naive",
          "model": "BYSIZE_15",
          "name": "score.tmol_lj_cpu_cpp.naive",
          "natoms": 264,
          "nres": 14,
          "rosetta_relative": 0.6950734117638186,
          "time": 0.0002884352579712868
         },
         {
          "device": "cpu",
          "impl": "naive",
          "model": "BYSIZE_15",
          "name": "score.tmol_lj_cpu_cpp.naive",
          "natoms": 264,
          "nres": 14,
          "rosetta_relative": 0.6944786701415736,
          "time": 0.00028818845748901367
         },
         {
          "device": "cpu",
          "impl": "naive",
          "model": "BYSIZE_15",
          "name": "score.tmol_lj_cpu_cpp.naive",
          "natoms": 264,
          "nres": 14,
          "rosetta_relative": 0.6905084892745866,
          "time": 0.0002865409478545189
         },
         {
          "device": "cpu",
          "impl": "naive",
          "model": "BYSIZE_15",
          "name": "score.tmol_lj_cpu_cpp.naive",
          "natoms": 264,
          "nres": 14,
          "rosetta_relative": 0.6927999277512366,
          "time": 0.0002874918282032013
         },
         {
          "device": "cpu",
          "impl": "naive",
          "model": "BYSIZE_15",
          "name": "score.tmol_lj_cpu_cpp.naive",
          "natoms": 264,
          "nres": 14,
          "rosetta_relative": 0.6944360282894126,
          "time": 0.000288170762360096
         },
         {
          "device": "cpu",
          "impl": "naive",
          "model": "BYSIZE_15",
          "name": "score.tmol_lj_cpu_cpp.naive",
          "natoms": 264,
          "nres": 14,
          "rosetta_relative": 0.6974927757969515,
          "time": 0.00028943922370672226
         },
         {
          "device": "cpu",
          "impl": "naive",
          "model": "BYSIZE_15",
          "name": "score.tmol_lj_cpu_cpp.naive",
          "natoms": 264,
          "nres": 14,
          "rosetta_relative": 0.7302989481107909,
          "time": 0.000303052831441164
         },
         {
          "device": "cpu",
          "impl": "naive",
          "model": "BYSIZE_15",
          "name": "score.tmol_lj_cpu_cpp.naive",
          "natoms": 264,
          "nres": 14,
          "rosetta_relative": 0.7121346412442228,
          "time": 0.00029551517218351364
         },
         {
          "device": "cpu",
          "impl": "naive",
          "model": "BYSIZE_15",
          "name": "score.tmol_lj_cpu_cpp.naive",
          "natoms": 264,
          "nres": 14,
          "rosetta_relative": 0.6995597834727542,
          "time": 0.0002902969717979431
         },
         {
          "device": "cpu",
          "impl": "naive",
          "model": "BYSIZE_15",
          "name": "score.tmol_lj_cpu_cpp.naive",
          "natoms": 264,
          "nres": 14,
          "rosetta_relative": 0.7571588263561837,
          "time": 0.00031419890001416206
         },
         {
          "device": "cpu",
          "impl": "naive",
          "model": "BYSIZE_15",
          "name": "score.tmol_lj_cpu_cpp.naive",
          "natoms": 264,
          "nres": 14,
          "rosetta_relative": 0.7399573276252501,
          "time": 0.00030706077814102173
         },
         {
          "device": "cpu",
          "impl": "naive",
          "model": "BYSIZE_15",
          "name": "score.tmol_lj_cpu_cpp.naive",
          "natoms": 264,
          "nres": 14,
          "rosetta_relative": 0.6935955349402398,
          "time": 0.0002878219820559025
         },
         {
          "device": "cpu",
          "impl": "naive",
          "model": "BYSIZE_15",
          "name": "score.tmol_lj_cpu_cpp.naive",
          "natoms": 264,
          "nres": 14,
          "rosetta_relative": 0.6950431136057044,
          "time": 0.00028842268511652946
         },
         {
          "device": "cpu",
          "impl": "naive",
          "model": "BYSIZE_15",
          "name": "score.tmol_lj_cpu_cpp.naive",
          "natoms": 264,
          "nres": 14,
          "rosetta_relative": 0.6943832870512135,
          "time": 0.0002881488762795925
         },
         {
          "device": "cpu",
          "impl": "naive",
          "model": "BYSIZE_15",
          "name": "score.tmol_lj_cpu_cpp.naive",
          "natoms": 264,
          "nres": 14,
          "rosetta_relative": 0.6945190676857261,
          "time": 0.00028820522129535675
         },
         {
          "device": "cpu",
          "impl": "naive",
          "model": "BYSIZE_15",
          "name": "score.tmol_lj_cpu_cpp.naive",
          "natoms": 264,
          "nres": 14,
          "rosetta_relative": 0.6897106377775749,
          "time": 0.0002862098626792431
         },
         {
          "device": "cpu",
          "impl": "naive",
          "model": "BYSIZE_15",
          "name": "score.tmol_lj_cpu_cpp.naive",
          "natoms": 264,
          "nres": 14,
          "rosetta_relative": 0.6949207988192426,
          "time": 0.0002883719280362129
         },
         {
          "device": "cpu",
          "impl": "naive",
          "model": "BYSIZE_15",
          "name": "score.tmol_lj_cpu_cpp.naive",
          "natoms": 264,
          "nres": 14,
          "rosetta_relative": 0.6933957915274859,
          "time": 0.0002877390943467617
         },
         {
          "device": "cpu",
          "impl": "naive",
          "model": "BYSIZE_15",
          "name": "score.tmol_lj_cpu_cpp.naive",
          "natoms": 264,
          "nres": 14,
          "rosetta_relative": 0.6902919135517691,
          "time": 0.0002864510752260685
         },
         {
          "device": "cpu",
          "impl": "naive",
          "model": "BYSIZE_15",
          "name": "score.tmol_lj_cpu_cpp.naive",
          "natoms": 264,
          "nres": 14,
          "rosetta_relative": 0.6922747596772542,
          "time": 0.00028727389872074127
         },
         {
          "device": "cpu",
          "impl": "naive",
          "model": "BYSIZE_15",
          "name": "score.tmol_lj_cpu_cpp.naive",
          "natoms": 264,
          "nres": 14,
          "rosetta_relative": 0.7075562529069399,
          "time": 0.00029361527413129807
         },
         {
          "device": "cpu",
          "impl": "naive",
          "model": "BYSIZE_15",
          "name": "score.tmol_lj_cpu_cpp.naive",
          "natoms": 264,
          "nres": 14,
          "rosetta_relative": 0.7043626026108842,
          "time": 0.00029229000210762024
         },
         {
          "device": "cpu",
          "impl": "naive",
          "model": "BYSIZE_15",
          "name": "score.tmol_lj_cpu_cpp.naive",
          "natoms": 264,
          "nres": 14,
          "rosetta_relative": 0.6942441399546883,
          "time": 0.00028809113427996635
         },
         {
          "device": "cpu",
          "impl": "naive",
          "model": "BYSIZE_15",
          "name": "score.tmol_lj_cpu_cpp.naive",
          "natoms": 264,
          "nres": 14,
          "rosetta_relative": 0.6954369896611912,
          "time": 0.0002885861322283745
         },
         {
          "device": "cpu",
          "impl": "naive",
          "model": "BYSIZE_15",
          "name": "score.tmol_lj_cpu_cpp.naive",
          "natoms": 264,
          "nres": 14,
          "rosetta_relative": 0.6976442665875233,
          "time": 0.0002895020879805088
         },
         {
          "device": "cpu",
          "impl": "naive",
          "model": "BYSIZE_15",
          "name": "score.tmol_lj_cpu_cpp.naive",
          "natoms": 264,
          "nres": 14,
          "rosetta_relative": 0.6971594960576935,
          "time": 0.00028930092230439186
         },
         {
          "device": "cpu",
          "impl": "naive",
          "model": "BYSIZE_15",
          "name": "score.tmol_lj_cpu_cpp.naive",
          "natoms": 264,
          "nres": 14,
          "rosetta_relative": 0.6945617095378871,
          "time": 0.00028822291642427444
         },
         {
          "device": "cpu",
          "impl": "naive",
          "model": "BYSIZE_15",
          "name": "score.tmol_lj_cpu_cpp.naive",
          "natoms": 264,
          "nres": 14,
          "rosetta_relative": 0.6943686990491585,
          "time": 0.0002881428226828575
         },
         {
          "device": "cpu",
          "impl": "naive",
          "model": "BYSIZE_15",
          "name": "score.tmol_lj_cpu_cpp.naive",
          "natoms": 264,
          "nres": 14,
          "rosetta_relative": 0.6900506504408583,
          "time": 0.00028635095804929733
         },
         {
          "device": "cpu",
          "impl": "naive",
          "model": "BYSIZE_15",
          "name": "score.tmol_lj_cpu_cpp.naive",
          "natoms": 264,
          "nres": 14,
          "rosetta_relative": 0.6894603974346303,
          "time": 0.00028610602021217346
         },
         {
          "device": "cpu",
          "impl": "naive",
          "model": "BYSIZE_15",
          "name": "score.tmol_lj_cpu_cpp.naive",
          "natoms": 264,
          "nres": 14,
          "rosetta_relative": 0.7473444674351356,
          "time": 0.0003101262263953686
         },
         {
          "device": "cpu",
          "impl": "naive",
          "model": "BYSIZE_15",
          "name": "score.tmol_lj_cpu_cpp.naive",
          "natoms": 264,
          "nres": 14,
          "rosetta_relative": 0.7141365639877798,
          "time": 0.00029634591192007065
         },
         {
          "device": "cpu",
          "impl": "naive",
          "model": "BYSIZE_15",
          "name": "score.tmol_lj_cpu_cpp.naive",
          "natoms": 264,
          "nres": 14,
          "rosetta_relative": 0.7010253166022864,
          "time": 0.000290905125439167
         },
         {
          "device": "cpu",
          "impl": "naive",
          "model": "BYSIZE_15",
          "name": "score.tmol_lj_cpu_cpp.naive",
          "natoms": 264,
          "nres": 14,
          "rosetta_relative": 0.7648511920552215,
          "time": 0.0003173910081386566
         },
         {
          "device": "cpu",
          "impl": "naive",
          "model": "BYSIZE_15",
          "name": "score.tmol_lj_cpu_cpp.naive",
          "natoms": 264,
          "nres": 14,
          "rosetta_relative": 0.7482960540307277,
          "time": 0.00031052110716700554
         },
         {
          "device": "cpu",
          "impl": "naive",
          "model": "BYSIZE_15",
          "name": "score.tmol_lj_cpu_cpp.naive",
          "natoms": 264,
          "nres": 14,
          "rosetta_relative": 0.7466330217964501,
          "time": 0.00030983099713921547
         },
         {
          "device": "cpu",
          "impl": "naive",
          "model": "BYSIZE_15",
          "name": "score.tmol_lj_cpu_cpp.naive",
          "natoms": 264,
          "nres": 14,
          "rosetta_relative": 0.7392032401344035,
          "time": 0.00030674785375595093
         },
         {
          "device": "cpu",
          "impl": "naive",
          "model": "BYSIZE_15",
          "name": "score.tmol_lj_cpu_cpp.naive",
          "natoms": 264,
          "nres": 14,
          "rosetta_relative": 0.7619930658064323,
          "time": 0.0003162049688398838
         },
         {
          "device": "cpu",
          "impl": "naive",
          "model": "BYSIZE_15",
          "name": "score.tmol_lj_cpu_cpp.naive",
          "natoms": 264,
          "nres": 14,
          "rosetta_relative": 0.6934025244515113,
          "time": 0.00028774188831448555
         },
         {
          "device": "cpu",
          "impl": "naive",
          "model": "BYSIZE_15",
          "name": "score.tmol_lj_cpu_cpp.naive",
          "natoms": 264,
          "nres": 14,
          "rosetta_relative": 0.7018265345613109,
          "time": 0.00029123760759830475
         },
         {
          "device": "cpu",
          "impl": "naive",
          "model": "BYSIZE_15",
          "name": "score.tmol_lj_cpu_cpp.naive",
          "natoms": 264,
          "nres": 14,
          "rosetta_relative": 0.6999065290600631,
          "time": 0.0002904408611357212
         },
         {
          "device": "cpu",
          "impl": "naive",
          "model": "BYSIZE_15",
          "name": "score.tmol_lj_cpu_cpp.naive",
          "natoms": 264,
          "nres": 14,
          "rosetta_relative": 0.7004182312859948,
          "time": 0.00029065320268273354
         },
         {
          "device": "cpu",
          "impl": "naive",
          "model": "BYSIZE_15",
          "name": "score.tmol_lj_cpu_cpp.naive",
          "natoms": 264,
          "nres": 14,
          "rosetta_relative": 0.6961574125319107,
          "time": 0.00028888508677482605
         },
         {
          "device": "cpu",
          "impl": "naive",
          "model": "BYSIZE_15",
          "name": "score.tmol_lj_cpu_cpp.naive",
          "natoms": 264,
          "nres": 14,
          "rosetta_relative": 0.6916070780447338,
          "time": 0.00028699683025479317
         },
         {
          "device": "cpu",
          "impl": "naive",
          "model": "BYSIZE_15",
          "name": "score.tmol_lj_cpu_cpp.naive",
          "natoms": 264,
          "nres": 14,
          "rosetta_relative": 0.69394789129757,
          "time": 0.0002879681997001171
         },
         {
          "device": "cpu",
          "impl": "naive",
          "model": "BYSIZE_15",
          "name": "score.tmol_lj_cpu_cpp.naive",
          "natoms": 264,
          "nres": 14,
          "rosetta_relative": 0.6947547200266156,
          "time": 0.0002883030101656914
         },
         {
          "device": "cpu",
          "impl": "naive",
          "model": "BYSIZE_15",
          "name": "score.tmol_lj_cpu_cpp.naive",
          "natoms": 264,
          "nres": 14,
          "rosetta_relative": 0.6928335923713637,
          "time": 0.0002875057980418205
         },
         {
          "device": "cpu",
          "impl": "naive",
          "model": "BYSIZE_15",
          "name": "score.tmol_lj_cpu_cpp.naive",
          "natoms": 264,
          "nres": 14,
          "rosetta_relative": 0.7454794474800954,
          "time": 0.0003093522973358631
         },
         {
          "device": "cpu",
          "impl": "naive",
          "model": "BYSIZE_15",
          "name": "score.tmol_lj_cpu_cpp.naive",
          "natoms": 264,
          "nres": 14,
          "rosetta_relative": 0.6995912037848728,
          "time": 0.00029031001031398773
         },
         {
          "device": "cpu",
          "impl": "naive",
          "model": "BYSIZE_15",
          "name": "score.tmol_lj_cpu_cpp.naive",
          "natoms": 264,
          "nres": 14,
          "rosetta_relative": 0.6928997994576136,
          "time": 0.0002875332720577717
         },
         {
          "device": "cpu",
          "impl": "naive",
          "model": "BYSIZE_15",
          "name": "score.tmol_lj_cpu_cpp.naive",
          "natoms": 264,
          "nres": 14,
          "rosetta_relative": 0.697951736784684,
          "time": 0.0002896296791732311
         },
         {
          "device": "cpu",
          "impl": "naive",
          "model": "BYSIZE_15",
          "name": "score.tmol_lj_cpu_cpp.naive",
          "natoms": 264,
          "nres": 14,
          "rosetta_relative": 0.7149130945587111,
          "time": 0.0002966681495308876
         },
         {
          "device": "cpu",
          "impl": "naive",
          "model": "BYSIZE_15",
          "name": "score.tmol_lj_cpu_cpp.naive",
          "natoms": 264,
          "nres": 14,
          "rosetta_relative": 0.7033167550789363,
          "time": 0.0002918560057878494
         },
         {
          "device": "cpu",
          "impl": "naive",
          "model": "BYSIZE_15",
          "name": "score.tmol_lj_cpu_cpp.naive",
          "natoms": 264,
          "nres": 14,
          "rosetta_relative": 0.69858912025909,
          "time": 0.0002898941747844219
         },
         {
          "device": "cpu",
          "impl": "naive",
          "model": "BYSIZE_15",
          "name": "score.tmol_lj_cpu_cpp.naive",
          "natoms": 264,
          "nres": 14,
          "rosetta_relative": 0.6949499748233527,
          "time": 0.0002883840352296829
         },
         {
          "device": "cpu",
          "impl": "naive",
          "model": "BYSIZE_15",
          "name": "score.tmol_lj_cpu_cpp.naive",
          "natoms": 264,
          "nres": 14,
          "rosetta_relative": 0.692597940030474,
          "time": 0.0002874080091714859
         },
         {
          "device": "cpu",
          "impl": "naive",
          "model": "BYSIZE_15",
          "name": "score.tmol_lj_cpu_cpp.naive",
          "natoms": 264,
          "nres": 14,
          "rosetta_relative": 0.7040887970338507,
          "time": 0.00029217638075351715
         },
         {
          "device": "cpu",
          "impl": "naive",
          "model": "BYSIZE_15",
          "name": "score.tmol_lj_cpu_cpp.naive",
          "natoms": 264,
          "nres": 14,
          "rosetta_relative": 0.7003789558958465,
          "time": 0.00029063690453767776
         },
         {
          "device": "cpu",
          "impl": "naive",
          "model": "BYSIZE_15",
          "name": "score.tmol_lj_cpu_cpp.naive",
          "natoms": 264,
          "nres": 14,
          "rosetta_relative": 0.6974086142466338,
          "time": 0.0002894042991101742
         },
         {
          "device": "cpu",
          "impl": "naive",
          "model": "BYSIZE_15",
          "name": "score.tmol_lj_cpu_cpp.naive",
          "natoms": 264,
          "nres": 14,
          "rosetta_relative": 0.6966096405956178,
          "time": 0.00028907274827361107
         },
         {
          "device": "cpu",
          "impl": "naive",
          "model": "BYSIZE_15",
          "name": "score.tmol_lj_cpu_cpp.naive",
          "natoms": 264,
          "nres": 14,
          "rosetta_relative": 0.7203353427071795,
          "time": 0.0002989182248711586
         },
         {
          "device": "cpu",
          "impl": "naive",
          "model": "BYSIZE_15",
          "name": "score.tmol_lj_cpu_cpp.naive",
          "natoms": 264,
          "nres": 14,
          "rosetta_relative": 0.7061883471757763,
          "time": 0.00029304763302206993
         },
         {
          "device": "cpu",
          "impl": "naive",
          "model": "BYSIZE_15",
          "name": "score.tmol_lj_cpu_cpp.naive",
          "natoms": 264,
          "nres": 14,
          "rosetta_relative": 0.7006123639287276,
          "time": 0.0002907337620854378
         },
         {
          "device": "cpu",
          "impl": "naive",
          "model": "BYSIZE_15",
          "name": "score.tmol_lj_cpu_cpp.naive",
          "natoms": 264,
          "nres": 14,
          "rosetta_relative": 0.6999525373742368,
          "time": 0.0002904599532485008
         },
         {
          "device": "cpu",
          "impl": "naive",
          "model": "BYSIZE_15",
          "name": "score.tmol_lj_cpu_cpp.naive",
          "natoms": 264,
          "nres": 14,
          "rosetta_relative": 0.6983018488340057,
          "time": 0.00028977496549487114
         },
         {
          "device": "cpu",
          "impl": "naive",
          "model": "BYSIZE_15",
          "name": "score.tmol_lj_cpu_cpp.naive",
          "natoms": 264,
          "nres": 14,
          "rosetta_relative": 0.6921524448907924,
          "time": 0.00028722314164042473
         },
         {
          "device": "cpu",
          "impl": "naive",
          "model": "BYSIZE_15",
          "name": "score.tmol_lj_cpu_cpp.naive",
          "natoms": 264,
          "nres": 14,
          "rosetta_relative": 0.6973547508544304,
          "time": 0.0002893819473683834
         },
         {
          "device": "cpu",
          "impl": "naive",
          "model": "BYSIZE_15",
          "name": "score.tmol_lj_cpu_cpp.naive",
          "natoms": 264,
          "nres": 14,
          "rosetta_relative": 0.6973424071603839,
          "time": 0.000289376825094223
         },
         {
          "device": "cpu",
          "impl": "naive",
          "model": "BYSIZE_15",
          "name": "score.tmol_lj_cpu_cpp.naive",
          "natoms": 264,
          "nres": 14,
          "rosetta_relative": 0.6951598176221448,
          "time": 0.00028847111389040947
         },
         {
          "device": "cpu",
          "impl": "naive",
          "model": "BYSIZE_15",
          "name": "score.tmol_lj_cpu_cpp.naive",
          "natoms": 264,
          "nres": 14,
          "rosetta_relative": 0.6966994129159566,
          "time": 0.0002891100011765957
         },
         {
          "device": "cpu",
          "impl": "naive",
          "model": "BYSIZE_15",
          "name": "score.tmol_lj_cpu_cpp.naive",
          "natoms": 264,
          "nres": 14,
          "rosetta_relative": 0.6944539827534805,
          "time": 0.0002881782129406929
         },
         {
          "device": "cpu",
          "impl": "naive",
          "model": "BYSIZE_15",
          "name": "score.tmol_lj_cpu_cpp.naive",
          "natoms": 264,
          "nres": 14,
          "rosetta_relative": 0.695588480451763,
          "time": 0.000288648996502161
         },
         {
          "device": "cpu",
          "impl": "naive",
          "model": "BYSIZE_15",
          "name": "score.tmol_lj_cpu_cpp.naive",
          "natoms": 264,
          "nres": 14,
          "rosetta_relative": 0.6915924900426786,
          "time": 0.00028699077665805817
         },
         {
          "device": "cpu",
          "impl": "naive",
          "model": "BYSIZE_15",
          "name": "score.tmol_lj_cpu_cpp.naive",
          "natoms": 264,
          "nres": 14,
          "rosetta_relative": 0.6971449080556383,
          "time": 0.00028929486870765686
         },
         {
          "device": "cpu",
          "impl": "naive",
          "model": "BYSIZE_15",
          "name": "score.tmol_lj_cpu_cpp.naive",
          "natoms": 264,
          "nres": 14,
          "rosetta_relative": 0.7142835661623347,
          "time": 0.00029640691354870796
         },
         {
          "device": "cpu",
          "impl": "naive",
          "model": "BYSIZE_15",
          "name": "score.tmol_lj_cpu_cpp.naive",
          "natoms": 264,
          "nres": 14,
          "rosetta_relative": 0.7030182621138096,
          "time": 0.00029173213988542557
         },
         {
          "device": "cpu",
          "impl": "naive",
          "model": "BYSIZE_15",
          "name": "score.tmol_lj_cpu_cpp.naive",
          "natoms": 264,
          "nres": 14,
          "rosetta_relative": 0.6921849873569152,
          "time": 0.00028723664581775665
         },
         {
          "device": "cpu",
          "impl": "naive",
          "model": "BYSIZE_15",
          "name": "score.tmol_lj_cpu_cpp.naive",
          "natoms": 264,
          "nres": 14,
          "rosetta_relative": 0.6914151897100094,
          "time": 0.00028691720217466354
         },
         {
          "device": "cpu",
          "impl": "naive",
          "model": "BYSIZE_15",
          "name": "score.tmol_lj_cpu_cpp.naive",
          "natoms": 264,
          "nres": 14,
          "rosetta_relative": 0.6928324702173594,
          "time": 0.0002875053323805332
         },
         {
          "device": "cpu",
          "impl": "naive",
          "model": "BYSIZE_15",
          "name": "score.tmol_lj_cpu_cpp.naive",
          "natoms": 264,
          "nres": 14,
          "rosetta_relative": 0.6976341672014852,
          "time": 0.00028949789702892303
         },
         {
          "device": "cpu",
          "impl": "naive",
          "model": "BYSIZE_15",
          "name": "score.tmol_lj_cpu_cpp.naive",
          "natoms": 264,
          "nres": 14,
          "rosetta_relative": 0.6937088724946677,
          "time": 0.00028786901384592056
         },
         {
          "device": "cpu",
          "impl": "naive",
          "model": "BYSIZE_15",
          "name": "score.tmol_lj_cpu_cpp.naive",
          "natoms": 264,
          "nres": 14,
          "rosetta_relative": 0.6949746622114459,
          "time": 0.0002883942797780037
         },
         {
          "device": "cpu",
          "impl": "naive",
          "model": "BYSIZE_15",
          "name": "score.tmol_lj_cpu_cpp.naive",
          "natoms": 264,
          "nres": 14,
          "rosetta_relative": 0.6937930340449854,
          "time": 0.00028790393844246864
         },
         {
          "device": "cpu",
          "impl": "naive",
          "model": "BYSIZE_15",
          "name": "score.tmol_lj_cpu_cpp.naive",
          "natoms": 264,
          "nres": 14,
          "rosetta_relative": 0.6957837352485001,
          "time": 0.00028873002156615257
         },
         {
          "device": "cpu",
          "impl": "naive",
          "model": "BYSIZE_15",
          "name": "score.tmol_lj_cpu_cpp.naive",
          "natoms": 264,
          "nres": 14,
          "rosetta_relative": 0.7034300926333642,
          "time": 0.0002919030375778675
         },
         {
          "device": "cpu",
          "impl": "naive",
          "model": "BYSIZE_15",
          "name": "score.tmol_lj_cpu_cpp.naive",
          "natoms": 264,
          "nres": 14,
          "rosetta_relative": 0.7016122031465019,
          "time": 0.00029114866629242897
         },
         {
          "device": "cpu",
          "impl": "naive",
          "model": "BYSIZE_15",
          "name": "score.tmol_lj_cpu_cpp.naive",
          "natoms": 264,
          "nres": 14,
          "rosetta_relative": 0.6995552948567373,
          "time": 0.0002902951091527939
         },
         {
          "device": "cpu",
          "impl": "naive",
          "model": "BYSIZE_15",
          "name": "score.tmol_lj_cpu_cpp.naive",
          "natoms": 264,
          "nres": 14,
          "rosetta_relative": 0.7313425513347304,
          "time": 0.0003034858964383602
         },
         {
          "device": "cpu",
          "impl": "naive",
          "model": "BYSIZE_15",
          "name": "score.tmol_lj_cpu_cpp.naive",
          "natoms": 264,
          "nres": 14,
          "rosetta_relative": 0.710499662860051,
          "time": 0.00029483670368790627
         },
         {
          "device": "cpu",
          "impl": "naive",
          "model": "BYSIZE_15",
          "name": "score.tmol_lj_cpu_cpp.naive",
          "natoms": 264,
          "nres": 14,
          "rosetta_relative": 0.6998515435138556,
          "time": 0.00029041804373264313
         },
         {
          "device": "cpu",
          "impl": "naive",
          "model": "BYSIZE_15",
          "name": "score.tmol_lj_cpu_cpp.naive",
          "natoms": 264,
          "nres": 14,
          "rosetta_relative": 0.6985386233288995,
          "time": 0.00028987322002649307
         },
         {
          "device": "cpu",
          "impl": "naive",
          "model": "BYSIZE_15",
          "name": "score.tmol_lj_cpu_cpp.naive",
          "natoms": 264,
          "nres": 14,
          "rosetta_relative": 0.694251995032718,
          "time": 0.0002880943939089775
         },
         {
          "device": "cpu",
          "impl": "naive",
          "model": "BYSIZE_15",
          "name": "score.tmol_lj_cpu_cpp.naive",
          "natoms": 264,
          "nres": 14,
          "rosetta_relative": 0.6963313464025672,
          "time": 0.00028895726427435875
         },
         {
          "device": "cpu",
          "impl": "naive",
          "model": "BYSIZE_15",
          "name": "score.tmol_lj_cpu_cpp.naive",
          "natoms": 264,
          "nres": 14,
          "rosetta_relative": 0.6980774180331585,
          "time": 0.0002896818332374096
         },
         {
          "device": "cpu",
          "impl": "naive",
          "model": "BYSIZE_15",
          "name": "score.tmol_lj_cpu_cpp.naive",
          "natoms": 264,
          "nres": 14,
          "rosetta_relative": 0.6966747255278635,
          "time": 0.0002890997566282749
         },
         {
          "device": "cpu",
          "impl": "naive",
          "model": "BYSIZE_15",
          "name": "score.tmol_lj_cpu_cpp.naive",
          "natoms": 264,
          "nres": 14,
          "rosetta_relative": 0.6936853072605788,
          "time": 0.0002878592349588871
         },
         {
          "device": "cpu",
          "impl": "naive",
          "model": "BYSIZE_15",
          "name": "score.tmol_lj_cpu_cpp.naive",
          "natoms": 264,
          "nres": 14,
          "rosetta_relative": 0.6956602983080341,
          "time": 0.0002886787988245487
         },
         {
          "device": "cpu",
          "impl": "naive",
          "model": "BYSIZE_15",
          "name": "score.tmol_lj_cpu_cpp.naive",
          "natoms": 264,
          "nres": 14,
          "rosetta_relative": 0.7499703078050479,
          "time": 0.0003112158738076687
         },
         {
          "device": "cpu",
          "impl": "naive",
          "model": "BYSIZE_15",
          "name": "score.tmol_lj_cpu_cpp.naive",
          "natoms": 264,
          "nres": 14,
          "rosetta_relative": 0.7118686907452189,
          "time": 0.0002954048104584217
         },
         {
          "device": "cpu",
          "impl": "naive",
          "model": "BYSIZE_15",
          "name": "score.tmol_lj_cpu_cpp.naive",
          "natoms": 264,
          "nres": 14,
          "rosetta_relative": 0.6990290046287506,
          "time": 0.00029007671400904655
         },
         {
          "device": "cpu",
          "impl": "naive",
          "model": "BYSIZE_15",
          "name": "score.tmol_lj_cpu_cpp.naive",
          "natoms": 264,
          "nres": 14,
          "rosetta_relative": 0.6958566752587754,
          "time": 0.0002887602895498276
         },
         {
          "device": "cpu",
          "impl": "naive",
          "model": "BYSIZE_15",
          "name": "score.tmol_lj_cpu_cpp.naive",
          "natoms": 264,
          "nres": 14,
          "rosetta_relative": 0.7793797199480649,
          "time": 0.0003234199248254299
         },
         {
          "device": "cpu",
          "impl": "naive",
          "model": "BYSIZE_15",
          "name": "score.tmol_lj_cpu_cpp.naive",
          "natoms": 264,
          "nres": 14,
          "rosetta_relative": 0.7469898667697971,
          "time": 0.00030997907742857933
         },
         {
          "device": "cpu",
          "impl": "naive",
          "model": "BYSIZE_15",
          "name": "score.tmol_lj_cpu_cpp.naive",
          "natoms": 264,
          "nres": 14,
          "rosetta_relative": 0.7402154230462243,
          "time": 0.0003071678802371025
         },
         {
          "device": "cpu",
          "impl": "naive",
          "model": "BYSIZE_15",
          "name": "score.tmol_lj_cpu_cpp.naive",
          "natoms": 264,
          "nres": 14,
          "rosetta_relative": 0.7405184046273681,
          "time": 0.0003072936087846756
         },
         {
          "device": "cpu",
          "impl": "naive",
          "model": "BYSIZE_15",
          "name": "score.tmol_lj_cpu_cpp.naive",
          "natoms": 264,
          "nres": 14,
          "rosetta_relative": 0.7357279291832847,
          "time": 0.00030530570074915886
         },
         {
          "device": "cpu",
          "impl": "naive",
          "model": "BYSIZE_15",
          "name": "score.tmol_lj_cpu_cpp.naive",
          "natoms": 264,
          "nres": 14,
          "rosetta_relative": 0.6986250291872256,
          "time": 0.00028990907594561577
         },
         {
          "device": "cpu",
          "impl": "naive",
          "model": "BYSIZE_15",
          "name": "score.tmol_lj_cpu_cpp.naive",
          "natoms": 264,
          "nres": 14,
          "rosetta_relative": 0.6948916228151325,
          "time": 0.0002883598208427429
         },
         {
          "device": "cpu",
          "impl": "naive",
          "model": "BYSIZE_15",
          "name": "score.tmol_lj_cpu_cpp.naive",
          "natoms": 264,
          "nres": 14,
          "rosetta_relative": 0.6945302892257684,
          "time": 0.00028820987790822983
         },
         {
          "device": "cpu",
          "impl": "naive",
          "model": "BYSIZE_15",
          "name": "score.tmol_lj_cpu_cpp.naive",
          "natoms": 264,
          "nres": 14,
          "rosetta_relative": 0.696710634455999,
          "time": 0.00028911465778946877
         },
         {
          "device": "cpu",
          "impl": "naive",
          "model": "BYSIZE_15",
          "name": "score.tmol_lj_cpu_cpp.naive",
          "natoms": 264,
          "nres": 14,
          "rosetta_relative": 0.6950936105358949,
          "time": 0.0002884436398744583
         },
         {
          "device": "cpu",
          "impl": "naive",
          "model": "BYSIZE_15",
          "name": "score.tmol_lj_cpu_cpp.naive",
          "natoms": 264,
          "nres": 14,
          "rosetta_relative": 0.696776841542249,
          "time": 0.0002891421318054199
         },
         {
          "device": "cpu",
          "impl": "naive",
          "model": "BYSIZE_15",
          "name": "score.tmol_lj_cpu_cpp.naive",
          "natoms": 264,
          "nres": 14,
          "rosetta_relative": 0.6969283323328208,
          "time": 0.00028920499607920647
         },
         {
          "device": "cpu",
          "impl": "naive",
          "model": "BYSIZE_15",
          "name": "score.tmol_lj_cpu_cpp.naive",
          "natoms": 264,
          "nres": 14,
          "rosetta_relative": 0.6972200923739221,
          "time": 0.0002893260680139065
         },
         {
          "device": "cpu",
          "impl": "naive",
          "model": "BYSIZE_15",
          "name": "score.tmol_lj_cpu_cpp.naive",
          "natoms": 264,
          "nres": 14,
          "rosetta_relative": 0.739020329031713,
          "time": 0.00030667195096611977
         },
         {
          "device": "cpu",
          "impl": "naive",
          "model": "BYSIZE_15",
          "name": "score.tmol_lj_cpu_cpp.naive",
          "natoms": 264,
          "nres": 14,
          "rosetta_relative": 0.7200222617399976,
          "time": 0.00029878830537199974
         },
         {
          "device": "cpu",
          "impl": "naive",
          "model": "BYSIZE_15",
          "name": "score.tmol_lj_cpu_cpp.naive",
          "natoms": 264,
          "nres": 14,
          "rosetta_relative": 0.7019813918138955,
          "time": 0.0002913018688559532
         },
         {
          "device": "cpu",
          "impl": "naive",
          "model": "BYSIZE_15",
          "name": "score.tmol_lj_cpu_cpp.naive",
          "natoms": 264,
          "nres": 14,
          "rosetta_relative": 0.7009018796618205,
          "time": 0.00029085390269756317
         },
         {
          "device": "cpu",
          "impl": "naive",
          "model": "BYSIZE_15",
          "name": "score.tmol_lj_cpu_cpp.naive",
          "natoms": 264,
          "nres": 14,
          "rosetta_relative": 0.6994341022242798,
          "time": 0.00029024481773376465
         },
         {
          "device": "cpu",
          "impl": "naive",
          "model": "BYSIZE_15",
          "name": "score.tmol_lj_cpu_cpp.naive",
          "natoms": 264,
          "nres": 14,
          "rosetta_relative": 0.7055599409334041,
          "time": 0.0002927868627011776
         },
         {
          "device": "cpu",
          "impl": "naive",
          "model": "BYSIZE_15",
          "name": "score.tmol_lj_cpu_cpp.naive",
          "natoms": 264,
          "nres": 14,
          "rosetta_relative": 0.7029217568694452,
          "time": 0.0002916920930147171
         },
         {
          "device": "cpu",
          "impl": "naive",
          "model": "BYSIZE_15",
          "name": "score.tmol_lj_cpu_cpp.naive",
          "natoms": 264,
          "nres": 14,
          "rosetta_relative": 0.6976207013534345,
          "time": 0.00028949230909347534
         },
         {
          "device": "cpu",
          "impl": "naive",
          "model": "BYSIZE_15",
          "name": "score.tmol_lj_cpu_cpp.naive",
          "natoms": 264,
          "nres": 14,
          "rosetta_relative": 0.6974299351727143,
          "time": 0.000289413146674633
         },
         {
          "device": "cpu",
          "impl": "naive",
          "model": "BYSIZE_15",
          "name": "score.tmol_lj_cpu_cpp.naive",
          "natoms": 264,
          "nres": 14,
          "rosetta_relative": 0.6979259272425866,
          "time": 0.00028961896896362305
         },
         {
          "device": "cpu",
          "impl": "naive",
          "model": "BYSIZE_15",
          "name": "score.tmol_lj_cpu_cpp.naive",
          "natoms": 264,
          "nres": 14,
          "rosetta_relative": 0.6961372137598344,
          "time": 0.0002888767048716545
         },
         {
          "device": "cpu",
          "impl": "naive",
          "model": "BYSIZE_15",
          "name": "score.tmol_lj_cpu_cpp.naive",
          "natoms": 264,
          "nres": 14,
          "rosetta_relative": 0.6946997344804081,
          "time": 0.0002882801927626133
         },
         {
          "device": "cpu",
          "impl": "naive",
          "model": "BYSIZE_15",
          "name": "score.tmol_lj_cpu_cpp.naive",
          "natoms": 264,
          "nres": 14,
          "rosetta_relative": 0.6930097705500287,
          "time": 0.00028757890686392784
         },
         {
          "device": "cpu",
          "impl": "naive",
          "model": "BYSIZE_15",
          "name": "score.tmol_lj_cpu_cpp.naive",
          "natoms": 264,
          "nres": 14,
          "rosetta_relative": 0.696691557837927,
          "time": 0.00028910674154758453
         },
         {
          "device": "cpu",
          "impl": "naive",
          "model": "BYSIZE_15",
          "name": "score.tmol_lj_cpu_cpp.naive",
          "natoms": 264,
          "nres": 14,
          "rosetta_relative": 0.7318273218645603,
          "time": 0.00030368706211447716
         },
         {
          "device": "cpu",
          "impl": "naive",
          "model": "BYSIZE_15",
          "name": "score.tmol_lj_cpu_cpp.naive",
          "natoms": 264,
          "nres": 14,
          "rosetta_relative": 0.7117149556466386,
          "time": 0.00029534101486206055
         },
         {
          "device": "cpu",
          "impl": "naive",
          "model": "BYSIZE_15",
          "name": "score.tmol_lj_cpu_cpp.naive",
          "natoms": 264,
          "nres": 14,
          "rosetta_relative": 0.7002802063434738,
          "time": 0.0002905959263443947
         },
         {
          "device": "cpu",
          "impl": "naive",
          "model": "BYSIZE_15",
          "name": "score.tmol_lj_cpu_cpp.naive",
          "natoms": 264,
          "nres": 14,
          "rosetta_relative": 0.698502714400764,
          "time": 0.0002898583188652992
         },
         {
          "device": "cpu",
          "impl": "naive",
          "model": "BYSIZE_15",
          "name": "score.tmol_lj_cpu_cpp.naive",
          "natoms": 264,
          "nres": 14,
          "rosetta_relative": 0.6975836702712946,
          "time": 0.0002894769422709942
         },
         {
          "device": "cpu",
          "impl": "naive",
          "model": "BYSIZE_15",
          "name": "score.tmol_lj_cpu_cpp.naive",
          "natoms": 264,
          "nres": 14,
          "rosetta_relative": 0.7004474072901049,
          "time": 0.00029066530987620354
         },
         {
          "device": "cpu",
          "impl": "rosetta",
          "model": "BYSIZE_800",
          "name": "score.rosetta_atr_rep",
          "natoms": 14464,
          "nres": 753,
          "rosetta_relative": 0.9987906045619802,
          "time": 0.09333570720627904
         },
         {
          "device": "cpu",
          "impl": "rosetta",
          "model": "BYSIZE_800",
          "name": "score.rosetta_atr_rep",
          "natoms": 14464,
          "nres": 753,
          "rosetta_relative": 0.9967294833138152,
          "time": 0.09314309805631638
         },
         {
          "device": "cpu",
          "impl": "rosetta",
          "model": "BYSIZE_800",
          "name": "score.rosetta_atr_rep",
          "natoms": 14464,
          "nres": 753,
          "rosetta_relative": 1.0044799121242045,
          "time": 0.09386736573651433
         },
         {
          "device": "cpu",
          "impl": "blocked",
          "model": "BYSIZE_800",
          "name": "score.tmol_lj_cpu_cpp.blocked",
          "natoms": 14464,
          "nres": 753,
          "rosetta_relative": 0.46774205347004716,
          "time": 0.04370989790186286
         },
         {
          "device": "cpu",
          "impl": "blocked",
          "model": "BYSIZE_800",
          "name": "score.tmol_lj_cpu_cpp.blocked",
          "natoms": 14464,
          "nres": 753,
          "rosetta_relative": 0.4652731279530218,
          "time": 0.043479179963469505
         },
         {
          "device": "cpu",
          "impl": "blocked",
          "model": "BYSIZE_800",
          "name": "score.tmol_lj_cpu_cpp.blocked",
          "natoms": 14464,
          "nres": 753,
          "rosetta_relative": 0.4650915698927573,
          "time": 0.04346221359446645
         },
         {
          "device": "cpu",
          "impl": "blocked",
          "model": "BYSIZE_800",
          "name": "score.tmol_lj_cpu_cpp.blocked",
          "natoms": 14464,
          "nres": 753,
          "rosetta_relative": 0.4660505612114865,
          "time": 0.04355183010920882
         },
         {
          "device": "cpu",
          "impl": "blocked",
          "model": "BYSIZE_800",
          "name": "score.tmol_lj_cpu_cpp.blocked",
          "natoms": 14464,
          "nres": 753,
          "rosetta_relative": 0.46059691785522044,
          "time": 0.04304219409823418
         },
         {
          "device": "cpu",
          "impl": "naive",
          "model": "BYSIZE_800",
          "name": "score.tmol_lj_cpu_cpp.naive",
          "natoms": 14464,
          "nres": 753,
          "rosetta_relative": 7.898247831919702,
          "time": 0.7380811790935695
         },
         {
          "device": "cpu",
          "impl": "naive",
          "model": "BYSIZE_800",
          "name": "score.tmol_lj_cpu_cpp.naive",
          "natoms": 14464,
          "nres": 753,
          "rosetta_relative": 7.913550333560053,
          "time": 0.7395111783407629
         },
         {
          "device": "cpu",
          "impl": "naive",
          "model": "BYSIZE_800",
          "name": "score.tmol_lj_cpu_cpp.naive",
          "natoms": 14464,
          "nres": 753,
          "rosetta_relative": 7.883364436145046,
          "time": 0.7366903447546065
         },
         {
          "device": "cpu",
          "impl": "rosetta",
          "model": "BYSIZE_400",
          "name": "score.rosetta_atr_rep",
          "natoms": 7176,
          "nres": 370,
          "rosetta_relative": 1.0059717741187295,
          "time": 0.04028427693992853
         },
         {
          "device": "cpu",
          "impl": "rosetta",
          "model": "BYSIZE_400",
          "name": "score.rosetta_atr_rep",
          "natoms": 7176,
          "nres": 370,
          "rosetta_relative": 0.9982278922489926,
          "time": 0.03997417213395238
         },
         {
          "device": "cpu",
          "impl": "rosetta",
          "model": "BYSIZE_400",
          "name": "score.rosetta_atr_rep",
          "natoms": 7176,
          "nres": 370,
          "rosetta_relative": 1.0079049392321164,
          "time": 0.04036169080063701
         },
         {
          "device": "cpu",
          "impl": "rosetta",
          "model": "BYSIZE_400",
          "name": "score.rosetta_atr_rep",
          "natoms": 7176,
          "nres": 370,
          "rosetta_relative": 1.0004291736246391,
          "time": 0.04006232274696231
         },
         {
          "device": "cpu",
          "impl": "rosetta",
          "model": "BYSIZE_400",
          "name": "score.rosetta_atr_rep",
          "natoms": 7176,
          "nres": 370,
          "rosetta_relative": 0.9958974424888563,
          "time": 0.039880848955363035
         },
         {
          "device": "cpu",
          "impl": "rosetta",
          "model": "BYSIZE_400",
          "name": "score.rosetta_atr_rep",
          "natoms": 7176,
          "nres": 370,
          "rosetta_relative": 0.9915687782866658,
          "time": 0.03970750700682402
         },
         {
          "device": "cpu",
          "impl": "blocked",
          "model": "BYSIZE_400",
          "name": "score.tmol_lj_cpu_cpp.blocked",
          "natoms": 7176,
          "nres": 370,
          "rosetta_relative": 0.49681384070171375,
          "time": 0.019894978031516075
         },
         {
          "device": "cpu",
          "impl": "blocked",
          "model": "BYSIZE_400",
          "name": "score.tmol_lj_cpu_cpp.blocked",
          "natoms": 7176,
          "nres": 370,
          "rosetta_relative": 0.47989523592818223,
          "time": 0.019217470195144415
         },
         {
          "device": "cpu",
          "impl": "blocked",
          "model": "BYSIZE_400",
          "name": "score.tmol_lj_cpu_cpp.blocked",
          "natoms": 7176,
          "nres": 370,
          "rosetta_relative": 0.47668758538911454,
          "time": 0.019089019391685724
         },
         {
          "device": "cpu",
          "impl": "blocked",
          "model": "BYSIZE_400",
          "name": "score.tmol_lj_cpu_cpp.blocked",
          "natoms": 7176,
          "nres": 370,
          "rosetta_relative": 0.4752059747145561,
          "time": 0.019029688090085983
         },
         {
          "device": "cpu",
          "impl": "blocked",
          "model": "BYSIZE_400",
          "name": "score.tmol_lj_cpu_cpp.blocked",
          "natoms": 7176,
          "nres": 370,
          "rosetta_relative": 0.47748789911742956,
          "time": 0.019121068064123392
         },
         {
          "device": "cpu",
          "impl": "blocked",
          "model": "BYSIZE_400",
          "name": "score.tmol_lj_cpu_cpp.blocked",
          "natoms": 7176,
          "nres": 370,
          "rosetta_relative": 0.473485097864335,
          "time": 0.018960775341838598
         },
         {
          "device": "cpu",
          "impl": "blocked",
          "model": "BYSIZE_400",
          "name": "score.tmol_lj_cpu_cpp.blocked",
          "natoms": 7176,
          "nres": 370,
          "rosetta_relative": 0.47637410669726404,
          "time": 0.019076466094702482
         },
         {
          "device": "cpu",
          "impl": "blocked",
          "model": "BYSIZE_400",
          "name": "score.tmol_lj_cpu_cpp.blocked",
          "natoms": 7176,
          "nres": 370,
          "rosetta_relative": 0.47533036382230615,
          "time": 0.019034669268876314
         },
         {
          "device": "cpu",
          "impl": "blocked",
          "model": "BYSIZE_400",
          "name": "score.tmol_lj_cpu_cpp.blocked",
          "natoms": 7176,
          "nres": 370,
          "rosetta_relative": 0.4730813129360831,
          "time": 0.018944605719298124
         },
         {
          "device": "cpu",
          "impl": "blocked",
          "model": "BYSIZE_400",
          "name": "score.tmol_lj_cpu_cpp.blocked",
          "natoms": 7176,
          "nres": 370,
          "rosetta_relative": 0.47744064125691765,
          "time": 0.019119175616651773
         },
         {
          "device": "cpu",
          "impl": "blocked",
          "model": "BYSIZE_400",
          "name": "score.tmol_lj_cpu_cpp.blocked",
          "natoms": 7176,
          "nres": 370,
          "rosetta_relative": 0.4717036021098696,
          "time": 0.018889435101300478
         },
         {
          "device": "cpu",
          "impl": "blocked",
          "model": "BYSIZE_400",
          "name": "score.tmol_lj_cpu_cpp.blocked",
          "natoms": 7176,
          "nres": 370,
          "rosetta_relative": 0.4729032703420137,
          "time": 0.018937475979328156
         },
         {
          "device": "cpu",
          "impl": "naive",
          "model": "BYSIZE_400",
          "name": "score.tmol_lj_cpu_cpp.naive",
          "natoms": 7176,
          "nres": 370,
          "rosetta_relative": 5.410812763608557,
          "time": 0.21667673531919718
         },
         {
          "device": "cpu",
          "impl": "naive",
          "model": "BYSIZE_400",
          "name": "score.tmol_lj_cpu_cpp.naive",
          "natoms": 7176,
          "nres": 370,
          "rosetta_relative": 4.680161575369309,
          "time": 0.18741770880296826
         },
         {
          "device": "cpu",
          "impl": "naive",
          "model": "BYSIZE_400",
          "name": "score.tmol_lj_cpu_cpp.naive",
          "natoms": 7176,
          "nres": 370,
          "rosetta_relative": 4.682527235956617,
          "time": 0.18751244200393558
         },
         {
          "device": "cpu",
          "impl": "rosetta",
          "model": "BYSIZE_250",
          "name": "score.rosetta_atr_rep",
          "natoms": 4128,
          "nres": 233,
          "rosetta_relative": 1.0701500752843993,
          "time": 0.033438687678426504
         },
         {
          "device": "cpu",
          "impl": "rosetta",
          "model": "BYSIZE_250",
          "name": "score.rosetta_atr_rep",
          "natoms": 4128,
          "nres": 233,
          "rosetta_relative": 1.0693771009072217,
          "time": 0.033414534758776426
         },
         {
          "device": "cpu",
          "impl": "rosetta",
          "model": "BYSIZE_250",
          "name": "score.rosetta_atr_rep",
          "natoms": 4128,
          "nres": 233,
          "rosetta_relative": 1.0692383118585858,
          "time": 0.03341019805520773
         },
         {
          "device": "cpu",
          "impl": "rosetta",
          "model": "BYSIZE_250",
          "name": "score.rosetta_atr_rep",
          "natoms": 4128,
          "nres": 233,
          "rosetta_relative": 1.0700909114786348,
          "time": 0.03343683900311589
         },
         {
          "device": "cpu",
          "impl": "rosetta",
          "model": "BYSIZE_250",
          "name": "score.rosetta_atr_rep",
          "natoms": 4128,
          "nres": 233,
          "rosetta_relative": 1.0682211861892568,
          "time": 0.03337841620668769
         },
         {
          "device": "cpu",
          "impl": "rosetta",
          "model": "BYSIZE_250",
          "name": "score.rosetta_atr_rep",
          "natoms": 4128,
          "nres": 233,
          "rosetta_relative": 0.9101944225486204,
          "time": 0.028440597001463175
         },
         {
          "device": "cpu",
          "impl": "rosetta",
          "model": "BYSIZE_250",
          "name": "score.rosetta_atr_rep",
          "natoms": 4128,
          "nres": 233,
          "rosetta_relative": 0.7427279917332814,
          "time": 0.02320781908929348
         },
         {
          "device": "cpu",
          "impl": "blocked",
          "model": "BYSIZE_250",
          "name": "score.tmol_lj_cpu_cpp.blocked",
          "natoms": 4128,
          "nres": 233,
          "rosetta_relative": 0.34839526522387926,
          "time": 0.01088621187955141
         },
         {
          "device": "cpu",
          "impl": "blocked",
          "model": "BYSIZE_250",
          "name": "score.tmol_lj_cpu_cpp.blocked",
          "natoms": 4128,
          "nres": 233,
          "rosetta_relative": 0.32795956511754215,
          "time": 0.010247663129121065
         },
         {
          "device": "cpu",
          "impl": "blocked",
          "model": "BYSIZE_250",
          "name": "score.tmol_lj_cpu_cpp.blocked",
          "natoms": 4128,
          "nres": 233,
          "rosetta_relative": 0.33073027916483266,
          "time": 0.01033423887565732
         },
         {
          "device": "cpu",
          "impl": "blocked",
          "model": "BYSIZE_250",
          "name": "score.tmol_lj_cpu_cpp.blocked",
          "natoms": 4128,
          "nres": 233,
          "rosetta_relative": 0.3261182891241854,
          "time": 0.010190129280090332
         },
         {
          "device": "cpu",
          "impl": "blocked",
          "model": "BYSIZE_250",
          "name": "score.tmol_lj_cpu_cpp.blocked",
          "natoms": 4128,
          "nres": 233,
          "rosetta_relative": 0.32899908957781915,
          "time": 0.01028014486655593
         },
         {
          "device": "cpu",
          "impl": "blocked",
          "model": "BYSIZE_250",
          "name": "score.tmol_lj_cpu_cpp.blocked",
          "natoms": 4128,
          "nres": 233,
          "rosetta_relative": 0.3268424719900096,
          "time": 0.010212757624685764
         },
         {
          "device": "cpu",
          "impl": "blocked",
          "model": "BYSIZE_250",
          "name": "score.tmol_lj_cpu_cpp.blocked",
          "natoms": 4128,
          "nres": 233,
          "rosetta_relative": 0.32926994654753466,
          "time": 0.010288608260452747
         },
         {
          "device": "cpu",
          "impl": "blocked",
          "model": "BYSIZE_250",
          "name": "score.tmol_lj_cpu_cpp.blocked",
          "natoms": 4128,
          "nres": 233,
          "rosetta_relative": 0.32572187672284114,
          "time": 0.010177742689847946
         },
         {
          "device": "cpu",
          "impl": "blocked",
          "model": "BYSIZE_250",
          "name": "score.tmol_lj_cpu_cpp.blocked",
          "natoms": 4128,
          "nres": 233,
          "rosetta_relative": 0.3296324105484931,
          "time": 0.010299934074282646
         },
         {
          "device": "cpu",
          "impl": "blocked",
          "model": "BYSIZE_250",
          "name": "score.tmol_lj_cpu_cpp.blocked",
          "natoms": 4128,
          "nres": 233,
          "rosetta_relative": 0.33032707112232246,
          "time": 0.010321639943867922
         },
         {
          "device": "cpu",
          "impl": "blocked",
          "model": "BYSIZE_250",
          "name": "score.tmol_lj_cpu_cpp.blocked",
          "natoms": 4128,
          "nres": 233,
          "rosetta_relative": 0.32931301541369573,
          "time": 0.010289954021573067
         },
         {
          "device": "cpu",
          "impl": "blocked",
          "model": "BYSIZE_250",
          "name": "score.tmol_lj_cpu_cpp.blocked",
          "natoms": 4128,
          "nres": 233,
          "rosetta_relative": 0.3252427691179232,
          "time": 0.01016277214512229
         },
         {
          "device": "cpu",
          "impl": "blocked",
          "model": "BYSIZE_250",
          "name": "score.tmol_lj_cpu_cpp.blocked",
          "natoms": 4128,
          "nres": 233,
          "rosetta_relative": 0.3306740213898298,
          "time": 0.010332481004297733
         },
         {
          "device": "cpu",
          "impl": "blocked",
          "model": "BYSIZE_250",
          "name": "score.tmol_lj_cpu_cpp.blocked",
          "natoms": 4128,
          "nres": 233,
          "rosetta_relative": 0.32562994183171734,
          "time": 0.010174870025366545
         },
         {
          "device": "cpu",
          "impl": "blocked",
          "model": "BYSIZE_250",
          "name": "score.tmol_lj_cpu_cpp.blocked",
          "natoms": 4128,
          "nres": 233,
          "rosetta_relative": 0.32975805539645303,
          "time": 0.010303860064595938
         },
         {
          "device": "cpu",
          "impl": "blocked",
          "model": "BYSIZE_250",
          "name": "score.tmol_lj_cpu_cpp.blocked",
          "natoms": 4128,
          "nres": 233,
          "rosetta_relative": 0.32564913653746663,
          "time": 0.010175469797104597
         },
         {
          "device": "cpu",
          "impl": "blocked",
          "model": "BYSIZE_250",
          "name": "score.tmol_lj_cpu_cpp.blocked",
          "natoms": 4128,
          "nres": 233,
          "rosetta_relative": 0.33080324289103497,
          "time": 0.010336518753319979
         },
         {
          "device": "cpu",
          "impl": "blocked",
          "model": "BYSIZE_250",
          "name": "score.tmol_lj_cpu_cpp.blocked",
          "natoms": 4128,
          "nres": 233,
          "rosetta_relative": 0.3434128978369685,
          "time": 0.010730529204010963
         },
         {
          "device": "cpu",
          "impl": "blocked",
          "model": "BYSIZE_250",
          "name": "score.tmol_lj_cpu_cpp.blocked",
          "natoms": 4128,
          "nres": 233,
          "rosetta_relative": 0.3291032297981422,
          "time": 0.010283398907631636
         },
         {
          "device": "cpu",
          "impl": "blocked",
          "model": "BYSIZE_250",
          "name": "score.tmol_lj_cpu_cpp.blocked",
          "natoms": 4128,
          "nres": 233,
          "rosetta_relative": 0.3246776131970142,
          "time": 0.010145112872123718
         },
         {
          "device": "cpu",
          "impl": "blocked",
          "model": "BYSIZE_250",
          "name": "score.tmol_lj_cpu_cpp.blocked",
          "natoms": 4128,
          "nres": 233,
          "rosetta_relative": 0.32528081576681916,
          "time": 0.010163960978388786
         },
         {
          "device": "cpu",
          "impl": "blocked",
          "model": "BYSIZE_250",
          "name": "score.tmol_lj_cpu_cpp.blocked",
          "natoms": 4128,
          "nres": 233,
          "rosetta_relative": 0.3249499008280278,
          "time": 0.010153620969504118
         },
         {
          "device": "cpu",
          "impl": "naive",
          "model": "BYSIZE_250",
          "name": "score.tmol_lj_cpu_cpp.naive",
          "natoms": 4128,
          "nres": 233,
          "rosetta_relative": 1.888709628305615,
          "time": 0.059015994891524315
         },
         {
          "device": "cpu",
          "impl": "naive",
          "model": "BYSIZE_250",
          "name": "score.tmol_lj_cpu_cpp.naive",
          "natoms": 4128,
          "nres": 233,
          "rosetta_relative": 1.8693215150320786,
          "time": 0.05841017980128527
         },
         {
          "device": "cpu",
          "impl": "naive",
          "model": "BYSIZE_250",
          "name": "score.tmol_lj_cpu_cpp.naive",
          "natoms": 4128,
          "nres": 233,
          "rosetta_relative": 1.8782162492794294,
          "time": 0.05868811113759875
         },
         {
          "device": "cpu",
          "impl": "naive",
          "model": "BYSIZE_250",
          "name": "score.tmol_lj_cpu_cpp.naive",
          "natoms": 4128,
          "nres": 233,
          "rosetta_relative": 1.8627155110017821,
          "time": 0.05820376379415393
         },
         {
          "device": "cpu",
          "impl": "naive",
          "model": "BYSIZE_250",
          "name": "score.tmol_lj_cpu_cpp.naive",
          "natoms": 4128,
          "nres": 233,
          "rosetta_relative": 1.866586388684578,
          "time": 0.0583247160539031
         },
         {
          "device": "cpu",
          "impl": "rosetta",
          "model": "BYSIZE_200",
          "name": "score.rosetta_atr_rep",
          "natoms": 3600,
          "nres": 197,
          "rosetta_relative": 1.0188753421169394,
          "time": 0.019887648057192564
         },
         {
          "device": "cpu",
          "impl": "rosetta",
          "model": "BYSIZE_200",
          "name": "score.rosetta_atr_rep",
          "natoms": 3600,
          "nres": 197,
          "rosetta_relative": 1.0027679198803945,
          "time": 0.0195732438005507
         },
         {
          "device": "cpu",
          "impl": "rosetta",
          "model": "BYSIZE_200",
          "name": "score.rosetta_atr_rep",
          "natoms": 3600,
          "nres": 197,
          "rosetta_relative": 0.9963078267493806,
          "time": 0.019447147846221924
         },
         {
          "device": "cpu",
          "impl": "rosetta",
          "model": "BYSIZE_200",
          "name": "score.rosetta_atr_rep",
          "natoms": 3600,
          "nres": 197,
          "rosetta_relative": 1.000081409174359,
          "time": 0.019520805217325687
         },
         {
          "device": "cpu",
          "impl": "rosetta",
          "model": "BYSIZE_200",
          "name": "score.rosetta_atr_rep",
          "natoms": 3600,
          "nres": 197,
          "rosetta_relative": 0.9995099730718322,
          "time": 0.019509651232510805
         },
         {
          "device": "cpu",
          "impl": "rosetta",
          "model": "BYSIZE_200",
          "name": "score.rosetta_atr_rep",
          "natoms": 3600,
          "nres": 197,
          "rosetta_relative": 0.9980519796093875,
          "time": 0.019481192342936993
         },
         {
          "device": "cpu",
          "impl": "rosetta",
          "model": "BYSIZE_200",
          "name": "score.rosetta_atr_rep",
          "natoms": 3600,
          "nres": 197,
          "rosetta_relative": 0.9983959911569364,
          "time": 0.01948790717869997
         },
         {
          "device": "cpu",
          "impl": "rosetta",
          "model": "BYSIZE_200",
          "name": "score.rosetta_atr_rep",
          "natoms": 3600,
          "nres": 197,
          "rosetta_relative": 0.9944769791623422,
          "time": 0.01941141113638878
         },
         {
          "device": "cpu",
          "impl": "rosetta",
          "model": "BYSIZE_200",
          "name": "score.rosetta_atr_rep",
          "natoms": 3600,
          "nres": 197,
          "rosetta_relative": 0.9915325790784286,
          "time": 0.01935393875464797
         },
         {
          "device": "cpu",
          "impl": "blocked",
          "model": "BYSIZE_200",
          "name": "score.tmol_lj_cpu_cpp.blocked",
          "natoms": 3600,
          "nres": 197,
          "rosetta_relative": 0.4829209293672618,
          "time": 0.009426238015294075
         },
         {
          "device": "cpu",
          "impl": "blocked",
          "model": "BYSIZE_200",
          "name": "score.tmol_lj_cpu_cpp.blocked",
          "natoms": 3600,
          "nres": 197,
          "rosetta_relative": 0.4731168865407982,
          "time": 0.009234870783984661
         },
         {
          "device": "cpu",
          "impl": "blocked",
          "model": "BYSIZE_200",
          "name": "score.tmol_lj_cpu_cpp.blocked",
          "natoms": 3600,
          "nres": 197,
          "rosetta_relative": 0.450101201899158,
          "time": 0.008785622660070658
         },
         {
          "device": "cpu",
          "impl": "blocked",
          "model": "BYSIZE_200",
          "name": "score.tmol_lj_cpu_cpp.blocked",
          "natoms": 3600,
          "nres": 197,
          "rosetta_relative": 0.44897603125917207,
          "time": 0.008763660211116076
         },
         {
          "device": "cpu",
          "impl": "blocked",
          "model": "BYSIZE_200",
          "name": "score.tmol_lj_cpu_cpp.blocked",
          "natoms": 3600,
          "nres": 197,
          "rosetta_relative": 0.4452978989175321,
          "time": 0.00869186595082283
         },
         {
          "device": "cpu",
          "impl": "blocked",
          "model": "BYSIZE_200",
          "name": "score.tmol_lj_cpu_cpp.blocked",
          "natoms": 3600,
          "nres": 197,
          "rosetta_relative": 0.446624180330461,
          "time": 0.008717753924429417
         },
         {
          "device": "cpu",
          "impl": "blocked",
          "model": "BYSIZE_200",
          "name": "score.tmol_lj_cpu_cpp.blocked",
          "natoms": 3600,
          "nres": 197,
          "rosetta_relative": 0.4447868676165581,
          "time": 0.008681891020387411
         },
         {
          "device": "cpu",
          "impl": "blocked",
          "model": "BYSIZE_200",
          "name": "score.tmol_lj_cpu_cpp.blocked",
          "natoms": 3600,
          "nres": 197,
          "rosetta_relative": 0.4484228215659604,
          "time": 0.008752861991524696
         },
         {
          "device": "cpu",
          "impl": "blocked",
          "model": "BYSIZE_200",
          "name": "score.tmol_lj_cpu_cpp.blocked",
          "natoms": 3600,
          "nres": 197,
          "rosetta_relative": 0.44676994389187036,
          "time": 0.008720599114894867
         },
         {
          "device": "cpu",
          "impl": "blocked",
          "model": "BYSIZE_200",
          "name": "score.tmol_lj_cpu_cpp.blocked",
          "natoms": 3600,
          "nres": 197,
          "rosetta_relative": 0.4487928129037507,
          "time": 0.008760083932429552
         },
         {
          "device": "cpu",
          "impl": "blocked",
          "model": "BYSIZE_200",
          "name": "score.tmol_lj_cpu_cpp.blocked",
          "natoms": 3600,
          "nres": 197,
          "rosetta_relative": 0.44511198477120417,
          "time": 0.008688237052410841
         },
         {
          "device": "cpu",
          "impl": "blocked",
          "model": "BYSIZE_200",
          "name": "score.tmol_lj_cpu_cpp.blocked",
          "natoms": 3600,
          "nres": 197,
          "rosetta_relative": 0.44242743030281784,
          "time": 0.008635836653411388
         },
         {
          "device": "cpu",
          "impl": "blocked",
          "model": "BYSIZE_200",
          "name": "score.tmol_lj_cpu_cpp.blocked",
          "natoms": 3600,
          "nres": 197,
          "rosetta_relative": 0.45340037283769014,
          "time": 0.00885001989081502
         },
         {
          "device": "cpu",
          "impl": "blocked",
          "model": "BYSIZE_200",
          "name": "score.tmol_lj_cpu_cpp.blocked",
          "natoms": 3600,
          "nres": 197,
          "rosetta_relative": 0.44726632726703336,
          "time": 0.008730288129299879
         },
         {
          "device": "cpu",
          "impl": "blocked",
          "model": "BYSIZE_200",
          "name": "score.tmol_lj_cpu_cpp.blocked",
          "natoms": 3600,
          "nres": 197,
          "rosetta_relative": 0.4491662395857052,
          "time": 0.00876737292855978
         },
         {
          "device": "cpu",
          "impl": "blocked",
          "model": "BYSIZE_200",
          "name": "score.tmol_lj_cpu_cpp.blocked",
          "natoms": 3600,
          "nres": 197,
          "rosetta_relative": 0.44458306105270856,
          "time": 0.008677912876009941
         },
         {
          "device": "cpu",
          "impl": "blocked",
          "model": "BYSIZE_200",
          "name": "score.tmol_lj_cpu_cpp.blocked",
          "natoms": 3600,
          "nres": 197,
          "rosetta_relative": 0.4494826968102708,
          "time": 0.008773549925535917
         },
         {
          "device": "cpu",
          "impl": "blocked",
          "model": "BYSIZE_200",
          "name": "score.tmol_lj_cpu_cpp.blocked",
          "natoms": 3600,
          "nres": 197,
          "rosetta_relative": 0.4462896398359201,
          "time": 0.0087112239561975
         },
         {
          "device": "cpu",
          "impl": "blocked",
          "model": "BYSIZE_200",
          "name": "score.tmol_lj_cpu_cpp.blocked",
          "natoms": 3600,
          "nres": 197,
          "rosetta_relative": 0.4484651908106516,
          "time": 0.008753689005970955
         },
         {
          "device": "cpu",
          "impl": "blocked",
          "model": "BYSIZE_200",
          "name": "score.tmol_lj_cpu_cpp.blocked",
          "natoms": 3600,
          "nres": 197,
          "rosetta_relative": 0.44936517941198884,
          "time": 0.00877125607803464
         },
         {
          "device": "cpu",
          "impl": "blocked",
          "model": "BYSIZE_200",
          "name": "score.tmol_lj_cpu_cpp.blocked",
          "natoms": 3600,
          "nres": 197,
          "rosetta_relative": 0.4446053907897755,
          "time": 0.008678348734974861
         },
         {
          "device": "cpu",
          "impl": "blocked",
          "model": "BYSIZE_200",
          "name": "score.tmol_lj_cpu_cpp.blocked",
          "natoms": 3600,
          "nres": 197,
          "rosetta_relative": 0.44911828790674724,
          "time": 0.008766436949372292
         },
         {
          "device": "cpu",
          "impl": "blocked",
          "model": "BYSIZE_200",
          "name": "score.tmol_lj_cpu_cpp.blocked",
          "natoms": 3600,
          "nres": 197,
          "rosetta_relative": 0.44449560291586293,
          "time": 0.008676205761730671
         },
         {
          "device": "cpu",
          "impl": "blocked",
          "model": "BYSIZE_200",
          "name": "score.tmol_lj_cpu_cpp.blocked",
          "natoms": 3600,
          "nres": 197,
          "rosetta_relative": 0.45053622621050016,
          "time": 0.008794113993644714
         },
         {
          "device": "cpu",
          "impl": "blocked",
          "model": "BYSIZE_200",
          "name": "score.tmol_lj_cpu_cpp.blocked",
          "natoms": 3600,
          "nres": 197,
          "rosetta_relative": 0.44480495088653327,
          "time": 0.00868224399164319
         },
         {
          "device": "cpu",
          "impl": "blocked",
          "model": "BYSIZE_200",
          "name": "score.tmol_lj_cpu_cpp.blocked",
          "natoms": 3600,
          "nres": 197,
          "rosetta_relative": 0.44478014006757,
          "time": 0.00868175970390439
         },
         {
          "device": "cpu",
          "impl": "blocked",
          "model": "BYSIZE_200",
          "name": "score.tmol_lj_cpu_cpp.blocked",
          "natoms": 3600,
          "nres": 197,
          "rosetta_relative": 0.44652016574326864,
          "time": 0.008715723641216755
         },
         {
          "device": "cpu",
          "impl": "naive",
          "model": "BYSIZE_200",
          "name": "score.tmol_lj_cpu_cpp.naive",
          "natoms": 3600,
          "nres": 197,
          "rosetta_relative": 3.246091459708431,
          "time": 0.06336116092279553
         },
         {
          "device": "cpu",
          "impl": "naive",
          "model": "BYSIZE_200",
          "name": "score.tmol_lj_cpu_cpp.naive",
          "natoms": 3600,
          "nres": 197,
          "rosetta_relative": 3.2012374592111863,
          "time": 0.06248564599081874
         },
         {
          "device": "cpu",
          "impl": "naive",
          "model": "BYSIZE_200",
          "name": "score.tmol_lj_cpu_cpp.naive",
          "natoms": 3600,
          "nres": 197,
          "rosetta_relative": 2.598207569951573,
          "time": 0.05071497522294521
         },
         {
          "device": "cpu",
          "impl": "naive",
          "model": "BYSIZE_200",
          "name": "score.tmol_lj_cpu_cpp.naive",
          "natoms": 3600,
          "nres": 197,
          "rosetta_relative": 2.48330718822599,
          "time": 0.048472209833562374
         },
         {
          "device": "cpu",
          "impl": "naive",
          "model": "BYSIZE_200",
          "name": "score.tmol_lj_cpu_cpp.naive",
          "natoms": 3600,
          "nres": 197,
          "rosetta_relative": 2.438679848873909,
          "time": 0.04760111914947629
         },
         {
          "device": "cpu",
          "impl": "rosetta",
          "model": "BYSIZE_950",
          "name": "score.rosetta_atr_rep",
          "natoms": 17504,
          "nres": 956,
          "rosetta_relative": 1.0116382186835213,
          "time": 0.12539055990055203
         },
         {
          "device": "cpu",
          "impl": "rosetta",
          "model": "BYSIZE_950",
          "name": "score.rosetta_atr_rep",
          "natoms": 17504,
          "nres": 956,
          "rosetta_relative": 0.9954430275441128,
          "time": 0.12338319793343544
         },
         {
          "device": "cpu",
          "impl": "rosetta",
          "model": "BYSIZE_950",
          "name": "score.rosetta_atr_rep",
          "natoms": 17504,
          "nres": 956,
          "rosetta_relative": 0.9929187537723657,
          "time": 0.1230703191831708
         },
         {
          "device": "cpu",
          "impl": "blocked",
          "model": "BYSIZE_950",
          "name": "score.tmol_lj_cpu_cpp.blocked",
          "natoms": 17504,
          "nres": 956,
          "rosetta_relative": 0.4582234191034309,
          "time": 0.05679588811472058
         },
         {
          "device": "cpu",
          "impl": "blocked",
          "model": "BYSIZE_950",
          "name": "score.tmol_lj_cpu_cpp.blocked",
          "natoms": 17504,
          "nres": 956,
          "rosetta_relative": 0.4926484862182382,
          "time": 0.061062807217240334
         },
         {
          "device": "cpu",
          "impl": "blocked",
          "model": "BYSIZE_950",
          "name": "score.tmol_lj_cpu_cpp.blocked",
          "natoms": 17504,
          "nres": 956,
          "rosetta_relative": 0.4520688116459629,
          "time": 0.056033036671578884
         },
         {
          "device": "cpu",
          "impl": "blocked",
          "model": "BYSIZE_950",
          "name": "score.tmol_lj_cpu_cpp.blocked",
          "natoms": 17504,
          "nres": 956,
          "rosetta_relative": 0.4808979685554968,
          "time": 0.059606353752315044
         },
         {
          "device": "cpu",
          "impl": "naive",
          "model": "BYSIZE_950",
          "name": "score.tmol_lj_cpu_cpp.naive",
          "natoms": 17504,
          "nres": 956,
          "rosetta_relative": 10.165784275293921,
          "time": 1.2600288903340697
         },
         {
          "device": "cpu",
          "impl": "naive",
          "model": "BYSIZE_950",
          "name": "score.tmol_lj_cpu_cpp.naive",
          "natoms": 17504,
          "nres": 956,
          "rosetta_relative": 9.300747378547237,
          "time": 1.1528092748485506
         },
         {
          "device": "cpu",
          "impl": "naive",
          "model": "BYSIZE_950",
          "name": "score.tmol_lj_cpu_cpp.naive",
          "natoms": 17504,
          "nres": 956,
          "rosetta_relative": 9.197241551912184,
          "time": 1.1399799319915473
         },
         {
          "device": "cpu",
          "impl": "rosetta",
          "model": "BYSIZE_600",
          "name": "score.rosetta_atr_rep",
          "natoms": 10536,
          "nres": 548,
          "rosetta_relative": 1.0109827968518923,
          "time": 0.06925353035330772
         },
         {
          "device": "cpu",
          "impl": "rosetta",
          "model": "BYSIZE_600",
          "name": "score.rosetta_atr_rep",
          "natoms": 10536,
          "nres": 548,
          "rosetta_relative": 0.9963742715480872,
          "time": 0.06825282890349627
         },
         {
          "device": "cpu",
          "impl": "rosetta",
          "model": "BYSIZE_600",
          "name": "score.rosetta_atr_rep",
          "natoms": 10536,
          "nres": 548,
          "rosetta_relative": 0.9975105196402051,
          "time": 0.06833066325634718
         },
         {
          "device": "cpu",
          "impl": "rosetta",
          "model": "BYSIZE_600",
          "name": "score.rosetta_atr_rep",
          "natoms": 10536,
          "nres": 548,
          "rosetta_relative": 0.9951324119598154,
          "time": 0.06816776003688574
         },
         {
          "device": "cpu",
          "impl": "blocked",
          "model": "BYSIZE_600",
          "name": "score.tmol_lj_cpu_cpp.blocked",
          "natoms": 10536,
          "nres": 548,
          "rosetta_relative": 0.5658763552525056,
          "time": 0.03876320691779256
         },
         {
          "device": "cpu",
          "impl": "blocked",
          "model": "BYSIZE_600",
          "name": "score.tmol_lj_cpu_cpp.blocked",
          "natoms": 10536,
          "nres": 548,
          "rosetta_relative": 0.44337508197152586,
          "time": 0.030371723230928183
         },
         {
          "device": "cpu",
          "impl": "blocked",
          "model": "BYSIZE_600",
          "name": "score.tmol_lj_cpu_cpp.blocked",
          "natoms": 10536,
          "nres": 548,
          "rosetta_relative": 0.44121496794836224,
          "time": 0.030223752837628126
         },
         {
          "device": "cpu",
          "impl": "blocked",
          "model": "BYSIZE_600",
          "name": "score.tmol_lj_cpu_cpp.blocked",
          "natoms": 10536,
          "nres": 548,
          "rosetta_relative": 0.44298762455351043,
          "time": 0.030345181934535503
         },
         {
          "device": "cpu",
          "impl": "blocked",
          "model": "BYSIZE_600",
          "name": "score.tmol_lj_cpu_cpp.blocked",
          "natoms": 10536,
          "nres": 548,
          "rosetta_relative": 0.4487225204942198,
          "time": 0.030738029163330793
         },
         {
          "device": "cpu",
          "impl": "naive",
          "model": "BYSIZE_600",
          "name": "score.tmol_lj_cpu_cpp.naive",
          "natoms": 10536,
          "nres": 548,
          "rosetta_relative": 5.830336919264869,
          "time": 0.3993850499391556
         },
         {
          "device": "cpu",
          "impl": "naive",
          "model": "BYSIZE_600",
          "name": "score.tmol_lj_cpu_cpp.naive",
          "natoms": 10536,
          "nres": 548,
          "rosetta_relative": 5.790010166024215,
          "time": 0.39662261912599206
         },
         {
          "device": "cpu",
          "impl": "naive",
          "model": "BYSIZE_600",
          "name": "score.tmol_lj_cpu_cpp.naive",
          "natoms": 10536,
          "nres": 548,
          "rosetta_relative": 5.906939671523163,
          "time": 0.40463243005797267
         },
         {
          "device": "cpu",
          "impl": "rosetta",
          "model": "BYSIZE_500",
          "name": "score.rosetta_atr_rep",
          "natoms": 9136,
          "nres": 488,
          "rosetta_relative": 1.0052349021062676,
          "time": 0.05827004602178931
         },
         {
          "device": "cpu",
          "impl": "rosetta",
          "model": "BYSIZE_500",
          "name": "score.rosetta_atr_rep",
          "natoms": 9136,
          "nres": 488,
          "rosetta_relative": 1.006932998695178,
          "time": 0.058368478901684284
         },
         {
          "device": "cpu",
          "impl": "rosetta",
          "model": "BYSIZE_500",
          "name": "score.rosetta_atr_rep",
          "natoms": 9136,
          "nres": 488,
          "rosetta_relative": 0.9946619707976077,
          "time": 0.05765716917812824
         },
         {
          "device": "cpu",
          "impl": "rosetta",
          "model": "BYSIZE_500",
          "name": "score.rosetta_atr_rep",
          "natoms": 9136,
          "nres": 488,
          "rosetta_relative": 0.9931701284009467,
          "time": 0.0575706921517849
         },
         {
          "device": "cpu",
          "impl": "blocked",
          "model": "BYSIZE_500",
          "name": "score.tmol_lj_cpu_cpp.blocked",
          "natoms": 9136,
          "nres": 488,
          "rosetta_relative": 0.46012717954824883,
          "time": 0.026672006584703922
         },
         {
          "device": "cpu",
          "impl": "blocked",
          "model": "BYSIZE_500",
          "name": "score.tmol_lj_cpu_cpp.blocked",
          "natoms": 9136,
          "nres": 488,
          "rosetta_relative": 0.4507567001388167,
          "time": 0.026128831785172224
         },
         {
          "device": "cpu",
          "impl": "blocked",
          "model": "BYSIZE_500",
          "name": "score.tmol_lj_cpu_cpp.blocked",
          "natoms": 9136,
          "nres": 488,
          "rosetta_relative": 0.4495818184202237,
          "time": 0.026060727890580893
         },
         {
          "device": "cpu",
          "impl": "blocked",
          "model": "BYSIZE_500",
          "name": "score.tmol_lj_cpu_cpp.blocked",
          "natoms": 9136,
          "nres": 488,
          "rosetta_relative": 0.4459451975220585,
          "time": 0.025849925354123116
         },
         {
          "device": "cpu",
          "impl": "blocked",
          "model": "BYSIZE_500",
          "name": "score.tmol_lj_cpu_cpp.blocked",
          "natoms": 9136,
          "nres": 488,
          "rosetta_relative": 0.44617028973108797,
          "time": 0.02586297318339348
         },
         {
          "device": "cpu",
          "impl": "blocked",
          "model": "BYSIZE_500",
          "name": "score.tmol_lj_cpu_cpp.blocked",
          "natoms": 9136,
          "nres": 488,
          "rosetta_relative": 0.4449513053634025,
          "time": 0.025792312808334827
         },
         {
          "device": "cpu",
          "impl": "blocked",
          "model": "BYSIZE_500",
          "name": "score.tmol_lj_cpu_cpp.blocked",
          "natoms": 9136,
          "nres": 488,
          "rosetta_relative": 0.445522864449064,
          "time": 0.025825444143265486
         },
         {
          "device": "cpu",
          "impl": "blocked",
          "model": "BYSIZE_500",
          "name": "score.tmol_lj_cpu_cpp.blocked",
          "natoms": 9136,
          "nres": 488,
          "rosetta_relative": 0.5723059306858627,
          "time": 0.033174626994878054
         },
         {
          "device": "cpu",
          "impl": "naive",
          "model": "BYSIZE_500",
          "name": "score.tmol_lj_cpu_cpp.naive",
          "natoms": 9136,
          "nres": 488,
          "rosetta_relative": 5.103975310967508,
          "time": 0.29586007772013545
         },
         {
          "device": "cpu",
          "impl": "naive",
          "model": "BYSIZE_500",
          "name": "score.tmol_lj_cpu_cpp.naive",
          "natoms": 9136,
          "nres": 488,
          "rosetta_relative": 5.088357896162494,
          "time": 0.2949547893367708
         },
         {
          "device": "cpu",
          "impl": "naive",
          "model": "BYSIZE_500",
          "name": "score.tmol_lj_cpu_cpp.naive",
          "natoms": 9136,
          "nres": 488,
          "rosetta_relative": 5.095823454428637,
          "time": 0.2953875423409045
         },
         {
          "device": "cpu",
          "impl": "rosetta",
          "model": "BYSIZE_300",
          "name": "score.rosetta_atr_rep",
          "natoms": 5408,
          "nres": 298,
          "rosetta_relative": 1.0087139568966341,
          "time": 0.03403370687738061
         },
         {
          "device": "cpu",
          "impl": "rosetta",
          "model": "BYSIZE_300",
          "name": "score.rosetta_atr_rep",
          "natoms": 5408,
          "nres": 298,
          "rosetta_relative": 1.0012098290451705,
          "time": 0.03378051985055208
         },
         {
          "device": "cpu",
          "impl": "rosetta",
          "model": "BYSIZE_300",
          "name": "score.rosetta_atr_rep",
          "natoms": 5408,
          "nres": 298,
          "rosetta_relative": 0.9944341901638178,
          "time": 0.03355191182345152
         },
         {
          "device": "cpu",
          "impl": "rosetta",
          "model": "BYSIZE_300",
          "name": "score.rosetta_atr_rep",
          "natoms": 5408,
          "nres": 298,
          "rosetta_relative": 1.0106755069198803,
          "time": 0.03409988898783922
         },
         {
          "device": "cpu",
          "impl": "rosetta",
          "model": "BYSIZE_300",
          "name": "score.rosetta_atr_rep",
          "natoms": 5408,
          "nres": 298,
          "rosetta_relative": 0.9965511322131799,
          "time": 0.03362333681434393
         },
         {
          "device": "cpu",
          "impl": "rosetta",
          "model": "BYSIZE_300",
          "name": "score.rosetta_atr_rep",
          "natoms": 5408,
          "nres": 298,
          "rosetta_relative": 0.9966575424202457,
          "time": 0.03362692706286907
         },
         {
          "device": "cpu",
          "impl": "rosetta",
          "model": "BYSIZE_300",
          "name": "score.rosetta_atr_rep",
          "natoms": 5408,
          "nres": 298,
          "rosetta_relative": 0.9917578423410718,
          "time": 0.03346161264926195
         },
         {
          "device": "cpu",
          "impl": "blocked",
          "model": "BYSIZE_300",
          "name": "score.tmol_lj_cpu_cpp.blocked",
          "natoms": 5408,
          "nres": 298,
          "rosetta_relative": 0.4547763294021673,
          "time": 0.015344017185270786
         },
         {
          "device": "cpu",
          "impl": "blocked",
          "model": "BYSIZE_300",
          "name": "score.tmol_lj_cpu_cpp.blocked",
          "natoms": 5408,
          "nres": 298,
          "rosetta_relative": 0.5237904564997292,
          "time": 0.01767253316938877
         },
         {
          "device": "cpu",
          "impl": "blocked",
          "model": "BYSIZE_300",
          "name": "score.tmol_lj_cpu_cpp.blocked",
          "natoms": 5408,
          "nres": 298,
          "rosetta_relative": 0.42856412781554,
          "time": 0.014459625352174044
         },
         {
          "device": "cpu",
          "impl": "blocked",
          "model": "BYSIZE_300",
          "name": "score.tmol_lj_cpu_cpp.blocked",
          "natoms": 5408,
          "nres": 298,
          "rosetta_relative": 0.43055790453573795,
          "time": 0.01452689478173852
         },
         {
          "device": "cpu",
          "impl": "blocked",
          "model": "BYSIZE_300",
          "name": "score.tmol_lj_cpu_cpp.blocked",
          "natoms": 5408,
          "nres": 298,
          "rosetta_relative": 0.42523234280296834,
          "time": 0.014347211923450232
         },
         {
          "device": "cpu",
          "impl": "blocked",
          "model": "BYSIZE_300",
          "name": "score.tmol_lj_cpu_cpp.blocked",
          "natoms": 5408,
          "nres": 298,
          "rosetta_relative": 0.428210738275732,
          "time": 0.014447702094912529
         },
         {
          "device": "cpu",
          "impl": "blocked",
          "model": "BYSIZE_300",
          "name": "score.tmol_lj_cpu_cpp.blocked",
          "natoms": 5408,
          "nres": 298,
          "rosetta_relative": 0.4226244784364428,
          "time": 0.014259223360568285
         },
         {
          "device": "cpu",
          "impl": "blocked",
          "model": "BYSIZE_300",
          "name": "score.tmol_lj_cpu_cpp.blocked",
          "natoms": 5408,
          "nres": 298,
          "rosetta_relative": 0.43103390734137903,
          "time": 0.014542954973876476
         },
         {
          "device": "cpu",
          "impl": "blocked",
          "model": "BYSIZE_300",
          "name": "score.tmol_lj_cpu_cpp.blocked",
          "natoms": 5408,
          "nres": 298,
          "rosetta_relative": 0.42482860508736575,
          "time": 0.014333589933812618
         },
         {
          "device": "cpu",
          "impl": "blocked",
          "model": "BYSIZE_300",
          "name": "score.tmol_lj_cpu_cpp.blocked",
          "natoms": 5408,
          "nres": 298,
          "rosetta_relative": 0.4480136640090949,
          "time": 0.015115846879780293
         },
         {
          "device": "cpu",
          "impl": "blocked",
          "model": "BYSIZE_300",
          "name": "score.tmol_lj_cpu_cpp.blocked",
          "natoms": 5408,
          "nres": 298,
          "rosetta_relative": 0.42436019315252704,
          "time": 0.014317785855382681
         },
         {
          "device": "cpu",
          "impl": "blocked",
          "model": "BYSIZE_300",
          "name": "score.tmol_lj_cpu_cpp.blocked",
          "natoms": 5408,
          "nres": 298,
          "rosetta_relative": 0.4294227795175364,
          "time": 0.014488596003502607
         },
         {
          "device": "cpu",
          "impl": "blocked",
          "model": "BYSIZE_300",
          "name": "score.tmol_lj_cpu_cpp.blocked",
          "natoms": 5408,
          "nres": 298,
          "rosetta_relative": 0.42543463260905956,
          "time": 0.014354037120938301
         },
         {
          "device": "cpu",
          "impl": "blocked",
          "model": "BYSIZE_300",
          "name": "score.tmol_lj_cpu_cpp.blocked",
          "natoms": 5408,
          "nres": 298,
          "rosetta_relative": 0.4284142288195683,
          "time": 0.014454567804932594
         },
         {
          "device": "cpu",
          "impl": "blocked",
          "model": "BYSIZE_300",
          "name": "score.tmol_lj_cpu_cpp.blocked",
          "natoms": 5408,
          "nres": 298,
          "rosetta_relative": 0.42299803208941855,
          "time": 0.014271826948970556
         },
         {
          "device": "cpu",
          "impl": "naive",
          "model": "BYSIZE_300",
          "name": "score.tmol_lj_cpu_cpp.naive",
          "natoms": 5408,
          "nres": 298,
          "rosetta_relative": 3.0740514309336624,
          "time": 0.10371757484972477
         },
         {
          "device": "cpu",
          "impl": "naive",
          "model": "BYSIZE_300",
          "name": "score.tmol_lj_cpu_cpp.naive",
          "natoms": 5408,
          "nres": 298,
          "rosetta_relative": 3.0714201728834825,
          "time": 0.10362879699096084
         },
         {
          "device": "cpu",
          "impl": "naive",
          "model": "BYSIZE_300",
          "name": "score.tmol_lj_cpu_cpp.naive",
          "natoms": 5408,
          "nres": 298,
          "rosetta_relative": 3.0717355942676954,
          "time": 0.10363943921402097
         }
        ]
       },
       "layer": [
        {
         "data": {
          "name": "data-3cd728a985d592e13518c45ffb43b71f"
         },
         "encoding": {
          "color": {
           "field": "impl",
           "type": "nominal"
          },
          "shape": {
           "field": "device",
           "type": "nominal"
          },
          "x": {
           "axis": {
            "format": "s"
           },
           "field": "nres",
           "scale": {
            "base": 2,
            "type": "log"
           },
           "type": "quantitative"
          },
          "y": {
           "aggregate": "mean",
           "axis": {
            "format": "s"
           },
           "field": "time",
           "scale": {
            "base": 10,
            "type": "log"
           },
           "type": "quantitative"
          }
         },
         "mark": "line",
         "title": "atr/rep Forward Evaluation"
        },
        {
         "data": {
          "name": "data-3cd728a985d592e13518c45ffb43b71f"
         },
         "encoding": {
          "color": {
           "field": "impl",
           "type": "nominal"
          },
          "shape": {
           "field": "device",
           "type": "nominal"
          },
          "x": {
           "axis": {
            "format": "s"
           },
           "field": "nres",
           "scale": {
            "base": 2,
            "type": "log"
           },
           "type": "quantitative"
          },
          "y": {
           "aggregate": "mean",
           "axis": {
            "format": "s"
           },
           "field": "time",
           "scale": {
            "base": 10,
            "type": "log"
           },
           "type": "quantitative"
          }
         },
         "mark": {
          "size": 100,
          "type": "point"
         }
        }
       ]
      },
      "image/png": "[encoded data removed]",
      "text/plain": [
       "<VegaLite 2 object>\n",
       "\n",
       "If you see this message, it means the renderer has not been properly enabled\n",
       "for the frontend that you are using. For more information, see\n",
       "https://altair-viz.github.io/user_guide/troubleshooting.html\n"
      ]
     },
     "execution_count": 47,
     "metadata": {},
     "output_type": "execute_result"
    }
   ],
   "source": [
    "dat = stat_frame(rosetta_score_results)\n",
    "dat = pandas.concat(\n",
    "    (\n",
    "        dat,\n",
    "        pandas.merge(\n",
    "            dat,\n",
    "            dat.query(\"name == 'score.rosetta_atr_rep'\")\n",
    "            .groupby(\"model\")\n",
    "            .time.mean()\n",
    "            .rename(\"rosetta_mean\")\n",
    "            .to_frame(),\n",
    "            left_on=\"model\",\n",
    "            right_index=True,\n",
    "        )\n",
    "        .eval(\"time / rosetta_mean\")\n",
    "        .rename(\"rosetta_relative\"),\n",
    "    ),\n",
    "    axis=1,\n",
    ")\n",
    "\n",
    "encoding = dict(\n",
    "    x=altair.X(\n",
    "        \"nres\", axis=altair.Axis(format=\"s\"), scale=altair.Scale(type=\"log\", base=2)\n",
    "    ),\n",
    "    y=altair.Y(\n",
    "        \"mean(time)\",\n",
    "        scale=altair.Scale(type=\"log\", base=10),\n",
    "        axis=altair.Axis(format=\"s\"),\n",
    "    ),\n",
    "    color=\"impl\",\n",
    "    shape=\"device\",\n",
    ")\n",
    "\n",
    "sum(\n",
    "    (\n",
    "        altair.Chart(dat, title=\"atr/rep Forward Evaluation\")\n",
    "        .mark_line()\n",
    "        .encode(**encoding),\n",
    "        altair.Chart(dat).mark_point(size=100).encode(**encoding)\n",
    "    )\n",
    ")\n"
   ]
  },
  {
   "cell_type": "code",
   "execution_count": 48,
   "metadata": {},
   "outputs": [
    {
     "data": {
      "application/vnd.vegalite.v2+json": {
       "$schema": "https://vega.github.io/schema/vega-lite/v2.6.0.json",
       "config": {
        "axis": {
         "labelFontSize": 16,
         "titleFontSize": 16
        },
        "header": {
         "labelFontSize": 16,
         "titleFontSize": 16
        },
        "legend": {
         "labelFontSize": 16,
         "titleFontSize": 16
        },
        "title": {
         "fontSize": 16
        },
        "view": {
         "height": 500,
         "width": 800
        }
       },
       "datasets": {
        "data-50f4a389692d983de2d9d506ec6e8deb": [
         {
          "bit_frac": 0.2276888504116856,
          "dsize": 100
         },
         {
          "bit_frac": 0.1474646272048632,
          "dsize": 150
         },
         {
          "bit_frac": 0.41810841983852365,
          "dsize": 40
         },
         {
          "bit_frac": 0.2619267466912896,
          "dsize": 75
         },
         {
          "bit_frac": 0.33799725651577506,
          "dsize": 55
         },
         {
          "bit_frac": 0.6565656565656566,
          "dsize": 15
         },
         {
          "bit_frac": 0.035870565431905393,
          "dsize": 800
         },
         {
          "bit_frac": 0.06949586693661144,
          "dsize": 400
         },
         {
          "bit_frac": 0.11711285379484405,
          "dsize": 250
         },
         {
          "bit_frac": 0.12957037037037036,
          "dsize": 200
         },
         {
          "bit_frac": 0.031303787653446255,
          "dsize": 950
         },
         {
          "bit_frac": 0.04949988152130109,
          "dsize": 600
         },
         {
          "bit_frac": 0.05690388632104551,
          "dsize": 500
         },
         {
          "bit_frac": 0.09437694758586884,
          "dsize": 300
         }
        ]
       },
       "layer": [
        {
         "data": {
          "name": "data-50f4a389692d983de2d9d506ec6e8deb"
         },
         "encoding": {
          "x": {
           "field": "dsize",
           "type": "quantitative"
          },
          "y": {
           "field": "bit_frac",
           "type": "quantitative"
          }
         },
         "mark": "line"
        },
        {
         "data": {
          "name": "data-50f4a389692d983de2d9d506ec6e8deb"
         },
         "encoding": {
          "x": {
           "field": "dsize",
           "type": "quantitative"
          },
          "y": {
           "field": "bit_frac",
           "type": "quantitative"
          }
         },
         "mark": "point"
        }
       ]
      },
      "image/png": "[encoded data removed]",
      "text/plain": [
       "<VegaLite 2 object>\n",
       "\n",
       "If you see this message, it means the renderer has not been properly enabled\n",
       "for the frontend that you are using. For more information, see\n",
       "https://altair-viz.github.io/user_guide/troubleshooting.html\n"
      ]
     },
     "execution_count": 48,
     "metadata": {},
     "output_type": "execute_result"
    }
   ],
   "source": [
    "rec = []\n",
    "for dsize, d in decoys.items():\n",
    "    bit = tmol.score.ljlk.cpp_potential.cpu.block_interaction_lists(d.tmol_coords, 6.0, 8)\n",
    "    bit_frac = float(bit.shape[0]) / (d.tmol_coords.shape[0] / 8) ** 2\n",
    "    rec.append(dict(dsize=dsize, bit_frac=bit_frac))\n",
    "\n",
    "c = altair.Chart(pandas.DataFrame.from_records(rec))\n",
    "\n",
    "sum([c.mark_line().encode(x=\"dsize\", y=\"bit_frac\"), c.mark_point().encode(x=\"dsize\", y=\"bit_frac\")])"
   ]
  },
  {
   "cell_type": "code",
   "execution_count": 49,
   "metadata": {},
   "outputs": [
    {
     "data": {
      "text/html": [
       "<div>\n",
       "<style scoped>\n",
       "    .dataframe tbody tr th:only-of-type {\n",
       "        vertical-align: middle;\n",
       "    }\n",
       "\n",
       "    .dataframe tbody tr th {\n",
       "        vertical-align: top;\n",
       "    }\n",
       "\n",
       "    .dataframe thead tr th {\n",
       "        text-align: left;\n",
       "    }\n",
       "\n",
       "    .dataframe thead tr:last-of-type th {\n",
       "        text-align: right;\n",
       "    }\n",
       "</style>\n",
       "<table border=\"1\" class=\"dataframe\">\n",
       "  <thead>\n",
       "    <tr>\n",
       "      <th></th>\n",
       "      <th>mean</th>\n",
       "      <th>max</th>\n",
       "      <th>std</th>\n",
       "    </tr>\n",
       "    <tr>\n",
       "      <th></th>\n",
       "      <th>time</th>\n",
       "      <th>time</th>\n",
       "      <th>time</th>\n",
       "    </tr>\n",
       "    <tr>\n",
       "      <th>nres</th>\n",
       "      <th></th>\n",
       "      <th></th>\n",
       "      <th></th>\n",
       "    </tr>\n",
       "  </thead>\n",
       "  <tbody>\n",
       "    <tr>\n",
       "      <th>14</th>\n",
       "      <td>0.000415</td>\n",
       "      <td>0.000653</td>\n",
       "      <td>0.000054</td>\n",
       "    </tr>\n",
       "    <tr>\n",
       "      <th>43</th>\n",
       "      <td>0.004287</td>\n",
       "      <td>0.007296</td>\n",
       "      <td>0.000601</td>\n",
       "    </tr>\n",
       "    <tr>\n",
       "      <th>56</th>\n",
       "      <td>0.004117</td>\n",
       "      <td>0.006306</td>\n",
       "      <td>0.000522</td>\n",
       "    </tr>\n",
       "    <tr>\n",
       "      <th>73</th>\n",
       "      <td>0.005058</td>\n",
       "      <td>0.006473</td>\n",
       "      <td>0.000278</td>\n",
       "    </tr>\n",
       "    <tr>\n",
       "      <th>97</th>\n",
       "      <td>0.011554</td>\n",
       "      <td>0.012805</td>\n",
       "      <td>0.001493</td>\n",
       "    </tr>\n",
       "    <tr>\n",
       "      <th>154</th>\n",
       "      <td>0.014568</td>\n",
       "      <td>0.014763</td>\n",
       "      <td>0.000151</td>\n",
       "    </tr>\n",
       "    <tr>\n",
       "      <th>197</th>\n",
       "      <td>0.019519</td>\n",
       "      <td>0.019888</td>\n",
       "      <td>0.000152</td>\n",
       "    </tr>\n",
       "    <tr>\n",
       "      <th>233</th>\n",
       "      <td>0.031247</td>\n",
       "      <td>0.033439</td>\n",
       "      <td>0.004000</td>\n",
       "    </tr>\n",
       "    <tr>\n",
       "      <th>298</th>\n",
       "      <td>0.033740</td>\n",
       "      <td>0.034100</td>\n",
       "      <td>0.000244</td>\n",
       "    </tr>\n",
       "    <tr>\n",
       "      <th>370</th>\n",
       "      <td>0.040045</td>\n",
       "      <td>0.040362</td>\n",
       "      <td>0.000246</td>\n",
       "    </tr>\n",
       "    <tr>\n",
       "      <th>488</th>\n",
       "      <td>0.057967</td>\n",
       "      <td>0.058368</td>\n",
       "      <td>0.000411</td>\n",
       "    </tr>\n",
       "    <tr>\n",
       "      <th>548</th>\n",
       "      <td>0.068501</td>\n",
       "      <td>0.069254</td>\n",
       "      <td>0.000506</td>\n",
       "    </tr>\n",
       "    <tr>\n",
       "      <th>753</th>\n",
       "      <td>0.093449</td>\n",
       "      <td>0.093867</td>\n",
       "      <td>0.000375</td>\n",
       "    </tr>\n",
       "    <tr>\n",
       "      <th>956</th>\n",
       "      <td>0.123948</td>\n",
       "      <td>0.125391</td>\n",
       "      <td>0.001259</td>\n",
       "    </tr>\n",
       "  </tbody>\n",
       "</table>\n",
       "</div>"
      ],
      "text/plain": [
       "          mean       max       std\n",
       "          time      time      time\n",
       "nres                              \n",
       "14    0.000415  0.000653  0.000054\n",
       "43    0.004287  0.007296  0.000601\n",
       "56    0.004117  0.006306  0.000522\n",
       "73    0.005058  0.006473  0.000278\n",
       "97    0.011554  0.012805  0.001493\n",
       "154   0.014568  0.014763  0.000151\n",
       "197   0.019519  0.019888  0.000152\n",
       "233   0.031247  0.033439  0.004000\n",
       "298   0.033740  0.034100  0.000244\n",
       "370   0.040045  0.040362  0.000246\n",
       "488   0.057967  0.058368  0.000411\n",
       "548   0.068501  0.069254  0.000506\n",
       "753   0.093449  0.093867  0.000375\n",
       "956   0.123948  0.125391  0.001259"
      ]
     },
     "metadata": {},
     "output_type": "display_data"
    },
    {
     "data": {
      "text/html": [
       "<div>\n",
       "<style scoped>\n",
       "    .dataframe tbody tr th:only-of-type {\n",
       "        vertical-align: middle;\n",
       "    }\n",
       "\n",
       "    .dataframe tbody tr th {\n",
       "        vertical-align: top;\n",
       "    }\n",
       "\n",
       "    .dataframe thead th {\n",
       "        text-align: right;\n",
       "    }\n",
       "</style>\n",
       "<table border=\"1\" class=\"dataframe\">\n",
       "  <thead>\n",
       "    <tr style=\"text-align: right;\">\n",
       "      <th></th>\n",
       "      <th>rosetta_relative</th>\n",
       "      <th>time</th>\n",
       "      <th>fold_acceleration</th>\n",
       "    </tr>\n",
       "    <tr>\n",
       "      <th>nres</th>\n",
       "      <th></th>\n",
       "      <th></th>\n",
       "      <th></th>\n",
       "    </tr>\n",
       "  </thead>\n",
       "  <tbody>\n",
       "    <tr>\n",
       "      <th>14</th>\n",
       "      <td>0.865164</td>\n",
       "      <td>0.000359</td>\n",
       "      <td>1.155850</td>\n",
       "    </tr>\n",
       "    <tr>\n",
       "      <th>43</th>\n",
       "      <td>0.453479</td>\n",
       "      <td>0.001944</td>\n",
       "      <td>2.205171</td>\n",
       "    </tr>\n",
       "    <tr>\n",
       "      <th>56</th>\n",
       "      <td>0.600381</td>\n",
       "      <td>0.002472</td>\n",
       "      <td>1.665609</td>\n",
       "    </tr>\n",
       "    <tr>\n",
       "      <th>73</th>\n",
       "      <td>0.522258</td>\n",
       "      <td>0.002641</td>\n",
       "      <td>1.914762</td>\n",
       "    </tr>\n",
       "    <tr>\n",
       "      <th>97</th>\n",
       "      <td>0.374898</td>\n",
       "      <td>0.004331</td>\n",
       "      <td>2.667391</td>\n",
       "    </tr>\n",
       "    <tr>\n",
       "      <th>154</th>\n",
       "      <td>0.478069</td>\n",
       "      <td>0.006965</td>\n",
       "      <td>2.091747</td>\n",
       "    </tr>\n",
       "    <tr>\n",
       "      <th>197</th>\n",
       "      <td>0.449490</td>\n",
       "      <td>0.008774</td>\n",
       "      <td>2.224744</td>\n",
       "    </tr>\n",
       "    <tr>\n",
       "      <th>233</th>\n",
       "      <td>0.329477</td>\n",
       "      <td>0.010295</td>\n",
       "      <td>3.035115</td>\n",
       "    </tr>\n",
       "    <tr>\n",
       "      <th>298</th>\n",
       "      <td>0.436551</td>\n",
       "      <td>0.014729</td>\n",
       "      <td>2.290684</td>\n",
       "    </tr>\n",
       "    <tr>\n",
       "      <th>370</th>\n",
       "      <td>0.477201</td>\n",
       "      <td>0.019110</td>\n",
       "      <td>2.095554</td>\n",
       "    </tr>\n",
       "    <tr>\n",
       "      <th>488</th>\n",
       "      <td>0.464420</td>\n",
       "      <td>0.026921</td>\n",
       "      <td>2.153223</td>\n",
       "    </tr>\n",
       "    <tr>\n",
       "      <th>548</th>\n",
       "      <td>0.468435</td>\n",
       "      <td>0.032088</td>\n",
       "      <td>2.134766</td>\n",
       "    </tr>\n",
       "    <tr>\n",
       "      <th>753</th>\n",
       "      <td>0.464951</td>\n",
       "      <td>0.043449</td>\n",
       "      <td>2.150765</td>\n",
       "    </tr>\n",
       "    <tr>\n",
       "      <th>956</th>\n",
       "      <td>0.470960</td>\n",
       "      <td>0.058375</td>\n",
       "      <td>2.123324</td>\n",
       "    </tr>\n",
       "  </tbody>\n",
       "</table>\n",
       "</div>"
      ],
      "text/plain": [
       "      rosetta_relative      time  fold_acceleration\n",
       "nres                                               \n",
       "14            0.865164  0.000359           1.155850\n",
       "43            0.453479  0.001944           2.205171\n",
       "56            0.600381  0.002472           1.665609\n",
       "73            0.522258  0.002641           1.914762\n",
       "97            0.374898  0.004331           2.667391\n",
       "154           0.478069  0.006965           2.091747\n",
       "197           0.449490  0.008774           2.224744\n",
       "233           0.329477  0.010295           3.035115\n",
       "298           0.436551  0.014729           2.290684\n",
       "370           0.477201  0.019110           2.095554\n",
       "488           0.464420  0.026921           2.153223\n",
       "548           0.468435  0.032088           2.134766\n",
       "753           0.464951  0.043449           2.150765\n",
       "956           0.470960  0.058375           2.123324"
      ]
     },
     "metadata": {},
     "output_type": "display_data"
    }
   ],
   "source": [
    "display((\n",
    "    dat.query(\"name=='score.rosetta_atr_rep'\")\n",
    "    .groupby(\"nres\")[[\"time\"]]\n",
    "    .describe().reorder_levels((1, 0), axis=1)[[\"mean\", \"max\", \"std\"]]\n",
    "))\n",
    "\n",
    "display((dat\n",
    "    .groupby((\"nres\", \"name\"))[[\"rosetta_relative\", \"time\"]]\n",
    "    .describe()\n",
    "    .reorder_levels((1, 0), axis=1)[\"mean\"]\n",
    "    .xs(\"score.tmol_lj_cpu_cpp.blocked\", level=1)\n",
    "    .eval(\"fold_acceleration = rosetta_relative ** -1\")\n",
    "))"
   ]
  },
  {
   "cell_type": "code",
   "execution_count": null,
   "metadata": {},
   "outputs": [],
   "source": []
  }
 ],
 "metadata": {
  "kernelspec": {
   "display_name": "Python [conda env:tmol]",
   "language": "python",
   "name": "conda-env-tmol-py"
  },
  "language_info": {
   "codemirror_mode": {
    "name": "ipython",
    "version": 3
   },
   "file_extension": ".py",
   "mimetype": "text/x-python",
   "name": "python",
   "nbconvert_exporter": "python",
   "pygments_lexer": "ipython3",
   "version": "3.6.6"
  },
  "toc-autonumbering": true,
  "toc-showcode": false,
  "toc-showmarkdowntxt": false,
  "toc-showtags": false
 },
 "nbformat": 4,
 "nbformat_minor": 2
}
