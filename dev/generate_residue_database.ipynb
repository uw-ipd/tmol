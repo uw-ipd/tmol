{
 "cells": [
  {
   "cell_type": "code",
   "execution_count": 33,
   "metadata": {},
   "outputs": [],
   "source": [
    "import os\n",
    "import io\n",
    "import re\n",
    "import glob\n",
    "import toolz"
   ]
  },
  {
   "cell_type": "code",
   "execution_count": 34,
   "metadata": {},
   "outputs": [],
   "source": [
    "import pandas"
   ]
  },
  {
   "cell_type": "code",
   "execution_count": 35,
   "metadata": {},
   "outputs": [],
   "source": [
    "import properties\n",
    "from tmol.properties.reactive import cached"
   ]
  },
  {
   "cell_type": "code",
   "execution_count": 36,
   "metadata": {},
   "outputs": [],
   "source": [
    "from toolz import curry, filter, compose, concat"
   ]
  },
  {
   "cell_type": "code",
   "execution_count": 61,
   "metadata": {},
   "outputs": [],
   "source": [
    "class ResidueType(properties.HasProperties):\n",
    "    source = properties.File(\"source params file\", mode=\"r\")\n",
    "    \n",
    "    filters = compose(\n",
    "        str.strip,\n",
    "        curry(re.sub)(\"#.*\", \"\"),\n",
    "        curry(re.sub)(\"\\t\", \" \"),\n",
    "    )\n",
    "    \n",
    "    @cached(properties.Dictionary(\"params lines, split by line key\"))\n",
    "    def lines(self):\n",
    "        raw = [self.filters(l) for l in self.source.readlines()]\n",
    "        \n",
    "        return toolz.groupby(lambda l: l.split()[0], [l for l in raw if l])\n",
    "    \n",
    "    subtables = [\n",
    "        (\"NAME\", (\"NAME\",), (\"NAME\", \"name\")),\n",
    "        (\"AA\", (\"AA\",), (\"AA\", \"name\")),\n",
    "        (\"ATOM\", (\"ATOM\",), (\"ATOM\", \"name\", \"atom_type\", \"_mm_atom_type\", \"_charge\", \"_charge2\")),\n",
    "        (\"BOND\", (\"BOND\", \"BOND_TYPE\"), (\"BOND\", \"atom_a\", \"atom_b\")),\n",
    "        (\"ICOOR_INTERNAL\", (\"ICOOR_INTERNAL\",), (\"ICOOR_INTERNAL\", \"name\", \"t1\", \"t2\", \"d\", \"p1\", \"p2\", \"p3\")),\n",
    "        (\"LOWER_CONNECT\", (\"LOWER_CONNECT\",), (\"LOWER_CONNECT\", \"name\")),\n",
    "        (\"UPPER_CONNECT\", (\"UPPER_CONNECT\",), (\"UPPER_CONNECT\", \"name\")),\n",
    "    ]\n",
    "   \n",
    "    @property\n",
    "    def tables(self):\n",
    "        result = {}\n",
    "        for name, record_names, column_names in self.subtables:\n",
    "            table = pandas.read_table(\n",
    "                io.StringIO(\"\\n\".join(toolz.concat(self.lines[k] for k in record_names))),\n",
    "                sep=\"\\s+\",\n",
    "                header=None,\n",
    "                names=column_names,\n",
    "            )\n",
    "            \n",
    "            for n in table.columns:\n",
    "                if n.startswith(\"_\"):\n",
    "                    del table[n]\n",
    "            table[table.columns[0]] = table.columns[0]\n",
    "            del table[name]\n",
    "            result[name] = table\n",
    "        return result\n"
   ]
  },
  {
   "cell_type": "code",
   "execution_count": 62,
   "metadata": {},
   "outputs": [],
   "source": [
    "class ResidueTypes(properties.HasProperties):\n",
    "    res_db = properties.String(\"base dir for residue parameters files\")\n",
    "    \n",
    "    @property\n",
    "    def res(self):\n",
    "        return [\n",
    "            ResidueType(source = f) for f in glob.glob(f\"{self.res_db}/*.params\")\n",
    "        ]\n",
    "    \n",
    "    @property\n",
    "    def json(self):\n",
    "        return [\n",
    "            r.json for r in self.res\n",
    "        ]"
   ]
  },
  {
   "cell_type": "code",
   "execution_count": 63,
   "metadata": {},
   "outputs": [],
   "source": [
    "rosetta_db = \"/home/fordas/workspace/rosetta/main/database\"\n",
    "l_caa = f\"{rosetta_db}/chemical/residue_type_sets/fa_standard/residue_types/l-caa\""
   ]
  },
  {
   "cell_type": "code",
   "execution_count": 64,
   "metadata": {},
   "outputs": [],
   "source": [
    "from toolz.curried import concat, get"
   ]
  },
  {
   "cell_type": "code",
   "execution_count": 65,
   "metadata": {},
   "outputs": [],
   "source": [
    "rdb = ResidueTypes(res_db = l_caa)"
   ]
  },
  {
   "cell_type": "code",
   "execution_count": 76,
   "metadata": {},
   "outputs": [],
   "source": [
    "res_by_name = {r.tables[\"NAME\"].name.values[0] : r for r in rdb.res}\n",
    "\n",
    "#Seeing error due to invalid connect record formatting on CYS variants, need to add validation logic to data input.\n",
    "del res_by_name[\"CYV\"]\n",
    "del res_by_name[\"CYZ\"]"
   ]
  },
  {
   "cell_type": "code",
   "execution_count": 77,
   "metadata": {},
   "outputs": [],
   "source": [
    "from tmol.io.flatfiledb import FlatFileDB"
   ]
  },
  {
   "cell_type": "code",
   "execution_count": 78,
   "metadata": {},
   "outputs": [],
   "source": [
    "import json\n",
    "!mkdir -p ../tmol/database/basic/l-caa"
   ]
  },
  {
   "cell_type": "code",
   "execution_count": 80,
   "metadata": {},
   "outputs": [],
   "source": [
    "for resn, r in res_by_name.items():\n",
    "    with open(f\"../tmol/database/basic/l-caa/{resn}.params\", \"w\") as of:\n",
    "        of.write(FlatFileDB.write(r.tables))"
   ]
  }
 ],
 "metadata": {
  "gist": {
   "data": {
    "description": "workspace/tmol/dev/generate_residue_database.ipynb",
    "public": true
   },
   "id": ""
  },
  "kernelspec": {
   "display_name": "Python [conda env:tmol]",
   "language": "python",
   "name": "conda-env-tmol-py"
  },
  "language_info": {
   "codemirror_mode": {
    "name": "ipython",
    "version": 3
   },
   "file_extension": ".py",
   "mimetype": "text/x-python",
   "name": "python",
   "nbconvert_exporter": "python",
   "pygments_lexer": "ipython3",
   "version": "3.6.4"
  },
  "toc": {
   "nav_menu": {},
   "number_sections": true,
   "sideBar": true,
   "skip_h1_title": false,
   "title_cell": "Table of Contents",
   "title_sidebar": "Contents",
   "toc_cell": false,
   "toc_position": {},
   "toc_section_display": true,
   "toc_window_display": false
  }
 },
 "nbformat": 4,
 "nbformat_minor": 2
}
