{
 "cells": [
  {
   "cell_type": "code",
   "execution_count": 42,
   "metadata": {},
   "outputs": [],
   "source": [
    "import sparse"
   ]
  },
  {
   "cell_type": "code",
   "execution_count": 58,
   "metadata": {},
   "outputs": [],
   "source": [
    "import numpy"
   ]
  },
  {
   "cell_type": "code",
   "execution_count": 159,
   "metadata": {},
   "outputs": [],
   "source": [
    "import scipy.sparse\n",
    "import scipy.sparse.csgraph"
   ]
  },
  {
   "cell_type": "code",
   "execution_count": 160,
   "metadata": {},
   "outputs": [],
   "source": [
    "from tmol.kinematics.builder import KinematicBuilder"
   ]
  },
  {
   "cell_type": "code",
   "execution_count": 161,
   "metadata": {},
   "outputs": [],
   "source": [
    "from tmol.tests.conftest import ubq_system"
   ]
  },
  {
   "cell_type": "code",
   "execution_count": 267,
   "metadata": {},
   "outputs": [],
   "source": [
    "sys = ubq_system()"
   ]
  },
  {
   "cell_type": "code",
   "execution_count": 381,
   "metadata": {},
   "outputs": [],
   "source": [
    "import numba\n",
    "\n",
    "@numba.jit(nopython=True, nogil=True)\n",
    "def find_unsorted(coords, allow_dup):\n",
    "    \"\"\"Find first non-sorted entry in a [radix, ncoord] coord array.\"\"\"\n",
    "    radix, ncoords = coords.shape\n",
    "    \n",
    "    \n",
    "    for c in range(ncoords-1):\n",
    "        all_equal = True\n",
    "        for r in range(radix):\n",
    "            if coords[r, c] > coords[r, c+1]:\n",
    "                return c\n",
    "            elif coords[r, c] < coords[r, c+1]:\n",
    "                all_equal = False\n",
    "                break\n",
    "                \n",
    "        if all_equal and not allow_dup:\n",
    "            return \n",
    "        \n",
    "    return None\n",
    "\n",
    "def is_sorted(array, allow_dup = False):\n",
    "    \"\"\"Check if a [radix, ncoord] sparse coord array is sorted.\"\"\"\n",
    "    if find_unsorted(array, allow_dup) is not None:\n",
    "        return False\n",
    "    else:\n",
    "        return True"
   ]
  },
  {
   "cell_type": "code",
   "execution_count": 391,
   "metadata": {},
   "outputs": [],
   "source": [
    "bg = sparse.COO(sys.bonds.T, data = numpy.full(len(sys.bonds), True), cache=True)"
   ]
  },
  {
   "cell_type": "code",
   "execution_count": 398,
   "metadata": {},
   "outputs": [
    {
     "data": {
      "text/plain": [
       "(1471, 1471)"
      ]
     },
     "execution_count": 398,
     "metadata": {},
     "output_type": "execute_result"
    }
   ],
   "source": [
    "bg.shape"
   ]
  },
  {
   "cell_type": "code",
   "execution_count": 396,
   "metadata": {},
   "outputs": [],
   "source": [
    "bpl = scipy.sparse.csgraph.dijkstra(bg.tocsr(), directed=False, unweighted=True,  limit=3)"
   ]
  },
  {
   "cell_type": "code",
   "execution_count": 397,
   "metadata": {},
   "outputs": [
    {
     "data": {
      "text/plain": [
       "array([[ 0.,  1.,  2.,  3.,  2.,  3., inf, inf,  1.,  2.,  3.,  3., inf,\n",
       "        inf, inf],\n",
       "       [ 1.,  0.,  1.,  2.,  1.,  2.,  3., inf,  2.,  1.,  2.,  2.,  3.,\n",
       "         3., inf],\n",
       "       [ 2.,  1.,  0.,  1.,  2.,  3., inf, inf,  3.,  2.,  3.,  3., inf,\n",
       "        inf, inf],\n",
       "       [ 3.,  2.,  1.,  0.,  3., inf, inf, inf, inf,  3., inf, inf, inf,\n",
       "        inf, inf],\n",
       "       [ 2.,  1.,  2.,  3.,  0.,  1.,  2.,  3.,  3.,  2.,  1.,  1.,  2.,\n",
       "         2., inf],\n",
       "       [ 3.,  2.,  3., inf,  1.,  0.,  1.,  2., inf,  3.,  2.,  2.,  1.,\n",
       "         1.,  3.],\n",
       "       [inf,  3., inf, inf,  2.,  1.,  0.,  1., inf, inf,  3.,  3.,  2.,\n",
       "         2.,  2.],\n",
       "       [inf, inf, inf, inf,  3.,  2.,  1.,  0., inf, inf, inf, inf,  3.,\n",
       "         3.,  1.],\n",
       "       [ 1.,  2.,  3., inf,  3., inf, inf, inf,  0.,  3., inf, inf, inf,\n",
       "        inf, inf],\n",
       "       [ 2.,  1.,  2.,  3.,  2.,  3., inf, inf,  3.,  0.,  3.,  3., inf,\n",
       "        inf, inf],\n",
       "       [ 3.,  2.,  3., inf,  1.,  2.,  3., inf, inf,  3.,  0.,  2.,  3.,\n",
       "         3., inf],\n",
       "       [ 3.,  2.,  3., inf,  1.,  2.,  3., inf, inf,  3.,  2.,  0.,  3.,\n",
       "         3., inf],\n",
       "       [inf,  3., inf, inf,  2.,  1.,  2.,  3., inf, inf,  3.,  3.,  0.,\n",
       "         2., inf],\n",
       "       [inf,  3., inf, inf,  2.,  1.,  2.,  3., inf, inf,  3.,  3.,  2.,\n",
       "         0., inf],\n",
       "       [inf, inf, inf, inf, inf,  3.,  2.,  1., inf, inf, inf, inf, inf,\n",
       "        inf,  0.]])"
      ]
     },
     "execution_count": 397,
     "metadata": {},
     "output_type": "execute_result"
    }
   ],
   "source": [
    "bpl[:15, :15]"
   ]
  },
  {
   "cell_type": "code",
   "execution_count": null,
   "metadata": {},
   "outputs": [],
   "source": []
  }
 ],
 "metadata": {
  "kernelspec": {
   "display_name": "Python [conda env:tmol]",
   "language": "python",
   "name": "conda-env-tmol-py"
  },
  "language_info": {
   "codemirror_mode": {
    "name": "ipython",
    "version": 3
   },
   "file_extension": ".py",
   "mimetype": "text/x-python",
   "name": "python",
   "nbconvert_exporter": "python",
   "pygments_lexer": "ipython3",
   "version": "3.6.5"
  },
  "toc": {
   "base_numbering": 1,
   "nav_menu": {},
   "number_sections": true,
   "sideBar": true,
   "skip_h1_title": false,
   "title_cell": "Table of Contents",
   "title_sidebar": "Contents",
   "toc_cell": false,
   "toc_position": {},
   "toc_section_display": true,
   "toc_window_display": false
  }
 },
 "nbformat": 4,
 "nbformat_minor": 2
}
