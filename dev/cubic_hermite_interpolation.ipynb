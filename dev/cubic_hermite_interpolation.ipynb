{
 "cells": [
  {
   "cell_type": "markdown",
   "metadata": {},
   "source": [
    "# Cubic Hermite Splines \n",
    "\n",
    "\n",
    "## Unit interval $(0, 1)$\n",
    "Given endpoints $\\boldsymbol{p}(0) = p_0$ and $\\boldsymbol{p}(1) = p_1$ and derivatives $\\boldsymbol{p}^\\prime(0) = m_0$ and $\\boldsymbol{p}^\\prime(1) = m_1$, the polynomial can be uniquely defined by: \n",
    "\n",
    "$\\boldsymbol{p}(t) = h_{00}(t)\\boldsymbol{p}_0 + h_{10}(t)\\boldsymbol{m}_0 + h_{01}(t)\\boldsymbol{p}_1 + h_{11}(t)\\boldsymbol{m}_1$\n",
    "\n",
    "where $h_{00}$, $h_{10}$, $h_{01}$, $h_{11}$ are Hermite basis functions:\n",
    "\n",
    "| Basis&#x2001; | &#x2001; Expanded &#x2001; | &#x2001;&#x2001; Factorized  &#x2001; |\n",
    "|---------------|--------------------|------------------------|\n",
    "| $h_{00}(t)$   | $2t^3-3t^2+1$      | $(1 + 2 t) ( 1 - t)^2$ |\n",
    "| $h_{10}(t)$   | $t^3-2t^2+t$       | $t (1 - t)^2$          |\n",
    "| $h_{01}(t)$   | $-2t^3+3t^2$       | $t^2 (3 - 2 t)$        |\n",
    "| $h_{11}(t)$   | $t^3-t^2$          | $t^2 (t - 1)$          |\n",
    "\n",
    "and $t ∈ [0, 1]$.\n",
    "\n",
    "The \"factorized\" column shows immediately, that $h_{10}$ and $h_{11}$ are zero at the boundaries.\n",
    "You can further conclude that $h_{01}$ and $h_{11}$ have a zero of multiplicity 2 at 0 and $h_{00}$ and $h_{10}$ have such a zero at 1, thus they have slope 0 at those boundaries.\n",
    "\n",
    "## Interpolation on an arbitrary interval.\n",
    "\n",
    "Interpolating $x$ in an arbitrary interval $(x_0, x_1)$ is done by mapping the latter to $t ∈ [0,1]$ through an affine change of variable: $t = \\frac{x - x_0}{x_1 - x_0}$.\n",
    "\n",
    "Not that this requires derivative scaling: $\\frac{dp}{dt} = \\frac{dp}{dx} \\left(x_1 - x_0\\right)$ and $\\frac{dp}{dx} = \\frac{dp}{dt} \\left(x_1 - x_0\\right)^{-1}$.\n",
    "\n",
    "## Implementation \n",
    "The polynomial is most effeciently evaluated in [horner form](https://en.wikipedia.org/wiki/Horner%27s_method), and can be further specialized for the common \"interpolate to zero\" case."
   ]
  },
  {
   "cell_type": "code",
   "execution_count": 4,
   "metadata": {},
   "outputs": [],
   "source": [
    "import sympy\n",
    "\n",
    "def poly(coeffs, var):\n",
    "    return sympy.Poly.from_list(coeffs, var).as_expr()\n",
    "\n",
    "def horner_poly(expr, var):\n",
    "    from sympy.polys.polyfuncs import horner\n",
    "    return horner(sympy.Poly(expr), var)"
   ]
  },
  {
   "cell_type": "code",
   "execution_count": 5,
   "metadata": {},
   "outputs": [],
   "source": [
    "t, p0, p1, dp0, dp1 = sympy.symbols(\"t, p0, p1, dp0, dp1\")\n",
    "h_00 = poly((2, -3, 0, 1), t)\n",
    "h_10 = poly((1, -2, 1, 0), t)\n",
    "h_01 = poly((-2, 3, 0, 0), t)\n",
    "h_11 = poly((1, -1, 0, 0), t)\n",
    "\n",
    "p = h_00 * p0 + h_10 * dp0 + h_01 * p1 + h_11 * dp1"
   ]
  },
  {
   "cell_type": "code",
   "execution_count": 6,
   "metadata": {},
   "outputs": [
    {
     "data": {
      "text/markdown": [
       "\n",
       "```python\n",
       "\n",
       "def interpolate_t(t, p0, dp0, p1,  dp1):\n",
       "    \"\"\"Cubic hermite interpolation of p on t in [0, 1].\"\"\"\n",
       "    return p0 + t*(dp0 + t*(-2*dp0 - dp1 - 3*p0 + 3*p1 + t*(dp0 + dp1 + 2*p0 - 2*p1)))\n",
       "    \n",
       "def interpolate_dt(t, p0, dp0, p1, dp1):\n",
       "    \"\"\"Cubic hermite interpolation of dp/dt on t in [0, 1].\"\"\"\n",
       "    return dp0 + t*(-4*dp0 - 2*dp1 - 6*p0 + 6*p1 + t*(3*dp0 + 3*dp1 + 6*p0 - 6*p1))\n",
       "    \n",
       "def interpolate_to_zero_t(t, p0, dp0):\n",
       "    \"\"\"Cubic hermite interpolation of p on t in [0, 1] to (p1, dp1) == 0.\"\"\"\n",
       "    return p0 + t*(dp0 + t*(-2*dp0 - 3*p0 + t*(dp0 + 2*p0)))\n",
       "    \n",
       "def interpolate_to_zero_dt(t, p0, dp0):\n",
       "    \"\"\"Cubic hermite interpolation of dp/dt on t in [0, 1] to (p1, dp1) == 0.\"\"\"\n",
       "    return p0 + t*(dp0 + t*(-2*dp0 - 3*p0 + t*(dp0 + 2*p0)))\n",
       "\n",
       "```\n"
      ]
     },
     "metadata": {},
     "output_type": "display_data"
    }
   ],
   "source": [
    "cubic_hermite_forms = f'''\n",
    "def interpolate_t(t, p0, dp0, p1,  dp1):\n",
    "    \"\"\"Cubic hermite interpolation of p on t in [0, 1].\"\"\"\n",
    "    return {horner_poly(p, t)}\n",
    "    \n",
    "def interpolate_dt(t, p0, dp0, p1, dp1):\n",
    "    \"\"\"Cubic hermite interpolation of dp/dt on t in [0, 1].\"\"\"\n",
    "    return {horner_poly(p.diff(t), t)}\n",
    "    \n",
    "def interpolate_to_zero_t(t, p0, dp0):\n",
    "    \"\"\"Cubic hermite interpolation of p on t in [0, 1] to (p1, dp1) == 0.\"\"\"\n",
    "    return {horner_poly(p.subs([(p1, 0), (dp1, 0)]), t)}\n",
    "    \n",
    "def interpolate_to_zero_dt(t, p0, dp0):\n",
    "    \"\"\"Cubic hermite interpolation of dp/dt on t in [0, 1] to (p1, dp1) == 0.\"\"\"\n",
    "    return {horner_poly(p.subs([(p1, 0), (dp1, 0)]), t)}\n",
    "'''\n",
    "\n",
    "display({\"text/markdown\":f\"\"\"\n",
    "```python\n",
    "{cubic_hermite_forms}\n",
    "```\n",
    "\"\"\"},\n",
    "raw=True)\n",
    "\n",
    "exec(cubic_hermite_forms)"
   ]
  }
 ],
 "metadata": {
  "kernelspec": {
   "display_name": "Python [conda env:tmol]",
   "language": "python",
   "name": "conda-env-tmol-py"
  },
  "language_info": {
   "codemirror_mode": {
    "name": "ipython",
    "version": 3
   },
   "file_extension": ".py",
   "mimetype": "text/x-python",
   "name": "python",
   "nbconvert_exporter": "python",
   "pygments_lexer": "ipython3",
   "version": "3.6.7"
  }
 },
 "nbformat": 4,
 "nbformat_minor": 2
}
