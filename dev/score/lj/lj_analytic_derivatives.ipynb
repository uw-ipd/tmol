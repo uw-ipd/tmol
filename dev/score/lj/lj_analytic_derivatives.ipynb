{
 "cells": [
  {
   "cell_type": "markdown",
   "metadata": {},
   "source": [
    "# LJ potential analyic derivatives derivation\n",
    "\n",
    "Sympy-based derivation of LJ-backward analytic form. Create sympy definitions of each segment of the LJ potential, then emit simplified/cse-eliminated forms of each segment. Segemnt functional forms are copied, with light editing, to lj.hh potential."
   ]
  },
  {
   "cell_type": "markdown",
   "metadata": {},
   "source": [
    "## Utilities\n",
    "\n",
    "Simple utility function to emit simplied/cse-elimianted C++ code for a given sympy expression."
   ]
  },
  {
   "cell_type": "code",
   "execution_count": 51,
   "metadata": {},
   "outputs": [],
   "source": [
    "import jinja2\n",
    "import sympy\n",
    "import sympy.printing\n",
    "\n",
    "def format_expression(name, full_expression):\n",
    "    subterms, expr = sympy.cse(full_expression.simplify())\n",
    "\n",
    "    template = jinja2.Template(\"\"\"\n",
    "    {% if subterms %}\n",
    "    {% for t_name, t_code in subterms %}\n",
    "    Real {{sympy.printing.cxxcode(t_code, assign_to=t_name)}}{% endfor %}\n",
    "    {% endif %}\n",
    "\n",
    "    {{sympy.printing.cxxcode(expr[0], assign_to=name)}}\n",
    "\n",
    "    \"\"\")\n",
    "\n",
    "    return template.render(sympy=sympy, subterms = subterms, expr = expr, name=name)"
   ]
  },
  {
   "cell_type": "markdown",
   "metadata": {},
   "source": [
    "## Symbolic Variables\n",
    "\n",
    "Define symbolic variables for inputs and parameters than will be used in potential segments."
   ]
  },
  {
   "cell_type": "code",
   "execution_count": 52,
   "metadata": {},
   "outputs": [],
   "source": [
    "(\n",
    "    dist,\n",
    "    lj_sigma,\n",
    "    lj_switch_slope,\n",
    "    lj_switch_intercept,\n",
    "    lj_coeff_sigma12,\n",
    "    lj_coeff_sigma6,\n",
    "    lj_spline_y0,\n",
    "    lj_spline_dy0,\n",
    "    lj_switch_dis2sigma,\n",
    "    spline_start,\n",
    "    max_dis,\n",
    ") = sympy.symbols(\"\"\"\n",
    "    dist,\n",
    "    lj_sigma,\n",
    "    lj_switch_slope,\n",
    "    lj_switch_intercept,\n",
    "    lj_coeff_sigma12,\n",
    "    lj_coeff_sigma6,\n",
    "    lj_spline_y0,\n",
    "    lj_spline_dy0,\n",
    "    lj_switch_dis2sigma,\n",
    "    spline_start,\n",
    "    max_dis,\n",
    "\"\"\")"
   ]
  },
  {
   "cell_type": "markdown",
   "metadata": {},
   "source": [
    "## Piecewise Potential\n",
    "Piecewise definition of the potential over spline, 6-12, and linear segments."
   ]
  },
  {
   "cell_type": "code",
   "execution_count": 53,
   "metadata": {},
   "outputs": [],
   "source": [
    "def lr_spline_fade():\n",
    "    x0 = spline_start\n",
    "    x1 = max_dis\n",
    "\n",
    "    x = dist\n",
    "    y0 = lj_spline_y0\n",
    "    dy0 = lj_spline_dy0\n",
    "    u0 = (3.0 / (x1 - x0)) * ((-y0) / (x1 - x0) - dy0)\n",
    "    u1 = (3.0 / (x1 - x0)) * (y0 / (x1 - x0))\n",
    "\n",
    "    return ((x - x1) * ((x - x0) * (u1 * (x0 - x) + u0 * (x - x1)) + 3.0 * y0)) / (\n",
    "        3.0 * (x0 - x1)\n",
    "    )\n",
    "\n",
    "\n",
    "def analytic():\n",
    "    invdist2 = 1.0 / (dist * dist)\n",
    "    invdist6 = invdist2 * invdist2 * invdist2\n",
    "    invdist12 = invdist6 * invdist6\n",
    "\n",
    "    return (lj_coeff_sigma12 * invdist12) + (lj_coeff_sigma6 * invdist6)\n",
    "\n",
    "\n",
    "def linear():\n",
    "    return dist * lj_switch_slope + lj_switch_intercept\n"
   ]
  },
  {
   "cell_type": "markdown",
   "metadata": {},
   "source": [
    "## Analyic Derivatives"
   ]
  },
  {
   "cell_type": "markdown",
   "metadata": {},
   "source": [
    "### Long-range spline fade"
   ]
  },
  {
   "cell_type": "code",
   "execution_count": 57,
   "metadata": {},
   "outputs": [
    {
     "name": "stdout",
     "output_type": "stream",
     "text": [
      "\n",
      "    \n",
      "    \n",
      "    Real x0 = -spline_start;\n",
      "    Real x1 = max_dis + x0;\n",
      "    Real x2 = dist + x0;\n",
      "    Real x3 = lj_spline_y0*x2;\n",
      "    Real x4 = dist - max_dis;\n",
      "    Real x5 = lj_spline_dy0*x1;\n",
      "    Real x6 = x4*(lj_spline_y0 + x5);\n",
      "    \n",
      "\n",
      "    d_lj_d_dist = 0.33333333333333331*(-3.0*lj_spline_y0*std::pow(x1, 2) + 3.0*x2*(x3 + x6) + x4*(x2*(6.0*lj_spline_y0 + 3.0*x5) + 3.0*x3 + 3.0*x6))/std::pow(x1, 3);\n",
      "\n",
      "    \n"
     ]
    }
   ],
   "source": [
    "print(\n",
    "    format_expression( \"d_lj_d_dist\", lr_spline_fade().diff(dist))\n",
    ")"
   ]
  },
  {
   "cell_type": "markdown",
   "metadata": {},
   "source": [
    "### Primary 6-12"
   ]
  },
  {
   "cell_type": "code",
   "execution_count": 58,
   "metadata": {},
   "outputs": [
    {
     "name": "stdout",
     "output_type": "stream",
     "text": [
      "\n",
      "    \n",
      "\n",
      "    d_lj_d_dist = -(6.0*std::pow(dist, 6)*lj_coeff_sigma6 + 12.0*lj_coeff_sigma12)/std::pow(dist, 13);\n",
      "\n",
      "    \n"
     ]
    }
   ],
   "source": [
    "print(\n",
    "    format_expression( \"d_lj_d_dist\", analytic().diff(dist))\n",
    ")"
   ]
  },
  {
   "cell_type": "markdown",
   "metadata": {},
   "source": [
    "### Short-range linear repulsive"
   ]
  },
  {
   "cell_type": "code",
   "execution_count": 59,
   "metadata": {},
   "outputs": [
    {
     "name": "stdout",
     "output_type": "stream",
     "text": [
      "\n",
      "    \n",
      "\n",
      "    d_lj_d_dist = lj_switch_slope;\n",
      "\n",
      "    \n"
     ]
    }
   ],
   "source": [
    "print(\n",
    "    format_expression( \"d_lj_d_dist\", linear().diff(dist))\n",
    ")"
   ]
  }
 ],
 "metadata": {
  "kernelspec": {
   "display_name": "Python [conda env:tmol]",
   "language": "python",
   "name": "conda-env-tmol-py"
  },
  "language_info": {
   "codemirror_mode": {
    "name": "ipython",
    "version": 3
   },
   "file_extension": ".py",
   "mimetype": "text/x-python",
   "name": "python",
   "nbconvert_exporter": "python",
   "pygments_lexer": "ipython3",
   "version": "3.6.6"
  }
 },
 "nbformat": 4,
 "nbformat_minor": 2
}
